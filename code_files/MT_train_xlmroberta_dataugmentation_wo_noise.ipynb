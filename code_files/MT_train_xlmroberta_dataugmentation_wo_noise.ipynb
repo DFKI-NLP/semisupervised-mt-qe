{
 "cells": [
  {
   "cell_type": "code",
   "execution_count": 92,
   "metadata": {},
   "outputs": [
    {
     "name": "stdout",
     "output_type": "stream",
     "text": [
      "Requirement already satisfied: transformers in /opt/conda/lib/python3.6/site-packages (4.17.0)\n",
      "Requirement already satisfied: importlib-metadata in /opt/conda/lib/python3.6/site-packages (from transformers) (4.4.0)\n",
      "Requirement already satisfied: dataclasses in /opt/conda/lib/python3.6/site-packages (from transformers) (0.8)\n",
      "Requirement already satisfied: filelock in /opt/conda/lib/python3.6/site-packages (from transformers) (3.4.1)\n",
      "Requirement already satisfied: packaging>=20.0 in /opt/conda/lib/python3.6/site-packages (from transformers) (20.9)\n",
      "Requirement already satisfied: requests in /opt/conda/lib/python3.6/site-packages (from transformers) (2.25.1)\n",
      "Requirement already satisfied: huggingface-hub<1.0,>=0.1.0 in /opt/conda/lib/python3.6/site-packages (from transformers) (0.4.0)\n",
      "Requirement already satisfied: sacremoses in /opt/conda/lib/python3.6/site-packages (from transformers) (0.0.47)\n",
      "Requirement already satisfied: tqdm>=4.27 in /opt/conda/lib/python3.6/site-packages (from transformers) (4.51.0)\n",
      "Requirement already satisfied: regex!=2019.12.17 in /opt/conda/lib/python3.6/site-packages (from transformers) (2022.3.2)\n",
      "Requirement already satisfied: numpy>=1.17 in /opt/conda/lib/python3.6/site-packages (from transformers) (1.19.1)\n",
      "Requirement already satisfied: pyyaml>=5.1 in /opt/conda/lib/python3.6/site-packages (from transformers) (5.4.1)\n",
      "Requirement already satisfied: tokenizers!=0.11.3,>=0.11.1 in /opt/conda/lib/python3.6/site-packages (from transformers) (0.11.6)\n",
      "Requirement already satisfied: typing-extensions>=3.7.4.3 in /opt/conda/lib/python3.6/site-packages (from huggingface-hub<1.0,>=0.1.0->transformers) (3.10.0.0)\n",
      "Requirement already satisfied: pyparsing>=2.0.2 in /opt/conda/lib/python3.6/site-packages (from packaging>=20.0->transformers) (2.4.7)\n",
      "Requirement already satisfied: zipp>=0.5 in /opt/conda/lib/python3.6/site-packages (from importlib-metadata->transformers) (3.4.1)\n",
      "Requirement already satisfied: urllib3<1.27,>=1.21.1 in /opt/conda/lib/python3.6/site-packages (from requests->transformers) (1.25.11)\n",
      "Requirement already satisfied: idna<3,>=2.5 in /opt/conda/lib/python3.6/site-packages (from requests->transformers) (2.10)\n",
      "Requirement already satisfied: certifi>=2017.4.17 in /opt/conda/lib/python3.6/site-packages (from requests->transformers) (2021.5.30)\n",
      "Requirement already satisfied: chardet<5,>=3.0.2 in /opt/conda/lib/python3.6/site-packages (from requests->transformers) (3.0.4)\n",
      "Requirement already satisfied: joblib in /opt/conda/lib/python3.6/site-packages (from sacremoses->transformers) (1.0.1)\n",
      "Requirement already satisfied: six in /opt/conda/lib/python3.6/site-packages (from sacremoses->transformers) (1.16.0)\n",
      "Requirement already satisfied: click in /opt/conda/lib/python3.6/site-packages (from sacremoses->transformers) (7.1.2)\n",
      "\u001b[33mWARNING: Running pip as root will break packages and permissions. You should install packages reliably by using venv: https://pip.pypa.io/warnings/venv\u001b[0m\n",
      "Requirement already satisfied: sentencepiece in /opt/conda/lib/python3.6/site-packages (0.1.96)\n",
      "\u001b[33mWARNING: Running pip as root will break packages and permissions. You should install packages reliably by using venv: https://pip.pypa.io/warnings/venv\u001b[0m\n",
      "Requirement already satisfied: nltk in /opt/conda/lib/python3.6/site-packages (3.6.7)\n",
      "Requirement already satisfied: click in /opt/conda/lib/python3.6/site-packages (from nltk) (7.1.2)\n",
      "Requirement already satisfied: tqdm in /opt/conda/lib/python3.6/site-packages (from nltk) (4.51.0)\n",
      "Requirement already satisfied: joblib in /opt/conda/lib/python3.6/site-packages (from nltk) (1.0.1)\n",
      "Requirement already satisfied: regex>=2021.8.3 in /opt/conda/lib/python3.6/site-packages (from nltk) (2022.3.2)\n",
      "\u001b[33mWARNING: Running pip as root will break packages and permissions. You should install packages reliably by using venv: https://pip.pypa.io/warnings/venv\u001b[0m\n",
      "Requirement already satisfied: ipywidgets in /opt/conda/lib/python3.6/site-packages (7.6.5)\n",
      "Requirement already satisfied: nbformat>=4.2.0 in /opt/conda/lib/python3.6/site-packages (from ipywidgets) (5.1.3)\n",
      "Requirement already satisfied: ipython>=4.0.0 in /opt/conda/lib/python3.6/site-packages (from ipywidgets) (7.16.3)\n",
      "Requirement already satisfied: traitlets>=4.3.1 in /opt/conda/lib/python3.6/site-packages (from ipywidgets) (4.3.3)\n",
      "Requirement already satisfied: widgetsnbextension~=3.5.0 in /opt/conda/lib/python3.6/site-packages (from ipywidgets) (3.5.2)\n",
      "Requirement already satisfied: jupyterlab-widgets>=1.0.0 in /opt/conda/lib/python3.6/site-packages (from ipywidgets) (1.0.2)\n",
      "Requirement already satisfied: ipython-genutils~=0.2.0 in /opt/conda/lib/python3.6/site-packages (from ipywidgets) (0.2.0)\n",
      "Requirement already satisfied: ipykernel>=4.5.1 in /opt/conda/lib/python3.6/site-packages (from ipywidgets) (5.5.6)\n",
      "Requirement already satisfied: jupyter-client in /opt/conda/lib/python3.6/site-packages (from ipykernel>=4.5.1->ipywidgets) (7.1.2)\n",
      "Requirement already satisfied: tornado>=4.2 in /opt/conda/lib/python3.6/site-packages (from ipykernel>=4.5.1->ipywidgets) (6.1)\n",
      "Requirement already satisfied: jedi<=0.17.2,>=0.10 in /opt/conda/lib/python3.6/site-packages (from ipython>=4.0.0->ipywidgets) (0.17.2)\n",
      "Requirement already satisfied: pickleshare in /opt/conda/lib/python3.6/site-packages (from ipython>=4.0.0->ipywidgets) (0.7.5)\n",
      "Requirement already satisfied: pexpect in /opt/conda/lib/python3.6/site-packages (from ipython>=4.0.0->ipywidgets) (4.8.0)\n",
      "Requirement already satisfied: setuptools>=18.5 in /opt/conda/lib/python3.6/site-packages (from ipython>=4.0.0->ipywidgets) (59.3.0)\n",
      "Requirement already satisfied: pygments in /opt/conda/lib/python3.6/site-packages (from ipython>=4.0.0->ipywidgets) (2.11.2)\n",
      "Requirement already satisfied: prompt-toolkit!=3.0.0,!=3.0.1,<3.1.0,>=2.0.0 in /opt/conda/lib/python3.6/site-packages (from ipython>=4.0.0->ipywidgets) (3.0.26)\n",
      "Requirement already satisfied: backcall in /opt/conda/lib/python3.6/site-packages (from ipython>=4.0.0->ipywidgets) (0.2.0)\n",
      "Requirement already satisfied: decorator in /opt/conda/lib/python3.6/site-packages (from ipython>=4.0.0->ipywidgets) (5.1.1)\n",
      "Requirement already satisfied: parso<0.8.0,>=0.7.0 in /opt/conda/lib/python3.6/site-packages (from jedi<=0.17.2,>=0.10->ipython>=4.0.0->ipywidgets) (0.7.1)\n",
      "Requirement already satisfied: jupyter-core in /opt/conda/lib/python3.6/site-packages (from nbformat>=4.2.0->ipywidgets) (4.9.1)\n",
      "Requirement already satisfied: jsonschema!=2.5.0,>=2.4 in /opt/conda/lib/python3.6/site-packages (from nbformat>=4.2.0->ipywidgets) (3.2.0)\n",
      "Requirement already satisfied: six>=1.11.0 in /opt/conda/lib/python3.6/site-packages (from jsonschema!=2.5.0,>=2.4->nbformat>=4.2.0->ipywidgets) (1.16.0)\n",
      "Requirement already satisfied: pyrsistent>=0.14.0 in /opt/conda/lib/python3.6/site-packages (from jsonschema!=2.5.0,>=2.4->nbformat>=4.2.0->ipywidgets) (0.18.0)\n",
      "Requirement already satisfied: attrs>=17.4.0 in /opt/conda/lib/python3.6/site-packages (from jsonschema!=2.5.0,>=2.4->nbformat>=4.2.0->ipywidgets) (21.2.0)\n",
      "Requirement already satisfied: importlib-metadata in /opt/conda/lib/python3.6/site-packages (from jsonschema!=2.5.0,>=2.4->nbformat>=4.2.0->ipywidgets) (4.4.0)\n",
      "Requirement already satisfied: wcwidth in /opt/conda/lib/python3.6/site-packages (from prompt-toolkit!=3.0.0,!=3.0.1,<3.1.0,>=2.0.0->ipython>=4.0.0->ipywidgets) (0.2.5)\n",
      "Requirement already satisfied: notebook>=4.4.1 in /opt/conda/lib/python3.6/site-packages (from widgetsnbextension~=3.5.0->ipywidgets) (6.4.8)\n",
      "Requirement already satisfied: Send2Trash>=1.8.0 in /opt/conda/lib/python3.6/site-packages (from notebook>=4.4.1->widgetsnbextension~=3.5.0->ipywidgets) (1.8.0)\n",
      "Requirement already satisfied: argon2-cffi in /opt/conda/lib/python3.6/site-packages (from notebook>=4.4.1->widgetsnbextension~=3.5.0->ipywidgets) (21.3.0)\n",
      "Requirement already satisfied: terminado>=0.8.3 in /opt/conda/lib/python3.6/site-packages (from notebook>=4.4.1->widgetsnbextension~=3.5.0->ipywidgets) (0.12.1)\n",
      "Requirement already satisfied: jinja2 in /opt/conda/lib/python3.6/site-packages (from notebook>=4.4.1->widgetsnbextension~=3.5.0->ipywidgets) (3.0.1)\n",
      "Requirement already satisfied: nest-asyncio>=1.5 in /opt/conda/lib/python3.6/site-packages (from notebook>=4.4.1->widgetsnbextension~=3.5.0->ipywidgets) (1.5.4)\n",
      "Requirement already satisfied: nbconvert in /opt/conda/lib/python3.6/site-packages (from notebook>=4.4.1->widgetsnbextension~=3.5.0->ipywidgets) (6.0.7)\n",
      "Requirement already satisfied: prometheus-client in /opt/conda/lib/python3.6/site-packages (from notebook>=4.4.1->widgetsnbextension~=3.5.0->ipywidgets) (0.13.1)\n",
      "Requirement already satisfied: pyzmq>=17 in /opt/conda/lib/python3.6/site-packages (from notebook>=4.4.1->widgetsnbextension~=3.5.0->ipywidgets) (22.1.0)\n",
      "Requirement already satisfied: entrypoints in /opt/conda/lib/python3.6/site-packages (from jupyter-client->ipykernel>=4.5.1->ipywidgets) (0.3)\n",
      "Requirement already satisfied: python-dateutil>=2.1 in /opt/conda/lib/python3.6/site-packages (from jupyter-client->ipykernel>=4.5.1->ipywidgets) (2.8.2)\n",
      "Requirement already satisfied: ptyprocess in /opt/conda/lib/python3.6/site-packages (from terminado>=0.8.3->notebook>=4.4.1->widgetsnbextension~=3.5.0->ipywidgets) (0.7.0)\n",
      "Requirement already satisfied: dataclasses in /opt/conda/lib/python3.6/site-packages (from argon2-cffi->notebook>=4.4.1->widgetsnbextension~=3.5.0->ipywidgets) (0.8)\n",
      "Requirement already satisfied: typing-extensions in /opt/conda/lib/python3.6/site-packages (from argon2-cffi->notebook>=4.4.1->widgetsnbextension~=3.5.0->ipywidgets) (3.10.0.0)\n",
      "Requirement already satisfied: argon2-cffi-bindings in /opt/conda/lib/python3.6/site-packages (from argon2-cffi->notebook>=4.4.1->widgetsnbextension~=3.5.0->ipywidgets) (21.2.0)\n",
      "Requirement already satisfied: cffi>=1.0.1 in /opt/conda/lib/python3.6/site-packages (from argon2-cffi-bindings->argon2-cffi->notebook>=4.4.1->widgetsnbextension~=3.5.0->ipywidgets) (1.14.5)\n",
      "Requirement already satisfied: pycparser in /opt/conda/lib/python3.6/site-packages (from cffi>=1.0.1->argon2-cffi-bindings->argon2-cffi->notebook>=4.4.1->widgetsnbextension~=3.5.0->ipywidgets) (2.20)\n",
      "Requirement already satisfied: zipp>=0.5 in /opt/conda/lib/python3.6/site-packages (from importlib-metadata->jsonschema!=2.5.0,>=2.4->nbformat>=4.2.0->ipywidgets) (3.4.1)\n",
      "Requirement already satisfied: MarkupSafe>=2.0 in /opt/conda/lib/python3.6/site-packages (from jinja2->notebook>=4.4.1->widgetsnbextension~=3.5.0->ipywidgets) (2.0.1)\n",
      "Requirement already satisfied: pandocfilters>=1.4.1 in /opt/conda/lib/python3.6/site-packages (from nbconvert->notebook>=4.4.1->widgetsnbextension~=3.5.0->ipywidgets) (1.5.0)\n",
      "Requirement already satisfied: testpath in /opt/conda/lib/python3.6/site-packages (from nbconvert->notebook>=4.4.1->widgetsnbextension~=3.5.0->ipywidgets) (0.6.0)\n",
      "Requirement already satisfied: defusedxml in /opt/conda/lib/python3.6/site-packages (from nbconvert->notebook>=4.4.1->widgetsnbextension~=3.5.0->ipywidgets) (0.7.1)\n",
      "Requirement already satisfied: nbclient<0.6.0,>=0.5.0 in /opt/conda/lib/python3.6/site-packages (from nbconvert->notebook>=4.4.1->widgetsnbextension~=3.5.0->ipywidgets) (0.5.9)\n",
      "Requirement already satisfied: mistune<2,>=0.8.1 in /opt/conda/lib/python3.6/site-packages (from nbconvert->notebook>=4.4.1->widgetsnbextension~=3.5.0->ipywidgets) (0.8.4)\n",
      "Requirement already satisfied: jupyterlab-pygments in /opt/conda/lib/python3.6/site-packages (from nbconvert->notebook>=4.4.1->widgetsnbextension~=3.5.0->ipywidgets) (0.1.2)\n",
      "Requirement already satisfied: bleach in /opt/conda/lib/python3.6/site-packages (from nbconvert->notebook>=4.4.1->widgetsnbextension~=3.5.0->ipywidgets) (4.1.0)\n",
      "Requirement already satisfied: async-generator in /opt/conda/lib/python3.6/site-packages (from nbclient<0.6.0,>=0.5.0->nbconvert->notebook>=4.4.1->widgetsnbextension~=3.5.0->ipywidgets) (1.10)\n",
      "Requirement already satisfied: packaging in /opt/conda/lib/python3.6/site-packages (from bleach->nbconvert->notebook>=4.4.1->widgetsnbextension~=3.5.0->ipywidgets) (20.9)\n",
      "Requirement already satisfied: webencodings in /opt/conda/lib/python3.6/site-packages (from bleach->nbconvert->notebook>=4.4.1->widgetsnbextension~=3.5.0->ipywidgets) (0.5.1)\n",
      "Requirement already satisfied: pyparsing>=2.0.2 in /opt/conda/lib/python3.6/site-packages (from packaging->bleach->nbconvert->notebook>=4.4.1->widgetsnbextension~=3.5.0->ipywidgets) (2.4.7)\n",
      "\u001b[33mWARNING: Running pip as root will break packages and permissions. You should install packages reliably by using venv: https://pip.pypa.io/warnings/venv\u001b[0m\n",
      "Requirement already satisfied: tensorboard in /opt/conda/lib/python3.6/site-packages (2.8.0)\n",
      "Requirement already satisfied: tensorboard-plugin-wit>=1.6.0 in /opt/conda/lib/python3.6/site-packages (from tensorboard) (1.8.1)\n",
      "Requirement already satisfied: tensorboard-data-server<0.7.0,>=0.6.0 in /opt/conda/lib/python3.6/site-packages (from tensorboard) (0.6.1)\n",
      "Requirement already satisfied: google-auth<3,>=1.6.3 in /opt/conda/lib/python3.6/site-packages (from tensorboard) (2.6.0)\n",
      "Requirement already satisfied: setuptools>=41.0.0 in /opt/conda/lib/python3.6/site-packages (from tensorboard) (59.3.0)\n",
      "Requirement already satisfied: grpcio>=1.24.3 in /opt/conda/lib/python3.6/site-packages (from tensorboard) (1.44.0)\n",
      "Requirement already satisfied: wheel>=0.26 in /opt/conda/lib/python3.6/site-packages (from tensorboard) (0.35.1)\n",
      "Requirement already satisfied: requests<3,>=2.21.0 in /opt/conda/lib/python3.6/site-packages (from tensorboard) (2.25.1)\n",
      "Requirement already satisfied: google-auth-oauthlib<0.5,>=0.4.1 in /opt/conda/lib/python3.6/site-packages (from tensorboard) (0.4.6)\n",
      "Requirement already satisfied: werkzeug>=0.11.15 in /opt/conda/lib/python3.6/site-packages (from tensorboard) (2.0.1)\n",
      "Requirement already satisfied: numpy>=1.12.0 in /opt/conda/lib/python3.6/site-packages (from tensorboard) (1.19.1)\n",
      "Requirement already satisfied: protobuf>=3.6.0 in /opt/conda/lib/python3.6/site-packages (from tensorboard) (3.17.1)\n",
      "Requirement already satisfied: absl-py>=0.4 in /opt/conda/lib/python3.6/site-packages (from tensorboard) (1.0.0)\n",
      "Requirement already satisfied: markdown>=2.6.8 in /opt/conda/lib/python3.6/site-packages (from tensorboard) (3.3.6)\n",
      "Requirement already satisfied: six in /opt/conda/lib/python3.6/site-packages (from absl-py>=0.4->tensorboard) (1.16.0)\n",
      "Requirement already satisfied: rsa<5,>=3.1.4 in /opt/conda/lib/python3.6/site-packages (from google-auth<3,>=1.6.3->tensorboard) (4.7.2)\n",
      "Requirement already satisfied: cachetools<6.0,>=2.0.0 in /opt/conda/lib/python3.6/site-packages (from google-auth<3,>=1.6.3->tensorboard) (4.2.4)\n",
      "Requirement already satisfied: pyasn1-modules>=0.2.1 in /opt/conda/lib/python3.6/site-packages (from google-auth<3,>=1.6.3->tensorboard) (0.2.8)\n",
      "Requirement already satisfied: requests-oauthlib>=0.7.0 in /opt/conda/lib/python3.6/site-packages (from google-auth-oauthlib<0.5,>=0.4.1->tensorboard) (1.3.1)\n",
      "Requirement already satisfied: importlib-metadata>=4.4 in /opt/conda/lib/python3.6/site-packages (from markdown>=2.6.8->tensorboard) (4.4.0)\n",
      "Requirement already satisfied: typing-extensions>=3.6.4 in /opt/conda/lib/python3.6/site-packages (from importlib-metadata>=4.4->markdown>=2.6.8->tensorboard) (3.10.0.0)\n",
      "Requirement already satisfied: zipp>=0.5 in /opt/conda/lib/python3.6/site-packages (from importlib-metadata>=4.4->markdown>=2.6.8->tensorboard) (3.4.1)\n",
      "Requirement already satisfied: pyasn1<0.5.0,>=0.4.6 in /opt/conda/lib/python3.6/site-packages (from pyasn1-modules>=0.2.1->google-auth<3,>=1.6.3->tensorboard) (0.4.8)\n",
      "Requirement already satisfied: idna<3,>=2.5 in /opt/conda/lib/python3.6/site-packages (from requests<3,>=2.21.0->tensorboard) (2.10)\n",
      "Requirement already satisfied: certifi>=2017.4.17 in /opt/conda/lib/python3.6/site-packages (from requests<3,>=2.21.0->tensorboard) (2021.5.30)\n",
      "Requirement already satisfied: urllib3<1.27,>=1.21.1 in /opt/conda/lib/python3.6/site-packages (from requests<3,>=2.21.0->tensorboard) (1.25.11)\n",
      "Requirement already satisfied: chardet<5,>=3.0.2 in /opt/conda/lib/python3.6/site-packages (from requests<3,>=2.21.0->tensorboard) (3.0.4)\n",
      "Requirement already satisfied: oauthlib>=3.0.0 in /opt/conda/lib/python3.6/site-packages (from requests-oauthlib>=0.7.0->google-auth-oauthlib<0.5,>=0.4.1->tensorboard) (3.2.0)\n",
      "Requirement already satisfied: dataclasses in /opt/conda/lib/python3.6/site-packages (from werkzeug>=0.11.15->tensorboard) (0.8)\n",
      "\u001b[33mWARNING: Running pip as root will break packages and permissions. You should install packages reliably by using venv: https://pip.pypa.io/warnings/venv\u001b[0m\n"
     ]
    }
   ],
   "source": [
    "!pip install transformers\n",
    "!pip install sentencepiece\n",
    "!pip install nltk\n",
    "!pip install ipywidgets\n",
    "!pip install tensorboard"
   ]
  },
  {
   "cell_type": "code",
   "execution_count": 93,
   "metadata": {},
   "outputs": [],
   "source": [
    "import pandas as pd\n",
    "import numpy as np\n",
    "import random\n",
    "import joblib\n",
    "import torch\n",
    "import matplotlib.pyplot as plt\n",
    "from sklearn import preprocessing\n",
    "from sklearn import model_selection\n",
    "# from DataAugmentation \n",
    "from data_utils import loadDatafromFile,createTokenizedDf,CompDataset,createkfoldData,createDataloaders\n",
    "from data_utils_unlabelled import loadUnlabelledDatafromFile,createTokenizedDfUnlabelled,CompDatasetUnlabelled\n",
    "from DataAugmentation import DataAugmentation\n",
    "from transformers import AdamW\n",
    "from transformers import get_linear_schedule_with_warmup\n",
    "from importlib import reload\n",
    "import config\n",
    "from transformers import XLMRobertaForTokenClassification, XLMRobertaConfig ,BertModel, XLMRobertaTokenizer, XLMRobertaModel, BertForTokenClassification\n",
    "from seqeval.metrics import accuracy_score, classification_report\n",
    "from sklearn.metrics import matthews_corrcoef,classification_report,f1_score\n",
    "import engine\n",
    "# from model_new import EntityModel\n",
    "import torch.nn as nn\n",
    "from tqdm import tqdm\n",
    "from torch.utils.tensorboard import SummaryWriter\n"
   ]
  },
  {
   "cell_type": "code",
   "execution_count": 94,
   "metadata": {},
   "outputs": [],
   "source": [
    "# consistency_weight = 100.0 # max weights till you want a ramp-up, will be this value after rampup epoch is reached\n",
    "# consistency_rampup = 1000 # till what epochs rampup is needed"
   ]
  },
  {
   "cell_type": "code",
   "execution_count": 102,
   "metadata": {},
   "outputs": [],
   "source": [
    "# config = reload(config)"
   ]
  },
  {
   "cell_type": "code",
   "execution_count": 95,
   "metadata": {},
   "outputs": [],
   "source": [
    "\n",
    "def sigmoid_rampup(current, rampup_length):\n",
    "    \"\"\"Exponential rampup from https://arxiv.org/abs/1610.02242\"\"\"\n",
    "    if rampup_length == 0:\n",
    "        return 1.0\n",
    "    else:\n",
    "        current = np.clip(current, 0.0, rampup_length)\n",
    "        phase = 1.0 - current / rampup_length\n",
    "        return float(np.exp(-5.0 * phase * phase))"
   ]
  },
  {
   "cell_type": "code",
   "execution_count": 96,
   "metadata": {},
   "outputs": [],
   "source": [
    "def get_consistency_weight(epoch):\n",
    "        # Consistency ramp-up from https://arxiv.org/abs/1610.02242\n",
    "        return config.consistency_weight * sigmoid_rampup(\n",
    "            epoch, config.consistency_rampup)"
   ]
  },
  {
   "cell_type": "code",
   "execution_count": 3,
   "metadata": {},
   "outputs": [],
   "source": [
    "def get_consistency_weight(epoch):\n",
    "        # Consistency ramp-up from https://arxiv.org/abs/1610.02242\n",
    "        return 1* sigmoid_rampup(\n",
    "            epoch, 4)"
   ]
  },
  {
   "cell_type": "code",
   "execution_count": 43,
   "metadata": {},
   "outputs": [],
   "source": [
    "# lst = np.arange(0,10,1)\n",
    "# for item in lst :\n",
    "#     print(get_consistency_weight(item))"
   ]
  },
  {
   "cell_type": "code",
   "execution_count": 4,
   "metadata": {},
   "outputs": [
    {
     "ename": "NameError",
     "evalue": "name 'np' is not defined",
     "output_type": "error",
     "traceback": [
      "\u001b[0;31m---------------------------------------------------------------------------\u001b[0m",
      "\u001b[0;31mNameError\u001b[0m                                 Traceback (most recent call last)",
      "\u001b[0;32m<ipython-input-4-d5c00ed77183>\u001b[0m in \u001b[0;36m<module>\u001b[0;34m\u001b[0m\n\u001b[0;32m----> 1\u001b[0;31m \u001b[0mlst\u001b[0m \u001b[0;34m=\u001b[0m \u001b[0mnp\u001b[0m\u001b[0;34m.\u001b[0m\u001b[0marange\u001b[0m\u001b[0;34m(\u001b[0m\u001b[0;36m0\u001b[0m\u001b[0;34m,\u001b[0m\u001b[0;36m5\u001b[0m\u001b[0;34m,\u001b[0m\u001b[0;36m1\u001b[0m\u001b[0;34m)\u001b[0m\u001b[0;34m\u001b[0m\u001b[0;34m\u001b[0m\u001b[0m\n\u001b[0m\u001b[1;32m      2\u001b[0m \u001b[0;32mfor\u001b[0m \u001b[0mitem\u001b[0m \u001b[0;32min\u001b[0m \u001b[0mlst\u001b[0m \u001b[0;34m:\u001b[0m\u001b[0;34m\u001b[0m\u001b[0;34m\u001b[0m\u001b[0m\n\u001b[1;32m      3\u001b[0m \u001b[0;34m\u001b[0m\u001b[0m\n\u001b[1;32m      4\u001b[0m     \u001b[0mprint\u001b[0m\u001b[0;34m(\u001b[0m\u001b[0mget_consistency_weight\u001b[0m\u001b[0;34m(\u001b[0m\u001b[0mitem\u001b[0m\u001b[0;34m)\u001b[0m\u001b[0;34m)\u001b[0m\u001b[0;34m\u001b[0m\u001b[0;34m\u001b[0m\u001b[0m\n",
      "\u001b[0;31mNameError\u001b[0m: name 'np' is not defined"
     ]
    }
   ],
   "source": [
    "lst = np.arange(0,5,1)\n",
    "for item in lst :\n",
    "    \n",
    "    print(get_consistency_weight(item))"
   ]
  },
  {
   "cell_type": "code",
   "execution_count": 91,
   "metadata": {},
   "outputs": [],
   "source": [
    "# def ramp_up(epoch, max_epochs, max_val):\n",
    "#     if epoch == 0:\n",
    "#         return 0.\n",
    "#     elif epoch >= max_epochs:\n",
    "#         return max_val\n",
    "#     return max_val * np.exp(-5 * (1. - float(epoch) / max_epochs) ** 2)\n",
    "\n",
    "\n",
    "# def weight_schedule(epoch, max_epochs, max_val, n_labeled, n_samples):\n",
    "#     max_val = max_val * (float(n_labeled) / n_samples)\n",
    "#     return ramp_up(epoch, max_epochs, max_val)"
   ]
  },
  {
   "cell_type": "code",
   "execution_count": 10,
   "metadata": {},
   "outputs": [],
   "source": [
    "# weight_schedule(25, 10, 1.0, 1000, 10000)"
   ]
  },
  {
   "cell_type": "code",
   "execution_count": 104,
   "metadata": {},
   "outputs": [],
   "source": [
    "#setting seed\n",
    "def set_seed():\n",
    "    \n",
    "    torch.manual_seed(config.random_seed)\n",
    "    np.random.seed(config.random_seed)\n",
    "    random.seed(config.random_seed)\n",
    "    torch.cuda.manual_seed(config.random_seed)\n",
    "set_seed()    "
   ]
  },
  {
   "cell_type": "code",
   "execution_count": 105,
   "metadata": {},
   "outputs": [],
   "source": [
    "import os\n",
    "from torch.utils.tensorboard import SummaryWriter\n",
    "from torch.utils.tensorboard.summary import hparams\n",
    "\n",
    "class SummaryWriter(SummaryWriter):\n",
    "    def add_hparams(self, hparam_dict, metric_dict):\n",
    "        torch._C._log_api_usage_once(\"tensorboard.logging.add_hparams\")\n",
    "        if type(hparam_dict) is not dict or type(metric_dict) is not dict:\n",
    "            raise TypeError('hparam_dict and metric_dict should be dictionary.')\n",
    "        exp, ssi, sei = hparams(hparam_dict, metric_dict)\n",
    "\n",
    "        logdir = self._get_file_writer().get_logdir()\n",
    "        \n",
    "        with SummaryWriter(log_dir=logdir) as w_hp:\n",
    "            w_hp.file_writer.add_summary(exp)\n",
    "            w_hp.file_writer.add_summary(ssi)\n",
    "            w_hp.file_writer.add_summary(sei)\n",
    "            for k, v in metric_dict.items():\n",
    "                w_hp.add_scalar(k, v)"
   ]
  },
  {
   "cell_type": "code",
   "execution_count": 14,
   "metadata": {},
   "outputs": [],
   "source": [
    "# Read the labelled data\n",
    "# def process_data_labelled(filePath_src,filePath_tar, filePath_srcTags,filePath_tarTags,\n",
    "#                  filePath_src_eval,filePath_tar_eval, filePath_srcTags_eval,filePath_tarTags_eval,\n",
    "#                  model_type='xlm'):\n",
    "    \n",
    "    \n",
    "#     dataObjTrain = loadDatafromFile(filePath_src,filePath_tar, filePath_srcTags,filePath_tarTags)\n",
    "#     df_train= dataObjTrain.createDf() # get dataframe from files    \n",
    "#     dataObjEval = loadDatafromFile(filePath_src_eval,filePath_tar_eval, filePath_srcTags_eval,filePath_tarTags_eval)\n",
    "#     df_eval = dataObjEval.createDf()\n",
    "#     df_combined = df_train.append(df_eval, ignore_index=True)\n",
    "#     df_combined.reset_index(drop=True)\n",
    "#     split_ratio_len = int(len(df_combined) - config.test_split_ratio*len(df_combined))\n",
    "#     df_train_splitted = df_combined.iloc[:split_ratio_len,:]\n",
    "#     df_eval_splitted = df_combined.iloc[split_ratio_len:,:]\n",
    "#     if len(df_eval_splitted) > config.limit_eval_data:\n",
    "#         len_train_unlabel = len(df_eval_splitted) - config.limit_eval_data # 4800 - 2500 = 2300 \n",
    "#         df_eval = df_eval_splitted[:config.limit_eval_data] # [:2500]\n",
    "#         df_unlabelled_train = df_eval_splitted[config.limit_eval_data: len(df_eval_splitted)] # [2500:4800]\n",
    "#         df_unlabelled_train = df_unlabelled_train.reset_index(drop=True)\n",
    "#     obj_tokenized_train = createTokenizedDf(df_train_splitted,model_type)\n",
    "#     obj_tokenized_test = createTokenizedDf(df_eval,model_type)\n",
    "#     df_new_train = obj_tokenized_train.convertDf()\n",
    "#     df_new_eval = obj_tokenized_test.convertDf()\n",
    "#     train_data = CompDataset(df_new_train,model_type)\n",
    "#     test_data = CompDataset(df_new_eval,model_type)\n",
    "#     if len(df_eval_splitted) > config.limit_eval_data:\n",
    "#         return train_data,test_data, df_unlabelled_train\n",
    "#     else:\n",
    "#         return train_data,test_data , None\n"
   ]
  },
  {
   "cell_type": "code",
   "execution_count": 158,
   "metadata": {},
   "outputs": [],
   "source": [
    "def process_data_labelled(filePath_src,filePath_tar, filePath_srcTags,filePath_tarTags,\n",
    "                 filePath_src_eval,filePath_tar_eval, filePath_srcTags_eval,filePath_tarTags_eval,\n",
    "                 model_type='xlm'):\n",
    "    \n",
    "    \n",
    "    dataObjTrain = loadDatafromFile(filePath_src,filePath_tar, filePath_srcTags,filePath_tarTags)\n",
    "    df_train= dataObjTrain.createDf() # get dataframe from files    \n",
    "    dataObjEval = loadDatafromFile(filePath_src_eval,filePath_tar_eval, filePath_srcTags_eval,filePath_tarTags_eval)\n",
    "    df_eval = dataObjEval.createDf()\n",
    "    df_combined = df_train.append(df_eval, ignore_index=True)\n",
    "    df_combined.reset_index(drop=True)\n",
    "    split_ratio_len = int(len(df_combined) - config.test_split_ratio*len(df_combined))\n",
    "    df_train_splitted = df_combined.iloc[:split_ratio_len,:]\n",
    "    df_eval_splitted = df_combined.iloc[split_ratio_len:,:]\n",
    "    df_train_splitted_ = df_train_splitted[1600:2100]\n",
    "    df_unlabel_splitted = df_train_splitted[2100:3600]\n",
    "    df_unlabel_splitted = df_unlabel_splitted.reset_index(drop=True)\n",
    "    df_eval_splitted = df_eval_splitted[:1000]\n",
    "    obj_tokenized_train = createTokenizedDf(df_train_splitted_,model_type)\n",
    "    obj_tokenized_test = createTokenizedDf(df_eval_splitted,model_type)\n",
    "    df_new_train = obj_tokenized_train.convertDf()\n",
    "    df_new_eval = obj_tokenized_test.convertDf()\n",
    "    train_data = CompDataset(df_new_train,model_type)\n",
    "    test_data = CompDataset(df_new_eval,model_type)\n",
    "    return train_data,test_data,df_unlabel_splitted"
   ]
  },
  {
   "cell_type": "code",
   "execution_count": 159,
   "metadata": {},
   "outputs": [],
   "source": [
    "# # Read the labelled data\n",
    "# def process_data_labelled(filePath_src,filePath_tar, filePath_srcTags,filePath_tarTags,\n",
    "#                  filePath_src_eval,filePath_tar_eval, filePath_srcTags_eval,filePath_tarTags_eval,\n",
    "#                  model_type='xlm'):\n",
    "    \n",
    "    \n",
    "#     dataObjTrain = loadDatafromFile(filePath_src,filePath_tar, filePath_srcTags,filePath_tarTags)\n",
    "#     df_train= dataObjTrain.createDf() # get dataframe from files    \n",
    "#     df_train = df_train.sample(frac=1).reset_index(drop=True)\n",
    "#     df_train=df_train.iloc[:500,:]\n",
    "#     dataObjEval = loadDatafromFile(filePath_src_eval,filePath_tar_eval, filePath_srcTags_eval,filePath_tarTags_eval)\n",
    "#     df_eval = dataObjEval.createDf()\n",
    "#     obj_tokenized_train = createTokenizedDf(df_train,model_type)\n",
    "#     obj_tokenized_test = createTokenizedDf(df_eval,model_type)\n",
    "#     df_new_train = obj_tokenized_train.convertDf()\n",
    "#     df_new_eval = obj_tokenized_test.convertDf()\n",
    "#     train_data = CompDataset(df_new_train,model_type)\n",
    "#     test_data = CompDataset(df_new_eval,model_type)\n",
    "#     return train_data,test_data\n"
   ]
  },
  {
   "cell_type": "code",
   "execution_count": 160,
   "metadata": {},
   "outputs": [],
   "source": [
    "train_data , eval_data, df_unlabel = process_data_labelled(config.filePath_src,config.filePath_tar, config.filePath_srcTags,config.filePath_tarTags,\n",
    "                                                config.filePath_src_eval,config.filePath_tar_eval, config.filePath_srcTags_eval,\n",
    "                                                config.filePath_tarTags_eval)"
   ]
  },
  {
   "cell_type": "code",
   "execution_count": 162,
   "metadata": {},
   "outputs": [
    {
     "name": "stdout",
     "output_type": "stream",
     "text": [
      "500\n",
      "1000\n"
     ]
    },
    {
     "data": {
      "text/plain": [
       "1500"
      ]
     },
     "execution_count": 162,
     "metadata": {},
     "output_type": "execute_result"
    }
   ],
   "source": [
    "len_labelled_data = len(train_data)\n",
    "len_eval_data = len(eval_data)\n",
    "print(len_labelled_data)\n",
    "print(len_eval_data)\n",
    "len(df_unlabel)"
   ]
  },
  {
   "cell_type": "code",
   "execution_count": 13,
   "metadata": {},
   "outputs": [],
   "source": [
    "# def process_data_unlabelled(filePath_src,filePath_tar,len_train_data,df_unlabelled_train,model_type):\n",
    "    \n",
    "#     dataObj = loadUnlabelledDatafromFile(filePath_src,filePath_tar)\n",
    "#     df= dataObj.createDfUnlabelled() # get dataframe from files\n",
    "#     df['len_src'] = df['source'].str.split().map(lambda x:len(x))\n",
    "#     df['len_tar'] = df['target'].str.split().map(lambda x:len(x))\n",
    "    \n",
    "#     df = df[df.len_tar != 36]\n",
    "#     df = df[df.len_tar != 2]\n",
    "#     df = df[df.len_src != 1]\n",
    "    \n",
    "#     df = df.iloc[:,:-2]\n",
    "#     df = df.reset_index(drop=True)\n",
    "#     df_unlabelled_train = df_unlabelled_train.iloc[:,:-2]\n",
    "#     df_new = df.append(df_unlabelled_train, ignore_index = True)\n",
    "#     len_unlabelled_needed = config.fix_train_size - len_train_data\n",
    "#     df_new=df_new[:len_unlabelled_needed]\n",
    "# #     print(df_new)\n",
    "    \n",
    "#     obj_tokenized = createTokenizedDfUnlabelled(df_new,model_type)\n",
    "#     df_unlabelled= obj_tokenized.convertDf()\n",
    "# #     enc_label = preprocessing.LabelEncoder()\n",
    "# #     df_new['labels']= enc_label.fit_transform(df_new['labels'])\n",
    "#     train_data = CompDatasetUnlabelled(df_unlabelled,model_type)\n",
    "#     return df_new,train_data\n"
   ]
  },
  {
   "cell_type": "code",
   "execution_count": 163,
   "metadata": {},
   "outputs": [],
   "source": [
    "def process_data_unlabelled(filePath_src,filePath_tar,df_unlabel, model_type):\n",
    "    \n",
    "    dataObj = loadUnlabelledDatafromFile(filePath_src,filePath_tar)\n",
    "    df= dataObj.createDfUnlabelled() # get dataframe from files\n",
    "    df['len_src'] = df['source'].str.split().map(lambda x:len(x))\n",
    "    df['len_tar'] = df['target'].str.split().map(lambda x:len(x))\n",
    "    \n",
    "    df = df[df.len_tar != 36]\n",
    "    df = df[df.len_tar != 2]\n",
    "    df = df[df.len_src != 1]\n",
    "    \n",
    "    df=df.iloc[:,:-2]\n",
    "#     df=df.iloc[:1000,:]\n",
    "    df = df[:2000]\n",
    "    obj_tokenized = createTokenizedDfUnlabelled(df_unlabel,model_type) # change to df for backtranslated data\n",
    "    df_new= obj_tokenized.convertDf()\n",
    "#     enc_label = preprocessing.LabelEncoder()\n",
    "#     df_new['labels']= enc_label.fit_transform(df_new['labels'])\n",
    "    train_data = CompDatasetUnlabelled(df_new,model_type)\n",
    "    return df,train_data"
   ]
  },
  {
   "cell_type": "code",
   "execution_count": 164,
   "metadata": {},
   "outputs": [
    {
     "data": {
      "text/plain": [
       "1500"
      ]
     },
     "execution_count": 164,
     "metadata": {},
     "output_type": "execute_result"
    }
   ],
   "source": [
    "df_unlabelled_train, dataset_train_unlabelled = process_data_unlabelled(config.filePath_src_backtranslated,config.filePath_tar_backtranslated,df_unlabel,\n",
    "                                                                        model_type = 'xlm')\n",
    "len_unlabelled_data = len(dataset_train_unlabelled)\n",
    "len_unlabelled_data"
   ]
  },
  {
   "cell_type": "code",
   "execution_count": 165,
   "metadata": {},
   "outputs": [
    {
     "data": {
      "text/plain": [
       "2000"
      ]
     },
     "execution_count": 165,
     "metadata": {},
     "output_type": "execute_result"
    }
   ],
   "source": [
    "#combining 2 tuples --> labelled and unlabelled data \n",
    "combined_Data = train_data + dataset_train_unlabelled\n",
    "len(combined_Data)"
   ]
  },
  {
   "cell_type": "code",
   "execution_count": 113,
   "metadata": {},
   "outputs": [],
   "source": [
    "# combined_Data[3100]"
   ]
  },
  {
   "cell_type": "code",
   "execution_count": 166,
   "metadata": {},
   "outputs": [
    {
     "data": {
      "text/plain": [
       "125"
      ]
     },
     "execution_count": 166,
     "metadata": {},
     "output_type": "execute_result"
    }
   ],
   "source": [
    "# dataloaders\n",
    "loader_obj = createDataloaders(combined_Data,config.TRAIN_BATCH_SIZE)\n",
    "train_dataloader = loader_obj.createDataloaders()\n",
    "len(train_dataloader)"
   ]
  },
  {
   "cell_type": "code",
   "execution_count": 167,
   "metadata": {},
   "outputs": [
    {
     "data": {
      "text/plain": [
       "125"
      ]
     },
     "execution_count": 167,
     "metadata": {},
     "output_type": "execute_result"
    }
   ],
   "source": [
    "loader_obj = createDataloaders(eval_data,config.VALID_BATCH_SIZE)\n",
    "val_dataloader = loader_obj.createDataloaders()\n",
    "len(val_dataloader)"
   ]
  },
  {
   "cell_type": "code",
   "execution_count": 177,
   "metadata": {},
   "outputs": [
    {
     "name": "stdout",
     "output_type": "stream",
     "text": [
      "tensor([     0,    579, 100034,   6505,   1679,  14432,     45,  19393,   4188,\n",
      "            47,     70,   1261,  21816,    450,  22008,    879,   6259,  79602,\n",
      "          1295,     70,  32964, 135451,      7,    321,     56,     70,  17431,\n",
      "          2412, 115081,  16065,      6,      5,      2,      2,    656,    579,\n",
      "         73405,    656,   6505,   1679,    656,    493,  65512,    656,  38985,\n",
      "           656,    168,    656,  61024,  51086,     19,    656,      6,      4,\n",
      "           656,   1421,    656,  40127,    656,  79602,    656,   1312,    656,\n",
      "           745,    656,  32964,    656, 135451,      7,    656,  40274,  37720,\n",
      "           656,     23,    656,    122,    656,  50936,    656,      6,      4,\n",
      "           656,     68,    656,   1329,    656,   6057,    275,    656, 139471,\n",
      "           656,      6,      5,    656,      2,      1,      1,      1,      1,\n",
      "             1,      1,      1,      1,      1,      1,      1,      1,      1,\n",
      "             1,      1,      1,      1,      1,      1,      1,      1,      1,\n",
      "             1,      1,      1,      1,      1,      1,      1,      1,      1,\n",
      "             1,      1,      1,      1,      1,      1,      1,      1,      1,\n",
      "             1,      1,      1,      1,      1,      1,      1,      1,      1,\n",
      "             1,      1,      1,      1,      1,      1,      1,      1,      1,\n",
      "             1,      1,      1,      1,      1,      1,      1,      1,      1,\n",
      "             1,      1,      1,      1,      1,      1,      1,      1,      1,\n",
      "             1,      1,      1,      1,      1,      1,      1,      1,      1,\n",
      "             1,      1,      1,      1,      1,      1,      1,      1,      1,\n",
      "             1,      1,      1,      1,      1,      1,      1,      1,      1,\n",
      "             1,      1,      1,      1,      1,      1,      1,      1,      1,\n",
      "             1,      1,      1,      1,      1,      1,      1,      1,      1,\n",
      "             1,      1,      1,      1,      1,      1,      1,      1,      1,\n",
      "             1,      1,      1,      1,      1,      1,      1,      1,      1,\n",
      "             1,      1,      1,      1,      1,      1,      1,      1,      1,\n",
      "             1,      1,      1,      1,      1,      1,      1,      1,      1,\n",
      "             1,      1,      1,      1])\n",
      "tensor([1, 1, 1, 1, 1, 1, 1, 1, 1, 1, 1, 1, 1, 1, 1, 1, 1, 1, 1, 1, 1, 1, 1, 1,\n",
      "        1, 1, 1, 1, 1, 1, 1, 1, 1, 1, 1, 1, 1, 1, 1, 1, 1, 1, 1, 1, 1, 1, 1, 1,\n",
      "        1, 1, 1, 1, 1, 1, 1, 1, 1, 1, 1, 1, 1, 1, 1, 1, 1, 1, 1, 1, 1, 1, 1, 1,\n",
      "        1, 1, 1, 1, 1, 1, 1, 1, 1, 1, 1, 1, 1, 1, 1, 1, 1, 1, 1, 1, 1, 1, 1, 0,\n",
      "        0, 0, 0, 0, 0, 0, 0, 0, 0, 0, 0, 0, 0, 0, 0, 0, 0, 0, 0, 0, 0, 0, 0, 0,\n",
      "        0, 0, 0, 0, 0, 0, 0, 0, 0, 0, 0, 0, 0, 0, 0, 0, 0, 0, 0, 0, 0, 0, 0, 0,\n",
      "        0, 0, 0, 0, 0, 0, 0, 0, 0, 0, 0, 0, 0, 0, 0, 0, 0, 0, 0, 0, 0, 0, 0, 0,\n",
      "        0, 0, 0, 0, 0, 0, 0, 0, 0, 0, 0, 0, 0, 0, 0, 0, 0, 0, 0, 0, 0, 0, 0, 0,\n",
      "        0, 0, 0, 0, 0, 0, 0, 0, 0, 0, 0, 0, 0, 0, 0, 0, 0, 0, 0, 0, 0, 0, 0, 0,\n",
      "        0, 0, 0, 0, 0, 0, 0, 0, 0, 0, 0, 0, 0, 0, 0, 0, 0, 0, 0, 0, 0, 0, 0, 0,\n",
      "        0, 0, 0, 0, 0, 0, 0, 0, 0, 0, 0, 0, 0, 0, 0, 0])\n",
      "tensor([-100, -100, -100, -100, -100, -100, -100, -100, -100, -100, -100, -100,\n",
      "        -100, -100, -100, -100, -100, -100, -100, -100, -100, -100, -100, -100,\n",
      "        -100, -100, -100, -100, -100, -100, -100, -100, -100, -100, -100, -100,\n",
      "        -100, -100, -100, -100, -100, -100, -100, -100, -100, -100, -100, -100,\n",
      "        -100, -100, -100, -100, -100, -100, -100, -100, -100, -100, -100, -100,\n",
      "        -100, -100, -100, -100, -100, -100, -100, -100, -100, -100, -100, -100,\n",
      "        -100, -100, -100, -100, -100, -100, -100, -100, -100, -100, -100, -100,\n",
      "        -100, -100, -100, -100, -100, -100, -100, -100, -100, -100, -100, -100,\n",
      "        -100, -100, -100, -100, -100, -100, -100, -100, -100, -100, -100, -100,\n",
      "        -100, -100, -100, -100, -100, -100, -100, -100, -100, -100, -100, -100,\n",
      "        -100, -100, -100, -100, -100, -100, -100, -100, -100, -100, -100, -100,\n",
      "        -100, -100, -100, -100, -100, -100, -100, -100, -100, -100, -100, -100,\n",
      "        -100, -100, -100, -100, -100, -100, -100, -100, -100, -100, -100, -100,\n",
      "        -100, -100, -100, -100, -100, -100, -100, -100, -100, -100, -100, -100,\n",
      "        -100, -100, -100, -100, -100, -100, -100, -100, -100, -100, -100, -100,\n",
      "        -100, -100, -100, -100, -100, -100, -100, -100, -100, -100, -100, -100,\n",
      "        -100, -100, -100, -100, -100, -100, -100, -100, -100, -100, -100, -100,\n",
      "        -100, -100, -100, -100, -100, -100, -100, -100, -100, -100, -100, -100,\n",
      "        -100, -100, -100, -100, -100, -100, -100, -100, -100, -100, -100, -100,\n",
      "        -100, -100, -100, -100, -100, -100, -100, -100, -100, -100, -100, -100,\n",
      "        -100, -100, -100, -100, -100, -100, -100, -100, -100, -100, -100, -100,\n",
      "        -100, -100, -100, -100])\n"
     ]
    }
   ],
   "source": [
    "batch = next(iter(train_dataloader))\n",
    "print(batch[0][0])\n",
    "print(batch[1][0])\n",
    "print(batch[2][0])\n",
    "# as seen, combination of labelled and unlabelled data in one training batch"
   ]
  },
  {
   "cell_type": "code",
   "execution_count": 118,
   "metadata": {},
   "outputs": [],
   "source": [
    "class EarlyStopping(object):\n",
    "    def __init__(self, mode='max', min_delta=0, patience=10, percentage=False):\n",
    "        self.mode = mode\n",
    "        self.min_delta = min_delta\n",
    "        self.patience = patience\n",
    "        self.best = 0\n",
    "        self.num_bad_epochs = 0\n",
    "        self.is_better = None\n",
    "        self._init_is_better(mode, min_delta, percentage)\n",
    "\n",
    "        if patience == 0:\n",
    "            self.is_better = lambda a, b: True\n",
    "            self.step = lambda a: False\n",
    "\n",
    "    def step(self, metrics):\n",
    "        if self.best is None:\n",
    "            self.best = metrics\n",
    "            return False\n",
    "\n",
    "        if np.isnan(metrics):\n",
    "            return True\n",
    "\n",
    "        if self.is_better(metrics, self.best):\n",
    "            self.num_bad_epochs = 0\n",
    "            self.best = metrics\n",
    "        else:\n",
    "            self.num_bad_epochs += 1\n",
    "\n",
    "        if self.num_bad_epochs >= self.patience:\n",
    "            print('terminating because of early stopping!')\n",
    "            return True\n",
    "\n",
    "        return False\n",
    "\n",
    "    def _init_is_better(self, mode, min_delta, percentage):\n",
    "        if mode not in {'min', 'max'}:\n",
    "            raise ValueError('mode ' + mode + ' is unknown!')\n",
    "        if not percentage:\n",
    "            if mode == 'min':\n",
    "                self.is_better = lambda a, best: a < best \n",
    "            if mode == 'max':\n",
    "                self.is_better = lambda a, best: a > best \n",
    "        else:\n",
    "            if mode == 'min':\n",
    "                self.is_better = lambda a, best: a < best - (\n",
    "                            best * min_delta / 100)\n",
    "            if mode == 'max':\n",
    "                self.is_better = lambda a, best: a > best + (\n",
    "                            best * min_delta / 100)"
   ]
  },
  {
   "cell_type": "code",
   "execution_count": 119,
   "metadata": {},
   "outputs": [],
   "source": [
    "class GaussianNoise(nn.Module):\n",
    "    \n",
    "    def __init__(self, stddev):\n",
    "        \n",
    "        super().__init__()\n",
    "        \n",
    "        self.stddev = stddev\n",
    "\n",
    "    def forward(self, din):\n",
    "        \n",
    "        if self.training:\n",
    "            return din + torch.autograd.Variable(torch.randn(din.size()).cuda() * self.stddev)\n",
    "        \n",
    "        return din"
   ]
  },
  {
   "cell_type": "code",
   "execution_count": 120,
   "metadata": {},
   "outputs": [],
   "source": [
    "# noise = GaussianNoise(0.7)\n",
    "# print(noise(a))\n",
    "# print(torch.randn(a.size()) * 0.7 )\n",
    "# print(torch.autograd.Variable(torch.randn(a.size()).cuda() * 0.7))"
   ]
  },
  {
   "cell_type": "code",
   "execution_count": 140,
   "metadata": {},
   "outputs": [],
   "source": [
    "class EntityModel(nn.Module):\n",
    "    \n",
    "    def __init__(self,std_gaussian=0.1,with_noise_layer = True, dropout_layer=False, dropout_prob = 0.3):\n",
    "        \n",
    "        super(EntityModel, self).__init__()\n",
    "        \n",
    "        self.std_gaussian = std_gaussian\n",
    "        self.with_noise_layer = with_noise_layer\n",
    "        self.bert = XLMRobertaModel.from_pretrained(config.BASE_MODEL,output_attentions = False, output_hidden_states = False) # , add_pooling_layer=False\n",
    "        self.dropout_layer = dropout_layer\n",
    "        self.dropout_prob = dropout_prob\n",
    "        if self.with_noise_layer:\n",
    "            self.noise = GaussianNoise(stddev=self.std_gaussian)\n",
    "        if self.dropout_layer:\n",
    "            self.bert_drop_1 = nn.Dropout(self.dropout_prob) # remove this or noise \n",
    "        self.out_tag = nn.Linear(768, 2)\n",
    "        self.softmax = nn.Softmax(dim=2)\n",
    "    \n",
    "    def forward(self, ids, attention_mask):\n",
    "        \n",
    "        outputs = self.bert(ids,\n",
    "                            attention_mask = attention_mask,\n",
    "                            return_dict=False)\n",
    "        \n",
    "        if (self.with_noise_layer):\n",
    "            \n",
    "            noise = self.noise(outputs[0]) # 256*768\n",
    "            \n",
    "            if self.dropout_layer:\n",
    "                bo_tag = self.bert_drop_1(noise)\n",
    "                tag = self.out_tag(bo_tag)\n",
    "            else:\n",
    "                tag = self.out_tag(noise)\n",
    "        \n",
    "        else:\n",
    "            \n",
    "            if self.dropout_layer:\n",
    "                bo_tag = self.bert_drop_1(outputs[0])\n",
    "                tag = self.out_tag(bo_tag)\n",
    "            \n",
    "            else :\n",
    "                tag = self.out_tag(outputs[0])\n",
    "#         tag = self.out_tag(bo_tag) # 256 * 2 \n",
    "       \n",
    "        softmax_prob = self.softmax(tag)\n",
    "        \n",
    "#         loss_tag = loss_fn(tag,labels,attention_mask)\n",
    "        \n",
    "        return softmax_prob,tag\n",
    "#         return outputs[0], outputs[1]"
   ]
  },
  {
   "cell_type": "code",
   "execution_count": 122,
   "metadata": {},
   "outputs": [],
   "source": [
    "# model = EntityModel(std_gaussian=config.gaussian_noise_std_student, with_noise_layer=True )\n",
    "# model.cuda()# print(noise ,embeddings)"
   ]
  },
  {
   "cell_type": "code",
   "execution_count": 123,
   "metadata": {},
   "outputs": [],
   "source": [
    "# outputs, outputs1 = model(batch[0].cuda(), attention_mask = batch[1].cuda())"
   ]
  },
  {
   "cell_type": "code",
   "execution_count": 124,
   "metadata": {},
   "outputs": [],
   "source": [
    "# print(outputs,'\\n')\n",
    "# print(outputs1)"
   ]
  },
  {
   "cell_type": "code",
   "execution_count": 49,
   "metadata": {},
   "outputs": [],
   "source": [
    "writer.add_text('text', '')"
   ]
  },
  {
   "cell_type": "code",
   "execution_count": 29,
   "metadata": {},
   "outputs": [],
   "source": [
    "# model2 = EntityModel(std_gaussian=config.gaussian_noise_std_teacher)\n",
    "# model2.cuda()\n",
    "# outputs, outputs1 = model2(batch[0].cuda(), attention_mask = batch[1].cuda())\n",
    "# print(outputs,'\\n')\n",
    "# print(outputs1)"
   ]
  },
  {
   "cell_type": "code",
   "execution_count": 125,
   "metadata": {},
   "outputs": [],
   "source": [
    "def ClassificationCost(output,target,mask):\n",
    "    \n",
    "    \n",
    "    active_loss = mask.view(-1) == 1 #loss calculation for non padded tokens only (mask =1)\n",
    "    active_logits = output.view(-1,2)\n",
    "    \n",
    "    active_labels = torch.where( # just append -100 for the padded tokens so its ignored when computing loss , no need now\n",
    "        active_loss,             # since its handled in preprocessing only\n",
    "        target.view(-1),\n",
    "        torch.tensor(-100).type_as(target)    \n",
    "    )\n",
    "    try:\n",
    "        class_0_weights =1/len(torch.where(active_labels==0)[0]) # trying to weight the labels as its unbalanced mostly\n",
    "    \n",
    "    except ZeroDivisionError:\n",
    "        class_0_weights = 1e-8\n",
    "\n",
    "    try:\n",
    "        class_1_weights =1/len(torch.where(active_labels==1)[0])\n",
    "    \n",
    "    except:\n",
    "        class_1_weights = 1e-8\n",
    "    \n",
    "    weights_tensor = torch.tensor([class_0_weights,class_1_weights]).cuda()\n",
    "    lfn = nn.CrossEntropyLoss(weight = weights_tensor)\n",
    "    loss = lfn(active_logits,active_labels)\n",
    "    \n",
    "    return loss"
   ]
  },
  {
   "cell_type": "code",
   "execution_count": 32,
   "metadata": {},
   "outputs": [],
   "source": [
    "# a = torch.tensor([[0.2,0.5],[0.9,0.4],[0.9,0.2],[0.2,0.9],[0.7,0.4]])\n",
    "# b = torch.tensor([-100,-100,-100,-100,-100])\n",
    "# c = torch.tensor([1,1,1,1,1])\n",
    "# ClassificationCost(a,b,c).item()"
   ]
  },
  {
   "cell_type": "code",
   "execution_count": 126,
   "metadata": {},
   "outputs": [],
   "source": [
    "def ConsistencyCost(student_output, teacher_output,mask):\n",
    "    \n",
    "    assert len(student_output) == len(teacher_output)\n",
    "    \n",
    "    loss = nn.MSELoss()\n",
    "    active_outputs = mask.view(-1) == 1 #loss calculation for non padded tokens only (mask =1)\n",
    "    flattened_outputs_student = student_output.view(-1,2)\n",
    "    flatenned_outputs_teacher = teacher_output.view(-1,2)\n",
    "    \n",
    "    # [0.2,0.8] , [0.3,0.7] , [0.9,0.1]\n",
    "    # [0.7,0.3] , [0.9,0.1] , [0.8,0.2]\n",
    "    \n",
    "    \n",
    "    active_outputs_teacher=flatenned_outputs_teacher[torch.where(active_outputs == 1)]\n",
    "    active_outputs_student=flattened_outputs_student[torch.where(active_outputs == 1)]\n",
    "    \n",
    "    return torch.sqrt(loss(active_outputs_student,active_outputs_teacher))\n",
    "    "
   ]
  },
  {
   "cell_type": "code",
   "execution_count": 30,
   "metadata": {},
   "outputs": [],
   "source": [
    "def ConsistencyCost(student_output, teacher_output,mask):\n",
    "    \n",
    "    assert len(student_output) == len(teacher_output)\n",
    "    \n",
    "    loss = nn.MSELoss()\n",
    "    active_outputs = mask.view(-1) == 1 #loss calculation for non padded tokens only (mask =1)\n",
    "    flattened_outputs_student = student_output.view(-1,2)\n",
    "    flatenned_outputs_teacher = teacher_output.view(-1,2)\n",
    "    \n",
    "    # [0.2,0.8] , [0.3,0.7] , [0.9,0.1] -> s\n",
    "    # [0.7,0.3] , [0.9,0.1] , [0.8,0.2] -> T \n",
    "    \n",
    "    \n",
    "    \n",
    "    pseudo_label = torch.softmax(logits_u_w.detach()/args.T, dim=-1)\n",
    "    max_probs, targets_u = torch.max(pseudo_label, dim=-1)\n",
    "    mask = max_probs.ge(config.threshold).float()\n",
    "\n",
    "    Lu = (F.cross_entropy(logits_u_s, targets_u,\n",
    "                                  reduction='none') * mask)\n",
    "    \n",
    "    active_outputs_teacher=flatenned_outputs_teacher[torch.where(active_outputs == 1)]\n",
    "    active_outputs_student=flattened_outputs_student[torch.where(active_outputs == 1)]\n",
    "    \n",
    "    return torch.sqrt(loss(active_outputs_student,active_outputs_teacher))\n",
    "    "
   ]
  },
  {
   "cell_type": "code",
   "execution_count": 127,
   "metadata": {},
   "outputs": [],
   "source": [
    "# Update teacher to be exponential moving average of student params.\n",
    "def update_teacher_params(student_model, teacher_model, alpha, global_step):\n",
    "    # Use the true average until the exponential average is more correct\n",
    "    \n",
    "    teacher_params = teacher_model.parameters()\n",
    "    student_params = student_model.parameters()\n",
    "    \n",
    "    assert sum(p.numel() for p in student_model.parameters()) == sum(p.numel() for p in teacher_model.parameters())\n",
    "    \n",
    "    alpha = min(1 - 1 / (global_step + 1), alpha)\n",
    "    \n",
    "    for teacher_param, student_param in zip(teacher_params, student_params):\n",
    "            teacher_param.data.mul_(config.alpha).add_(1 - config.alpha, student_param.data)\n",
    "    \n",
    "    return teacher_model"
   ]
  },
  {
   "cell_type": "code",
   "execution_count": 171,
   "metadata": {},
   "outputs": [],
   "source": [
    "def train(train_dataloader, optimizer,scheduler, student_model, teacher_model ,writer, global_step, epoch):\n",
    "    \n",
    "    student_model.train() # put student model in training mode\n",
    "    total_train_loss = 0\n",
    "    consistency_cst = 0\n",
    "    classification_cst=0\n",
    "    classification_cst_lst = []\n",
    "    consistency_cst_lst = []\n",
    "    overall_cst_lst = []\n",
    "#     global_step = 0\n",
    "    \n",
    "    for step, batch in enumerate(tqdm(train_dataloader, total = len(train_dataloader),position = 0 , leave = True)):\n",
    "\n",
    "        if (student_model.training):\n",
    "            \n",
    "            b_input_ids = batch[0].cuda()\n",
    "            b_input_mask = batch[1].cuda()\n",
    "            b_labels = batch[2].cuda()\n",
    "            optimizer.zero_grad()\n",
    "            \n",
    "            output_student_softmax, output_student_logit = student_model( b_input_ids, attention_mask = b_input_mask )\n",
    "            \n",
    "            with torch.no_grad():\n",
    "                \n",
    "                if (teacher_model.training!=True):\n",
    "                    output_teacher_softmax, _ = teacher_model( b_input_ids, attention_mask = b_input_mask )\n",
    "                else:\n",
    "                    print('Teacher is in training mode in current epoch',epoch)\n",
    "                    break\n",
    "\n",
    "            classification_cost =  ClassificationCost(output_student_logit,b_labels,b_input_mask)\n",
    "            classification_cst+=classification_cost.item()\n",
    "            \n",
    "            writer.add_scalar('TrainingLoss/Classification', classification_cost.item(), global_step)\n",
    "\n",
    "            consistency_cost = ConsistencyCost(output_student_softmax,output_teacher_softmax,b_input_mask)\n",
    "            consistency_cst+=consistency_cost.item()\n",
    "            \n",
    "            writer.add_scalar('TrainingLoss/Consistency', consistency_cost.item(), global_step)\n",
    "            \n",
    "            overall_cost = (config.ratio * classification_cost) + ((1 - config.ratio) * consistency_cost)\n",
    "            \n",
    "#             overall_cost =  classification_cost + get_consistency_weight(epoch) * consistency_cost\n",
    "            \n",
    "            writer.add_scalar('TrainingLoss/Overall', overall_cost.item(), global_step)\n",
    "            \n",
    "            overall_cost.backward()\n",
    "            optimizer.step()\n",
    "            scheduler.step()\n",
    "            \n",
    "            total_train_loss+=overall_cost.item()\n",
    "            \n",
    "            teacher_model = update_teacher_params(student_model , teacher_model , config.alpha,global_step)\n",
    "\n",
    "#             with torch.no_grad():\n",
    "#                 teacher_softmax,_ = teacher_model(b_input_ids, attention_mask = b_input_mask)\n",
    "            \n",
    "            if step % 200 == 0 and step!=0:\n",
    "                print ('train loss : ', total_train_loss/step)\n",
    "                print('Consistency Cost :', consistency_cst/step)\n",
    "                print('Classification Cost :', classification_cst/step)\n",
    "                print('Consistency Weight is:', get_consistency_weight(epoch))\n",
    "        \n",
    "        else:\n",
    "            print('Student model is not in training mode in epoch', epoch)\n",
    "#             break\n",
    "        global_step+=1\n",
    "        \n",
    "    return (consistency_cst/len(train_dataloader), classification_cst/len(train_dataloader), total_train_loss/len(train_dataloader),global_step)"
   ]
  },
  {
   "cell_type": "code",
   "execution_count": 53,
   "metadata": {},
   "outputs": [],
   "source": [
    "def soft_frequency(logits, power=2, probs=False):\n",
    "    \"\"\"\n",
    "    Unsupervised Deep Embedding for Clustering Analysis\n",
    "    https://arxiv.org/abs/1511.06335\n",
    "    \"\"\"\n",
    "    if not probs:\n",
    "        softmax = torch.nn.Softmax(dim=1)\n",
    "        y = softmax(logits.view(-1, logits.shape[-1])).view(logits.shape)\n",
    "    else:\n",
    "        y = logits\n",
    "    f = torch.sum(y, dim=(0, 1))\n",
    "    t = y**power / f\n",
    "    p = t/torch.sum(t, dim=2, keepdim=True)\n",
    "\n",
    "    return p"
   ]
  },
  {
   "cell_type": "code",
   "execution_count": 79,
   "metadata": {},
   "outputs": [
    {
     "name": "stdout",
     "output_type": "stream",
     "text": [
      "tensor([1.0569, 2.0000])\n"
     ]
    }
   ],
   "source": [
    "logits = torch.tensor([[[0.3,0.7] , [0.2,0.8] , [0.5569,0.5]]])\n",
    "f = torch.sum(logits, dim=(0,1))\n",
    "print(f)\n",
    "new_logits = soft_frequency(logits,probs = True)\n",
    "# t = logits**2 / f\n",
    "# print(t.shape)\n",
    "# p = t/torch.sum(t, dim=2, keepdim=True)\n",
    "# p"
   ]
  },
  {
   "cell_type": "code",
   "execution_count": 80,
   "metadata": {},
   "outputs": [
    {
     "data": {
      "text/plain": [
       "tensor([[[0.3813, 0.6187],\n",
       "         [0.3125, 0.6875],\n",
       "         [0.5993, 0.4007]]])"
      ]
     },
     "execution_count": 80,
     "metadata": {},
     "output_type": "execute_result"
    }
   ],
   "source": [
    "softmax = torch.nn.Softmax(dim=1)\n",
    "y = softmax(new_logits.view(-1, new_logits.shape[-1])).view(new_logits.shape)\n",
    "y"
   ]
  },
  {
   "cell_type": "code",
   "execution_count": 90,
   "metadata": {},
   "outputs": [
    {
     "data": {
      "text/plain": [
       "(tensor([0, 1, 2]),)"
      ]
     },
     "execution_count": 90,
     "metadata": {},
     "output_type": "execute_result"
    }
   ],
   "source": [
    "_confidence = y.max(dim=-1)[0]\n",
    "_confidence[0]\n",
    "# torch.where(_confidence[0]>0.5)"
   ]
  },
  {
   "cell_type": "code",
   "execution_count": 129,
   "metadata": {},
   "outputs": [],
   "source": [
    "def test( model, test_loader):\n",
    "    \n",
    "    model.eval()\n",
    "    test_loss = 0\n",
    "    correct = 0\n",
    "    lst_active_preds = []\n",
    "    lst_active_labels = []\n",
    "    with torch.no_grad():\n",
    "        \n",
    "        for batch in tqdm(test_loader,total = len(test_loader),position = 0 , leave = True):\n",
    "            \n",
    "            b_input_ids_eval = batch[0].cuda()\n",
    "            b_input_mask_eval = batch[1].cuda()\n",
    "            b_labels_eval = batch[2].cuda()\n",
    "            \n",
    "            _, output= model(b_input_ids_eval,attention_mask = b_input_mask_eval)\n",
    "            \n",
    "            classification_cost =  ClassificationCost(output,b_labels_eval,b_input_mask_eval)\n",
    "            test_loss+=classification_cost\n",
    "            \n",
    "            labels = b_labels_eval.view(-1) \n",
    "            active_logits = output.view(-1, 2)\n",
    "            flattened_predictions = torch.argmax(active_logits, axis=1)\n",
    "            active_accuracy = labels.view(-1) != -100\n",
    "            labels_tmp = torch.masked_select(labels, active_accuracy) \n",
    "            pred_tmp = torch.masked_select(flattened_predictions, active_accuracy) \n",
    "            lst_active_labels.extend(labels_tmp.tolist())\n",
    "            lst_active_preds.extend(pred_tmp.tolist())\n",
    "            \n",
    "    avg_f1_score_0=f1_score(lst_active_labels,lst_active_preds,average='binary',pos_label = 0)\n",
    "    avg_f1_score_1=f1_score(lst_active_labels,lst_active_preds,average='binary',pos_label = 1)\n",
    "    avg_accuracy_score=accuracy_score(lst_active_labels,lst_active_preds)\n",
    "    avg_mcc_score = matthews_corrcoef(lst_active_labels,lst_active_preds)\n",
    "    \n",
    "    test_loss /= len(test_loader)\n",
    "    \n",
    "    print('Overall validation loss:', test_loss)\n",
    "    print('Average F1 Validation score for whole sentence class 0 :' ,avg_f1_score_0)\n",
    "    print('Average F1 Validation score for whole sentence class 1 :' ,avg_f1_score_1)\n",
    "    print('Average Accuracy Validation score whole sentence  :' ,avg_accuracy_score)\n",
    "    print('Average mcc Validation score whole sentence :' ,avg_mcc_score)\n",
    "    print('Classification Report :'+'\\n', classification_report(lst_active_labels,lst_active_preds))\n",
    "\n",
    "    return (test_loss, avg_f1_score_0 , avg_f1_score_1, avg_accuracy_score, avg_mcc_score)"
   ]
  },
  {
   "cell_type": "code",
   "execution_count": 170,
   "metadata": {},
   "outputs": [],
   "source": [
    "def train_MeanTeacher(train_dataloader, val_dataloader,len_labelled_data ,len_unlabelled_data, writer,early_stopping,dropout_layer = False, noise_layer=True):\n",
    "    \n",
    "    exp_name = input('Enter Experiment name :')\n",
    "    model_name = input('Enter name for saving the models with version :')\n",
    "    \n",
    "    global_step = 0\n",
    "    best_mcc_teacher = -1\n",
    "    best_mcc_student = -1\n",
    "    # train losses\n",
    "    epochs_consistency_lst =[]\n",
    "    epochs_classification_lst = []\n",
    "    epochs_overall_lst = []\n",
    "    \n",
    "    #test metrices for student\n",
    "    epochs_f1_score_0_lst_student = []\n",
    "    epochs_f1_score_1_lst_student = []\n",
    "    epochs_accuracy_lst_student = []\n",
    "    epochs_mcc_lst_student = []\n",
    "    epochs_cost_lst_student=[]\n",
    "    \n",
    "    #test metrices for teacher\n",
    "    epochs_f1_score_0_lst_teacher= []\n",
    "    epochs_f1_score_1_lst_teacher = []\n",
    "    epochs_accuracy_lst_teacher = []\n",
    "    epochs_mcc_lst_teacher = []\n",
    "    epochs_cost_lst_teacher=[]\n",
    "    \n",
    "    set_seed()\n",
    "    #initialaize the language models\n",
    "    student = EntityModel(std_gaussian=config.gaussian_noise_std_student, with_noise_layer=noise_layer,dropout_layer=dropout_layer) \n",
    "    teacher = EntityModel(std_gaussian=config.gaussian_noise_std_teacher, with_noise_layer=noise_layer)\n",
    "    student.load_state_dict(torch.load('../models/training_data/model_xlmrobertatokenclassificationmodel_verylessData_weightedlss.bin'))\n",
    "    teacher.load_state_dict(torch.load('../models/training_data/model_xlmrobertatokenclassificationmodel_verylessData_weightedlss.bin'))\n",
    "    student.cuda() # take model to gpu\n",
    "    teacher.cuda()\n",
    "    teacher.eval() # teacher.train()\n",
    "    param_optimizer_student = list(student.named_parameters())\n",
    "    param_teacher = list(teacher.named_parameters())\n",
    "    \n",
    "    no_decay = [\"bias\", \"LayerNorm.bias\", \"LayerNorm.weight\"]\n",
    "    optimizer_parameters = [\n",
    "    {\n",
    "        \"params\": [\n",
    "            p for n, p in param_optimizer_student if not any(nd in n for nd in no_decay)\n",
    "        ],\n",
    "        \"weight_decay\": 0.001,\n",
    "    },\n",
    "    {\n",
    "        \"params\": [\n",
    "            p for n, p in param_optimizer_student if any(nd in n for nd in no_decay)\n",
    "        ],\n",
    "        \"weight_decay\": 0.0,\n",
    "    },\n",
    "]\n",
    "    optimizer = AdamW(optimizer_parameters, lr=config.lr)\n",
    "    num_train_steps = int(len(train_dataloader) * config.EPOCHS)\n",
    "#     scheduler = torch.optim.lr_scheduler.CosineAnnealingLR(\n",
    "#         optimizer, T_max=num_train_steps)\n",
    "    scheduler = get_linear_schedule_with_warmup(\n",
    "    optimizer, num_warmup_steps=0, num_training_steps=num_train_steps)\n",
    "    set_seed() # setting seed again before training\n",
    "    \n",
    "    with open(f'../Logs/{exp_name}.txt', 'w') as f:\n",
    "        f.write(f'{exp_name}'+'\\n')\n",
    "        for epoch in range(0,config.EPOCHS):\n",
    "            print(f'Current epoch is {epoch+1} of {config.EPOCHS}')\n",
    "\n",
    "            consistency_cost , classification_cost , overall_cost, global_step = train(train_dataloader, optimizer,scheduler,student,teacher,writer,global_step,epoch)\n",
    "\n",
    "            writer.add_scalar('TrainingLoss/Consistency_epoch :', consistency_cost,epoch )\n",
    "            writer.add_scalar('TrainingLoss/Classification_epoch', classification_cost,epoch)\n",
    "            writer.add_scalar('TrainingLoss/Overall_epoch',overall_cost,epoch)\n",
    "\n",
    "            epochs_consistency_lst.append(consistency_cost)\n",
    "            epochs_classification_lst.append(classification_cost)\n",
    "            epochs_overall_lst.append(overall_cost)\n",
    "\n",
    "\n",
    "            print('---------Running validation for student -------------')\n",
    "            test_loss_student, avg_f1_score_0_student, avg_f1_score_1_student, avg_accuracy_score_student, avg_mcc_score_student = test(student,val_dataloader)\n",
    "\n",
    "            epochs_f1_score_0_lst_student.append(avg_f1_score_0_student)\n",
    "            epochs_f1_score_1_lst_student.append(avg_f1_score_1_student)\n",
    "            epochs_accuracy_lst_student.append(avg_accuracy_score_student)\n",
    "            epochs_mcc_lst_student.append(avg_mcc_score_student)\n",
    "            epochs_cost_lst_student.append(test_loss_student)\n",
    "\n",
    "            writer.add_scalar('mcc_score/Student',avg_mcc_score_student,epoch)\n",
    "            writer.add_scalar('ValidationLoss/Student',test_loss_student,epoch)\n",
    "\n",
    "\n",
    "            for name, weight in student.named_parameters():\n",
    "\n",
    "                if name == 'bert.embeddings.LayerNorm.weight':\n",
    "                    writer.add_histogram(name,weight, epoch)\n",
    "                if name =='bert.encoder.layer.0.attention.output.LayerNorm.weight':\n",
    "                    writer.add_histogram(name,weight, epoch)\n",
    "                if name =='bert.encoder.layer.1.attention.output.dense.weight':\n",
    "                    writer.add_histogram(name,weight, epoch)\n",
    "                if name =='bert.encoder.layer.2.output.dense.weight':\n",
    "                    writer.add_histogram(name,weight, epoch)\n",
    "                if name == 'bert.encoder.layer.5.attention.self.key.weight':\n",
    "                    writer.add_histogram(name,weight, epoch)\n",
    "                if name == 'bert.encoder.layer.9.attention.self.key.weight':\n",
    "                    writer.add_histogram(name,weight, epoch)\n",
    "                if name == 'bert.encoder.layer.10.attention.output.LayerNorm.weight':\n",
    "                    writer.add_histogram(name,weight, epoch)\n",
    "                if name == 'bbert.encoder.layer.11.output.LayerNorm.weight':\n",
    "                    writer.add_histogram(name,weight, epoch)\n",
    "                if name == 'out_tag.weight':\n",
    "                    writer.add_histogram(name,weight, epoch)\n",
    "\n",
    "            if float(\"{:.2f}\".format(avg_mcc_score_student)) >  best_mcc_student :\n",
    "                    torch.save(teacher.state_dict(), f'../models/MeanTeacher_models/StudentModels/studentModel_{model_name}.bin')\n",
    "                    best_mcc_student = float(\"{:.3f}\".format(avg_mcc_score_student))\n",
    "\n",
    "            print('---------Running validation for teacher -------------')\n",
    "\n",
    "            test_loss_teacher, avg_f1_score_0_teacher, avg_f1_score_1_teacher, avg_accuracy_score_teacher, avg_mcc_score_teacher=test(teacher,val_dataloader)\n",
    "\n",
    "            epochs_f1_score_0_lst_teacher.append(avg_f1_score_1_teacher)\n",
    "            epochs_f1_score_1_lst_teacher.append(avg_f1_score_0_teacher)\n",
    "            epochs_accuracy_lst_teacher.append(avg_accuracy_score_teacher)\n",
    "            epochs_mcc_lst_teacher.append(avg_mcc_score_teacher)\n",
    "            epochs_cost_lst_teacher.append(test_loss_teacher)\n",
    "\n",
    "            writer.add_scalar('mcc_score/Teacher',avg_mcc_score_teacher,epoch)\n",
    "            writer.add_scalar('ValidationLoss/Teacher',test_loss_teacher,epoch)\n",
    "\n",
    "            f.write(f\"Consistency_loss {epoch+1} : {str(consistency_cost)}\" + '\\n')\n",
    "            f.write(f\"Classification_loss {epoch+1} : {str(classification_cost)}\" + '\\n')\n",
    "            f.write(f\"Overall_loss {epoch+1} : {str(overall_cost)}\" + '\\n')\n",
    "            f.write(f\"'mcc_score/Teacher {epoch+1} : {str(avg_mcc_score_teacher)}\" + '\\n')\n",
    "            f.write(f\"ValidationLoss/Teacher {epoch+1} : {str(test_loss_teacher)}\" + '\\n')\n",
    "            f.write(f\"'mcc_score/Student {epoch+1} : {str(avg_mcc_score_student)}\" + '\\n')\n",
    "            f.write(f\"ValidationLoss/Student {epoch+1} : {str(test_loss_student)}\" + '\\n')\n",
    "\n",
    "            for name, weight in teacher.named_parameters():\n",
    "                if name == 'bert.embeddings.LayerNorm.weight':\n",
    "                    writer.add_histogram(name,weight, epoch)\n",
    "                if name =='bert.encoder.layer.0.attention.output.LayerNorm.weight':\n",
    "                    writer.add_histogram(name,weight, epoch)\n",
    "                if name =='bert.encoder.layer.1.attention.output.dense.weight':\n",
    "                    writer.add_histogram(name,weight, epoch)\n",
    "                if name =='bert.encoder.layer.2.output.dense.weight':\n",
    "                    writer.add_histogram(name,weight, epoch)\n",
    "                if name == 'bert.encoder.layer.5.attention.self.key.weight':\n",
    "                    writer.add_histogram(name,weight, epoch)\n",
    "                if name == 'bert.encoder.layer.9.attention.self.key.weight':\n",
    "                    writer.add_histogram(name,weight, epoch)\n",
    "                if name == 'bert.encoder.layer.10.attention.output.LayerNorm.weight':\n",
    "                    writer.add_histogram(name,weight, epoch)\n",
    "                if name == 'bbert.encoder.layer.11.output.LayerNorm.weight':\n",
    "                    writer.add_histogram(name,weight, epoch)\n",
    "                if name == 'out_tag.weight':\n",
    "                    writer.add_histogram(name,weight, epoch)\n",
    "\n",
    "\n",
    "            if float(\"{:.2f}\".format(avg_mcc_score_teacher)) >  best_mcc_teacher :\n",
    "                    torch.save(teacher.state_dict(), f'../models/MeanTeacher_models/TeacherModels/teacherModel_{model_name}.bin')\n",
    "                    best_mcc_teacher = float(\"{:.3f}\".format(avg_mcc_score_teacher))        \n",
    "\n",
    "\n",
    "            if early_stopping.step(float(\"{:.2f}\".format(avg_mcc_score_teacher))): #mcc score for early stopping \"{:.2f}\".format(a_float)\n",
    "                      break \n",
    "\n",
    "            if epoch %5 == 0 :\n",
    "                writer.add_hparams(\n",
    "                    { \"lr\": float(scheduler.get_last_lr()[0]), \n",
    "                     \"consistency_ratio\": float(get_consistency_weight(epoch)) , \n",
    "                     \"alpha\":config.alpha, \n",
    "                     \"teacher_noise_gaussian_std\":config.gaussian_noise_std_teacher,\n",
    "                     \"student_noise_gaussian_std\":config.gaussian_noise_std_student,\n",
    "                     \"epoch_current\":epoch+1,\n",
    "                     \"labelled_data\": len_labelled_data, \n",
    "                     \"unlabelled_data\":len_unlabelled_data \n",
    "\n",
    "                    },\n",
    "                    {\n",
    "                    \"mcc_score_teacher\": float(avg_mcc_score_teacher),\n",
    "                    \"loss_teacher\": float(test_loss_teacher),\n",
    "                    \"mcc_score_student\" : float(avg_mcc_score_student),\n",
    "                    \"loss_student\" : float(test_loss_student)\n",
    "                    },\n",
    "                )\n",
    "\n",
    "    writer.flush()  \n",
    "    writer.close()    \n",
    "    return (epochs_consistency_lst,epochs_classification_lst,epochs_overall_lst,epochs_f1_score_0_lst_student,epochs_f1_score_1_lst_student,\n",
    "           epochs_accuracy_lst_student,epochs_mcc_lst_student,epochs_cost_lst_student,epochs_f1_score_0_lst_teacher,epochs_f1_score_1_lst_teacher,\n",
    "            epochs_accuracy_lst_teacher,epochs_mcc_lst_teacher,epochs_cost_lst_teacher)"
   ]
  },
  {
   "cell_type": "code",
   "execution_count": 138,
   "metadata": {},
   "outputs": [],
   "source": [
    "# config = reload(config)"
   ]
  },
  {
   "cell_type": "code",
   "execution_count": 36,
   "metadata": {},
   "outputs": [],
   "source": [
    "MeanTeacher_initWithsuptrainedmodel_withConsistencyRampup_for_5_epochs\n",
    "MeanTeacher_withConsistencyRampup_for_1500_steps\n",
    "teacherModel_v1_rampup_const_cost_1500_steps_withDropout\n",
    "v1_initSupModel_rampup_const_cost_5_epochs_withDropout"
   ]
  },
  {
   "cell_type": "code",
   "execution_count": 172,
   "metadata": {},
   "outputs": [],
   "source": [
    "writer = SummaryWriter(\"runs/MeanTeacherTraining_Experiments/with_500_labelled_data_alpha_0.5_dropout_0.995_v6\")"
   ]
  },
  {
   "cell_type": "code",
   "execution_count": 173,
   "metadata": {},
   "outputs": [],
   "source": [
    "writer.add_text('text', 'In this experiment, a pretrained model on 1500 data is used to initialize both teacher and student models. Rmse cost used and labelled and unlabelled data used is 500/1500')"
   ]
  },
  {
   "cell_type": "code",
   "execution_count": 174,
   "metadata": {},
   "outputs": [
    {
     "name": "stdin",
     "output_type": "stream",
     "text": [
      "Enter Experiment name : MeanTeacher_initWithsuptrainedmodel_alpha_0.995_ratio_0.5\n",
      "Enter name for saving the models with version : v1_initSupModel_ratio_0.5_wihtdropout\n"
     ]
    },
    {
     "name": "stderr",
     "output_type": "stream",
     "text": [
      "Some weights of the model checkpoint at xlm-roberta-base were not used when initializing XLMRobertaModel: ['lm_head.bias', 'lm_head.dense.bias', 'lm_head.layer_norm.weight', 'lm_head.decoder.weight', 'lm_head.layer_norm.bias', 'lm_head.dense.weight']\n",
      "- This IS expected if you are initializing XLMRobertaModel from the checkpoint of a model trained on another task or with another architecture (e.g. initializing a BertForSequenceClassification model from a BertForPreTraining model).\n",
      "- This IS NOT expected if you are initializing XLMRobertaModel from the checkpoint of a model that you expect to be exactly identical (initializing a BertForSequenceClassification model from a BertForSequenceClassification model).\n",
      "Some weights of the model checkpoint at xlm-roberta-base were not used when initializing XLMRobertaModel: ['lm_head.bias', 'lm_head.dense.bias', 'lm_head.layer_norm.weight', 'lm_head.decoder.weight', 'lm_head.layer_norm.bias', 'lm_head.dense.weight']\n",
      "- This IS expected if you are initializing XLMRobertaModel from the checkpoint of a model trained on another task or with another architecture (e.g. initializing a BertForSequenceClassification model from a BertForPreTraining model).\n",
      "- This IS NOT expected if you are initializing XLMRobertaModel from the checkpoint of a model that you expect to be exactly identical (initializing a BertForSequenceClassification model from a BertForSequenceClassification model).\n",
      "/opt/conda/lib/python3.6/site-packages/transformers/optimization.py:309: FutureWarning: This implementation of AdamW is deprecated and will be removed in a future version. Use the PyTorch implementation torch.optim.AdamW instead, or set `no_deprecation_warning=True` to disable this warning\n",
      "  FutureWarning,\n",
      "  0%|          | 0/125 [00:00<?, ?it/s]"
     ]
    },
    {
     "name": "stdout",
     "output_type": "stream",
     "text": [
      "Current epoch is 1 of 25\n"
     ]
    },
    {
     "name": "stderr",
     "output_type": "stream",
     "text": [
      "100%|██████████| 125/125 [01:55<00:00,  1.08it/s]\n",
      "  0%|          | 0/125 [00:00<?, ?it/s]"
     ]
    },
    {
     "name": "stdout",
     "output_type": "stream",
     "text": [
      "---------Running validation for student -------------\n"
     ]
    },
    {
     "name": "stderr",
     "output_type": "stream",
     "text": [
      "100%|██████████| 125/125 [00:13<00:00,  9.49it/s]\n"
     ]
    },
    {
     "name": "stdout",
     "output_type": "stream",
     "text": [
      "Overall validation loss: tensor(0.6182, device='cuda:0')\n",
      "Average F1 Validation score for whole sentence class 0 : 0.386513729579423\n",
      "Average F1 Validation score for whole sentence class 1 : 0.8783136268054742\n",
      "Average Accuracy Validation score whole sentence  : 0.7969105082990536\n",
      "Average mcc Validation score whole sentence : 0.2971817010237133\n",
      "Classification Report :\n",
      "               precision    recall  f1-score   support\n",
      "\n",
      "           0       0.30      0.55      0.39      8039\n",
      "           1       0.93      0.83      0.88     61487\n",
      "\n",
      "    accuracy                           0.80     69526\n",
      "   macro avg       0.62      0.69      0.63     69526\n",
      "weighted avg       0.86      0.80      0.82     69526\n",
      "\n"
     ]
    },
    {
     "name": "stderr",
     "output_type": "stream",
     "text": [
      "  0%|          | 0/125 [00:00<?, ?it/s]"
     ]
    },
    {
     "name": "stdout",
     "output_type": "stream",
     "text": [
      "---------Running validation for teacher -------------\n"
     ]
    },
    {
     "name": "stderr",
     "output_type": "stream",
     "text": [
      "100%|██████████| 125/125 [00:13<00:00,  9.47it/s]\n"
     ]
    },
    {
     "name": "stdout",
     "output_type": "stream",
     "text": [
      "Overall validation loss: tensor(0.6503, device='cuda:0')\n",
      "Average F1 Validation score for whole sentence class 0 : 0.3900129942454056\n",
      "Average F1 Validation score for whole sentence class 1 : 0.8881399782135075\n",
      "Average Accuracy Validation score whole sentence  : 0.810948422173\n",
      "Average mcc Validation score whole sentence : 0.3001157455094412\n",
      "Classification Report :\n",
      "               precision    recall  f1-score   support\n",
      "\n",
      "           0       0.31      0.52      0.39      8039\n",
      "           1       0.93      0.85      0.89     61487\n",
      "\n",
      "    accuracy                           0.81     69526\n",
      "   macro avg       0.62      0.69      0.64     69526\n",
      "weighted avg       0.86      0.81      0.83     69526\n",
      "\n"
     ]
    },
    {
     "name": "stderr",
     "output_type": "stream",
     "text": [
      "  0%|          | 0/125 [00:00<?, ?it/s]"
     ]
    },
    {
     "name": "stdout",
     "output_type": "stream",
     "text": [
      "Current epoch is 2 of 25\n"
     ]
    },
    {
     "name": "stderr",
     "output_type": "stream",
     "text": [
      "100%|██████████| 125/125 [01:54<00:00,  1.09it/s]\n",
      "  0%|          | 0/125 [00:00<?, ?it/s]"
     ]
    },
    {
     "name": "stdout",
     "output_type": "stream",
     "text": [
      "---------Running validation for student -------------\n"
     ]
    },
    {
     "name": "stderr",
     "output_type": "stream",
     "text": [
      "100%|██████████| 125/125 [00:13<00:00,  9.41it/s]\n"
     ]
    },
    {
     "name": "stdout",
     "output_type": "stream",
     "text": [
      "Overall validation loss: tensor(0.6903, device='cuda:0')\n",
      "Average F1 Validation score for whole sentence class 0 : 0.3651506138121248\n",
      "Average F1 Validation score for whole sentence class 1 : 0.9026302037972478\n",
      "Average Accuracy Validation score whole sentence  : 0.8311566895837529\n",
      "Average mcc Validation score whole sentence : 0.2727794159092522\n",
      "Classification Report :\n",
      "               precision    recall  f1-score   support\n",
      "\n",
      "           0       0.32      0.42      0.37      8039\n",
      "           1       0.92      0.88      0.90     61487\n",
      "\n",
      "    accuracy                           0.83     69526\n",
      "   macro avg       0.62      0.65      0.63     69526\n",
      "weighted avg       0.85      0.83      0.84     69526\n",
      "\n"
     ]
    },
    {
     "name": "stderr",
     "output_type": "stream",
     "text": [
      "  0%|          | 0/125 [00:00<?, ?it/s]"
     ]
    },
    {
     "name": "stdout",
     "output_type": "stream",
     "text": [
      "---------Running validation for teacher -------------\n"
     ]
    },
    {
     "name": "stderr",
     "output_type": "stream",
     "text": [
      "100%|██████████| 125/125 [00:13<00:00,  9.39it/s]\n"
     ]
    },
    {
     "name": "stdout",
     "output_type": "stream",
     "text": [
      "Overall validation loss: tensor(0.6632, device='cuda:0')\n",
      "Average F1 Validation score for whole sentence class 0 : 0.3904872614550034\n",
      "Average F1 Validation score for whole sentence class 1 : 0.8937216019458474\n",
      "Average Accuracy Validation score whole sentence  : 0.8190029629203464\n",
      "Average mcc Validation score whole sentence : 0.30040793934551885\n",
      "Classification Report :\n",
      "               precision    recall  f1-score   support\n",
      "\n",
      "           0       0.32      0.50      0.39      8039\n",
      "           1       0.93      0.86      0.89     61487\n",
      "\n",
      "    accuracy                           0.82     69526\n",
      "   macro avg       0.62      0.68      0.64     69526\n",
      "weighted avg       0.86      0.82      0.84     69526\n",
      "\n"
     ]
    },
    {
     "name": "stderr",
     "output_type": "stream",
     "text": [
      "  0%|          | 0/125 [00:00<?, ?it/s]"
     ]
    },
    {
     "name": "stdout",
     "output_type": "stream",
     "text": [
      "Current epoch is 3 of 25\n"
     ]
    },
    {
     "name": "stderr",
     "output_type": "stream",
     "text": [
      "100%|██████████| 125/125 [01:58<00:00,  1.06it/s]\n",
      "  0%|          | 0/125 [00:00<?, ?it/s]"
     ]
    },
    {
     "name": "stdout",
     "output_type": "stream",
     "text": [
      "---------Running validation for student -------------\n"
     ]
    },
    {
     "name": "stderr",
     "output_type": "stream",
     "text": [
      "100%|██████████| 125/125 [00:13<00:00,  8.98it/s]\n"
     ]
    },
    {
     "name": "stdout",
     "output_type": "stream",
     "text": [
      "Overall validation loss: tensor(0.7056, device='cuda:0')\n",
      "Average F1 Validation score for whole sentence class 0 : 0.38062933778635916\n",
      "Average F1 Validation score for whole sentence class 1 : 0.9010000917515368\n",
      "Average Accuracy Validation score whole sentence  : 0.8292868854816903\n",
      "Average mcc Validation score whole sentence : 0.28964462194504487\n",
      "Classification Report :\n",
      "               precision    recall  f1-score   support\n",
      "\n",
      "           0       0.33      0.45      0.38      8039\n",
      "           1       0.92      0.88      0.90     61487\n",
      "\n",
      "    accuracy                           0.83     69526\n",
      "   macro avg       0.63      0.67      0.64     69526\n",
      "weighted avg       0.86      0.83      0.84     69526\n",
      "\n"
     ]
    },
    {
     "name": "stderr",
     "output_type": "stream",
     "text": [
      "  0%|          | 0/125 [00:00<?, ?it/s]"
     ]
    },
    {
     "name": "stdout",
     "output_type": "stream",
     "text": [
      "---------Running validation for teacher -------------\n"
     ]
    },
    {
     "name": "stderr",
     "output_type": "stream",
     "text": [
      "100%|██████████| 125/125 [00:13<00:00,  8.94it/s]\n"
     ]
    },
    {
     "name": "stdout",
     "output_type": "stream",
     "text": [
      "Overall validation loss: tensor(0.6773, device='cuda:0')\n",
      "Average F1 Validation score for whole sentence class 0 : 0.38955864323661626\n",
      "Average F1 Validation score for whole sentence class 1 : 0.8999799122836385\n",
      "Average Accuracy Validation score whole sentence  : 0.8281218536950206\n",
      "Average mcc Validation score whole sentence : 0.29972035293579147\n",
      "Classification Report :\n",
      "               precision    recall  f1-score   support\n",
      "\n",
      "           0       0.33      0.47      0.39      8039\n",
      "           1       0.93      0.87      0.90     61487\n",
      "\n",
      "    accuracy                           0.83     69526\n",
      "   macro avg       0.63      0.67      0.64     69526\n",
      "weighted avg       0.86      0.83      0.84     69526\n",
      "\n"
     ]
    },
    {
     "name": "stderr",
     "output_type": "stream",
     "text": [
      "  0%|          | 0/125 [00:00<?, ?it/s]"
     ]
    },
    {
     "name": "stdout",
     "output_type": "stream",
     "text": [
      "Current epoch is 4 of 25\n"
     ]
    },
    {
     "name": "stderr",
     "output_type": "stream",
     "text": [
      "100%|██████████| 125/125 [01:56<00:00,  1.07it/s]\n",
      "  0%|          | 0/125 [00:00<?, ?it/s]"
     ]
    },
    {
     "name": "stdout",
     "output_type": "stream",
     "text": [
      "---------Running validation for student -------------\n"
     ]
    },
    {
     "name": "stderr",
     "output_type": "stream",
     "text": [
      "100%|██████████| 125/125 [00:13<00:00,  9.46it/s]\n"
     ]
    },
    {
     "name": "stdout",
     "output_type": "stream",
     "text": [
      "Overall validation loss: tensor(0.7390, device='cuda:0')\n",
      "Average F1 Validation score for whole sentence class 0 : 0.38759990312424314\n",
      "Average F1 Validation score for whole sentence class 1 : 0.8932242181627776\n",
      "Average Accuracy Validation score whole sentence  : 0.8181543595201795\n",
      "Average mcc Validation score whole sentence : 0.29692840277409405\n",
      "Classification Report :\n",
      "               precision    recall  f1-score   support\n",
      "\n",
      "           0       0.32      0.50      0.39      8039\n",
      "           1       0.93      0.86      0.89     61487\n",
      "\n",
      "    accuracy                           0.82     69526\n",
      "   macro avg       0.62      0.68      0.64     69526\n",
      "weighted avg       0.86      0.82      0.83     69526\n",
      "\n"
     ]
    },
    {
     "name": "stderr",
     "output_type": "stream",
     "text": [
      "  0%|          | 0/125 [00:00<?, ?it/s]"
     ]
    },
    {
     "name": "stdout",
     "output_type": "stream",
     "text": [
      "---------Running validation for teacher -------------\n"
     ]
    },
    {
     "name": "stderr",
     "output_type": "stream",
     "text": [
      "100%|██████████| 125/125 [00:13<00:00,  9.46it/s]\n"
     ]
    },
    {
     "name": "stdout",
     "output_type": "stream",
     "text": [
      "Overall validation loss: tensor(0.7318, device='cuda:0')\n",
      "Average F1 Validation score for whole sentence class 0 : 0.3761056992498041\n",
      "Average F1 Validation score for whole sentence class 1 : 0.908045218252331\n",
      "Average Accuracy Validation score whole sentence  : 0.8397146391278083\n",
      "Average mcc Validation score whole sentence : 0.2870876181268096\n",
      "Classification Report :\n",
      "               precision    recall  f1-score   support\n",
      "\n",
      "           0       0.34      0.42      0.38      8039\n",
      "           1       0.92      0.89      0.91     61487\n",
      "\n",
      "    accuracy                           0.84     69526\n",
      "   macro avg       0.63      0.66      0.64     69526\n",
      "weighted avg       0.85      0.84      0.85     69526\n",
      "\n"
     ]
    },
    {
     "name": "stderr",
     "output_type": "stream",
     "text": [
      "  0%|          | 0/125 [00:00<?, ?it/s]"
     ]
    },
    {
     "name": "stdout",
     "output_type": "stream",
     "text": [
      "Current epoch is 5 of 25\n"
     ]
    },
    {
     "name": "stderr",
     "output_type": "stream",
     "text": [
      "100%|██████████| 125/125 [01:56<00:00,  1.07it/s]\n",
      "  0%|          | 0/125 [00:00<?, ?it/s]"
     ]
    },
    {
     "name": "stdout",
     "output_type": "stream",
     "text": [
      "---------Running validation for student -------------\n"
     ]
    },
    {
     "name": "stderr",
     "output_type": "stream",
     "text": [
      "100%|██████████| 125/125 [00:13<00:00,  9.15it/s]\n"
     ]
    },
    {
     "name": "stdout",
     "output_type": "stream",
     "text": [
      "Overall validation loss: tensor(1.0414, device='cuda:0')\n",
      "Average F1 Validation score for whole sentence class 0 : 0.32758259411887963\n",
      "Average F1 Validation score for whole sentence class 1 : 0.9228203792039124\n",
      "Average Accuracy Validation score whole sentence  : 0.8615338146880304\n",
      "Average mcc Validation score whole sentence : 0.25409405872096963\n",
      "Classification Report :\n",
      "               precision    recall  f1-score   support\n",
      "\n",
      "           0       0.37      0.29      0.33      8039\n",
      "           1       0.91      0.94      0.92     61487\n",
      "\n",
      "    accuracy                           0.86     69526\n",
      "   macro avg       0.64      0.61      0.63     69526\n",
      "weighted avg       0.85      0.86      0.85     69526\n",
      "\n"
     ]
    },
    {
     "name": "stderr",
     "output_type": "stream",
     "text": [
      "  0%|          | 0/125 [00:00<?, ?it/s]"
     ]
    },
    {
     "name": "stdout",
     "output_type": "stream",
     "text": [
      "---------Running validation for teacher -------------\n"
     ]
    },
    {
     "name": "stderr",
     "output_type": "stream",
     "text": [
      "100%|██████████| 125/125 [00:13<00:00,  9.09it/s]\n"
     ]
    },
    {
     "name": "stdout",
     "output_type": "stream",
     "text": [
      "Overall validation loss: tensor(0.8238, device='cuda:0')\n",
      "Average F1 Validation score for whole sentence class 0 : 0.3628613787991104\n",
      "Average F1 Validation score for whole sentence class 1 : 0.9160535225940877\n",
      "Average Accuracy Validation score whole sentence  : 0.8516526191640538\n",
      "Average mcc Validation score whole sentence : 0.2789275365718296\n",
      "Classification Report :\n",
      "               precision    recall  f1-score   support\n",
      "\n",
      "           0       0.36      0.37      0.36      8039\n",
      "           1       0.92      0.92      0.92     61487\n",
      "\n",
      "    accuracy                           0.85     69526\n",
      "   macro avg       0.64      0.64      0.64     69526\n",
      "weighted avg       0.85      0.85      0.85     69526\n",
      "\n"
     ]
    },
    {
     "name": "stderr",
     "output_type": "stream",
     "text": [
      "  0%|          | 0/125 [00:00<?, ?it/s]"
     ]
    },
    {
     "name": "stdout",
     "output_type": "stream",
     "text": [
      "Current epoch is 6 of 25\n"
     ]
    },
    {
     "name": "stderr",
     "output_type": "stream",
     "text": [
      "100%|██████████| 125/125 [02:01<00:00,  1.03it/s]\n",
      "  0%|          | 0/125 [00:00<?, ?it/s]"
     ]
    },
    {
     "name": "stdout",
     "output_type": "stream",
     "text": [
      "---------Running validation for student -------------\n"
     ]
    },
    {
     "name": "stderr",
     "output_type": "stream",
     "text": [
      "100%|██████████| 125/125 [00:14<00:00,  8.89it/s]\n"
     ]
    },
    {
     "name": "stdout",
     "output_type": "stream",
     "text": [
      "Overall validation loss: tensor(1.2573, device='cuda:0')\n",
      "Average F1 Validation score for whole sentence class 0 : 0.2668569989083886\n",
      "Average F1 Validation score for whole sentence class 1 : 0.9313292906412466\n",
      "Average Accuracy Validation score whole sentence  : 0.8744210798837845\n",
      "Average mcc Validation score whole sentence : 0.22394867582508213\n",
      "Classification Report :\n",
      "               precision    recall  f1-score   support\n",
      "\n",
      "           0       0.41      0.20      0.27      8039\n",
      "           1       0.90      0.96      0.93     61487\n",
      "\n",
      "    accuracy                           0.87     69526\n",
      "   macro avg       0.66      0.58      0.60     69526\n",
      "weighted avg       0.84      0.87      0.85     69526\n",
      "\n"
     ]
    },
    {
     "name": "stderr",
     "output_type": "stream",
     "text": [
      "  0%|          | 0/125 [00:00<?, ?it/s]"
     ]
    },
    {
     "name": "stdout",
     "output_type": "stream",
     "text": [
      "---------Running validation for teacher -------------\n"
     ]
    },
    {
     "name": "stderr",
     "output_type": "stream",
     "text": [
      "100%|██████████| 125/125 [00:14<00:00,  8.88it/s]\n"
     ]
    },
    {
     "name": "stdout",
     "output_type": "stream",
     "text": [
      "Overall validation loss: tensor(0.9240, device='cuda:0')\n",
      "Average F1 Validation score for whole sentence class 0 : 0.34746848243780754\n",
      "Average F1 Validation score for whole sentence class 1 : 0.9220811631070932\n",
      "Average Accuracy Validation score whole sentence  : 0.8607858930472053\n",
      "Average mcc Validation score whole sentence : 0.271362032372448\n",
      "Classification Report :\n",
      "               precision    recall  f1-score   support\n",
      "\n",
      "           0       0.38      0.32      0.35      8039\n",
      "           1       0.91      0.93      0.92     61487\n",
      "\n",
      "    accuracy                           0.86     69526\n",
      "   macro avg       0.65      0.63      0.63     69526\n",
      "weighted avg       0.85      0.86      0.86     69526\n",
      "\n"
     ]
    },
    {
     "name": "stderr",
     "output_type": "stream",
     "text": [
      "  0%|          | 0/125 [00:00<?, ?it/s]"
     ]
    },
    {
     "name": "stdout",
     "output_type": "stream",
     "text": [
      "Current epoch is 7 of 25\n"
     ]
    },
    {
     "name": "stderr",
     "output_type": "stream",
     "text": [
      "100%|██████████| 125/125 [02:01<00:00,  1.03it/s]\n",
      "  0%|          | 0/125 [00:00<?, ?it/s]"
     ]
    },
    {
     "name": "stdout",
     "output_type": "stream",
     "text": [
      "---------Running validation for student -------------\n"
     ]
    },
    {
     "name": "stderr",
     "output_type": "stream",
     "text": [
      "100%|██████████| 125/125 [00:14<00:00,  8.93it/s]\n"
     ]
    },
    {
     "name": "stdout",
     "output_type": "stream",
     "text": [
      "Overall validation loss: tensor(1.3076, device='cuda:0')\n",
      "Average F1 Validation score for whole sentence class 0 : 0.2927945702785889\n",
      "Average F1 Validation score for whole sentence class 1 : 0.9290953545232273\n",
      "Average Accuracy Validation score whole sentence  : 0.8711129649339815\n",
      "Average mcc Validation score whole sentence : 0.23798605248142954\n",
      "Classification Report :\n",
      "               precision    recall  f1-score   support\n",
      "\n",
      "           0       0.40      0.23      0.29      8039\n",
      "           1       0.90      0.95      0.93     61487\n",
      "\n",
      "    accuracy                           0.87     69526\n",
      "   macro avg       0.65      0.59      0.61     69526\n",
      "weighted avg       0.85      0.87      0.86     69526\n",
      "\n"
     ]
    },
    {
     "name": "stderr",
     "output_type": "stream",
     "text": [
      "  0%|          | 0/125 [00:00<?, ?it/s]"
     ]
    },
    {
     "name": "stdout",
     "output_type": "stream",
     "text": [
      "---------Running validation for teacher -------------\n"
     ]
    },
    {
     "name": "stderr",
     "output_type": "stream",
     "text": [
      "100%|██████████| 125/125 [00:13<00:00,  8.94it/s]\n"
     ]
    },
    {
     "name": "stdout",
     "output_type": "stream",
     "text": [
      "Overall validation loss: tensor(1.0611, device='cuda:0')\n",
      "Average F1 Validation score for whole sentence class 0 : 0.32510527080005813\n",
      "Average F1 Validation score for whole sentence class 1 : 0.9257970274110379\n",
      "Average Accuracy Validation score whole sentence  : 0.8662946235940512\n",
      "Average mcc Validation score whole sentence : 0.25765166582932436\n",
      "Classification Report :\n",
      "               precision    recall  f1-score   support\n",
      "\n",
      "           0       0.39      0.28      0.33      8039\n",
      "           1       0.91      0.94      0.93     61487\n",
      "\n",
      "    accuracy                           0.87     69526\n",
      "   macro avg       0.65      0.61      0.63     69526\n",
      "weighted avg       0.85      0.87      0.86     69526\n",
      "\n"
     ]
    },
    {
     "name": "stderr",
     "output_type": "stream",
     "text": [
      "  0%|          | 0/125 [00:00<?, ?it/s]"
     ]
    },
    {
     "name": "stdout",
     "output_type": "stream",
     "text": [
      "Current epoch is 8 of 25\n"
     ]
    },
    {
     "name": "stderr",
     "output_type": "stream",
     "text": [
      "100%|██████████| 125/125 [02:01<00:00,  1.03it/s]\n",
      "  0%|          | 0/125 [00:00<?, ?it/s]"
     ]
    },
    {
     "name": "stdout",
     "output_type": "stream",
     "text": [
      "---------Running validation for student -------------\n"
     ]
    },
    {
     "name": "stderr",
     "output_type": "stream",
     "text": [
      "100%|██████████| 125/125 [00:13<00:00,  9.33it/s]\n"
     ]
    },
    {
     "name": "stdout",
     "output_type": "stream",
     "text": [
      "Overall validation loss: tensor(1.5454, device='cuda:0')\n",
      "Average F1 Validation score for whole sentence class 0 : 0.2591525423728813\n",
      "Average F1 Validation score for whole sentence class 1 : 0.9313016691289724\n",
      "Average Accuracy Validation score whole sentence  : 0.874262865690533\n",
      "Average mcc Validation score whole sentence : 0.21755794791433042\n",
      "Classification Report :\n",
      "               precision    recall  f1-score   support\n",
      "\n",
      "           0       0.41      0.19      0.26      8039\n",
      "           1       0.90      0.96      0.93     61487\n",
      "\n",
      "    accuracy                           0.87     69526\n",
      "   macro avg       0.65      0.58      0.60     69526\n",
      "weighted avg       0.84      0.87      0.85     69526\n",
      "\n"
     ]
    },
    {
     "name": "stderr",
     "output_type": "stream",
     "text": [
      "  0%|          | 0/125 [00:00<?, ?it/s]"
     ]
    },
    {
     "name": "stdout",
     "output_type": "stream",
     "text": [
      "---------Running validation for teacher -------------\n"
     ]
    },
    {
     "name": "stderr",
     "output_type": "stream",
     "text": [
      "100%|██████████| 125/125 [00:13<00:00,  9.40it/s]\n"
     ]
    },
    {
     "name": "stdout",
     "output_type": "stream",
     "text": [
      "Overall validation loss: tensor(1.2246, device='cuda:0')\n",
      "Average F1 Validation score for whole sentence class 0 : 0.3006373387222136\n",
      "Average F1 Validation score for whole sentence class 1 : 0.9286925649438131\n",
      "Average Accuracy Validation score whole sentence  : 0.8705807899203176\n",
      "Average mcc Validation score whole sentence : 0.243470236410087\n",
      "Classification Report :\n",
      "               precision    recall  f1-score   support\n",
      "\n",
      "           0       0.40      0.24      0.30      8039\n",
      "           1       0.91      0.95      0.93     61487\n",
      "\n",
      "    accuracy                           0.87     69526\n",
      "   macro avg       0.65      0.60      0.61     69526\n",
      "weighted avg       0.85      0.87      0.86     69526\n",
      "\n"
     ]
    },
    {
     "name": "stderr",
     "output_type": "stream",
     "text": [
      "  0%|          | 0/125 [00:00<?, ?it/s]"
     ]
    },
    {
     "name": "stdout",
     "output_type": "stream",
     "text": [
      "Current epoch is 9 of 25\n"
     ]
    },
    {
     "name": "stderr",
     "output_type": "stream",
     "text": [
      " 98%|█████████▊| 122/125 [01:52<00:02,  1.09it/s]\n"
     ]
    },
    {
     "ename": "KeyboardInterrupt",
     "evalue": "",
     "output_type": "error",
     "traceback": [
      "\u001b[0;31m---------------------------------------------------------------------------\u001b[0m",
      "\u001b[0;31mKeyboardInterrupt\u001b[0m                         Traceback (most recent call last)",
      "\u001b[0;32m<ipython-input-174-c74e82afbca5>\u001b[0m in \u001b[0;36m<module>\u001b[0;34m\u001b[0m\n\u001b[1;32m      1\u001b[0m \u001b[0mearly_stopping\u001b[0m \u001b[0;34m=\u001b[0m \u001b[0mEarlyStopping\u001b[0m\u001b[0;34m(\u001b[0m\u001b[0mpatience\u001b[0m\u001b[0;34m=\u001b[0m\u001b[0;36m10\u001b[0m\u001b[0;34m)\u001b[0m\u001b[0;34m\u001b[0m\u001b[0;34m\u001b[0m\u001b[0m\n\u001b[0;32m----> 2\u001b[0;31m \u001b[0mmetrices\u001b[0m \u001b[0;34m=\u001b[0m \u001b[0mtrain_MeanTeacher\u001b[0m\u001b[0;34m(\u001b[0m\u001b[0mtrain_dataloader\u001b[0m\u001b[0;34m,\u001b[0m\u001b[0mval_dataloader\u001b[0m\u001b[0;34m,\u001b[0m\u001b[0mlen_labelled_data\u001b[0m\u001b[0;34m,\u001b[0m\u001b[0mlen_unlabelled_data\u001b[0m\u001b[0;34m,\u001b[0m\u001b[0mwriter\u001b[0m\u001b[0;34m,\u001b[0m \u001b[0mearly_stopping\u001b[0m\u001b[0;34m,\u001b[0m\u001b[0mdropout_layer\u001b[0m\u001b[0;34m=\u001b[0m\u001b[0;32mTrue\u001b[0m\u001b[0;34m,\u001b[0m \u001b[0mnoise_layer\u001b[0m\u001b[0;34m=\u001b[0m\u001b[0;32mTrue\u001b[0m\u001b[0;34m)\u001b[0m\u001b[0;34m\u001b[0m\u001b[0;34m\u001b[0m\u001b[0m\n\u001b[0m",
      "\u001b[0;32m<ipython-input-170-c1db357c3b11>\u001b[0m in \u001b[0;36mtrain_MeanTeacher\u001b[0;34m(train_dataloader, val_dataloader, len_labelled_data, len_unlabelled_data, writer, early_stopping, dropout_layer, noise_layer)\u001b[0m\n\u001b[1;32m     66\u001b[0m             \u001b[0mprint\u001b[0m\u001b[0;34m(\u001b[0m\u001b[0;34mf'Current epoch is {epoch+1} of {config.EPOCHS}'\u001b[0m\u001b[0;34m)\u001b[0m\u001b[0;34m\u001b[0m\u001b[0;34m\u001b[0m\u001b[0m\n\u001b[1;32m     67\u001b[0m \u001b[0;34m\u001b[0m\u001b[0m\n\u001b[0;32m---> 68\u001b[0;31m             \u001b[0mconsistency_cost\u001b[0m \u001b[0;34m,\u001b[0m \u001b[0mclassification_cost\u001b[0m \u001b[0;34m,\u001b[0m \u001b[0moverall_cost\u001b[0m\u001b[0;34m,\u001b[0m \u001b[0mglobal_step\u001b[0m \u001b[0;34m=\u001b[0m \u001b[0mtrain\u001b[0m\u001b[0;34m(\u001b[0m\u001b[0mtrain_dataloader\u001b[0m\u001b[0;34m,\u001b[0m \u001b[0moptimizer\u001b[0m\u001b[0;34m,\u001b[0m\u001b[0mscheduler\u001b[0m\u001b[0;34m,\u001b[0m\u001b[0mstudent\u001b[0m\u001b[0;34m,\u001b[0m\u001b[0mteacher\u001b[0m\u001b[0;34m,\u001b[0m\u001b[0mwriter\u001b[0m\u001b[0;34m,\u001b[0m\u001b[0mglobal_step\u001b[0m\u001b[0;34m,\u001b[0m\u001b[0mepoch\u001b[0m\u001b[0;34m)\u001b[0m\u001b[0;34m\u001b[0m\u001b[0;34m\u001b[0m\u001b[0m\n\u001b[0m\u001b[1;32m     69\u001b[0m \u001b[0;34m\u001b[0m\u001b[0m\n\u001b[1;32m     70\u001b[0m             \u001b[0mwriter\u001b[0m\u001b[0;34m.\u001b[0m\u001b[0madd_scalar\u001b[0m\u001b[0;34m(\u001b[0m\u001b[0;34m'TrainingLoss/Consistency_epoch :'\u001b[0m\u001b[0;34m,\u001b[0m \u001b[0mconsistency_cost\u001b[0m\u001b[0;34m,\u001b[0m\u001b[0mepoch\u001b[0m \u001b[0;34m)\u001b[0m\u001b[0;34m\u001b[0m\u001b[0;34m\u001b[0m\u001b[0m\n",
      "\u001b[0;32m<ipython-input-171-a7ce5afc6cad>\u001b[0m in \u001b[0;36mtrain\u001b[0;34m(train_dataloader, optimizer, scheduler, student_model, teacher_model, writer, global_step, epoch)\u001b[0m\n\u001b[1;32m     19\u001b[0m             \u001b[0moptimizer\u001b[0m\u001b[0;34m.\u001b[0m\u001b[0mzero_grad\u001b[0m\u001b[0;34m(\u001b[0m\u001b[0;34m)\u001b[0m\u001b[0;34m\u001b[0m\u001b[0;34m\u001b[0m\u001b[0m\n\u001b[1;32m     20\u001b[0m \u001b[0;34m\u001b[0m\u001b[0m\n\u001b[0;32m---> 21\u001b[0;31m             \u001b[0moutput_student_softmax\u001b[0m\u001b[0;34m,\u001b[0m \u001b[0moutput_student_logit\u001b[0m \u001b[0;34m=\u001b[0m \u001b[0mstudent_model\u001b[0m\u001b[0;34m(\u001b[0m \u001b[0mb_input_ids\u001b[0m\u001b[0;34m,\u001b[0m \u001b[0mattention_mask\u001b[0m \u001b[0;34m=\u001b[0m \u001b[0mb_input_mask\u001b[0m \u001b[0;34m)\u001b[0m\u001b[0;34m\u001b[0m\u001b[0;34m\u001b[0m\u001b[0m\n\u001b[0m\u001b[1;32m     22\u001b[0m \u001b[0;34m\u001b[0m\u001b[0m\n\u001b[1;32m     23\u001b[0m             \u001b[0;32mwith\u001b[0m \u001b[0mtorch\u001b[0m\u001b[0;34m.\u001b[0m\u001b[0mno_grad\u001b[0m\u001b[0;34m(\u001b[0m\u001b[0;34m)\u001b[0m\u001b[0;34m:\u001b[0m\u001b[0;34m\u001b[0m\u001b[0;34m\u001b[0m\u001b[0m\n",
      "\u001b[0;32m/opt/conda/lib/python3.6/site-packages/torch/nn/modules/module.py\u001b[0m in \u001b[0;36m_call_impl\u001b[0;34m(self, *input, **kwargs)\u001b[0m\n\u001b[1;32m    748\u001b[0m             \u001b[0mresult\u001b[0m \u001b[0;34m=\u001b[0m \u001b[0mself\u001b[0m\u001b[0;34m.\u001b[0m\u001b[0m_slow_forward\u001b[0m\u001b[0;34m(\u001b[0m\u001b[0;34m*\u001b[0m\u001b[0minput\u001b[0m\u001b[0;34m,\u001b[0m \u001b[0;34m**\u001b[0m\u001b[0mkwargs\u001b[0m\u001b[0;34m)\u001b[0m\u001b[0;34m\u001b[0m\u001b[0;34m\u001b[0m\u001b[0m\n\u001b[1;32m    749\u001b[0m         \u001b[0;32melse\u001b[0m\u001b[0;34m:\u001b[0m\u001b[0;34m\u001b[0m\u001b[0;34m\u001b[0m\u001b[0m\n\u001b[0;32m--> 750\u001b[0;31m             \u001b[0mresult\u001b[0m \u001b[0;34m=\u001b[0m \u001b[0mself\u001b[0m\u001b[0;34m.\u001b[0m\u001b[0mforward\u001b[0m\u001b[0;34m(\u001b[0m\u001b[0;34m*\u001b[0m\u001b[0minput\u001b[0m\u001b[0;34m,\u001b[0m \u001b[0;34m**\u001b[0m\u001b[0mkwargs\u001b[0m\u001b[0;34m)\u001b[0m\u001b[0;34m\u001b[0m\u001b[0;34m\u001b[0m\u001b[0m\n\u001b[0m\u001b[1;32m    751\u001b[0m         for hook in itertools.chain(\n\u001b[1;32m    752\u001b[0m                 \u001b[0m_global_forward_hooks\u001b[0m\u001b[0;34m.\u001b[0m\u001b[0mvalues\u001b[0m\u001b[0;34m(\u001b[0m\u001b[0;34m)\u001b[0m\u001b[0;34m,\u001b[0m\u001b[0;34m\u001b[0m\u001b[0;34m\u001b[0m\u001b[0m\n",
      "\u001b[0;32m<ipython-input-140-d930e69db24e>\u001b[0m in \u001b[0;36mforward\u001b[0;34m(self, ids, attention_mask)\u001b[0m\n\u001b[1;32m     25\u001b[0m         \u001b[0;32mif\u001b[0m \u001b[0;34m(\u001b[0m\u001b[0mself\u001b[0m\u001b[0;34m.\u001b[0m\u001b[0mwith_noise_layer\u001b[0m\u001b[0;34m)\u001b[0m\u001b[0;34m:\u001b[0m\u001b[0;34m\u001b[0m\u001b[0;34m\u001b[0m\u001b[0m\n\u001b[1;32m     26\u001b[0m \u001b[0;34m\u001b[0m\u001b[0m\n\u001b[0;32m---> 27\u001b[0;31m             \u001b[0mnoise\u001b[0m \u001b[0;34m=\u001b[0m \u001b[0mself\u001b[0m\u001b[0;34m.\u001b[0m\u001b[0mnoise\u001b[0m\u001b[0;34m(\u001b[0m\u001b[0moutputs\u001b[0m\u001b[0;34m[\u001b[0m\u001b[0;36m0\u001b[0m\u001b[0;34m]\u001b[0m\u001b[0;34m)\u001b[0m \u001b[0;31m# 256*768\u001b[0m\u001b[0;34m\u001b[0m\u001b[0;34m\u001b[0m\u001b[0m\n\u001b[0m\u001b[1;32m     28\u001b[0m \u001b[0;34m\u001b[0m\u001b[0m\n\u001b[1;32m     29\u001b[0m             \u001b[0;32mif\u001b[0m \u001b[0mself\u001b[0m\u001b[0;34m.\u001b[0m\u001b[0mdropout_layer\u001b[0m\u001b[0;34m:\u001b[0m\u001b[0;34m\u001b[0m\u001b[0;34m\u001b[0m\u001b[0m\n",
      "\u001b[0;32m/opt/conda/lib/python3.6/site-packages/torch/nn/modules/module.py\u001b[0m in \u001b[0;36m_call_impl\u001b[0;34m(self, *input, **kwargs)\u001b[0m\n\u001b[1;32m    748\u001b[0m             \u001b[0mresult\u001b[0m \u001b[0;34m=\u001b[0m \u001b[0mself\u001b[0m\u001b[0;34m.\u001b[0m\u001b[0m_slow_forward\u001b[0m\u001b[0;34m(\u001b[0m\u001b[0;34m*\u001b[0m\u001b[0minput\u001b[0m\u001b[0;34m,\u001b[0m \u001b[0;34m**\u001b[0m\u001b[0mkwargs\u001b[0m\u001b[0;34m)\u001b[0m\u001b[0;34m\u001b[0m\u001b[0;34m\u001b[0m\u001b[0m\n\u001b[1;32m    749\u001b[0m         \u001b[0;32melse\u001b[0m\u001b[0;34m:\u001b[0m\u001b[0;34m\u001b[0m\u001b[0;34m\u001b[0m\u001b[0m\n\u001b[0;32m--> 750\u001b[0;31m             \u001b[0mresult\u001b[0m \u001b[0;34m=\u001b[0m \u001b[0mself\u001b[0m\u001b[0;34m.\u001b[0m\u001b[0mforward\u001b[0m\u001b[0;34m(\u001b[0m\u001b[0;34m*\u001b[0m\u001b[0minput\u001b[0m\u001b[0;34m,\u001b[0m \u001b[0;34m**\u001b[0m\u001b[0mkwargs\u001b[0m\u001b[0;34m)\u001b[0m\u001b[0;34m\u001b[0m\u001b[0;34m\u001b[0m\u001b[0m\n\u001b[0m\u001b[1;32m    751\u001b[0m         for hook in itertools.chain(\n\u001b[1;32m    752\u001b[0m                 \u001b[0m_global_forward_hooks\u001b[0m\u001b[0;34m.\u001b[0m\u001b[0mvalues\u001b[0m\u001b[0;34m(\u001b[0m\u001b[0;34m)\u001b[0m\u001b[0;34m,\u001b[0m\u001b[0;34m\u001b[0m\u001b[0;34m\u001b[0m\u001b[0m\n",
      "\u001b[0;32m<ipython-input-119-1d5e6eb028bd>\u001b[0m in \u001b[0;36mforward\u001b[0;34m(self, din)\u001b[0m\n\u001b[1;32m     10\u001b[0m \u001b[0;34m\u001b[0m\u001b[0m\n\u001b[1;32m     11\u001b[0m         \u001b[0;32mif\u001b[0m \u001b[0mself\u001b[0m\u001b[0;34m.\u001b[0m\u001b[0mtraining\u001b[0m\u001b[0;34m:\u001b[0m\u001b[0;34m\u001b[0m\u001b[0;34m\u001b[0m\u001b[0m\n\u001b[0;32m---> 12\u001b[0;31m             \u001b[0;32mreturn\u001b[0m \u001b[0mdin\u001b[0m \u001b[0;34m+\u001b[0m \u001b[0mtorch\u001b[0m\u001b[0;34m.\u001b[0m\u001b[0mautograd\u001b[0m\u001b[0;34m.\u001b[0m\u001b[0mVariable\u001b[0m\u001b[0;34m(\u001b[0m\u001b[0mtorch\u001b[0m\u001b[0;34m.\u001b[0m\u001b[0mrandn\u001b[0m\u001b[0;34m(\u001b[0m\u001b[0mdin\u001b[0m\u001b[0;34m.\u001b[0m\u001b[0msize\u001b[0m\u001b[0;34m(\u001b[0m\u001b[0;34m)\u001b[0m\u001b[0;34m)\u001b[0m\u001b[0;34m.\u001b[0m\u001b[0mcuda\u001b[0m\u001b[0;34m(\u001b[0m\u001b[0;34m)\u001b[0m \u001b[0;34m*\u001b[0m \u001b[0mself\u001b[0m\u001b[0;34m.\u001b[0m\u001b[0mstddev\u001b[0m\u001b[0;34m)\u001b[0m\u001b[0;34m\u001b[0m\u001b[0;34m\u001b[0m\u001b[0m\n\u001b[0m\u001b[1;32m     13\u001b[0m \u001b[0;34m\u001b[0m\u001b[0m\n\u001b[1;32m     14\u001b[0m         \u001b[0;32mreturn\u001b[0m \u001b[0mdin\u001b[0m\u001b[0;34m\u001b[0m\u001b[0;34m\u001b[0m\u001b[0m\n",
      "\u001b[0;31mKeyboardInterrupt\u001b[0m: "
     ]
    }
   ],
   "source": [
    "early_stopping = EarlyStopping(patience=10)\n",
    "metrices = train_MeanTeacher(train_dataloader,val_dataloader,len_labelled_data,len_unlabelled_data,writer, early_stopping,dropout_layer=True, noise_layer=True)"
   ]
  },
  {
   "cell_type": "code",
   "execution_count": 39,
   "metadata": {},
   "outputs": [
    {
     "data": {
      "text/plain": [
       "([0.1694122159977754,\n",
       "  0.0927928839251399,\n",
       "  0.07892614689966043,\n",
       "  0.07999764388427139,\n",
       "  0.08070516357198358,\n",
       "  0.0799577594610552,\n",
       "  0.07580250467484197,\n",
       "  0.07685241247992963,\n",
       "  0.07149627465444307,\n",
       "  0.0715797732056429,\n",
       "  0.06676684902360042,\n",
       "  0.06682306761232515],\n",
       " [0.6054856963952382,\n",
       "  0.5299651747941971,\n",
       "  0.4972467408577601,\n",
       "  0.4507063112904628,\n",
       "  0.40456871934235095,\n",
       "  0.3605777753641208,\n",
       "  0.3135115907154977,\n",
       "  0.28061536462667086,\n",
       "  0.2551073833058278,\n",
       "  0.24000154518832764,\n",
       "  0.21886559151423474,\n",
       "  0.20686908586261174],\n",
       " [0.6236533303558827,\n",
       "  0.6340088784694672,\n",
       "  0.6883879771828652,\n",
       "  0.6507004225254058,\n",
       "  0.6063316278159618,\n",
       "  0.5604721746345361,\n",
       "  0.5030178522815307,\n",
       "  0.4727463952327768,\n",
       "  0.43384806998074055,\n",
       "  0.4189509786417087,\n",
       "  0.3857827138900757,\n",
       "  0.37392675479253135],\n",
       " [0.38779061984024277,\n",
       "  0.41038270206373445,\n",
       "  0.3928548229944787,\n",
       "  0.39714755896873283,\n",
       "  0.3832370364952826,\n",
       "  0.36978629329403095,\n",
       "  0.37184750733137834,\n",
       "  0.36842505899368194,\n",
       "  0.3524795982423101,\n",
       "  0.3893719806763285,\n",
       "  0.3679118916505433,\n",
       "  0.3718167644220061],\n",
       " [0.8823847123273577,\n",
       "  0.8991907300272003,\n",
       "  0.9244118812521733,\n",
       "  0.9293633705048686,\n",
       "  0.9327399325245855,\n",
       "  0.931846798744043,\n",
       "  0.9316811788345613,\n",
       "  0.9341063415796371,\n",
       "  0.9346676378376666,\n",
       "  0.928967100720926,\n",
       "  0.9323801487095388,\n",
       "  0.9326262312574154],\n",
       " [0.8026781347984927,\n",
       "  0.8278198084169951,\n",
       "  0.8655610850617035,\n",
       "  0.8735437102666628,\n",
       "  0.8787072462100509,\n",
       "  0.8769956563012399,\n",
       "  0.8767655265656014,\n",
       "  0.8806633489629779,\n",
       "  0.8813105888444611,\n",
       "  0.8727382561919282,\n",
       "  0.8778298765929292,\n",
       "  0.8783045191726836],\n",
       " [0.29807425886285654,\n",
       "  0.3242772338680995,\n",
       "  0.3178295302889087,\n",
       "  0.3294976108274731,\n",
       "  0.3244684662994489,\n",
       "  0.31074136924020157,\n",
       "  0.3120870723907623,\n",
       "  0.31586133865515026,\n",
       "  0.3047694967900099,\n",
       "  0.32169996920604177,\n",
       "  0.3105399174512989,\n",
       "  0.3144902506731403],\n",
       " [tensor(0.5795, device='cuda:0'),\n",
       "  tensor(0.5904, device='cuda:0'),\n",
       "  tensor(0.6856, device='cuda:0'),\n",
       "  tensor(0.7613, device='cuda:0'),\n",
       "  tensor(0.9408, device='cuda:0'),\n",
       "  tensor(0.9796, device='cuda:0'),\n",
       "  tensor(1.0468, device='cuda:0'),\n",
       "  tensor(1.2427, device='cuda:0'),\n",
       "  tensor(1.4541, device='cuda:0'),\n",
       "  tensor(1.3252, device='cuda:0'),\n",
       "  tensor(1.5424, device='cuda:0'),\n",
       "  tensor(1.3981, device='cuda:0')],\n",
       " [0.8284486628615404,\n",
       "  0.8955365622032289,\n",
       "  0.9203763699720089,\n",
       "  0.9272769722488347,\n",
       "  0.9311658582656998,\n",
       "  0.9307788874407298,\n",
       "  0.9313041741561814,\n",
       "  0.9322089288133972,\n",
       "  0.9329440033098356,\n",
       "  0.9343559451219513,\n",
       "  0.9337716268470658,\n",
       "  0.9334276719559894],\n",
       " [0.3737667636533895,\n",
       "  0.4165561659405191,\n",
       "  0.40913219887361474,\n",
       "  0.3913482918940772,\n",
       "  0.3906759246138586,\n",
       "  0.3811566230609765,\n",
       "  0.3803415723859624,\n",
       "  0.3743103067755463,\n",
       "  0.3694448600927727,\n",
       "  0.36885496183206107,\n",
       "  0.3637195819665878,\n",
       "  0.3686670687575392],\n",
       " [0.7306762937606075,\n",
       "  0.8228001035583811,\n",
       "  0.8596640105859679,\n",
       "  0.8700773811236084,\n",
       "  0.8763052670943244,\n",
       "  0.8754854299111124,\n",
       "  0.8763196502028018,\n",
       "  0.8776716623996779,\n",
       "  0.878779161752438,\n",
       "  0.8810804591088226,\n",
       "  0.8800304921899721,\n",
       "  0.8795558496102177],\n",
       " [0.29645759253870224,\n",
       "  0.3321719008834689,\n",
       "  0.3297185835104641,\n",
       "  0.32058671898702956,\n",
       "  0.32725313981956966,\n",
       "  0.3180398840861912,\n",
       "  0.3185150954918174,\n",
       "  0.31551846065330963,\n",
       "  0.31335662966124705,\n",
       "  0.3169710052120971,\n",
       "  0.3109959823090237,\n",
       "  0.3140669110666744],\n",
       " [tensor(0.5598, device='cuda:0'),\n",
       "  tensor(0.5681, device='cuda:0'),\n",
       "  tensor(0.6524, device='cuda:0'),\n",
       "  tensor(0.7623, device='cuda:0'),\n",
       "  tensor(0.8800, device='cuda:0'),\n",
       "  tensor(0.9756, device='cuda:0'),\n",
       "  tensor(1.1126, device='cuda:0'),\n",
       "  tensor(1.2060, device='cuda:0'),\n",
       "  tensor(1.3297, device='cuda:0'),\n",
       "  tensor(1.4157, device='cuda:0'),\n",
       "  tensor(1.4659, device='cuda:0'),\n",
       "  tensor(1.4956, device='cuda:0')])"
      ]
     },
     "execution_count": 39,
     "metadata": {},
     "output_type": "execute_result"
    }
   ],
   "source": [
    "metrices"
   ]
  },
  {
   "cell_type": "code",
   "execution_count": 186,
   "metadata": {},
   "outputs": [
    {
     "name": "stderr",
     "output_type": "stream",
     "text": [
      "Some weights of the model checkpoint at xlm-roberta-base were not used when initializing XLMRobertaModel: ['lm_head.layer_norm.bias', 'lm_head.dense.weight', 'roberta.pooler.dense.bias', 'lm_head.bias', 'lm_head.decoder.weight', 'lm_head.dense.bias', 'lm_head.layer_norm.weight', 'roberta.pooler.dense.weight']\n",
      "- This IS expected if you are initializing XLMRobertaModel from the checkpoint of a model trained on another task or with another architecture (e.g. initializing a BertForSequenceClassification model from a BertForPreTraining model).\n",
      "- This IS NOT expected if you are initializing XLMRobertaModel from the checkpoint of a model that you expect to be exactly identical (initializing a BertForSequenceClassification model from a BertForSequenceClassification model).\n",
      "Some weights of the model checkpoint at xlm-roberta-base were not used when initializing XLMRobertaModel: ['lm_head.layer_norm.bias', 'lm_head.dense.weight', 'roberta.pooler.dense.bias', 'lm_head.bias', 'lm_head.decoder.weight', 'lm_head.dense.bias', 'lm_head.layer_norm.weight', 'roberta.pooler.dense.weight']\n",
      "- This IS expected if you are initializing XLMRobertaModel from the checkpoint of a model trained on another task or with another architecture (e.g. initializing a BertForSequenceClassification model from a BertForPreTraining model).\n",
      "- This IS NOT expected if you are initializing XLMRobertaModel from the checkpoint of a model that you expect to be exactly identical (initializing a BertForSequenceClassification model from a BertForSequenceClassification model).\n",
      "  0%|          | 0/1200 [00:00<?, ?it/s]"
     ]
    },
    {
     "name": "stdout",
     "output_type": "stream",
     "text": [
      "Current epoch is 1 of 30\n"
     ]
    },
    {
     "name": "stderr",
     "output_type": "stream",
     "text": [
      " 17%|█▋        | 201/1200 [01:44<08:44,  1.91it/s]"
     ]
    },
    {
     "name": "stdout",
     "output_type": "stream",
     "text": [
      "train loss :  0.6840269237756729\n",
      "Consistency Cost : 0.24591102257370948\n",
      "Classification Cost : 0.6798845852911473\n"
     ]
    },
    {
     "name": "stderr",
     "output_type": "stream",
     "text": [
      " 33%|███▎      | 401/1200 [03:30<07:10,  1.86it/s]"
     ]
    },
    {
     "name": "stdout",
     "output_type": "stream",
     "text": [
      "train loss :  0.6481676719337702\n",
      "Consistency Cost : 0.19939730882644655\n",
      "Classification Cost : 0.6448088518530131\n"
     ]
    },
    {
     "name": "stderr",
     "output_type": "stream",
     "text": [
      " 50%|█████     | 601/1200 [05:18<05:14,  1.90it/s]"
     ]
    },
    {
     "name": "stdout",
     "output_type": "stream",
     "text": [
      "train loss :  0.6290294613013976\n",
      "Consistency Cost : 0.17903795874367157\n",
      "Classification Cost : 0.6260135913391908\n"
     ]
    },
    {
     "name": "stderr",
     "output_type": "stream",
     "text": [
      " 67%|██████▋   | 801/1200 [07:03<03:30,  1.89it/s]"
     ]
    },
    {
     "name": "stdout",
     "output_type": "stream",
     "text": [
      "train loss :  0.6182544086925919\n",
      "Consistency Cost : 0.16830754838883877\n",
      "Classification Cost : 0.6154192909225822\n"
     ]
    },
    {
     "name": "stderr",
     "output_type": "stream",
     "text": [
      " 83%|████████▎ | 1001/1200 [08:50<01:48,  1.83it/s]"
     ]
    },
    {
     "name": "stdout",
     "output_type": "stream",
     "text": [
      "train loss :  0.6084349631452933\n",
      "Consistency Cost : 0.16014561277627945\n",
      "Classification Cost : 0.6057373321950436\n"
     ]
    },
    {
     "name": "stderr",
     "output_type": "stream",
     "text": [
      "100%|██████████| 1200/1200 [10:37<00:00,  1.88it/s]\n",
      "  0%|          | 0/400 [00:00<?, ?it/s]"
     ]
    },
    {
     "name": "stdout",
     "output_type": "stream",
     "text": [
      "---------Running validation for student -------------\n"
     ]
    },
    {
     "name": "stderr",
     "output_type": "stream",
     "text": [
      "100%|██████████| 400/400 [00:41<00:00,  9.57it/s]\n"
     ]
    },
    {
     "name": "stdout",
     "output_type": "stream",
     "text": [
      "Overall validation loss: tensor(0.5543, device='cuda:0')\n",
      "Average F1 Validation score for whole sentence class 0 : 0.4218941010091325\n",
      "Average F1 Validation score for whole sentence class 1 : 0.8672691050378083\n",
      "Average Accuracy Validation score whole sentence  : 0.7841065234418709\n",
      "Average mcc Validation score whole sentence : 0.33162734317206516\n",
      "Classification Report :\n",
      "               precision    recall  f1-score   support\n",
      "\n",
      "           0       0.32      0.62      0.42     28264\n",
      "           1       0.94      0.81      0.87    195161\n",
      "\n",
      "    accuracy                           0.78    223425\n",
      "   macro avg       0.63      0.72      0.64    223425\n",
      "weighted avg       0.86      0.78      0.81    223425\n",
      "\n"
     ]
    },
    {
     "name": "stderr",
     "output_type": "stream",
     "text": [
      "  0%|          | 0/400 [00:00<?, ?it/s]"
     ]
    },
    {
     "name": "stdout",
     "output_type": "stream",
     "text": [
      "---------Running validation for teacher -------------\n"
     ]
    },
    {
     "name": "stderr",
     "output_type": "stream",
     "text": [
      "100%|██████████| 400/400 [00:41<00:00,  9.62it/s]\n"
     ]
    },
    {
     "name": "stdout",
     "output_type": "stream",
     "text": [
      "Overall validation loss: tensor(0.5385, device='cuda:0')\n",
      "Average F1 Validation score for whole sentence class 0 : 0.42251387641604365\n",
      "Average F1 Validation score for whole sentence class 1 : 0.8494104568782853\n",
      "Average Accuracy Validation score whole sentence  : 0.7611144679422625\n",
      "Average mcc Validation score whole sentence : 0.3395183919367499\n",
      "Classification Report :\n",
      "               precision    recall  f1-score   support\n",
      "\n",
      "           0       0.30      0.69      0.42     28264\n",
      "           1       0.95      0.77      0.85    195161\n",
      "\n",
      "    accuracy                           0.76    223425\n",
      "   macro avg       0.62      0.73      0.64    223425\n",
      "weighted avg       0.86      0.76      0.80    223425\n",
      "\n"
     ]
    },
    {
     "name": "stderr",
     "output_type": "stream",
     "text": [
      "  0%|          | 0/1200 [00:00<?, ?it/s]"
     ]
    },
    {
     "name": "stdout",
     "output_type": "stream",
     "text": [
      "Current epoch is 2 of 30\n"
     ]
    },
    {
     "name": "stderr",
     "output_type": "stream",
     "text": [
      " 17%|█▋        | 201/1200 [01:47<09:09,  1.82it/s]"
     ]
    },
    {
     "name": "stdout",
     "output_type": "stream",
     "text": [
      "train loss :  0.5611720892880112\n",
      "Consistency Cost : 0.12633032597601412\n",
      "Classification Cost : 0.5422052754461766\n"
     ]
    },
    {
     "name": "stderr",
     "output_type": "stream",
     "text": [
      " 33%|███▎      | 401/1200 [03:33<07:00,  1.90it/s]"
     ]
    },
    {
     "name": "stdout",
     "output_type": "stream",
     "text": [
      "train loss :  0.5562462484743446\n",
      "Consistency Cost : 0.12501543086022138\n",
      "Classification Cost : 0.5374768479913473\n"
     ]
    },
    {
     "name": "stderr",
     "output_type": "stream",
     "text": [
      " 50%|█████     | 601/1200 [05:19<05:19,  1.87it/s]"
     ]
    },
    {
     "name": "stdout",
     "output_type": "stream",
     "text": [
      "train loss :  0.5557154391643901\n",
      "Consistency Cost : 0.1262499299645424\n",
      "Classification Cost : 0.5367606960237026\n"
     ]
    },
    {
     "name": "stderr",
     "output_type": "stream",
     "text": [
      " 67%|██████▋   | 801/1200 [07:07<03:33,  1.87it/s]"
     ]
    },
    {
     "name": "stdout",
     "output_type": "stream",
     "text": [
      "train loss :  0.5508990832301788\n",
      "Consistency Cost : 0.12685938664712013\n",
      "Classification Cost : 0.5318528378382326\n"
     ]
    },
    {
     "name": "stderr",
     "output_type": "stream",
     "text": [
      " 83%|████████▎ | 1001/1200 [08:53<01:44,  1.90it/s]"
     ]
    },
    {
     "name": "stdout",
     "output_type": "stream",
     "text": [
      "train loss :  0.5485797943659126\n",
      "Consistency Cost : 0.12770078866928816\n",
      "Classification Cost : 0.5294072236418724\n"
     ]
    },
    {
     "name": "stderr",
     "output_type": "stream",
     "text": [
      "100%|██████████| 1200/1200 [10:38<00:00,  1.88it/s]\n",
      "  0%|          | 0/400 [00:00<?, ?it/s]"
     ]
    },
    {
     "name": "stdout",
     "output_type": "stream",
     "text": [
      "---------Running validation for student -------------\n"
     ]
    },
    {
     "name": "stderr",
     "output_type": "stream",
     "text": [
      "100%|██████████| 400/400 [00:43<00:00,  9.30it/s]\n"
     ]
    },
    {
     "name": "stdout",
     "output_type": "stream",
     "text": [
      "Overall validation loss: tensor(0.5255, device='cuda:0')\n",
      "Average F1 Validation score for whole sentence class 0 : 0.4374632935518544\n",
      "Average F1 Validation score for whole sentence class 1 : 0.8576444096722722\n",
      "Average Accuracy Validation score whole sentence  : 0.7727872887993734\n",
      "Average mcc Validation score whole sentence : 0.35782688660574513\n",
      "Classification Report :\n",
      "               precision    recall  f1-score   support\n",
      "\n",
      "           0       0.32      0.70      0.44     28264\n",
      "           1       0.95      0.78      0.86    195161\n",
      "\n",
      "    accuracy                           0.77    223425\n",
      "   macro avg       0.63      0.74      0.65    223425\n",
      "weighted avg       0.87      0.77      0.80    223425\n",
      "\n"
     ]
    },
    {
     "name": "stderr",
     "output_type": "stream",
     "text": [
      "  0%|          | 0/400 [00:00<?, ?it/s]"
     ]
    },
    {
     "name": "stdout",
     "output_type": "stream",
     "text": [
      "---------Running validation for teacher -------------\n"
     ]
    },
    {
     "name": "stderr",
     "output_type": "stream",
     "text": [
      "100%|██████████| 400/400 [00:42<00:00,  9.36it/s]\n"
     ]
    },
    {
     "name": "stdout",
     "output_type": "stream",
     "text": [
      "Overall validation loss: tensor(0.5352, device='cuda:0')\n",
      "Average F1 Validation score for whole sentence class 0 : 0.45089854782673894\n",
      "Average F1 Validation score for whole sentence class 1 : 0.8802230994024514\n",
      "Average Accuracy Validation score whole sentence  : 0.8033434038267875\n",
      "Average mcc Validation score whole sentence : 0.36680010878650526\n",
      "Classification Report :\n",
      "               precision    recall  f1-score   support\n",
      "\n",
      "           0       0.35      0.64      0.45     28264\n",
      "           1       0.94      0.83      0.88    195161\n",
      "\n",
      "    accuracy                           0.80    223425\n",
      "   macro avg       0.64      0.73      0.67    223425\n",
      "weighted avg       0.87      0.80      0.83    223425\n",
      "\n"
     ]
    },
    {
     "name": "stderr",
     "output_type": "stream",
     "text": [
      "  0%|          | 0/1200 [00:00<?, ?it/s]"
     ]
    },
    {
     "name": "stdout",
     "output_type": "stream",
     "text": [
      "Current epoch is 3 of 30\n"
     ]
    },
    {
     "name": "stderr",
     "output_type": "stream",
     "text": [
      " 17%|█▋        | 201/1200 [01:45<08:40,  1.92it/s]"
     ]
    },
    {
     "name": "stdout",
     "output_type": "stream",
     "text": [
      "train loss :  0.5496814604103565\n",
      "Consistency Cost : 0.11255875851958991\n",
      "Classification Cost : 0.4690599010139704\n"
     ]
    },
    {
     "name": "stderr",
     "output_type": "stream",
     "text": [
      " 33%|███▎      | 401/1200 [03:29<06:56,  1.92it/s]"
     ]
    },
    {
     "name": "stdout",
     "output_type": "stream",
     "text": [
      "train loss :  0.5531957303732633\n",
      "Consistency Cost : 0.11669918432831765\n",
      "Classification Cost : 0.46960854150354864\n"
     ]
    },
    {
     "name": "stderr",
     "output_type": "stream",
     "text": [
      " 50%|█████     | 601/1200 [05:13<05:11,  1.92it/s]"
     ]
    },
    {
     "name": "stdout",
     "output_type": "stream",
     "text": [
      "train loss :  0.5533181980500619\n",
      "Consistency Cost : 0.11784136489033699\n",
      "Classification Cost : 0.46891290771464506\n"
     ]
    },
    {
     "name": "stderr",
     "output_type": "stream",
     "text": [
      " 67%|██████▋   | 801/1200 [06:58<03:28,  1.91it/s]"
     ]
    },
    {
     "name": "stdout",
     "output_type": "stream",
     "text": [
      "train loss :  0.5510118177346885\n",
      "Consistency Cost : 0.11838029908016325\n",
      "Classification Cost : 0.4662205092888325\n"
     ]
    },
    {
     "name": "stderr",
     "output_type": "stream",
     "text": [
      " 83%|████████▎ | 1001/1200 [08:42<01:43,  1.92it/s]"
     ]
    },
    {
     "name": "stdout",
     "output_type": "stream",
     "text": [
      "train loss :  0.5510335969552398\n",
      "Consistency Cost : 0.11764467623829841\n",
      "Classification Cost : 0.4667691874280572\n"
     ]
    },
    {
     "name": "stderr",
     "output_type": "stream",
     "text": [
      "100%|██████████| 1200/1200 [10:26<00:00,  1.92it/s]\n",
      "  0%|          | 0/400 [00:00<?, ?it/s]"
     ]
    },
    {
     "name": "stdout",
     "output_type": "stream",
     "text": [
      "---------Running validation for student -------------\n"
     ]
    },
    {
     "name": "stderr",
     "output_type": "stream",
     "text": [
      "100%|██████████| 400/400 [00:41<00:00,  9.74it/s]\n"
     ]
    },
    {
     "name": "stdout",
     "output_type": "stream",
     "text": [
      "Overall validation loss: tensor(0.7311, device='cuda:0')\n",
      "Average F1 Validation score for whole sentence class 0 : 0.4131991009198572\n",
      "Average F1 Validation score for whole sentence class 1 : 0.9211311299367618\n",
      "Average Accuracy Validation score whole sentence  : 0.8609511021595614\n",
      "Average mcc Validation score whole sentence : 0.3357309671696928\n",
      "Classification Report :\n",
      "               precision    recall  f1-score   support\n",
      "\n",
      "           0       0.44      0.39      0.41     28264\n",
      "           1       0.91      0.93      0.92    195161\n",
      "\n",
      "    accuracy                           0.86    223425\n",
      "   macro avg       0.68      0.66      0.67    223425\n",
      "weighted avg       0.85      0.86      0.86    223425\n",
      "\n"
     ]
    },
    {
     "name": "stderr",
     "output_type": "stream",
     "text": [
      "  0%|          | 0/400 [00:00<?, ?it/s]"
     ]
    },
    {
     "name": "stdout",
     "output_type": "stream",
     "text": [
      "---------Running validation for teacher -------------\n"
     ]
    },
    {
     "name": "stderr",
     "output_type": "stream",
     "text": [
      "100%|██████████| 400/400 [00:41<00:00,  9.74it/s]\n"
     ]
    },
    {
     "name": "stdout",
     "output_type": "stream",
     "text": [
      "Overall validation loss: tensor(0.6279, device='cuda:0')\n",
      "Average F1 Validation score for whole sentence class 0 : 0.44651026488448947\n",
      "Average F1 Validation score for whole sentence class 1 : 0.9117939324437571\n",
      "Average Accuracy Validation score whole sentence  : 0.8478370817947857\n",
      "Average mcc Validation score whole sentence : 0.36049186787961107\n",
      "Classification Report :\n",
      "               precision    recall  f1-score   support\n",
      "\n",
      "           0       0.41      0.49      0.45     28264\n",
      "           1       0.92      0.90      0.91    195161\n",
      "\n",
      "    accuracy                           0.85    223425\n",
      "   macro avg       0.67      0.69      0.68    223425\n",
      "weighted avg       0.86      0.85      0.85    223425\n",
      "\n"
     ]
    },
    {
     "name": "stderr",
     "output_type": "stream",
     "text": [
      "  0%|          | 0/1200 [00:00<?, ?it/s]"
     ]
    },
    {
     "name": "stdout",
     "output_type": "stream",
     "text": [
      "Current epoch is 4 of 30\n"
     ]
    },
    {
     "name": "stderr",
     "output_type": "stream",
     "text": [
      " 17%|█▋        | 201/1200 [01:44<08:39,  1.92it/s]"
     ]
    },
    {
     "name": "stdout",
     "output_type": "stream",
     "text": [
      "train loss :  0.5628368245065212\n",
      "Consistency Cost : 0.09101066805422306\n",
      "Classification Cost : 0.3963747537136078\n"
     ]
    },
    {
     "name": "stderr",
     "output_type": "stream",
     "text": [
      " 33%|███▎      | 401/1200 [03:29<06:56,  1.92it/s]"
     ]
    },
    {
     "name": "stdout",
     "output_type": "stream",
     "text": [
      "train loss :  0.5825953862629831\n",
      "Consistency Cost : 0.09303472908213735\n",
      "Classification Cost : 0.4124312296696007\n"
     ]
    },
    {
     "name": "stderr",
     "output_type": "stream",
     "text": [
      " 50%|█████     | 601/1200 [05:13<05:16,  1.89it/s]"
     ]
    },
    {
     "name": "stdout",
     "output_type": "stream",
     "text": [
      "train loss :  0.5849381098834177\n",
      "Consistency Cost : 0.09268537701418002\n",
      "Classification Cost : 0.41541293158506354\n"
     ]
    },
    {
     "name": "stderr",
     "output_type": "stream",
     "text": [
      " 67%|██████▋   | 801/1200 [07:01<03:38,  1.83it/s]"
     ]
    },
    {
     "name": "stdout",
     "output_type": "stream",
     "text": [
      "train loss :  0.5883344661945011\n",
      "Consistency Cost : 0.0928415850433521\n",
      "Classification Cost : 0.4185235773958266\n"
     ]
    },
    {
     "name": "stderr",
     "output_type": "stream",
     "text": [
      " 83%|████████▎ | 1001/1200 [08:47<01:44,  1.90it/s]"
     ]
    },
    {
     "name": "stdout",
     "output_type": "stream",
     "text": [
      "train loss :  0.5941983079081401\n",
      "Consistency Cost : 0.0927313281428069\n",
      "Classification Cost : 0.42458908328413963\n"
     ]
    },
    {
     "name": "stderr",
     "output_type": "stream",
     "text": [
      "100%|██████████| 1200/1200 [10:32<00:00,  1.90it/s]\n",
      "  0%|          | 0/400 [00:00<?, ?it/s]"
     ]
    },
    {
     "name": "stdout",
     "output_type": "stream",
     "text": [
      "---------Running validation for student -------------\n"
     ]
    },
    {
     "name": "stderr",
     "output_type": "stream",
     "text": [
      "100%|██████████| 400/400 [00:42<00:00,  9.46it/s]\n"
     ]
    },
    {
     "name": "stdout",
     "output_type": "stream",
     "text": [
      "Overall validation loss: tensor(0.8685, device='cuda:0')\n",
      "Average F1 Validation score for whole sentence class 0 : 0.3662812885845774\n",
      "Average F1 Validation score for whole sentence class 1 : 0.9298318439989559\n",
      "Average Accuracy Validation score whole sentence  : 0.8736533512364328\n",
      "Average mcc Validation score whole sentence : 0.3159058070339356\n",
      "Classification Report :\n",
      "               precision    recall  f1-score   support\n",
      "\n",
      "           0       0.50      0.29      0.37     28264\n",
      "           1       0.90      0.96      0.93    195161\n",
      "\n",
      "    accuracy                           0.87    223425\n",
      "   macro avg       0.70      0.62      0.65    223425\n",
      "weighted avg       0.85      0.87      0.86    223425\n",
      "\n"
     ]
    },
    {
     "name": "stderr",
     "output_type": "stream",
     "text": [
      "  0%|          | 0/400 [00:00<?, ?it/s]"
     ]
    },
    {
     "name": "stdout",
     "output_type": "stream",
     "text": [
      "---------Running validation for teacher -------------\n"
     ]
    },
    {
     "name": "stderr",
     "output_type": "stream",
     "text": [
      "100%|██████████| 400/400 [00:43<00:00,  9.27it/s]\n"
     ]
    },
    {
     "name": "stdout",
     "output_type": "stream",
     "text": [
      "Overall validation loss: tensor(0.8202, device='cuda:0')\n",
      "Average F1 Validation score for whole sentence class 0 : 0.40407732293697207\n",
      "Average F1 Validation score for whole sentence class 1 : 0.92618749402669\n",
      "Average Accuracy Validation score whole sentence  : 0.8686449591585543\n",
      "Average mcc Validation score whole sentence : 0.33672660249232017\n",
      "Classification Report :\n",
      "               precision    recall  f1-score   support\n",
      "\n",
      "           0       0.47      0.35      0.40     28264\n",
      "           1       0.91      0.94      0.93    195161\n",
      "\n",
      "    accuracy                           0.87    223425\n",
      "   macro avg       0.69      0.65      0.67    223425\n",
      "weighted avg       0.85      0.87      0.86    223425\n",
      "\n"
     ]
    },
    {
     "name": "stderr",
     "output_type": "stream",
     "text": [
      "  0%|          | 0/1200 [00:00<?, ?it/s]"
     ]
    },
    {
     "name": "stdout",
     "output_type": "stream",
     "text": [
      "Current epoch is 5 of 30\n"
     ]
    },
    {
     "name": "stderr",
     "output_type": "stream",
     "text": [
      " 17%|█▋        | 201/1200 [01:47<08:43,  1.91it/s]"
     ]
    },
    {
     "name": "stdout",
     "output_type": "stream",
     "text": [
      "train loss :  0.5726191497780383\n",
      "Consistency Cost : 0.07723586943699047\n",
      "Classification Cost : 0.379529477218166\n"
     ]
    },
    {
     "name": "stderr",
     "output_type": "stream",
     "text": [
      " 33%|███▎      | 401/1200 [03:32<07:01,  1.89it/s]"
     ]
    },
    {
     "name": "stdout",
     "output_type": "stream",
     "text": [
      "train loss :  0.5662723982241005\n",
      "Consistency Cost : 0.07841782694798895\n",
      "Classification Cost : 0.3702278325613588\n"
     ]
    },
    {
     "name": "stderr",
     "output_type": "stream",
     "text": [
      " 50%|█████     | 601/1200 [05:20<05:30,  1.81it/s]"
     ]
    },
    {
     "name": "stdout",
     "output_type": "stream",
     "text": [
      "train loss :  0.5853271516955768\n",
      "Consistency Cost : 0.08148066617315636\n",
      "Classification Cost : 0.38162548817073305\n"
     ]
    },
    {
     "name": "stderr",
     "output_type": "stream",
     "text": [
      " 67%|██████▋   | 801/1200 [07:06<03:29,  1.90it/s]"
     ]
    },
    {
     "name": "stdout",
     "output_type": "stream",
     "text": [
      "train loss :  0.5870308358815964\n",
      "Consistency Cost : 0.08149195924575907\n",
      "Classification Cost : 0.38330093897879125\n"
     ]
    },
    {
     "name": "stderr",
     "output_type": "stream",
     "text": [
      " 83%|████████▎ | 1001/1200 [08:51<01:45,  1.88it/s]"
     ]
    },
    {
     "name": "stdout",
     "output_type": "stream",
     "text": [
      "train loss :  0.5920351465670391\n",
      "Consistency Cost : 0.08216562798945233\n",
      "Classification Cost : 0.3866210777331144\n"
     ]
    },
    {
     "name": "stderr",
     "output_type": "stream",
     "text": [
      "100%|██████████| 1200/1200 [10:39<00:00,  1.88it/s]\n",
      "  0%|          | 0/400 [00:00<?, ?it/s]"
     ]
    },
    {
     "name": "stdout",
     "output_type": "stream",
     "text": [
      "---------Running validation for student -------------\n"
     ]
    },
    {
     "name": "stderr",
     "output_type": "stream",
     "text": [
      "100%|██████████| 400/400 [00:41<00:00,  9.56it/s]\n"
     ]
    },
    {
     "name": "stdout",
     "output_type": "stream",
     "text": [
      "Overall validation loss: tensor(1.1020, device='cuda:0')\n",
      "Average F1 Validation score for whole sentence class 0 : 0.3466261838945031\n",
      "Average F1 Validation score for whole sentence class 1 : 0.9283961898707774\n",
      "Average Accuracy Validation score whole sentence  : 0.8709365558912386\n",
      "Average mcc Validation score whole sentence : 0.29569889343653677\n",
      "Classification Report :\n",
      "               precision    recall  f1-score   support\n",
      "\n",
      "           0       0.48      0.27      0.35     28264\n",
      "           1       0.90      0.96      0.93    195161\n",
      "\n",
      "    accuracy                           0.87    223425\n",
      "   macro avg       0.69      0.61      0.64    223425\n",
      "weighted avg       0.85      0.87      0.85    223425\n",
      "\n"
     ]
    },
    {
     "name": "stderr",
     "output_type": "stream",
     "text": [
      "  0%|          | 0/400 [00:00<?, ?it/s]"
     ]
    },
    {
     "name": "stdout",
     "output_type": "stream",
     "text": [
      "---------Running validation for teacher -------------\n"
     ]
    },
    {
     "name": "stderr",
     "output_type": "stream",
     "text": [
      "100%|██████████| 400/400 [00:41<00:00,  9.67it/s]\n"
     ]
    },
    {
     "name": "stdout",
     "output_type": "stream",
     "text": [
      "Overall validation loss: tensor(0.9785, device='cuda:0')\n",
      "Average F1 Validation score for whole sentence class 0 : 0.3804789877993674\n",
      "Average F1 Validation score for whole sentence class 1 : 0.9280902749158918\n",
      "Average Accuracy Validation score whole sentence  : 0.8711379657603222\n",
      "Average mcc Validation score whole sentence : 0.32172260343733866\n",
      "Classification Report :\n",
      "               precision    recall  f1-score   support\n",
      "\n",
      "           0       0.49      0.31      0.38     28264\n",
      "           1       0.91      0.95      0.93    195161\n",
      "\n",
      "    accuracy                           0.87    223425\n",
      "   macro avg       0.70      0.63      0.65    223425\n",
      "weighted avg       0.85      0.87      0.86    223425\n",
      "\n"
     ]
    },
    {
     "name": "stderr",
     "output_type": "stream",
     "text": [
      "  0%|          | 0/1200 [00:00<?, ?it/s]"
     ]
    },
    {
     "name": "stdout",
     "output_type": "stream",
     "text": [
      "Current epoch is 6 of 30\n"
     ]
    },
    {
     "name": "stderr",
     "output_type": "stream",
     "text": [
      " 17%|█▋        | 201/1200 [01:46<08:53,  1.87it/s]"
     ]
    },
    {
     "name": "stdout",
     "output_type": "stream",
     "text": [
      "train loss :  0.5459050720185041\n",
      "Consistency Cost : 0.08105942932888865\n",
      "Classification Cost : 0.343256498510018\n"
     ]
    },
    {
     "name": "stderr",
     "output_type": "stream",
     "text": [
      " 33%|███▎      | 401/1200 [03:34<07:06,  1.87it/s]"
     ]
    },
    {
     "name": "stdout",
     "output_type": "stream",
     "text": [
      "train loss :  0.5539185901544988\n",
      "Consistency Cost : 0.08137020931695588\n",
      "Classification Cost : 0.35049306652508677\n"
     ]
    },
    {
     "name": "stderr",
     "output_type": "stream",
     "text": [
      " 50%|█████     | 601/1200 [05:20<05:15,  1.90it/s]"
     ]
    },
    {
     "name": "stdout",
     "output_type": "stream",
     "text": [
      "train loss :  0.5480685066416239\n",
      "Consistency Cost : 0.08055849595790884\n",
      "Classification Cost : 0.3466722663200926\n"
     ]
    },
    {
     "name": "stderr",
     "output_type": "stream",
     "text": [
      " 67%|██████▋   | 801/1200 [07:05<03:34,  1.86it/s]"
     ]
    },
    {
     "name": "stdout",
     "output_type": "stream",
     "text": [
      "train loss :  0.5491174371249508\n",
      "Consistency Cost : 0.08114412841285229\n",
      "Classification Cost : 0.3462571158495848\n"
     ]
    },
    {
     "name": "stderr",
     "output_type": "stream",
     "text": [
      " 83%|████████▎ | 1001/1200 [08:53<01:45,  1.89it/s]"
     ]
    },
    {
     "name": "stdout",
     "output_type": "stream",
     "text": [
      "train loss :  0.5500573833216913\n",
      "Consistency Cost : 0.08147641498106532\n",
      "Classification Cost : 0.3463663461266551\n"
     ]
    },
    {
     "name": "stderr",
     "output_type": "stream",
     "text": [
      "100%|██████████| 1200/1200 [10:38<00:00,  1.88it/s]\n",
      "  0%|          | 0/400 [00:00<?, ?it/s]"
     ]
    },
    {
     "name": "stdout",
     "output_type": "stream",
     "text": [
      "---------Running validation for student -------------\n"
     ]
    },
    {
     "name": "stderr",
     "output_type": "stream",
     "text": [
      "100%|██████████| 400/400 [00:41<00:00,  9.74it/s]\n"
     ]
    },
    {
     "name": "stdout",
     "output_type": "stream",
     "text": [
      "Overall validation loss: tensor(1.1983, device='cuda:0')\n",
      "Average F1 Validation score for whole sentence class 0 : 0.3675654154962288\n",
      "Average F1 Validation score for whole sentence class 1 : 0.9288092042854404\n",
      "Average Accuracy Validation score whole sentence  : 0.87202416918429\n",
      "Average mcc Validation score whole sentence : 0.3135296921175239\n",
      "Classification Report :\n",
      "               precision    recall  f1-score   support\n",
      "\n",
      "           0       0.49      0.29      0.37     28264\n",
      "           1       0.90      0.96      0.93    195161\n",
      "\n",
      "    accuracy                           0.87    223425\n",
      "   macro avg       0.70      0.62      0.65    223425\n",
      "weighted avg       0.85      0.87      0.86    223425\n",
      "\n"
     ]
    },
    {
     "name": "stderr",
     "output_type": "stream",
     "text": [
      "  0%|          | 0/400 [00:00<?, ?it/s]"
     ]
    },
    {
     "name": "stdout",
     "output_type": "stream",
     "text": [
      "---------Running validation for teacher -------------\n"
     ]
    },
    {
     "name": "stderr",
     "output_type": "stream",
     "text": [
      "100%|██████████| 400/400 [00:40<00:00,  9.77it/s]\n"
     ]
    },
    {
     "name": "stdout",
     "output_type": "stream",
     "text": [
      "Overall validation loss: tensor(1.1541, device='cuda:0')\n",
      "Average F1 Validation score for whole sentence class 0 : 0.36718140695679297\n",
      "Average F1 Validation score for whole sentence class 1 : 0.9293509763093539\n",
      "Average Accuracy Validation score whole sentence  : 0.8728924695087837\n",
      "Average mcc Validation score whole sentence : 0.3149858271617167\n",
      "Classification Report :\n",
      "               precision    recall  f1-score   support\n",
      "\n",
      "           0       0.50      0.29      0.37     28264\n",
      "           1       0.90      0.96      0.93    195161\n",
      "\n",
      "    accuracy                           0.87    223425\n",
      "   macro avg       0.70      0.62      0.65    223425\n",
      "weighted avg       0.85      0.87      0.86    223425\n",
      "\n"
     ]
    },
    {
     "name": "stderr",
     "output_type": "stream",
     "text": [
      "  0%|          | 0/1200 [00:00<?, ?it/s]"
     ]
    },
    {
     "name": "stdout",
     "output_type": "stream",
     "text": [
      "Current epoch is 7 of 30\n"
     ]
    },
    {
     "name": "stderr",
     "output_type": "stream",
     "text": [
      " 17%|█▋        | 201/1200 [01:44<08:39,  1.92it/s]"
     ]
    },
    {
     "name": "stdout",
     "output_type": "stream",
     "text": [
      "train loss :  0.5141948902234436\n",
      "Consistency Cost : 0.07572514432482422\n",
      "Classification Cost : 0.32488203078508376\n"
     ]
    },
    {
     "name": "stderr",
     "output_type": "stream",
     "text": [
      " 33%|███▎      | 401/1200 [03:28<06:56,  1.92it/s]"
     ]
    },
    {
     "name": "stdout",
     "output_type": "stream",
     "text": [
      "train loss :  0.5069515409786254\n",
      "Consistency Cost : 0.07665460212738254\n",
      "Classification Cost : 0.31531503586331383\n"
     ]
    },
    {
     "name": "stderr",
     "output_type": "stream",
     "text": [
      " 50%|█████     | 601/1200 [05:13<05:11,  1.92it/s]"
     ]
    },
    {
     "name": "stdout",
     "output_type": "stream",
     "text": [
      "train loss :  0.5119268340306977\n",
      "Consistency Cost : 0.07748242549598217\n",
      "Classification Cost : 0.3182207705685869\n"
     ]
    },
    {
     "name": "stderr",
     "output_type": "stream",
     "text": [
      " 67%|██████▋   | 801/1200 [06:57<03:28,  1.92it/s]"
     ]
    },
    {
     "name": "stdout",
     "output_type": "stream",
     "text": [
      "train loss :  0.5093603189429268\n",
      "Consistency Cost : 0.07780501997098327\n",
      "Classification Cost : 0.31484776954865085\n"
     ]
    },
    {
     "name": "stderr",
     "output_type": "stream",
     "text": [
      " 83%|████████▎ | 1001/1200 [08:41<01:43,  1.92it/s]"
     ]
    },
    {
     "name": "stdout",
     "output_type": "stream",
     "text": [
      "train loss :  0.5103884511422366\n",
      "Consistency Cost : 0.07815732325939462\n",
      "Classification Cost : 0.3149951436370611\n"
     ]
    },
    {
     "name": "stderr",
     "output_type": "stream",
     "text": [
      "100%|██████████| 1200/1200 [10:25<00:00,  1.92it/s]\n",
      "  0%|          | 0/400 [00:00<?, ?it/s]"
     ]
    },
    {
     "name": "stdout",
     "output_type": "stream",
     "text": [
      "---------Running validation for student -------------\n"
     ]
    },
    {
     "name": "stderr",
     "output_type": "stream",
     "text": [
      "100%|██████████| 400/400 [00:40<00:00,  9.77it/s]\n"
     ]
    },
    {
     "name": "stdout",
     "output_type": "stream",
     "text": [
      "Overall validation loss: tensor(1.2667, device='cuda:0')\n",
      "Average F1 Validation score for whole sentence class 0 : 0.3336063463833571\n",
      "Average F1 Validation score for whole sentence class 1 : 0.9295327838225069\n",
      "Average Accuracy Validation score whole sentence  : 0.8725433590690388\n",
      "Average mcc Validation score whole sentence : 0.28983635891639764\n",
      "Classification Report :\n",
      "               precision    recall  f1-score   support\n",
      "\n",
      "           0       0.49      0.25      0.33     28264\n",
      "           1       0.90      0.96      0.93    195161\n",
      "\n",
      "    accuracy                           0.87    223425\n",
      "   macro avg       0.70      0.61      0.63    223425\n",
      "weighted avg       0.85      0.87      0.85    223425\n",
      "\n"
     ]
    },
    {
     "name": "stderr",
     "output_type": "stream",
     "text": [
      "  0%|          | 0/400 [00:00<?, ?it/s]"
     ]
    },
    {
     "name": "stdout",
     "output_type": "stream",
     "text": [
      "---------Running validation for teacher -------------\n"
     ]
    },
    {
     "name": "stderr",
     "output_type": "stream",
     "text": [
      "100%|██████████| 400/400 [00:40<00:00,  9.77it/s]\n"
     ]
    },
    {
     "name": "stdout",
     "output_type": "stream",
     "text": [
      "Overall validation loss: tensor(1.2340, device='cuda:0')\n",
      "Average F1 Validation score for whole sentence class 0 : 0.37116967256172295\n",
      "Average F1 Validation score for whole sentence class 1 : 0.9283830472477452\n",
      "Average Accuracy Validation score whole sentence  : 0.8714109880273022\n",
      "Average mcc Validation score whole sentence : 0.3150722673421671\n",
      "Classification Report :\n",
      "               precision    recall  f1-score   support\n",
      "\n",
      "           0       0.49      0.30      0.37     28264\n",
      "           1       0.90      0.95      0.93    195161\n",
      "\n",
      "    accuracy                           0.87    223425\n",
      "   macro avg       0.70      0.63      0.65    223425\n",
      "weighted avg       0.85      0.87      0.86    223425\n",
      "\n"
     ]
    },
    {
     "name": "stderr",
     "output_type": "stream",
     "text": [
      "  0%|          | 0/1200 [00:00<?, ?it/s]"
     ]
    },
    {
     "name": "stdout",
     "output_type": "stream",
     "text": [
      "Current epoch is 8 of 30\n"
     ]
    },
    {
     "name": "stderr",
     "output_type": "stream",
     "text": [
      " 17%|█▋        | 201/1200 [01:45<08:47,  1.89it/s]"
     ]
    },
    {
     "name": "stdout",
     "output_type": "stream",
     "text": [
      "train loss :  0.46612035698257387\n",
      "Consistency Cost : 0.07399647776968778\n",
      "Classification Cost : 0.2811291624978185\n"
     ]
    },
    {
     "name": "stderr",
     "output_type": "stream",
     "text": [
      " 33%|███▎      | 401/1200 [03:31<07:09,  1.86it/s]"
     ]
    },
    {
     "name": "stdout",
     "output_type": "stream",
     "text": [
      "train loss :  0.4651099307043478\n",
      "Consistency Cost : 0.07483679792145267\n",
      "Classification Cost : 0.2780179355526343\n"
     ]
    },
    {
     "name": "stderr",
     "output_type": "stream",
     "text": [
      " 50%|█████     | 601/1200 [05:18<05:15,  1.90it/s]"
     ]
    },
    {
     "name": "stdout",
     "output_type": "stream",
     "text": [
      "train loss :  0.4626752686259958\n",
      "Consistency Cost : 0.07469186621795719\n",
      "Classification Cost : 0.2759456026094267\n"
     ]
    },
    {
     "name": "stderr",
     "output_type": "stream",
     "text": [
      " 67%|██████▋   | 801/1200 [07:03<03:30,  1.90it/s]"
     ]
    },
    {
     "name": "stdout",
     "output_type": "stream",
     "text": [
      "train loss :  0.46425555654859635\n",
      "Consistency Cost : 0.07437450658122544\n",
      "Classification Cost : 0.27831928998508376\n"
     ]
    },
    {
     "name": "stderr",
     "output_type": "stream",
     "text": [
      " 83%|████████▎ | 1001/1200 [08:51<01:48,  1.84it/s]"
     ]
    },
    {
     "name": "stdout",
     "output_type": "stream",
     "text": [
      "train loss :  0.47049827568233016\n",
      "Consistency Cost : 0.07495100677083247\n",
      "Classification Cost : 0.2831207581408089\n"
     ]
    },
    {
     "name": "stderr",
     "output_type": "stream",
     "text": [
      "100%|██████████| 1200/1200 [10:37<00:00,  1.88it/s]\n",
      "  0%|          | 0/400 [00:00<?, ?it/s]"
     ]
    },
    {
     "name": "stdout",
     "output_type": "stream",
     "text": [
      "---------Running validation for student -------------\n"
     ]
    },
    {
     "name": "stderr",
     "output_type": "stream",
     "text": [
      "100%|██████████| 400/400 [00:41<00:00,  9.62it/s]\n"
     ]
    },
    {
     "name": "stdout",
     "output_type": "stream",
     "text": [
      "Overall validation loss: tensor(1.1025, device='cuda:0')\n",
      "Average F1 Validation score for whole sentence class 0 : 0.3924932335615347\n",
      "Average F1 Validation score for whole sentence class 1 : 0.9230311496159878\n",
      "Average Accuracy Validation score whole sentence  : 0.8633724963634329\n",
      "Average mcc Validation score whole sentence : 0.3200526471006992\n",
      "Classification Report :\n",
      "               precision    recall  f1-score   support\n",
      "\n",
      "           0       0.45      0.35      0.39     28264\n",
      "           1       0.91      0.94      0.92    195161\n",
      "\n",
      "    accuracy                           0.86    223425\n",
      "   macro avg       0.68      0.64      0.66    223425\n",
      "weighted avg       0.85      0.86      0.86    223425\n",
      "\n"
     ]
    },
    {
     "name": "stderr",
     "output_type": "stream",
     "text": [
      "  0%|          | 0/400 [00:00<?, ?it/s]"
     ]
    },
    {
     "name": "stdout",
     "output_type": "stream",
     "text": [
      "---------Running validation for teacher -------------\n"
     ]
    },
    {
     "name": "stderr",
     "output_type": "stream",
     "text": [
      "100%|██████████| 400/400 [00:41<00:00,  9.60it/s]\n"
     ]
    },
    {
     "name": "stdout",
     "output_type": "stream",
     "text": [
      "Overall validation loss: tensor(1.2893, device='cuda:0')\n",
      "Average F1 Validation score for whole sentence class 0 : 0.3726459254098539\n",
      "Average F1 Validation score for whole sentence class 1 : 0.9281276267774788\n",
      "Average Accuracy Validation score whole sentence  : 0.8710305471634777\n",
      "Average mcc Validation score whole sentence : 0.31549057901997785\n",
      "Classification Report :\n",
      "               precision    recall  f1-score   support\n",
      "\n",
      "           0       0.48      0.30      0.37     28264\n",
      "           1       0.90      0.95      0.93    195161\n",
      "\n",
      "    accuracy                           0.87    223425\n",
      "   macro avg       0.69      0.63      0.65    223425\n",
      "weighted avg       0.85      0.87      0.86    223425\n",
      "\n"
     ]
    },
    {
     "name": "stderr",
     "output_type": "stream",
     "text": [
      "  0%|          | 0/1200 [00:00<?, ?it/s]"
     ]
    },
    {
     "name": "stdout",
     "output_type": "stream",
     "text": [
      "Current epoch is 9 of 30\n"
     ]
    },
    {
     "name": "stderr",
     "output_type": "stream",
     "text": [
      " 17%|█▋        | 201/1200 [01:47<09:03,  1.84it/s]"
     ]
    },
    {
     "name": "stdout",
     "output_type": "stream",
     "text": [
      "train loss :  0.42288450511172415\n",
      "Consistency Cost : 0.06977205293951556\n",
      "Classification Cost : 0.24845437079202384\n"
     ]
    },
    {
     "name": "stderr",
     "output_type": "stream",
     "text": [
      " 33%|███▎      | 401/1200 [03:34<06:59,  1.91it/s]"
     ]
    },
    {
     "name": "stdout",
     "output_type": "stream",
     "text": [
      "train loss :  0.4270412359223701\n",
      "Consistency Cost : 0.07010387997666839\n",
      "Classification Cost : 0.25178153469925746\n"
     ]
    },
    {
     "name": "stderr",
     "output_type": "stream",
     "text": [
      " 50%|█████     | 601/1200 [05:19<05:16,  1.89it/s]"
     ]
    },
    {
     "name": "stdout",
     "output_type": "stream",
     "text": [
      "train loss :  0.43578857237201496\n",
      "Consistency Cost : 0.07257901651716869\n",
      "Classification Cost : 0.2543410302780103\n"
     ]
    },
    {
     "name": "stderr",
     "output_type": "stream",
     "text": [
      " 67%|██████▋   | 801/1200 [07:07<03:38,  1.82it/s]"
     ]
    },
    {
     "name": "stdout",
     "output_type": "stream",
     "text": [
      "train loss :  0.4389510146874818\n",
      "Consistency Cost : 0.07324313302429801\n",
      "Classification Cost : 0.25584318166511366\n"
     ]
    },
    {
     "name": "stderr",
     "output_type": "stream",
     "text": [
      " 83%|████████▎ | 1001/1200 [08:53<01:44,  1.90it/s]"
     ]
    },
    {
     "name": "stdout",
     "output_type": "stream",
     "text": [
      "train loss :  0.4413847975132521\n",
      "Consistency Cost : 0.07349347479705466\n",
      "Classification Cost : 0.2576511102577206\n"
     ]
    },
    {
     "name": "stderr",
     "output_type": "stream",
     "text": [
      "100%|██████████| 1200/1200 [10:38<00:00,  1.88it/s]\n",
      "  0%|          | 0/400 [00:00<?, ?it/s]"
     ]
    },
    {
     "name": "stdout",
     "output_type": "stream",
     "text": [
      "---------Running validation for student -------------\n"
     ]
    },
    {
     "name": "stderr",
     "output_type": "stream",
     "text": [
      "100%|██████████| 400/400 [00:42<00:00,  9.46it/s]\n"
     ]
    },
    {
     "name": "stdout",
     "output_type": "stream",
     "text": [
      "Overall validation loss: tensor(1.4527, device='cuda:0')\n",
      "Average F1 Validation score for whole sentence class 0 : 0.36923143462652996\n",
      "Average F1 Validation score for whole sentence class 1 : 0.9271906701813243\n",
      "Average Accuracy Validation score whole sentence  : 0.8694505986348887\n",
      "Average mcc Validation score whole sentence : 0.30999957314674104\n",
      "Classification Report :\n",
      "               precision    recall  f1-score   support\n",
      "\n",
      "           0       0.47      0.30      0.37     28264\n",
      "           1       0.90      0.95      0.93    195161\n",
      "\n",
      "    accuracy                           0.87    223425\n",
      "   macro avg       0.69      0.63      0.65    223425\n",
      "weighted avg       0.85      0.87      0.86    223425\n",
      "\n"
     ]
    },
    {
     "name": "stderr",
     "output_type": "stream",
     "text": [
      "  0%|          | 0/400 [00:00<?, ?it/s]"
     ]
    },
    {
     "name": "stdout",
     "output_type": "stream",
     "text": [
      "---------Running validation for teacher -------------\n"
     ]
    },
    {
     "name": "stderr",
     "output_type": "stream",
     "text": [
      "100%|██████████| 400/400 [00:43<00:00,  9.27it/s]\n"
     ]
    },
    {
     "name": "stdout",
     "output_type": "stream",
     "text": [
      "Overall validation loss: tensor(1.3821, device='cuda:0')\n",
      "Average F1 Validation score for whole sentence class 0 : 0.3626320422535211\n",
      "Average F1 Validation score for whole sentence class 1 : 0.9278493311078448\n",
      "Average Accuracy Validation score whole sentence  : 0.8703726082578046\n",
      "Average mcc Validation score whole sentence : 0.3066032390478674\n",
      "Classification Report :\n",
      "               precision    recall  f1-score   support\n",
      "\n",
      "           0       0.48      0.29      0.36     28264\n",
      "           1       0.90      0.95      0.93    195161\n",
      "\n",
      "    accuracy                           0.87    223425\n",
      "   macro avg       0.69      0.62      0.65    223425\n",
      "weighted avg       0.85      0.87      0.86    223425\n",
      "\n"
     ]
    },
    {
     "name": "stderr",
     "output_type": "stream",
     "text": [
      "  0%|          | 0/1200 [00:00<?, ?it/s]"
     ]
    },
    {
     "name": "stdout",
     "output_type": "stream",
     "text": [
      "Current epoch is 10 of 30\n"
     ]
    },
    {
     "name": "stderr",
     "output_type": "stream",
     "text": [
      " 17%|█▋        | 201/1200 [01:46<08:43,  1.91it/s]"
     ]
    },
    {
     "name": "stdout",
     "output_type": "stream",
     "text": [
      "train loss :  0.40631423344137146\n",
      "Consistency Cost : 0.06571367501222994\n",
      "Classification Cost : 0.24203004538896494\n"
     ]
    },
    {
     "name": "stderr",
     "output_type": "stream",
     "text": [
      " 33%|███▎      | 401/1200 [03:30<06:55,  1.92it/s]"
     ]
    },
    {
     "name": "stdout",
     "output_type": "stream",
     "text": [
      "train loss :  0.41053757441346533\n",
      "Consistency Cost : 0.06741118146310328\n",
      "Classification Cost : 0.24200962038186843\n"
     ]
    },
    {
     "name": "stderr",
     "output_type": "stream",
     "text": [
      " 50%|█████     | 601/1200 [05:15<05:11,  1.92it/s]"
     ]
    },
    {
     "name": "stdout",
     "output_type": "stream",
     "text": [
      "train loss :  0.4045443714452752\n",
      "Consistency Cost : 0.06659559818721997\n",
      "Classification Cost : 0.23805537577912522\n"
     ]
    },
    {
     "name": "stderr",
     "output_type": "stream",
     "text": [
      " 67%|██████▋   | 801/1200 [06:59<03:27,  1.92it/s]"
     ]
    },
    {
     "name": "stdout",
     "output_type": "stream",
     "text": [
      "train loss :  0.406092738553416\n",
      "Consistency Cost : 0.06662150772048335\n",
      "Classification Cost : 0.2395389693006291\n"
     ]
    },
    {
     "name": "stderr",
     "output_type": "stream",
     "text": [
      " 83%|████████▎ | 1001/1200 [08:43<01:43,  1.92it/s]"
     ]
    },
    {
     "name": "stdout",
     "output_type": "stream",
     "text": [
      "train loss :  0.4065358070470393\n",
      "Consistency Cost : 0.06724241703003644\n",
      "Classification Cost : 0.2384297647876665\n"
     ]
    },
    {
     "name": "stderr",
     "output_type": "stream",
     "text": [
      "100%|██████████| 1200/1200 [10:26<00:00,  1.91it/s]\n",
      "  0%|          | 0/400 [00:00<?, ?it/s]"
     ]
    },
    {
     "name": "stdout",
     "output_type": "stream",
     "text": [
      "---------Running validation for student -------------\n"
     ]
    },
    {
     "name": "stderr",
     "output_type": "stream",
     "text": [
      "100%|██████████| 400/400 [00:41<00:00,  9.75it/s]\n"
     ]
    },
    {
     "name": "stdout",
     "output_type": "stream",
     "text": [
      "Overall validation loss: tensor(1.3859, device='cuda:0')\n",
      "Average F1 Validation score for whole sentence class 0 : 0.3689249212988917\n",
      "Average F1 Validation score for whole sentence class 1 : 0.9269162388381709\n",
      "Average Accuracy Validation score whole sentence  : 0.8690030211480363\n",
      "Average mcc Validation score whole sentence : 0.3089751556810491\n",
      "Classification Report :\n",
      "               precision    recall  f1-score   support\n",
      "\n",
      "           0       0.47      0.30      0.37     28264\n",
      "           1       0.90      0.95      0.93    195161\n",
      "\n",
      "    accuracy                           0.87    223425\n",
      "   macro avg       0.69      0.63      0.65    223425\n",
      "weighted avg       0.85      0.87      0.86    223425\n",
      "\n"
     ]
    },
    {
     "name": "stderr",
     "output_type": "stream",
     "text": [
      "  0%|          | 0/400 [00:00<?, ?it/s]"
     ]
    },
    {
     "name": "stdout",
     "output_type": "stream",
     "text": [
      "---------Running validation for teacher -------------\n"
     ]
    },
    {
     "name": "stderr",
     "output_type": "stream",
     "text": [
      "100%|██████████| 400/400 [00:41<00:00,  9.74it/s]\n"
     ]
    },
    {
     "name": "stdout",
     "output_type": "stream",
     "text": [
      "Overall validation loss: tensor(1.4819, device='cuda:0')\n",
      "Average F1 Validation score for whole sentence class 0 : 0.35677368833202816\n",
      "Average F1 Validation score for whole sentence class 1 : 0.9285126381619028\n",
      "Average Accuracy Validation score whole sentence  : 0.8713259483048003\n",
      "Average mcc Validation score whole sentence : 0.3040527617666452\n",
      "Classification Report :\n",
      "               precision    recall  f1-score   support\n",
      "\n",
      "           0       0.49      0.28      0.36     28264\n",
      "           1       0.90      0.96      0.93    195161\n",
      "\n",
      "    accuracy                           0.87    223425\n",
      "   macro avg       0.69      0.62      0.64    223425\n",
      "weighted avg       0.85      0.87      0.86    223425\n",
      "\n"
     ]
    },
    {
     "name": "stderr",
     "output_type": "stream",
     "text": [
      "  0%|          | 0/1200 [00:00<?, ?it/s]"
     ]
    },
    {
     "name": "stdout",
     "output_type": "stream",
     "text": [
      "Current epoch is 11 of 30\n"
     ]
    },
    {
     "name": "stderr",
     "output_type": "stream",
     "text": [
      " 17%|█▋        | 201/1200 [01:44<08:40,  1.92it/s]"
     ]
    },
    {
     "name": "stdout",
     "output_type": "stream",
     "text": [
      "train loss :  0.37014790452318264\n",
      "Consistency Cost : 0.06195027026347816\n",
      "Classification Cost : 0.2152722284081392\n"
     ]
    },
    {
     "name": "stderr",
     "output_type": "stream",
     "text": [
      " 33%|███▎      | 401/1200 [03:29<06:56,  1.92it/s]"
     ]
    },
    {
     "name": "stdout",
     "output_type": "stream",
     "text": [
      "train loss :  0.3612258070008829\n",
      "Consistency Cost : 0.06100286159809912\n",
      "Classification Cost : 0.20871865225373767\n"
     ]
    },
    {
     "name": "stderr",
     "output_type": "stream",
     "text": [
      " 50%|█████     | 601/1200 [05:13<05:14,  1.91it/s]"
     ]
    },
    {
     "name": "stdout",
     "output_type": "stream",
     "text": [
      "train loss :  0.3671964120150854\n",
      "Consistency Cost : 0.06299068479779332\n",
      "Classification Cost : 0.2097196994489059\n"
     ]
    },
    {
     "name": "stderr",
     "output_type": "stream",
     "text": [
      " 67%|██████▋   | 801/1200 [06:59<03:33,  1.87it/s]"
     ]
    },
    {
     "name": "stdout",
     "output_type": "stream",
     "text": [
      "train loss :  0.3685900548056816\n",
      "Consistency Cost : 0.06340402483689105\n",
      "Classification Cost : 0.21007999245310202\n"
     ]
    },
    {
     "name": "stderr",
     "output_type": "stream",
     "text": [
      " 83%|████████▎ | 1001/1200 [08:47<01:45,  1.89it/s]"
     ]
    },
    {
     "name": "stdout",
     "output_type": "stream",
     "text": [
      "train loss :  0.3703663169259671\n",
      "Consistency Cost : 0.0640534841126937\n",
      "Classification Cost : 0.21023260643379763\n"
     ]
    },
    {
     "name": "stderr",
     "output_type": "stream",
     "text": [
      "100%|██████████| 1200/1200 [10:32<00:00,  1.90it/s]\n",
      "  0%|          | 0/400 [00:00<?, ?it/s]"
     ]
    },
    {
     "name": "stdout",
     "output_type": "stream",
     "text": [
      "---------Running validation for student -------------\n"
     ]
    },
    {
     "name": "stderr",
     "output_type": "stream",
     "text": [
      "100%|██████████| 400/400 [00:41<00:00,  9.56it/s]\n"
     ]
    },
    {
     "name": "stdout",
     "output_type": "stream",
     "text": [
      "Overall validation loss: tensor(1.5152, device='cuda:0')\n",
      "Average F1 Validation score for whole sentence class 0 : 0.37376357692713275\n",
      "Average F1 Validation score for whole sentence class 1 : 0.9256624982788189\n",
      "Average Accuracy Validation score whole sentence  : 0.8671008168289135\n",
      "Average mcc Validation score whole sentence : 0.3096633100263395\n",
      "Classification Report :\n",
      "               precision    recall  f1-score   support\n",
      "\n",
      "           0       0.46      0.31      0.37     28264\n",
      "           1       0.91      0.95      0.93    195161\n",
      "\n",
      "    accuracy                           0.87    223425\n",
      "   macro avg       0.68      0.63      0.65    223425\n",
      "weighted avg       0.85      0.87      0.86    223425\n",
      "\n"
     ]
    },
    {
     "name": "stderr",
     "output_type": "stream",
     "text": [
      "  0%|          | 0/400 [00:00<?, ?it/s]"
     ]
    },
    {
     "name": "stdout",
     "output_type": "stream",
     "text": [
      "---------Running validation for teacher -------------\n"
     ]
    },
    {
     "name": "stderr",
     "output_type": "stream",
     "text": [
      "100%|██████████| 400/400 [00:42<00:00,  9.50it/s]\n"
     ]
    },
    {
     "name": "stdout",
     "output_type": "stream",
     "text": [
      "Overall validation loss: tensor(1.5763, device='cuda:0')\n",
      "Average F1 Validation score for whole sentence class 0 : 0.36460441784739944\n",
      "Average F1 Validation score for whole sentence class 1 : 0.928051460146787\n",
      "Average Accuracy Validation score whole sentence  : 0.8707396217970236\n",
      "Average mcc Validation score whole sentence : 0.3088031692654952\n",
      "Classification Report :\n",
      "               precision    recall  f1-score   support\n",
      "\n",
      "           0       0.48      0.29      0.36     28264\n",
      "           1       0.90      0.95      0.93    195161\n",
      "\n",
      "    accuracy                           0.87    223425\n",
      "   macro avg       0.69      0.62      0.65    223425\n",
      "weighted avg       0.85      0.87      0.86    223425\n",
      "\n"
     ]
    },
    {
     "name": "stderr",
     "output_type": "stream",
     "text": [
      "  0%|          | 0/1200 [00:00<?, ?it/s]"
     ]
    },
    {
     "name": "stdout",
     "output_type": "stream",
     "text": [
      "Current epoch is 12 of 30\n"
     ]
    },
    {
     "name": "stderr",
     "output_type": "stream",
     "text": [
      " 17%|█▋        | 201/1200 [01:48<08:47,  1.89it/s]"
     ]
    },
    {
     "name": "stdout",
     "output_type": "stream",
     "text": [
      "train loss :  0.3673159764212323\n",
      "Consistency Cost : 0.06629824345029192\n",
      "Classification Cost : 0.20157036730786784\n"
     ]
    },
    {
     "name": "stderr",
     "output_type": "stream",
     "text": [
      " 33%|███▎      | 401/1200 [03:34<07:01,  1.89it/s]"
     ]
    },
    {
     "name": "stdout",
     "output_type": "stream",
     "text": [
      "train loss :  0.3617587848476251\n",
      "Consistency Cost : 0.06506046386210074\n",
      "Classification Cost : 0.19910762445128058\n"
     ]
    },
    {
     "name": "stderr",
     "output_type": "stream",
     "text": [
      " 50%|█████     | 601/1200 [05:20<05:22,  1.86it/s]"
     ]
    },
    {
     "name": "stdout",
     "output_type": "stream",
     "text": [
      "train loss :  0.3585398203671987\n",
      "Consistency Cost : 0.06440500655196957\n",
      "Classification Cost : 0.19752730376378166\n"
     ]
    },
    {
     "name": "stderr",
     "output_type": "stream",
     "text": [
      " 67%|██████▋   | 801/1200 [07:08<03:30,  1.89it/s]"
     ]
    },
    {
     "name": "stdout",
     "output_type": "stream",
     "text": [
      "train loss :  0.36066361515855533\n",
      "Consistency Cost : 0.06464600714494736\n",
      "Classification Cost : 0.19904859675836634\n"
     ]
    },
    {
     "name": "stderr",
     "output_type": "stream",
     "text": [
      " 83%|████████▎ | 1001/1200 [08:53<01:45,  1.90it/s]"
     ]
    },
    {
     "name": "stdout",
     "output_type": "stream",
     "text": [
      "train loss :  0.35749245168303606\n",
      "Consistency Cost : 0.063750298003637\n",
      "Classification Cost : 0.19811670637177303\n"
     ]
    },
    {
     "name": "stderr",
     "output_type": "stream",
     "text": [
      "100%|██████████| 1200/1200 [10:39<00:00,  1.88it/s]\n",
      "  0%|          | 0/400 [00:00<?, ?it/s]"
     ]
    },
    {
     "name": "stdout",
     "output_type": "stream",
     "text": [
      "---------Running validation for student -------------\n"
     ]
    },
    {
     "name": "stderr",
     "output_type": "stream",
     "text": [
      "100%|██████████| 400/400 [00:43<00:00,  9.20it/s]\n"
     ]
    },
    {
     "name": "stdout",
     "output_type": "stream",
     "text": [
      "Overall validation loss: tensor(1.7866, device='cuda:0')\n",
      "Average F1 Validation score for whole sentence class 0 : 0.3544415127528584\n",
      "Average F1 Validation score for whole sentence class 1 : 0.9268505369110795\n",
      "Average Accuracy Validation score whole sentence  : 0.868591249860132\n",
      "Average mcc Validation score whole sentence : 0.2969834998964942\n",
      "Classification Report :\n",
      "               precision    recall  f1-score   support\n",
      "\n",
      "           0       0.47      0.29      0.35     28264\n",
      "           1       0.90      0.95      0.93    195161\n",
      "\n",
      "    accuracy                           0.87    223425\n",
      "   macro avg       0.69      0.62      0.64    223425\n",
      "weighted avg       0.85      0.87      0.85    223425\n",
      "\n"
     ]
    },
    {
     "name": "stderr",
     "output_type": "stream",
     "text": [
      "  0%|          | 0/400 [00:00<?, ?it/s]"
     ]
    },
    {
     "name": "stdout",
     "output_type": "stream",
     "text": [
      "---------Running validation for teacher -------------\n"
     ]
    },
    {
     "name": "stderr",
     "output_type": "stream",
     "text": [
      "100%|██████████| 400/400 [00:42<00:00,  9.52it/s]\n"
     ]
    },
    {
     "name": "stdout",
     "output_type": "stream",
     "text": [
      "Overall validation loss: tensor(1.7586, device='cuda:0')\n",
      "Average F1 Validation score for whole sentence class 0 : 0.35114333020092175\n",
      "Average F1 Validation score for whole sentence class 1 : 0.9278886800147206\n",
      "Average Accuracy Validation score whole sentence  : 0.8702025288128007\n",
      "Average mcc Validation score whole sentence : 0.2975681512314785\n",
      "Classification Report :\n",
      "               precision    recall  f1-score   support\n",
      "\n",
      "           0       0.48      0.28      0.35     28264\n",
      "           1       0.90      0.96      0.93    195161\n",
      "\n",
      "    accuracy                           0.87    223425\n",
      "   macro avg       0.69      0.62      0.64    223425\n",
      "weighted avg       0.85      0.87      0.85    223425\n",
      "\n",
      "terminating because of early stopping!\n"
     ]
    }
   ],
   "source": [
    "metrices = train_MeanTeacher(train_dataloader,val_dataloader,len_labelled_data,len_unlabelled_data,writer, early_stopping,dropout_layer=True, noise_layer=True)"
   ]
  },
  {
   "cell_type": "code",
   "execution_count": 160,
   "metadata": {},
   "outputs": [
    {
     "name": "stderr",
     "output_type": "stream",
     "text": [
      "Some weights of the model checkpoint at xlm-roberta-base were not used when initializing XLMRobertaModel: ['lm_head.layer_norm.bias', 'lm_head.dense.weight', 'roberta.pooler.dense.bias', 'lm_head.bias', 'lm_head.decoder.weight', 'lm_head.dense.bias', 'lm_head.layer_norm.weight', 'roberta.pooler.dense.weight']\n",
      "- This IS expected if you are initializing XLMRobertaModel from the checkpoint of a model trained on another task or with another architecture (e.g. initializing a BertForSequenceClassification model from a BertForPreTraining model).\n",
      "- This IS NOT expected if you are initializing XLMRobertaModel from the checkpoint of a model that you expect to be exactly identical (initializing a BertForSequenceClassification model from a BertForSequenceClassification model).\n",
      "Some weights of the model checkpoint at xlm-roberta-base were not used when initializing XLMRobertaModel: ['lm_head.layer_norm.bias', 'lm_head.dense.weight', 'roberta.pooler.dense.bias', 'lm_head.bias', 'lm_head.decoder.weight', 'lm_head.dense.bias', 'lm_head.layer_norm.weight', 'roberta.pooler.dense.weight']\n",
      "- This IS expected if you are initializing XLMRobertaModel from the checkpoint of a model trained on another task or with another architecture (e.g. initializing a BertForSequenceClassification model from a BertForPreTraining model).\n",
      "- This IS NOT expected if you are initializing XLMRobertaModel from the checkpoint of a model that you expect to be exactly identical (initializing a BertForSequenceClassification model from a BertForSequenceClassification model).\n",
      "/opt/conda/lib/python3.6/site-packages/transformers/optimization.py:309: FutureWarning: This implementation of AdamW is deprecated and will be removed in a future version. Use the PyTorch implementation torch.optim.AdamW instead, or set `no_deprecation_warning=True` to disable this warning\n",
      "  FutureWarning,\n",
      "  0%|          | 0/1200 [00:00<?, ?it/s]"
     ]
    },
    {
     "name": "stdout",
     "output_type": "stream",
     "text": [
      "Current epoch is 1 of 30\n"
     ]
    },
    {
     "name": "stderr",
     "output_type": "stream",
     "text": [
      " 17%|█▋        | 201/1200 [01:44<08:43,  1.91it/s]"
     ]
    },
    {
     "name": "stdout",
     "output_type": "stream",
     "text": [
      "train loss :  0.7983270974457264\n",
      "Consistency Cost : 1.2331784641742707\n",
      "Classification Cost : 0.7152361896634102\n"
     ]
    },
    {
     "name": "stderr",
     "output_type": "stream",
     "text": [
      " 33%|███▎      | 401/1200 [03:30<07:07,  1.87it/s]"
     ]
    },
    {
     "name": "stdout",
     "output_type": "stream",
     "text": [
      "train loss :  0.7473308978229761\n",
      "Consistency Cost : 1.0527608996629716\n",
      "Classification Cost : 0.6763964293897152\n"
     ]
    },
    {
     "name": "stderr",
     "output_type": "stream",
     "text": [
      " 50%|█████     | 601/1200 [05:18<05:16,  1.89it/s]"
     ]
    },
    {
     "name": "stdout",
     "output_type": "stream",
     "text": [
      "train loss :  0.7212687063900133\n",
      "Consistency Cost : 0.9733417272567749\n",
      "Classification Cost : 0.6556854599714279\n"
     ]
    },
    {
     "name": "stderr",
     "output_type": "stream",
     "text": [
      " 67%|██████▋   | 801/1200 [07:03<03:30,  1.90it/s]"
     ]
    },
    {
     "name": "stdout",
     "output_type": "stream",
     "text": [
      "train loss :  0.7056129083177075\n",
      "Consistency Cost : 0.9237081730365753\n",
      "Classification Cost : 0.6433739440143108\n"
     ]
    },
    {
     "name": "stderr",
     "output_type": "stream",
     "text": [
      " 83%|████████▎ | 1001/1200 [08:49<01:46,  1.86it/s]"
     ]
    },
    {
     "name": "stdout",
     "output_type": "stream",
     "text": [
      "train loss :  0.6936781307868659\n",
      "Consistency Cost : 0.8928149867653846\n",
      "Classification Cost : 0.6335207329392433\n"
     ]
    },
    {
     "name": "stderr",
     "output_type": "stream",
     "text": [
      "100%|██████████| 1200/1200 [10:37<00:00,  1.88it/s]\n",
      "  0%|          | 0/400 [00:00<?, ?it/s]"
     ]
    },
    {
     "name": "stdout",
     "output_type": "stream",
     "text": [
      "---------Running validation for student -------------\n"
     ]
    },
    {
     "name": "stderr",
     "output_type": "stream",
     "text": [
      "100%|██████████| 400/400 [00:41<00:00,  9.67it/s]\n"
     ]
    },
    {
     "name": "stdout",
     "output_type": "stream",
     "text": [
      "Overall validation loss: tensor(0.5810, device='cuda:0')\n",
      "Average F1 Validation score for whole sentence class 0 : 0.42292772841068527\n",
      "Average F1 Validation score for whole sentence class 1 : 0.8878744467489148\n",
      "Average Accuracy Validation score whole sentence  : 0.8122322927156764\n",
      "Average mcc Validation score whole sentence : 0.32895516070935754\n",
      "Classification Report :\n",
      "               precision    recall  f1-score   support\n",
      "\n",
      "           0       0.35      0.54      0.42     28264\n",
      "           1       0.93      0.85      0.89    195161\n",
      "\n",
      "    accuracy                           0.81    223425\n",
      "   macro avg       0.64      0.70      0.66    223425\n",
      "weighted avg       0.85      0.81      0.83    223425\n",
      "\n"
     ]
    },
    {
     "name": "stderr",
     "output_type": "stream",
     "text": [
      "  0%|          | 0/400 [00:00<?, ?it/s]"
     ]
    },
    {
     "name": "stdout",
     "output_type": "stream",
     "text": [
      "---------Running validation for teacher -------------\n"
     ]
    },
    {
     "name": "stderr",
     "output_type": "stream",
     "text": [
      "100%|██████████| 400/400 [00:41<00:00,  9.72it/s]\n"
     ]
    },
    {
     "name": "stdout",
     "output_type": "stream",
     "text": [
      "Overall validation loss: tensor(0.5483, device='cuda:0')\n",
      "Average F1 Validation score for whole sentence class 0 : 0.4292617356339154\n",
      "Average F1 Validation score for whole sentence class 1 : 0.86339595010997\n",
      "Average Accuracy Validation score whole sentence  : 0.7795546604005819\n",
      "Average mcc Validation score whole sentence : 0.3433128864836653\n",
      "Classification Report :\n",
      "               precision    recall  f1-score   support\n",
      "\n",
      "           0       0.32      0.66      0.43     28264\n",
      "           1       0.94      0.80      0.86    195161\n",
      "\n",
      "    accuracy                           0.78    223425\n",
      "   macro avg       0.63      0.73      0.65    223425\n",
      "weighted avg       0.86      0.78      0.81    223425\n",
      "\n"
     ]
    },
    {
     "name": "stderr",
     "output_type": "stream",
     "text": [
      "  0%|          | 0/1200 [00:00<?, ?it/s]"
     ]
    },
    {
     "name": "stdout",
     "output_type": "stream",
     "text": [
      "Current epoch is 2 of 30\n"
     ]
    },
    {
     "name": "stderr",
     "output_type": "stream",
     "text": [
      " 17%|█▋        | 201/1200 [01:46<09:01,  1.84it/s]"
     ]
    },
    {
     "name": "stdout",
     "output_type": "stream",
     "text": [
      "train loss :  0.6882479389756918\n",
      "Consistency Cost : 0.6981924873590469\n",
      "Classification Cost : 0.566606223359704\n"
     ]
    },
    {
     "name": "stderr",
     "output_type": "stream",
     "text": [
      " 33%|███▎      | 401/1200 [03:33<07:00,  1.90it/s]"
     ]
    },
    {
     "name": "stdout",
     "output_type": "stream",
     "text": [
      "train loss :  0.6877801588363945\n",
      "Consistency Cost : 0.7339201067388058\n",
      "Classification Cost : 0.5599138440564275\n"
     ]
    },
    {
     "name": "stderr",
     "output_type": "stream",
     "text": [
      " 50%|█████     | 601/1200 [05:18<05:18,  1.88it/s]"
     ]
    },
    {
     "name": "stdout",
     "output_type": "stream",
     "text": [
      "train loss :  0.6874203920985261\n",
      "Consistency Cost : 0.7274214905003706\n",
      "Classification Cost : 0.5606862910091877\n"
     ]
    },
    {
     "name": "stderr",
     "output_type": "stream",
     "text": [
      " 67%|██████▋   | 801/1200 [07:06<03:40,  1.81it/s]"
     ]
    },
    {
     "name": "stdout",
     "output_type": "stream",
     "text": [
      "train loss :  0.6802716743107885\n",
      "Consistency Cost : 0.715478600114584\n",
      "Classification Cost : 0.555618308186531\n"
     ]
    },
    {
     "name": "stderr",
     "output_type": "stream",
     "text": [
      " 83%|████████▎ | 1001/1200 [08:52<01:44,  1.91it/s]"
     ]
    },
    {
     "name": "stdout",
     "output_type": "stream",
     "text": [
      "train loss :  0.6735877949297429\n",
      "Consistency Cost : 0.6967547527551651\n",
      "Classification Cost : 0.5521965679824352\n"
     ]
    },
    {
     "name": "stderr",
     "output_type": "stream",
     "text": [
      "100%|██████████| 1200/1200 [10:36<00:00,  1.88it/s]\n",
      "  0%|          | 0/400 [00:00<?, ?it/s]"
     ]
    },
    {
     "name": "stdout",
     "output_type": "stream",
     "text": [
      "---------Running validation for student -------------\n"
     ]
    },
    {
     "name": "stderr",
     "output_type": "stream",
     "text": [
      "100%|██████████| 400/400 [00:41<00:00,  9.75it/s]\n"
     ]
    },
    {
     "name": "stdout",
     "output_type": "stream",
     "text": [
      "Overall validation loss: tensor(0.5561, device='cuda:0')\n",
      "Average F1 Validation score for whole sentence class 0 : 0.45046109239298227\n",
      "Average F1 Validation score for whole sentence class 1 : 0.8900532559157572\n",
      "Average Accuracy Validation score whole sentence  : 0.8167662526574914\n",
      "Average mcc Validation score whole sentence : 0.3632915718011\n",
      "Classification Report :\n",
      "               precision    recall  f1-score   support\n",
      "\n",
      "           0       0.36      0.59      0.45     28264\n",
      "           1       0.94      0.85      0.89    195161\n",
      "\n",
      "    accuracy                           0.82    223425\n",
      "   macro avg       0.65      0.72      0.67    223425\n",
      "weighted avg       0.86      0.82      0.83    223425\n",
      "\n"
     ]
    },
    {
     "name": "stderr",
     "output_type": "stream",
     "text": [
      "  0%|          | 0/400 [00:00<?, ?it/s]"
     ]
    },
    {
     "name": "stdout",
     "output_type": "stream",
     "text": [
      "---------Running validation for teacher -------------\n"
     ]
    },
    {
     "name": "stderr",
     "output_type": "stream",
     "text": [
      "100%|██████████| 400/400 [00:40<00:00,  9.79it/s]\n"
     ]
    },
    {
     "name": "stdout",
     "output_type": "stream",
     "text": [
      "Overall validation loss: tensor(0.5646, device='cuda:0')\n",
      "Average F1 Validation score for whole sentence class 0 : 0.45437953662036584\n",
      "Average F1 Validation score for whole sentence class 1 : 0.8955856593249849\n",
      "Average Accuracy Validation score whole sentence  : 0.8247152288239902\n",
      "Average mcc Validation score whole sentence : 0.3672836535455981\n",
      "Classification Report :\n",
      "               precision    recall  f1-score   support\n",
      "\n",
      "           0       0.37      0.58      0.45     28264\n",
      "           1       0.93      0.86      0.90    195161\n",
      "\n",
      "    accuracy                           0.82    223425\n",
      "   macro avg       0.65      0.72      0.67    223425\n",
      "weighted avg       0.86      0.82      0.84    223425\n",
      "\n"
     ]
    },
    {
     "name": "stderr",
     "output_type": "stream",
     "text": [
      "  0%|          | 0/1200 [00:00<?, ?it/s]"
     ]
    },
    {
     "name": "stdout",
     "output_type": "stream",
     "text": [
      "Current epoch is 3 of 30\n"
     ]
    },
    {
     "name": "stderr",
     "output_type": "stream",
     "text": [
      " 17%|█▋        | 201/1200 [01:44<08:41,  1.92it/s]"
     ]
    },
    {
     "name": "stdout",
     "output_type": "stream",
     "text": [
      "train loss :  0.6841030767932534\n",
      "Consistency Cost : 0.46284014262259005\n",
      "Classification Cost : 0.4954392351955175\n"
     ]
    },
    {
     "name": "stderr",
     "output_type": "stream",
     "text": [
      " 33%|███▎      | 401/1200 [03:29<06:57,  1.92it/s]"
     ]
    },
    {
     "name": "stdout",
     "output_type": "stream",
     "text": [
      "train loss :  0.6851914279721677\n",
      "Consistency Cost : 0.4566898429393768\n",
      "Classification Cost : 0.4990345843322575\n"
     ]
    },
    {
     "name": "stderr",
     "output_type": "stream",
     "text": [
      " 50%|█████     | 601/1200 [05:13<05:12,  1.92it/s]"
     ]
    },
    {
     "name": "stdout",
     "output_type": "stream",
     "text": [
      "train loss :  0.6866159621998668\n",
      "Consistency Cost : 0.4570451590480904\n",
      "Classification Cost : 0.5003142840011666\n"
     ]
    },
    {
     "name": "stderr",
     "output_type": "stream",
     "text": [
      " 67%|██████▋   | 801/1200 [06:57<03:27,  1.92it/s]"
     ]
    },
    {
     "name": "stdout",
     "output_type": "stream",
     "text": [
      "train loss :  0.6893396806064993\n",
      "Consistency Cost : 0.4611090247007087\n",
      "Classification Cost : 0.5013814804959111\n"
     ]
    },
    {
     "name": "stderr",
     "output_type": "stream",
     "text": [
      " 83%|████████▎ | 1001/1200 [08:41<01:43,  1.92it/s]"
     ]
    },
    {
     "name": "stdout",
     "output_type": "stream",
     "text": [
      "train loss :  0.6931139895869419\n",
      "Consistency Cost : 0.4602014200799167\n",
      "Classification Cost : 0.5055257487203926\n"
     ]
    },
    {
     "name": "stderr",
     "output_type": "stream",
     "text": [
      "100%|██████████| 1200/1200 [10:24<00:00,  1.92it/s]\n",
      "  0%|          | 0/400 [00:00<?, ?it/s]"
     ]
    },
    {
     "name": "stdout",
     "output_type": "stream",
     "text": [
      "---------Running validation for student -------------\n"
     ]
    },
    {
     "name": "stderr",
     "output_type": "stream",
     "text": [
      "100%|██████████| 400/400 [00:41<00:00,  9.74it/s]\n"
     ]
    },
    {
     "name": "stdout",
     "output_type": "stream",
     "text": [
      "Overall validation loss: tensor(0.8795, device='cuda:0')\n",
      "Average F1 Validation score for whole sentence class 0 : 0.36488063184347513\n",
      "Average F1 Validation score for whole sentence class 1 : 0.9296364241999393\n",
      "Average Accuracy Validation score whole sentence  : 0.8733087165715564\n",
      "Average mcc Validation score whole sentence : 0.31415208051339666\n",
      "Classification Report :\n",
      "               precision    recall  f1-score   support\n",
      "\n",
      "           0       0.50      0.29      0.36     28264\n",
      "           1       0.90      0.96      0.93    195161\n",
      "\n",
      "    accuracy                           0.87    223425\n",
      "   macro avg       0.70      0.62      0.65    223425\n",
      "weighted avg       0.85      0.87      0.86    223425\n",
      "\n"
     ]
    },
    {
     "name": "stderr",
     "output_type": "stream",
     "text": [
      "  0%|          | 0/400 [00:00<?, ?it/s]"
     ]
    },
    {
     "name": "stdout",
     "output_type": "stream",
     "text": [
      "---------Running validation for teacher -------------\n"
     ]
    },
    {
     "name": "stderr",
     "output_type": "stream",
     "text": [
      "100%|██████████| 400/400 [00:41<00:00,  9.69it/s]\n"
     ]
    },
    {
     "name": "stdout",
     "output_type": "stream",
     "text": [
      "Overall validation loss: tensor(0.7300, device='cuda:0')\n",
      "Average F1 Validation score for whole sentence class 0 : 0.417153155976962\n",
      "Average F1 Validation score for whole sentence class 1 : 0.9248314822487899\n",
      "Average Accuracy Validation score whole sentence  : 0.8668367461116706\n",
      "Average mcc Validation score whole sentence : 0.3455031948114302\n",
      "Classification Report :\n",
      "               precision    recall  f1-score   support\n",
      "\n",
      "           0       0.47      0.38      0.42     28264\n",
      "           1       0.91      0.94      0.92    195161\n",
      "\n",
      "    accuracy                           0.87    223425\n",
      "   macro avg       0.69      0.66      0.67    223425\n",
      "weighted avg       0.86      0.87      0.86    223425\n",
      "\n"
     ]
    },
    {
     "name": "stderr",
     "output_type": "stream",
     "text": [
      "  0%|          | 0/1200 [00:00<?, ?it/s]"
     ]
    },
    {
     "name": "stdout",
     "output_type": "stream",
     "text": [
      "Current epoch is 4 of 30\n"
     ]
    },
    {
     "name": "stderr",
     "output_type": "stream",
     "text": [
      " 17%|█▋        | 201/1200 [01:46<08:56,  1.86it/s]"
     ]
    },
    {
     "name": "stdout",
     "output_type": "stream",
     "text": [
      "train loss :  0.8053608505986631\n",
      "Consistency Cost : 0.38970441950485113\n",
      "Classification Cost : 0.46907094029709695\n"
     ]
    },
    {
     "name": "stderr",
     "output_type": "stream",
     "text": [
      " 33%|███▎      | 401/1200 [03:34<07:01,  1.90it/s]"
     ]
    },
    {
     "name": "stdout",
     "output_type": "stream",
     "text": [
      "train loss :  0.8420703831221908\n",
      "Consistency Cost : 0.4001398016046733\n",
      "Classification Cost : 0.49677540846634655\n"
     ]
    },
    {
     "name": "stderr",
     "output_type": "stream",
     "text": [
      " 50%|█████     | 601/1200 [05:19<05:15,  1.90it/s]"
     ]
    },
    {
     "name": "stdout",
     "output_type": "stream",
     "text": [
      "train loss :  0.8474677528068423\n",
      "Consistency Cost : 0.39465750521359344\n",
      "Classification Cost : 0.5069036468894531\n"
     ]
    },
    {
     "name": "stderr",
     "output_type": "stream",
     "text": [
      " 67%|██████▋   | 801/1200 [07:06<03:35,  1.85it/s]"
     ]
    },
    {
     "name": "stdout",
     "output_type": "stream",
     "text": [
      "train loss :  0.8463888318056706\n",
      "Consistency Cost : 0.38899790358380415\n",
      "Classification Cost : 0.5107085994794034\n"
     ]
    },
    {
     "name": "stderr",
     "output_type": "stream",
     "text": [
      " 83%|████████▎ | 1001/1200 [08:53<01:45,  1.89it/s]"
     ]
    },
    {
     "name": "stdout",
     "output_type": "stream",
     "text": [
      "train loss :  0.8454840100761503\n",
      "Consistency Cost : 0.38073445626627656\n",
      "Classification Cost : 0.5169346023108811\n"
     ]
    },
    {
     "name": "stderr",
     "output_type": "stream",
     "text": [
      "100%|██████████| 1200/1200 [10:38<00:00,  1.88it/s]\n",
      "  0%|          | 0/400 [00:00<?, ?it/s]"
     ]
    },
    {
     "name": "stdout",
     "output_type": "stream",
     "text": [
      "---------Running validation for student -------------\n"
     ]
    },
    {
     "name": "stderr",
     "output_type": "stream",
     "text": [
      "100%|██████████| 400/400 [00:41<00:00,  9.54it/s]\n"
     ]
    },
    {
     "name": "stdout",
     "output_type": "stream",
     "text": [
      "Overall validation loss: tensor(0.9785, device='cuda:0')\n",
      "Average F1 Validation score for whole sentence class 0 : 0.30681364724660815\n",
      "Average F1 Validation score for whole sentence class 1 : 0.931668772771749\n",
      "Average Accuracy Validation score whole sentence  : 0.8756003133042408\n",
      "Average mcc Validation score whole sentence : 0.2798239985272208\n",
      "Classification Report :\n",
      "               precision    recall  f1-score   support\n",
      "\n",
      "           0       0.52      0.22      0.31     28264\n",
      "           1       0.90      0.97      0.93    195161\n",
      "\n",
      "    accuracy                           0.88    223425\n",
      "   macro avg       0.71      0.59      0.62    223425\n",
      "weighted avg       0.85      0.88      0.85    223425\n",
      "\n"
     ]
    },
    {
     "name": "stderr",
     "output_type": "stream",
     "text": [
      "  0%|          | 0/400 [00:00<?, ?it/s]"
     ]
    },
    {
     "name": "stdout",
     "output_type": "stream",
     "text": [
      "---------Running validation for teacher -------------\n"
     ]
    },
    {
     "name": "stderr",
     "output_type": "stream",
     "text": [
      "100%|██████████| 400/400 [00:42<00:00,  9.42it/s]\n"
     ]
    },
    {
     "name": "stdout",
     "output_type": "stream",
     "text": [
      "Overall validation loss: tensor(0.9595, device='cuda:0')\n",
      "Average F1 Validation score for whole sentence class 0 : 0.34097936291076436\n",
      "Average F1 Validation score for whole sentence class 1 : 0.9321327280940145\n",
      "Average Accuracy Validation score whole sentence  : 0.8769385699899295\n",
      "Average mcc Validation score whole sentence : 0.30620818951163403\n",
      "Classification Report :\n",
      "               precision    recall  f1-score   support\n",
      "\n",
      "           0       0.53      0.25      0.34     28264\n",
      "           1       0.90      0.97      0.93    195161\n",
      "\n",
      "    accuracy                           0.88    223425\n",
      "   macro avg       0.71      0.61      0.64    223425\n",
      "weighted avg       0.85      0.88      0.86    223425\n",
      "\n"
     ]
    },
    {
     "name": "stderr",
     "output_type": "stream",
     "text": [
      "  0%|          | 0/1200 [00:00<?, ?it/s]"
     ]
    },
    {
     "name": "stdout",
     "output_type": "stream",
     "text": [
      "Current epoch is 5 of 30\n"
     ]
    },
    {
     "name": "stderr",
     "output_type": "stream",
     "text": [
      " 17%|█▋        | 201/1200 [01:47<08:47,  1.89it/s]"
     ]
    },
    {
     "name": "stdout",
     "output_type": "stream",
     "text": [
      "train loss :  1.1677834744937718\n",
      "Consistency Cost : 0.37507117955945435\n",
      "Classification Cost : 0.5477949746698141\n"
     ]
    },
    {
     "name": "stderr",
     "output_type": "stream",
     "text": [
      " 33%|███▎      | 401/1200 [03:33<07:01,  1.89it/s]"
     ]
    },
    {
     "name": "stdout",
     "output_type": "stream",
     "text": [
      "train loss :  1.124707683818415\n",
      "Consistency Cost : 0.3574998383456841\n",
      "Classification Cost : 0.533764416212216\n"
     ]
    },
    {
     "name": "stderr",
     "output_type": "stream",
     "text": [
      " 50%|█████     | 601/1200 [05:20<05:27,  1.83it/s]"
     ]
    },
    {
     "name": "stdout",
     "output_type": "stream",
     "text": [
      "train loss :  1.1190392184381683\n",
      "Consistency Cost : 0.34167511636856945\n",
      "Classification Cost : 0.5542540407398094\n"
     ]
    },
    {
     "name": "stderr",
     "output_type": "stream",
     "text": [
      " 67%|██████▋   | 801/1200 [07:07<03:29,  1.91it/s]"
     ]
    },
    {
     "name": "stdout",
     "output_type": "stream",
     "text": [
      "train loss :  1.102465039230883\n",
      "Consistency Cost : 0.3294504356908146\n",
      "Classification Cost : 0.5578871226590126\n"
     ]
    },
    {
     "name": "stderr",
     "output_type": "stream",
     "text": [
      " 83%|████████▎ | 1001/1200 [08:51<01:44,  1.91it/s]"
     ]
    },
    {
     "name": "stdout",
     "output_type": "stream",
     "text": [
      "train loss :  1.1050440492480993\n",
      "Consistency Cost : 0.3226883237892762\n",
      "Classification Cost : 0.5716438291687518\n"
     ]
    },
    {
     "name": "stderr",
     "output_type": "stream",
     "text": [
      "100%|██████████| 1200/1200 [10:35<00:00,  1.89it/s]\n",
      "  0%|          | 0/400 [00:00<?, ?it/s]"
     ]
    },
    {
     "name": "stdout",
     "output_type": "stream",
     "text": [
      "---------Running validation for student -------------\n"
     ]
    },
    {
     "name": "stderr",
     "output_type": "stream",
     "text": [
      "100%|██████████| 400/400 [00:41<00:00,  9.73it/s]\n"
     ]
    },
    {
     "name": "stdout",
     "output_type": "stream",
     "text": [
      "Overall validation loss: tensor(1.0958, device='cuda:0')\n",
      "Average F1 Validation score for whole sentence class 0 : 0.27142666844278673\n",
      "Average F1 Validation score for whole sentence class 1 : 0.9331883757008661\n",
      "Average Accuracy Validation score whole sentence  : 0.8776009846704711\n",
      "Average mcc Validation score whole sentence : 0.2647339896596084\n",
      "Classification Report :\n",
      "               precision    recall  f1-score   support\n",
      "\n",
      "           0       0.55      0.18      0.27     28264\n",
      "           1       0.89      0.98      0.93    195161\n",
      "\n",
      "    accuracy                           0.88    223425\n",
      "   macro avg       0.72      0.58      0.60    223425\n",
      "weighted avg       0.85      0.88      0.85    223425\n",
      "\n"
     ]
    },
    {
     "name": "stderr",
     "output_type": "stream",
     "text": [
      "  0%|          | 0/400 [00:00<?, ?it/s]"
     ]
    },
    {
     "name": "stdout",
     "output_type": "stream",
     "text": [
      "---------Running validation for teacher -------------\n"
     ]
    },
    {
     "name": "stderr",
     "output_type": "stream",
     "text": [
      "100%|██████████| 400/400 [00:41<00:00,  9.73it/s]\n"
     ]
    },
    {
     "name": "stdout",
     "output_type": "stream",
     "text": [
      "Overall validation loss: tensor(1.1365, device='cuda:0')\n",
      "Average F1 Validation score for whole sentence class 0 : 0.2780870579502677\n",
      "Average F1 Validation score for whole sentence class 1 : 0.9334389237598014\n",
      "Average Accuracy Validation score whole sentence  : 0.8781156987803513\n",
      "Average mcc Validation score whole sentence : 0.27073408496865853\n",
      "Classification Report :\n",
      "               precision    recall  f1-score   support\n",
      "\n",
      "           0       0.55      0.19      0.28     28264\n",
      "           1       0.89      0.98      0.93    195161\n",
      "\n",
      "    accuracy                           0.88    223425\n",
      "   macro avg       0.72      0.58      0.61    223425\n",
      "weighted avg       0.85      0.88      0.85    223425\n",
      "\n"
     ]
    },
    {
     "name": "stderr",
     "output_type": "stream",
     "text": [
      "  0%|          | 0/1200 [00:00<?, ?it/s]"
     ]
    },
    {
     "name": "stdout",
     "output_type": "stream",
     "text": [
      "Current epoch is 6 of 30\n"
     ]
    },
    {
     "name": "stderr",
     "output_type": "stream",
     "text": [
      " 17%|█▋        | 201/1200 [01:44<08:40,  1.92it/s]"
     ]
    },
    {
     "name": "stdout",
     "output_type": "stream",
     "text": [
      "train loss :  1.4161042664200068\n",
      "Consistency Cost : 0.27788306307047606\n",
      "Classification Cost : 0.6199559737928212\n"
     ]
    },
    {
     "name": "stderr",
     "output_type": "stream",
     "text": [
      " 33%|███▎      | 401/1200 [03:28<06:55,  1.92it/s]"
     ]
    },
    {
     "name": "stdout",
     "output_type": "stream",
     "text": [
      "train loss :  1.442779240021482\n",
      "Consistency Cost : 0.2837202376453206\n",
      "Classification Cost : 0.629907159213908\n"
     ]
    },
    {
     "name": "stderr",
     "output_type": "stream",
     "text": [
      " 50%|█████     | 601/1200 [05:12<05:11,  1.92it/s]"
     ]
    },
    {
     "name": "stdout",
     "output_type": "stream",
     "text": [
      "train loss :  1.4560522090333203\n",
      "Consistency Cost : 0.28729500017439324\n",
      "Classification Cost : 0.6329382622754202\n"
     ]
    },
    {
     "name": "stderr",
     "output_type": "stream",
     "text": [
      " 67%|██████▋   | 801/1200 [06:57<03:27,  1.92it/s]"
     ]
    },
    {
     "name": "stdout",
     "output_type": "stream",
     "text": [
      "train loss :  1.4480053487233817\n",
      "Consistency Cost : 0.28388053392292933\n",
      "Classification Cost : 0.6346740130032412\n"
     ]
    },
    {
     "name": "stderr",
     "output_type": "stream",
     "text": [
      " 83%|████████▎ | 1001/1200 [08:41<01:43,  1.92it/s]"
     ]
    },
    {
     "name": "stdout",
     "output_type": "stream",
     "text": [
      "train loss :  1.459800494838506\n",
      "Consistency Cost : 0.28658053346537055\n",
      "Classification Cost : 0.6387335310336202\n"
     ]
    },
    {
     "name": "stderr",
     "output_type": "stream",
     "text": [
      "100%|██████████| 1200/1200 [10:24<00:00,  1.92it/s]\n",
      "  0%|          | 0/400 [00:00<?, ?it/s]"
     ]
    },
    {
     "name": "stdout",
     "output_type": "stream",
     "text": [
      "---------Running validation for student -------------\n"
     ]
    },
    {
     "name": "stderr",
     "output_type": "stream",
     "text": [
      "100%|██████████| 400/400 [00:41<00:00,  9.71it/s]\n"
     ]
    },
    {
     "name": "stdout",
     "output_type": "stream",
     "text": [
      "Overall validation loss: tensor(1.2622, device='cuda:0')\n",
      "Average F1 Validation score for whole sentence class 0 : 0.27149226330972986\n",
      "Average F1 Validation score for whole sentence class 1 : 0.93203660207477\n",
      "Average Accuracy Validation score whole sentence  : 0.8756719257021371\n",
      "Average mcc Validation score whole sentence : 0.25742540393252417\n",
      "Classification Report :\n",
      "               precision    recall  f1-score   support\n",
      "\n",
      "           0       0.52      0.18      0.27     28264\n",
      "           1       0.89      0.98      0.93    195161\n",
      "\n",
      "    accuracy                           0.88    223425\n",
      "   macro avg       0.71      0.58      0.60    223425\n",
      "weighted avg       0.85      0.88      0.85    223425\n",
      "\n"
     ]
    },
    {
     "name": "stderr",
     "output_type": "stream",
     "text": [
      "  0%|          | 0/400 [00:00<?, ?it/s]"
     ]
    },
    {
     "name": "stdout",
     "output_type": "stream",
     "text": [
      "---------Running validation for teacher -------------\n"
     ]
    },
    {
     "name": "stderr",
     "output_type": "stream",
     "text": [
      "100%|██████████| 400/400 [00:41<00:00,  9.63it/s]\n"
     ]
    },
    {
     "name": "stdout",
     "output_type": "stream",
     "text": [
      "Overall validation loss: tensor(1.2958, device='cuda:0')\n",
      "Average F1 Validation score for whole sentence class 0 : 0.2594953806256416\n",
      "Average F1 Validation score for whole sentence class 1 : 0.9331140564914403\n",
      "Average Accuracy Validation score whole sentence  : 0.877310059304017\n",
      "Average mcc Validation score whole sentence : 0.2564556501169726\n",
      "Classification Report :\n",
      "               precision    recall  f1-score   support\n",
      "\n",
      "           0       0.55      0.17      0.26     28264\n",
      "           1       0.89      0.98      0.93    195161\n",
      "\n",
      "    accuracy                           0.88    223425\n",
      "   macro avg       0.72      0.57      0.60    223425\n",
      "weighted avg       0.85      0.88      0.85    223425\n",
      "\n"
     ]
    },
    {
     "name": "stderr",
     "output_type": "stream",
     "text": [
      "  0%|          | 0/1200 [00:00<?, ?it/s]"
     ]
    },
    {
     "name": "stdout",
     "output_type": "stream",
     "text": [
      "Current epoch is 7 of 30\n"
     ]
    },
    {
     "name": "stderr",
     "output_type": "stream",
     "text": [
      " 17%|█▋        | 201/1200 [01:48<09:07,  1.83it/s]"
     ]
    },
    {
     "name": "stdout",
     "output_type": "stream",
     "text": [
      "train loss :  1.9023063045740127\n",
      "Consistency Cost : 0.264754075165838\n",
      "Classification Cost : 0.7126896002236753\n"
     ]
    },
    {
     "name": "stderr",
     "output_type": "stream",
     "text": [
      " 33%|███▎      | 401/1200 [03:33<06:59,  1.90it/s]"
     ]
    },
    {
     "name": "stdout",
     "output_type": "stream",
     "text": [
      "train loss :  1.93036342211999\n",
      "Consistency Cost : 0.2679482451057993\n",
      "Classification Cost : 0.7263943880633451\n"
     ]
    },
    {
     "name": "stderr",
     "output_type": "stream",
     "text": [
      " 50%|█████     | 601/1200 [05:19<05:18,  1.88it/s]"
     ]
    },
    {
     "name": "stdout",
     "output_type": "stream",
     "text": [
      "train loss :  1.8997974702777962\n",
      "Consistency Cost : 0.2595846816323077\n",
      "Classification Cost : 0.7334083498843635\n"
     ]
    },
    {
     "name": "stderr",
     "output_type": "stream",
     "text": [
      " 67%|██████▋   | 801/1200 [07:07<03:33,  1.86it/s]"
     ]
    },
    {
     "name": "stdout",
     "output_type": "stream",
     "text": [
      "train loss :  1.8818536230688914\n",
      "Consistency Cost : 0.25674463214934806\n",
      "Classification Cost : 0.7282256678817793\n"
     ]
    },
    {
     "name": "stderr",
     "output_type": "stream",
     "text": [
      " 83%|████████▎ | 1001/1200 [08:52<01:44,  1.91it/s]"
     ]
    },
    {
     "name": "stdout",
     "output_type": "stream",
     "text": [
      "train loss :  1.9058832818083464\n",
      "Consistency Cost : 0.2617369745308533\n",
      "Classification Cost : 0.7298232881268486\n"
     ]
    },
    {
     "name": "stderr",
     "output_type": "stream",
     "text": [
      "100%|██████████| 1200/1200 [10:37<00:00,  1.88it/s]\n",
      "  0%|          | 0/400 [00:00<?, ?it/s]"
     ]
    },
    {
     "name": "stdout",
     "output_type": "stream",
     "text": [
      "---------Running validation for student -------------\n"
     ]
    },
    {
     "name": "stderr",
     "output_type": "stream",
     "text": [
      "100%|██████████| 400/400 [00:42<00:00,  9.37it/s]\n"
     ]
    },
    {
     "name": "stdout",
     "output_type": "stream",
     "text": [
      "Overall validation loss: tensor(1.3983, device='cuda:0')\n",
      "Average F1 Validation score for whole sentence class 0 : 0.26963867470196584\n",
      "Average F1 Validation score for whole sentence class 1 : 0.9321195252060042\n",
      "Average Accuracy Validation score whole sentence  : 0.8757838200738502\n",
      "Average mcc Validation score whole sentence : 0.25666953225504263\n",
      "Classification Report :\n",
      "               precision    recall  f1-score   support\n",
      "\n",
      "           0       0.53      0.18      0.27     28264\n",
      "           1       0.89      0.98      0.93    195161\n",
      "\n",
      "    accuracy                           0.88    223425\n",
      "   macro avg       0.71      0.58      0.60    223425\n",
      "weighted avg       0.85      0.88      0.85    223425\n",
      "\n"
     ]
    },
    {
     "name": "stderr",
     "output_type": "stream",
     "text": [
      "  0%|          | 0/400 [00:00<?, ?it/s]"
     ]
    },
    {
     "name": "stdout",
     "output_type": "stream",
     "text": [
      "---------Running validation for teacher -------------\n"
     ]
    },
    {
     "name": "stderr",
     "output_type": "stream",
     "text": [
      "100%|██████████| 400/400 [00:43<00:00,  9.22it/s]\n"
     ]
    },
    {
     "name": "stdout",
     "output_type": "stream",
     "text": [
      "Overall validation loss: tensor(1.4184, device='cuda:0')\n",
      "Average F1 Validation score for whole sentence class 0 : 0.24407263935822412\n",
      "Average F1 Validation score for whole sentence class 1 : 0.9329639835205663\n",
      "Average Accuracy Validation score whole sentence  : 0.876849054492559\n",
      "Average mcc Validation score whole sentence : 0.24533004527891467\n",
      "Classification Report :\n",
      "               precision    recall  f1-score   support\n",
      "\n",
      "           0       0.55      0.16      0.24     28264\n",
      "           1       0.89      0.98      0.93    195161\n",
      "\n",
      "    accuracy                           0.88    223425\n",
      "   macro avg       0.72      0.57      0.59    223425\n",
      "weighted avg       0.85      0.88      0.85    223425\n",
      "\n"
     ]
    },
    {
     "name": "stderr",
     "output_type": "stream",
     "text": [
      "  0%|          | 0/1200 [00:00<?, ?it/s]"
     ]
    },
    {
     "name": "stdout",
     "output_type": "stream",
     "text": [
      "Current epoch is 8 of 30\n"
     ]
    },
    {
     "name": "stderr",
     "output_type": "stream",
     "text": [
      " 17%|█▋        | 201/1200 [01:46<08:47,  1.89it/s]"
     ]
    },
    {
     "name": "stdout",
     "output_type": "stream",
     "text": [
      "train loss :  2.358029465302825\n",
      "Consistency Cost : 0.24749842239543796\n",
      "Classification Cost : 0.7799097978742793\n"
     ]
    },
    {
     "name": "stderr",
     "output_type": "stream",
     "text": [
      " 33%|███▎      | 401/1200 [03:31<07:07,  1.87it/s]"
     ]
    },
    {
     "name": "stdout",
     "output_type": "stream",
     "text": [
      "train loss :  2.358616612814367\n",
      "Consistency Cost : 0.24505481011234223\n",
      "Classification Cost : 0.7960781087703072\n"
     ]
    },
    {
     "name": "stderr",
     "output_type": "stream",
     "text": [
      " 50%|█████     | 601/1200 [05:20<05:17,  1.89it/s]"
     ]
    },
    {
     "name": "stdout",
     "output_type": "stream",
     "text": [
      "train loss :  2.377977109476924\n",
      "Consistency Cost : 0.2468390863078336\n",
      "Classification Cost : 0.8040615584809954\n"
     ]
    },
    {
     "name": "stderr",
     "output_type": "stream",
     "text": [
      " 67%|██████▋   | 801/1200 [07:05<03:30,  1.89it/s]"
     ]
    },
    {
     "name": "stdout",
     "output_type": "stream",
     "text": [
      "train loss :  2.3984864671621473\n",
      "Consistency Cost : 0.2489857604156714\n",
      "Classification Cost : 0.8108831202017609\n"
     ]
    },
    {
     "name": "stderr",
     "output_type": "stream",
     "text": [
      " 83%|████████▎ | 1001/1200 [08:52<01:47,  1.85it/s]"
     ]
    },
    {
     "name": "stdout",
     "output_type": "stream",
     "text": [
      "train loss :  2.397256595171988\n",
      "Consistency Cost : 0.24661322783306242\n",
      "Classification Cost : 0.8247811825247482\n"
     ]
    },
    {
     "name": "stderr",
     "output_type": "stream",
     "text": [
      "100%|██████████| 1200/1200 [10:39<00:00,  1.88it/s]\n",
      "  0%|          | 0/400 [00:00<?, ?it/s]"
     ]
    },
    {
     "name": "stdout",
     "output_type": "stream",
     "text": [
      "---------Running validation for student -------------\n"
     ]
    },
    {
     "name": "stderr",
     "output_type": "stream",
     "text": [
      "100%|██████████| 400/400 [00:41<00:00,  9.63it/s]\n"
     ]
    },
    {
     "name": "stdout",
     "output_type": "stream",
     "text": [
      "Overall validation loss: tensor(1.4209, device='cuda:0')\n",
      "Average F1 Validation score for whole sentence class 0 : 0.22753128555176338\n",
      "Average F1 Validation score for whole sentence class 1 : 0.9322340443659006\n",
      "Average Accuracy Validation score whole sentence  : 0.8753989034351572\n",
      "Average mcc Validation score whole sentence : 0.22895589814957276\n",
      "Classification Report :\n",
      "               precision    recall  f1-score   support\n",
      "\n",
      "           0       0.53      0.15      0.23     28264\n",
      "           1       0.89      0.98      0.93    195161\n",
      "\n",
      "    accuracy                           0.88    223425\n",
      "   macro avg       0.71      0.56      0.58    223425\n",
      "weighted avg       0.84      0.88      0.84    223425\n",
      "\n"
     ]
    },
    {
     "name": "stderr",
     "output_type": "stream",
     "text": [
      "  0%|          | 0/400 [00:00<?, ?it/s]"
     ]
    },
    {
     "name": "stdout",
     "output_type": "stream",
     "text": [
      "---------Running validation for teacher -------------\n"
     ]
    },
    {
     "name": "stderr",
     "output_type": "stream",
     "text": [
      "100%|██████████| 400/400 [00:41<00:00,  9.63it/s]\n"
     ]
    },
    {
     "name": "stdout",
     "output_type": "stream",
     "text": [
      "Overall validation loss: tensor(1.4974, device='cuda:0')\n",
      "Average F1 Validation score for whole sentence class 0 : 0.2365775047519352\n",
      "Average F1 Validation score for whole sentence class 1 : 0.9324977042935191\n",
      "Average Accuracy Validation score whole sentence  : 0.8759628510685913\n",
      "Average mcc Validation score whole sentence : 0.23696050544617553\n",
      "Classification Report :\n",
      "               precision    recall  f1-score   support\n",
      "\n",
      "           0       0.53      0.15      0.24     28264\n",
      "           1       0.89      0.98      0.93    195161\n",
      "\n",
      "    accuracy                           0.88    223425\n",
      "   macro avg       0.71      0.57      0.58    223425\n",
      "weighted avg       0.84      0.88      0.84    223425\n",
      "\n"
     ]
    },
    {
     "name": "stderr",
     "output_type": "stream",
     "text": [
      "  0%|          | 0/1200 [00:00<?, ?it/s]"
     ]
    },
    {
     "name": "stdout",
     "output_type": "stream",
     "text": [
      "Current epoch is 9 of 30\n"
     ]
    },
    {
     "name": "stderr",
     "output_type": "stream",
     "text": [
      " 17%|█▋        | 201/1200 [01:46<08:58,  1.85it/s]"
     ]
    },
    {
     "name": "stdout",
     "output_type": "stream",
     "text": [
      "train loss :  2.800782269462943\n",
      "Consistency Cost : 0.23861370355822145\n",
      "Classification Cost : 0.8471785327373073\n"
     ]
    },
    {
     "name": "stderr",
     "output_type": "stream",
     "text": [
      " 33%|███▎      | 401/1200 [03:34<07:00,  1.90it/s]"
     ]
    },
    {
     "name": "stdout",
     "output_type": "stream",
     "text": [
      "train loss :  2.8031363226100803\n",
      "Consistency Cost : 0.23507021650671958\n",
      "Classification Cost : 0.8785442073806189\n"
     ]
    },
    {
     "name": "stderr",
     "output_type": "stream",
     "text": [
      " 50%|█████     | 601/1200 [05:19<05:12,  1.92it/s]"
     ]
    },
    {
     "name": "stdout",
     "output_type": "stream",
     "text": [
      "train loss :  2.8207591391106446\n",
      "Consistency Cost : 0.23801803761317084\n",
      "Classification Cost : 0.8720323067344725\n"
     ]
    },
    {
     "name": "stderr",
     "output_type": "stream",
     "text": [
      " 67%|██████▋   | 801/1200 [07:03<03:27,  1.92it/s]"
     ]
    },
    {
     "name": "stdout",
     "output_type": "stream",
     "text": [
      "train loss :  2.8316544649377464\n",
      "Consistency Cost : 0.23911143160425127\n",
      "Classification Cost : 0.8739756789861712\n"
     ]
    },
    {
     "name": "stderr",
     "output_type": "stream",
     "text": [
      " 83%|████████▎ | 1001/1200 [08:47<01:43,  1.92it/s]"
     ]
    },
    {
     "name": "stdout",
     "output_type": "stream",
     "text": [
      "train loss :  2.8352274618446827\n",
      "Consistency Cost : 0.23802751085534693\n",
      "Classification Cost : 0.8864230687301606\n"
     ]
    },
    {
     "name": "stderr",
     "output_type": "stream",
     "text": [
      "100%|██████████| 1200/1200 [10:32<00:00,  1.90it/s]\n",
      "  0%|          | 0/400 [00:00<?, ?it/s]"
     ]
    },
    {
     "name": "stdout",
     "output_type": "stream",
     "text": [
      "---------Running validation for student -------------\n"
     ]
    },
    {
     "name": "stderr",
     "output_type": "stream",
     "text": [
      "100%|██████████| 400/400 [00:41<00:00,  9.53it/s]\n"
     ]
    },
    {
     "name": "stdout",
     "output_type": "stream",
     "text": [
      "Overall validation loss: tensor(1.4934, device='cuda:0')\n",
      "Average F1 Validation score for whole sentence class 0 : 0.22982779161702585\n",
      "Average F1 Validation score for whole sentence class 1 : 0.9306105123463717\n",
      "Average Accuracy Validation score whole sentence  : 0.8726910596397002\n",
      "Average mcc Validation score whole sentence : 0.21945568528795364\n",
      "Classification Report :\n",
      "               precision    recall  f1-score   support\n",
      "\n",
      "           0       0.49      0.15      0.23     28264\n",
      "           1       0.89      0.98      0.93    195161\n",
      "\n",
      "    accuracy                           0.87    223425\n",
      "   macro avg       0.69      0.56      0.58    223425\n",
      "weighted avg       0.84      0.87      0.84    223425\n",
      "\n"
     ]
    },
    {
     "name": "stderr",
     "output_type": "stream",
     "text": [
      "  0%|          | 0/400 [00:00<?, ?it/s]"
     ]
    },
    {
     "name": "stdout",
     "output_type": "stream",
     "text": [
      "---------Running validation for teacher -------------\n"
     ]
    },
    {
     "name": "stderr",
     "output_type": "stream",
     "text": [
      "100%|██████████| 400/400 [00:42<00:00,  9.38it/s]\n"
     ]
    },
    {
     "name": "stdout",
     "output_type": "stream",
     "text": [
      "Overall validation loss: tensor(1.5525, device='cuda:0')\n",
      "Average F1 Validation score for whole sentence class 0 : 0.22211188348229063\n",
      "Average F1 Validation score for whole sentence class 1 : 0.9313196849473208\n",
      "Average Accuracy Validation score whole sentence  : 0.87378314870762\n",
      "Average mcc Validation score whole sentence : 0.21867412137673936\n",
      "Classification Report :\n",
      "               precision    recall  f1-score   support\n",
      "\n",
      "           0       0.50      0.14      0.22     28264\n",
      "           1       0.89      0.98      0.93    195161\n",
      "\n",
      "    accuracy                           0.87    223425\n",
      "   macro avg       0.70      0.56      0.58    223425\n",
      "weighted avg       0.84      0.87      0.84    223425\n",
      "\n"
     ]
    },
    {
     "name": "stderr",
     "output_type": "stream",
     "text": [
      "  0%|          | 0/1200 [00:00<?, ?it/s]"
     ]
    },
    {
     "name": "stdout",
     "output_type": "stream",
     "text": [
      "Current epoch is 10 of 30\n"
     ]
    },
    {
     "name": "stderr",
     "output_type": "stream",
     "text": [
      " 17%|█▋        | 201/1200 [01:47<08:45,  1.90it/s]"
     ]
    },
    {
     "name": "stdout",
     "output_type": "stream",
     "text": [
      "train loss :  3.0023110722377897\n",
      "Consistency Cost : 0.2143645025137812\n",
      "Classification Cost : 0.9632129353377968\n"
     ]
    },
    {
     "name": "stderr",
     "output_type": "stream",
     "text": [
      " 33%|███▎      | 401/1200 [03:33<07:01,  1.89it/s]"
     ]
    },
    {
     "name": "stdout",
     "output_type": "stream",
     "text": [
      "train loss :  3.0692429984919727\n",
      "Consistency Cost : 0.22446560265496374\n",
      "Classification Cost : 0.9340602325554938\n"
     ]
    },
    {
     "name": "stderr",
     "output_type": "stream",
     "text": [
      " 50%|█████     | 601/1200 [05:20<05:29,  1.82it/s]"
     ]
    },
    {
     "name": "stdout",
     "output_type": "stream",
     "text": [
      "train loss :  3.08385130080084\n",
      "Consistency Cost : 0.22592847062895696\n",
      "Classification Cost : 0.9347533007043725\n"
     ]
    },
    {
     "name": "stderr",
     "output_type": "stream",
     "text": [
      " 67%|██████▋   | 801/1200 [07:07<03:30,  1.90it/s]"
     ]
    },
    {
     "name": "stdout",
     "output_type": "stream",
     "text": [
      "train loss :  3.0861577300168572\n",
      "Consistency Cost : 0.22728372906683944\n",
      "Classification Cost : 0.9241681129729841\n"
     ]
    },
    {
     "name": "stderr",
     "output_type": "stream",
     "text": [
      " 83%|████████▎ | 1001/1200 [08:52<01:45,  1.89it/s]"
     ]
    },
    {
     "name": "stdout",
     "output_type": "stream",
     "text": [
      "train loss :  3.0821569912210105\n",
      "Consistency Cost : 0.2258107487987727\n",
      "Classification Cost : 0.9341787958713248\n"
     ]
    },
    {
     "name": "stderr",
     "output_type": "stream",
     "text": [
      "100%|██████████| 1200/1200 [10:40<00:00,  1.87it/s]\n",
      "  0%|          | 0/400 [00:00<?, ?it/s]"
     ]
    },
    {
     "name": "stdout",
     "output_type": "stream",
     "text": [
      "---------Running validation for student -------------\n"
     ]
    },
    {
     "name": "stderr",
     "output_type": "stream",
     "text": [
      "100%|██████████| 400/400 [00:42<00:00,  9.47it/s]\n"
     ]
    },
    {
     "name": "stdout",
     "output_type": "stream",
     "text": [
      "Overall validation loss: tensor(1.6494, device='cuda:0')\n",
      "Average F1 Validation score for whole sentence class 0 : 0.2354344387688957\n",
      "Average F1 Validation score for whole sentence class 1 : 0.9277780363130476\n",
      "Average Accuracy Validation score whole sentence  : 0.8680228264518295\n",
      "Average mcc Validation score whole sentence : 0.2077860426011694\n",
      "Classification Report :\n",
      "               precision    recall  f1-score   support\n",
      "\n",
      "           0       0.44      0.16      0.24     28264\n",
      "           1       0.89      0.97      0.93    195161\n",
      "\n",
      "    accuracy                           0.87    223425\n",
      "   macro avg       0.66      0.57      0.58    223425\n",
      "weighted avg       0.83      0.87      0.84    223425\n",
      "\n"
     ]
    },
    {
     "name": "stderr",
     "output_type": "stream",
     "text": [
      "  0%|          | 0/400 [00:00<?, ?it/s]"
     ]
    },
    {
     "name": "stdout",
     "output_type": "stream",
     "text": [
      "---------Running validation for teacher -------------\n"
     ]
    },
    {
     "name": "stderr",
     "output_type": "stream",
     "text": [
      "100%|██████████| 400/400 [00:41<00:00,  9.56it/s]\n"
     ]
    },
    {
     "name": "stdout",
     "output_type": "stream",
     "text": [
      "Overall validation loss: tensor(1.6226, device='cuda:0')\n",
      "Average F1 Validation score for whole sentence class 0 : 0.2279419553013452\n",
      "Average F1 Validation score for whole sentence class 1 : 0.9287289225248482\n",
      "Average Accuracy Validation score whole sentence  : 0.8695043079333109\n",
      "Average mcc Validation score whole sentence : 0.2070133089502458\n",
      "Classification Report :\n",
      "               precision    recall  f1-score   support\n",
      "\n",
      "           0       0.45      0.15      0.23     28264\n",
      "           1       0.89      0.97      0.93    195161\n",
      "\n",
      "    accuracy                           0.87    223425\n",
      "   macro avg       0.67      0.56      0.58    223425\n",
      "weighted avg       0.83      0.87      0.84    223425\n",
      "\n"
     ]
    },
    {
     "name": "stderr",
     "output_type": "stream",
     "text": [
      "  0%|          | 0/1200 [00:00<?, ?it/s]"
     ]
    },
    {
     "name": "stdout",
     "output_type": "stream",
     "text": [
      "Current epoch is 11 of 30\n"
     ]
    },
    {
     "name": "stderr",
     "output_type": "stream",
     "text": [
      " 17%|█▋        | 201/1200 [01:46<08:51,  1.88it/s]"
     ]
    },
    {
     "name": "stdout",
     "output_type": "stream",
     "text": [
      "train loss :  3.143702931925654\n",
      "Consistency Cost : 0.21273123817052692\n",
      "Classification Cost : 1.0163905588677153\n"
     ]
    },
    {
     "name": "stderr",
     "output_type": "stream",
     "text": [
      " 33%|███▎      | 401/1200 [03:34<07:15,  1.83it/s]"
     ]
    },
    {
     "name": "stdout",
     "output_type": "stream",
     "text": [
      "train loss :  3.0211665841564534\n",
      "Consistency Cost : 0.20348322016885503\n",
      "Classification Cost : 0.9863343919441104\n"
     ]
    },
    {
     "name": "stderr",
     "output_type": "stream",
     "text": [
      " 50%|█████     | 601/1200 [05:19<05:14,  1.90it/s]"
     ]
    },
    {
     "name": "stdout",
     "output_type": "stream",
     "text": [
      "train loss :  3.0565687971065443\n",
      "Consistency Cost : 0.20629561447693656\n",
      "Classification Cost : 0.9936126605281607\n"
     ]
    },
    {
     "name": "stderr",
     "output_type": "stream",
     "text": [
      " 67%|██████▋   | 801/1200 [07:05<03:33,  1.87it/s]"
     ]
    },
    {
     "name": "stdout",
     "output_type": "stream",
     "text": [
      "train loss :  3.034253084696829\n",
      "Consistency Cost : 0.20423854530090466\n",
      "Classification Cost : 0.9918676385877189\n"
     ]
    },
    {
     "name": "stderr",
     "output_type": "stream",
     "text": [
      " 83%|████████▎ | 1001/1200 [08:53<01:45,  1.88it/s]"
     ]
    },
    {
     "name": "stdout",
     "output_type": "stream",
     "text": [
      "train loss :  3.0722734584063294\n",
      "Consistency Cost : 0.20853757390286773\n",
      "Classification Cost : 0.9868977246452123\n"
     ]
    },
    {
     "name": "stderr",
     "output_type": "stream",
     "text": [
      "100%|██████████| 1200/1200 [10:38<00:00,  1.88it/s]\n",
      "  0%|          | 0/400 [00:00<?, ?it/s]"
     ]
    },
    {
     "name": "stdout",
     "output_type": "stream",
     "text": [
      "---------Running validation for student -------------\n"
     ]
    },
    {
     "name": "stderr",
     "output_type": "stream",
     "text": [
      "100%|██████████| 400/400 [00:41<00:00,  9.58it/s]\n"
     ]
    },
    {
     "name": "stdout",
     "output_type": "stream",
     "text": [
      "Overall validation loss: tensor(1.6337, device='cuda:0')\n",
      "Average F1 Validation score for whole sentence class 0 : 0.24460395031561802\n",
      "Average F1 Validation score for whole sentence class 1 : 0.9271816312610107\n",
      "Average Accuracy Validation score whole sentence  : 0.8671679534519414\n",
      "Average mcc Validation score whole sentence : 0.21202125062817043\n",
      "Classification Report :\n",
      "               precision    recall  f1-score   support\n",
      "\n",
      "           0       0.44      0.17      0.24     28264\n",
      "           1       0.89      0.97      0.93    195161\n",
      "\n",
      "    accuracy                           0.87    223425\n",
      "   macro avg       0.66      0.57      0.59    223425\n",
      "weighted avg       0.83      0.87      0.84    223425\n",
      "\n"
     ]
    },
    {
     "name": "stderr",
     "output_type": "stream",
     "text": [
      "  0%|          | 0/400 [00:00<?, ?it/s]"
     ]
    },
    {
     "name": "stdout",
     "output_type": "stream",
     "text": [
      "---------Running validation for teacher -------------\n"
     ]
    },
    {
     "name": "stderr",
     "output_type": "stream",
     "text": [
      "100%|██████████| 400/400 [00:42<00:00,  9.50it/s]\n"
     ]
    },
    {
     "name": "stdout",
     "output_type": "stream",
     "text": [
      "Overall validation loss: tensor(1.6543, device='cuda:0')\n",
      "Average F1 Validation score for whole sentence class 0 : 0.23950225184182442\n",
      "Average F1 Validation score for whole sentence class 1 : 0.9284761174918041\n",
      "Average Accuracy Validation score whole sentence  : 0.869249188765805\n",
      "Average mcc Validation score whole sentence : 0.21442024760996276\n",
      "Classification Report :\n",
      "               precision    recall  f1-score   support\n",
      "\n",
      "           0       0.45      0.16      0.24     28264\n",
      "           1       0.89      0.97      0.93    195161\n",
      "\n",
      "    accuracy                           0.87    223425\n",
      "   macro avg       0.67      0.57      0.58    223425\n",
      "weighted avg       0.83      0.87      0.84    223425\n",
      "\n"
     ]
    },
    {
     "name": "stderr",
     "output_type": "stream",
     "text": [
      "  0%|          | 0/1200 [00:00<?, ?it/s]"
     ]
    },
    {
     "name": "stdout",
     "output_type": "stream",
     "text": [
      "Current epoch is 12 of 30\n"
     ]
    },
    {
     "name": "stderr",
     "output_type": "stream",
     "text": [
      " 17%|█▋        | 201/1200 [01:48<08:52,  1.88it/s]"
     ]
    },
    {
     "name": "stdout",
     "output_type": "stream",
     "text": [
      "train loss :  3.0264842312037943\n",
      "Consistency Cost : 0.20198867057450115\n",
      "Classification Cost : 1.0065975289326161\n"
     ]
    },
    {
     "name": "stderr",
     "output_type": "stream",
     "text": [
      " 33%|███▎      | 401/1200 [03:34<07:01,  1.89it/s]"
     ]
    },
    {
     "name": "stdout",
     "output_type": "stream",
     "text": [
      "train loss :  3.0256127504445613\n",
      "Consistency Cost : 0.2027452050265856\n",
      "Classification Cost : 0.9981607002671808\n"
     ]
    },
    {
     "name": "stderr",
     "output_type": "stream",
     "text": [
      " 50%|█████     | 601/1200 [05:20<05:21,  1.86it/s]"
     ]
    },
    {
     "name": "stdout",
     "output_type": "stream",
     "text": [
      "train loss :  3.043318718311687\n",
      "Consistency Cost : 0.20324351152870804\n",
      "Classification Cost : 1.0108836037230988\n"
     ]
    },
    {
     "name": "stderr",
     "output_type": "stream",
     "text": [
      " 67%|██████▋   | 801/1200 [07:08<03:30,  1.90it/s]"
     ]
    },
    {
     "name": "stdout",
     "output_type": "stream",
     "text": [
      "train loss :  3.0638284090999512\n",
      "Consistency Cost : 0.20475811055279336\n",
      "Classification Cost : 1.0162473054148722\n"
     ]
    },
    {
     "name": "stderr",
     "output_type": "stream",
     "text": [
      " 83%|████████▎ | 1001/1200 [08:53<01:44,  1.90it/s]"
     ]
    },
    {
     "name": "stdout",
     "output_type": "stream",
     "text": [
      "train loss :  3.094936975494027\n",
      "Consistency Cost : 0.20872139790281655\n",
      "Classification Cost : 1.0077229980537667\n"
     ]
    },
    {
     "name": "stderr",
     "output_type": "stream",
     "text": [
      "100%|██████████| 1200/1200 [10:39<00:00,  1.88it/s]\n",
      "  0%|          | 0/400 [00:00<?, ?it/s]"
     ]
    },
    {
     "name": "stdout",
     "output_type": "stream",
     "text": [
      "---------Running validation for student -------------\n"
     ]
    },
    {
     "name": "stderr",
     "output_type": "stream",
     "text": [
      "100%|██████████| 400/400 [00:43<00:00,  9.20it/s]\n"
     ]
    },
    {
     "name": "stdout",
     "output_type": "stream",
     "text": [
      "Overall validation loss: tensor(1.6575, device='cuda:0')\n",
      "Average F1 Validation score for whole sentence class 0 : 0.23362411603778452\n",
      "Average F1 Validation score for whole sentence class 1 : 0.9272391351224197\n",
      "Average Accuracy Validation score whole sentence  : 0.867096341054045\n",
      "Average mcc Validation score whole sentence : 0.2037575087651301\n",
      "Classification Report :\n",
      "               precision    recall  f1-score   support\n",
      "\n",
      "           0       0.43      0.16      0.23     28264\n",
      "           1       0.89      0.97      0.93    195161\n",
      "\n",
      "    accuracy                           0.87    223425\n",
      "   macro avg       0.66      0.56      0.58    223425\n",
      "weighted avg       0.83      0.87      0.84    223425\n",
      "\n"
     ]
    },
    {
     "name": "stderr",
     "output_type": "stream",
     "text": [
      "  0%|          | 0/400 [00:00<?, ?it/s]"
     ]
    },
    {
     "name": "stdout",
     "output_type": "stream",
     "text": [
      "---------Running validation for teacher -------------\n"
     ]
    },
    {
     "name": "stderr",
     "output_type": "stream",
     "text": [
      "100%|██████████| 400/400 [00:42<00:00,  9.46it/s]\n"
     ]
    },
    {
     "name": "stdout",
     "output_type": "stream",
     "text": [
      "Overall validation loss: tensor(1.6328, device='cuda:0')\n",
      "Average F1 Validation score for whole sentence class 0 : 0.23712412860264281\n",
      "Average F1 Validation score for whole sentence class 1 : 0.9281891059386983\n",
      "Average Accuracy Validation score whole sentence  : 0.8687344746559248\n",
      "Average mcc Validation score whole sentence : 0.21114410233431177\n",
      "Classification Report :\n",
      "               precision    recall  f1-score   support\n",
      "\n",
      "           0       0.45      0.16      0.24     28264\n",
      "           1       0.89      0.97      0.93    195161\n",
      "\n",
      "    accuracy                           0.87    223425\n",
      "   macro avg       0.67      0.57      0.58    223425\n",
      "weighted avg       0.83      0.87      0.84    223425\n",
      "\n",
      "terminating because of early stopping!\n"
     ]
    }
   ],
   "source": [
    "metrices = train_MeanTeacher(train_dataloader,val_dataloader,len_labelled_data,len_unlabelled_data,writer, early_stopping,dropout_layer=True, noise_layer=True) # alpha = 0.995 and full data w/o noise and dropout"
   ]
  },
  {
   "cell_type": "code",
   "execution_count": null,
   "metadata": {},
   "outputs": [],
   "source": [
    "consistency_cost_lst = get_items(metrices[0])\n",
    "classification_cost_lst = get_items(metrices[1])\n",
    "overall_cost_lst = get_items(metrices[2])\n",
    "f1_class0_student_test = metrices[3]\n",
    "f1_class1_student_test= metrices[4]\n",
    "accuracy_student = metrices[5]\n",
    "mcc_cost_student = metrices[6]\n",
    "test_cost_student = tensors_to_lst(metrices[7])\n",
    "f1_class1_teacher_test=metrices[8]\n",
    "f1_class0_teacher_test = metrices[9]\n",
    "accuracy_teacher = metrices[10]\n",
    "mcc_cost_teacher = metrices[11]\n",
    "test_cost_teacher=tensors_to_lst(metrices[12])\n",
    "\n",
    "print('Consistency_lost_train :',consistency_cost_lst,'\\n',\n",
    "      'Classificataion_lost_train : ',classification_cost_lst,'\\n',\n",
    "      'Overall_loss_train :',overall_cost_lst,'\\n',\n",
    "      'f1_class0_student_test :',f1_class0_student_test,'\\n',\n",
    "      'f1_class1_student_test :',f1_class1_student_test,'\\n',\n",
    "      'accuracy_student :',accuracy_student,'\\n',\n",
    "      'mcc_cost_student :',mcc_cost_student,'\\n',\n",
    "      'test_cost_student :',test_cost_student,'\\n',\n",
    "      'f1_class0_teacher_test :',f1_class0_teacher_test,'\\n',\n",
    "      'f1_class1_teacher_test :',f1_class1_teacher_test,'\\n',\n",
    "    'accuracy_teacher :', accuracy_teacher,'\\n',\n",
    "      'mcc_cost_teacher',mcc_cost_teacher,'\\n',\n",
    "      'test_cost_teacher',test_cost_teacher)"
   ]
  },
  {
   "cell_type": "code",
   "execution_count": 86,
   "metadata": {},
   "outputs": [
    {
     "data": {
      "text/plain": [
       "2e-05"
      ]
     },
     "execution_count": 86,
     "metadata": {},
     "output_type": "execute_result"
    }
   ],
   "source": [
    "# # model= EntityModel()\n",
    "# optimizer_parameters_model = list(model.named_parameters())\n",
    "  \n",
    "# no_decay = [\"bias\", \"LayerNorm.bias\", \"LayerNorm.weight\"]\n",
    "# optimizer_parameters = [\n",
    "# {\n",
    "#     \"params\": [\n",
    "#         p for n, p in optimizer_parameters_model if not any(nd in n for nd in no_decay)\n",
    "#     ],\n",
    "#     \"weight_decay\": 0.001,\n",
    "# },\n",
    "# {\n",
    "#     \"params\": [\n",
    "#         p for n, p in optimizer_parameters_model if any(nd in n for nd in no_decay)\n",
    "#     ],\n",
    "#     \"weight_decay\": 0.0,\n",
    "# }]\n",
    "# optimizer = AdamW(optimizer_parameters, lr=config.lr)\n",
    "# num_train_steps = int(len(train_dataloader) * config.EPOCHS)\n",
    "# #     scheduler = torch.optim.lr_scheduler.CosineAnnealingLR(\n",
    "# #         optimizer, T_max=num_train_steps)\n",
    "# scheduler = get_linear_schedule_with_warmup(\n",
    "# optimizer, num_warmup_steps=0, num_training_steps=num_train_steps)\n",
    "# float(scheduler.get_last_lr()[0])"
   ]
  },
  {
   "cell_type": "code",
   "execution_count": 33,
   "metadata": {},
   "outputs": [],
   "source": [
    "def get_items(lst):\n",
    "    new_lst = []\n",
    "    for items in lst:\n",
    "        for item in items :\n",
    "            new_lst.append(float(item))\n",
    "    return new_lst"
   ]
  },
  {
   "cell_type": "code",
   "execution_count": 34,
   "metadata": {},
   "outputs": [],
   "source": [
    "def tensors_to_lst(lst):\n",
    "    new_lst = []\n",
    "    for items in lst:\n",
    "        new_lst.append(items.item())\n",
    "    return new_lst"
   ]
  },
  {
   "cell_type": "code",
   "execution_count": 35,
   "metadata": {},
   "outputs": [],
   "source": [
    "def plot_against_epochs(matrix1,matrix2,label1 , label2 ,y_label , title):\n",
    "    \n",
    "    epochs = np.arange(1,config.EPOCHS+1)\n",
    "    # print(epochs)\n",
    "    plt.plot(epochs,matrix1,label=label1)\n",
    "    if matrix2 is not None :\n",
    "        plt.plot(epochs,matrix2,label=label2)\n",
    "    plt.xlabel('epochs')\n",
    "    plt.ylabel(y_label)\n",
    "    plt.title(title)\n",
    "    plt.grid()\n",
    "    plt.legend()\n",
    "    plt.show()"
   ]
  },
  {
   "cell_type": "markdown",
   "metadata": {},
   "source": [
    "<h2>Running without Noise embeddings and dropout </h2> -- <h4> No weighted Loss </h4>"
   ]
  },
  {
   "cell_type": "code",
   "execution_count": 50,
   "metadata": {},
   "outputs": [
    {
     "name": "stderr",
     "output_type": "stream",
     "text": [
      "Some weights of the model checkpoint at xlm-roberta-base were not used when initializing XLMRobertaModel: ['lm_head.bias', 'lm_head.dense.weight', 'lm_head.layer_norm.bias', 'lm_head.decoder.weight', 'lm_head.layer_norm.weight', 'lm_head.dense.bias']\n",
      "- This IS expected if you are initializing XLMRobertaModel from the checkpoint of a model trained on another task or with another architecture (e.g. initializing a BertForSequenceClassification model from a BertForPreTraining model).\n",
      "- This IS NOT expected if you are initializing XLMRobertaModel from the checkpoint of a model that you expect to be exactly identical (initializing a BertForSequenceClassification model from a BertForSequenceClassification model).\n",
      "Some weights of the model checkpoint at xlm-roberta-base were not used when initializing XLMRobertaModel: ['lm_head.bias', 'lm_head.dense.weight', 'lm_head.layer_norm.bias', 'lm_head.decoder.weight', 'lm_head.layer_norm.weight', 'lm_head.dense.bias']\n",
      "- This IS expected if you are initializing XLMRobertaModel from the checkpoint of a model trained on another task or with another architecture (e.g. initializing a BertForSequenceClassification model from a BertForPreTraining model).\n",
      "- This IS NOT expected if you are initializing XLMRobertaModel from the checkpoint of a model that you expect to be exactly identical (initializing a BertForSequenceClassification model from a BertForSequenceClassification model).\n",
      "  0%|          | 0/1475 [00:00<?, ?it/s]"
     ]
    },
    {
     "name": "stdout",
     "output_type": "stream",
     "text": [
      "Current epoch is 1 of 6\n"
     ]
    },
    {
     "name": "stderr",
     "output_type": "stream",
     "text": [
      "/opt/conda/lib/python3.6/site-packages/ipykernel_launcher.py:13: UserWarning: This overload of add_ is deprecated:\n",
      "\tadd_(Number alpha, Tensor other)\n",
      "Consider using one of the following signatures instead:\n",
      "\tadd_(Tensor other, *, Number alpha) (Triggered internally at  /codebuild/output/src811146734/src/torch/csrc/utils/python_arg_parser.cpp:766.)\n",
      "  del sys.path[0]\n",
      "  3%|▎         | 51/1475 [00:31<14:34,  1.63it/s]"
     ]
    },
    {
     "name": "stdout",
     "output_type": "stream",
     "text": [
      "train loss :  0.3547354141250253\n",
      "Consistency Cost : 0.030972826387733222\n",
      "Classification Cost : 0.6784980070590972\n"
     ]
    },
    {
     "name": "stderr",
     "output_type": "stream",
     "text": [
      "  7%|▋         | 101/1475 [01:02<14:11,  1.61it/s]"
     ]
    },
    {
     "name": "stdout",
     "output_type": "stream",
     "text": [
      "train loss :  0.3416421932447702\n",
      "Consistency Cost : 0.027616027165204286\n",
      "Classification Cost : 0.6556683623790741\n"
     ]
    },
    {
     "name": "stderr",
     "output_type": "stream",
     "text": [
      " 10%|█         | 151/1475 [01:33<13:39,  1.62it/s]"
     ]
    },
    {
     "name": "stdout",
     "output_type": "stream",
     "text": [
      "train loss :  0.34094914578522245\n",
      "Consistency Cost : 0.02543507168069482\n",
      "Classification Cost : 0.656463220914205\n"
     ]
    },
    {
     "name": "stderr",
     "output_type": "stream",
     "text": [
      " 14%|█▎        | 201/1475 [02:04<13:10,  1.61it/s]"
     ]
    },
    {
     "name": "stdout",
     "output_type": "stream",
     "text": [
      "train loss :  0.337883496847935\n",
      "Consistency Cost : 0.02451276226900518\n",
      "Classification Cost : 0.6512542325258255\n"
     ]
    },
    {
     "name": "stderr",
     "output_type": "stream",
     "text": [
      " 17%|█▋        | 251/1475 [02:35<12:44,  1.60it/s]"
     ]
    },
    {
     "name": "stdout",
     "output_type": "stream",
     "text": [
      "train loss :  0.3365211391188204\n",
      "Consistency Cost : 0.024658911991864443\n",
      "Classification Cost : 0.6483833661079407\n"
     ]
    },
    {
     "name": "stderr",
     "output_type": "stream",
     "text": [
      " 20%|██        | 301/1475 [03:06<12:15,  1.60it/s]"
     ]
    },
    {
     "name": "stdout",
     "output_type": "stream",
     "text": [
      "train loss :  0.3329066822918442\n",
      "Consistency Cost : 0.023575567095540463\n",
      "Classification Cost : 0.642237797776858\n"
     ]
    },
    {
     "name": "stderr",
     "output_type": "stream",
     "text": [
      " 24%|██▍       | 351/1475 [03:37<11:47,  1.59it/s]"
     ]
    },
    {
     "name": "stdout",
     "output_type": "stream",
     "text": [
      "train loss :  0.3320569583341213\n",
      "Consistency Cost : 0.022428626608369605\n",
      "Classification Cost : 0.6416852903366089\n"
     ]
    },
    {
     "name": "stderr",
     "output_type": "stream",
     "text": [
      " 27%|██▋       | 401/1475 [04:09<11:23,  1.57it/s]"
     ]
    },
    {
     "name": "stdout",
     "output_type": "stream",
     "text": [
      "train loss :  0.33139689281524626\n",
      "Consistency Cost : 0.02192311704275198\n",
      "Classification Cost : 0.6408706690371037\n"
     ]
    },
    {
     "name": "stderr",
     "output_type": "stream",
     "text": [
      " 31%|███       | 451/1475 [04:41<11:00,  1.55it/s]"
     ]
    },
    {
     "name": "stdout",
     "output_type": "stream",
     "text": [
      "train loss :  0.32969301528607803\n",
      "Consistency Cost : 0.02218396635622614\n",
      "Classification Cost : 0.6372020652559068\n"
     ]
    },
    {
     "name": "stderr",
     "output_type": "stream",
     "text": [
      " 34%|███▍      | 501/1475 [05:14<10:32,  1.54it/s]"
     ]
    },
    {
     "name": "stdout",
     "output_type": "stream",
     "text": [
      "train loss :  0.3283559181112796\n",
      "Consistency Cost : 0.02181452905293554\n",
      "Classification Cost : 0.6348973083496093\n"
     ]
    },
    {
     "name": "stderr",
     "output_type": "stream",
     "text": [
      " 37%|███▋      | 551/1475 [05:46<10:12,  1.51it/s]"
     ]
    },
    {
     "name": "stdout",
     "output_type": "stream",
     "text": [
      "train loss :  0.3268451086719605\n",
      "Consistency Cost : 0.021445280038328334\n",
      "Classification Cost : 0.632244938286868\n"
     ]
    },
    {
     "name": "stderr",
     "output_type": "stream",
     "text": [
      " 41%|████      | 601/1475 [06:20<09:52,  1.47it/s]"
     ]
    },
    {
     "name": "stdout",
     "output_type": "stream",
     "text": [
      "train loss :  0.32492623187135905\n",
      "Consistency Cost : 0.021457856707274913\n",
      "Classification Cost : 0.6283946080505848\n"
     ]
    },
    {
     "name": "stderr",
     "output_type": "stream",
     "text": [
      " 44%|████▍     | 651/1475 [06:54<09:21,  1.47it/s]"
     ]
    },
    {
     "name": "stdout",
     "output_type": "stream",
     "text": [
      "train loss :  0.3232151498767332\n",
      "Consistency Cost : 0.021100626413782055\n",
      "Classification Cost : 0.6253296744364959\n"
     ]
    },
    {
     "name": "stderr",
     "output_type": "stream",
     "text": [
      " 48%|████▊     | 701/1475 [07:28<08:53,  1.45it/s]"
     ]
    },
    {
     "name": "stdout",
     "output_type": "stream",
     "text": [
      "train loss :  0.3210546387595657\n",
      "Consistency Cost : 0.0205384472278612\n",
      "Classification Cost : 0.6215708314095225\n"
     ]
    },
    {
     "name": "stderr",
     "output_type": "stream",
     "text": [
      " 51%|█████     | 751/1475 [08:03<08:21,  1.44it/s]"
     ]
    },
    {
     "name": "stdout",
     "output_type": "stream",
     "text": [
      "train loss :  0.32002674765108774\n",
      "Consistency Cost : 0.02032796009754141\n",
      "Classification Cost : 0.6197255362272263\n"
     ]
    },
    {
     "name": "stderr",
     "output_type": "stream",
     "text": [
      " 54%|█████▍    | 801/1475 [08:37<07:40,  1.46it/s]"
     ]
    },
    {
     "name": "stdout",
     "output_type": "stream",
     "text": [
      "train loss :  0.3190225565127912\n",
      "Consistency Cost : 0.020181306710583158\n",
      "Classification Cost : 0.6178638074174523\n"
     ]
    },
    {
     "name": "stderr",
     "output_type": "stream",
     "text": [
      " 58%|█████▊    | 851/1475 [09:11<07:04,  1.47it/s]"
     ]
    },
    {
     "name": "stdout",
     "output_type": "stream",
     "text": [
      "train loss :  0.31781021464396925\n",
      "Consistency Cost : 0.019969265108708948\n",
      "Classification Cost : 0.6156511651768404\n"
     ]
    },
    {
     "name": "stderr",
     "output_type": "stream",
     "text": [
      " 61%|██████    | 901/1475 [09:45<06:31,  1.47it/s]"
     ]
    },
    {
     "name": "stdout",
     "output_type": "stream",
     "text": [
      "train loss :  0.31672622688114643\n",
      "Consistency Cost : 0.019789559646095668\n",
      "Classification Cost : 0.6136628951297866\n"
     ]
    },
    {
     "name": "stderr",
     "output_type": "stream",
     "text": [
      " 64%|██████▍   | 951/1475 [10:20<06:01,  1.45it/s]"
     ]
    },
    {
     "name": "stdout",
     "output_type": "stream",
     "text": [
      "train loss :  0.3154512396846947\n",
      "Consistency Cost : 0.019770812473602985\n",
      "Classification Cost : 0.611131667933966\n"
     ]
    },
    {
     "name": "stderr",
     "output_type": "stream",
     "text": [
      " 68%|██████▊   | 1001/1475 [10:54<05:26,  1.45it/s]"
     ]
    },
    {
     "name": "stdout",
     "output_type": "stream",
     "text": [
      "train loss :  0.313564599736128\n",
      "Consistency Cost : 0.019694882054813206\n",
      "Classification Cost : 0.6074343183040619\n"
     ]
    },
    {
     "name": "stderr",
     "output_type": "stream",
     "text": [
      " 71%|███████▏  | 1051/1475 [11:28<04:51,  1.46it/s]"
     ]
    },
    {
     "name": "stdout",
     "output_type": "stream",
     "text": [
      "train loss :  0.31241489283962265\n",
      "Consistency Cost : 0.019606684639251658\n",
      "Classification Cost : 0.6052231019735337\n"
     ]
    },
    {
     "name": "stderr",
     "output_type": "stream",
     "text": [
      " 75%|███████▍  | 1101/1475 [12:03<04:16,  1.46it/s]"
     ]
    },
    {
     "name": "stdout",
     "output_type": "stream",
     "text": [
      "train loss :  0.31096018722735935\n",
      "Consistency Cost : 0.019282718656626955\n",
      "Classification Cost : 0.6026376567916437\n"
     ]
    },
    {
     "name": "stderr",
     "output_type": "stream",
     "text": [
      " 78%|███████▊  | 1151/1475 [12:37<03:42,  1.46it/s]"
     ]
    },
    {
     "name": "stdout",
     "output_type": "stream",
     "text": [
      "train loss :  0.30987100250644445\n",
      "Consistency Cost : 0.019119788434396944\n",
      "Classification Cost : 0.6006222174478614\n"
     ]
    },
    {
     "name": "stderr",
     "output_type": "stream",
     "text": [
      " 81%|████████▏ | 1201/1475 [13:11<03:07,  1.46it/s]"
     ]
    },
    {
     "name": "stdout",
     "output_type": "stream",
     "text": [
      "train loss :  0.30898572306856903\n",
      "Consistency Cost : 0.01905155625291324\n",
      "Classification Cost : 0.5989198907464742\n"
     ]
    },
    {
     "name": "stderr",
     "output_type": "stream",
     "text": [
      " 85%|████████▍ | 1251/1475 [13:46<02:33,  1.46it/s]"
     ]
    },
    {
     "name": "stdout",
     "output_type": "stream",
     "text": [
      "train loss :  0.30780355838323015\n",
      "Consistency Cost : 0.019060368658602236\n",
      "Classification Cost : 0.5965467489004135\n"
     ]
    },
    {
     "name": "stderr",
     "output_type": "stream",
     "text": [
      " 88%|████████▊ | 1301/1475 [14:20<01:59,  1.45it/s]"
     ]
    },
    {
     "name": "stdout",
     "output_type": "stream",
     "text": [
      "train loss :  0.3064509150590031\n",
      "Consistency Cost : 0.018849081406548906\n",
      "Classification Cost : 0.5940527495512595\n"
     ]
    },
    {
     "name": "stderr",
     "output_type": "stream",
     "text": [
      " 92%|█████████▏| 1351/1475 [14:54<01:24,  1.46it/s]"
     ]
    },
    {
     "name": "stdout",
     "output_type": "stream",
     "text": [
      "train loss :  0.3057660203847896\n",
      "Consistency Cost : 0.018872396219349295\n",
      "Classification Cost : 0.5926596453675518\n"
     ]
    },
    {
     "name": "stderr",
     "output_type": "stream",
     "text": [
      " 95%|█████████▍| 1401/1475 [15:28<00:50,  1.46it/s]"
     ]
    },
    {
     "name": "stdout",
     "output_type": "stream",
     "text": [
      "train loss :  0.304983163964602\n",
      "Consistency Cost : 0.018958242670799208\n",
      "Classification Cost : 0.5910080861193793\n"
     ]
    },
    {
     "name": "stderr",
     "output_type": "stream",
     "text": [
      " 98%|█████████▊| 1451/1475 [16:03<00:16,  1.46it/s]"
     ]
    },
    {
     "name": "stdout",
     "output_type": "stream",
     "text": [
      "train loss :  0.3044402849047991\n",
      "Consistency Cost : 0.01887895172606383\n",
      "Classification Cost : 0.5900016189443654\n"
     ]
    },
    {
     "name": "stderr",
     "output_type": "stream",
     "text": [
      "100%|██████████| 1475/1475 [16:19<00:00,  1.51it/s]\n",
      "  0%|          | 0/400 [00:00<?, ?it/s]"
     ]
    },
    {
     "name": "stdout",
     "output_type": "stream",
     "text": [
      "---------Running validation for student -------------\n"
     ]
    },
    {
     "name": "stderr",
     "output_type": "stream",
     "text": [
      "100%|██████████| 400/400 [00:46<00:00,  8.68it/s]\n"
     ]
    },
    {
     "name": "stdout",
     "output_type": "stream",
     "text": [
      "Overall validation loss: tensor(0.5379, device='cuda:0')\n",
      "Average F1 Validation score for whole sentence class 0 : 0.4057381478752149\n",
      "Average F1 Validation score for whole sentence class 1 : 0.824730855611099\n",
      "Average Accuracy Validation score whole sentence  : 0.7293006601767931\n",
      "Average mcc Validation score whole sentence : 0.3251814780934721\n"
     ]
    },
    {
     "name": "stderr",
     "output_type": "stream",
     "text": [
      "  0%|          | 0/400 [00:00<?, ?it/s]"
     ]
    },
    {
     "name": "stdout",
     "output_type": "stream",
     "text": [
      "Classification Report :\n",
      "               precision    recall  f1-score   support\n",
      "\n",
      "           0       0.28      0.73      0.41     28264\n",
      "           1       0.95      0.73      0.82    195161\n",
      "\n",
      "    accuracy                           0.73    223425\n",
      "   macro avg       0.62      0.73      0.62    223425\n",
      "weighted avg       0.86      0.73      0.77    223425\n",
      "\n",
      "---------Running validation for teacher -------------\n"
     ]
    },
    {
     "name": "stderr",
     "output_type": "stream",
     "text": [
      "100%|██████████| 400/400 [00:46<00:00,  8.69it/s]\n"
     ]
    },
    {
     "name": "stdout",
     "output_type": "stream",
     "text": [
      "Overall validation loss: tensor(0.5549, device='cuda:0')\n",
      "Average F1 Validation score for whole sentence class 0 : 0.4185645390070922\n",
      "Average F1 Validation score for whole sentence class 1 : 0.8571635654052546\n",
      "Average Accuracy Validation score whole sentence  : 0.7706657715116929\n",
      "Average mcc Validation score whole sentence : 0.3304818049502085\n"
     ]
    },
    {
     "name": "stderr",
     "output_type": "stream",
     "text": [
      "  0%|          | 0/1475 [00:00<?, ?it/s]"
     ]
    },
    {
     "name": "stdout",
     "output_type": "stream",
     "text": [
      "Classification Report :\n",
      "               precision    recall  f1-score   support\n",
      "\n",
      "           0       0.31      0.65      0.42     28264\n",
      "           1       0.94      0.79      0.86    195161\n",
      "\n",
      "    accuracy                           0.77    223425\n",
      "   macro avg       0.62      0.72      0.64    223425\n",
      "weighted avg       0.86      0.77      0.80    223425\n",
      "\n",
      "Current epoch is 2 of 6\n"
     ]
    },
    {
     "name": "stderr",
     "output_type": "stream",
     "text": [
      "  3%|▎         | 51/1475 [00:34<16:13,  1.46it/s]"
     ]
    },
    {
     "name": "stdout",
     "output_type": "stream",
     "text": [
      "train loss :  0.2784213703870773\n",
      "Consistency Cost : 0.02013481853529811\n",
      "Classification Cost : 0.5367079228162766\n"
     ]
    },
    {
     "name": "stderr",
     "output_type": "stream",
     "text": [
      "  7%|▋         | 101/1475 [01:09<15:40,  1.46it/s]"
     ]
    },
    {
     "name": "stdout",
     "output_type": "stream",
     "text": [
      "train loss :  0.2611993132368661\n",
      "Consistency Cost : 0.02043601223267615\n",
      "Classification Cost : 0.5019626140594482\n"
     ]
    },
    {
     "name": "stderr",
     "output_type": "stream",
     "text": [
      " 10%|█         | 151/1475 [01:43<15:06,  1.46it/s]"
     ]
    },
    {
     "name": "stdout",
     "output_type": "stream",
     "text": [
      "train loss :  0.2567560515195752\n",
      "Consistency Cost : 0.021248782966285944\n",
      "Classification Cost : 0.4922633202870687\n"
     ]
    },
    {
     "name": "stderr",
     "output_type": "stream",
     "text": [
      " 14%|█▎        | 201/1475 [02:17<14:31,  1.46it/s]"
     ]
    },
    {
     "name": "stdout",
     "output_type": "stream",
     "text": [
      "train loss :  0.2636131878755987\n",
      "Consistency Cost : 0.021149984949734062\n",
      "Classification Cost : 0.5060763907432556\n"
     ]
    },
    {
     "name": "stderr",
     "output_type": "stream",
     "text": [
      " 17%|█▋        | 251/1475 [02:51<13:55,  1.47it/s]"
     ]
    },
    {
     "name": "stdout",
     "output_type": "stream",
     "text": [
      "train loss :  0.26576158867776395\n",
      "Consistency Cost : 0.02200652929395437\n",
      "Classification Cost : 0.5095166474580765\n"
     ]
    },
    {
     "name": "stderr",
     "output_type": "stream",
     "text": [
      " 20%|██        | 301/1475 [03:25<13:21,  1.46it/s]"
     ]
    },
    {
     "name": "stdout",
     "output_type": "stream",
     "text": [
      "train loss :  0.2669350486854091\n",
      "Consistency Cost : 0.02254137026766936\n",
      "Classification Cost : 0.5113287270565827\n"
     ]
    },
    {
     "name": "stderr",
     "output_type": "stream",
     "text": [
      " 24%|██▍       | 351/1475 [03:59<12:48,  1.46it/s]"
     ]
    },
    {
     "name": "stdout",
     "output_type": "stream",
     "text": [
      "train loss :  0.26430965669469775\n",
      "Consistency Cost : 0.021880908326711506\n",
      "Classification Cost : 0.5067384051850864\n"
     ]
    },
    {
     "name": "stderr",
     "output_type": "stream",
     "text": [
      " 27%|██▋       | 401/1475 [04:34<12:13,  1.46it/s]"
     ]
    },
    {
     "name": "stdout",
     "output_type": "stream",
     "text": [
      "train loss :  0.264324026620161\n",
      "Consistency Cost : 0.022131593874946703\n",
      "Classification Cost : 0.5065164593234658\n"
     ]
    },
    {
     "name": "stderr",
     "output_type": "stream",
     "text": [
      " 31%|███       | 451/1475 [05:08<11:41,  1.46it/s]"
     ]
    },
    {
     "name": "stdout",
     "output_type": "stream",
     "text": [
      "train loss :  0.2651851563345796\n",
      "Consistency Cost : 0.0229843215424464\n",
      "Classification Cost : 0.5073859909176827\n"
     ]
    },
    {
     "name": "stderr",
     "output_type": "stream",
     "text": [
      " 34%|███▍      | 501/1475 [05:42<11:06,  1.46it/s]"
     ]
    },
    {
     "name": "stdout",
     "output_type": "stream",
     "text": [
      "train loss :  0.26412212041614114\n",
      "Consistency Cost : 0.022728255311725662\n",
      "Classification Cost : 0.5055159850120544\n"
     ]
    },
    {
     "name": "stderr",
     "output_type": "stream",
     "text": [
      " 37%|███▋      | 551/1475 [06:16<10:34,  1.46it/s]"
     ]
    },
    {
     "name": "stdout",
     "output_type": "stream",
     "text": [
      "train loss :  0.26538273871040224\n",
      "Consistency Cost : 0.023418942387427456\n",
      "Classification Cost : 0.507346534891562\n"
     ]
    },
    {
     "name": "stderr",
     "output_type": "stream",
     "text": [
      " 41%|████      | 601/1475 [06:51<09:59,  1.46it/s]"
     ]
    },
    {
     "name": "stdout",
     "output_type": "stream",
     "text": [
      "train loss :  0.26622832563802756\n",
      "Consistency Cost : 0.023928221359383314\n",
      "Classification Cost : 0.5085284299155076\n"
     ]
    },
    {
     "name": "stderr",
     "output_type": "stream",
     "text": [
      " 44%|████▍     | 651/1475 [07:25<09:22,  1.47it/s]"
     ]
    },
    {
     "name": "stdout",
     "output_type": "stream",
     "text": [
      "train loss :  0.26726840832861715\n",
      "Consistency Cost : 0.024622195742021385\n",
      "Classification Cost : 0.5099146210688811\n"
     ]
    },
    {
     "name": "stderr",
     "output_type": "stream",
     "text": [
      " 48%|████▊     | 701/1475 [07:59<08:49,  1.46it/s]"
     ]
    },
    {
     "name": "stdout",
     "output_type": "stream",
     "text": [
      "train loss :  0.26735804119430084\n",
      "Consistency Cost : 0.024801138466490166\n",
      "Classification Cost : 0.5099149441080434\n"
     ]
    },
    {
     "name": "stderr",
     "output_type": "stream",
     "text": [
      " 51%|█████     | 751/1475 [08:33<08:13,  1.47it/s]"
     ]
    },
    {
     "name": "stdout",
     "output_type": "stream",
     "text": [
      "train loss :  0.26828306492309395\n",
      "Consistency Cost : 0.02539092187769711\n",
      "Classification Cost : 0.5111752082308133\n"
     ]
    },
    {
     "name": "stderr",
     "output_type": "stream",
     "text": [
      " 54%|█████▍    | 801/1475 [09:07<07:39,  1.47it/s]"
     ]
    },
    {
     "name": "stdout",
     "output_type": "stream",
     "text": [
      "train loss :  0.2689389891004248\n",
      "Consistency Cost : 0.025698536456911825\n",
      "Classification Cost : 0.5121794419921935\n"
     ]
    },
    {
     "name": "stderr",
     "output_type": "stream",
     "text": [
      " 58%|█████▊    | 851/1475 [09:41<07:05,  1.46it/s]"
     ]
    },
    {
     "name": "stdout",
     "output_type": "stream",
     "text": [
      "train loss :  0.2692832355897682\n",
      "Consistency Cost : 0.025912856310469044\n",
      "Classification Cost : 0.5126536149663083\n"
     ]
    },
    {
     "name": "stderr",
     "output_type": "stream",
     "text": [
      " 61%|██████    | 901/1475 [10:16<06:32,  1.46it/s]"
     ]
    },
    {
     "name": "stdout",
     "output_type": "stream",
     "text": [
      "train loss :  0.2693522176780324\n",
      "Consistency Cost : 0.02619050005838896\n",
      "Classification Cost : 0.5125139352513685\n"
     ]
    },
    {
     "name": "stderr",
     "output_type": "stream",
     "text": [
      " 64%|██████▍   | 951/1475 [10:50<05:59,  1.46it/s]"
     ]
    },
    {
     "name": "stdout",
     "output_type": "stream",
     "text": [
      "train loss :  0.2692853591294567\n",
      "Consistency Cost : 0.02652863423364531\n",
      "Classification Cost : 0.5120420840696285\n"
     ]
    },
    {
     "name": "stderr",
     "output_type": "stream",
     "text": [
      " 68%|██████▊   | 1001/1475 [11:24<05:25,  1.46it/s]"
     ]
    },
    {
     "name": "stdout",
     "output_type": "stream",
     "text": [
      "train loss :  0.2693401553940494\n",
      "Consistency Cost : 0.027003325772238896\n",
      "Classification Cost : 0.5116769851893187\n"
     ]
    },
    {
     "name": "stderr",
     "output_type": "stream",
     "text": [
      " 71%|███████▏  | 1051/1475 [11:58<04:49,  1.46it/s]"
     ]
    },
    {
     "name": "stdout",
     "output_type": "stream",
     "text": [
      "train loss :  0.2691776566289454\n",
      "Consistency Cost : 0.02715374671876253\n",
      "Classification Cost : 0.5112015667557717\n"
     ]
    },
    {
     "name": "stderr",
     "output_type": "stream",
     "text": [
      " 75%|███████▍  | 1101/1475 [12:32<04:15,  1.46it/s]"
     ]
    },
    {
     "name": "stdout",
     "output_type": "stream",
     "text": [
      "train loss :  0.26929276294434784\n",
      "Consistency Cost : 0.027722885838328777\n",
      "Classification Cost : 0.5108626401830804\n"
     ]
    },
    {
     "name": "stderr",
     "output_type": "stream",
     "text": [
      " 78%|███████▊  | 1151/1475 [13:07<03:41,  1.46it/s]"
     ]
    },
    {
     "name": "stdout",
     "output_type": "stream",
     "text": [
      "train loss :  0.26925124544913515\n",
      "Consistency Cost : 0.028159919369601362\n",
      "Classification Cost : 0.5103425716317218\n"
     ]
    },
    {
     "name": "stderr",
     "output_type": "stream",
     "text": [
      " 81%|████████▏ | 1201/1475 [13:41<03:07,  1.46it/s]"
     ]
    },
    {
     "name": "stdout",
     "output_type": "stream",
     "text": [
      "train loss :  0.2701788104583587\n",
      "Consistency Cost : 0.028551567620015702\n",
      "Classification Cost : 0.5118060534074903\n"
     ]
    },
    {
     "name": "stderr",
     "output_type": "stream",
     "text": [
      " 85%|████████▍ | 1251/1475 [14:15<02:33,  1.46it/s]"
     ]
    },
    {
     "name": "stdout",
     "output_type": "stream",
     "text": [
      "train loss :  0.27064709351398053\n",
      "Consistency Cost : 0.028878418317995966\n",
      "Classification Cost : 0.5124157687544822\n"
     ]
    },
    {
     "name": "stderr",
     "output_type": "stream",
     "text": [
      " 88%|████████▊ | 1301/1475 [14:49<01:59,  1.46it/s]"
     ]
    },
    {
     "name": "stdout",
     "output_type": "stream",
     "text": [
      "train loss :  0.2701610300799411\n",
      "Consistency Cost : 0.02921922841489924\n",
      "Classification Cost : 0.511102831764863\n"
     ]
    },
    {
     "name": "stderr",
     "output_type": "stream",
     "text": [
      " 92%|█████████▏| 1351/1475 [15:24<01:25,  1.46it/s]"
     ]
    },
    {
     "name": "stdout",
     "output_type": "stream",
     "text": [
      "train loss :  0.26994940921282656\n",
      "Consistency Cost : 0.029399651994506174\n",
      "Classification Cost : 0.5104991663495699\n"
     ]
    },
    {
     "name": "stderr",
     "output_type": "stream",
     "text": [
      " 95%|█████████▍| 1401/1475 [15:58<00:50,  1.45it/s]"
     ]
    },
    {
     "name": "stdout",
     "output_type": "stream",
     "text": [
      "train loss :  0.27022029731778147\n",
      "Consistency Cost : 0.030046768422928704\n",
      "Classification Cost : 0.5103938260993787\n"
     ]
    },
    {
     "name": "stderr",
     "output_type": "stream",
     "text": [
      " 98%|█████████▊| 1451/1475 [16:32<00:16,  1.45it/s]"
     ]
    },
    {
     "name": "stdout",
     "output_type": "stream",
     "text": [
      "train loss :  0.270978927538662\n",
      "Consistency Cost : 0.030641146070958147\n",
      "Classification Cost : 0.5113167088298962\n"
     ]
    },
    {
     "name": "stderr",
     "output_type": "stream",
     "text": [
      "100%|██████████| 1475/1475 [16:49<00:00,  1.46it/s]\n",
      "  0%|          | 0/400 [00:00<?, ?it/s]"
     ]
    },
    {
     "name": "stdout",
     "output_type": "stream",
     "text": [
      "---------Running validation for student -------------\n"
     ]
    },
    {
     "name": "stderr",
     "output_type": "stream",
     "text": [
      "100%|██████████| 400/400 [00:46<00:00,  8.63it/s]\n"
     ]
    },
    {
     "name": "stdout",
     "output_type": "stream",
     "text": [
      "Overall validation loss: tensor(0.5714, device='cuda:0')\n",
      "Average F1 Validation score for whole sentence class 0 : 0.4365954350611348\n",
      "Average F1 Validation score for whole sentence class 1 : 0.9071524832585649\n",
      "Average Accuracy Validation score whole sentence  : 0.8405773749580396\n",
      "Average mcc Validation score whole sentence : 0.3476009382589231\n"
     ]
    },
    {
     "name": "stderr",
     "output_type": "stream",
     "text": [
      "  0%|          | 0/400 [00:00<?, ?it/s]"
     ]
    },
    {
     "name": "stdout",
     "output_type": "stream",
     "text": [
      "Classification Report :\n",
      "               precision    recall  f1-score   support\n",
      "\n",
      "           0       0.39      0.49      0.44     28264\n",
      "           1       0.92      0.89      0.91    195161\n",
      "\n",
      "    accuracy                           0.84    223425\n",
      "   macro avg       0.66      0.69      0.67    223425\n",
      "weighted avg       0.86      0.84      0.85    223425\n",
      "\n",
      "---------Running validation for teacher -------------\n"
     ]
    },
    {
     "name": "stderr",
     "output_type": "stream",
     "text": [
      "100%|██████████| 400/400 [00:46<00:00,  8.66it/s]\n"
     ]
    },
    {
     "name": "stdout",
     "output_type": "stream",
     "text": [
      "Overall validation loss: tensor(0.5929, device='cuda:0')\n",
      "Average F1 Validation score for whole sentence class 0 : 0.4339212935123939\n",
      "Average F1 Validation score for whole sentence class 1 : 0.9124248673064896\n",
      "Average Accuracy Validation score whole sentence  : 0.8483159897057178\n",
      "Average mcc Validation score whole sentence : 0.34738161844891924\n"
     ]
    },
    {
     "name": "stderr",
     "output_type": "stream",
     "text": [
      "  0%|          | 0/1475 [00:00<?, ?it/s]"
     ]
    },
    {
     "name": "stdout",
     "output_type": "stream",
     "text": [
      "Classification Report :\n",
      "               precision    recall  f1-score   support\n",
      "\n",
      "           0       0.41      0.46      0.43     28264\n",
      "           1       0.92      0.90      0.91    195161\n",
      "\n",
      "    accuracy                           0.85    223425\n",
      "   macro avg       0.67      0.68      0.67    223425\n",
      "weighted avg       0.86      0.85      0.85    223425\n",
      "\n",
      "Current epoch is 3 of 6\n"
     ]
    },
    {
     "name": "stderr",
     "output_type": "stream",
     "text": [
      "  3%|▎         | 51/1475 [00:34<16:13,  1.46it/s]"
     ]
    },
    {
     "name": "stdout",
     "output_type": "stream",
     "text": [
      "train loss :  0.25185410052537915\n",
      "Consistency Cost : 0.037127181310206654\n",
      "Classification Cost : 0.4665810215473175\n"
     ]
    },
    {
     "name": "stderr",
     "output_type": "stream",
     "text": [
      "  7%|▋         | 101/1475 [01:09<15:41,  1.46it/s]"
     ]
    },
    {
     "name": "stdout",
     "output_type": "stream",
     "text": [
      "train loss :  0.24940999783575535\n",
      "Consistency Cost : 0.038901663469150666\n",
      "Classification Cost : 0.45991833344101907\n"
     ]
    },
    {
     "name": "stderr",
     "output_type": "stream",
     "text": [
      " 10%|█         | 151/1475 [01:43<15:07,  1.46it/s]"
     ]
    },
    {
     "name": "stdout",
     "output_type": "stream",
     "text": [
      "train loss :  0.24628057237520504\n",
      "Consistency Cost : 0.0363482272461988\n",
      "Classification Cost : 0.45621291860938074\n"
     ]
    },
    {
     "name": "stderr",
     "output_type": "stream",
     "text": [
      " 14%|█▎        | 201/1475 [02:17<14:35,  1.46it/s]"
     ]
    },
    {
     "name": "stdout",
     "output_type": "stream",
     "text": [
      "train loss :  0.24462930468987906\n",
      "Consistency Cost : 0.03581525674147997\n",
      "Classification Cost : 0.45344335343688724\n"
     ]
    },
    {
     "name": "stderr",
     "output_type": "stream",
     "text": [
      " 17%|█▋        | 251/1475 [02:51<14:01,  1.45it/s]"
     ]
    },
    {
     "name": "stdout",
     "output_type": "stream",
     "text": [
      "train loss :  0.24131990507920273\n",
      "Consistency Cost : 0.03517399140959605\n",
      "Classification Cost : 0.44746582019329073\n"
     ]
    },
    {
     "name": "stderr",
     "output_type": "stream",
     "text": [
      " 20%|██        | 301/1475 [03:26<13:27,  1.45it/s]"
     ]
    },
    {
     "name": "stdout",
     "output_type": "stream",
     "text": [
      "train loss :  0.24029516086544997\n",
      "Consistency Cost : 0.0353361026054093\n",
      "Classification Cost : 0.4452542209625244\n"
     ]
    },
    {
     "name": "stderr",
     "output_type": "stream",
     "text": [
      " 24%|██▍       | 351/1475 [04:00<12:49,  1.46it/s]"
     ]
    },
    {
     "name": "stdout",
     "output_type": "stream",
     "text": [
      "train loss :  0.23670648867073135\n",
      "Consistency Cost : 0.03561018573735575\n",
      "Classification Cost : 0.437802792851414\n"
     ]
    },
    {
     "name": "stderr",
     "output_type": "stream",
     "text": [
      " 27%|██▋       | 401/1475 [04:34<12:17,  1.46it/s]"
     ]
    },
    {
     "name": "stdout",
     "output_type": "stream",
     "text": [
      "train loss :  0.23869349306049117\n",
      "Consistency Cost : 0.036821656047395665\n",
      "Classification Cost : 0.4405653311312199\n"
     ]
    },
    {
     "name": "stderr",
     "output_type": "stream",
     "text": [
      " 31%|███       | 451/1475 [05:09<11:41,  1.46it/s]"
     ]
    },
    {
     "name": "stdout",
     "output_type": "stream",
     "text": [
      "train loss :  0.24083674014442497\n",
      "Consistency Cost : 0.03788054193111343\n",
      "Classification Cost : 0.44379293882184556\n"
     ]
    },
    {
     "name": "stderr",
     "output_type": "stream",
     "text": [
      " 34%|███▍      | 501/1475 [05:43<11:06,  1.46it/s]"
     ]
    },
    {
     "name": "stdout",
     "output_type": "stream",
     "text": [
      "train loss :  0.24169037822633982\n",
      "Consistency Cost : 0.03813350476464256\n",
      "Classification Cost : 0.4452472521364689\n"
     ]
    },
    {
     "name": "stderr",
     "output_type": "stream",
     "text": [
      " 37%|███▋      | 551/1475 [06:17<10:32,  1.46it/s]"
     ]
    },
    {
     "name": "stdout",
     "output_type": "stream",
     "text": [
      "train loss :  0.24287127535451541\n",
      "Consistency Cost : 0.03880387991116467\n",
      "Classification Cost : 0.44693867100910706\n"
     ]
    },
    {
     "name": "stderr",
     "output_type": "stream",
     "text": [
      " 41%|████      | 601/1475 [06:51<09:58,  1.46it/s]"
     ]
    },
    {
     "name": "stdout",
     "output_type": "stream",
     "text": [
      "train loss :  0.2408459930246075\n",
      "Consistency Cost : 0.03904761203913949\n",
      "Classification Cost : 0.44264437404771645\n"
     ]
    },
    {
     "name": "stderr",
     "output_type": "stream",
     "text": [
      " 44%|████▍     | 651/1475 [07:26<09:24,  1.46it/s]"
     ]
    },
    {
     "name": "stdout",
     "output_type": "stream",
     "text": [
      "train loss :  0.24072522079428801\n",
      "Consistency Cost : 0.03908804758613069\n",
      "Classification Cost : 0.4423623942096646\n"
     ]
    },
    {
     "name": "stderr",
     "output_type": "stream",
     "text": [
      " 48%|████▊     | 701/1475 [08:00<08:49,  1.46it/s]"
     ]
    },
    {
     "name": "stdout",
     "output_type": "stream",
     "text": [
      "train loss :  0.24203788160221718\n",
      "Consistency Cost : 0.04026281108214919\n",
      "Classification Cost : 0.4438129524381033\n"
     ]
    },
    {
     "name": "stderr",
     "output_type": "stream",
     "text": [
      " 51%|█████     | 751/1475 [08:34<08:15,  1.46it/s]"
     ]
    },
    {
     "name": "stdout",
     "output_type": "stream",
     "text": [
      "train loss :  0.2426514227205965\n",
      "Consistency Cost : 0.040487133234351255\n",
      "Classification Cost : 0.44481571248422064\n"
     ]
    },
    {
     "name": "stderr",
     "output_type": "stream",
     "text": [
      " 54%|█████▍    | 801/1475 [09:08<07:40,  1.46it/s]"
     ]
    },
    {
     "name": "stdout",
     "output_type": "stream",
     "text": [
      "train loss :  0.2451672795800914\n",
      "Consistency Cost : 0.041091617625424987\n",
      "Classification Cost : 0.44924294204683973\n"
     ]
    },
    {
     "name": "stderr",
     "output_type": "stream",
     "text": [
      " 58%|█████▊    | 851/1475 [09:42<07:06,  1.46it/s]"
     ]
    },
    {
     "name": "stdout",
     "output_type": "stream",
     "text": [
      "train loss :  0.24710931071590442\n",
      "Consistency Cost : 0.04178063124219668\n",
      "Classification Cost : 0.45243799082715724\n"
     ]
    },
    {
     "name": "stderr",
     "output_type": "stream",
     "text": [
      " 61%|██████    | 901/1475 [10:17<06:31,  1.47it/s]"
     ]
    },
    {
     "name": "stdout",
     "output_type": "stream",
     "text": [
      "train loss :  0.2469083571563048\n",
      "Consistency Cost : 0.041818075516170616\n",
      "Classification Cost : 0.451998639497906\n"
     ]
    },
    {
     "name": "stderr",
     "output_type": "stream",
     "text": [
      " 64%|██████▍   | 951/1475 [10:51<05:56,  1.47it/s]"
     ]
    },
    {
     "name": "stdout",
     "output_type": "stream",
     "text": [
      "train loss :  0.24597952786290797\n",
      "Consistency Cost : 0.04196268000327492\n",
      "Classification Cost : 0.4499963762473903\n"
     ]
    },
    {
     "name": "stderr",
     "output_type": "stream",
     "text": [
      " 68%|██████▊   | 1001/1475 [11:25<05:24,  1.46it/s]"
     ]
    },
    {
     "name": "stdout",
     "output_type": "stream",
     "text": [
      "train loss :  0.24610742563239182\n",
      "Consistency Cost : 0.04216920439730166\n",
      "Classification Cost : 0.45004564738832414\n"
     ]
    },
    {
     "name": "stderr",
     "output_type": "stream",
     "text": [
      " 71%|███████▏  | 1051/1475 [11:59<04:53,  1.44it/s]"
     ]
    },
    {
     "name": "stdout",
     "output_type": "stream",
     "text": [
      "train loss :  0.2464524048943505\n",
      "Consistency Cost : 0.042465226311580326\n",
      "Classification Cost : 0.4504395838915592\n"
     ]
    },
    {
     "name": "stderr",
     "output_type": "stream",
     "text": [
      " 75%|███████▍  | 1101/1475 [12:34<04:21,  1.43it/s]"
     ]
    },
    {
     "name": "stdout",
     "output_type": "stream",
     "text": [
      "train loss :  0.24642613781605507\n",
      "Consistency Cost : 0.04243901833510873\n",
      "Classification Cost : 0.45041325771503826\n"
     ]
    },
    {
     "name": "stderr",
     "output_type": "stream",
     "text": [
      " 78%|███████▊  | 1151/1475 [13:09<03:43,  1.45it/s]"
     ]
    },
    {
     "name": "stdout",
     "output_type": "stream",
     "text": [
      "train loss :  0.24603091183665168\n",
      "Consistency Cost : 0.042525830794348504\n",
      "Classification Cost : 0.44953599332953276\n"
     ]
    },
    {
     "name": "stderr",
     "output_type": "stream",
     "text": [
      " 81%|████████▏ | 1201/1475 [13:43<03:07,  1.46it/s]"
     ]
    },
    {
     "name": "stdout",
     "output_type": "stream",
     "text": [
      "train loss :  0.24594944334375518\n",
      "Consistency Cost : 0.042553295252825286\n",
      "Classification Cost : 0.4493455917807296\n"
     ]
    },
    {
     "name": "stderr",
     "output_type": "stream",
     "text": [
      " 85%|████████▍ | 1251/1475 [14:17<02:36,  1.44it/s]"
     ]
    },
    {
     "name": "stdout",
     "output_type": "stream",
     "text": [
      "train loss :  0.24593145291302354\n",
      "Consistency Cost : 0.04269973340993747\n",
      "Classification Cost : 0.44916317265480754\n"
     ]
    },
    {
     "name": "stderr",
     "output_type": "stream",
     "text": [
      " 88%|████████▊ | 1301/1475 [14:52<02:00,  1.44it/s]"
     ]
    },
    {
     "name": "stdout",
     "output_type": "stream",
     "text": [
      "train loss :  0.24628934405175432\n",
      "Consistency Cost : 0.04274775931790758\n",
      "Classification Cost : 0.4498309290222824\n"
     ]
    },
    {
     "name": "stderr",
     "output_type": "stream",
     "text": [
      " 92%|█████████▏| 1351/1475 [15:26<01:24,  1.46it/s]"
     ]
    },
    {
     "name": "stdout",
     "output_type": "stream",
     "text": [
      "train loss :  0.24722591021591883\n",
      "Consistency Cost : 0.04308202186853763\n",
      "Classification Cost : 0.4513697988608921\n"
     ]
    },
    {
     "name": "stderr",
     "output_type": "stream",
     "text": [
      " 95%|█████████▍| 1401/1475 [16:01<00:51,  1.45it/s]"
     ]
    },
    {
     "name": "stdout",
     "output_type": "stream",
     "text": [
      "train loss :  0.24648017524485893\n",
      "Consistency Cost : 0.04267551601477732\n",
      "Classification Cost : 0.45028483470502706\n"
     ]
    },
    {
     "name": "stderr",
     "output_type": "stream",
     "text": [
      " 98%|█████████▊| 1451/1475 [16:35<00:16,  1.44it/s]"
     ]
    },
    {
     "name": "stdout",
     "output_type": "stream",
     "text": [
      "train loss :  0.24594724236604162\n",
      "Consistency Cost : 0.04265104393438629\n",
      "Classification Cost : 0.44924344108407865\n"
     ]
    },
    {
     "name": "stderr",
     "output_type": "stream",
     "text": [
      "100%|██████████| 1475/1475 [16:52<00:00,  1.46it/s]\n",
      "  0%|          | 0/400 [00:00<?, ?it/s]"
     ]
    },
    {
     "name": "stdout",
     "output_type": "stream",
     "text": [
      "---------Running validation for student -------------\n"
     ]
    },
    {
     "name": "stderr",
     "output_type": "stream",
     "text": [
      "100%|██████████| 400/400 [00:46<00:00,  8.64it/s]\n"
     ]
    },
    {
     "name": "stdout",
     "output_type": "stream",
     "text": [
      "Overall validation loss: tensor(0.6888, device='cuda:0')\n",
      "Average F1 Validation score for whole sentence class 0 : 0.41571420366435013\n",
      "Average F1 Validation score for whole sentence class 1 : 0.9226617200982219\n",
      "Average Accuracy Validation score whole sentence  : 0.8634038267875126\n",
      "Average mcc Validation score whole sentence : 0.34044387480309346\n"
     ]
    },
    {
     "name": "stderr",
     "output_type": "stream",
     "text": [
      "  0%|          | 0/400 [00:00<?, ?it/s]"
     ]
    },
    {
     "name": "stdout",
     "output_type": "stream",
     "text": [
      "Classification Report :\n",
      "               precision    recall  f1-score   support\n",
      "\n",
      "           0       0.45      0.38      0.42     28264\n",
      "           1       0.91      0.93      0.92    195161\n",
      "\n",
      "    accuracy                           0.86    223425\n",
      "   macro avg       0.68      0.66      0.67    223425\n",
      "weighted avg       0.85      0.86      0.86    223425\n",
      "\n",
      "---------Running validation for teacher -------------\n"
     ]
    },
    {
     "name": "stderr",
     "output_type": "stream",
     "text": [
      "100%|██████████| 400/400 [00:46<00:00,  8.58it/s]\n"
     ]
    },
    {
     "name": "stdout",
     "output_type": "stream",
     "text": [
      "Overall validation loss: tensor(0.6886, device='cuda:0')\n",
      "Average F1 Validation score for whole sentence class 0 : 0.41867918049673797\n",
      "Average F1 Validation score for whole sentence class 1 : 0.9227387507986248\n",
      "Average Accuracy Validation score whole sentence  : 0.8636052366565962\n",
      "Average mcc Validation score whole sentence : 0.3433065535264628\n"
     ]
    },
    {
     "name": "stderr",
     "output_type": "stream",
     "text": [
      "  0%|          | 0/1475 [00:00<?, ?it/s]"
     ]
    },
    {
     "name": "stdout",
     "output_type": "stream",
     "text": [
      "Classification Report :\n",
      "               precision    recall  f1-score   support\n",
      "\n",
      "           0       0.45      0.39      0.42     28264\n",
      "           1       0.91      0.93      0.92    195161\n",
      "\n",
      "    accuracy                           0.86    223425\n",
      "   macro avg       0.68      0.66      0.67    223425\n",
      "weighted avg       0.86      0.86      0.86    223425\n",
      "\n",
      "Current epoch is 4 of 6\n"
     ]
    },
    {
     "name": "stderr",
     "output_type": "stream",
     "text": [
      "  3%|▎         | 51/1475 [00:35<16:27,  1.44it/s]"
     ]
    },
    {
     "name": "stdout",
     "output_type": "stream",
     "text": [
      "train loss :  0.2057326423935592\n",
      "Consistency Cost : 0.03953492334112525\n",
      "Classification Cost : 0.37193036295473575\n"
     ]
    },
    {
     "name": "stderr",
     "output_type": "stream",
     "text": [
      "  7%|▋         | 101/1475 [01:09<15:09,  1.51it/s]"
     ]
    },
    {
     "name": "stdout",
     "output_type": "stream",
     "text": [
      "train loss :  0.19700937840156257\n",
      "Consistency Cost : 0.036946807701606306\n",
      "Classification Cost : 0.35707194935530423\n"
     ]
    },
    {
     "name": "stderr",
     "output_type": "stream",
     "text": [
      " 10%|█         | 151/1475 [01:41<14:04,  1.57it/s]"
     ]
    },
    {
     "name": "stdout",
     "output_type": "stream",
     "text": [
      "train loss :  0.20213197624310852\n",
      "Consistency Cost : 0.04041991715474675\n",
      "Classification Cost : 0.3638440353423357\n"
     ]
    },
    {
     "name": "stderr",
     "output_type": "stream",
     "text": [
      " 14%|█▎        | 201/1475 [02:13<13:19,  1.59it/s]"
     ]
    },
    {
     "name": "stdout",
     "output_type": "stream",
     "text": [
      "train loss :  0.2022089774532651\n",
      "Consistency Cost : 0.04039947759680217\n",
      "Classification Cost : 0.36401847725734116\n"
     ]
    },
    {
     "name": "stderr",
     "output_type": "stream",
     "text": [
      " 17%|█▋        | 251/1475 [02:44<12:49,  1.59it/s]"
     ]
    },
    {
     "name": "stdout",
     "output_type": "stream",
     "text": [
      "train loss :  0.20752021783578675\n",
      "Consistency Cost : 0.04254650158318691\n",
      "Classification Cost : 0.37249393385648727\n"
     ]
    },
    {
     "name": "stderr",
     "output_type": "stream",
     "text": [
      " 20%|██        | 301/1475 [03:16<12:19,  1.59it/s]"
     ]
    },
    {
     "name": "stdout",
     "output_type": "stream",
     "text": [
      "train loss :  0.20960317820844163\n",
      "Consistency Cost : 0.04321121387862756\n",
      "Classification Cost : 0.37599514186382293\n"
     ]
    },
    {
     "name": "stderr",
     "output_type": "stream",
     "text": [
      " 24%|██▍       | 351/1475 [03:47<11:46,  1.59it/s]"
     ]
    },
    {
     "name": "stdout",
     "output_type": "stream",
     "text": [
      "train loss :  0.21074406113400723\n",
      "Consistency Cost : 0.04494822212145664\n",
      "Classification Cost : 0.37653989904693197\n"
     ]
    },
    {
     "name": "stderr",
     "output_type": "stream",
     "text": [
      " 27%|██▋       | 401/1475 [04:19<11:23,  1.57it/s]"
     ]
    },
    {
     "name": "stdout",
     "output_type": "stream",
     "text": [
      "train loss :  0.21556255272989802\n",
      "Consistency Cost : 0.04639599364702008\n",
      "Classification Cost : 0.3847291106078774\n"
     ]
    },
    {
     "name": "stderr",
     "output_type": "stream",
     "text": [
      " 31%|███       | 451/1475 [04:51<10:57,  1.56it/s]"
     ]
    },
    {
     "name": "stdout",
     "output_type": "stream",
     "text": [
      "train loss :  0.216573282914275\n",
      "Consistency Cost : 0.04738960577782968\n",
      "Classification Cost : 0.3857569587810172\n"
     ]
    },
    {
     "name": "stderr",
     "output_type": "stream",
     "text": [
      " 34%|███▍      | 501/1475 [05:23<10:33,  1.54it/s]"
     ]
    },
    {
     "name": "stdout",
     "output_type": "stream",
     "text": [
      "train loss :  0.22063078721187776\n",
      "Consistency Cost : 0.04877374949667137\n",
      "Classification Cost : 0.3924878235682845\n"
     ]
    },
    {
     "name": "stderr",
     "output_type": "stream",
     "text": [
      " 37%|███▋      | 551/1475 [05:56<10:15,  1.50it/s]"
     ]
    },
    {
     "name": "stdout",
     "output_type": "stream",
     "text": [
      "train loss :  0.22187116689085748\n",
      "Consistency Cost : 0.04887887487262064\n",
      "Classification Cost : 0.39486345764588227\n"
     ]
    },
    {
     "name": "stderr",
     "output_type": "stream",
     "text": [
      " 41%|████      | 601/1475 [06:29<09:48,  1.49it/s]"
     ]
    },
    {
     "name": "stdout",
     "output_type": "stream",
     "text": [
      "train loss :  0.22186060456003664\n",
      "Consistency Cost : 0.04892203186265154\n",
      "Classification Cost : 0.3947991760385533\n"
     ]
    },
    {
     "name": "stderr",
     "output_type": "stream",
     "text": [
      " 44%|████▍     | 651/1475 [07:03<09:20,  1.47it/s]"
     ]
    },
    {
     "name": "stdout",
     "output_type": "stream",
     "text": [
      "train loss :  0.2218354901964015\n",
      "Consistency Cost : 0.04868879931347552\n",
      "Classification Cost : 0.39498217969559707\n"
     ]
    },
    {
     "name": "stderr",
     "output_type": "stream",
     "text": [
      " 48%|████▊     | 701/1475 [07:38<08:54,  1.45it/s]"
     ]
    },
    {
     "name": "stdout",
     "output_type": "stream",
     "text": [
      "train loss :  0.22298789949877704\n",
      "Consistency Cost : 0.04877212433156923\n",
      "Classification Cost : 0.3972036734383021\n"
     ]
    },
    {
     "name": "stderr",
     "output_type": "stream",
     "text": [
      " 51%|█████     | 751/1475 [08:12<08:21,  1.44it/s]"
     ]
    },
    {
     "name": "stdout",
     "output_type": "stream",
     "text": [
      "train loss :  0.22215447165124352\n",
      "Consistency Cost : 0.04876994866889436\n",
      "Classification Cost : 0.39553899338344733\n"
     ]
    },
    {
     "name": "stderr",
     "output_type": "stream",
     "text": [
      " 54%|█████▍    | 801/1475 [08:47<07:43,  1.45it/s]"
     ]
    },
    {
     "name": "stdout",
     "output_type": "stream",
     "text": [
      "train loss :  0.22208599895444422\n",
      "Consistency Cost : 0.04893314855467906\n",
      "Classification Cost : 0.3952388479700312\n"
     ]
    },
    {
     "name": "stderr",
     "output_type": "stream",
     "text": [
      " 58%|█████▊    | 851/1475 [09:21<07:08,  1.46it/s]"
     ]
    },
    {
     "name": "stdout",
     "output_type": "stream",
     "text": [
      "train loss :  0.2214567041745656\n",
      "Consistency Cost : 0.04898554865585859\n",
      "Classification Cost : 0.39392785827464916\n"
     ]
    },
    {
     "name": "stderr",
     "output_type": "stream",
     "text": [
      " 61%|██████    | 901/1475 [09:55<06:32,  1.46it/s]"
     ]
    },
    {
     "name": "stdout",
     "output_type": "stream",
     "text": [
      "train loss :  0.22115399025154248\n",
      "Consistency Cost : 0.04926819786778651\n",
      "Classification Cost : 0.39303978133118816\n"
     ]
    },
    {
     "name": "stderr",
     "output_type": "stream",
     "text": [
      " 64%|██████▍   | 951/1475 [10:30<05:58,  1.46it/s]"
     ]
    },
    {
     "name": "stdout",
     "output_type": "stream",
     "text": [
      "train loss :  0.22008810176302704\n",
      "Consistency Cost : 0.049418283653825425\n",
      "Classification Cost : 0.39075791868528253\n"
     ]
    },
    {
     "name": "stderr",
     "output_type": "stream",
     "text": [
      " 68%|██████▊   | 1001/1475 [11:14<17:11,  2.18s/it]"
     ]
    },
    {
     "name": "stdout",
     "output_type": "stream",
     "text": [
      "train loss :  0.22056770233393763\n",
      "Consistency Cost : 0.049776537736470346\n",
      "Classification Cost : 0.39135886579938234\n"
     ]
    },
    {
     "name": "stderr",
     "output_type": "stream",
     "text": [
      " 71%|███████▏  | 1051/1475 [11:48<04:48,  1.47it/s]"
     ]
    },
    {
     "name": "stdout",
     "output_type": "stream",
     "text": [
      "train loss :  0.22142194153610728\n",
      "Consistency Cost : 0.0501998780912254\n",
      "Classification Cost : 0.3926440037946616\n"
     ]
    },
    {
     "name": "stderr",
     "output_type": "stream",
     "text": [
      " 75%|███████▍  | 1101/1475 [12:22<04:13,  1.48it/s]"
     ]
    },
    {
     "name": "stdout",
     "output_type": "stream",
     "text": [
      "train loss :  0.22200033467784205\n",
      "Consistency Cost : 0.050564053143131206\n",
      "Classification Cost : 0.39343661498786375\n"
     ]
    },
    {
     "name": "stderr",
     "output_type": "stream",
     "text": [
      " 78%|███████▊  | 1151/1475 [12:56<03:40,  1.47it/s]"
     ]
    },
    {
     "name": "stdout",
     "output_type": "stream",
     "text": [
      "train loss :  0.2225187657451328\n",
      "Consistency Cost : 0.05085805271949578\n",
      "Classification Cost : 0.39417947775157897\n"
     ]
    },
    {
     "name": "stderr",
     "output_type": "stream",
     "text": [
      " 81%|████████▏ | 1201/1475 [13:30<03:06,  1.47it/s]"
     ]
    },
    {
     "name": "stdout",
     "output_type": "stream",
     "text": [
      "train loss :  0.22202224977595808\n",
      "Consistency Cost : 0.050994662139370726\n",
      "Classification Cost : 0.3930498364769543\n"
     ]
    },
    {
     "name": "stderr",
     "output_type": "stream",
     "text": [
      " 85%|████████▍ | 1251/1475 [14:04<02:32,  1.47it/s]"
     ]
    },
    {
     "name": "stdout",
     "output_type": "stream",
     "text": [
      "train loss :  0.22067967613979708\n",
      "Consistency Cost : 0.050495630443608386\n",
      "Classification Cost : 0.39086372104734185\n"
     ]
    },
    {
     "name": "stderr",
     "output_type": "stream",
     "text": [
      " 88%|████████▊ | 1301/1475 [14:38<01:58,  1.46it/s]"
     ]
    },
    {
     "name": "stdout",
     "output_type": "stream",
     "text": [
      "train loss :  0.22091006025141374\n",
      "Consistency Cost : 0.050613993862419965\n",
      "Classification Cost : 0.3912061258047246\n"
     ]
    },
    {
     "name": "stderr",
     "output_type": "stream",
     "text": [
      " 92%|█████████▏| 1351/1475 [15:12<01:24,  1.47it/s]"
     ]
    },
    {
     "name": "stdout",
     "output_type": "stream",
     "text": [
      "train loss :  0.22058436314029947\n",
      "Consistency Cost : 0.050938462229161006\n",
      "Classification Cost : 0.39023026328809834\n"
     ]
    },
    {
     "name": "stderr",
     "output_type": "stream",
     "text": [
      " 95%|█████████▍| 1401/1475 [15:46<00:50,  1.47it/s]"
     ]
    },
    {
     "name": "stdout",
     "output_type": "stream",
     "text": [
      "train loss :  0.22116683173165905\n",
      "Consistency Cost : 0.051129187775409916\n",
      "Classification Cost : 0.3912044750460024\n"
     ]
    },
    {
     "name": "stderr",
     "output_type": "stream",
     "text": [
      " 98%|█████████▊| 1451/1475 [16:20<00:16,  1.47it/s]"
     ]
    },
    {
     "name": "stdout",
     "output_type": "stream",
     "text": [
      "train loss :  0.22118220363227764\n",
      "Consistency Cost : 0.05125645433777365\n",
      "Classification Cost : 0.39110795223892764\n"
     ]
    },
    {
     "name": "stderr",
     "output_type": "stream",
     "text": [
      "100%|██████████| 1475/1475 [16:36<00:00,  1.48it/s]\n",
      "  0%|          | 0/400 [00:00<?, ?it/s]"
     ]
    },
    {
     "name": "stdout",
     "output_type": "stream",
     "text": [
      "---------Running validation for student -------------\n"
     ]
    },
    {
     "name": "stderr",
     "output_type": "stream",
     "text": [
      "100%|██████████| 400/400 [00:45<00:00,  8.75it/s]\n"
     ]
    },
    {
     "name": "stdout",
     "output_type": "stream",
     "text": [
      "Overall validation loss: tensor(0.7870, device='cuda:0')\n",
      "Average F1 Validation score for whole sentence class 0 : 0.41964523113153795\n",
      "Average F1 Validation score for whole sentence class 1 : 0.9224801875209288\n",
      "Average Accuracy Validation score whole sentence  : 0.8632292715676402\n",
      "Average mcc Validation score whole sentence : 0.3437968268693761\n"
     ]
    },
    {
     "name": "stderr",
     "output_type": "stream",
     "text": [
      "  0%|          | 0/400 [00:00<?, ?it/s]"
     ]
    },
    {
     "name": "stdout",
     "output_type": "stream",
     "text": [
      "Classification Report :\n",
      "               precision    recall  f1-score   support\n",
      "\n",
      "           0       0.45      0.39      0.42     28264\n",
      "           1       0.91      0.93      0.92    195161\n",
      "\n",
      "    accuracy                           0.86    223425\n",
      "   macro avg       0.68      0.66      0.67    223425\n",
      "weighted avg       0.86      0.86      0.86    223425\n",
      "\n",
      "---------Running validation for teacher -------------\n"
     ]
    },
    {
     "name": "stderr",
     "output_type": "stream",
     "text": [
      "100%|██████████| 400/400 [00:45<00:00,  8.75it/s]\n"
     ]
    },
    {
     "name": "stdout",
     "output_type": "stream",
     "text": [
      "Overall validation loss: tensor(0.8294, device='cuda:0')\n",
      "Average F1 Validation score for whole sentence class 0 : 0.40417949133322534\n",
      "Average F1 Validation score for whole sentence class 1 : 0.9259710264525771\n",
      "Average Accuracy Validation score whole sentence  : 0.8683048002685465\n",
      "Average mcc Validation score whole sentence : 0.3363423730485985\n"
     ]
    },
    {
     "name": "stderr",
     "output_type": "stream",
     "text": [
      "  0%|          | 0/1475 [00:00<?, ?it/s]"
     ]
    },
    {
     "name": "stdout",
     "output_type": "stream",
     "text": [
      "Classification Report :\n",
      "               precision    recall  f1-score   support\n",
      "\n",
      "           0       0.47      0.35      0.40     28264\n",
      "           1       0.91      0.94      0.93    195161\n",
      "\n",
      "    accuracy                           0.87    223425\n",
      "   macro avg       0.69      0.65      0.67    223425\n",
      "weighted avg       0.85      0.87      0.86    223425\n",
      "\n",
      "Current epoch is 5 of 6\n"
     ]
    },
    {
     "name": "stderr",
     "output_type": "stream",
     "text": [
      "  3%|▎         | 51/1475 [00:34<16:10,  1.47it/s]"
     ]
    },
    {
     "name": "stdout",
     "output_type": "stream",
     "text": [
      "train loss :  0.19137982400105102\n",
      "Consistency Cost : 0.04212243009300437\n",
      "Classification Cost : 0.3406372198462486\n"
     ]
    },
    {
     "name": "stderr",
     "output_type": "stream",
     "text": [
      "  7%|▋         | 101/1475 [01:08<15:33,  1.47it/s]"
     ]
    },
    {
     "name": "stdout",
     "output_type": "stream",
     "text": [
      "train loss :  0.19090454191886239\n",
      "Consistency Cost : 0.04217451134667499\n",
      "Classification Cost : 0.339634575098753\n"
     ]
    },
    {
     "name": "stderr",
     "output_type": "stream",
     "text": [
      " 10%|█         | 151/1475 [01:42<15:01,  1.47it/s]"
     ]
    },
    {
     "name": "stdout",
     "output_type": "stream",
     "text": [
      "train loss :  0.18124308956913107\n",
      "Consistency Cost : 0.041277381791927234\n",
      "Classification Cost : 0.321208798425893\n"
     ]
    },
    {
     "name": "stderr",
     "output_type": "stream",
     "text": [
      " 14%|█▎        | 201/1475 [02:16<14:26,  1.47it/s]"
     ]
    },
    {
     "name": "stdout",
     "output_type": "stream",
     "text": [
      "train loss :  0.18651144882991502\n",
      "Consistency Cost : 0.042488048187951793\n",
      "Classification Cost : 0.33053485018201173\n"
     ]
    },
    {
     "name": "stderr",
     "output_type": "stream",
     "text": [
      " 17%|█▋        | 251/1475 [02:50<13:49,  1.47it/s]"
     ]
    },
    {
     "name": "stdout",
     "output_type": "stream",
     "text": [
      "train loss :  0.18822388060652884\n",
      "Consistency Cost : 0.042878201895509845\n",
      "Classification Cost : 0.33356955990940335\n"
     ]
    },
    {
     "name": "stderr",
     "output_type": "stream",
     "text": [
      " 20%|██        | 301/1475 [03:24<13:18,  1.47it/s]"
     ]
    },
    {
     "name": "stdout",
     "output_type": "stream",
     "text": [
      "train loss :  0.1881374806187523\n",
      "Consistency Cost : 0.04452358177911568\n",
      "Classification Cost : 0.3317513800722857\n"
     ]
    },
    {
     "name": "stderr",
     "output_type": "stream",
     "text": [
      " 24%|██▍       | 351/1475 [03:58<12:43,  1.47it/s]"
     ]
    },
    {
     "name": "stdout",
     "output_type": "stream",
     "text": [
      "train loss :  0.1900849741716021\n",
      "Consistency Cost : 0.0455206676250756\n",
      "Classification Cost : 0.3346492812090686\n"
     ]
    },
    {
     "name": "stderr",
     "output_type": "stream",
     "text": [
      " 27%|██▋       | 401/1475 [04:32<12:12,  1.47it/s]"
     ]
    },
    {
     "name": "stdout",
     "output_type": "stream",
     "text": [
      "train loss :  0.19350279104215587\n",
      "Consistency Cost : 0.04690378067469283\n",
      "Classification Cost : 0.34010180164594206\n"
     ]
    },
    {
     "name": "stderr",
     "output_type": "stream",
     "text": [
      " 31%|███       | 451/1475 [05:06<11:37,  1.47it/s]"
     ]
    },
    {
     "name": "stdout",
     "output_type": "stream",
     "text": [
      "train loss :  0.19332256644039364\n",
      "Consistency Cost : 0.046490775372238\n",
      "Classification Cost : 0.34015435783813397\n"
     ]
    },
    {
     "name": "stderr",
     "output_type": "stream",
     "text": [
      " 34%|███▍      | 501/1475 [05:40<11:03,  1.47it/s]"
     ]
    },
    {
     "name": "stdout",
     "output_type": "stream",
     "text": [
      "train loss :  0.195029297440371\n",
      "Consistency Cost : 0.04620289509335999\n",
      "Classification Cost : 0.34385570004954935\n"
     ]
    },
    {
     "name": "stderr",
     "output_type": "stream",
     "text": [
      " 37%|███▋      | 551/1475 [06:14<10:30,  1.47it/s]"
     ]
    },
    {
     "name": "stdout",
     "output_type": "stream",
     "text": [
      "train loss :  0.19388322752651715\n",
      "Consistency Cost : 0.045629539426775986\n",
      "Classification Cost : 0.34213691570203414\n"
     ]
    },
    {
     "name": "stderr",
     "output_type": "stream",
     "text": [
      " 41%|████      | 601/1475 [06:49<09:56,  1.47it/s]"
     ]
    },
    {
     "name": "stdout",
     "output_type": "stream",
     "text": [
      "train loss :  0.19286155773731783\n",
      "Consistency Cost : 0.0456984544400378\n",
      "Classification Cost : 0.3400246610523512\n"
     ]
    },
    {
     "name": "stderr",
     "output_type": "stream",
     "text": [
      " 44%|████▍     | 651/1475 [07:23<09:21,  1.47it/s]"
     ]
    },
    {
     "name": "stdout",
     "output_type": "stream",
     "text": [
      "train loss :  0.1915524821456235\n",
      "Consistency Cost : 0.045379151633600345\n",
      "Classification Cost : 0.3377258127555251\n"
     ]
    },
    {
     "name": "stderr",
     "output_type": "stream",
     "text": [
      " 48%|████▊     | 701/1475 [07:57<08:45,  1.47it/s]"
     ]
    },
    {
     "name": "stdout",
     "output_type": "stream",
     "text": [
      "train loss :  0.19037160265118083\n",
      "Consistency Cost : 0.04568221686416239\n",
      "Classification Cost : 0.3350609884597361\n"
     ]
    },
    {
     "name": "stderr",
     "output_type": "stream",
     "text": [
      " 51%|█████     | 751/1475 [08:31<08:13,  1.47it/s]"
     ]
    },
    {
     "name": "stdout",
     "output_type": "stream",
     "text": [
      "train loss :  0.19007023664183603\n",
      "Consistency Cost : 0.04570104719318139\n",
      "Classification Cost : 0.33443942619115113\n"
     ]
    },
    {
     "name": "stderr",
     "output_type": "stream",
     "text": [
      " 54%|█████▍    | 801/1475 [09:05<07:38,  1.47it/s]"
     ]
    },
    {
     "name": "stdout",
     "output_type": "stream",
     "text": [
      "train loss :  0.18901390835973872\n",
      "Consistency Cost : 0.04587660126067931\n",
      "Classification Cost : 0.33215121558168903\n"
     ]
    },
    {
     "name": "stderr",
     "output_type": "stream",
     "text": [
      " 58%|█████▊    | 851/1475 [09:39<07:06,  1.46it/s]"
     ]
    },
    {
     "name": "stdout",
     "output_type": "stream",
     "text": [
      "train loss :  0.19037778803404173\n",
      "Consistency Cost : 0.04673502213705112\n",
      "Classification Cost : 0.3340205539609579\n"
     ]
    },
    {
     "name": "stderr",
     "output_type": "stream",
     "text": [
      " 61%|██████    | 901/1475 [10:13<06:32,  1.46it/s]"
     ]
    },
    {
     "name": "stdout",
     "output_type": "stream",
     "text": [
      "train loss :  0.1916783740814814\n",
      "Consistency Cost : 0.04756867942141576\n",
      "Classification Cost : 0.335788068736179\n"
     ]
    },
    {
     "name": "stderr",
     "output_type": "stream",
     "text": [
      " 64%|██████▍   | 951/1475 [10:47<05:57,  1.46it/s]"
     ]
    },
    {
     "name": "stdout",
     "output_type": "stream",
     "text": [
      "train loss :  0.19153461368150984\n",
      "Consistency Cost : 0.04828404353343343\n",
      "Classification Cost : 0.33478518371323224\n"
     ]
    },
    {
     "name": "stderr",
     "output_type": "stream",
     "text": [
      " 68%|██████▊   | 1001/1475 [11:21<05:24,  1.46it/s]"
     ]
    },
    {
     "name": "stdout",
     "output_type": "stream",
     "text": [
      "train loss :  0.19284116817158065\n",
      "Consistency Cost : 0.04865958354377654\n",
      "Classification Cost : 0.3370227527245879\n"
     ]
    },
    {
     "name": "stderr",
     "output_type": "stream",
     "text": [
      " 71%|███████▏  | 1051/1475 [11:55<04:49,  1.46it/s]"
     ]
    },
    {
     "name": "stdout",
     "output_type": "stream",
     "text": [
      "train loss :  0.19201336832755866\n",
      "Consistency Cost : 0.04879708679620221\n",
      "Classification Cost : 0.33522964979921066\n"
     ]
    },
    {
     "name": "stderr",
     "output_type": "stream",
     "text": [
      " 75%|███████▍  | 1101/1475 [12:30<04:15,  1.46it/s]"
     ]
    },
    {
     "name": "stdout",
     "output_type": "stream",
     "text": [
      "train loss :  0.19256438182132446\n",
      "Consistency Cost : 0.04929553299375006\n",
      "Classification Cost : 0.33583323063836856\n"
     ]
    },
    {
     "name": "stderr",
     "output_type": "stream",
     "text": [
      " 78%|███████▊  | 1151/1475 [13:04<03:41,  1.46it/s]"
     ]
    },
    {
     "name": "stdout",
     "output_type": "stream",
     "text": [
      "train loss :  0.19236795924335678\n",
      "Consistency Cost : 0.04927285982280686\n",
      "Classification Cost : 0.33546305875739324\n"
     ]
    },
    {
     "name": "stderr",
     "output_type": "stream",
     "text": [
      " 81%|████████▏ | 1201/1475 [13:38<03:07,  1.46it/s]"
     ]
    },
    {
     "name": "stdout",
     "output_type": "stream",
     "text": [
      "train loss :  0.19221410619276866\n",
      "Consistency Cost : 0.04918002875919531\n",
      "Classification Cost : 0.3352481836484124\n"
     ]
    },
    {
     "name": "stderr",
     "output_type": "stream",
     "text": [
      " 85%|████████▍ | 1251/1475 [14:12<02:32,  1.46it/s]"
     ]
    },
    {
     "name": "stdout",
     "output_type": "stream",
     "text": [
      "train loss :  0.19224335678721546\n",
      "Consistency Cost : 0.04912190051444341\n",
      "Classification Cost : 0.3353648131281137\n"
     ]
    },
    {
     "name": "stderr",
     "output_type": "stream",
     "text": [
      " 88%|████████▊ | 1301/1475 [14:46<01:58,  1.46it/s]"
     ]
    },
    {
     "name": "stdout",
     "output_type": "stream",
     "text": [
      "train loss :  0.19202450792952172\n",
      "Consistency Cost : 0.04918612916604616\n",
      "Classification Cost : 0.33486288679477116\n"
     ]
    },
    {
     "name": "stderr",
     "output_type": "stream",
     "text": [
      " 92%|█████████▏| 1351/1475 [15:20<01:24,  1.46it/s]"
     ]
    },
    {
     "name": "stdout",
     "output_type": "stream",
     "text": [
      "train loss :  0.19248012208847623\n",
      "Consistency Cost : 0.04955218394502515\n",
      "Classification Cost : 0.3354080603423494\n"
     ]
    },
    {
     "name": "stderr",
     "output_type": "stream",
     "text": [
      " 95%|█████████▍| 1401/1475 [15:55<00:50,  1.46it/s]"
     ]
    },
    {
     "name": "stdout",
     "output_type": "stream",
     "text": [
      "train loss :  0.19236988735694988\n",
      "Consistency Cost : 0.04936191812947592\n",
      "Classification Cost : 0.3353778566593038\n"
     ]
    },
    {
     "name": "stderr",
     "output_type": "stream",
     "text": [
      " 98%|█████████▊| 1451/1475 [16:29<00:16,  1.46it/s]"
     ]
    },
    {
     "name": "stdout",
     "output_type": "stream",
     "text": [
      "train loss :  0.19229595272876082\n",
      "Consistency Cost : 0.04934350519750171\n",
      "Classification Cost : 0.3352484003441601\n"
     ]
    },
    {
     "name": "stderr",
     "output_type": "stream",
     "text": [
      "100%|██████████| 1475/1475 [16:45<00:00,  1.47it/s]\n",
      "  0%|          | 0/400 [00:00<?, ?it/s]"
     ]
    },
    {
     "name": "stdout",
     "output_type": "stream",
     "text": [
      "---------Running validation for student -------------\n"
     ]
    },
    {
     "name": "stderr",
     "output_type": "stream",
     "text": [
      "100%|██████████| 400/400 [00:45<00:00,  8.73it/s]\n"
     ]
    },
    {
     "name": "stdout",
     "output_type": "stream",
     "text": [
      "Overall validation loss: tensor(0.9542, device='cuda:0')\n",
      "Average F1 Validation score for whole sentence class 0 : 0.37984959835925486\n",
      "Average F1 Validation score for whole sentence class 1 : 0.9274376190499998\n",
      "Average Accuracy Validation score whole sentence  : 0.8700772071164821\n",
      "Average mcc Validation score whole sentence : 0.31938706581247994\n"
     ]
    },
    {
     "name": "stderr",
     "output_type": "stream",
     "text": [
      "  0%|          | 0/400 [00:00<?, ?it/s]"
     ]
    },
    {
     "name": "stdout",
     "output_type": "stream",
     "text": [
      "Classification Report :\n",
      "               precision    recall  f1-score   support\n",
      "\n",
      "           0       0.48      0.31      0.38     28264\n",
      "           1       0.91      0.95      0.93    195161\n",
      "\n",
      "    accuracy                           0.87    223425\n",
      "   macro avg       0.69      0.63      0.65    223425\n",
      "weighted avg       0.85      0.87      0.86    223425\n",
      "\n",
      "---------Running validation for teacher -------------\n"
     ]
    },
    {
     "name": "stderr",
     "output_type": "stream",
     "text": [
      "100%|██████████| 400/400 [00:45<00:00,  8.76it/s]\n"
     ]
    },
    {
     "name": "stdout",
     "output_type": "stream",
     "text": [
      "Overall validation loss: tensor(0.9388, device='cuda:0')\n",
      "Average F1 Validation score for whole sentence class 0 : 0.38768298838970217\n",
      "Average F1 Validation score for whole sentence class 1 : 0.9270935072350529\n",
      "Average Accuracy Validation score whole sentence  : 0.869701242027526\n",
      "Average mcc Validation score whole sentence : 0.32496312500577423\n"
     ]
    },
    {
     "name": "stderr",
     "output_type": "stream",
     "text": [
      "  0%|          | 0/1475 [00:00<?, ?it/s]"
     ]
    },
    {
     "name": "stdout",
     "output_type": "stream",
     "text": [
      "Classification Report :\n",
      "               precision    recall  f1-score   support\n",
      "\n",
      "           0       0.48      0.33      0.39     28264\n",
      "           1       0.91      0.95      0.93    195161\n",
      "\n",
      "    accuracy                           0.87    223425\n",
      "   macro avg       0.69      0.64      0.66    223425\n",
      "weighted avg       0.85      0.87      0.86    223425\n",
      "\n",
      "Current epoch is 6 of 6\n"
     ]
    },
    {
     "name": "stderr",
     "output_type": "stream",
     "text": [
      "  3%|▎         | 51/1475 [00:34<16:09,  1.47it/s]"
     ]
    },
    {
     "name": "stdout",
     "output_type": "stream",
     "text": [
      "train loss :  0.16769501699949615\n",
      "Consistency Cost : 0.042275592018850144\n",
      "Classification Cost : 0.2931144405156374\n"
     ]
    },
    {
     "name": "stderr",
     "output_type": "stream",
     "text": [
      "  7%|▋         | 101/1475 [01:08<15:33,  1.47it/s]"
     ]
    },
    {
     "name": "stdout",
     "output_type": "stream",
     "text": [
      "train loss :  0.17844220194441732\n",
      "Consistency Cost : 0.04535459368256852\n",
      "Classification Cost : 0.31152980864048\n"
     ]
    },
    {
     "name": "stderr",
     "output_type": "stream",
     "text": [
      " 10%|█         | 151/1475 [01:42<15:03,  1.47it/s]"
     ]
    },
    {
     "name": "stdout",
     "output_type": "stream",
     "text": [
      "train loss :  0.17483531140727185\n",
      "Consistency Cost : 0.04664927347029637\n",
      "Classification Cost : 0.3030213480691115\n"
     ]
    },
    {
     "name": "stderr",
     "output_type": "stream",
     "text": [
      " 14%|█▎        | 201/1475 [02:16<14:30,  1.46it/s]"
     ]
    },
    {
     "name": "stdout",
     "output_type": "stream",
     "text": [
      "train loss :  0.17146646724559106\n",
      "Consistency Cost : 0.04548498417098017\n",
      "Classification Cost : 0.29744794914498923\n"
     ]
    },
    {
     "name": "stderr",
     "output_type": "stream",
     "text": [
      " 17%|█▋        | 251/1475 [02:50<13:56,  1.46it/s]"
     ]
    },
    {
     "name": "stdout",
     "output_type": "stream",
     "text": [
      "train loss :  0.17084903428712278\n",
      "Consistency Cost : 0.044858150767569896\n",
      "Classification Cost : 0.2968399167843163\n"
     ]
    },
    {
     "name": "stderr",
     "output_type": "stream",
     "text": [
      " 20%|██        | 301/1475 [03:25<13:22,  1.46it/s]"
     ]
    },
    {
     "name": "stdout",
     "output_type": "stream",
     "text": [
      "train loss :  0.17422522349290376\n",
      "Consistency Cost : 0.046522284614572224\n",
      "Classification Cost : 0.30192816144786777\n"
     ]
    },
    {
     "name": "stderr",
     "output_type": "stream",
     "text": [
      " 24%|██▍       | 351/1475 [03:59<12:45,  1.47it/s]"
     ]
    },
    {
     "name": "stdout",
     "output_type": "stream",
     "text": [
      "train loss :  0.17166253030399925\n",
      "Consistency Cost : 0.04584616442793049\n",
      "Classification Cost : 0.29747889541355627\n"
     ]
    },
    {
     "name": "stderr",
     "output_type": "stream",
     "text": [
      " 27%|██▋       | 401/1475 [04:33<11:57,  1.50it/s]"
     ]
    },
    {
     "name": "stdout",
     "output_type": "stream",
     "text": [
      "train loss :  0.1723910809782683\n",
      "Consistency Cost : 0.04613034848785901\n",
      "Classification Cost : 0.29865181281464176\n"
     ]
    },
    {
     "name": "stderr",
     "output_type": "stream",
     "text": [
      " 31%|███       | 451/1475 [05:05<10:51,  1.57it/s]"
     ]
    },
    {
     "name": "stdout",
     "output_type": "stream",
     "text": [
      "train loss :  0.17080825426589905\n",
      "Consistency Cost : 0.04624311271582782\n",
      "Classification Cost : 0.2953733953854276\n"
     ]
    },
    {
     "name": "stderr",
     "output_type": "stream",
     "text": [
      " 34%|███▍      | 501/1475 [05:36<10:12,  1.59it/s]"
     ]
    },
    {
     "name": "stdout",
     "output_type": "stream",
     "text": [
      "train loss :  0.17075151882949285\n",
      "Consistency Cost : 0.04602659426111495\n",
      "Classification Cost : 0.2954764428641647\n"
     ]
    },
    {
     "name": "stderr",
     "output_type": "stream",
     "text": [
      " 37%|███▋      | 551/1475 [06:08<09:40,  1.59it/s]"
     ]
    },
    {
     "name": "stdout",
     "output_type": "stream",
     "text": [
      "train loss :  0.17228881477526473\n",
      "Consistency Cost : 0.046859907204317014\n",
      "Classification Cost : 0.29771772174503314\n"
     ]
    },
    {
     "name": "stderr",
     "output_type": "stream",
     "text": [
      " 41%|████      | 601/1475 [06:39<09:08,  1.59it/s]"
     ]
    },
    {
     "name": "stdout",
     "output_type": "stream",
     "text": [
      "train loss :  0.17036872168643943\n",
      "Consistency Cost : 0.04655397574286326\n",
      "Classification Cost : 0.29418346713452287\n"
     ]
    },
    {
     "name": "stderr",
     "output_type": "stream",
     "text": [
      " 44%|████▍     | 651/1475 [07:10<08:37,  1.59it/s]"
     ]
    },
    {
     "name": "stdout",
     "output_type": "stream",
     "text": [
      "train loss :  0.1699695561592503\n",
      "Consistency Cost : 0.0463048700084283\n",
      "Classification Cost : 0.2936342418895891\n"
     ]
    },
    {
     "name": "stderr",
     "output_type": "stream",
     "text": [
      " 48%|████▊     | 701/1475 [07:42<08:11,  1.58it/s]"
     ]
    },
    {
     "name": "stdout",
     "output_type": "stream",
     "text": [
      "train loss :  0.1688006211427481\n",
      "Consistency Cost : 0.0461604434299183\n",
      "Classification Cost : 0.29144079836218484\n"
     ]
    },
    {
     "name": "stderr",
     "output_type": "stream",
     "text": [
      " 51%|█████     | 751/1475 [08:14<07:44,  1.56it/s]"
     ]
    },
    {
     "name": "stdout",
     "output_type": "stream",
     "text": [
      "train loss :  0.17122569150068254\n",
      "Consistency Cost : 0.04703117306196752\n",
      "Classification Cost : 0.2954202093419929\n"
     ]
    },
    {
     "name": "stderr",
     "output_type": "stream",
     "text": [
      " 54%|█████▍    | 801/1475 [08:46<07:16,  1.54it/s]"
     ]
    },
    {
     "name": "stdout",
     "output_type": "stream",
     "text": [
      "train loss :  0.1719483336535086\n",
      "Consistency Cost : 0.0469267104712344\n",
      "Classification Cost : 0.296969956291141\n"
     ]
    },
    {
     "name": "stderr",
     "output_type": "stream",
     "text": [
      " 58%|█████▊    | 851/1475 [09:19<06:54,  1.51it/s]"
     ]
    },
    {
     "name": "stdout",
     "output_type": "stream",
     "text": [
      "train loss :  0.1725550801314667\n",
      "Consistency Cost : 0.047209983684519743\n",
      "Classification Cost : 0.2979001762969967\n"
     ]
    },
    {
     "name": "stderr",
     "output_type": "stream",
     "text": [
      " 61%|██████    | 901/1475 [09:52<06:24,  1.49it/s]"
     ]
    },
    {
     "name": "stdout",
     "output_type": "stream",
     "text": [
      "train loss :  0.17328982121487368\n",
      "Consistency Cost : 0.0477469319822396\n",
      "Classification Cost : 0.2988327101359351\n"
     ]
    },
    {
     "name": "stderr",
     "output_type": "stream",
     "text": [
      " 64%|██████▍   | 951/1475 [10:26<05:54,  1.48it/s]"
     ]
    },
    {
     "name": "stdout",
     "output_type": "stream",
     "text": [
      "train loss :  0.17182251768955642\n",
      "Consistency Cost : 0.04749398295951419\n",
      "Classification Cost : 0.296151052161463\n"
     ]
    },
    {
     "name": "stderr",
     "output_type": "stream",
     "text": [
      " 68%|██████▊   | 1001/1475 [11:00<05:26,  1.45it/s]"
     ]
    },
    {
     "name": "stdout",
     "output_type": "stream",
     "text": [
      "train loss :  0.17219034766763797\n",
      "Consistency Cost : 0.047408336771535685\n",
      "Classification Cost : 0.2969723583003506\n"
     ]
    },
    {
     "name": "stderr",
     "output_type": "stream",
     "text": [
      " 71%|███████▏  | 1051/1475 [11:35<04:54,  1.44it/s]"
     ]
    },
    {
     "name": "stdout",
     "output_type": "stream",
     "text": [
      "train loss :  0.1716929734687576\n",
      "Consistency Cost : 0.04715007320423389\n",
      "Classification Cost : 0.2962358734980669\n"
     ]
    },
    {
     "name": "stderr",
     "output_type": "stream",
     "text": [
      " 75%|███████▍  | 1101/1475 [12:09<04:18,  1.44it/s]"
     ]
    },
    {
     "name": "stdout",
     "output_type": "stream",
     "text": [
      "train loss :  0.17287548305810727\n",
      "Consistency Cost : 0.047446249808682214\n",
      "Classification Cost : 0.29830471610756254\n"
     ]
    },
    {
     "name": "stderr",
     "output_type": "stream",
     "text": [
      " 78%|███████▊  | 1151/1475 [12:44<03:43,  1.45it/s]"
     ]
    },
    {
     "name": "stdout",
     "output_type": "stream",
     "text": [
      "train loss :  0.17301776739571284\n",
      "Consistency Cost : 0.047692910583801165\n",
      "Classification Cost : 0.29834262402748446\n"
     ]
    },
    {
     "name": "stderr",
     "output_type": "stream",
     "text": [
      " 81%|████████▏ | 1201/1475 [13:18<03:08,  1.45it/s]"
     ]
    },
    {
     "name": "stdout",
     "output_type": "stream",
     "text": [
      "train loss :  0.17440899383980044\n",
      "Consistency Cost : 0.0480819841431124\n",
      "Classification Cost : 0.30073600334988443\n"
     ]
    },
    {
     "name": "stderr",
     "output_type": "stream",
     "text": [
      " 85%|████████▍ | 1251/1475 [13:52<02:32,  1.47it/s]"
     ]
    },
    {
     "name": "stdout",
     "output_type": "stream",
     "text": [
      "train loss :  0.17403699029660782\n",
      "Consistency Cost : 0.048034184944955635\n",
      "Classification Cost : 0.30003979553375393\n"
     ]
    },
    {
     "name": "stderr",
     "output_type": "stream",
     "text": [
      " 88%|████████▊ | 1301/1475 [14:26<01:58,  1.46it/s]"
     ]
    },
    {
     "name": "stdout",
     "output_type": "stream",
     "text": [
      "train loss :  0.17417401280070546\n",
      "Consistency Cost : 0.04819036744709592\n",
      "Classification Cost : 0.30015765806319766\n"
     ]
    },
    {
     "name": "stderr",
     "output_type": "stream",
     "text": [
      " 92%|█████████▏| 1351/1475 [15:01<01:24,  1.46it/s]"
     ]
    },
    {
     "name": "stdout",
     "output_type": "stream",
     "text": [
      "train loss :  0.1740845378345909\n",
      "Consistency Cost : 0.048244495032273266\n",
      "Classification Cost : 0.2999245805715866\n"
     ]
    },
    {
     "name": "stderr",
     "output_type": "stream",
     "text": [
      " 95%|█████████▍| 1401/1475 [15:35<00:50,  1.48it/s]"
     ]
    },
    {
     "name": "stdout",
     "output_type": "stream",
     "text": [
      "train loss :  0.17467095496425047\n",
      "Consistency Cost : 0.04810173238247184\n",
      "Classification Cost : 0.3012401775438671\n"
     ]
    },
    {
     "name": "stderr",
     "output_type": "stream",
     "text": [
      " 98%|█████████▊| 1451/1475 [16:09<00:16,  1.47it/s]"
     ]
    },
    {
     "name": "stdout",
     "output_type": "stream",
     "text": [
      "train loss :  0.17461211835651896\n",
      "Consistency Cost : 0.04816779177867735\n",
      "Classification Cost : 0.3010564449617382\n"
     ]
    },
    {
     "name": "stderr",
     "output_type": "stream",
     "text": [
      "100%|██████████| 1475/1475 [16:25<00:00,  1.50it/s]\n",
      "  0%|          | 0/400 [00:00<?, ?it/s]"
     ]
    },
    {
     "name": "stdout",
     "output_type": "stream",
     "text": [
      "---------Running validation for student -------------\n"
     ]
    },
    {
     "name": "stderr",
     "output_type": "stream",
     "text": [
      "100%|██████████| 400/400 [00:46<00:00,  8.63it/s]\n"
     ]
    },
    {
     "name": "stdout",
     "output_type": "stream",
     "text": [
      "Overall validation loss: tensor(1.0499, device='cuda:0')\n",
      "Average F1 Validation score for whole sentence class 0 : 0.3814048618360782\n",
      "Average F1 Validation score for whole sentence class 1 : 0.9273967087841606\n",
      "Average Accuracy Validation score whole sentence  : 0.8700458766924024\n",
      "Average mcc Validation score whole sentence : 0.3205559863084288\n"
     ]
    },
    {
     "name": "stderr",
     "output_type": "stream",
     "text": [
      "  0%|          | 0/400 [00:00<?, ?it/s]"
     ]
    },
    {
     "name": "stdout",
     "output_type": "stream",
     "text": [
      "Classification Report :\n",
      "               precision    recall  f1-score   support\n",
      "\n",
      "           0       0.48      0.32      0.38     28264\n",
      "           1       0.91      0.95      0.93    195161\n",
      "\n",
      "    accuracy                           0.87    223425\n",
      "   macro avg       0.69      0.63      0.65    223425\n",
      "weighted avg       0.85      0.87      0.86    223425\n",
      "\n",
      "---------Running validation for teacher -------------\n"
     ]
    },
    {
     "name": "stderr",
     "output_type": "stream",
     "text": [
      "100%|██████████| 400/400 [00:45<00:00,  8.71it/s]\n"
     ]
    },
    {
     "name": "stdout",
     "output_type": "stream",
     "text": [
      "Overall validation loss: tensor(1.0334, device='cuda:0')\n",
      "Average F1 Validation score for whole sentence class 0 : 0.3826987563139352\n",
      "Average F1 Validation score for whole sentence class 1 : 0.9272362482863519\n",
      "Average Accuracy Validation score whole sentence  : 0.8698176121741077\n",
      "Average mcc Validation score whole sentence : 0.3211941103004747\n",
      "Classification Report :\n",
      "               precision    recall  f1-score   support\n",
      "\n",
      "           0       0.48      0.32      0.38     28264\n",
      "           1       0.91      0.95      0.93    195161\n",
      "\n",
      "    accuracy                           0.87    223425\n",
      "   macro avg       0.69      0.63      0.65    223425\n",
      "weighted avg       0.85      0.87      0.86    223425\n",
      "\n"
     ]
    },
    {
     "ename": "NameError",
     "evalue": "name 'get_items' is not defined",
     "output_type": "error",
     "traceback": [
      "\u001b[0;31m---------------------------------------------------------------------------\u001b[0m",
      "\u001b[0;31mNameError\u001b[0m                                 Traceback (most recent call last)",
      "\u001b[0;32m<ipython-input-50-77f244d29ae6>\u001b[0m in \u001b[0;36m<module>\u001b[0;34m\u001b[0m\n\u001b[1;32m      1\u001b[0m \u001b[0mmetrices\u001b[0m \u001b[0;34m=\u001b[0m \u001b[0mtrain_MeanTeacher\u001b[0m\u001b[0;34m(\u001b[0m\u001b[0mtrain_dataloader\u001b[0m\u001b[0;34m,\u001b[0m\u001b[0mval_dataloader\u001b[0m\u001b[0;34m,\u001b[0m\u001b[0mnoise_layer\u001b[0m\u001b[0;34m=\u001b[0m\u001b[0;32mFalse\u001b[0m\u001b[0;34m)\u001b[0m \u001b[0;31m# alpha = 0.995 and full data w/o noise and dropout\u001b[0m\u001b[0;34m\u001b[0m\u001b[0;34m\u001b[0m\u001b[0m\n\u001b[1;32m      2\u001b[0m \u001b[0;34m\u001b[0m\u001b[0m\n\u001b[0;32m----> 3\u001b[0;31m \u001b[0mconsistency_cost_lst\u001b[0m \u001b[0;34m=\u001b[0m \u001b[0mget_items\u001b[0m\u001b[0;34m(\u001b[0m\u001b[0mmetrices\u001b[0m\u001b[0;34m[\u001b[0m\u001b[0;36m0\u001b[0m\u001b[0;34m]\u001b[0m\u001b[0;34m)\u001b[0m\u001b[0;34m\u001b[0m\u001b[0;34m\u001b[0m\u001b[0m\n\u001b[0m\u001b[1;32m      4\u001b[0m \u001b[0mclassification_cost_lst\u001b[0m \u001b[0;34m=\u001b[0m \u001b[0mget_items\u001b[0m\u001b[0;34m(\u001b[0m\u001b[0mmetrices\u001b[0m\u001b[0;34m[\u001b[0m\u001b[0;36m1\u001b[0m\u001b[0;34m]\u001b[0m\u001b[0;34m)\u001b[0m\u001b[0;34m\u001b[0m\u001b[0;34m\u001b[0m\u001b[0m\n\u001b[1;32m      5\u001b[0m \u001b[0moverall_cost_lst\u001b[0m \u001b[0;34m=\u001b[0m \u001b[0mget_items\u001b[0m\u001b[0;34m(\u001b[0m\u001b[0mmetrices\u001b[0m\u001b[0;34m[\u001b[0m\u001b[0;36m2\u001b[0m\u001b[0;34m]\u001b[0m\u001b[0;34m)\u001b[0m\u001b[0;34m\u001b[0m\u001b[0;34m\u001b[0m\u001b[0m\n",
      "\u001b[0;31mNameError\u001b[0m: name 'get_items' is not defined"
     ]
    }
   ],
   "source": [
    "metrices = train_MeanTeacher(train_dataloader,val_dataloader,noise_layer=False) # alpha = 0.995 and full data w/o noise and dropout\n",
    "\n",
    "consistency_cost_lst = get_items(metrices[0])\n",
    "classification_cost_lst = get_items(metrices[1])\n",
    "overall_cost_lst = get_items(metrices[2])\n",
    "f1_class0_student_test = metrices[3]\n",
    "f1_class1_student_test= metrices[4]\n",
    "accuracy_student = metrices[5]\n",
    "mcc_cost_student = metrices[6]\n",
    "test_cost_student = tensors_to_lst(metrices[7])\n",
    "f1_class1_teacher_test=metrices[8]\n",
    "f1_class0_teacher_test = metrices[9]\n",
    "accuracy_teacher = metrices[10]\n",
    "mcc_cost_teacher = metrices[11]\n",
    "test_cost_teacher=tensors_to_lst(metrices[12])\n",
    "\n",
    "print('Consistency_lost_train :',consistency_cost_lst,'\\n',\n",
    "      'Classificataion_lost_train : ',classification_cost_lst,'\\n',\n",
    "      'Overall_loss_train :',overall_cost_lst,'\\n',\n",
    "      'f1_class0_student_test :',f1_class0_student_test,'\\n',\n",
    "      'f1_class1_student_test :',f1_class1_student_test,'\\n',\n",
    "      'accuracy_student :',accuracy_student,'\\n',\n",
    "      'mcc_cost_student :',mcc_cost_student,'\\n',\n",
    "      'test_cost_student :',test_cost_student,'\\n',\n",
    "      'f1_class0_teacher_test :',f1_class0_teacher_test,'\\n',\n",
    "      'f1_class1_teacher_test :',f1_class1_teacher_test,'\\n',\n",
    "    'accuracy_teacher :', accuracy_teacher,'\\n',\n",
    "      'mcc_cost_teacher',mcc_cost_teacher,'\\n',\n",
    "      'test_cost_teacher',test_cost_teacher)"
   ]
  },
  {
   "cell_type": "code",
   "execution_count": 44,
   "metadata": {},
   "outputs": [
    {
     "ename": "NameError",
     "evalue": "name 'metrices' is not defined",
     "output_type": "error",
     "traceback": [
      "\u001b[0;31m---------------------------------------------------------------------------\u001b[0m",
      "\u001b[0;31mNameError\u001b[0m                                 Traceback (most recent call last)",
      "\u001b[0;32m<ipython-input-44-8cb1f3915b37>\u001b[0m in \u001b[0;36m<module>\u001b[0;34m\u001b[0m\n\u001b[0;32m----> 1\u001b[0;31m \u001b[0mconsistency_cost_lst\u001b[0m \u001b[0;34m=\u001b[0m \u001b[0mget_items\u001b[0m\u001b[0;34m(\u001b[0m\u001b[0mmetrices\u001b[0m\u001b[0;34m[\u001b[0m\u001b[0;36m0\u001b[0m\u001b[0;34m]\u001b[0m\u001b[0;34m)\u001b[0m\u001b[0;34m\u001b[0m\u001b[0;34m\u001b[0m\u001b[0m\n\u001b[0m\u001b[1;32m      2\u001b[0m \u001b[0mclassification_cost_lst\u001b[0m \u001b[0;34m=\u001b[0m \u001b[0mget_items\u001b[0m\u001b[0;34m(\u001b[0m\u001b[0mmetrices\u001b[0m\u001b[0;34m[\u001b[0m\u001b[0;36m1\u001b[0m\u001b[0;34m]\u001b[0m\u001b[0;34m)\u001b[0m\u001b[0;34m\u001b[0m\u001b[0;34m\u001b[0m\u001b[0m\n\u001b[1;32m      3\u001b[0m \u001b[0moverall_cost_lst\u001b[0m \u001b[0;34m=\u001b[0m \u001b[0mget_items\u001b[0m\u001b[0;34m(\u001b[0m\u001b[0mmetrices\u001b[0m\u001b[0;34m[\u001b[0m\u001b[0;36m2\u001b[0m\u001b[0;34m]\u001b[0m\u001b[0;34m)\u001b[0m\u001b[0;34m\u001b[0m\u001b[0;34m\u001b[0m\u001b[0m\n\u001b[1;32m      4\u001b[0m \u001b[0mf1_class0_student_test\u001b[0m \u001b[0;34m=\u001b[0m \u001b[0mmetrices\u001b[0m\u001b[0;34m[\u001b[0m\u001b[0;36m3\u001b[0m\u001b[0;34m]\u001b[0m\u001b[0;34m\u001b[0m\u001b[0;34m\u001b[0m\u001b[0m\n\u001b[1;32m      5\u001b[0m \u001b[0mf1_class1_student_test\u001b[0m\u001b[0;34m=\u001b[0m \u001b[0mmetrices\u001b[0m\u001b[0;34m[\u001b[0m\u001b[0;36m4\u001b[0m\u001b[0;34m]\u001b[0m\u001b[0;34m\u001b[0m\u001b[0;34m\u001b[0m\u001b[0m\n",
      "\u001b[0;31mNameError\u001b[0m: name 'metrices' is not defined"
     ]
    }
   ],
   "source": [
    "consistency_cost_lst = get_items(metrices[0])\n",
    "classification_cost_lst = get_items(metrices[1])\n",
    "overall_cost_lst = get_items(metrices[2])\n",
    "f1_class0_student_test = metrices[3]\n",
    "f1_class1_student_test= metrices[4]\n",
    "accuracy_student = metrices[5]\n",
    "mcc_cost_student = metrices[6]\n",
    "test_cost_student = tensors_to_lst(metrices[7])\n",
    "f1_class1_teacher_test=metrices[8]\n",
    "f1_class0_teacher_test = metrices[9]\n",
    "accuracy_teacher = metrices[10]\n",
    "mcc_cost_teacher = metrices[11]\n",
    "test_cost_teacher=tensors_to_lst(metrices[12])\n",
    "\n",
    "print('Consistency_lost_train :',consistency_cost_lst,'\\n',\n",
    "      'Classificataion_lost_train : ',classification_cost_lst,'\\n',\n",
    "      'Overall_loss_train :',overall_cost_lst,'\\n',\n",
    "      'f1_class0_student_test :',f1_class0_student_test,'\\n',\n",
    "      'f1_class1_student_test :',f1_class1_student_test,'\\n',\n",
    "      'accuracy_student :',accuracy_student,'\\n',\n",
    "      'mcc_cost_student :',mcc_cost_student,'\\n',\n",
    "      'test_cost_student :',test_cost_student,'\\n',\n",
    "      'f1_class0_teacher_test :',f1_class0_teacher_test,'\\n',\n",
    "      'f1_class1_teacher_test :',f1_class1_teacher_test,'\\n',\n",
    "    'accuracy_teacher :', accuracy_teacher,'\\n',\n",
    "      'mcc_cost_teacher',mcc_cost_teacher,'\\n',\n",
    "      'test_cost_teacher',test_cost_teacher)"
   ]
  },
  {
   "cell_type": "markdown",
   "metadata": {},
   "source": [
    "<h3>Plotting</h3>"
   ]
  },
  {
   "cell_type": "code",
   "execution_count": 58,
   "metadata": {},
   "outputs": [
    {
     "data": {
      "image/png": "[encoded data removed]",
      "text/plain": [
       "<Figure size 432x288 with 1 Axes>"
      ]
     },
     "metadata": {
      "needs_background": "light"
     },
     "output_type": "display_data"
    },
    {
     "data": {
      "image/png": "[encoded data removed]",
      "text/plain": [
       "<Figure size 432x288 with 1 Axes>"
      ]
     },
     "metadata": {
      "needs_background": "light"
     },
     "output_type": "display_data"
    },
    {
     "data": {
      "image/png": "[encoded data removed]",
      "text/plain": [
       "<Figure size 432x288 with 1 Axes>"
      ]
     },
     "metadata": {
      "needs_background": "light"
     },
     "output_type": "display_data"
    },
    {
     "data": {
      "image/png": "[encoded data removed]",
      "text/plain": [
       "<Figure size 432x288 with 1 Axes>"
      ]
     },
     "metadata": {
      "needs_background": "light"
     },
     "output_type": "display_data"
    }
   ],
   "source": [
    "plot_against_epochs(test_cost_teacher,test_cost_student,label1 = 'ValidationLoss_teacher', \n",
    "                    label2 = 'ValidationLoss_student', y_label = 'loss', title ='Meanteacher_XLMRoberta' )\n",
    "plot_against_epochs(mcc_cost_teacher,mcc_cost_student,label1 = 'mcc_teacher', \n",
    "                    label2 = 'mcc_student', y_label = 'mcc_score_test', title ='Meanteacher_XLMRoberta' )\n",
    "plot_against_epochs(classification_cost_lst,None,label1 = 'classification_cost_train', \n",
    "                    label2 = None, y_label = 'loss', title ='Meanteacher_XLMRoberta' )\n",
    "plot_against_epochs(consistency_cost_lst,None,label1 = 'Consistency_lost_train', \n",
    "                    label2 = None, y_label = 'loss', title ='Meanteacher_XLMRoberta' )"
   ]
  },
  {
   "cell_type": "code",
   "execution_count": 25,
   "metadata": {},
   "outputs": [],
   "source": [
    "for name,param in model.named_parameters():\n",
    "    if 'classifier' not in name:\n",
    "        param.requires_grad = True"
   ]
  },
  {
   "cell_type": "code",
   "execution_count": 117,
   "metadata": {},
   "outputs": [],
   "source": [
    "# writer.add_text('Text','The Labelled data used in this experiment was 3200 and unlabelled used was 6400')\n"
   ]
  },
  {
   "cell_type": "code",
   "execution_count": 25,
   "metadata": {},
   "outputs": [],
   "source": [
    "writer = SummaryWriter(\"runs/MeanTeacherTraining/alpha_0.995_trail1\")"
   ]
  },
  {
   "cell_type": "code",
   "execution_count": 26,
   "metadata": {},
   "outputs": [
    {
     "name": "stderr",
     "output_type": "stream",
     "text": [
      "Some weights of the model checkpoint at xlm-roberta-base were not used when initializing XLMRobertaModel: ['roberta.pooler.dense.bias', 'lm_head.dense.bias', 'lm_head.decoder.weight', 'roberta.pooler.dense.weight', 'lm_head.bias', 'lm_head.dense.weight', 'lm_head.layer_norm.weight', 'lm_head.layer_norm.bias']\n",
      "- This IS expected if you are initializing XLMRobertaModel from the checkpoint of a model trained on another task or with another architecture (e.g. initializing a BertForSequenceClassification model from a BertForPreTraining model).\n",
      "- This IS NOT expected if you are initializing XLMRobertaModel from the checkpoint of a model that you expect to be exactly identical (initializing a BertForSequenceClassification model from a BertForSequenceClassification model).\n",
      "Some weights of the model checkpoint at xlm-roberta-base were not used when initializing XLMRobertaModel: ['roberta.pooler.dense.bias', 'lm_head.dense.bias', 'lm_head.decoder.weight', 'roberta.pooler.dense.weight', 'lm_head.bias', 'lm_head.dense.weight', 'lm_head.layer_norm.weight', 'lm_head.layer_norm.bias']\n",
      "- This IS expected if you are initializing XLMRobertaModel from the checkpoint of a model trained on another task or with another architecture (e.g. initializing a BertForSequenceClassification model from a BertForPreTraining model).\n",
      "- This IS NOT expected if you are initializing XLMRobertaModel from the checkpoint of a model that you expect to be exactly identical (initializing a BertForSequenceClassification model from a BertForSequenceClassification model).\n",
      "/opt/conda/lib/python3.6/site-packages/transformers/optimization.py:309: FutureWarning: This implementation of AdamW is deprecated and will be removed in a future version. Use the PyTorch implementation torch.optim.AdamW instead, or set `no_deprecation_warning=True` to disable this warning\n",
      "  FutureWarning,\n",
      "  0%|          | 0/1475 [00:00<?, ?it/s]"
     ]
    },
    {
     "name": "stdout",
     "output_type": "stream",
     "text": [
      "Current epoch is 1 of 30\n"
     ]
    },
    {
     "name": "stderr",
     "output_type": "stream",
     "text": [
      "/opt/conda/lib/python3.6/site-packages/ipykernel_launcher.py:13: UserWarning: This overload of add_ is deprecated:\n",
      "\tadd_(Number alpha, Tensor other)\n",
      "Consider using one of the following signatures instead:\n",
      "\tadd_(Tensor other, *, Number alpha) (Triggered internally at  /codebuild/output/src811146734/src/torch/csrc/utils/python_arg_parser.cpp:766.)\n",
      "  del sys.path[0]\n",
      " 14%|█▎        | 201/1475 [01:45<11:03,  1.92it/s]"
     ]
    },
    {
     "name": "stdout",
     "output_type": "stream",
     "text": [
      "train loss :  0.5025104536116123\n",
      "Consistency Cost : 0.3106546004116535\n",
      "Classification Cost : 0.6943663051724434\n"
     ]
    },
    {
     "name": "stderr",
     "output_type": "stream",
     "text": [
      " 27%|██▋       | 401/1475 [03:29<09:22,  1.91it/s]"
     ]
    },
    {
     "name": "stdout",
     "output_type": "stream",
     "text": [
      "train loss :  0.4890207730792463\n",
      "Consistency Cost : 0.28870287522673604\n",
      "Classification Cost : 0.6893386700749398\n"
     ]
    },
    {
     "name": "stderr",
     "output_type": "stream",
     "text": [
      " 41%|████      | 601/1475 [05:15<07:39,  1.90it/s]"
     ]
    },
    {
     "name": "stdout",
     "output_type": "stream",
     "text": [
      "train loss :  0.4771548883492748\n",
      "Consistency Cost : 0.2712601638585329\n",
      "Classification Cost : 0.6830496123433113\n"
     ]
    },
    {
     "name": "stderr",
     "output_type": "stream",
     "text": [
      " 54%|█████▍    | 801/1475 [06:59<05:51,  1.92it/s]"
     ]
    },
    {
     "name": "stdout",
     "output_type": "stream",
     "text": [
      "train loss :  0.4670069411583245\n",
      "Consistency Cost : 0.2562988097779453\n",
      "Classification Cost : 0.6777150715887547\n"
     ]
    },
    {
     "name": "stderr",
     "output_type": "stream",
     "text": [
      " 68%|██████▊   | 1001/1475 [08:44<04:09,  1.90it/s]"
     ]
    },
    {
     "name": "stdout",
     "output_type": "stream",
     "text": [
      "train loss :  0.45661080449819563\n",
      "Consistency Cost : 0.2419954103678465\n",
      "Classification Cost : 0.6712261982560158\n"
     ]
    },
    {
     "name": "stderr",
     "output_type": "stream",
     "text": [
      " 81%|████████▏ | 1201/1475 [10:30<02:27,  1.85it/s]"
     ]
    },
    {
     "name": "stdout",
     "output_type": "stream",
     "text": [
      "train loss :  0.4465105325107773\n",
      "Consistency Cost : 0.22803132900347312\n",
      "Classification Cost : 0.6649897359808286\n"
     ]
    },
    {
     "name": "stderr",
     "output_type": "stream",
     "text": [
      " 95%|█████████▍| 1401/1475 [12:21<00:41,  1.76it/s]"
     ]
    },
    {
     "name": "stdout",
     "output_type": "stream",
     "text": [
      "train loss :  0.43814650370606356\n",
      "Consistency Cost : 0.21468878998288085\n",
      "Classification Cost : 0.6616042174824647\n"
     ]
    },
    {
     "name": "stderr",
     "output_type": "stream",
     "text": [
      "100%|██████████| 1475/1475 [13:04<00:00,  1.88it/s]\n",
      "  0%|          | 0/400 [00:00<?, ?it/s]"
     ]
    },
    {
     "name": "stdout",
     "output_type": "stream",
     "text": [
      "---------Running validation for student -------------\n"
     ]
    },
    {
     "name": "stderr",
     "output_type": "stream",
     "text": [
      "100%|██████████| 400/400 [00:46<00:00,  8.61it/s]\n"
     ]
    },
    {
     "name": "stdout",
     "output_type": "stream",
     "text": [
      "Overall validation loss: tensor(0.6358, device='cuda:0')\n",
      "Average F1 Validation score for whole sentence class 0 : 0.290860604926431\n",
      "Average F1 Validation score for whole sentence class 1 : 0.9249816258806585\n",
      "Average Accuracy Validation score whole sentence  : 0.8643168848606915\n",
      "Average mcc Validation score whole sentence : 0.2397608891681719\n",
      "Classification Report :\n",
      "               precision    recall  f1-score   support\n",
      "\n",
      "           0       0.43      0.22      0.29     28264\n",
      "           1       0.89      0.96      0.92    195161\n",
      "\n",
      "    accuracy                           0.86    223425\n",
      "   macro avg       0.66      0.59      0.61    223425\n",
      "weighted avg       0.84      0.86      0.84    223425\n",
      "\n"
     ]
    },
    {
     "name": "stderr",
     "output_type": "stream",
     "text": [
      "  0%|          | 0/400 [00:00<?, ?it/s]"
     ]
    },
    {
     "name": "stdout",
     "output_type": "stream",
     "text": [
      "---------Running validation for teacher -------------\n"
     ]
    },
    {
     "name": "stderr",
     "output_type": "stream",
     "text": [
      "100%|██████████| 400/400 [00:46<00:00,  8.65it/s]\n"
     ]
    },
    {
     "name": "stdout",
     "output_type": "stream",
     "text": [
      "Overall validation loss: tensor(0.6387, device='cuda:0')\n",
      "Average F1 Validation score for whole sentence class 0 : 0.3121208035593906\n",
      "Average F1 Validation score for whole sentence class 1 : 0.923916609502222\n",
      "Average Accuracy Validation score whole sentence  : 0.8629875797247398\n",
      "Average mcc Validation score whole sentence : 0.2536613618000708\n",
      "Classification Report :\n",
      "               precision    recall  f1-score   support\n",
      "\n",
      "           0       0.43      0.25      0.31     28264\n",
      "           1       0.90      0.95      0.92    195161\n",
      "\n",
      "    accuracy                           0.86    223425\n",
      "   macro avg       0.66      0.60      0.62    223425\n",
      "weighted avg       0.84      0.86      0.85    223425\n",
      "\n"
     ]
    },
    {
     "name": "stderr",
     "output_type": "stream",
     "text": [
      "  0%|          | 0/1475 [00:00<?, ?it/s]"
     ]
    },
    {
     "name": "stdout",
     "output_type": "stream",
     "text": [
      "Current epoch is 2 of 30\n"
     ]
    },
    {
     "name": "stderr",
     "output_type": "stream",
     "text": [
      " 14%|█▎        | 201/1475 [01:52<11:14,  1.89it/s]"
     ]
    },
    {
     "name": "stdout",
     "output_type": "stream",
     "text": [
      "train loss :  0.3672399704158306\n",
      "Consistency Cost : 0.11252039652317762\n",
      "Classification Cost : 0.6219595436751842\n"
     ]
    },
    {
     "name": "stderr",
     "output_type": "stream",
     "text": [
      " 27%|██▋       | 401/1475 [03:38<09:26,  1.90it/s]"
     ]
    },
    {
     "name": "stdout",
     "output_type": "stream",
     "text": [
      "train loss :  0.3598457070067525\n",
      "Consistency Cost : 0.10632915968075395\n",
      "Classification Cost : 0.6133622533082962\n"
     ]
    },
    {
     "name": "stderr",
     "output_type": "stream",
     "text": [
      " 41%|████      | 601/1475 [05:23<07:47,  1.87it/s]"
     ]
    },
    {
     "name": "stdout",
     "output_type": "stream",
     "text": [
      "train loss :  0.3538869208469987\n",
      "Consistency Cost : 0.1038464058438937\n",
      "Classification Cost : 0.603927434682846\n"
     ]
    },
    {
     "name": "stderr",
     "output_type": "stream",
     "text": [
      " 54%|█████▍    | 801/1475 [07:10<05:53,  1.90it/s]"
     ]
    },
    {
     "name": "stdout",
     "output_type": "stream",
     "text": [
      "train loss :  0.35093981817830355\n",
      "Consistency Cost : 0.09966759092174471\n",
      "Classification Cost : 0.6022120440751314\n"
     ]
    },
    {
     "name": "stderr",
     "output_type": "stream",
     "text": [
      " 68%|██████▊   | 1001/1475 [08:55<04:10,  1.90it/s]"
     ]
    },
    {
     "name": "stdout",
     "output_type": "stream",
     "text": [
      "train loss :  0.3475948148462921\n",
      "Consistency Cost : 0.09624236826971173\n",
      "Classification Cost : 0.5989472611248493\n"
     ]
    },
    {
     "name": "stderr",
     "output_type": "stream",
     "text": [
      " 81%|████████▏ | 1201/1475 [10:41<02:27,  1.86it/s]"
     ]
    },
    {
     "name": "stdout",
     "output_type": "stream",
     "text": [
      "train loss :  0.34540769323706627\n",
      "Consistency Cost : 0.09407014817620317\n",
      "Classification Cost : 0.5967452380557855\n"
     ]
    },
    {
     "name": "stderr",
     "output_type": "stream",
     "text": [
      " 95%|█████████▍| 1401/1475 [12:28<00:38,  1.91it/s]"
     ]
    },
    {
     "name": "stdout",
     "output_type": "stream",
     "text": [
      "train loss :  0.3445018702266472\n",
      "Consistency Cost : 0.09322785319760442\n",
      "Classification Cost : 0.5957758872423853\n"
     ]
    },
    {
     "name": "stderr",
     "output_type": "stream",
     "text": [
      "100%|██████████| 1475/1475 [13:06<00:00,  1.87it/s]\n",
      "  0%|          | 0/400 [00:00<?, ?it/s]"
     ]
    },
    {
     "name": "stdout",
     "output_type": "stream",
     "text": [
      "---------Running validation for student -------------\n"
     ]
    },
    {
     "name": "stderr",
     "output_type": "stream",
     "text": [
      "100%|██████████| 400/400 [00:41<00:00,  9.66it/s]\n"
     ]
    },
    {
     "name": "stdout",
     "output_type": "stream",
     "text": [
      "Overall validation loss: tensor(0.6196, device='cuda:0')\n",
      "Average F1 Validation score for whole sentence class 0 : 0.3283201166712242\n",
      "Average F1 Validation score for whole sentence class 1 : 0.9268523895316231\n",
      "Average Accuracy Validation score whole sentence  : 0.8680720599753833\n",
      "Average mcc Validation score whole sentence : 0.27604954556272837\n",
      "Classification Report :\n",
      "               precision    recall  f1-score   support\n",
      "\n",
      "           0       0.46      0.25      0.33     28264\n",
      "           1       0.90      0.96      0.93    195161\n",
      "\n",
      "    accuracy                           0.87    223425\n",
      "   macro avg       0.68      0.61      0.63    223425\n",
      "weighted avg       0.84      0.87      0.85    223425\n",
      "\n"
     ]
    },
    {
     "name": "stderr",
     "output_type": "stream",
     "text": [
      "  0%|          | 0/400 [00:00<?, ?it/s]"
     ]
    },
    {
     "name": "stdout",
     "output_type": "stream",
     "text": [
      "---------Running validation for teacher -------------\n"
     ]
    },
    {
     "name": "stderr",
     "output_type": "stream",
     "text": [
      "100%|██████████| 400/400 [00:41<00:00,  9.64it/s]\n"
     ]
    },
    {
     "name": "stdout",
     "output_type": "stream",
     "text": [
      "Overall validation loss: tensor(0.6221, device='cuda:0')\n",
      "Average F1 Validation score for whole sentence class 0 : 0.3173213440605774\n",
      "Average F1 Validation score for whole sentence class 1 : 0.9286932450134705\n",
      "Average Accuracy Validation score whole sentence  : 0.8708738950430793\n",
      "Average mcc Validation score whole sentence : 0.2741812019113967\n",
      "Classification Report :\n",
      "               precision    recall  f1-score   support\n",
      "\n",
      "           0       0.48      0.24      0.32     28264\n",
      "           1       0.90      0.96      0.93    195161\n",
      "\n",
      "    accuracy                           0.87    223425\n",
      "   macro avg       0.69      0.60      0.62    223425\n",
      "weighted avg       0.84      0.87      0.85    223425\n",
      "\n"
     ]
    },
    {
     "name": "stderr",
     "output_type": "stream",
     "text": [
      "  0%|          | 0/1475 [00:00<?, ?it/s]"
     ]
    },
    {
     "name": "stdout",
     "output_type": "stream",
     "text": [
      "Current epoch is 3 of 30\n"
     ]
    },
    {
     "name": "stderr",
     "output_type": "stream",
     "text": [
      " 14%|█▎        | 201/1475 [01:46<11:13,  1.89it/s]"
     ]
    },
    {
     "name": "stdout",
     "output_type": "stream",
     "text": [
      "train loss :  0.3339571374375373\n",
      "Consistency Cost : 0.0953959091566503\n",
      "Classification Cost : 0.5725183662772179\n"
     ]
    },
    {
     "name": "stderr",
     "output_type": "stream",
     "text": [
      " 27%|██▋       | 401/1475 [03:31<09:26,  1.90it/s]"
     ]
    },
    {
     "name": "stdout",
     "output_type": "stream",
     "text": [
      "train loss :  0.3287966355634853\n",
      "Consistency Cost : 0.09823736834339797\n",
      "Classification Cost : 0.5593559033423662\n"
     ]
    },
    {
     "name": "stderr",
     "output_type": "stream",
     "text": [
      " 41%|████      | 601/1475 [05:17<07:45,  1.88it/s]"
     ]
    },
    {
     "name": "stdout",
     "output_type": "stream",
     "text": [
      "train loss :  0.3324700704403222\n",
      "Consistency Cost : 0.10304750952248772\n",
      "Classification Cost : 0.5618926331400871\n"
     ]
    },
    {
     "name": "stderr",
     "output_type": "stream",
     "text": [
      " 54%|█████▍    | 801/1475 [07:04<05:56,  1.89it/s]"
     ]
    },
    {
     "name": "stdout",
     "output_type": "stream",
     "text": [
      "train loss :  0.33648606860544533\n",
      "Consistency Cost : 0.10930497882422059\n",
      "Classification Cost : 0.5636671593040228\n"
     ]
    },
    {
     "name": "stderr",
     "output_type": "stream",
     "text": [
      " 68%|██████▊   | 1001/1475 [08:49<04:08,  1.91it/s]"
     ]
    },
    {
     "name": "stdout",
     "output_type": "stream",
     "text": [
      "train loss :  0.337634325126186\n",
      "Consistency Cost : 0.11192507598921657\n",
      "Classification Cost : 0.5633435754477978\n"
     ]
    },
    {
     "name": "stderr",
     "output_type": "stream",
     "text": [
      " 81%|████████▏ | 1201/1475 [10:34<02:25,  1.88it/s]"
     ]
    },
    {
     "name": "stdout",
     "output_type": "stream",
     "text": [
      "train loss :  0.3384629327260579\n",
      "Consistency Cost : 0.11370161341192822\n",
      "Classification Cost : 0.5632242529590925\n"
     ]
    },
    {
     "name": "stderr",
     "output_type": "stream",
     "text": [
      " 95%|█████████▍| 1401/1475 [12:22<00:38,  1.90it/s]"
     ]
    },
    {
     "name": "stdout",
     "output_type": "stream",
     "text": [
      "train loss :  0.34114420142024754\n",
      "Consistency Cost : 0.11643510966162597\n",
      "Classification Cost : 0.5658532939851284\n"
     ]
    },
    {
     "name": "stderr",
     "output_type": "stream",
     "text": [
      "100%|██████████| 1475/1475 [13:00<00:00,  1.89it/s]\n",
      "  0%|          | 0/400 [00:00<?, ?it/s]"
     ]
    },
    {
     "name": "stdout",
     "output_type": "stream",
     "text": [
      "---------Running validation for student -------------\n"
     ]
    },
    {
     "name": "stderr",
     "output_type": "stream",
     "text": [
      "100%|██████████| 400/400 [00:41<00:00,  9.56it/s]\n"
     ]
    },
    {
     "name": "stdout",
     "output_type": "stream",
     "text": [
      "Overall validation loss: tensor(0.7050, device='cuda:0')\n",
      "Average F1 Validation score for whole sentence class 0 : 0.24781023883357817\n",
      "Average F1 Validation score for whole sentence class 1 : 0.9325705702190749\n",
      "Average Accuracy Validation score whole sentence  : 0.8762358733355712\n",
      "Average mcc Validation score whole sentence : 0.2449574784990714\n",
      "Classification Report :\n",
      "               precision    recall  f1-score   support\n",
      "\n",
      "           0       0.54      0.16      0.25     28264\n",
      "           1       0.89      0.98      0.93    195161\n",
      "\n",
      "    accuracy                           0.88    223425\n",
      "   macro avg       0.71      0.57      0.59    223425\n",
      "weighted avg       0.84      0.88      0.85    223425\n",
      "\n"
     ]
    },
    {
     "name": "stderr",
     "output_type": "stream",
     "text": [
      "  0%|          | 0/400 [00:00<?, ?it/s]"
     ]
    },
    {
     "name": "stdout",
     "output_type": "stream",
     "text": [
      "---------Running validation for teacher -------------\n"
     ]
    },
    {
     "name": "stderr",
     "output_type": "stream",
     "text": [
      "100%|██████████| 400/400 [00:41<00:00,  9.54it/s]\n"
     ]
    },
    {
     "name": "stdout",
     "output_type": "stream",
     "text": [
      "Overall validation loss: tensor(0.6685, device='cuda:0')\n",
      "Average F1 Validation score for whole sentence class 0 : 0.3003001500750375\n",
      "Average F1 Validation score for whole sentence class 1 : 0.9312458524835944\n",
      "Average Accuracy Validation score whole sentence  : 0.8747946738279064\n",
      "Average mcc Validation score whole sentence : 0.27307552573915833\n",
      "Classification Report :\n",
      "               precision    recall  f1-score   support\n",
      "\n",
      "           0       0.51      0.21      0.30     28264\n",
      "           1       0.89      0.97      0.93    195161\n",
      "\n",
      "    accuracy                           0.87    223425\n",
      "   macro avg       0.70      0.59      0.62    223425\n",
      "weighted avg       0.85      0.87      0.85    223425\n",
      "\n"
     ]
    },
    {
     "name": "stderr",
     "output_type": "stream",
     "text": [
      "  0%|          | 0/1475 [00:00<?, ?it/s]"
     ]
    },
    {
     "name": "stdout",
     "output_type": "stream",
     "text": [
      "Current epoch is 4 of 30\n"
     ]
    },
    {
     "name": "stderr",
     "output_type": "stream",
     "text": [
      " 14%|█▎        | 201/1475 [01:45<11:11,  1.90it/s]"
     ]
    },
    {
     "name": "stdout",
     "output_type": "stream",
     "text": [
      "train loss :  0.35143137944862246\n",
      "Consistency Cost : 0.1541578551568091\n",
      "Classification Cost : 0.5487049043923616\n"
     ]
    },
    {
     "name": "stderr",
     "output_type": "stream",
     "text": [
      " 27%|██▋       | 401/1475 [03:31<09:24,  1.90it/s]"
     ]
    },
    {
     "name": "stdout",
     "output_type": "stream",
     "text": [
      "train loss :  0.35259619165677575\n",
      "Consistency Cost : 0.15365509937517344\n",
      "Classification Cost : 0.5515372837707401\n"
     ]
    },
    {
     "name": "stderr",
     "output_type": "stream",
     "text": [
      " 41%|████      | 601/1475 [05:16<07:41,  1.89it/s]"
     ]
    },
    {
     "name": "stdout",
     "output_type": "stream",
     "text": [
      "train loss :  0.35493540024695297\n",
      "Consistency Cost : 0.15639989376068114\n",
      "Classification Cost : 0.5534709065655867\n"
     ]
    },
    {
     "name": "stderr",
     "output_type": "stream",
     "text": [
      " 54%|█████▍    | 801/1475 [07:03<06:09,  1.83it/s]"
     ]
    },
    {
     "name": "stdout",
     "output_type": "stream",
     "text": [
      "train loss :  0.3606833536433987\n",
      "Consistency Cost : 0.16108365398366004\n",
      "Classification Cost : 0.5602830533217639\n"
     ]
    },
    {
     "name": "stderr",
     "output_type": "stream",
     "text": [
      " 68%|██████▊   | 1001/1475 [08:49<04:07,  1.92it/s]"
     ]
    },
    {
     "name": "stdout",
     "output_type": "stream",
     "text": [
      "train loss :  0.36266911874338986\n",
      "Consistency Cost : 0.16142928794026376\n",
      "Classification Cost : 0.5639089493826032\n"
     ]
    },
    {
     "name": "stderr",
     "output_type": "stream",
     "text": [
      " 81%|████████▏ | 1201/1475 [10:33<02:23,  1.91it/s]"
     ]
    },
    {
     "name": "stdout",
     "output_type": "stream",
     "text": [
      "train loss :  0.3655794339999556\n",
      "Consistency Cost : 0.16532833578065037\n",
      "Classification Cost : 0.5658305321571727\n"
     ]
    },
    {
     "name": "stderr",
     "output_type": "stream",
     "text": [
      " 95%|█████████▍| 1401/1475 [12:18<00:39,  1.90it/s]"
     ]
    },
    {
     "name": "stdout",
     "output_type": "stream",
     "text": [
      "train loss :  0.36720461915114094\n",
      "Consistency Cost : 0.16801240856094019\n",
      "Classification Cost : 0.566396829970181\n"
     ]
    },
    {
     "name": "stderr",
     "output_type": "stream",
     "text": [
      "100%|██████████| 1475/1475 [12:57<00:00,  1.90it/s]\n",
      "  0%|          | 0/400 [00:00<?, ?it/s]"
     ]
    },
    {
     "name": "stdout",
     "output_type": "stream",
     "text": [
      "---------Running validation for student -------------\n"
     ]
    },
    {
     "name": "stderr",
     "output_type": "stream",
     "text": [
      "100%|██████████| 400/400 [00:41<00:00,  9.62it/s]\n"
     ]
    },
    {
     "name": "stdout",
     "output_type": "stream",
     "text": [
      "Overall validation loss: tensor(0.7442, device='cuda:0')\n",
      "Average F1 Validation score for whole sentence class 0 : 0.3152810304449649\n",
      "Average F1 Validation score for whole sentence class 1 : 0.9308428070901645\n",
      "Average Accuracy Validation score whole sentence  : 0.8743739509902652\n",
      "Average mcc Validation score whole sentence : 0.28184995797335977\n",
      "Classification Report :\n",
      "               precision    recall  f1-score   support\n",
      "\n",
      "           0       0.51      0.23      0.32     28264\n",
      "           1       0.90      0.97      0.93    195161\n",
      "\n",
      "    accuracy                           0.87    223425\n",
      "   macro avg       0.70      0.60      0.62    223425\n",
      "weighted avg       0.85      0.87      0.85    223425\n",
      "\n"
     ]
    },
    {
     "name": "stderr",
     "output_type": "stream",
     "text": [
      "  0%|          | 0/400 [00:00<?, ?it/s]"
     ]
    },
    {
     "name": "stdout",
     "output_type": "stream",
     "text": [
      "---------Running validation for teacher -------------\n"
     ]
    },
    {
     "name": "stderr",
     "output_type": "stream",
     "text": [
      "100%|██████████| 400/400 [00:41<00:00,  9.59it/s]\n"
     ]
    },
    {
     "name": "stdout",
     "output_type": "stream",
     "text": [
      "Overall validation loss: tensor(0.7921, device='cuda:0')\n",
      "Average F1 Validation score for whole sentence class 0 : 0.29359426094451063\n",
      "Average F1 Validation score for whole sentence class 1 : 0.9315981060429405\n",
      "Average Accuracy Validation score whole sentence  : 0.8752735817388385\n",
      "Average mcc Validation score whole sentence : 0.270190546534738\n",
      "Classification Report :\n",
      "               precision    recall  f1-score   support\n",
      "\n",
      "           0       0.52      0.20      0.29     28264\n",
      "           1       0.89      0.97      0.93    195161\n",
      "\n",
      "    accuracy                           0.88    223425\n",
      "   macro avg       0.71      0.59      0.61    223425\n",
      "weighted avg       0.85      0.88      0.85    223425\n",
      "\n"
     ]
    },
    {
     "name": "stderr",
     "output_type": "stream",
     "text": [
      "  0%|          | 0/1475 [00:00<?, ?it/s]"
     ]
    },
    {
     "name": "stdout",
     "output_type": "stream",
     "text": [
      "Current epoch is 5 of 30\n"
     ]
    },
    {
     "name": "stderr",
     "output_type": "stream",
     "text": [
      " 14%|█▎        | 201/1475 [01:46<11:20,  1.87it/s]"
     ]
    },
    {
     "name": "stdout",
     "output_type": "stream",
     "text": [
      "train loss :  0.37311700578778983\n",
      "Consistency Cost : 0.18971503723412753\n",
      "Classification Cost : 0.556518976315856\n"
     ]
    },
    {
     "name": "stderr",
     "output_type": "stream",
     "text": [
      " 27%|██▋       | 401/1475 [03:33<09:24,  1.90it/s]"
     ]
    },
    {
     "name": "stdout",
     "output_type": "stream",
     "text": [
      "train loss :  0.37145598406903446\n",
      "Consistency Cost : 0.1968692796677351\n",
      "Classification Cost : 0.5460426895599813\n"
     ]
    },
    {
     "name": "stderr",
     "output_type": "stream",
     "text": [
      " 41%|████      | 601/1475 [05:18<07:40,  1.90it/s]"
     ]
    },
    {
     "name": "stdout",
     "output_type": "stream",
     "text": [
      "train loss :  0.37548765456303956\n",
      "Consistency Cost : 0.19779800108323495\n",
      "Classification Cost : 0.5531773082042734\n"
     ]
    },
    {
     "name": "stderr",
     "output_type": "stream",
     "text": [
      " 54%|█████▍    | 801/1475 [07:02<05:51,  1.92it/s]"
     ]
    },
    {
     "name": "stdout",
     "output_type": "stream",
     "text": [
      "train loss :  0.37880563861690464\n",
      "Consistency Cost : 0.20442205348052084\n",
      "Classification Cost : 0.5531892239488662\n"
     ]
    },
    {
     "name": "stderr",
     "output_type": "stream",
     "text": [
      " 68%|██████▊   | 1001/1475 [08:47<04:07,  1.91it/s]"
     ]
    },
    {
     "name": "stdout",
     "output_type": "stream",
     "text": [
      "train loss :  0.3783950314670801\n",
      "Consistency Cost : 0.20581813688576223\n",
      "Classification Cost : 0.5509719264283777\n"
     ]
    },
    {
     "name": "stderr",
     "output_type": "stream",
     "text": [
      " 81%|████████▏ | 1201/1475 [10:31<02:24,  1.90it/s]"
     ]
    },
    {
     "name": "stdout",
     "output_type": "stream",
     "text": [
      "train loss :  0.37733023478028677\n",
      "Consistency Cost : 0.20705145741502443\n",
      "Classification Cost : 0.5476090122262637\n"
     ]
    },
    {
     "name": "stderr",
     "output_type": "stream",
     "text": [
      " 95%|█████████▍| 1401/1475 [12:17<00:39,  1.86it/s]"
     ]
    },
    {
     "name": "stdout",
     "output_type": "stream",
     "text": [
      "train loss :  0.37941576568675894\n",
      "Consistency Cost : 0.20983433128999812\n",
      "Classification Cost : 0.5489972001500427\n"
     ]
    },
    {
     "name": "stderr",
     "output_type": "stream",
     "text": [
      "100%|██████████| 1475/1475 [12:57<00:00,  1.90it/s]\n",
      "  0%|          | 0/400 [00:00<?, ?it/s]"
     ]
    },
    {
     "name": "stdout",
     "output_type": "stream",
     "text": [
      "---------Running validation for student -------------\n"
     ]
    },
    {
     "name": "stderr",
     "output_type": "stream",
     "text": [
      "100%|██████████| 400/400 [00:41<00:00,  9.55it/s]\n"
     ]
    },
    {
     "name": "stdout",
     "output_type": "stream",
     "text": [
      "Overall validation loss: tensor(0.7906, device='cuda:0')\n",
      "Average F1 Validation score for whole sentence class 0 : 0.30663424459018\n",
      "Average F1 Validation score for whole sentence class 1 : 0.9304938973794558\n",
      "Average Accuracy Validation score whole sentence  : 0.8736533512364328\n",
      "Average mcc Validation score whole sentence : 0.27396015551957903\n",
      "Classification Report :\n",
      "               precision    recall  f1-score   support\n",
      "\n",
      "           0       0.50      0.22      0.31     28264\n",
      "           1       0.90      0.97      0.93    195161\n",
      "\n",
      "    accuracy                           0.87    223425\n",
      "   macro avg       0.70      0.59      0.62    223425\n",
      "weighted avg       0.85      0.87      0.85    223425\n",
      "\n"
     ]
    },
    {
     "name": "stderr",
     "output_type": "stream",
     "text": [
      "  0%|          | 0/400 [00:00<?, ?it/s]"
     ]
    },
    {
     "name": "stdout",
     "output_type": "stream",
     "text": [
      "---------Running validation for teacher -------------\n"
     ]
    },
    {
     "name": "stderr",
     "output_type": "stream",
     "text": [
      "100%|██████████| 400/400 [00:41<00:00,  9.63it/s]\n"
     ]
    },
    {
     "name": "stdout",
     "output_type": "stream",
     "text": [
      "Overall validation loss: tensor(0.9041, device='cuda:0')\n",
      "Average F1 Validation score for whole sentence class 0 : 0.290001789503285\n",
      "Average F1 Validation score for whole sentence class 1 : 0.9318843458832128\n",
      "Average Accuracy Validation score whole sentence  : 0.8756943045764798\n",
      "Average mcc Validation score whole sentence : 0.26925512586947326\n",
      "Classification Report :\n",
      "               precision    recall  f1-score   support\n",
      "\n",
      "           0       0.52      0.20      0.29     28264\n",
      "           1       0.89      0.97      0.93    195161\n",
      "\n",
      "    accuracy                           0.88    223425\n",
      "   macro avg       0.71      0.59      0.61    223425\n",
      "weighted avg       0.85      0.88      0.85    223425\n",
      "\n"
     ]
    },
    {
     "name": "stderr",
     "output_type": "stream",
     "text": [
      "  0%|          | 0/1475 [00:00<?, ?it/s]"
     ]
    },
    {
     "name": "stdout",
     "output_type": "stream",
     "text": [
      "Current epoch is 6 of 30\n"
     ]
    },
    {
     "name": "stderr",
     "output_type": "stream",
     "text": [
      " 14%|█▎        | 201/1475 [01:45<11:12,  1.89it/s]"
     ]
    },
    {
     "name": "stdout",
     "output_type": "stream",
     "text": [
      "train loss :  0.3586377448961139\n",
      "Consistency Cost : 0.21262030586600303\n",
      "Classification Cost : 0.5046551872976124\n"
     ]
    },
    {
     "name": "stderr",
     "output_type": "stream",
     "text": [
      " 27%|██▋       | 401/1475 [03:32<09:32,  1.87it/s]"
     ]
    },
    {
     "name": "stdout",
     "output_type": "stream",
     "text": [
      "train loss :  0.3627839094772935\n",
      "Consistency Cost : 0.21700333550572395\n",
      "Classification Cost : 0.5085644856281578\n"
     ]
    },
    {
     "name": "stderr",
     "output_type": "stream",
     "text": [
      " 41%|████      | 601/1475 [05:17<07:36,  1.91it/s]"
     ]
    },
    {
     "name": "stdout",
     "output_type": "stream",
     "text": [
      "train loss :  0.36712858252227304\n",
      "Consistency Cost : 0.22483313351869583\n",
      "Classification Cost : 0.5094240325937669\n"
     ]
    },
    {
     "name": "stderr",
     "output_type": "stream",
     "text": [
      " 54%|█████▍    | 801/1475 [07:03<05:56,  1.89it/s]"
     ]
    },
    {
     "name": "stdout",
     "output_type": "stream",
     "text": [
      "train loss :  0.3726095174346119\n",
      "Consistency Cost : 0.2314715474564582\n",
      "Classification Cost : 0.5137474881950765\n"
     ]
    },
    {
     "name": "stderr",
     "output_type": "stream",
     "text": [
      " 68%|██████▊   | 1001/1475 [08:50<04:09,  1.90it/s]"
     ]
    },
    {
     "name": "stdout",
     "output_type": "stream",
     "text": [
      "train loss :  0.3715592807121575\n",
      "Consistency Cost : 0.2340088608339429\n",
      "Classification Cost : 0.5091097018644214\n"
     ]
    },
    {
     "name": "stderr",
     "output_type": "stream",
     "text": [
      " 81%|████████▏ | 1201/1475 [10:35<02:24,  1.89it/s]"
     ]
    },
    {
     "name": "stdout",
     "output_type": "stream",
     "text": [
      "train loss :  0.3721924633656939\n",
      "Consistency Cost : 0.23138724737490216\n",
      "Classification Cost : 0.5129976800022026\n"
     ]
    },
    {
     "name": "stderr",
     "output_type": "stream",
     "text": [
      " 95%|█████████▍| 1401/1475 [12:21<00:39,  1.87it/s]"
     ]
    },
    {
     "name": "stdout",
     "output_type": "stream",
     "text": [
      "train loss :  0.3701197923240917\n",
      "Consistency Cost : 0.23208414324160134\n",
      "Classification Cost : 0.5081554420292378\n"
     ]
    },
    {
     "name": "stderr",
     "output_type": "stream",
     "text": [
      "100%|██████████| 1475/1475 [13:01<00:00,  1.89it/s]\n",
      "  0%|          | 0/400 [00:00<?, ?it/s]"
     ]
    },
    {
     "name": "stdout",
     "output_type": "stream",
     "text": [
      "---------Running validation for student -------------\n"
     ]
    },
    {
     "name": "stderr",
     "output_type": "stream",
     "text": [
      "100%|██████████| 400/400 [00:42<00:00,  9.31it/s]\n"
     ]
    },
    {
     "name": "stdout",
     "output_type": "stream",
     "text": [
      "Overall validation loss: tensor(0.9337, device='cuda:0')\n",
      "Average F1 Validation score for whole sentence class 0 : 0.3272848185445563\n",
      "Average F1 Validation score for whole sentence class 1 : 0.9300203090333197\n",
      "Average Accuracy Validation score whole sentence  : 0.8732281526239231\n",
      "Average mcc Validation score whole sentence : 0.287055143069318\n",
      "Classification Report :\n",
      "               precision    recall  f1-score   support\n",
      "\n",
      "           0       0.50      0.24      0.33     28264\n",
      "           1       0.90      0.96      0.93    195161\n",
      "\n",
      "    accuracy                           0.87    223425\n",
      "   macro avg       0.70      0.60      0.63    223425\n",
      "weighted avg       0.85      0.87      0.85    223425\n",
      "\n"
     ]
    },
    {
     "name": "stderr",
     "output_type": "stream",
     "text": [
      "  0%|          | 0/400 [00:00<?, ?it/s]"
     ]
    },
    {
     "name": "stdout",
     "output_type": "stream",
     "text": [
      "---------Running validation for teacher -------------\n"
     ]
    },
    {
     "name": "stderr",
     "output_type": "stream",
     "text": [
      "100%|██████████| 400/400 [00:41<00:00,  9.59it/s]\n"
     ]
    },
    {
     "name": "stdout",
     "output_type": "stream",
     "text": [
      "Overall validation loss: tensor(0.9220, device='cuda:0')\n",
      "Average F1 Validation score for whole sentence class 0 : 0.33023266822883385\n",
      "Average F1 Validation score for whole sentence class 1 : 0.930061962278887\n",
      "Average Accuracy Validation score whole sentence  : 0.8733489985453732\n",
      "Average mcc Validation score whole sentence : 0.2894226830025728\n",
      "Classification Report :\n",
      "               precision    recall  f1-score   support\n",
      "\n",
      "           0       0.50      0.25      0.33     28264\n",
      "           1       0.90      0.96      0.93    195161\n",
      "\n",
      "    accuracy                           0.87    223425\n",
      "   macro avg       0.70      0.61      0.63    223425\n",
      "weighted avg       0.85      0.87      0.85    223425\n",
      "\n"
     ]
    },
    {
     "name": "stderr",
     "output_type": "stream",
     "text": [
      "  0%|          | 0/1475 [00:00<?, ?it/s]"
     ]
    },
    {
     "name": "stdout",
     "output_type": "stream",
     "text": [
      "Current epoch is 7 of 30\n"
     ]
    },
    {
     "name": "stderr",
     "output_type": "stream",
     "text": [
      " 14%|█▎        | 201/1475 [01:45<11:08,  1.91it/s]"
     ]
    },
    {
     "name": "stdout",
     "output_type": "stream",
     "text": [
      "train loss :  0.3529306602291763\n",
      "Consistency Cost : 0.22869948968291282\n",
      "Classification Cost : 0.4771618311293423\n"
     ]
    },
    {
     "name": "stderr",
     "output_type": "stream",
     "text": [
      " 27%|██▋       | 401/1475 [03:31<09:40,  1.85it/s]"
     ]
    },
    {
     "name": "stdout",
     "output_type": "stream",
     "text": [
      "train loss :  0.349608460245654\n",
      "Consistency Cost : 0.2380722675472498\n",
      "Classification Cost : 0.46114465227350593\n"
     ]
    },
    {
     "name": "stderr",
     "output_type": "stream",
     "text": [
      " 41%|████      | 601/1475 [05:18<07:41,  1.89it/s]"
     ]
    },
    {
     "name": "stdout",
     "output_type": "stream",
     "text": [
      "train loss :  0.3431341157356898\n",
      "Consistency Cost : 0.23604031798740227\n",
      "Classification Cost : 0.4502279127854854\n"
     ]
    },
    {
     "name": "stderr",
     "output_type": "stream",
     "text": [
      " 54%|█████▍    | 801/1475 [07:03<05:56,  1.89it/s]"
     ]
    },
    {
     "name": "stdout",
     "output_type": "stream",
     "text": [
      "train loss :  0.345345274633728\n",
      "Consistency Cost : 0.23663394182920455\n",
      "Classification Cost : 0.45405660638352857\n"
     ]
    },
    {
     "name": "stderr",
     "output_type": "stream",
     "text": [
      " 68%|██████▊   | 1001/1475 [08:51<04:18,  1.83it/s]"
     ]
    },
    {
     "name": "stdout",
     "output_type": "stream",
     "text": [
      "train loss :  0.34532106867805124\n",
      "Consistency Cost : 0.23827335944771766\n",
      "Classification Cost : 0.4523687770273536\n"
     ]
    },
    {
     "name": "stderr",
     "output_type": "stream",
     "text": [
      " 81%|████████▏ | 1201/1475 [10:36<02:24,  1.90it/s]"
     ]
    },
    {
     "name": "stdout",
     "output_type": "stream",
     "text": [
      "train loss :  0.34672998896489543\n",
      "Consistency Cost : 0.23901173893983166\n",
      "Classification Cost : 0.4544482381719475\n"
     ]
    },
    {
     "name": "stderr",
     "output_type": "stream",
     "text": [
      " 95%|█████████▍| 1401/1475 [12:21<00:39,  1.89it/s]"
     ]
    },
    {
     "name": "stdout",
     "output_type": "stream",
     "text": [
      "train loss :  0.3487652758029955\n",
      "Consistency Cost : 0.239042580537498\n",
      "Classification Cost : 0.4584879702422768\n"
     ]
    },
    {
     "name": "stderr",
     "output_type": "stream",
     "text": [
      "100%|██████████| 1475/1475 [13:01<00:00,  1.89it/s]\n",
      "  0%|          | 0/400 [00:00<?, ?it/s]"
     ]
    },
    {
     "name": "stdout",
     "output_type": "stream",
     "text": [
      "---------Running validation for student -------------\n"
     ]
    },
    {
     "name": "stderr",
     "output_type": "stream",
     "text": [
      "100%|██████████| 400/400 [00:42<00:00,  9.32it/s]\n"
     ]
    },
    {
     "name": "stdout",
     "output_type": "stream",
     "text": [
      "Overall validation loss: tensor(0.9819, device='cuda:0')\n",
      "Average F1 Validation score for whole sentence class 0 : 0.32424649644845466\n",
      "Average F1 Validation score for whole sentence class 1 : 0.9304996816214108\n",
      "Average Accuracy Validation score whole sentence  : 0.873962179702361\n",
      "Average mcc Validation score whole sentence : 0.2868443607765691\n",
      "Classification Report :\n",
      "               precision    recall  f1-score   support\n",
      "\n",
      "           0       0.50      0.24      0.32     28264\n",
      "           1       0.90      0.97      0.93    195161\n",
      "\n",
      "    accuracy                           0.87    223425\n",
      "   macro avg       0.70      0.60      0.63    223425\n",
      "weighted avg       0.85      0.87      0.85    223425\n",
      "\n"
     ]
    },
    {
     "name": "stderr",
     "output_type": "stream",
     "text": [
      "  0%|          | 0/400 [00:00<?, ?it/s]"
     ]
    },
    {
     "name": "stdout",
     "output_type": "stream",
     "text": [
      "---------Running validation for teacher -------------\n"
     ]
    },
    {
     "name": "stderr",
     "output_type": "stream",
     "text": [
      "100%|██████████| 400/400 [00:42<00:00,  9.42it/s]\n"
     ]
    },
    {
     "name": "stdout",
     "output_type": "stream",
     "text": [
      "Overall validation loss: tensor(0.9853, device='cuda:0')\n",
      "Average F1 Validation score for whole sentence class 0 : 0.3231566820276498\n",
      "Average F1 Validation score for whole sentence class 1 : 0.9304023337430217\n",
      "Average Accuracy Validation score whole sentence  : 0.87378314870762\n",
      "Average mcc Validation score whole sentence : 0.28562094783281355\n",
      "Classification Report :\n",
      "               precision    recall  f1-score   support\n",
      "\n",
      "           0       0.50      0.24      0.32     28264\n",
      "           1       0.90      0.97      0.93    195161\n",
      "\n",
      "    accuracy                           0.87    223425\n",
      "   macro avg       0.70      0.60      0.63    223425\n",
      "weighted avg       0.85      0.87      0.85    223425\n",
      "\n"
     ]
    },
    {
     "name": "stderr",
     "output_type": "stream",
     "text": [
      "  0%|          | 0/1475 [00:00<?, ?it/s]"
     ]
    },
    {
     "name": "stdout",
     "output_type": "stream",
     "text": [
      "Current epoch is 8 of 30\n"
     ]
    },
    {
     "name": "stderr",
     "output_type": "stream",
     "text": [
      " 14%|█▎        | 201/1475 [01:45<11:10,  1.90it/s]"
     ]
    },
    {
     "name": "stdout",
     "output_type": "stream",
     "text": [
      "train loss :  0.3252021073363721\n",
      "Consistency Cost : 0.22556866716593504\n",
      "Classification Cost : 0.4248355467058718\n"
     ]
    },
    {
     "name": "stderr",
     "output_type": "stream",
     "text": [
      " 27%|██▋       | 401/1475 [03:32<09:36,  1.86it/s]"
     ]
    },
    {
     "name": "stdout",
     "output_type": "stream",
     "text": [
      "train loss :  0.3228544553555548\n",
      "Consistency Cost : 0.23250379312783478\n",
      "Classification Cost : 0.4132051160186529\n"
     ]
    },
    {
     "name": "stderr",
     "output_type": "stream",
     "text": [
      " 41%|████      | 601/1475 [05:19<07:40,  1.90it/s]"
     ]
    },
    {
     "name": "stdout",
     "output_type": "stream",
     "text": [
      "train loss :  0.3278201361310979\n",
      "Consistency Cost : 0.23730517896513145\n",
      "Classification Cost : 0.4183350924185167\n"
     ]
    },
    {
     "name": "stderr",
     "output_type": "stream",
     "text": [
      " 54%|█████▍    | 801/1475 [07:04<05:55,  1.90it/s]"
     ]
    },
    {
     "name": "stdout",
     "output_type": "stream",
     "text": [
      "train loss :  0.328895665416494\n",
      "Consistency Cost : 0.2399362599523738\n",
      "Classification Cost : 0.41785507046617565\n"
     ]
    },
    {
     "name": "stderr",
     "output_type": "stream",
     "text": [
      " 68%|██████▊   | 1001/1475 [08:50<04:14,  1.86it/s]"
     ]
    },
    {
     "name": "stdout",
     "output_type": "stream",
     "text": [
      "train loss :  0.32965202677622435\n",
      "Consistency Cost : 0.2424016486145556\n",
      "Classification Cost : 0.4169024045933038\n"
     ]
    },
    {
     "name": "stderr",
     "output_type": "stream",
     "text": [
      " 81%|████████▏ | 1201/1475 [10:37<02:24,  1.90it/s]"
     ]
    },
    {
     "name": "stdout",
     "output_type": "stream",
     "text": [
      "train loss :  0.32806985429798563\n",
      "Consistency Cost : 0.24307931503591437\n",
      "Classification Cost : 0.4130603931456183\n"
     ]
    },
    {
     "name": "stderr",
     "output_type": "stream",
     "text": [
      " 95%|█████████▍| 1401/1475 [12:22<00:39,  1.90it/s]"
     ]
    },
    {
     "name": "stdout",
     "output_type": "stream",
     "text": [
      "train loss :  0.3277989348902234\n",
      "Consistency Cost : 0.24476265393463628\n",
      "Classification Cost : 0.4108352153641837\n"
     ]
    },
    {
     "name": "stderr",
     "output_type": "stream",
     "text": [
      "100%|██████████| 1475/1475 [13:01<00:00,  1.89it/s]\n",
      "  0%|          | 0/400 [00:00<?, ?it/s]"
     ]
    },
    {
     "name": "stdout",
     "output_type": "stream",
     "text": [
      "---------Running validation for student -------------\n"
     ]
    },
    {
     "name": "stderr",
     "output_type": "stream",
     "text": [
      "100%|██████████| 400/400 [00:42<00:00,  9.44it/s]\n"
     ]
    },
    {
     "name": "stdout",
     "output_type": "stream",
     "text": [
      "Overall validation loss: tensor(1.0938, device='cuda:0')\n",
      "Average F1 Validation score for whole sentence class 0 : 0.3107545900700032\n",
      "Average F1 Validation score for whole sentence class 1 : 0.9319734748923677\n",
      "Average Accuracy Validation score whole sentence  : 0.8761687367125434\n",
      "Average mcc Validation score whole sentence : 0.2841427500634839\n",
      "Classification Report :\n",
      "               precision    recall  f1-score   support\n",
      "\n",
      "           0       0.53      0.22      0.31     28264\n",
      "           1       0.90      0.97      0.93    195161\n",
      "\n",
      "    accuracy                           0.88    223425\n",
      "   macro avg       0.71      0.60      0.62    223425\n",
      "weighted avg       0.85      0.88      0.85    223425\n",
      "\n"
     ]
    },
    {
     "name": "stderr",
     "output_type": "stream",
     "text": [
      "  0%|          | 0/400 [00:00<?, ?it/s]"
     ]
    },
    {
     "name": "stdout",
     "output_type": "stream",
     "text": [
      "---------Running validation for teacher -------------\n"
     ]
    },
    {
     "name": "stderr",
     "output_type": "stream",
     "text": [
      "100%|██████████| 400/400 [00:43<00:00,  9.29it/s]\n"
     ]
    },
    {
     "name": "stdout",
     "output_type": "stream",
     "text": [
      "Overall validation loss: tensor(1.0318, device='cuda:0')\n",
      "Average F1 Validation score for whole sentence class 0 : 0.34237152851139746\n",
      "Average F1 Validation score for whole sentence class 1 : 0.9307042866719605\n",
      "Average Accuracy Validation score whole sentence  : 0.874620118608034\n",
      "Average mcc Validation score whole sentence : 0.3010709547094687\n",
      "Classification Report :\n",
      "               precision    recall  f1-score   support\n",
      "\n",
      "           0       0.51      0.26      0.34     28264\n",
      "           1       0.90      0.96      0.93    195161\n",
      "\n",
      "    accuracy                           0.87    223425\n",
      "   macro avg       0.70      0.61      0.64    223425\n",
      "weighted avg       0.85      0.87      0.86    223425\n",
      "\n"
     ]
    },
    {
     "name": "stderr",
     "output_type": "stream",
     "text": [
      "  0%|          | 0/1475 [00:00<?, ?it/s]"
     ]
    },
    {
     "name": "stdout",
     "output_type": "stream",
     "text": [
      "Current epoch is 9 of 30\n"
     ]
    },
    {
     "name": "stderr",
     "output_type": "stream",
     "text": [
      " 14%|█▎        | 201/1475 [01:45<11:07,  1.91it/s]"
     ]
    },
    {
     "name": "stdout",
     "output_type": "stream",
     "text": [
      "train loss :  0.3180319951754063\n",
      "Consistency Cost : 0.24022820949554444\n",
      "Classification Cost : 0.39583577912300827\n"
     ]
    },
    {
     "name": "stderr",
     "output_type": "stream",
     "text": [
      " 27%|██▋       | 401/1475 [03:30<09:28,  1.89it/s]"
     ]
    },
    {
     "name": "stdout",
     "output_type": "stream",
     "text": [
      "train loss :  0.3133433166099712\n",
      "Consistency Cost : 0.2410858098603785\n",
      "Classification Cost : 0.385600822577253\n"
     ]
    },
    {
     "name": "stderr",
     "output_type": "stream",
     "text": [
      " 41%|████      | 601/1475 [05:18<07:40,  1.90it/s]"
     ]
    },
    {
     "name": "stdout",
     "output_type": "stream",
     "text": [
      "train loss :  0.31410671850976846\n",
      "Consistency Cost : 0.24653697690616053\n",
      "Classification Cost : 0.38167645905011643\n"
     ]
    },
    {
     "name": "stderr",
     "output_type": "stream",
     "text": [
      " 54%|█████▍    | 801/1475 [07:03<05:55,  1.89it/s]"
     ]
    },
    {
     "name": "stdout",
     "output_type": "stream",
     "text": [
      "train loss :  0.3142280008853413\n",
      "Consistency Cost : 0.2470931765716523\n",
      "Classification Cost : 0.3813628245878499\n"
     ]
    },
    {
     "name": "stderr",
     "output_type": "stream",
     "text": [
      " 68%|██████▊   | 1001/1475 [08:49<04:13,  1.87it/s]"
     ]
    },
    {
     "name": "stdout",
     "output_type": "stream",
     "text": [
      "train loss :  0.31658077171631155\n",
      "Consistency Cost : 0.2502323264181614\n",
      "Classification Cost : 0.3829292164957151\n"
     ]
    },
    {
     "name": "stderr",
     "output_type": "stream",
     "text": [
      " 81%|████████▏ | 1201/1475 [10:37<02:24,  1.90it/s]"
     ]
    },
    {
     "name": "stdout",
     "output_type": "stream",
     "text": [
      "train loss :  0.31749299050774427\n",
      "Consistency Cost : 0.251907232919087\n",
      "Classification Cost : 0.38307874775414047\n"
     ]
    },
    {
     "name": "stderr",
     "output_type": "stream",
     "text": [
      " 95%|█████████▍| 1401/1475 [12:22<00:38,  1.90it/s]"
     ]
    },
    {
     "name": "stdout",
     "output_type": "stream",
     "text": [
      "train loss :  0.31847055433451066\n",
      "Consistency Cost : 0.2531689244934491\n",
      "Classification Cost : 0.383772183733194\n"
     ]
    },
    {
     "name": "stderr",
     "output_type": "stream",
     "text": [
      "100%|██████████| 1475/1475 [13:01<00:00,  1.89it/s]\n",
      "  0%|          | 0/400 [00:00<?, ?it/s]"
     ]
    },
    {
     "name": "stdout",
     "output_type": "stream",
     "text": [
      "---------Running validation for student -------------\n"
     ]
    },
    {
     "name": "stderr",
     "output_type": "stream",
     "text": [
      "100%|██████████| 400/400 [00:42<00:00,  9.46it/s]\n"
     ]
    },
    {
     "name": "stdout",
     "output_type": "stream",
     "text": [
      "Overall validation loss: tensor(1.0902, device='cuda:0')\n",
      "Average F1 Validation score for whole sentence class 0 : 0.3344818572820379\n",
      "Average F1 Validation score for whole sentence class 1 : 0.9308071063105441\n",
      "Average Accuracy Validation score whole sentence  : 0.8746469732572452\n",
      "Average mcc Validation score whole sentence : 0.2956798324358193\n",
      "Classification Report :\n",
      "               precision    recall  f1-score   support\n",
      "\n",
      "           0       0.51      0.25      0.33     28264\n",
      "           1       0.90      0.97      0.93    195161\n",
      "\n",
      "    accuracy                           0.87    223425\n",
      "   macro avg       0.70      0.61      0.63    223425\n",
      "weighted avg       0.85      0.87      0.86    223425\n",
      "\n"
     ]
    },
    {
     "name": "stderr",
     "output_type": "stream",
     "text": [
      "  0%|          | 0/400 [00:00<?, ?it/s]"
     ]
    },
    {
     "name": "stdout",
     "output_type": "stream",
     "text": [
      "---------Running validation for teacher -------------\n"
     ]
    },
    {
     "name": "stderr",
     "output_type": "stream",
     "text": [
      "100%|██████████| 400/400 [00:41<00:00,  9.56it/s]\n"
     ]
    },
    {
     "name": "stdout",
     "output_type": "stream",
     "text": [
      "Overall validation loss: tensor(1.0674, device='cuda:0')\n",
      "Average F1 Validation score for whole sentence class 0 : 0.3427386472191803\n",
      "Average F1 Validation score for whole sentence class 1 : 0.9301638151070355\n",
      "Average Accuracy Validation score whole sentence  : 0.8737428667338033\n",
      "Average mcc Validation score whole sentence : 0.2991855098497766\n",
      "Classification Report :\n",
      "               precision    recall  f1-score   support\n",
      "\n",
      "           0       0.50      0.26      0.34     28264\n",
      "           1       0.90      0.96      0.93    195161\n",
      "\n",
      "    accuracy                           0.87    223425\n",
      "   macro avg       0.70      0.61      0.64    223425\n",
      "weighted avg       0.85      0.87      0.86    223425\n",
      "\n"
     ]
    },
    {
     "name": "stderr",
     "output_type": "stream",
     "text": [
      "  0%|          | 0/1475 [00:00<?, ?it/s]"
     ]
    },
    {
     "name": "stdout",
     "output_type": "stream",
     "text": [
      "Current epoch is 10 of 30\n"
     ]
    },
    {
     "name": "stderr",
     "output_type": "stream",
     "text": [
      " 14%|█▎        | 201/1475 [01:45<11:04,  1.92it/s]"
     ]
    },
    {
     "name": "stdout",
     "output_type": "stream",
     "text": [
      "train loss :  0.28873913644813\n",
      "Consistency Cost : 0.2312275341153145\n",
      "Classification Cost : 0.3462507376959547\n"
     ]
    },
    {
     "name": "stderr",
     "output_type": "stream",
     "text": [
      " 27%|██▋       | 401/1475 [03:30<09:26,  1.89it/s]"
     ]
    },
    {
     "name": "stdout",
     "output_type": "stream",
     "text": [
      "train loss :  0.2952999569196254\n",
      "Consistency Cost : 0.2334590943902731\n",
      "Classification Cost : 0.3571408186969347\n"
     ]
    },
    {
     "name": "stderr",
     "output_type": "stream",
     "text": [
      " 41%|████      | 601/1475 [05:17<07:58,  1.83it/s]"
     ]
    },
    {
     "name": "stdout",
     "output_type": "stream",
     "text": [
      "train loss :  0.2904173221811652\n",
      "Consistency Cost : 0.23281279335419336\n",
      "Classification Cost : 0.34802185057196766\n"
     ]
    },
    {
     "name": "stderr",
     "output_type": "stream",
     "text": [
      " 54%|█████▍    | 801/1475 [07:02<05:54,  1.90it/s]"
     ]
    },
    {
     "name": "stdout",
     "output_type": "stream",
     "text": [
      "train loss :  0.29678727574646474\n",
      "Consistency Cost : 0.23816512694582342\n",
      "Classification Cost : 0.35540942412917503\n"
     ]
    },
    {
     "name": "stderr",
     "output_type": "stream",
     "text": [
      " 68%|██████▊   | 1001/1475 [08:48<04:10,  1.89it/s]"
     ]
    },
    {
     "name": "stdout",
     "output_type": "stream",
     "text": [
      "train loss :  0.2988080152440816\n",
      "Consistency Cost : 0.24470153965801\n",
      "Classification Cost : 0.35291449050512164\n"
     ]
    },
    {
     "name": "stderr",
     "output_type": "stream",
     "text": [
      " 81%|████████▏ | 1201/1475 [10:35<02:26,  1.87it/s]"
     ]
    },
    {
     "name": "stdout",
     "output_type": "stream",
     "text": [
      "train loss :  0.3008064516028389\n",
      "Consistency Cost : 0.24564373238633078\n",
      "Classification Cost : 0.3559691706711116\n"
     ]
    },
    {
     "name": "stderr",
     "output_type": "stream",
     "text": [
      " 95%|█████████▍| 1401/1475 [12:20<00:38,  1.91it/s]"
     ]
    },
    {
     "name": "stdout",
     "output_type": "stream",
     "text": [
      "train loss :  0.30103337253443896\n",
      "Consistency Cost : 0.2451085052878729\n",
      "Classification Cost : 0.35695823943242433\n"
     ]
    },
    {
     "name": "stderr",
     "output_type": "stream",
     "text": [
      "100%|██████████| 1475/1475 [12:59<00:00,  1.89it/s]\n",
      "  0%|          | 0/400 [00:00<?, ?it/s]"
     ]
    },
    {
     "name": "stdout",
     "output_type": "stream",
     "text": [
      "---------Running validation for student -------------\n"
     ]
    },
    {
     "name": "stderr",
     "output_type": "stream",
     "text": [
      "100%|██████████| 400/400 [00:41<00:00,  9.56it/s]\n"
     ]
    },
    {
     "name": "stdout",
     "output_type": "stream",
     "text": [
      "Overall validation loss: tensor(1.2094, device='cuda:0')\n",
      "Average F1 Validation score for whole sentence class 0 : 0.3387628239583089\n",
      "Average F1 Validation score for whole sentence class 1 : 0.9299730979881651\n",
      "Average Accuracy Validation score whole sentence  : 0.8733579500951102\n",
      "Average mcc Validation score whole sentence : 0.2954497285000922\n",
      "Classification Report :\n",
      "               precision    recall  f1-score   support\n",
      "\n",
      "           0       0.50      0.26      0.34     28264\n",
      "           1       0.90      0.96      0.93    195161\n",
      "\n",
      "    accuracy                           0.87    223425\n",
      "   macro avg       0.70      0.61      0.63    223425\n",
      "weighted avg       0.85      0.87      0.86    223425\n",
      "\n"
     ]
    },
    {
     "name": "stderr",
     "output_type": "stream",
     "text": [
      "  0%|          | 0/400 [00:00<?, ?it/s]"
     ]
    },
    {
     "name": "stdout",
     "output_type": "stream",
     "text": [
      "---------Running validation for teacher -------------\n"
     ]
    },
    {
     "name": "stderr",
     "output_type": "stream",
     "text": [
      "100%|██████████| 400/400 [00:42<00:00,  9.48it/s]\n"
     ]
    },
    {
     "name": "stdout",
     "output_type": "stream",
     "text": [
      "Overall validation loss: tensor(1.1524, device='cuda:0')\n",
      "Average F1 Validation score for whole sentence class 0 : 0.33758173031365485\n",
      "Average F1 Validation score for whole sentence class 1 : 0.9308962578897682\n",
      "Average Accuracy Validation score whole sentence  : 0.8748483831263287\n",
      "Average mcc Validation score whole sentence : 0.29833361077287085\n",
      "Classification Report :\n",
      "               precision    recall  f1-score   support\n",
      "\n",
      "           0       0.51      0.25      0.34     28264\n",
      "           1       0.90      0.97      0.93    195161\n",
      "\n",
      "    accuracy                           0.87    223425\n",
      "   macro avg       0.70      0.61      0.63    223425\n",
      "weighted avg       0.85      0.87      0.86    223425\n",
      "\n"
     ]
    },
    {
     "name": "stderr",
     "output_type": "stream",
     "text": [
      "  0%|          | 0/1475 [00:00<?, ?it/s]"
     ]
    },
    {
     "name": "stdout",
     "output_type": "stream",
     "text": [
      "Current epoch is 11 of 30\n"
     ]
    },
    {
     "name": "stderr",
     "output_type": "stream",
     "text": [
      " 14%|█▎        | 201/1475 [01:47<11:12,  1.89it/s]"
     ]
    },
    {
     "name": "stdout",
     "output_type": "stream",
     "text": [
      "train loss :  0.2908164101280272\n",
      "Consistency Cost : 0.25244825465604664\n",
      "Classification Cost : 0.329184565320611\n"
     ]
    },
    {
     "name": "stderr",
     "output_type": "stream",
     "text": [
      " 27%|██▋       | 401/1475 [03:33<09:27,  1.89it/s]"
     ]
    },
    {
     "name": "stdout",
     "output_type": "stream",
     "text": [
      "train loss :  0.28413172864355146\n",
      "Consistency Cost : 0.24527763126417995\n",
      "Classification Cost : 0.3229858264583163\n"
     ]
    },
    {
     "name": "stderr",
     "output_type": "stream",
     "text": [
      " 41%|████      | 601/1475 [05:20<07:51,  1.86it/s]"
     ]
    },
    {
     "name": "stdout",
     "output_type": "stream",
     "text": [
      "train loss :  0.28378932519505423\n",
      "Consistency Cost : 0.24552909296626846\n",
      "Classification Cost : 0.32204955790036666\n"
     ]
    },
    {
     "name": "stderr",
     "output_type": "stream",
     "text": [
      " 54%|█████▍    | 801/1475 [07:06<05:55,  1.89it/s]"
     ]
    },
    {
     "name": "stdout",
     "output_type": "stream",
     "text": [
      "train loss :  0.289968003295362\n",
      "Consistency Cost : 0.25082471877336504\n",
      "Classification Cost : 0.3291112882061861\n"
     ]
    },
    {
     "name": "stderr",
     "output_type": "stream",
     "text": [
      " 68%|██████▊   | 1001/1475 [08:52<04:10,  1.89it/s]"
     ]
    },
    {
     "name": "stdout",
     "output_type": "stream",
     "text": [
      "train loss :  0.2917921616695821\n",
      "Consistency Cost : 0.25223174701817336\n",
      "Classification Cost : 0.3313525769133121\n"
     ]
    },
    {
     "name": "stderr",
     "output_type": "stream",
     "text": [
      " 81%|████████▏ | 1201/1475 [10:39<02:29,  1.83it/s]"
     ]
    },
    {
     "name": "stdout",
     "output_type": "stream",
     "text": [
      "train loss :  0.2893847924874475\n",
      "Consistency Cost : 0.24962087835650892\n",
      "Classification Cost : 0.329148706777487\n"
     ]
    },
    {
     "name": "stderr",
     "output_type": "stream",
     "text": [
      " 95%|█████████▍| 1401/1475 [12:25<00:38,  1.90it/s]"
     ]
    },
    {
     "name": "stdout",
     "output_type": "stream",
     "text": [
      "train loss :  0.28843336254491336\n",
      "Consistency Cost : 0.24969538210359002\n",
      "Classification Cost : 0.3271713432882513\n"
     ]
    },
    {
     "name": "stderr",
     "output_type": "stream",
     "text": [
      "100%|██████████| 1475/1475 [13:04<00:00,  1.88it/s]\n",
      "  0%|          | 0/400 [00:00<?, ?it/s]"
     ]
    },
    {
     "name": "stdout",
     "output_type": "stream",
     "text": [
      "---------Running validation for student -------------\n"
     ]
    },
    {
     "name": "stderr",
     "output_type": "stream",
     "text": [
      "100%|██████████| 400/400 [00:41<00:00,  9.60it/s]\n"
     ]
    },
    {
     "name": "stdout",
     "output_type": "stream",
     "text": [
      "Overall validation loss: tensor(1.1446, device='cuda:0')\n",
      "Average F1 Validation score for whole sentence class 0 : 0.34682505102391814\n",
      "Average F1 Validation score for whole sentence class 1 : 0.9293651718690715\n",
      "Average Accuracy Validation score whole sentence  : 0.8725165044198276\n",
      "Average mcc Validation score whole sentence : 0.2992707331427194\n",
      "Classification Report :\n",
      "               precision    recall  f1-score   support\n",
      "\n",
      "           0       0.49      0.27      0.35     28264\n",
      "           1       0.90      0.96      0.93    195161\n",
      "\n",
      "    accuracy                           0.87    223425\n",
      "   macro avg       0.70      0.61      0.64    223425\n",
      "weighted avg       0.85      0.87      0.86    223425\n",
      "\n"
     ]
    },
    {
     "name": "stderr",
     "output_type": "stream",
     "text": [
      "  0%|          | 0/400 [00:00<?, ?it/s]"
     ]
    },
    {
     "name": "stdout",
     "output_type": "stream",
     "text": [
      "---------Running validation for teacher -------------\n"
     ]
    },
    {
     "name": "stderr",
     "output_type": "stream",
     "text": [
      "100%|██████████| 400/400 [00:41<00:00,  9.63it/s]\n"
     ]
    },
    {
     "name": "stdout",
     "output_type": "stream",
     "text": [
      "Overall validation loss: tensor(1.2122, device='cuda:0')\n",
      "Average F1 Validation score for whole sentence class 0 : 0.3425759046166644\n",
      "Average F1 Validation score for whole sentence class 1 : 0.929499568850168\n",
      "Average Accuracy Validation score whole sentence  : 0.8726552534407519\n",
      "Average mcc Validation score whole sentence : 0.2965182481485629\n",
      "Classification Report :\n",
      "               precision    recall  f1-score   support\n",
      "\n",
      "           0       0.49      0.26      0.34     28264\n",
      "           1       0.90      0.96      0.93    195161\n",
      "\n",
      "    accuracy                           0.87    223425\n",
      "   macro avg       0.70      0.61      0.64    223425\n",
      "weighted avg       0.85      0.87      0.86    223425\n",
      "\n"
     ]
    },
    {
     "name": "stderr",
     "output_type": "stream",
     "text": [
      "  0%|          | 0/1475 [00:00<?, ?it/s]"
     ]
    },
    {
     "name": "stdout",
     "output_type": "stream",
     "text": [
      "Current epoch is 12 of 30\n"
     ]
    },
    {
     "name": "stderr",
     "output_type": "stream",
     "text": [
      " 14%|█▎        | 201/1475 [01:45<11:09,  1.90it/s]"
     ]
    },
    {
     "name": "stdout",
     "output_type": "stream",
     "text": [
      "train loss :  0.2566366421338171\n",
      "Consistency Cost : 0.21852057450450957\n",
      "Classification Cost : 0.29475271014496685\n"
     ]
    },
    {
     "name": "stderr",
     "output_type": "stream",
     "text": [
      " 27%|██▋       | 401/1475 [03:30<09:26,  1.90it/s]"
     ]
    },
    {
     "name": "stdout",
     "output_type": "stream",
     "text": [
      "train loss :  0.2684510170482099\n",
      "Consistency Cost : 0.2345446539670229\n",
      "Classification Cost : 0.302357379689347\n"
     ]
    },
    {
     "name": "stderr",
     "output_type": "stream",
     "text": [
      " 41%|████      | 601/1475 [05:17<07:50,  1.86it/s]"
     ]
    },
    {
     "name": "stdout",
     "output_type": "stream",
     "text": [
      "train loss :  0.269925993407766\n",
      "Consistency Cost : 0.23674961456408103\n",
      "Classification Cost : 0.3031023716259127\n"
     ]
    },
    {
     "name": "stderr",
     "output_type": "stream",
     "text": [
      " 54%|█████▍    | 801/1475 [07:06<05:58,  1.88it/s]"
     ]
    },
    {
     "name": "stdout",
     "output_type": "stream",
     "text": [
      "train loss :  0.27334698670078067\n",
      "Consistency Cost : 0.24219440965680405\n",
      "Classification Cost : 0.3044995631754864\n"
     ]
    },
    {
     "name": "stderr",
     "output_type": "stream",
     "text": [
      " 68%|██████▊   | 1001/1475 [08:51<04:10,  1.89it/s]"
     ]
    },
    {
     "name": "stdout",
     "output_type": "stream",
     "text": [
      "train loss :  0.2739690411072224\n",
      "Consistency Cost : 0.24301919729076327\n",
      "Classification Cost : 0.304918884312734\n"
     ]
    },
    {
     "name": "stderr",
     "output_type": "stream",
     "text": [
      " 81%|████████▏ | 1201/1475 [10:38<02:27,  1.85it/s]"
     ]
    },
    {
     "name": "stdout",
     "output_type": "stream",
     "text": [
      "train loss :  0.2749470339094599\n",
      "Consistency Cost : 0.24302197493457545\n",
      "Classification Cost : 0.3068720925001738\n"
     ]
    },
    {
     "name": "stderr",
     "output_type": "stream",
     "text": [
      " 95%|█████████▍| 1401/1475 [12:26<00:39,  1.89it/s]"
     ]
    },
    {
     "name": "stdout",
     "output_type": "stream",
     "text": [
      "train loss :  0.2755213819696967\n",
      "Consistency Cost : 0.24398071020176368\n",
      "Classification Cost : 0.30706205344559356\n"
     ]
    },
    {
     "name": "stderr",
     "output_type": "stream",
     "text": [
      "100%|██████████| 1475/1475 [13:05<00:00,  1.88it/s]\n",
      "  0%|          | 0/400 [00:00<?, ?it/s]"
     ]
    },
    {
     "name": "stdout",
     "output_type": "stream",
     "text": [
      "---------Running validation for student -------------\n"
     ]
    },
    {
     "name": "stderr",
     "output_type": "stream",
     "text": [
      "100%|██████████| 400/400 [00:41<00:00,  9.59it/s]\n"
     ]
    },
    {
     "name": "stdout",
     "output_type": "stream",
     "text": [
      "Overall validation loss: tensor(1.2935, device='cuda:0')\n",
      "Average F1 Validation score for whole sentence class 0 : 0.3474659096197701\n",
      "Average F1 Validation score for whole sentence class 1 : 0.9305677980370213\n",
      "Average Accuracy Validation score whole sentence  : 0.8744903211368468\n",
      "Average mcc Validation score whole sentence : 0.3043136677998224\n",
      "Classification Report :\n",
      "               precision    recall  f1-score   support\n",
      "\n",
      "           0       0.51      0.26      0.35     28264\n",
      "           1       0.90      0.96      0.93    195161\n",
      "\n",
      "    accuracy                           0.87    223425\n",
      "   macro avg       0.70      0.61      0.64    223425\n",
      "weighted avg       0.85      0.87      0.86    223425\n",
      "\n"
     ]
    },
    {
     "name": "stderr",
     "output_type": "stream",
     "text": [
      "  0%|          | 0/400 [00:00<?, ?it/s]"
     ]
    },
    {
     "name": "stdout",
     "output_type": "stream",
     "text": [
      "---------Running validation for teacher -------------\n"
     ]
    },
    {
     "name": "stderr",
     "output_type": "stream",
     "text": [
      "100%|██████████| 400/400 [00:42<00:00,  9.50it/s]\n"
     ]
    },
    {
     "name": "stdout",
     "output_type": "stream",
     "text": [
      "Overall validation loss: tensor(1.2391, device='cuda:0')\n",
      "Average F1 Validation score for whole sentence class 0 : 0.3412437857611856\n",
      "Average F1 Validation score for whole sentence class 1 : 0.9305007842535736\n",
      "Average Accuracy Validation score whole sentence  : 0.8742665323934206\n",
      "Average mcc Validation score whole sentence : 0.29940821140312995\n",
      "Classification Report :\n",
      "               precision    recall  f1-score   support\n",
      "\n",
      "           0       0.51      0.26      0.34     28264\n",
      "           1       0.90      0.96      0.93    195161\n",
      "\n",
      "    accuracy                           0.87    223425\n",
      "   macro avg       0.70      0.61      0.64    223425\n",
      "weighted avg       0.85      0.87      0.86    223425\n",
      "\n"
     ]
    },
    {
     "name": "stderr",
     "output_type": "stream",
     "text": [
      "  0%|          | 0/1475 [00:00<?, ?it/s]"
     ]
    },
    {
     "name": "stdout",
     "output_type": "stream",
     "text": [
      "Current epoch is 13 of 30\n"
     ]
    },
    {
     "name": "stderr",
     "output_type": "stream",
     "text": [
      " 14%|█▎        | 201/1475 [01:47<11:39,  1.82it/s]"
     ]
    },
    {
     "name": "stdout",
     "output_type": "stream",
     "text": [
      "train loss :  0.25660047570243477\n",
      "Consistency Cost : 0.225664099175483\n",
      "Classification Cost : 0.2875368516659364\n"
     ]
    },
    {
     "name": "stderr",
     "output_type": "stream",
     "text": [
      " 27%|██▋       | 401/1475 [03:33<09:23,  1.90it/s]"
     ]
    },
    {
     "name": "stdout",
     "output_type": "stream",
     "text": [
      "train loss :  0.2605084021855146\n",
      "Consistency Cost : 0.23024252518545837\n",
      "Classification Cost : 0.2907742790435441\n"
     ]
    },
    {
     "name": "stderr",
     "output_type": "stream",
     "text": [
      " 41%|████      | 601/1475 [05:18<07:44,  1.88it/s]"
     ]
    },
    {
     "name": "stdout",
     "output_type": "stream",
     "text": [
      "train loss :  0.2637244328514983\n",
      "Consistency Cost : 0.23609604981727897\n",
      "Classification Cost : 0.2913528159369404\n"
     ]
    },
    {
     "name": "stderr",
     "output_type": "stream",
     "text": [
      " 54%|█████▍    | 801/1475 [07:06<06:01,  1.87it/s]"
     ]
    },
    {
     "name": "stdout",
     "output_type": "stream",
     "text": [
      "train loss :  0.2674842741945758\n",
      "Consistency Cost : 0.2395062035904266\n",
      "Classification Cost : 0.29546234515844844\n"
     ]
    },
    {
     "name": "stderr",
     "output_type": "stream",
     "text": [
      " 68%|██████▊   | 1001/1475 [08:51<04:09,  1.90it/s]"
     ]
    },
    {
     "name": "stdout",
     "output_type": "stream",
     "text": [
      "train loss :  0.26638807586021723\n",
      "Consistency Cost : 0.24075197486765681\n",
      "Classification Cost : 0.29202417710237205\n"
     ]
    },
    {
     "name": "stderr",
     "output_type": "stream",
     "text": [
      " 81%|████████▏ | 1201/1475 [10:36<02:25,  1.88it/s]"
     ]
    },
    {
     "name": "stdout",
     "output_type": "stream",
     "text": [
      "train loss :  0.26743193477702637\n",
      "Consistency Cost : 0.24006592750394096\n",
      "Classification Cost : 0.29479794240013385\n"
     ]
    },
    {
     "name": "stderr",
     "output_type": "stream",
     "text": [
      " 95%|█████████▍| 1401/1475 [12:24<00:38,  1.90it/s]"
     ]
    },
    {
     "name": "stdout",
     "output_type": "stream",
     "text": [
      "train loss :  0.2689788076933473\n",
      "Consistency Cost : 0.24218500377211188\n",
      "Classification Cost : 0.29577261166447505\n"
     ]
    },
    {
     "name": "stderr",
     "output_type": "stream",
     "text": [
      "100%|██████████| 1475/1475 [13:03<00:00,  1.88it/s]\n",
      "  0%|          | 0/400 [00:00<?, ?it/s]"
     ]
    },
    {
     "name": "stdout",
     "output_type": "stream",
     "text": [
      "---------Running validation for student -------------\n"
     ]
    },
    {
     "name": "stderr",
     "output_type": "stream",
     "text": [
      "100%|██████████| 400/400 [00:41<00:00,  9.61it/s]\n"
     ]
    },
    {
     "name": "stdout",
     "output_type": "stream",
     "text": [
      "Overall validation loss: tensor(1.1958, device='cuda:0')\n",
      "Average F1 Validation score for whole sentence class 0 : 0.3610531632227321\n",
      "Average F1 Validation score for whole sentence class 1 : 0.9274951346960337\n",
      "Average Accuracy Validation score whole sentence  : 0.8697683786505539\n",
      "Average mcc Validation score whole sentence : 0.30425812259928153\n",
      "Classification Report :\n",
      "               precision    recall  f1-score   support\n",
      "\n",
      "           0       0.48      0.29      0.36     28264\n",
      "           1       0.90      0.95      0.93    195161\n",
      "\n",
      "    accuracy                           0.87    223425\n",
      "   macro avg       0.69      0.62      0.64    223425\n",
      "weighted avg       0.85      0.87      0.86    223425\n",
      "\n"
     ]
    },
    {
     "name": "stderr",
     "output_type": "stream",
     "text": [
      "  0%|          | 0/400 [00:00<?, ?it/s]"
     ]
    },
    {
     "name": "stdout",
     "output_type": "stream",
     "text": [
      "---------Running validation for teacher -------------\n"
     ]
    },
    {
     "name": "stderr",
     "output_type": "stream",
     "text": [
      "100%|██████████| 400/400 [00:41<00:00,  9.60it/s]\n"
     ]
    },
    {
     "name": "stdout",
     "output_type": "stream",
     "text": [
      "Overall validation loss: tensor(1.2962, device='cuda:0')\n",
      "Average F1 Validation score for whole sentence class 0 : 0.34178013405890184\n",
      "Average F1 Validation score for whole sentence class 1 : 0.9302457967542256\n",
      "Average Accuracy Validation score whole sentence  : 0.8738592368803849\n",
      "Average mcc Validation score whole sentence : 0.29878947688069096\n",
      "Classification Report :\n",
      "               precision    recall  f1-score   support\n",
      "\n",
      "           0       0.50      0.26      0.34     28264\n",
      "           1       0.90      0.96      0.93    195161\n",
      "\n",
      "    accuracy                           0.87    223425\n",
      "   macro avg       0.70      0.61      0.64    223425\n",
      "weighted avg       0.85      0.87      0.86    223425\n",
      "\n"
     ]
    },
    {
     "name": "stderr",
     "output_type": "stream",
     "text": [
      "  0%|          | 0/1475 [00:00<?, ?it/s]"
     ]
    },
    {
     "name": "stdout",
     "output_type": "stream",
     "text": [
      "Current epoch is 14 of 30\n"
     ]
    },
    {
     "name": "stderr",
     "output_type": "stream",
     "text": [
      " 14%|█▎        | 201/1475 [01:46<11:23,  1.86it/s]"
     ]
    },
    {
     "name": "stdout",
     "output_type": "stream",
     "text": [
      "train loss :  0.2486448109196499\n",
      "Consistency Cost : 0.23335841096937657\n",
      "Classification Cost : 0.2639312096312642\n"
     ]
    },
    {
     "name": "stderr",
     "output_type": "stream",
     "text": [
      " 27%|██▋       | 401/1475 [03:33<09:21,  1.91it/s]"
     ]
    },
    {
     "name": "stdout",
     "output_type": "stream",
     "text": [
      "train loss :  0.2544629207649268\n",
      "Consistency Cost : 0.23824813317041843\n",
      "Classification Cost : 0.27067770704743455\n"
     ]
    },
    {
     "name": "stderr",
     "output_type": "stream",
     "text": [
      " 41%|████      | 601/1475 [05:17<07:37,  1.91it/s]"
     ]
    },
    {
     "name": "stdout",
     "output_type": "stream",
     "text": [
      "train loss :  0.26089114845575145\n",
      "Consistency Cost : 0.24357318420273563\n",
      "Classification Cost : 0.2782091110649829\n"
     ]
    },
    {
     "name": "stderr",
     "output_type": "stream",
     "text": [
      " 54%|█████▍    | 801/1475 [07:02<05:52,  1.91it/s]"
     ]
    },
    {
     "name": "stdout",
     "output_type": "stream",
     "text": [
      "train loss :  0.2587358420633245\n",
      "Consistency Cost : 0.23986216951394454\n",
      "Classification Cost : 0.2776095136767253\n"
     ]
    },
    {
     "name": "stderr",
     "output_type": "stream",
     "text": [
      " 68%|██████▊   | 1001/1475 [08:47<04:07,  1.92it/s]"
     ]
    },
    {
     "name": "stdout",
     "output_type": "stream",
     "text": [
      "train loss :  0.2601814712202176\n",
      "Consistency Cost : 0.24085678231902422\n",
      "Classification Cost : 0.27950615927763284\n"
     ]
    },
    {
     "name": "stderr",
     "output_type": "stream",
     "text": [
      " 81%|████████▏ | 1201/1475 [10:31<02:23,  1.91it/s]"
     ]
    },
    {
     "name": "stdout",
     "output_type": "stream",
     "text": [
      "train loss :  0.2604019091658605\n",
      "Consistency Cost : 0.24241125818341971\n",
      "Classification Cost : 0.2783925595499265\n"
     ]
    },
    {
     "name": "stderr",
     "output_type": "stream",
     "text": [
      " 95%|█████████▍| 1401/1475 [12:16<00:38,  1.91it/s]"
     ]
    },
    {
     "name": "stdout",
     "output_type": "stream",
     "text": [
      "train loss :  0.26193324287887665\n",
      "Consistency Cost : 0.24682663018416082\n",
      "Classification Cost : 0.27703985518576313\n"
     ]
    },
    {
     "name": "stderr",
     "output_type": "stream",
     "text": [
      "100%|██████████| 1475/1475 [12:55<00:00,  1.90it/s]\n",
      "  0%|          | 0/400 [00:00<?, ?it/s]"
     ]
    },
    {
     "name": "stdout",
     "output_type": "stream",
     "text": [
      "---------Running validation for student -------------\n"
     ]
    },
    {
     "name": "stderr",
     "output_type": "stream",
     "text": [
      "100%|██████████| 400/400 [00:41<00:00,  9.61it/s]\n"
     ]
    },
    {
     "name": "stdout",
     "output_type": "stream",
     "text": [
      "Overall validation loss: tensor(1.3635, device='cuda:0')\n",
      "Average F1 Validation score for whole sentence class 0 : 0.3410060868956832\n",
      "Average F1 Validation score for whole sentence class 1 : 0.9300519096667831\n",
      "Average Accuracy Validation score whole sentence  : 0.8735280295401141\n",
      "Average mcc Validation score whole sentence : 0.2974454578717086\n",
      "Classification Report :\n",
      "               precision    recall  f1-score   support\n",
      "\n",
      "           0       0.50      0.26      0.34     28264\n",
      "           1       0.90      0.96      0.93    195161\n",
      "\n",
      "    accuracy                           0.87    223425\n",
      "   macro avg       0.70      0.61      0.64    223425\n",
      "weighted avg       0.85      0.87      0.86    223425\n",
      "\n"
     ]
    },
    {
     "name": "stderr",
     "output_type": "stream",
     "text": [
      "  0%|          | 0/400 [00:00<?, ?it/s]"
     ]
    },
    {
     "name": "stdout",
     "output_type": "stream",
     "text": [
      "---------Running validation for teacher -------------\n"
     ]
    },
    {
     "name": "stderr",
     "output_type": "stream",
     "text": [
      "100%|██████████| 400/400 [00:41<00:00,  9.59it/s]\n"
     ]
    },
    {
     "name": "stdout",
     "output_type": "stream",
     "text": [
      "Overall validation loss: tensor(1.3116, device='cuda:0')\n",
      "Average F1 Validation score for whole sentence class 0 : 0.34412533845548593\n",
      "Average F1 Validation score for whole sentence class 1 : 0.9297862694140061\n",
      "Average Accuracy Validation score whole sentence  : 0.8731520644511581\n",
      "Average mcc Validation score whole sentence : 0.29877666817601417\n",
      "Classification Report :\n",
      "               precision    recall  f1-score   support\n",
      "\n",
      "           0       0.50      0.26      0.34     28264\n",
      "           1       0.90      0.96      0.93    195161\n",
      "\n",
      "    accuracy                           0.87    223425\n",
      "   macro avg       0.70      0.61      0.64    223425\n",
      "weighted avg       0.85      0.87      0.86    223425\n",
      "\n"
     ]
    },
    {
     "name": "stderr",
     "output_type": "stream",
     "text": [
      "  0%|          | 0/1475 [00:00<?, ?it/s]"
     ]
    },
    {
     "name": "stdout",
     "output_type": "stream",
     "text": [
      "Current epoch is 15 of 30\n"
     ]
    },
    {
     "name": "stderr",
     "output_type": "stream",
     "text": [
      " 14%|█▎        | 201/1475 [01:46<11:20,  1.87it/s]"
     ]
    },
    {
     "name": "stdout",
     "output_type": "stream",
     "text": [
      "train loss :  0.26269678803160784\n",
      "Consistency Cost : 0.24636016922071577\n",
      "Classification Cost : 0.2790334047097713\n"
     ]
    },
    {
     "name": "stderr",
     "output_type": "stream",
     "text": [
      " 27%|██▋       | 401/1475 [03:34<09:27,  1.89it/s]"
     ]
    },
    {
     "name": "stdout",
     "output_type": "stream",
     "text": [
      "train loss :  0.2604938908666372\n",
      "Consistency Cost : 0.24312656142748892\n",
      "Classification Cost : 0.2778612201253418\n"
     ]
    },
    {
     "name": "stderr",
     "output_type": "stream",
     "text": [
      " 41%|████      | 601/1475 [05:19<07:41,  1.89it/s]"
     ]
    },
    {
     "name": "stdout",
     "output_type": "stream",
     "text": [
      "train loss :  0.2559128706716001\n",
      "Consistency Cost : 0.2401953671934704\n",
      "Classification Cost : 0.2716303736840685\n"
     ]
    },
    {
     "name": "stderr",
     "output_type": "stream",
     "text": [
      " 54%|█████▍    | 801/1475 [07:05<06:01,  1.87it/s]"
     ]
    },
    {
     "name": "stdout",
     "output_type": "stream",
     "text": [
      "train loss :  0.25221117807086557\n",
      "Consistency Cost : 0.23482681022956967\n",
      "Classification Cost : 0.2695955455041258\n"
     ]
    },
    {
     "name": "stderr",
     "output_type": "stream",
     "text": [
      " 68%|██████▊   | 1001/1475 [08:52<04:09,  1.90it/s]"
     ]
    },
    {
     "name": "stdout",
     "output_type": "stream",
     "text": [
      "train loss :  0.2514736019270495\n",
      "Consistency Cost : 0.23526269257999957\n",
      "Classification Cost : 0.26768451042007657\n"
     ]
    },
    {
     "name": "stderr",
     "output_type": "stream",
     "text": [
      " 81%|████████▏ | 1201/1475 [10:37<02:23,  1.91it/s]"
     ]
    },
    {
     "name": "stdout",
     "output_type": "stream",
     "text": [
      "train loss :  0.2518339464487508\n",
      "Consistency Cost : 0.23322519360731045\n",
      "Classification Cost : 0.27044269850205943\n"
     ]
    },
    {
     "name": "stderr",
     "output_type": "stream",
     "text": [
      " 95%|█████████▍| 1401/1475 [12:22<00:38,  1.92it/s]"
     ]
    },
    {
     "name": "stdout",
     "output_type": "stream",
     "text": [
      "train loss :  0.24995158662088215\n",
      "Consistency Cost : 0.23269346707367472\n",
      "Classification Cost : 0.2672097053285688\n"
     ]
    },
    {
     "name": "stderr",
     "output_type": "stream",
     "text": [
      "100%|██████████| 1475/1475 [13:00<00:00,  1.89it/s]\n",
      "  0%|          | 0/400 [00:00<?, ?it/s]"
     ]
    },
    {
     "name": "stdout",
     "output_type": "stream",
     "text": [
      "---------Running validation for student -------------\n"
     ]
    },
    {
     "name": "stderr",
     "output_type": "stream",
     "text": [
      "100%|██████████| 400/400 [00:41<00:00,  9.65it/s]\n"
     ]
    },
    {
     "name": "stdout",
     "output_type": "stream",
     "text": [
      "Overall validation loss: tensor(1.2771, device='cuda:0')\n",
      "Average F1 Validation score for whole sentence class 0 : 0.35815888352120234\n",
      "Average F1 Validation score for whole sentence class 1 : 0.92863643823762\n",
      "Average Accuracy Validation score whole sentence  : 0.871554212823095\n",
      "Average mcc Validation score whole sentence : 0.3055501843565844\n",
      "Classification Report :\n",
      "               precision    recall  f1-score   support\n",
      "\n",
      "           0       0.49      0.28      0.36     28264\n",
      "           1       0.90      0.96      0.93    195161\n",
      "\n",
      "    accuracy                           0.87    223425\n",
      "   macro avg       0.69      0.62      0.64    223425\n",
      "weighted avg       0.85      0.87      0.86    223425\n",
      "\n"
     ]
    },
    {
     "name": "stderr",
     "output_type": "stream",
     "text": [
      "  0%|          | 0/400 [00:00<?, ?it/s]"
     ]
    },
    {
     "name": "stdout",
     "output_type": "stream",
     "text": [
      "---------Running validation for teacher -------------\n"
     ]
    },
    {
     "name": "stderr",
     "output_type": "stream",
     "text": [
      "100%|██████████| 400/400 [00:41<00:00,  9.67it/s]\n"
     ]
    },
    {
     "name": "stdout",
     "output_type": "stream",
     "text": [
      "Overall validation loss: tensor(1.3716, device='cuda:0')\n",
      "Average F1 Validation score for whole sentence class 0 : 0.35003647638154295\n",
      "Average F1 Validation score for whole sentence class 1 : 0.929253125418749\n",
      "Average Accuracy Validation score whole sentence  : 0.8723956584983775\n",
      "Average mcc Validation score whole sentence : 0.3013369461253151\n",
      "Classification Report :\n",
      "               precision    recall  f1-score   support\n",
      "\n",
      "           0       0.49      0.27      0.35     28264\n",
      "           1       0.90      0.96      0.93    195161\n",
      "\n",
      "    accuracy                           0.87    223425\n",
      "   macro avg       0.70      0.62      0.64    223425\n",
      "weighted avg       0.85      0.87      0.86    223425\n",
      "\n"
     ]
    },
    {
     "name": "stderr",
     "output_type": "stream",
     "text": [
      "  0%|          | 0/1475 [00:00<?, ?it/s]"
     ]
    },
    {
     "name": "stdout",
     "output_type": "stream",
     "text": [
      "Current epoch is 16 of 30\n"
     ]
    },
    {
     "name": "stderr",
     "output_type": "stream",
     "text": [
      " 14%|█▎        | 201/1475 [01:45<11:11,  1.90it/s]"
     ]
    },
    {
     "name": "stdout",
     "output_type": "stream",
     "text": [
      "train loss :  0.24095461030490697\n",
      "Consistency Cost : 0.23773638924583793\n",
      "Classification Cost : 0.24417283348971977\n"
     ]
    },
    {
     "name": "stderr",
     "output_type": "stream",
     "text": [
      " 27%|██▋       | 401/1475 [03:32<09:44,  1.84it/s]"
     ]
    },
    {
     "name": "stdout",
     "output_type": "stream",
     "text": [
      "train loss :  0.23733609288465232\n",
      "Consistency Cost : 0.22558369724079966\n",
      "Classification Cost : 0.24908849016646856\n"
     ]
    },
    {
     "name": "stderr",
     "output_type": "stream",
     "text": [
      " 41%|████      | 601/1475 [05:18<07:39,  1.90it/s]"
     ]
    },
    {
     "name": "stdout",
     "output_type": "stream",
     "text": [
      "train loss :  0.23557457474681237\n",
      "Consistency Cost : 0.22575496102993686\n",
      "Classification Cost : 0.24539418941441302\n"
     ]
    },
    {
     "name": "stderr",
     "output_type": "stream",
     "text": [
      " 54%|█████▍    | 801/1475 [07:03<05:59,  1.88it/s]"
     ]
    },
    {
     "name": "stdout",
     "output_type": "stream",
     "text": [
      "train loss :  0.2371924892172683\n",
      "Consistency Cost : 0.22848102196818218\n",
      "Classification Cost : 0.24590395718289074\n"
     ]
    },
    {
     "name": "stderr",
     "output_type": "stream",
     "text": [
      " 68%|██████▊   | 1001/1475 [08:51<04:12,  1.88it/s]"
     ]
    },
    {
     "name": "stdout",
     "output_type": "stream",
     "text": [
      "train loss :  0.23704108793847262\n",
      "Consistency Cost : 0.22794028772041203\n",
      "Classification Cost : 0.24614188863849268\n"
     ]
    },
    {
     "name": "stderr",
     "output_type": "stream",
     "text": [
      " 81%|████████▏ | 1201/1475 [10:36<02:24,  1.90it/s]"
     ]
    },
    {
     "name": "stdout",
     "output_type": "stream",
     "text": [
      "train loss :  0.23689460359436149\n",
      "Consistency Cost : 0.2280117022556563\n",
      "Classification Cost : 0.24577750528852144\n"
     ]
    },
    {
     "name": "stderr",
     "output_type": "stream",
     "text": [
      " 95%|█████████▍| 1401/1475 [12:22<00:39,  1.87it/s]"
     ]
    },
    {
     "name": "stdout",
     "output_type": "stream",
     "text": [
      "train loss :  0.23889880423367554\n",
      "Consistency Cost : 0.22957452053603317\n",
      "Classification Cost : 0.24822308833777373\n"
     ]
    },
    {
     "name": "stderr",
     "output_type": "stream",
     "text": [
      "100%|██████████| 1475/1475 [13:02<00:00,  1.88it/s]\n",
      "  0%|          | 0/400 [00:00<?, ?it/s]"
     ]
    },
    {
     "name": "stdout",
     "output_type": "stream",
     "text": [
      "---------Running validation for student -------------\n"
     ]
    },
    {
     "name": "stderr",
     "output_type": "stream",
     "text": [
      "100%|██████████| 400/400 [00:43<00:00,  9.22it/s]\n"
     ]
    },
    {
     "name": "stdout",
     "output_type": "stream",
     "text": [
      "Overall validation loss: tensor(1.4249, device='cuda:0')\n",
      "Average F1 Validation score for whole sentence class 0 : 0.3426677175576058\n",
      "Average F1 Validation score for whole sentence class 1 : 0.9297618103994928\n",
      "Average Accuracy Validation score whole sentence  : 0.8730849278281303\n",
      "Average mcc Validation score whole sentence : 0.2975787525335241\n",
      "Classification Report :\n",
      "               precision    recall  f1-score   support\n",
      "\n",
      "           0       0.50      0.26      0.34     28264\n",
      "           1       0.90      0.96      0.93    195161\n",
      "\n",
      "    accuracy                           0.87    223425\n",
      "   macro avg       0.70      0.61      0.64    223425\n",
      "weighted avg       0.85      0.87      0.86    223425\n",
      "\n"
     ]
    },
    {
     "name": "stderr",
     "output_type": "stream",
     "text": [
      "  0%|          | 0/400 [00:00<?, ?it/s]"
     ]
    },
    {
     "name": "stdout",
     "output_type": "stream",
     "text": [
      "---------Running validation for teacher -------------\n"
     ]
    },
    {
     "name": "stderr",
     "output_type": "stream",
     "text": [
      "100%|██████████| 400/400 [00:42<00:00,  9.52it/s]\n"
     ]
    },
    {
     "name": "stdout",
     "output_type": "stream",
     "text": [
      "Overall validation loss: tensor(1.4199, device='cuda:0')\n",
      "Average F1 Validation score for whole sentence class 0 : 0.3497772265858252\n",
      "Average F1 Validation score for whole sentence class 1 : 0.9298005494559989\n",
      "Average Accuracy Validation score whole sentence  : 0.8732818619223454\n",
      "Average mcc Validation score whole sentence : 0.3031258214213537\n",
      "Classification Report :\n",
      "               precision    recall  f1-score   support\n",
      "\n",
      "           0       0.50      0.27      0.35     28264\n",
      "           1       0.90      0.96      0.93    195161\n",
      "\n",
      "    accuracy                           0.87    223425\n",
      "   macro avg       0.70      0.62      0.64    223425\n",
      "weighted avg       0.85      0.87      0.86    223425\n",
      "\n"
     ]
    },
    {
     "name": "stderr",
     "output_type": "stream",
     "text": [
      "  0%|          | 0/1475 [00:00<?, ?it/s]"
     ]
    },
    {
     "name": "stdout",
     "output_type": "stream",
     "text": [
      "Current epoch is 17 of 30\n"
     ]
    },
    {
     "name": "stderr",
     "output_type": "stream",
     "text": [
      " 14%|█▎        | 201/1475 [01:45<11:12,  1.90it/s]"
     ]
    },
    {
     "name": "stdout",
     "output_type": "stream",
     "text": [
      "train loss :  0.23064947652164847\n",
      "Consistency Cost : 0.22278825565241278\n",
      "Classification Cost : 0.23851069666212424\n"
     ]
    },
    {
     "name": "stderr",
     "output_type": "stream",
     "text": [
      " 27%|██▋       | 401/1475 [03:32<09:38,  1.86it/s]"
     ]
    },
    {
     "name": "stdout",
     "output_type": "stream",
     "text": [
      "train loss :  0.22909549586940556\n",
      "Consistency Cost : 0.21796251474879683\n",
      "Classification Cost : 0.24022847666987218\n"
     ]
    },
    {
     "name": "stderr",
     "output_type": "stream",
     "text": [
      " 41%|████      | 601/1475 [05:18<07:39,  1.90it/s]"
     ]
    },
    {
     "name": "stdout",
     "output_type": "stream",
     "text": [
      "train loss :  0.23019726464835305\n",
      "Consistency Cost : 0.2185114824709793\n",
      "Classification Cost : 0.24188304582998776\n"
     ]
    },
    {
     "name": "stderr",
     "output_type": "stream",
     "text": [
      " 54%|█████▍    | 801/1475 [07:03<05:55,  1.90it/s]"
     ]
    },
    {
     "name": "stdout",
     "output_type": "stream",
     "text": [
      "train loss :  0.22931927116005682\n",
      "Consistency Cost : 0.21961651335470378\n",
      "Classification Cost : 0.23902202812663745\n"
     ]
    },
    {
     "name": "stderr",
     "output_type": "stream",
     "text": [
      " 68%|██████▊   | 1001/1475 [08:50<04:19,  1.83it/s]"
     ]
    },
    {
     "name": "stdout",
     "output_type": "stream",
     "text": [
      "train loss :  0.22909270343836396\n",
      "Consistency Cost : 0.2195689010042697\n",
      "Classification Cost : 0.23861650518514216\n"
     ]
    },
    {
     "name": "stderr",
     "output_type": "stream",
     "text": [
      " 81%|████████▏ | 1201/1475 [10:36<02:23,  1.91it/s]"
     ]
    },
    {
     "name": "stdout",
     "output_type": "stream",
     "text": [
      "train loss :  0.22783339652776097\n",
      "Consistency Cost : 0.21784532805439086\n",
      "Classification Cost : 0.23782146438296572\n"
     ]
    },
    {
     "name": "stderr",
     "output_type": "stream",
     "text": [
      " 95%|█████████▍| 1401/1475 [12:22<00:39,  1.88it/s]"
     ]
    },
    {
     "name": "stdout",
     "output_type": "stream",
     "text": [
      "train loss :  0.23235392133838365\n",
      "Consistency Cost : 0.22206289147825115\n",
      "Classification Cost : 0.2426449504910436\n"
     ]
    },
    {
     "name": "stderr",
     "output_type": "stream",
     "text": [
      "100%|██████████| 1475/1475 [13:01<00:00,  1.89it/s]\n",
      "  0%|          | 0/400 [00:00<?, ?it/s]"
     ]
    },
    {
     "name": "stdout",
     "output_type": "stream",
     "text": [
      "---------Running validation for student -------------\n"
     ]
    },
    {
     "name": "stderr",
     "output_type": "stream",
     "text": [
      "100%|██████████| 400/400 [00:42<00:00,  9.31it/s]\n"
     ]
    },
    {
     "name": "stdout",
     "output_type": "stream",
     "text": [
      "Overall validation loss: tensor(1.4873, device='cuda:0')\n",
      "Average F1 Validation score for whole sentence class 0 : 0.3346095834783618\n",
      "Average F1 Validation score for whole sentence class 1 : 0.9289792076878305\n",
      "Average Accuracy Validation score whole sentence  : 0.8716571556450711\n",
      "Average mcc Validation score whole sentence : 0.2884838106405731\n",
      "Classification Report :\n",
      "               precision    recall  f1-score   support\n",
      "\n",
      "           0       0.49      0.26      0.33     28264\n",
      "           1       0.90      0.96      0.93    195161\n",
      "\n",
      "    accuracy                           0.87    223425\n",
      "   macro avg       0.69      0.61      0.63    223425\n",
      "weighted avg       0.85      0.87      0.85    223425\n",
      "\n"
     ]
    },
    {
     "name": "stderr",
     "output_type": "stream",
     "text": [
      "  0%|          | 0/400 [00:00<?, ?it/s]"
     ]
    },
    {
     "name": "stdout",
     "output_type": "stream",
     "text": [
      "---------Running validation for teacher -------------\n"
     ]
    },
    {
     "name": "stderr",
     "output_type": "stream",
     "text": [
      "100%|██████████| 400/400 [00:42<00:00,  9.30it/s]\n"
     ]
    },
    {
     "name": "stdout",
     "output_type": "stream",
     "text": [
      "Overall validation loss: tensor(1.4199, device='cuda:0')\n",
      "Average F1 Validation score for whole sentence class 0 : 0.3427485808459989\n",
      "Average F1 Validation score for whole sentence class 1 : 0.9287780098322759\n",
      "Average Accuracy Validation score whole sentence  : 0.8714826004251987\n",
      "Average mcc Validation score whole sentence : 0.294014422929072\n",
      "Classification Report :\n",
      "               precision    recall  f1-score   support\n",
      "\n",
      "           0       0.49      0.26      0.34     28264\n",
      "           1       0.90      0.96      0.93    195161\n",
      "\n",
      "    accuracy                           0.87    223425\n",
      "   macro avg       0.69      0.61      0.64    223425\n",
      "weighted avg       0.85      0.87      0.85    223425\n",
      "\n"
     ]
    },
    {
     "name": "stderr",
     "output_type": "stream",
     "text": [
      "  0%|          | 0/1475 [00:00<?, ?it/s]"
     ]
    },
    {
     "name": "stdout",
     "output_type": "stream",
     "text": [
      "Current epoch is 18 of 30\n"
     ]
    },
    {
     "name": "stderr",
     "output_type": "stream",
     "text": [
      " 14%|█▎        | 201/1475 [01:45<11:11,  1.90it/s]"
     ]
    },
    {
     "name": "stdout",
     "output_type": "stream",
     "text": [
      "train loss :  0.21489203436300158\n",
      "Consistency Cost : 0.20680913714691995\n",
      "Classification Cost : 0.22297493071993812\n"
     ]
    },
    {
     "name": "stderr",
     "output_type": "stream",
     "text": [
      " 27%|██▋       | 401/1475 [03:31<09:33,  1.87it/s]"
     ]
    },
    {
     "name": "stdout",
     "output_type": "stream",
     "text": [
      "train loss :  0.21601593928644433\n",
      "Consistency Cost : 0.2114217837760225\n",
      "Classification Cost : 0.22061009391909464\n"
     ]
    },
    {
     "name": "stderr",
     "output_type": "stream",
     "text": [
      " 41%|████      | 601/1475 [05:18<07:40,  1.90it/s]"
     ]
    },
    {
     "name": "stdout",
     "output_type": "stream",
     "text": [
      "train loss :  0.2191763881749163\n",
      "Consistency Cost : 0.21351417591795324\n",
      "Classification Cost : 0.22483859977840134\n"
     ]
    },
    {
     "name": "stderr",
     "output_type": "stream",
     "text": [
      " 54%|█████▍    | 801/1475 [07:04<05:55,  1.90it/s]"
     ]
    },
    {
     "name": "stdout",
     "output_type": "stream",
     "text": [
      "train loss :  0.2233070856879931\n",
      "Consistency Cost : 0.21488455935847015\n",
      "Classification Cost : 0.23172961143776774\n"
     ]
    },
    {
     "name": "stderr",
     "output_type": "stream",
     "text": [
      " 68%|██████▊   | 1001/1475 [08:50<04:14,  1.86it/s]"
     ]
    },
    {
     "name": "stdout",
     "output_type": "stream",
     "text": [
      "train loss :  0.22691242767497896\n",
      "Consistency Cost : 0.21958727457001806\n",
      "Classification Cost : 0.23423758071567863\n"
     ]
    },
    {
     "name": "stderr",
     "output_type": "stream",
     "text": [
      " 81%|████████▏ | 1201/1475 [10:37<02:24,  1.90it/s]"
     ]
    },
    {
     "name": "stdout",
     "output_type": "stream",
     "text": [
      "train loss :  0.22765576131020984\n",
      "Consistency Cost : 0.21954631742245206\n",
      "Classification Cost : 0.23576520520611666\n"
     ]
    },
    {
     "name": "stderr",
     "output_type": "stream",
     "text": [
      " 95%|█████████▍| 1401/1475 [12:22<00:39,  1.90it/s]"
     ]
    },
    {
     "name": "stdout",
     "output_type": "stream",
     "text": [
      "train loss :  0.22735519047893052\n",
      "Consistency Cost : 0.2187563160514193\n",
      "Classification Cost : 0.2359540649144245\n"
     ]
    },
    {
     "name": "stderr",
     "output_type": "stream",
     "text": [
      "100%|██████████| 1475/1475 [13:01<00:00,  1.89it/s]\n",
      "  0%|          | 0/400 [00:00<?, ?it/s]"
     ]
    },
    {
     "name": "stdout",
     "output_type": "stream",
     "text": [
      "---------Running validation for student -------------\n"
     ]
    },
    {
     "name": "stderr",
     "output_type": "stream",
     "text": [
      "100%|██████████| 400/400 [00:42<00:00,  9.42it/s]\n"
     ]
    },
    {
     "name": "stdout",
     "output_type": "stream",
     "text": [
      "Overall validation loss: tensor(1.5630, device='cuda:0')\n",
      "Average F1 Validation score for whole sentence class 0 : 0.34496364095152887\n",
      "Average F1 Validation score for whole sentence class 1 : 0.9291890779329312\n",
      "Average Accuracy Validation score whole sentence  : 0.872194248629294\n",
      "Average mcc Validation score whole sentence : 0.2972012942741736\n",
      "Classification Report :\n",
      "               precision    recall  f1-score   support\n",
      "\n",
      "           0       0.49      0.27      0.34     28264\n",
      "           1       0.90      0.96      0.93    195161\n",
      "\n",
      "    accuracy                           0.87    223425\n",
      "   macro avg       0.70      0.61      0.64    223425\n",
      "weighted avg       0.85      0.87      0.86    223425\n",
      "\n"
     ]
    },
    {
     "name": "stderr",
     "output_type": "stream",
     "text": [
      "  0%|          | 0/400 [00:00<?, ?it/s]"
     ]
    },
    {
     "name": "stdout",
     "output_type": "stream",
     "text": [
      "---------Running validation for teacher -------------\n"
     ]
    },
    {
     "name": "stderr",
     "output_type": "stream",
     "text": [
      "100%|██████████| 400/400 [00:43<00:00,  9.28it/s]\n"
     ]
    },
    {
     "name": "stdout",
     "output_type": "stream",
     "text": [
      "Overall validation loss: tensor(1.4932, device='cuda:0')\n",
      "Average F1 Validation score for whole sentence class 0 : 0.3511841359773371\n",
      "Average F1 Validation score for whole sentence class 1 : 0.9289117884412441\n",
      "Average Accuracy Validation score whole sentence  : 0.8718630412890231\n",
      "Average mcc Validation score whole sentence : 0.3010265932674711\n",
      "Classification Report :\n",
      "               precision    recall  f1-score   support\n",
      "\n",
      "           0       0.49      0.27      0.35     28264\n",
      "           1       0.90      0.96      0.93    195161\n",
      "\n",
      "    accuracy                           0.87    223425\n",
      "   macro avg       0.69      0.62      0.64    223425\n",
      "weighted avg       0.85      0.87      0.86    223425\n",
      "\n"
     ]
    },
    {
     "name": "stderr",
     "output_type": "stream",
     "text": [
      "  0%|          | 0/1475 [00:00<?, ?it/s]"
     ]
    },
    {
     "name": "stdout",
     "output_type": "stream",
     "text": [
      "Current epoch is 19 of 30\n"
     ]
    },
    {
     "name": "stderr",
     "output_type": "stream",
     "text": [
      " 14%|█▎        | 201/1475 [01:46<11:07,  1.91it/s]"
     ]
    },
    {
     "name": "stdout",
     "output_type": "stream",
     "text": [
      "train loss :  0.21342454767785968\n",
      "Consistency Cost : 0.20097556210123002\n",
      "Classification Cost : 0.22587353451643138\n"
     ]
    },
    {
     "name": "stderr",
     "output_type": "stream",
     "text": [
      " 27%|██▋       | 401/1475 [03:31<09:25,  1.90it/s]"
     ]
    },
    {
     "name": "stdout",
     "output_type": "stream",
     "text": [
      "train loss :  0.21908893288578837\n",
      "Consistency Cost : 0.2071806446323171\n",
      "Classification Cost : 0.23099722140817902\n"
     ]
    },
    {
     "name": "stderr",
     "output_type": "stream",
     "text": [
      " 41%|████      | 601/1475 [05:16<07:40,  1.90it/s]"
     ]
    },
    {
     "name": "stdout",
     "output_type": "stream",
     "text": [
      "train loss :  0.21526955887054403\n",
      "Consistency Cost : 0.20764091331201295\n",
      "Classification Cost : 0.2228982048854232\n"
     ]
    },
    {
     "name": "stderr",
     "output_type": "stream",
     "text": [
      " 54%|█████▍    | 801/1475 [07:01<05:54,  1.90it/s]"
     ]
    },
    {
     "name": "stdout",
     "output_type": "stream",
     "text": [
      "train loss :  0.21659210326964967\n",
      "Consistency Cost : 0.20687286442844197\n",
      "Classification Cost : 0.22631134235183709\n"
     ]
    },
    {
     "name": "stderr",
     "output_type": "stream",
     "text": [
      " 68%|██████▊   | 1001/1475 [08:47<04:12,  1.87it/s]"
     ]
    },
    {
     "name": "stdout",
     "output_type": "stream",
     "text": [
      "train loss :  0.21569916453026236\n",
      "Consistency Cost : 0.20724572365544736\n",
      "Classification Cost : 0.22415260597178713\n"
     ]
    },
    {
     "name": "stderr",
     "output_type": "stream",
     "text": [
      " 81%|████████▏ | 1201/1475 [10:35<02:24,  1.89it/s]"
     ]
    },
    {
     "name": "stdout",
     "output_type": "stream",
     "text": [
      "train loss :  0.21677133663712692\n",
      "Consistency Cost : 0.20749307349479446\n",
      "Classification Cost : 0.22604960027810497\n"
     ]
    },
    {
     "name": "stderr",
     "output_type": "stream",
     "text": [
      " 95%|█████████▍| 1401/1475 [12:20<00:39,  1.90it/s]"
     ]
    },
    {
     "name": "stdout",
     "output_type": "stream",
     "text": [
      "train loss :  0.21781474712304771\n",
      "Consistency Cost : 0.20866975939566534\n",
      "Classification Cost : 0.226959735374299\n"
     ]
    },
    {
     "name": "stderr",
     "output_type": "stream",
     "text": [
      "100%|██████████| 1475/1475 [12:58<00:00,  1.89it/s]\n",
      "  0%|          | 0/400 [00:00<?, ?it/s]"
     ]
    },
    {
     "name": "stdout",
     "output_type": "stream",
     "text": [
      "---------Running validation for student -------------\n"
     ]
    },
    {
     "name": "stderr",
     "output_type": "stream",
     "text": [
      "100%|██████████| 400/400 [00:41<00:00,  9.63it/s]\n"
     ]
    },
    {
     "name": "stdout",
     "output_type": "stream",
     "text": [
      "Overall validation loss: tensor(1.4631, device='cuda:0')\n",
      "Average F1 Validation score for whole sentence class 0 : 0.35734281270828705\n",
      "Average F1 Validation score for whole sentence class 1 : 0.9280161258212223\n",
      "Average Accuracy Validation score whole sentence  : 0.8705337361530715\n",
      "Average mcc Validation score whole sentence : 0.3028995738841587\n",
      "Classification Report :\n",
      "               precision    recall  f1-score   support\n",
      "\n",
      "           0       0.48      0.28      0.36     28264\n",
      "           1       0.90      0.96      0.93    195161\n",
      "\n",
      "    accuracy                           0.87    223425\n",
      "   macro avg       0.69      0.62      0.64    223425\n",
      "weighted avg       0.85      0.87      0.86    223425\n",
      "\n"
     ]
    },
    {
     "name": "stderr",
     "output_type": "stream",
     "text": [
      "  0%|          | 0/400 [00:00<?, ?it/s]"
     ]
    },
    {
     "name": "stdout",
     "output_type": "stream",
     "text": [
      "---------Running validation for teacher -------------\n"
     ]
    },
    {
     "name": "stderr",
     "output_type": "stream",
     "text": [
      "100%|██████████| 400/400 [00:41<00:00,  9.60it/s]\n"
     ]
    },
    {
     "name": "stdout",
     "output_type": "stream",
     "text": [
      "Overall validation loss: tensor(1.4715, device='cuda:0')\n",
      "Average F1 Validation score for whole sentence class 0 : 0.3602939553770441\n",
      "Average F1 Validation score for whole sentence class 1 : 0.92780989049577\n",
      "Average Accuracy Validation score whole sentence  : 0.8702607138860915\n",
      "Average mcc Validation score whole sentence : 0.3046088001273259\n",
      "Classification Report :\n",
      "               precision    recall  f1-score   support\n",
      "\n",
      "           0       0.48      0.29      0.36     28264\n",
      "           1       0.90      0.95      0.93    195161\n",
      "\n",
      "    accuracy                           0.87    223425\n",
      "   macro avg       0.69      0.62      0.64    223425\n",
      "weighted avg       0.85      0.87      0.86    223425\n",
      "\n"
     ]
    },
    {
     "name": "stderr",
     "output_type": "stream",
     "text": [
      "  0%|          | 0/1475 [00:00<?, ?it/s]"
     ]
    },
    {
     "name": "stdout",
     "output_type": "stream",
     "text": [
      "Current epoch is 20 of 30\n"
     ]
    },
    {
     "name": "stderr",
     "output_type": "stream",
     "text": [
      " 14%|█▎        | 201/1475 [01:45<11:08,  1.91it/s]"
     ]
    },
    {
     "name": "stdout",
     "output_type": "stream",
     "text": [
      "train loss :  0.2034899480547756\n",
      "Consistency Cost : 0.19909534566104412\n",
      "Classification Cost : 0.2078845512983389\n"
     ]
    },
    {
     "name": "stderr",
     "output_type": "stream",
     "text": [
      " 27%|██▋       | 401/1475 [03:31<09:26,  1.90it/s]"
     ]
    },
    {
     "name": "stdout",
     "output_type": "stream",
     "text": [
      "train loss :  0.20533050380414353\n",
      "Consistency Cost : 0.19830915802158416\n",
      "Classification Cost : 0.2123518498346675\n"
     ]
    },
    {
     "name": "stderr",
     "output_type": "stream",
     "text": [
      " 41%|████      | 601/1475 [05:17<07:56,  1.83it/s]"
     ]
    },
    {
     "name": "stdout",
     "output_type": "stream",
     "text": [
      "train loss :  0.20883548367302865\n",
      "Consistency Cost : 0.2009645330750694\n",
      "Classification Cost : 0.2167064341258568\n"
     ]
    },
    {
     "name": "stderr",
     "output_type": "stream",
     "text": [
      " 54%|█████▍    | 801/1475 [07:04<05:54,  1.90it/s]"
     ]
    },
    {
     "name": "stdout",
     "output_type": "stream",
     "text": [
      "train loss :  0.20884884554194286\n",
      "Consistency Cost : 0.20236396607477217\n",
      "Classification Cost : 0.21533372513193172\n"
     ]
    },
    {
     "name": "stderr",
     "output_type": "stream",
     "text": [
      " 68%|██████▊   | 1001/1475 [08:49<04:11,  1.88it/s]"
     ]
    },
    {
     "name": "stdout",
     "output_type": "stream",
     "text": [
      "train loss :  0.21052757356408983\n",
      "Consistency Cost : 0.20358138931915165\n",
      "Classification Cost : 0.21747375761577858\n"
     ]
    },
    {
     "name": "stderr",
     "output_type": "stream",
     "text": [
      " 81%|████████▏ | 1201/1475 [10:37<02:30,  1.82it/s]"
     ]
    },
    {
     "name": "stdout",
     "output_type": "stream",
     "text": [
      "train loss :  0.21261855194888388\n",
      "Consistency Cost : 0.20705928391621758\n",
      "Classification Cost : 0.2181778198189568\n"
     ]
    },
    {
     "name": "stderr",
     "output_type": "stream",
     "text": [
      " 95%|█████████▍| 1401/1475 [12:23<00:38,  1.90it/s]"
     ]
    },
    {
     "name": "stdout",
     "output_type": "stream",
     "text": [
      "train loss :  0.2118333890501942\n",
      "Consistency Cost : 0.20622367360096958\n",
      "Classification Cost : 0.21744310445152223\n"
     ]
    },
    {
     "name": "stderr",
     "output_type": "stream",
     "text": [
      "100%|██████████| 1475/1475 [13:02<00:00,  1.89it/s]\n",
      "  0%|          | 0/400 [00:00<?, ?it/s]"
     ]
    },
    {
     "name": "stdout",
     "output_type": "stream",
     "text": [
      "---------Running validation for student -------------\n"
     ]
    },
    {
     "name": "stderr",
     "output_type": "stream",
     "text": [
      "100%|██████████| 400/400 [00:42<00:00,  9.52it/s]\n"
     ]
    },
    {
     "name": "stdout",
     "output_type": "stream",
     "text": [
      "Overall validation loss: tensor(1.4070, device='cuda:0')\n",
      "Average F1 Validation score for whole sentence class 0 : 0.3619358861344628\n",
      "Average F1 Validation score for whole sentence class 1 : 0.9258703248996476\n",
      "Average Accuracy Validation score whole sentence  : 0.8671724292268099\n",
      "Average mcc Validation score whole sentence : 0.3003348260475882\n",
      "Classification Report :\n",
      "               precision    recall  f1-score   support\n",
      "\n",
      "           0       0.46      0.30      0.36     28264\n",
      "           1       0.90      0.95      0.93    195161\n",
      "\n",
      "    accuracy                           0.87    223425\n",
      "   macro avg       0.68      0.62      0.64    223425\n",
      "weighted avg       0.85      0.87      0.85    223425\n",
      "\n"
     ]
    },
    {
     "name": "stderr",
     "output_type": "stream",
     "text": [
      "  0%|          | 0/400 [00:00<?, ?it/s]"
     ]
    },
    {
     "name": "stdout",
     "output_type": "stream",
     "text": [
      "---------Running validation for teacher -------------\n"
     ]
    },
    {
     "name": "stderr",
     "output_type": "stream",
     "text": [
      "100%|██████████| 400/400 [00:42<00:00,  9.45it/s]\n"
     ]
    },
    {
     "name": "stdout",
     "output_type": "stream",
     "text": [
      "Overall validation loss: tensor(1.5432, device='cuda:0')\n",
      "Average F1 Validation score for whole sentence class 0 : 0.3508351603643514\n",
      "Average F1 Validation score for whole sentence class 1 : 0.9286624425308055\n",
      "Average Accuracy Validation score whole sentence  : 0.871451270001119\n",
      "Average mcc Validation score whole sentence : 0.2998976185785098\n",
      "Classification Report :\n",
      "               precision    recall  f1-score   support\n",
      "\n",
      "           0       0.49      0.27      0.35     28264\n",
      "           1       0.90      0.96      0.93    195161\n",
      "\n",
      "    accuracy                           0.87    223425\n",
      "   macro avg       0.69      0.62      0.64    223425\n",
      "weighted avg       0.85      0.87      0.86    223425\n",
      "\n"
     ]
    },
    {
     "name": "stderr",
     "output_type": "stream",
     "text": [
      "  0%|          | 0/1475 [00:00<?, ?it/s]"
     ]
    },
    {
     "name": "stdout",
     "output_type": "stream",
     "text": [
      "Current epoch is 21 of 30\n"
     ]
    },
    {
     "name": "stderr",
     "output_type": "stream",
     "text": [
      " 14%|█▎        | 201/1475 [01:48<11:11,  1.90it/s]"
     ]
    },
    {
     "name": "stdout",
     "output_type": "stream",
     "text": [
      "train loss :  0.196059250109829\n",
      "Consistency Cost : 0.19884139937348663\n",
      "Classification Cost : 0.19327709916280583\n"
     ]
    },
    {
     "name": "stderr",
     "output_type": "stream",
     "text": [
      " 27%|██▋       | 401/1475 [03:33<09:26,  1.90it/s]"
     ]
    },
    {
     "name": "stdout",
     "output_type": "stream",
     "text": [
      "train loss :  0.20600658390903845\n",
      "Consistency Cost : 0.2006365888984874\n",
      "Classification Cost : 0.21137657840619795\n"
     ]
    },
    {
     "name": "stderr",
     "output_type": "stream",
     "text": [
      " 41%|████      | 601/1475 [05:19<07:42,  1.89it/s]"
     ]
    },
    {
     "name": "stdout",
     "output_type": "stream",
     "text": [
      "train loss :  0.20318561955665548\n",
      "Consistency Cost : 0.19782014354442556\n",
      "Classification Cost : 0.2085510954229782\n"
     ]
    },
    {
     "name": "stderr",
     "output_type": "stream",
     "text": [
      " 54%|█████▍    | 801/1475 [07:03<05:53,  1.90it/s]"
     ]
    },
    {
     "name": "stdout",
     "output_type": "stream",
     "text": [
      "train loss :  0.2053189137915615\n",
      "Consistency Cost : 0.20157276483252645\n",
      "Classification Cost : 0.20906506271974648\n"
     ]
    },
    {
     "name": "stderr",
     "output_type": "stream",
     "text": [
      " 68%|██████▊   | 1001/1475 [08:49<04:09,  1.90it/s]"
     ]
    },
    {
     "name": "stdout",
     "output_type": "stream",
     "text": [
      "train loss :  0.20222822454944253\n",
      "Consistency Cost : 0.1965799067746848\n",
      "Classification Cost : 0.20787654244992881\n"
     ]
    },
    {
     "name": "stderr",
     "output_type": "stream",
     "text": [
      " 81%|████████▏ | 1201/1475 [10:35<02:28,  1.85it/s]"
     ]
    },
    {
     "name": "stdout",
     "output_type": "stream",
     "text": [
      "train loss :  0.20347257484837125\n",
      "Consistency Cost : 0.19689110062395532\n",
      "Classification Cost : 0.21005404903863867\n"
     ]
    },
    {
     "name": "stderr",
     "output_type": "stream",
     "text": [
      " 95%|█████████▍| 1401/1475 [12:22<00:38,  1.91it/s]"
     ]
    },
    {
     "name": "stdout",
     "output_type": "stream",
     "text": [
      "train loss :  0.2042475193539368\n",
      "Consistency Cost : 0.19744392599910499\n",
      "Classification Cost : 0.21105111271492205\n"
     ]
    },
    {
     "name": "stderr",
     "output_type": "stream",
     "text": [
      "100%|██████████| 1475/1475 [13:01<00:00,  1.89it/s]\n",
      "  0%|          | 0/400 [00:00<?, ?it/s]"
     ]
    },
    {
     "name": "stdout",
     "output_type": "stream",
     "text": [
      "---------Running validation for student -------------\n"
     ]
    },
    {
     "name": "stderr",
     "output_type": "stream",
     "text": [
      "100%|██████████| 400/400 [00:41<00:00,  9.60it/s]\n"
     ]
    },
    {
     "name": "stdout",
     "output_type": "stream",
     "text": [
      "Overall validation loss: tensor(1.6681, device='cuda:0')\n",
      "Average F1 Validation score for whole sentence class 0 : 0.3366359879789632\n",
      "Average F1 Validation score for whole sentence class 1 : 0.9301089898035413\n",
      "Average Accuracy Validation score whole sentence  : 0.8735414568647197\n",
      "Average mcc Validation score whole sentence : 0.2943944870257376\n",
      "Classification Report :\n",
      "               precision    recall  f1-score   support\n",
      "\n",
      "           0       0.50      0.25      0.34     28264\n",
      "           1       0.90      0.96      0.93    195161\n",
      "\n",
      "    accuracy                           0.87    223425\n",
      "   macro avg       0.70      0.61      0.63    223425\n",
      "weighted avg       0.85      0.87      0.86    223425\n",
      "\n"
     ]
    },
    {
     "name": "stderr",
     "output_type": "stream",
     "text": [
      "  0%|          | 0/400 [00:00<?, ?it/s]"
     ]
    },
    {
     "name": "stdout",
     "output_type": "stream",
     "text": [
      "---------Running validation for teacher -------------\n"
     ]
    },
    {
     "name": "stderr",
     "output_type": "stream",
     "text": [
      "100%|██████████| 400/400 [00:41<00:00,  9.54it/s]\n"
     ]
    },
    {
     "name": "stdout",
     "output_type": "stream",
     "text": [
      "Overall validation loss: tensor(1.5767, device='cuda:0')\n",
      "Average F1 Validation score for whole sentence class 0 : 0.3511229608206426\n",
      "Average F1 Validation score for whole sentence class 1 : 0.9286672363087195\n",
      "Average Accuracy Validation score whole sentence  : 0.8714646973257245\n",
      "Average mcc Validation score whole sentence : 0.3001387403406461\n",
      "Classification Report :\n",
      "               precision    recall  f1-score   support\n",
      "\n",
      "           0       0.49      0.27      0.35     28264\n",
      "           1       0.90      0.96      0.93    195161\n",
      "\n",
      "    accuracy                           0.87    223425\n",
      "   macro avg       0.69      0.62      0.64    223425\n",
      "weighted avg       0.85      0.87      0.86    223425\n",
      "\n"
     ]
    },
    {
     "name": "stderr",
     "output_type": "stream",
     "text": [
      "  0%|          | 0/1475 [00:00<?, ?it/s]"
     ]
    },
    {
     "name": "stdout",
     "output_type": "stream",
     "text": [
      "Current epoch is 22 of 30\n"
     ]
    },
    {
     "name": "stderr",
     "output_type": "stream",
     "text": [
      " 11%|█         | 165/1475 [01:27<11:37,  1.88it/s]\n"
     ]
    },
    {
     "ename": "KeyboardInterrupt",
     "evalue": "",
     "output_type": "error",
     "traceback": [
      "\u001b[0;31m---------------------------------------------------------------------------\u001b[0m",
      "\u001b[0;31mKeyboardInterrupt\u001b[0m                         Traceback (most recent call last)",
      "\u001b[0;32m<ipython-input-26-95c5bd8e32c4>\u001b[0m in \u001b[0;36m<module>\u001b[0;34m\u001b[0m\n\u001b[0;32m----> 1\u001b[0;31m \u001b[0mmetrices\u001b[0m \u001b[0;34m=\u001b[0m \u001b[0mtrain_MeanTeacher\u001b[0m\u001b[0;34m(\u001b[0m\u001b[0mtrain_dataloader\u001b[0m\u001b[0;34m,\u001b[0m\u001b[0mval_dataloader\u001b[0m\u001b[0;34m,\u001b[0m\u001b[0mlen_labelled_data\u001b[0m\u001b[0;34m,\u001b[0m\u001b[0mlen_unlabelled_data\u001b[0m\u001b[0;34m,\u001b[0m\u001b[0mwriter\u001b[0m\u001b[0;34m,\u001b[0m \u001b[0mnoise_layer\u001b[0m\u001b[0;34m=\u001b[0m\u001b[0;32mTrue\u001b[0m\u001b[0;34m)\u001b[0m \u001b[0;31m# alpha = 0.995 and full data w/o noise and dropout\u001b[0m\u001b[0;34m\u001b[0m\u001b[0;34m\u001b[0m\u001b[0m\n\u001b[0m\u001b[1;32m      2\u001b[0m \u001b[0;34m\u001b[0m\u001b[0m\n\u001b[1;32m      3\u001b[0m \u001b[0mconsistency_cost_lst\u001b[0m \u001b[0;34m=\u001b[0m \u001b[0mget_items\u001b[0m\u001b[0;34m(\u001b[0m\u001b[0mmetrices\u001b[0m\u001b[0;34m[\u001b[0m\u001b[0;36m0\u001b[0m\u001b[0;34m]\u001b[0m\u001b[0;34m)\u001b[0m\u001b[0;34m\u001b[0m\u001b[0;34m\u001b[0m\u001b[0m\n\u001b[1;32m      4\u001b[0m \u001b[0mclassification_cost_lst\u001b[0m \u001b[0;34m=\u001b[0m \u001b[0mget_items\u001b[0m\u001b[0;34m(\u001b[0m\u001b[0mmetrices\u001b[0m\u001b[0;34m[\u001b[0m\u001b[0;36m1\u001b[0m\u001b[0;34m]\u001b[0m\u001b[0;34m)\u001b[0m\u001b[0;34m\u001b[0m\u001b[0;34m\u001b[0m\u001b[0m\n\u001b[1;32m      5\u001b[0m \u001b[0moverall_cost_lst\u001b[0m \u001b[0;34m=\u001b[0m \u001b[0mget_items\u001b[0m\u001b[0;34m(\u001b[0m\u001b[0mmetrices\u001b[0m\u001b[0;34m[\u001b[0m\u001b[0;36m2\u001b[0m\u001b[0;34m]\u001b[0m\u001b[0;34m)\u001b[0m\u001b[0;34m\u001b[0m\u001b[0;34m\u001b[0m\u001b[0m\n",
      "\u001b[0;32m<ipython-input-24-e52a86eb5923>\u001b[0m in \u001b[0;36mtrain_MeanTeacher\u001b[0;34m(train_dataloader, val_dataloader, len_labelled_data, len_unlabelled_data, writer, noise_layer)\u001b[0m\n\u001b[1;32m     56\u001b[0m         \u001b[0mprint\u001b[0m\u001b[0;34m(\u001b[0m\u001b[0;34mf'Current epoch is {epoch+1} of {config.EPOCHS}'\u001b[0m\u001b[0;34m)\u001b[0m\u001b[0;34m\u001b[0m\u001b[0;34m\u001b[0m\u001b[0m\n\u001b[1;32m     57\u001b[0m \u001b[0;34m\u001b[0m\u001b[0m\n\u001b[0;32m---> 58\u001b[0;31m         \u001b[0mconsistency_cost\u001b[0m \u001b[0;34m,\u001b[0m \u001b[0mclassification_cost\u001b[0m \u001b[0;34m,\u001b[0m \u001b[0moverall_cost\u001b[0m\u001b[0;34m,\u001b[0m \u001b[0mglobal_step\u001b[0m \u001b[0;34m=\u001b[0m \u001b[0mtrain\u001b[0m\u001b[0;34m(\u001b[0m\u001b[0mtrain_dataloader\u001b[0m\u001b[0;34m,\u001b[0m \u001b[0moptimizer\u001b[0m\u001b[0;34m,\u001b[0m\u001b[0mscheduler\u001b[0m\u001b[0;34m,\u001b[0m\u001b[0mstudent\u001b[0m\u001b[0;34m,\u001b[0m\u001b[0mteacher\u001b[0m\u001b[0;34m,\u001b[0m\u001b[0mwriter\u001b[0m\u001b[0;34m,\u001b[0m\u001b[0mglobal_step\u001b[0m\u001b[0;34m,\u001b[0m\u001b[0mepoch\u001b[0m\u001b[0;34m)\u001b[0m\u001b[0;34m\u001b[0m\u001b[0;34m\u001b[0m\u001b[0m\n\u001b[0m\u001b[1;32m     59\u001b[0m \u001b[0;34m\u001b[0m\u001b[0m\n\u001b[1;32m     60\u001b[0m         \u001b[0mwriter\u001b[0m\u001b[0;34m.\u001b[0m\u001b[0madd_scalar\u001b[0m\u001b[0;34m(\u001b[0m\u001b[0;34m'TrainingLoss/Consistency_epoch :'\u001b[0m\u001b[0;34m,\u001b[0m \u001b[0mconsistency_cost\u001b[0m\u001b[0;34m,\u001b[0m\u001b[0mepoch\u001b[0m \u001b[0;34m)\u001b[0m\u001b[0;34m\u001b[0m\u001b[0;34m\u001b[0m\u001b[0m\n",
      "\u001b[0;32m<ipython-input-22-21e8ccc59cb0>\u001b[0m in \u001b[0;36mtrain\u001b[0;34m(train_dataloader, optimizer, scheduler, student_model, teacher_model, writer, global_step, epoch)\u001b[0m\n\u001b[1;32m     29\u001b[0m                     \u001b[0;32mbreak\u001b[0m\u001b[0;34m\u001b[0m\u001b[0;34m\u001b[0m\u001b[0m\n\u001b[1;32m     30\u001b[0m \u001b[0;34m\u001b[0m\u001b[0m\n\u001b[0;32m---> 31\u001b[0;31m             \u001b[0mclassification_cost\u001b[0m \u001b[0;34m=\u001b[0m  \u001b[0mClassificationCost\u001b[0m\u001b[0;34m(\u001b[0m\u001b[0moutput_student_logit\u001b[0m\u001b[0;34m,\u001b[0m\u001b[0mb_labels\u001b[0m\u001b[0;34m,\u001b[0m\u001b[0mb_input_mask\u001b[0m\u001b[0;34m)\u001b[0m\u001b[0;34m\u001b[0m\u001b[0;34m\u001b[0m\u001b[0m\n\u001b[0m\u001b[1;32m     32\u001b[0m             \u001b[0mclassification_cst\u001b[0m\u001b[0;34m+=\u001b[0m\u001b[0mclassification_cost\u001b[0m\u001b[0;34m.\u001b[0m\u001b[0mitem\u001b[0m\u001b[0;34m(\u001b[0m\u001b[0;34m)\u001b[0m\u001b[0;34m\u001b[0m\u001b[0;34m\u001b[0m\u001b[0m\n\u001b[1;32m     33\u001b[0m \u001b[0;34m\u001b[0m\u001b[0m\n",
      "\u001b[0;32m<ipython-input-19-1c8883785e47>\u001b[0m in \u001b[0;36mClassificationCost\u001b[0;34m(output, target, mask)\u001b[0m\n\u001b[1;32m      8\u001b[0m         \u001b[0mactive_loss\u001b[0m\u001b[0;34m,\u001b[0m             \u001b[0;31m# since its handled in preprocessing only\u001b[0m\u001b[0;34m\u001b[0m\u001b[0;34m\u001b[0m\u001b[0m\n\u001b[1;32m      9\u001b[0m         \u001b[0mtarget\u001b[0m\u001b[0;34m.\u001b[0m\u001b[0mview\u001b[0m\u001b[0;34m(\u001b[0m\u001b[0;34m-\u001b[0m\u001b[0;36m1\u001b[0m\u001b[0;34m)\u001b[0m\u001b[0;34m,\u001b[0m\u001b[0;34m\u001b[0m\u001b[0;34m\u001b[0m\u001b[0m\n\u001b[0;32m---> 10\u001b[0;31m         \u001b[0mtorch\u001b[0m\u001b[0;34m.\u001b[0m\u001b[0mtensor\u001b[0m\u001b[0;34m(\u001b[0m\u001b[0;34m-\u001b[0m\u001b[0;36m100\u001b[0m\u001b[0;34m)\u001b[0m\u001b[0;34m.\u001b[0m\u001b[0mtype_as\u001b[0m\u001b[0;34m(\u001b[0m\u001b[0mtarget\u001b[0m\u001b[0;34m)\u001b[0m\u001b[0;34m\u001b[0m\u001b[0;34m\u001b[0m\u001b[0m\n\u001b[0m\u001b[1;32m     11\u001b[0m     )\n\u001b[1;32m     12\u001b[0m     \u001b[0;32mtry\u001b[0m\u001b[0;34m:\u001b[0m\u001b[0;34m\u001b[0m\u001b[0;34m\u001b[0m\u001b[0m\n",
      "\u001b[0;31mKeyboardInterrupt\u001b[0m: "
     ]
    }
   ],
   "source": [
    "metrices = train_MeanTeacher(train_dataloader,val_dataloader,len_labelled_data,len_unlabelled_data,writer, noise_layer=True) # alpha = 0.995 and full data w/o noise and dropout\n",
    "\n",
    "consistency_cost_lst = get_items(metrices[0])\n",
    "classification_cost_lst = get_items(metrices[1])\n",
    "overall_cost_lst = get_items(metrices[2])\n",
    "f1_class0_student_test = metrices[3]\n",
    "f1_class1_student_test= metrices[4]\n",
    "accuracy_student = metrices[5]\n",
    "mcc_cost_student = metrices[6]\n",
    "test_cost_student = tensors_to_lst(metrices[7])\n",
    "f1_class1_teacher_test=metrices[8]\n",
    "f1_class0_teacher_test = metrices[9]\n",
    "accuracy_teacher = metrices[10]\n",
    "mcc_cost_teacher = metrices[11]\n",
    "test_cost_teacher=tensors_to_lst(metrices[12])\n",
    "\n",
    "print('Consistency_lost_train :',consistency_cost_lst,'\\n',\n",
    "      'Classificataion_lost_train : ',classification_cost_lst,'\\n',\n",
    "      'Overall_loss_train :',overall_cost_lst,'\\n',\n",
    "      'f1_class0_student_test :',f1_class0_student_test,'\\n',\n",
    "      'f1_class1_student_test :',f1_class1_student_test,'\\n',\n",
    "      'accuracy_student :',accuracy_student,'\\n',\n",
    "      'mcc_cost_student :',mcc_cost_student,'\\n',\n",
    "      'test_cost_student :',test_cost_student,'\\n',\n",
    "      'f1_class0_teacher_test :',f1_class0_teacher_test,'\\n',\n",
    "      'f1_class1_teacher_test :',f1_class1_teacher_test,'\\n',\n",
    "    'accuracy_teacher :', accuracy_teacher,'\\n',\n",
    "      'mcc_cost_teacher',mcc_cost_teacher,'\\n',\n",
    "      'test_cost_teacher',test_cost_teacher)"
   ]
  },
  {
   "cell_type": "code",
   "execution_count": 74,
   "metadata": {},
   "outputs": [
    {
     "data": {
      "text/plain": [
       "<torch.utils.tensorboard.writer.SummaryWriter at 0x7f774677e198>"
      ]
     },
     "execution_count": 74,
     "metadata": {},
     "output_type": "execute_result"
    }
   ],
   "source": [
    "writer"
   ]
  },
  {
   "cell_type": "code",
   "execution_count": null,
   "metadata": {},
   "outputs": [],
   "source": [
    "plot_against_epochs(test_cost_teacher,test_cost_student,label1 = 'ValidationLoss_teacher', \n",
    "                    label2 = 'ValidationLoss_student', y_label = 'loss', title ='Meanteacher_XLMRoberta' )\n",
    "plot_against_epochs(mcc_cost_teacher,mcc_cost_student,label1 = 'mcc_teacher', \n",
    "                    label2 = 'mcc_student', y_label = 'mcc_score_test', title ='Meanteacher_XLMRoberta' )\n",
    "plot_against_epochs(classification_cost_lst,None,label1 = 'classification_cost_train', \n",
    "                    label2 = None, y_label = 'loss', title ='Meanteacher_XLMRoberta' )\n",
    "plot_against_epochs(consistency_cost_lst,None,label1 = 'Consistency_lost_train', \n",
    "                    label2 = None, y_label = 'loss', title ='Meanteacher_XLMRoberta' )"
   ]
  }
 ],
 "metadata": {
  "instance_type": "ml.g4dn.xlarge",
  "kernelspec": {
   "display_name": "Python 3 (PyTorch 1.6 Python 3.6 GPU Optimized)",
   "language": "python",
   "name": "python3__SAGEMAKER_INTERNAL__arn:aws:sagemaker:eu-west-1:470317259841:image/pytorch-1.6-gpu-py36-cu110-ubuntu18.04-v3"
  },
  "language_info": {
   "codemirror_mode": {
    "name": "ipython",
    "version": 3
   },
   "file_extension": ".py",
   "mimetype": "text/x-python",
   "name": "python",
   "nbconvert_exporter": "python",
   "pygments_lexer": "ipython3",
   "version": "3.6.13"
  }
 },
 "nbformat": 4,
 "nbformat_minor": 4
}
