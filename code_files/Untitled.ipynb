{
 "cells": [
  {
   "cell_type": "code",
   "execution_count": 4,
   "metadata": {},
   "outputs": [
    {
     "name": "stdout",
     "output_type": "stream",
     "text": [
      "Requirement already satisfied: torch in /opt/conda/lib/python3.6/site-packages (1.6.0)\n",
      "Requirement already satisfied: torchvision in /opt/conda/lib/python3.6/site-packages (0.7.0a0+78ed10c)\n",
      "Requirement already satisfied: future in /opt/conda/lib/python3.6/site-packages (from torch) (0.18.2)\n",
      "Requirement already satisfied: numpy in /opt/conda/lib/python3.6/site-packages (from torch) (1.19.1)\n",
      "Requirement already satisfied: pillow>=4.1.1 in /opt/conda/lib/python3.6/site-packages (from torchvision) (8.2.0)\n",
      "\u001b[33mWARNING: Running pip as root will break packages and permissions. You should install packages reliably by using venv: https://pip.pypa.io/warnings/venv\u001b[0m\n",
      "Collecting tensorboard\n",
      "  Using cached tensorboard-2.8.0-py3-none-any.whl (5.8 MB)\n",
      "Collecting absl-py>=0.4\n",
      "  Using cached absl_py-1.0.0-py3-none-any.whl (126 kB)\n",
      "Requirement already satisfied: werkzeug>=0.11.15 in /opt/conda/lib/python3.6/site-packages (from tensorboard) (2.0.1)\n",
      "Collecting grpcio>=1.24.3\n",
      "  Using cached grpcio-1.44.0-cp36-cp36m-manylinux_2_17_x86_64.manylinux2014_x86_64.whl (4.3 MB)\n",
      "Collecting tensorboard-data-server<0.7.0,>=0.6.0\n",
      "  Using cached tensorboard_data_server-0.6.1-py3-none-manylinux2010_x86_64.whl (4.9 MB)\n",
      "Requirement already satisfied: protobuf>=3.6.0 in /opt/conda/lib/python3.6/site-packages (from tensorboard) (3.17.1)\n",
      "Requirement already satisfied: wheel>=0.26 in /opt/conda/lib/python3.6/site-packages (from tensorboard) (0.35.1)\n",
      "Collecting tensorboard-plugin-wit>=1.6.0\n",
      "  Using cached tensorboard_plugin_wit-1.8.1-py3-none-any.whl (781 kB)\n",
      "Requirement already satisfied: requests<3,>=2.21.0 in /opt/conda/lib/python3.6/site-packages (from tensorboard) (2.25.1)\n",
      "Requirement already satisfied: setuptools>=41.0.0 in /opt/conda/lib/python3.6/site-packages (from tensorboard) (59.3.0)\n",
      "Requirement already satisfied: numpy>=1.12.0 in /opt/conda/lib/python3.6/site-packages (from tensorboard) (1.19.1)\n",
      "Collecting google-auth<3,>=1.6.3\n",
      "  Using cached google_auth-2.6.0-py2.py3-none-any.whl (156 kB)\n",
      "Collecting markdown>=2.6.8\n",
      "  Using cached Markdown-3.3.6-py3-none-any.whl (97 kB)\n",
      "Collecting google-auth-oauthlib<0.5,>=0.4.1\n",
      "  Using cached google_auth_oauthlib-0.4.6-py2.py3-none-any.whl (18 kB)\n",
      "Requirement already satisfied: six in /opt/conda/lib/python3.6/site-packages (from absl-py>=0.4->tensorboard) (1.16.0)\n",
      "Collecting cachetools<6.0,>=2.0.0\n",
      "  Using cached cachetools-4.2.4-py3-none-any.whl (10 kB)\n",
      "Requirement already satisfied: rsa<5,>=3.1.4 in /opt/conda/lib/python3.6/site-packages (from google-auth<3,>=1.6.3->tensorboard) (4.7.2)\n",
      "Collecting pyasn1-modules>=0.2.1\n",
      "  Using cached pyasn1_modules-0.2.8-py2.py3-none-any.whl (155 kB)\n",
      "Collecting requests-oauthlib>=0.7.0\n",
      "  Using cached requests_oauthlib-1.3.1-py2.py3-none-any.whl (23 kB)\n",
      "Requirement already satisfied: importlib-metadata>=4.4 in /opt/conda/lib/python3.6/site-packages (from markdown>=2.6.8->tensorboard) (4.4.0)\n",
      "Requirement already satisfied: zipp>=0.5 in /opt/conda/lib/python3.6/site-packages (from importlib-metadata>=4.4->markdown>=2.6.8->tensorboard) (3.4.1)\n",
      "Requirement already satisfied: typing-extensions>=3.6.4 in /opt/conda/lib/python3.6/site-packages (from importlib-metadata>=4.4->markdown>=2.6.8->tensorboard) (3.10.0.0)\n",
      "Requirement already satisfied: pyasn1<0.5.0,>=0.4.6 in /opt/conda/lib/python3.6/site-packages (from pyasn1-modules>=0.2.1->google-auth<3,>=1.6.3->tensorboard) (0.4.8)\n",
      "Requirement already satisfied: chardet<5,>=3.0.2 in /opt/conda/lib/python3.6/site-packages (from requests<3,>=2.21.0->tensorboard) (3.0.4)\n",
      "Requirement already satisfied: urllib3<1.27,>=1.21.1 in /opt/conda/lib/python3.6/site-packages (from requests<3,>=2.21.0->tensorboard) (1.25.11)\n",
      "Requirement already satisfied: certifi>=2017.4.17 in /opt/conda/lib/python3.6/site-packages (from requests<3,>=2.21.0->tensorboard) (2021.5.30)\n",
      "Requirement already satisfied: idna<3,>=2.5 in /opt/conda/lib/python3.6/site-packages (from requests<3,>=2.21.0->tensorboard) (2.10)\n",
      "Collecting oauthlib>=3.0.0\n",
      "  Using cached oauthlib-3.2.0-py3-none-any.whl (151 kB)\n",
      "Requirement already satisfied: dataclasses in /opt/conda/lib/python3.6/site-packages (from werkzeug>=0.11.15->tensorboard) (0.8)\n",
      "Installing collected packages: pyasn1-modules, oauthlib, cachetools, requests-oauthlib, google-auth, tensorboard-plugin-wit, tensorboard-data-server, markdown, grpcio, google-auth-oauthlib, absl-py, tensorboard\n",
      "Successfully installed absl-py-1.0.0 cachetools-4.2.4 google-auth-2.6.0 google-auth-oauthlib-0.4.6 grpcio-1.44.0 markdown-3.3.6 oauthlib-3.2.0 pyasn1-modules-0.2.8 requests-oauthlib-1.3.1 tensorboard-2.8.0 tensorboard-data-server-0.6.1 tensorboard-plugin-wit-1.8.1\n",
      "\u001b[33mWARNING: Running pip as root will break packages and permissions. You should install packages reliably by using venv: https://pip.pypa.io/warnings/venv\u001b[0m\n"
     ]
    }
   ],
   "source": [
    "!pip install torch torchvision\n",
    "!pip install tensorboard"
   ]
  },
  {
   "cell_type": "code",
   "execution_count": 5,
   "metadata": {},
   "outputs": [],
   "source": [
    "from torch.utils.tensorboard import SummaryWriter\n",
    "writer = SummaryWriter()"
   ]
  },
  {
   "cell_type": "code",
   "execution_count": 6,
   "metadata": {},
   "outputs": [],
   "source": [
    "import torchvision\n",
    "import torch"
   ]
  },
  {
   "cell_type": "code",
   "execution_count": 34,
   "metadata": {},
   "outputs": [
    {
     "data": {
      "text/plain": [
       "[<matplotlib.lines.Line2D at 0x7f1946533e48>]"
      ]
     },
     "execution_count": 34,
     "metadata": {},
     "output_type": "execute_result"
    },
    {
     "data": {
      "image/png": "[encoded data removed]",
      "text/plain": [
       "<Figure size 432x288 with 1 Axes>"
      ]
     },
     "metadata": {
      "needs_background": "light"
     },
     "output_type": "display_data"
    }
   ],
   "source": [
    "import numpy as np\n",
    "import matplotlib.pyplot as plt\n",
    "\n",
    "np.random.seed(42)\n",
    "x = 2 * np.pi * np.random.random((100,1))\n",
    "y = np.sin(x)\n",
    "\n",
    "plt.plot(x, y,'o')\n",
    "plt.xlabel('x')\n",
    "plt.ylabel('y')\n",
    "\n",
    "x_all = np.arange(0,2*np.pi, 2*np.pi/100).reshape(-1,1)\n",
    "plt.plot(x_all, np.sin(x_all), 'r')"
   ]
  },
  {
   "cell_type": "code",
   "execution_count": 35,
   "metadata": {},
   "outputs": [
    {
     "name": "stdout",
     "output_type": "stream",
     "text": [
      "MyNet(\n",
      "  (fc1): Linear(in_features=1, out_features=100, bias=True)\n",
      "  (fc2): Linear(in_features=100, out_features=50, bias=True)\n",
      "  (fc3): Linear(in_features=50, out_features=1, bias=True)\n",
      ")\n"
     ]
    }
   ],
   "source": [
    "import torch.nn as nn\n",
    "import torch.nn.functional as F\n",
    "\n",
    "class MyNet(nn.Module):\n",
    "    def __init__(self):\n",
    "        super(MyNet, self).__init__()\n",
    "        self.fc1 = nn.Linear(1,100)\n",
    "        self.fc2 = nn.Linear(100,50)\n",
    "        self.fc3 = nn.Linear(50,1)\n",
    "\n",
    "    def forward(self, x):\n",
    "        x = F.relu(self.fc1(x))\n",
    "        x = F.relu(self.fc2(x))\n",
    "        return self.fc3(x)\n",
    "\n",
    "model = MyNet()\n",
    "print(model)"
   ]
  },
  {
   "cell_type": "code",
   "execution_count": 48,
   "metadata": {},
   "outputs": [
    {
     "data": {
      "text/plain": [
       "\u001b[0;31mSignature:\u001b[0m \u001b[0mwriter\u001b[0m\u001b[0;34m.\u001b[0m\u001b[0madd_graph\u001b[0m\u001b[0;34m(\u001b[0m\u001b[0mmodel\u001b[0m\u001b[0;34m,\u001b[0m \u001b[0minput_to_model\u001b[0m\u001b[0;34m=\u001b[0m\u001b[0;32mNone\u001b[0m\u001b[0;34m,\u001b[0m \u001b[0mverbose\u001b[0m\u001b[0;34m=\u001b[0m\u001b[0;32mFalse\u001b[0m\u001b[0;34m)\u001b[0m\u001b[0;34m\u001b[0m\u001b[0;34m\u001b[0m\u001b[0m\n",
       "\u001b[0;31mDocstring:\u001b[0m\n",
       "Add graph data to summary.\n",
       "\n",
       "Args:\n",
       "    model (torch.nn.Module): Model to draw.\n",
       "    input_to_model (torch.Tensor or list of torch.Tensor): A variable or a tuple of\n",
       "        variables to be fed.\n",
       "    verbose (bool): Whether to print graph structure in console.\n",
       "\u001b[0;31mFile:\u001b[0m      /opt/conda/lib/python3.6/site-packages/torch/utils/tensorboard/writer.py\n",
       "\u001b[0;31mType:\u001b[0m      method\n"
      ]
     },
     "metadata": {},
     "output_type": "display_data"
    }
   ],
   "source": [
    "writer.add_graph?"
   ]
  },
  {
   "cell_type": "code",
   "execution_count": 6,
   "metadata": {},
   "outputs": [],
   "source": [
    "# def check(global_step):\n",
    "#     for _ in range(10):\n",
    "#         global_step+=1\n",
    "#         print(global_step)\n",
    "#     lst= [1,2,3]\n",
    "#     print(global_step) # 600\n",
    "#     return lst , global_step\n",
    "# def check1():\n",
    "#     global_step=0\n",
    "#     for _ in range(5):\n",
    "# #         print(global_step)\n",
    "#         lst, global_step = check(global_step)\n",
    "        \n",
    "# check1()"
   ]
  },
  {
   "cell_type": "code",
   "execution_count": 37,
   "metadata": {},
   "outputs": [],
   "source": [
    "import torch\n",
    "from torch.utils.tensorboard import SummaryWriter\n",
    "\n",
    "writer = SummaryWriter()\n",
    "writer.add_graph(model, torch.from_numpy(x).float())\n",
    "writer.close()"
   ]
  },
  {
   "cell_type": "code",
   "execution_count": 38,
   "metadata": {},
   "outputs": [],
   "source": [
    "import torch\n",
    "import torch.nn as nn\n",
    "import torch.optim as optim\n",
    "\n",
    "# Convert to Tensors\n",
    "x_tensor = torch.from_numpy(x).float()\n",
    "y_tensor = torch.from_numpy(y).float()\n",
    "\n",
    "model = MyNet()\n",
    "\n",
    "# Set Hyperparameters, loss function, and optimizer\n",
    "lr = 1e-1\n",
    "n_epochs = 4000\n",
    "\n",
    "loss_fn = nn.MSELoss(reduction='mean')\n",
    "optimizer = optim.SGD(model.parameters(), lr=lr)"
   ]
  },
  {
   "cell_type": "code",
   "execution_count": 39,
   "metadata": {},
   "outputs": [
    {
     "name": "stdout",
     "output_type": "stream",
     "text": [
      "Epoch: 0 Loss: 0.7513912916183472\n",
      "Epoch: 100 Loss: 0.14184452593326569\n",
      "Epoch: 200 Loss: 0.107558973133564\n",
      "Epoch: 300 Loss: 0.08618123829364777\n",
      "Epoch: 400 Loss: 0.0680684968829155\n",
      "Epoch: 500 Loss: 0.05225613713264465\n",
      "Epoch: 600 Loss: 0.04115648567676544\n",
      "Epoch: 700 Loss: 0.04602091386914253\n",
      "Epoch: 800 Loss: 0.03941364213824272\n",
      "Epoch: 900 Loss: 0.03546077385544777\n",
      "Epoch: 1000 Loss: 0.03286180645227432\n",
      "Epoch: 1100 Loss: 0.029712388291954994\n",
      "Epoch: 1200 Loss: 0.03031614050269127\n",
      "Epoch: 1300 Loss: 0.03329243138432503\n",
      "Epoch: 1400 Loss: 0.029925575479865074\n",
      "Epoch: 1500 Loss: 0.02987964078783989\n",
      "Epoch: 1600 Loss: 0.032036423683166504\n",
      "Epoch: 1700 Loss: 0.03193345665931702\n",
      "Epoch: 1800 Loss: 0.03085366077721119\n",
      "Epoch: 1900 Loss: 0.030400682240724564\n",
      "Epoch: 2000 Loss: 0.030865974724292755\n",
      "Epoch: 2100 Loss: 0.031106319278478622\n",
      "Epoch: 2200 Loss: 0.030376041308045387\n",
      "Epoch: 2300 Loss: 0.02986770123243332\n",
      "Epoch: 2400 Loss: 0.029850199818611145\n",
      "Epoch: 2500 Loss: 0.029815467074513435\n",
      "Epoch: 2600 Loss: 0.029412874951958656\n",
      "Epoch: 2700 Loss: 0.029171694070100784\n",
      "Epoch: 2800 Loss: 0.029088463634252548\n",
      "Epoch: 2900 Loss: 0.029037781059741974\n",
      "Epoch: 3000 Loss: 0.02900753542780876\n",
      "Epoch: 3100 Loss: 0.028983067721128464\n",
      "Epoch: 3200 Loss: 0.028962720185518265\n",
      "Epoch: 3300 Loss: 0.02894509769976139\n",
      "Epoch: 3400 Loss: 0.02892916277050972\n",
      "Epoch: 3500 Loss: 0.02892036736011505\n",
      "Epoch: 3600 Loss: 0.02890780195593834\n",
      "Epoch: 3700 Loss: 0.028895676136016846\n",
      "Epoch: 3800 Loss: 0.02889125607907772\n",
      "Epoch: 3900 Loss: 0.028831126168370247\n"
     ]
    }
   ],
   "source": [
    "for epoch in range(n_epochs):\n",
    "    y_pred = model(x_tensor)\n",
    "    loss = loss_fn(y_tensor, y_pred)\n",
    "    loss.backward()\n",
    "    optimizer.step()\n",
    "    optimizer.zero_grad()\n",
    "    \n",
    "    if (epoch%100 == 0):\n",
    "        print('Epoch: {} Loss: {}'.format(epoch, loss.item()))"
   ]
  },
  {
   "cell_type": "code",
   "execution_count": 40,
   "metadata": {},
   "outputs": [],
   "source": [
    "import torch\n",
    "import torch.nn as nn\n",
    "import torch.optim as optim\n",
    "\n",
    "# Convert to Tensors\n",
    "x_tensor = torch.from_numpy(x).float()\n",
    "y_tensor = torch.from_numpy(y).float()\n",
    "\n",
    "model = MyNet()\n",
    "\n",
    "# Set Hyperparameters, loss function, and optimizer\n",
    "lr = 1e-1\n",
    "n_epochs = 4000\n",
    "\n",
    "loss_fn = nn.MSELoss(reduction='mean')\n",
    "optimizer = optim.SGD(model.parameters(), lr=lr)"
   ]
  },
  {
   "cell_type": "code",
   "execution_count": 41,
   "metadata": {},
   "outputs": [],
   "source": [
    "from torch.utils.tensorboard import SummaryWriter\n",
    "\n",
    "writer = SummaryWriter()\n",
    "# Training Loop\n",
    "for epoch in range(n_epochs):\n",
    "    y_pred = model(x_tensor)\n",
    "    loss = loss_fn(y_tensor, y_pred)\n",
    "    loss.backward()\n",
    "    optimizer.step()\n",
    "    optimizer.zero_grad()\n",
    "  \n",
    "    if (epoch%100 == 0):\n",
    "        writer.add_scalar('Loss', loss.item(), epoch)\n",
    "\n",
    "writer.close()"
   ]
  },
  {
   "cell_type": "code",
   "execution_count": 42,
   "metadata": {},
   "outputs": [
    {
     "name": "stdout",
     "output_type": "stream",
     "text": [
      "0.5052874088287354\n"
     ]
    }
   ],
   "source": [
    "writer = SummaryWriter()\n",
    "\n",
    "x_sort = np.sort(x, axis=None).reshape(-1,1)\n",
    "\n",
    "for epoch in range(n_epochs):\n",
    "    \n",
    "    y_pred = model(x_tensor)\n",
    "    loss = loss_fn(y_tensor, y_pred)\n",
    "    loss.backward()\n",
    "    optimizer.step()\n",
    "    optimizer.zero_grad()\n",
    "  \n",
    "    if (epoch%100 == 0):\n",
    "        writer.add_scalar('MSE Loss', loss.item(), epoch)\n",
    "    \n",
    "    # Write y_pred and compare to truth\n",
    "        y_pred_sort = model(torch.from_numpy(x_sort).float())\n",
    "        fig, ax = plt.subplots()\n",
    "        ax.plot(x_sort, y_pred_sort.detach())\n",
    "        ax.plot(x_sort, np.sin(x_sort))\n",
    "        writer.add_figure('y_pred', fig, epoch, close=True)\n",
    "        plt.close(fig)\n",
    "\n",
    "writer.add_graph(model, x_tensor)\n",
    "writer.add_hparams({'lr': lr}, {'loss':loss.item()})\n",
    " \n",
    "print(loss.item())\n",
    "writer.close()"
   ]
  },
  {
   "cell_type": "code",
   "execution_count": 43,
   "metadata": {},
   "outputs": [],
   "source": [
    "writer = SummaryWriter()\n",
    "\n",
    "x_test = np.arange(0,2*np.pi,2*np.pi/100).reshape(-1,1)\n",
    "y_test = np.sin(x_test)\n",
    "\n",
    "for epoch in range(n_epochs):\n",
    "    y_pred = model(x_tensor)\n",
    "    loss = loss_fn(y_tensor, y_pred)\n",
    "    loss.backward()\n",
    "    optimizer.step()\n",
    "    optimizer.zero_grad()\n",
    "  \n",
    "    if (epoch%100 == 0):\n",
    "    # Compute y_pred and compare to truth, y_test\n",
    "        y_pred2 = model(torch.from_numpy(x_test).float())\n",
    "\n",
    "        fig, ax = plt.subplots()\n",
    "        ax.plot(x_test, y_test, 'b')\n",
    "        ax.plot(x_test, y_pred2.detach(), 'r')\n",
    "        ax.legend(('Truth', 'Pred'))\n",
    "        writer.add_figure('y_pred', fig, epoch, close=True)\n",
    "        plt.close(fig)\n",
    "\n",
    "writer.close()"
   ]
  },
  {
   "cell_type": "code",
   "execution_count": 44,
   "metadata": {},
   "outputs": [],
   "source": [
    "writer = SummaryWriter()\n",
    "\n",
    "x_test = np.arange(0,2*np.pi,2*np.pi/100).reshape(-1,1)\n",
    "y_test = np.sin(x_test)\n",
    "\n",
    "for epoch in range(n_epochs):\n",
    "    y_pred = model(x_tensor)\n",
    "    loss = loss_fn(y_tensor, y_pred)\n",
    "    loss.backward()\n",
    "    optimizer.step()\n",
    "    optimizer.zero_grad()\n",
    "  \n",
    "    if (epoch%100 == 0):\n",
    "        writer.add_histogram('fc1/weights', model.fc1.weight, epoch)\n",
    "        writer.add_histogram('fc2/biases', model.fc2.bias, epoch)\n",
    "\n",
    "writer.close()"
   ]
  },
  {
   "cell_type": "code",
   "execution_count": 45,
   "metadata": {},
   "outputs": [
    {
     "data": {
      "text/plain": [
       "[<matplotlib.lines.Line2D at 0x7f19464f9f98>]"
      ]
     },
     "execution_count": 45,
     "metadata": {},
     "output_type": "execute_result"
    },
    {
     "data": {
      "image/png": "[encoded data removed]",
      "text/plain": [
       "<Figure size 432x288 with 1 Axes>"
      ]
     },
     "metadata": {
      "needs_background": "light"
     },
     "output_type": "display_data"
    }
   ],
   "source": [
    "import numpy as np\n",
    "import matplotlib.pyplot as plt\n",
    "\n",
    "np.random.seed(42)\n",
    "x = 2 * np.pi * np.random.random((100,1))\n",
    "y = np.sin(x)\n",
    "\n",
    "plt.plot(x, y,'o')\n",
    "plt.xlabel('x')\n",
    "plt.ylabel('y')\n",
    "\n",
    "x_all = np.arange(0,2*np.pi, 2*np.pi/100).reshape(-1,1)\n",
    "plt.plot(x_all, np.sin(x_all), 'r')"
   ]
  },
  {
   "cell_type": "code",
   "execution_count": 50,
   "metadata": {},
   "outputs": [
    {
     "data": {
      "text/plain": [
       "\u001b[0;31mSignature:\u001b[0m \u001b[0mwriter\u001b[0m\u001b[0;34m.\u001b[0m\u001b[0madd_scalar\u001b[0m\u001b[0;34m(\u001b[0m\u001b[0mtag\u001b[0m\u001b[0;34m,\u001b[0m \u001b[0mscalar_value\u001b[0m\u001b[0;34m,\u001b[0m \u001b[0mglobal_step\u001b[0m\u001b[0;34m=\u001b[0m\u001b[0;32mNone\u001b[0m\u001b[0;34m,\u001b[0m \u001b[0mwalltime\u001b[0m\u001b[0;34m=\u001b[0m\u001b[0;32mNone\u001b[0m\u001b[0;34m)\u001b[0m\u001b[0;34m\u001b[0m\u001b[0;34m\u001b[0m\u001b[0m\n",
       "\u001b[0;31mDocstring:\u001b[0m\n",
       "Add scalar data to summary.\n",
       "\n",
       "Args:\n",
       "    tag (string): Data identifier\n",
       "    scalar_value (float or string/blobname): Value to save\n",
       "    global_step (int): Global step value to record\n",
       "    walltime (float): Optional override default walltime (time.time())\n",
       "      with seconds after epoch of event\n",
       "\n",
       "Examples::\n",
       "\n",
       "    from torch.utils.tensorboard import SummaryWriter\n",
       "    writer = SummaryWriter()\n",
       "    x = range(100)\n",
       "    for i in x:\n",
       "        writer.add_scalar('y=2x', i * 2, i)\n",
       "    writer.close()\n",
       "\n",
       "Expected result:\n",
       "\n",
       ".. image:: _static/img/tensorboard/add_scalar.png\n",
       "   :scale: 50 %\n",
       "\u001b[0;31mFile:\u001b[0m      /opt/conda/lib/python3.6/site-packages/torch/utils/tensorboard/writer.py\n",
       "\u001b[0;31mType:\u001b[0m      method\n"
      ]
     },
     "metadata": {},
     "output_type": "display_data"
    }
   ],
   "source": [
    "writer.add_scalar?"
   ]
  },
  {
   "cell_type": "code",
   "execution_count": 14,
   "metadata": {},
   "outputs": [],
   "source": [
    "x = torch.arange(-5, 5, 0.1).view(-1, 1)\n",
    "x_ = torch.arange(-4,4,0.2).view(-1,1)\n",
    "y = -5 * x + 0.1 * torch.randn(x.size())\n",
    "y_ = -4*x_ + 0.1 * torch.randn(x_.size())\n",
    "model = torch.nn.Linear(1, 1)\n",
    "criterion = torch.nn.MSELoss()\n",
    "optimizer = torch.optim.SGD(model.parameters(), lr = 0.1)\n",
    "\n",
    "def train_model(iter):\n",
    "    for epoch in range(iter):\n",
    "        model.train()\n",
    "        y1 = model(x)\n",
    "        loss = criterion(y1, y)\n",
    "        writer.add_scalar(\"Loss/train\", loss, epoch)\n",
    "        optimizer.zero_grad()\n",
    "        loss.backward()\n",
    "        optimizer.step()\n",
    "        model.eval()\n",
    "        y2 = model(x_)\n",
    "        loss = criterion(y2,y_)\n",
    "        writer.add_scalar(\"Loss/val\",loss,epoch)\n",
    "\n",
    "\n",
    "        \n",
    "train_model(20)\n",
    "writer.flush()\n",
    "writer.close()"
   ]
  },
  {
   "cell_type": "code",
   "execution_count": 46,
   "metadata": {},
   "outputs": [
    {
     "name": "stdout",
     "output_type": "stream",
     "text": [
      "MyNet(\n",
      "  (fc1): Linear(in_features=1, out_features=100, bias=True)\n",
      "  (fc2): Linear(in_features=100, out_features=50, bias=True)\n",
      "  (fc3): Linear(in_features=50, out_features=1, bias=True)\n",
      ")\n"
     ]
    }
   ],
   "source": [
    "import torch.nn as nn\n",
    "import torch.nn.functional as F\n",
    "\n",
    "class MyNet(nn.Module):\n",
    "    def __init__(self):\n",
    "        super(MyNet, self).__init__()\n",
    "        self.fc1 = nn.Linear(1,100)\n",
    "        self.fc2 = nn.Linear(100,50)\n",
    "        self.fc3 = nn.Linear(50,1)\n",
    "\n",
    "    def forward(self, x):\n",
    "        x = F.relu(self.fc1(x))\n",
    "        x = F.relu(self.fc2(x))\n",
    "        return self.fc3(x)\n",
    "\n",
    "model = MyNet()\n",
    "print(model)"
   ]
  },
  {
   "cell_type": "code",
   "execution_count": 47,
   "metadata": {},
   "outputs": [],
   "source": [
    "from torch.utils.tensorboard import SummaryWriter\n",
    "\n",
    "# reset \n",
    "!rm -rf runs/\n",
    "model = MyNet()\n",
    "\n",
    "# Set Hyperparameters, loss function, and optimizer\n",
    "lr = 1e-1\n",
    "n_epochs = 4000\n",
    "\n",
    "loss_fn = nn.MSELoss(reduction='mean')\n",
    "optimizer = optim.SGD(model.parameters(), lr=lr)\n",
    "\n",
    "writer = SummaryWriter()\n",
    "# Training Loop\n",
    "for epoch in range(n_epochs):\n",
    "  \n",
    "    y_pred = model(x_tensor)\n",
    "    loss = loss_fn(y_tensor, y_pred)\n",
    "    loss.backward()\n",
    "    optimizer.step()\n",
    "    optimizer.zero_grad()\n",
    "  \n",
    "    if (epoch%100 == 0):\n",
    "        writer.add_histogram('fc1/weights', model.fc1.weight.data, epoch)\n",
    "        writer.add_histogram('fc1/biases', model.fc1.bias.data, epoch)\n",
    "        writer.add_histogram('fc2/weights', model.fc2.weight.data, epoch)\n",
    "        writer.add_histogram('fc2/biases', model.fc2.bias.data, epoch)\n",
    "        writer.add_histogram('fc3/weights', model.fc3.weight.data, epoch)\n",
    "        writer.add_histogram('fc3/biases', model.fc3.bias.data, epoch)\n",
    "\n",
    "writer.close()"
   ]
  },
  {
   "cell_type": "code",
   "execution_count": 82,
   "metadata": {},
   "outputs": [
    {
     "data": {
      "text/plain": [
       "<PowBackward0 at 0x7f193ff507b8>"
      ]
     },
     "execution_count": 82,
     "metadata": {},
     "output_type": "execute_result"
    }
   ],
   "source": [
    "x = torch.randn(5, requires_grad=True)\n",
    "y = x.pow(2)\n",
    "y.grad_fn"
   ]
  },
  {
   "cell_type": "code",
   "execution_count": 9,
   "metadata": {},
   "outputs": [
    {
     "name": "stdout",
     "output_type": "stream",
     "text": [
      "TensorFlow installation not found - running with reduced feature set.\n",
      "Upload started and will continue reading any new data as it's added to the logdir.\n",
      "\n",
      "To stop uploading, press Ctrl-C.\n",
      "\n",
      "New experiment created. View your TensorBoard at: https://tensorboard.dev/experiment/ybEoZ6J3QS67rvz3YeID1w/\n",
      "\n",
      "\u001b[1m[2022-02-28T18:31:46]\u001b[0m Started scanning logdir.\n",
      "\u001b[1m[2022-02-28T18:31:47]\u001b[0m Total uploaded: 20 scalars, 0 tensors, 0 binary objects\n",
      "^C2K\u001b[33mListening for new data in logdir...\u001b[0m\n",
      "\n",
      "\n",
      "Interrupted. View your TensorBoard at https://tensorboard.dev/experiment/ybEoZ6J3QS67rvz3YeID1w/\n"
     ]
    }
   ],
   "source": [
    "!tensorboard dev upload --logdir runs \\\n",
    "--name \"My latest2 experiment\" \\\n",
    "--description \"Simple comparison of several hyperparameters\""
   ]
  },
  {
   "cell_type": "code",
   "execution_count": 57,
   "metadata": {},
   "outputs": [
    {
     "name": "stdout",
     "output_type": "stream",
     "text": [
      "Python is fantastic\n"
     ]
    }
   ],
   "source": [
    "x = \"awesome\"\n",
    "\n",
    "def myfunc():\n",
    "    global x\n",
    "    x = \"fantastic\"\n",
    "\n",
    "myfunc()\n",
    "\n",
    "print(\"Python is \" + x)\n"
   ]
  },
  {
   "cell_type": "code",
   "execution_count": 67,
   "metadata": {},
   "outputs": [],
   "source": [
    "def A(step):\n",
    "    step+=1\n",
    "    return step\n",
    "    "
   ]
  },
  {
   "cell_type": "code",
   "execution_count": 76,
   "metadata": {},
   "outputs": [
    {
     "ename": "UnboundLocalError",
     "evalue": "local variable 'step' referenced before assignment",
     "output_type": "error",
     "traceback": [
      "\u001b[0;31m---------------------------------------------------------------------------\u001b[0m",
      "\u001b[0;31mUnboundLocalError\u001b[0m                         Traceback (most recent call last)",
      "\u001b[0;32m<ipython-input-76-9d483e75fba0>\u001b[0m in \u001b[0;36m<module>\u001b[0;34m\u001b[0m\n\u001b[1;32m      5\u001b[0m     \u001b[0mstep\u001b[0m\u001b[0;34m=\u001b[0m\u001b[0mstep\u001b[0m\u001b[0;34m+\u001b[0m\u001b[0;36m1\u001b[0m\u001b[0;34m\u001b[0m\u001b[0;34m\u001b[0m\u001b[0m\n\u001b[1;32m      6\u001b[0m \u001b[0;31m#     return step\u001b[0m\u001b[0;34m\u001b[0m\u001b[0;34m\u001b[0m\u001b[0;34m\u001b[0m\u001b[0m\n\u001b[0;32m----> 7\u001b[0;31m \u001b[0mB\u001b[0m\u001b[0;34m(\u001b[0m\u001b[0;34m)\u001b[0m\u001b[0;34m\u001b[0m\u001b[0;34m\u001b[0m\u001b[0m\n\u001b[0m\u001b[1;32m      8\u001b[0m \u001b[0mprint\u001b[0m\u001b[0;34m(\u001b[0m\u001b[0mstep\u001b[0m\u001b[0;34m)\u001b[0m\u001b[0;34m\u001b[0m\u001b[0;34m\u001b[0m\u001b[0m\n",
      "\u001b[0;32m<ipython-input-76-9d483e75fba0>\u001b[0m in \u001b[0;36mB\u001b[0;34m()\u001b[0m\n\u001b[1;32m      3\u001b[0m \u001b[0;32mdef\u001b[0m \u001b[0mB\u001b[0m\u001b[0;34m(\u001b[0m\u001b[0;34m)\u001b[0m\u001b[0;34m:\u001b[0m\u001b[0;34m\u001b[0m\u001b[0;34m\u001b[0m\u001b[0m\n\u001b[1;32m      4\u001b[0m \u001b[0;31m#     print(step)\u001b[0m\u001b[0;34m\u001b[0m\u001b[0;34m\u001b[0m\u001b[0;34m\u001b[0m\u001b[0m\n\u001b[0;32m----> 5\u001b[0;31m     \u001b[0mstep\u001b[0m\u001b[0;34m=\u001b[0m\u001b[0mstep\u001b[0m\u001b[0;34m+\u001b[0m\u001b[0;36m1\u001b[0m\u001b[0;34m\u001b[0m\u001b[0;34m\u001b[0m\u001b[0m\n\u001b[0m\u001b[1;32m      6\u001b[0m \u001b[0;31m#     return step\u001b[0m\u001b[0;34m\u001b[0m\u001b[0;34m\u001b[0m\u001b[0;34m\u001b[0m\u001b[0m\n\u001b[1;32m      7\u001b[0m \u001b[0mB\u001b[0m\u001b[0;34m(\u001b[0m\u001b[0;34m)\u001b[0m\u001b[0;34m\u001b[0m\u001b[0;34m\u001b[0m\u001b[0m\n",
      "\u001b[0;31mUnboundLocalError\u001b[0m: local variable 'step' referenced before assignment"
     ]
    }
   ],
   "source": [
    "global step \n",
    "step=0\n",
    "def B():\n",
    "#     print(step)\n",
    "    step=step+1\n",
    "#     return step\n",
    "B()\n",
    "print(step)"
   ]
  },
  {
   "cell_type": "code",
   "execution_count": 19,
   "metadata": {},
   "outputs": [
    {
     "data": {
      "text/html": [
       "\n",
       "      <iframe id=\"tensorboard-frame-296b82a9ea16df11\" width=\"100%\" height=\"800\" frameborder=\"0\">\n",
       "      </iframe>\n",
       "      <script>\n",
       "        (function() {\n",
       "          const frame = document.getElementById(\"tensorboard-frame-296b82a9ea16df11\");\n",
       "          const url = new URL(\"/\", window.location);\n",
       "          url.port = 6009;\n",
       "          frame.src = url;\n",
       "        })();\n",
       "      </script>\n",
       "  "
      ],
      "text/plain": [
       "<IPython.core.display.HTML object>"
      ]
     },
     "metadata": {},
     "output_type": "display_data"
    }
   ],
   "source": [
    "%tensorboard --logdir=runs"
   ]
  },
  {
   "cell_type": "code",
   "execution_count": null,
   "metadata": {},
   "outputs": [],
   "source": []
  }
 ],
 "metadata": {
  "kernelspec": {
   "display_name": "Python 3 (Data Science)",
   "language": "python",
   "name": "python3__SAGEMAKER_INTERNAL__arn:aws:sagemaker:eu-west-1:470317259841:image/datascience-1.0"
  },
  "language_info": {
   "codemirror_mode": {
    "name": "ipython",
    "version": 3
   },
   "file_extension": ".py",
   "mimetype": "text/x-python",
   "name": "python",
   "nbconvert_exporter": "python",
   "pygments_lexer": "ipython3",
   "version": "3.7.10"
  }
 },
 "nbformat": 4,
 "nbformat_minor": 4
}
