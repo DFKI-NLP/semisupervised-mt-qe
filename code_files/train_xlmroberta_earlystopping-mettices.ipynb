{
 "cells": [
  {
   "cell_type": "code",
   "execution_count": 2,
   "metadata": {},
   "outputs": [
    {
     "name": "stdout",
     "output_type": "stream",
     "text": [
      "Collecting transformers\n",
      "  Using cached transformers-4.16.2-py3-none-any.whl (3.5 MB)\n",
      "Collecting huggingface-hub<1.0,>=0.1.0\n",
      "  Using cached huggingface_hub-0.4.0-py3-none-any.whl (67 kB)\n",
      "Requirement already satisfied: importlib-metadata in /opt/conda/lib/python3.6/site-packages (from transformers) (4.4.0)\n",
      "Collecting sacremoses\n",
      "  Using cached sacremoses-0.0.47-py2.py3-none-any.whl (895 kB)\n",
      "Collecting filelock\n",
      "  Using cached filelock-3.4.1-py3-none-any.whl (9.9 kB)\n",
      "Collecting tokenizers!=0.11.3,>=0.10.1\n",
      "  Using cached tokenizers-0.11.6-cp36-cp36m-manylinux_2_12_x86_64.manylinux2010_x86_64.whl (6.5 MB)\n",
      "Requirement already satisfied: requests in /opt/conda/lib/python3.6/site-packages (from transformers) (2.25.1)\n",
      "Requirement already satisfied: dataclasses in /opt/conda/lib/python3.6/site-packages (from transformers) (0.8)\n",
      "Collecting regex!=2019.12.17\n",
      "  Using cached regex-2022.3.2-cp36-cp36m-manylinux_2_17_x86_64.manylinux2014_x86_64.whl (749 kB)\n",
      "Requirement already satisfied: packaging>=20.0 in /opt/conda/lib/python3.6/site-packages (from transformers) (20.9)\n",
      "Requirement already satisfied: tqdm>=4.27 in /opt/conda/lib/python3.6/site-packages (from transformers) (4.51.0)\n",
      "Requirement already satisfied: numpy>=1.17 in /opt/conda/lib/python3.6/site-packages (from transformers) (1.19.1)\n",
      "Requirement already satisfied: pyyaml>=5.1 in /opt/conda/lib/python3.6/site-packages (from transformers) (5.4.1)\n",
      "Requirement already satisfied: typing-extensions>=3.7.4.3 in /opt/conda/lib/python3.6/site-packages (from huggingface-hub<1.0,>=0.1.0->transformers) (3.10.0.0)\n",
      "Requirement already satisfied: pyparsing>=2.0.2 in /opt/conda/lib/python3.6/site-packages (from packaging>=20.0->transformers) (2.4.7)\n",
      "Requirement already satisfied: zipp>=0.5 in /opt/conda/lib/python3.6/site-packages (from importlib-metadata->transformers) (3.4.1)\n",
      "Requirement already satisfied: certifi>=2017.4.17 in /opt/conda/lib/python3.6/site-packages (from requests->transformers) (2021.5.30)\n",
      "Requirement already satisfied: urllib3<1.27,>=1.21.1 in /opt/conda/lib/python3.6/site-packages (from requests->transformers) (1.25.11)\n",
      "Requirement already satisfied: chardet<5,>=3.0.2 in /opt/conda/lib/python3.6/site-packages (from requests->transformers) (3.0.4)\n",
      "Requirement already satisfied: idna<3,>=2.5 in /opt/conda/lib/python3.6/site-packages (from requests->transformers) (2.10)\n",
      "Requirement already satisfied: joblib in /opt/conda/lib/python3.6/site-packages (from sacremoses->transformers) (1.0.1)\n",
      "Requirement already satisfied: click in /opt/conda/lib/python3.6/site-packages (from sacremoses->transformers) (7.1.2)\n",
      "Requirement already satisfied: six in /opt/conda/lib/python3.6/site-packages (from sacremoses->transformers) (1.16.0)\n",
      "Installing collected packages: regex, filelock, tokenizers, sacremoses, huggingface-hub, transformers\n",
      "Successfully installed filelock-3.4.1 huggingface-hub-0.4.0 regex-2022.3.2 sacremoses-0.0.47 tokenizers-0.11.6 transformers-4.16.2\n",
      "\u001b[33mWARNING: Running pip as root will break packages and permissions. You should install packages reliably by using venv: https://pip.pypa.io/warnings/venv\u001b[0m\n",
      "Collecting sentencepiece\n",
      "  Using cached sentencepiece-0.1.96-cp36-cp36m-manylinux_2_17_x86_64.manylinux2014_x86_64.whl (1.2 MB)\n",
      "Installing collected packages: sentencepiece\n",
      "Successfully installed sentencepiece-0.1.96\n",
      "\u001b[33mWARNING: Running pip as root will break packages and permissions. You should install packages reliably by using venv: https://pip.pypa.io/warnings/venv\u001b[0m\n",
      "Collecting nltk\n",
      "  Using cached nltk-3.6.7-py3-none-any.whl (1.5 MB)\n",
      "Requirement already satisfied: click in /opt/conda/lib/python3.6/site-packages (from nltk) (7.1.2)\n",
      "Requirement already satisfied: regex>=2021.8.3 in /opt/conda/lib/python3.6/site-packages (from nltk) (2022.3.2)\n",
      "Requirement already satisfied: joblib in /opt/conda/lib/python3.6/site-packages (from nltk) (1.0.1)\n",
      "Requirement already satisfied: tqdm in /opt/conda/lib/python3.6/site-packages (from nltk) (4.51.0)\n",
      "Installing collected packages: nltk\n",
      "Successfully installed nltk-3.6.7\n",
      "\u001b[33mWARNING: Running pip as root will break packages and permissions. You should install packages reliably by using venv: https://pip.pypa.io/warnings/venv\u001b[0m\n",
      "Collecting ipywidgets\n",
      "  Using cached ipywidgets-7.6.5-py2.py3-none-any.whl (121 kB)\n",
      "Collecting jupyterlab-widgets>=1.0.0\n",
      "  Using cached jupyterlab_widgets-1.0.2-py3-none-any.whl (243 kB)\n",
      "Requirement already satisfied: ipython-genutils~=0.2.0 in /opt/conda/lib/python3.6/site-packages (from ipywidgets) (0.2.0)\n",
      "Collecting widgetsnbextension~=3.5.0\n",
      "  Using cached widgetsnbextension-3.5.2-py2.py3-none-any.whl (1.6 MB)\n",
      "Collecting nbformat>=4.2.0\n",
      "  Using cached nbformat-5.1.3-py3-none-any.whl (178 kB)\n",
      "Requirement already satisfied: traitlets>=4.3.1 in /opt/conda/lib/python3.6/site-packages (from ipywidgets) (4.3.3)\n",
      "Requirement already satisfied: ipykernel>=4.5.1 in /opt/conda/lib/python3.6/site-packages (from ipywidgets) (5.5.6)\n",
      "Requirement already satisfied: ipython>=4.0.0 in /opt/conda/lib/python3.6/site-packages (from ipywidgets) (7.16.3)\n",
      "Requirement already satisfied: jupyter-client in /opt/conda/lib/python3.6/site-packages (from ipykernel>=4.5.1->ipywidgets) (7.1.2)\n",
      "Requirement already satisfied: tornado>=4.2 in /opt/conda/lib/python3.6/site-packages (from ipykernel>=4.5.1->ipywidgets) (6.1)\n",
      "Requirement already satisfied: pickleshare in /opt/conda/lib/python3.6/site-packages (from ipython>=4.0.0->ipywidgets) (0.7.5)\n",
      "Requirement already satisfied: pexpect in /opt/conda/lib/python3.6/site-packages (from ipython>=4.0.0->ipywidgets) (4.8.0)\n",
      "Requirement already satisfied: decorator in /opt/conda/lib/python3.6/site-packages (from ipython>=4.0.0->ipywidgets) (5.1.1)\n",
      "Requirement already satisfied: prompt-toolkit!=3.0.0,!=3.0.1,<3.1.0,>=2.0.0 in /opt/conda/lib/python3.6/site-packages (from ipython>=4.0.0->ipywidgets) (3.0.26)\n",
      "Requirement already satisfied: backcall in /opt/conda/lib/python3.6/site-packages (from ipython>=4.0.0->ipywidgets) (0.2.0)\n",
      "Requirement already satisfied: setuptools>=18.5 in /opt/conda/lib/python3.6/site-packages (from ipython>=4.0.0->ipywidgets) (59.3.0)\n",
      "Collecting jedi<=0.17.2,>=0.10\n",
      "  Using cached jedi-0.17.2-py2.py3-none-any.whl (1.4 MB)\n",
      "Requirement already satisfied: pygments in /opt/conda/lib/python3.6/site-packages (from ipython>=4.0.0->ipywidgets) (2.11.2)\n",
      "Collecting parso<0.8.0,>=0.7.0\n",
      "  Using cached parso-0.7.1-py2.py3-none-any.whl (109 kB)\n",
      "Requirement already satisfied: jupyter-core in /opt/conda/lib/python3.6/site-packages (from nbformat>=4.2.0->ipywidgets) (4.9.1)\n",
      "Collecting jsonschema!=2.5.0,>=2.4\n",
      "  Using cached jsonschema-3.2.0-py2.py3-none-any.whl (56 kB)\n",
      "Requirement already satisfied: attrs>=17.4.0 in /opt/conda/lib/python3.6/site-packages (from jsonschema!=2.5.0,>=2.4->nbformat>=4.2.0->ipywidgets) (21.2.0)\n",
      "Collecting pyrsistent>=0.14.0\n",
      "  Using cached pyrsistent-0.18.0-cp36-cp36m-manylinux1_x86_64.whl (117 kB)\n",
      "Requirement already satisfied: importlib-metadata in /opt/conda/lib/python3.6/site-packages (from jsonschema!=2.5.0,>=2.4->nbformat>=4.2.0->ipywidgets) (4.4.0)\n",
      "Requirement already satisfied: six>=1.11.0 in /opt/conda/lib/python3.6/site-packages (from jsonschema!=2.5.0,>=2.4->nbformat>=4.2.0->ipywidgets) (1.16.0)\n",
      "Requirement already satisfied: wcwidth in /opt/conda/lib/python3.6/site-packages (from prompt-toolkit!=3.0.0,!=3.0.1,<3.1.0,>=2.0.0->ipython>=4.0.0->ipywidgets) (0.2.5)\n",
      "Collecting notebook>=4.4.1\n",
      "  Using cached notebook-6.4.8-py3-none-any.whl (9.9 MB)\n",
      "Requirement already satisfied: jinja2 in /opt/conda/lib/python3.6/site-packages (from notebook>=4.4.1->widgetsnbextension~=3.5.0->ipywidgets) (3.0.1)\n",
      "Collecting prometheus-client\n",
      "  Using cached prometheus_client-0.13.1-py3-none-any.whl (57 kB)\n",
      "Requirement already satisfied: pyzmq>=17 in /opt/conda/lib/python3.6/site-packages (from notebook>=4.4.1->widgetsnbextension~=3.5.0->ipywidgets) (22.1.0)\n",
      "Collecting terminado>=0.8.3\n",
      "  Using cached terminado-0.12.1-py3-none-any.whl (15 kB)\n",
      "Collecting nbconvert\n",
      "  Using cached nbconvert-6.0.7-py3-none-any.whl (552 kB)\n",
      "Requirement already satisfied: nest-asyncio>=1.5 in /opt/conda/lib/python3.6/site-packages (from notebook>=4.4.1->widgetsnbextension~=3.5.0->ipywidgets) (1.5.4)\n",
      "Collecting argon2-cffi\n",
      "  Using cached argon2_cffi-21.3.0-py3-none-any.whl (14 kB)\n",
      "Collecting Send2Trash>=1.8.0\n",
      "  Using cached Send2Trash-1.8.0-py3-none-any.whl (18 kB)\n",
      "Requirement already satisfied: python-dateutil>=2.1 in /opt/conda/lib/python3.6/site-packages (from jupyter-client->ipykernel>=4.5.1->ipywidgets) (2.8.2)\n",
      "Requirement already satisfied: entrypoints in /opt/conda/lib/python3.6/site-packages (from jupyter-client->ipykernel>=4.5.1->ipywidgets) (0.3)\n",
      "Requirement already satisfied: ptyprocess in /opt/conda/lib/python3.6/site-packages (from terminado>=0.8.3->notebook>=4.4.1->widgetsnbextension~=3.5.0->ipywidgets) (0.7.0)\n",
      "Requirement already satisfied: typing-extensions in /opt/conda/lib/python3.6/site-packages (from argon2-cffi->notebook>=4.4.1->widgetsnbextension~=3.5.0->ipywidgets) (3.10.0.0)\n",
      "Collecting argon2-cffi-bindings\n",
      "  Using cached argon2_cffi_bindings-21.2.0-cp36-abi3-manylinux_2_17_x86_64.manylinux2014_x86_64.whl (86 kB)\n",
      "Requirement already satisfied: dataclasses in /opt/conda/lib/python3.6/site-packages (from argon2-cffi->notebook>=4.4.1->widgetsnbextension~=3.5.0->ipywidgets) (0.8)\n",
      "Requirement already satisfied: cffi>=1.0.1 in /opt/conda/lib/python3.6/site-packages (from argon2-cffi-bindings->argon2-cffi->notebook>=4.4.1->widgetsnbextension~=3.5.0->ipywidgets) (1.14.5)\n",
      "Requirement already satisfied: pycparser in /opt/conda/lib/python3.6/site-packages (from cffi>=1.0.1->argon2-cffi-bindings->argon2-cffi->notebook>=4.4.1->widgetsnbextension~=3.5.0->ipywidgets) (2.20)\n",
      "Requirement already satisfied: zipp>=0.5 in /opt/conda/lib/python3.6/site-packages (from importlib-metadata->jsonschema!=2.5.0,>=2.4->nbformat>=4.2.0->ipywidgets) (3.4.1)\n",
      "Requirement already satisfied: MarkupSafe>=2.0 in /opt/conda/lib/python3.6/site-packages (from jinja2->notebook>=4.4.1->widgetsnbextension~=3.5.0->ipywidgets) (2.0.1)\n",
      "Collecting mistune<2,>=0.8.1\n",
      "  Using cached mistune-0.8.4-py2.py3-none-any.whl (16 kB)\n",
      "Collecting pandocfilters>=1.4.1\n",
      "  Using cached pandocfilters-1.5.0-py2.py3-none-any.whl (8.7 kB)\n",
      "Collecting testpath\n",
      "  Using cached testpath-0.6.0-py3-none-any.whl (83 kB)\n",
      "Collecting jupyterlab-pygments\n",
      "  Using cached jupyterlab_pygments-0.1.2-py2.py3-none-any.whl (4.6 kB)\n",
      "Collecting bleach\n",
      "  Using cached bleach-4.1.0-py2.py3-none-any.whl (157 kB)\n",
      "Collecting defusedxml\n",
      "  Using cached defusedxml-0.7.1-py2.py3-none-any.whl (25 kB)\n",
      "Collecting nbclient<0.6.0,>=0.5.0\n",
      "  Using cached nbclient-0.5.9-py3-none-any.whl (69 kB)\n",
      "Collecting async-generator\n",
      "  Using cached async_generator-1.10-py3-none-any.whl (18 kB)\n",
      "Requirement already satisfied: packaging in /opt/conda/lib/python3.6/site-packages (from bleach->nbconvert->notebook>=4.4.1->widgetsnbextension~=3.5.0->ipywidgets) (20.9)\n",
      "Collecting webencodings\n",
      "  Using cached webencodings-0.5.1-py2.py3-none-any.whl (11 kB)\n",
      "Requirement already satisfied: pyparsing>=2.0.2 in /opt/conda/lib/python3.6/site-packages (from packaging->bleach->nbconvert->notebook>=4.4.1->widgetsnbextension~=3.5.0->ipywidgets) (2.4.7)\n",
      "Installing collected packages: pyrsistent, parso, jsonschema, webencodings, nbformat, jedi, async-generator, testpath, pandocfilters, nbclient, mistune, jupyterlab-pygments, defusedxml, bleach, argon2-cffi-bindings, terminado, Send2Trash, prometheus-client, nbconvert, argon2-cffi, notebook, widgetsnbextension, jupyterlab-widgets, ipywidgets\n",
      "  Attempting uninstall: parso\n",
      "    Found existing installation: parso 0.8.0\n",
      "    Uninstalling parso-0.8.0:\n",
      "      Successfully uninstalled parso-0.8.0\n",
      "  Attempting uninstall: jedi\n",
      "    Found existing installation: jedi 0.18.0\n",
      "    Uninstalling jedi-0.18.0:\n",
      "      Successfully uninstalled jedi-0.18.0\n",
      "Successfully installed Send2Trash-1.8.0 argon2-cffi-21.3.0 argon2-cffi-bindings-21.2.0 async-generator-1.10 bleach-4.1.0 defusedxml-0.7.1 ipywidgets-7.6.5 jedi-0.17.2 jsonschema-3.2.0 jupyterlab-pygments-0.1.2 jupyterlab-widgets-1.0.2 mistune-0.8.4 nbclient-0.5.9 nbconvert-6.0.7 nbformat-5.1.3 notebook-6.4.8 pandocfilters-1.5.0 parso-0.7.1 prometheus-client-0.13.1 pyrsistent-0.18.0 terminado-0.12.1 testpath-0.6.0 webencodings-0.5.1 widgetsnbextension-3.5.2\n",
      "\u001b[33mWARNING: Running pip as root will break packages and permissions. You should install packages reliably by using venv: https://pip.pypa.io/warnings/venv\u001b[0m\n"
     ]
    }
   ],
   "source": [
    "!pip install transformers\n",
    "!pip install sentencepiece\n",
    "!pip install nltk\n",
    "!pip install ipywidgets"
   ]
  },
  {
   "cell_type": "code",
   "execution_count": 4,
   "metadata": {},
   "outputs": [],
   "source": [
    "import pandas as pd\n",
    "import numpy as np\n",
    "import random\n",
    "import joblib\n",
    "import torch\n",
    "\n",
    "from sklearn import preprocessing\n",
    "from sklearn import model_selection\n",
    "# from DataAugmentation \n",
    "from DataAugmentation import DataAugmentation\n",
    "from transformers import AdamW\n",
    "from transformers import get_linear_schedule_with_warmup\n",
    "from importlib import reload\n",
    "import config\n",
    "from transformers import XLMRobertaForTokenClassification, XLMRobertaConfig ,BertModel, XLMRobertaTokenizer, XLMRobertaModel, BertForTokenClassification\n",
    "from data_utils import loadDatafromFile,createTokenizedDf,CompDataset,createkfoldData,createDataloaders\n",
    "from seqeval.metrics import accuracy_score\n",
    "from sklearn.metrics import matthews_corrcoef,classification_report,f1_score\n",
    "import engine\n",
    "import matplotlib.pyplot as plt\n",
    "import torch.nn as nn\n",
    "from tqdm import tqdm"
   ]
  },
  {
   "cell_type": "code",
   "execution_count": 5,
   "metadata": {},
   "outputs": [],
   "source": [
    "import matplotlib.pyplot as plt\n",
    "def plot_against_epochs(matrix1,matrix2,label1 , label2 ,y_label , title, epochs):\n",
    "    \n",
    "    epochs = np.arange(1,epoch+1)\n",
    "    plt.plot(epochs,matrix1,label=label1)\n",
    "    if matrix2 is not None :\n",
    "        plt.plot(epochs,matrix2,label=label2)\n",
    "    plt.xlabel('epochs')\n",
    "    plt.ylabel(y_label)\n",
    "    plt.title(title)\n",
    "    plt.grid()\n",
    "    plt.legend()\n",
    "    plt.show()"
   ]
  },
  {
   "cell_type": "code",
   "execution_count": 6,
   "metadata": {},
   "outputs": [],
   "source": [
    "class EarlyStopping(object):\n",
    "    def __init__(self, mode='max', min_delta=0, patience=10, percentage=False):\n",
    "        self.mode = mode\n",
    "        self.min_delta = min_delta\n",
    "        self.patience = patience\n",
    "        self.best = 0\n",
    "        self.num_bad_epochs = 0\n",
    "        self.is_better = None\n",
    "        self._init_is_better(mode, min_delta, percentage)\n",
    "\n",
    "        if patience == 0:\n",
    "            self.is_better = lambda a, b: True\n",
    "            self.step = lambda a: False\n",
    "\n",
    "    def step(self, metrics):\n",
    "        if self.best is None:\n",
    "            self.best = metrics\n",
    "            return False\n",
    "\n",
    "        if np.isnan(metrics):\n",
    "            return True\n",
    "\n",
    "        if self.is_better(metrics, self.best):\n",
    "            self.num_bad_epochs = 0\n",
    "            self.best = metrics\n",
    "        else:\n",
    "            self.num_bad_epochs += 1\n",
    "\n",
    "        if self.num_bad_epochs >= self.patience:\n",
    "            print('terminating because of early stopping!')\n",
    "            return True\n",
    "\n",
    "        return False\n",
    "\n",
    "    def _init_is_better(self, mode, min_delta, percentage):\n",
    "        if mode not in {'min', 'max'}:\n",
    "            raise ValueError('mode ' + mode + ' is unknown!')\n",
    "        if not percentage:\n",
    "            if mode == 'min':\n",
    "                self.is_better = lambda a, best: a < best \n",
    "            if mode == 'max':\n",
    "                self.is_better = lambda a, best: a > best \n",
    "        else:\n",
    "            if mode == 'min':\n",
    "                self.is_better = lambda a, best: a < best - (\n",
    "                            best * min_delta / 100)\n",
    "            if mode == 'max':\n",
    "                self.is_better = lambda a, best: a > best + (\n",
    "                            best * min_delta / 100)"
   ]
  },
  {
   "cell_type": "code",
   "execution_count": 7,
   "metadata": {},
   "outputs": [],
   "source": [
    "# Read the data\n",
    "def process_data(filePath_src,filePath_tar, filePath_srcTags,filePath_tarTags,model_type):\n",
    "    \n",
    "    dataObj = loadDatafromFile(filePath_src,filePath_tar, filePath_srcTags,filePath_tarTags)\n",
    "    df= dataObj.createDf() # get dataframe from files\n",
    "    obj_tokenized = createTokenizedDf(df,model_type)\n",
    "    df_new= obj_tokenized.convertDf()\n",
    "#     enc_label = preprocessing.LabelEncoder()\n",
    "#     df_new['labels']= enc_label.fit_transform(df_new['labels'])\n",
    "    train_data = CompDataset(df_new,model_type)\n",
    "    return train_data\n"
   ]
  },
  {
   "cell_type": "code",
   "execution_count": 8,
   "metadata": {},
   "outputs": [
    {
     "data": {
      "text/plain": [
       "7000"
      ]
     },
     "execution_count": 8,
     "metadata": {},
     "output_type": "execute_result"
    }
   ],
   "source": [
    "# if loading of the non augmented (noise-free) data is needed, then run this\n",
    "dataset_train = process_data(config.filePath_src,config.filePath_tar, config.filePath_srcTags,config.filePath_tarTags,model_type = 'xlm')\n",
    "len(dataset_train)"
   ]
  },
  {
   "cell_type": "code",
   "execution_count": 9,
   "metadata": {},
   "outputs": [
    {
     "data": {
      "text/plain": [
       "1000"
      ]
     },
     "execution_count": 9,
     "metadata": {},
     "output_type": "execute_result"
    }
   ],
   "source": [
    "#loading dev/eval data\n",
    "dataset_eval = process_data(config.filePath_src_eval,config.filePath_tar_eval, config.filePath_srcTags_eval,config.filePath_tarTags_eval,model_type = 'xlm')\n",
    "len(dataset_eval)"
   ]
  },
  {
   "cell_type": "code",
   "execution_count": 10,
   "metadata": {},
   "outputs": [
    {
     "data": {
      "text/plain": [
       "1750"
      ]
     },
     "execution_count": 10,
     "metadata": {},
     "output_type": "execute_result"
    }
   ],
   "source": [
    "# dataloaders\n",
    "loader_obj = createDataloaders(dataset_train,config.TRAIN_BATCH_SIZE)\n",
    "train_dataloader = loader_obj.createDataloaders()\n",
    "len(train_dataloader)"
   ]
  },
  {
   "cell_type": "code",
   "execution_count": 11,
   "metadata": {},
   "outputs": [
    {
     "data": {
      "text/plain": [
       "250"
      ]
     },
     "execution_count": 11,
     "metadata": {},
     "output_type": "execute_result"
    }
   ],
   "source": [
    "loader_obj = createDataloaders(dataset_eval,config.VALID_BATCH_SIZE)\n",
    "val_dataloader = loader_obj.createDataloaders()\n",
    "len(val_dataloader)"
   ]
  },
  {
   "cell_type": "code",
   "execution_count": 12,
   "metadata": {},
   "outputs": [
    {
     "name": "stdout",
     "output_type": "stream",
     "text": [
      "[2022-03-02 14:32:41.529 pytorch-1-6-gpu-py-ml-g4dn-4xlarge-2e6810ebbda9b4b388820237068d:46 INFO utils.py:27] RULE_JOB_STOP_SIGNAL_FILENAME: None\n",
      "[2022-03-02 14:32:41.565 pytorch-1-6-gpu-py-ml-g4dn-4xlarge-2e6810ebbda9b4b388820237068d:46 INFO profiler_config_parser.py:102] Unable to find config at /opt/ml/input/config/profilerconfig.json. Profiler is disabled.\n"
     ]
    },
    {
     "name": "stderr",
     "output_type": "stream",
     "text": [
      "INFO:numexpr.utils:Note: NumExpr detected 16 cores but \"NUMEXPR_MAX_THREADS\" not set, so enforcing safe limit of 8.INFO:numexpr.utils:Note: NumExpr detected 16 cores but \"NUMEXPR_MAX_THREADS\" not set, so enforcing safe limit of 8.\n",
      "\n",
      "INFO:numexpr.utils:NumExpr defaulting to 8 threads.\n",
      "INFO:numexpr.utils:NumExpr defaulting to 8 threads.\n"
     ]
    },
    {
     "data": {
      "text/plain": [
       "tensor([     0,   2161,     70, 154797,  52076,   3003,    596, 102736,   2685,\n",
       "            83,     10,   7225,  15829,   1295,     70,  32896,      6,  36957,\n",
       "          2397,      6,      5,      2,      2,    656,   7601,    656,    122,\n",
       "           656, 154797,    656,  52076,    656,   3003,    596,    656, 102736,\n",
       "           656,  64074,    656,    833,    656,    599,    656,   4697,     13,\n",
       "          2227,    656,   1312,    656,    122,    656,  32896,    656,      6,\n",
       "         36957,   2397,    656,      6,      5,    656,      2,      1,      1,\n",
       "             1,      1,      1,      1,      1,      1,      1,      1,      1,\n",
       "             1,      1,      1,      1,      1,      1,      1,      1,      1,\n",
       "             1,      1,      1,      1,      1,      1,      1,      1,      1,\n",
       "             1,      1,      1,      1,      1,      1,      1,      1,      1,\n",
       "             1,      1,      1,      1,      1,      1,      1,      1,      1,\n",
       "             1,      1,      1,      1,      1,      1,      1,      1,      1,\n",
       "             1,      1,      1,      1,      1,      1,      1,      1,      1,\n",
       "             1,      1,      1,      1,      1,      1,      1,      1,      1,\n",
       "             1,      1,      1,      1,      1,      1,      1,      1,      1,\n",
       "             1,      1,      1,      1,      1,      1,      1,      1,      1,\n",
       "             1,      1,      1,      1,      1,      1,      1,      1,      1,\n",
       "             1,      1,      1,      1,      1,      1,      1,      1,      1,\n",
       "             1,      1,      1,      1,      1,      1,      1,      1,      1,\n",
       "             1,      1,      1,      1,      1,      1,      1,      1,      1,\n",
       "             1,      1,      1,      1,      1,      1,      1,      1,      1,\n",
       "             1,      1,      1,      1,      1,      1,      1,      1,      1,\n",
       "             1,      1,      1,      1,      1,      1,      1,      1,      1,\n",
       "             1,      1,      1,      1,      1,      1,      1,      1,      1,\n",
       "             1,      1,      1,      1,      1,      1,      1,      1,      1,\n",
       "             1,      1,      1,      1,      1,      1,      1,      1,      1,\n",
       "             1,      1,      1,      1,      1,      1,      1,      1,      1,\n",
       "             1,      1,      1,      1])"
      ]
     },
     "execution_count": 12,
     "metadata": {},
     "output_type": "execute_result"
    }
   ],
   "source": [
    "batch = next(iter(val_dataloader))\n",
    "batch[0][0]"
   ]
  },
  {
   "cell_type": "code",
   "execution_count": 15,
   "metadata": {},
   "outputs": [],
   "source": [
    "class EntityModel(nn.Module):\n",
    "    \n",
    "    def __init__(self):\n",
    "        \n",
    "        super(EntityModel, self).__init__()\n",
    "        self.bert = XLMRobertaForTokenClassification.from_pretrained(config.BASE_MODEL,output_attentions = False, output_hidden_states = False)\n",
    "#         self.bert_drop_1 = nn.Dropout(0.3)\n",
    "#         self.out_tag = nn.Linear(768, 2)\n",
    "    \n",
    "    def forward(self, ids, attention_mask, labels):\n",
    "        \n",
    "        outputs = self.bert(ids,\n",
    "                                attention_mask = attention_mask,\n",
    "                                labels = labels,return_dict=False)\n",
    "#         bo_tag = self.bert_drop_1(output_1)\n",
    "        \n",
    "#         tag = self.out_tag(bo_tag)  \n",
    "        \n",
    "#         loss_tag = loss_fn(outputs[1],labels,attention_mask)\n",
    "        \n",
    "#         return bo_tag,loss\n",
    "        return outputs[0], outputs[1]\n",
    "        "
   ]
  },
  {
   "cell_type": "code",
   "execution_count": null,
   "metadata": {},
   "outputs": [],
   "source": []
  },
  {
   "cell_type": "code",
   "execution_count": 16,
   "metadata": {},
   "outputs": [],
   "source": [
    "# torch.cuda.memory_summary(device=None, abbreviated=False)\n",
    "# torch.cuda.empty_cache()\n",
    "# outputs[0]"
   ]
  },
  {
   "cell_type": "code",
   "execution_count": 22,
   "metadata": {},
   "outputs": [
    {
     "name": "stderr",
     "output_type": "stream",
     "text": [
      "/opt/conda/lib/python3.6/site-packages/transformers/optimization.py:309: FutureWarning: This implementation of AdamW is deprecated and will be removed in a future version. Use thePyTorch implementation torch.optim.AdamW instead, or set `no_deprecation_warning=True` to disable this warning\n",
      "  FutureWarning,\n"
     ]
    }
   ],
   "source": [
    "param_optimizer = list(model.named_parameters())\n",
    "no_decay = [\"bias\", \"LayerNorm.bias\", \"LayerNorm.weight\"]\n",
    "optimizer_parameters = [\n",
    "    {\n",
    "        \"params\": [\n",
    "            p for n, p in param_optimizer if not any(nd in n for nd in no_decay)\n",
    "        ],\n",
    "        \"weight_decay\": 0.001,\n",
    "    },\n",
    "    {\n",
    "        \"params\": [\n",
    "            p for n, p in param_optimizer if any(nd in n for nd in no_decay)\n",
    "        ],\n",
    "        \"weight_decay\": 0.0,\n",
    "    },\n",
    "]\n",
    "num_train_steps = int(len(dataset_train) / config.TRAIN_BATCH_SIZE * config.EPOCHS) #10 is the batchsize\n",
    "optimizer = AdamW(optimizer_parameters, lr=2e-5) # used 3e-5\n",
    "scheduler = get_linear_schedule_with_warmup(\n",
    "    optimizer, num_warmup_steps=0, num_training_steps=num_train_steps\n",
    ")\n",
    "early_stopping = EarlyStopping(patience=4)"
   ]
  },
  {
   "cell_type": "code",
   "execution_count": 16,
   "metadata": {},
   "outputs": [
    {
     "data": {
      "text/plain": [
       "20"
      ]
     },
     "execution_count": 16,
     "metadata": {},
     "output_type": "execute_result"
    }
   ],
   "source": [
    "config.EPOCHS"
   ]
  },
  {
   "cell_type": "code",
   "execution_count": 16,
   "metadata": {},
   "outputs": [
    {
     "name": "stderr",
     "output_type": "stream",
     "text": [
      "  0%|          | 0/125 [00:00<?, ?it/s]/opt/conda/lib/python3.6/site-packages/torch/nn/parallel/_functions.py:61: UserWarning: Was asked to gather along dimension 0, but all input tensors were scalars; will instead unsqueeze and return a vector.\n",
      "  warnings.warn('Was asked to gather along dimension 0, but all '\n",
      "100%|██████████| 125/125 [01:20<00:00,  1.54it/s]\n"
     ]
    },
    {
     "name": "stdout",
     "output_type": "stream",
     "text": [
      "Average F1 Validation score for class 0 : 0.23301044061663717\n",
      "Average F1 Validation score for class 1 : 3.276056937869581e-05\n",
      "Average Accuracy Validation score  : 0.13188094594786764\n",
      "Average mcc Validation score  : -0.00580211431471599\n",
      "              precision    recall  f1-score   support\n",
      "\n",
      "           0       0.13      1.00      0.23      9274\n",
      "           1       0.50      0.00      0.00     61047\n",
      "\n",
      "    accuracy                           0.13     70321\n",
      "   macro avg       0.32      0.50      0.12     70321\n",
      "weighted avg       0.45      0.13      0.03     70321\n",
      "\n"
     ]
    }
   ],
   "source": [
    "loss_test,f1_score_0_test, f1_score_1_test, accuracy_score_test, mcc_score_test,labels_test,preds_test = engine.eval_fn(val_dataloader, model)\n",
    "print(classification_report(labels_test,preds_test)) # validation data"
   ]
  },
  {
   "cell_type": "code",
   "execution_count": 17,
   "metadata": {},
   "outputs": [
    {
     "name": "stderr",
     "output_type": "stream",
     "text": [
      "  0%|          | 0/438 [00:00<?, ?it/s]/opt/conda/lib/python3.6/site-packages/torch/nn/parallel/_functions.py:61: UserWarning: Was asked to gather along dimension 0, but all input tensors were scalars; will instead unsqueeze and return a vector.\n",
      "  warnings.warn('Was asked to gather along dimension 0, but all '\n",
      "100%|██████████| 438/438 [04:24<00:00,  1.66it/s]\n"
     ]
    },
    {
     "name": "stdout",
     "output_type": "stream",
     "text": [
      "Average F1 Validation score for class 0 : 0.22455437859639002\n",
      "Average F1 Validation score for class 1 : 4.677082529459773e-05\n",
      "Average Accuracy Validation score  : 0.12649560078362637\n",
      "Average mcc Validation score  : 0.000507264119834074\n",
      "              precision    recall  f1-score   support\n",
      "\n",
      "           0       0.13      1.00      0.22     61913\n",
      "           1       0.91      0.00      0.00    427606\n",
      "\n",
      "    accuracy                           0.13    489519\n",
      "   macro avg       0.52      0.50      0.11    489519\n",
      "weighted avg       0.81      0.13      0.03    489519\n",
      "\n"
     ]
    }
   ],
   "source": [
    "loss_test,f1_score_0_test, f1_score_1_test, accuracy_score_test, mcc_score_test,labels_test,preds_test = engine.eval_fn(train_dataloader, model)\n",
    "print(classification_report(labels_test,preds_test))"
   ]
  },
  {
   "cell_type": "code",
   "execution_count": 20,
   "metadata": {},
   "outputs": [],
   "source": [
    "engine = reload(engine)"
   ]
  },
  {
   "cell_type": "code",
   "execution_count": 16,
   "metadata": {},
   "outputs": [],
   "source": [
    "for name,param in model.named_parameters():\n",
    "    if 'classifier' not in name:\n",
    "        param.requires_grad = True"
   ]
  },
  {
   "cell_type": "code",
   "execution_count": 17,
   "metadata": {},
   "outputs": [
    {
     "name": "stderr",
     "output_type": "stream",
     "text": [
      "  0%|          | 0/875 [00:00<?, ?it/s]"
     ]
    },
    {
     "name": "stdout",
     "output_type": "stream",
     "text": [
      "Epoch 1 of 20\n"
     ]
    },
    {
     "name": "stderr",
     "output_type": "stream",
     "text": [
      "INFO:numexpr.utils:NumExpr defaulting to 8 threads.INFO:numexpr.utils:NumExpr defaulting to 8 threads.\n",
      "\n",
      "/root/Thesis/src/code/code_files/engine.py:395: VisibleDeprecationWarning: Creating an ndarray from ragged nested sequences (which is a list-or-tuple of lists-or-tuples-or ndarrays with different lengths or shapes) is deprecated. If you meant to do this, you must specify 'dtype=object' when creating the ndarray\n",
      "  np_arr_labels = np.array(tar_labels)\n",
      "100%|██████████| 875/875 [06:20<00:00,  2.30it/s]\n"
     ]
    },
    {
     "name": "stdout",
     "output_type": "stream",
     "text": [
      "Average F1 Training score for class 0 : 0.08336679307011673\n",
      "Average F1 Training score for class 1 : 0.9323980333255465\n",
      "Average Accuracy Training score  : 0.8740825177367988\n",
      "Average mcc Training score  : 0.12603871035390565\n",
      "Average F1 Training score for source sentence class 0 : 0.06973612374886261\n",
      "Average F1 Training score for source sentence class 1 : 0.9233220031860414\n",
      "Average Accuracy Training score source sentence  : 0.858321969822951\n",
      "Average mcc Training score source sentence : 0.10366595901432381\n",
      "Average F1 Training score for target sentence class 0 : 0.10085872121643055\n",
      "Average F1 Training score for target sentence class 1 : 0.904141301051944\n",
      "Average Accuracy Training score target sentence  : 0.8267527335001976\n",
      "Average mcc Training score target sentence : 0.13299064894666446\n",
      "Average F1 Training score for gaps in target sentence class 0 : 0.0006242197253433209\n",
      "Average F1 Training score for gaps in target sentence class 1 : 0.9864022422286394\n",
      "Average Accuracy Training score gaps in target sentence  : 0.9731695463457961\n",
      "Average mcc Training score gaps in target sentence : 0.0018735809184825419\n",
      "Average F1 Training score for whole target sentence class 0 : 0.09278350515463916\n",
      "Average F1 Training score for whole target sentence class 1 : 0.9376279249875532\n",
      "Average Accuracy Training score whole target sentence  : 0.883280440739267\n",
      "Average mcc Training score whole target sentence : 0.14043991038723735\n"
     ]
    },
    {
     "name": "stderr",
     "output_type": "stream",
     "text": [
      "  0%|          | 0/125 [00:00<?, ?it/s]"
     ]
    },
    {
     "name": "stdout",
     "output_type": "stream",
     "text": [
      "              precision    recall  f1-score   support\n",
      "\n",
      "           0       0.53      0.05      0.08     61913\n",
      "           1       0.88      0.99      0.93    427606\n",
      "\n",
      "    accuracy                           0.87    489519\n",
      "   macro avg       0.70      0.52      0.51    489519\n",
      "weighted avg       0.83      0.87      0.83    489519\n",
      "\n"
     ]
    },
    {
     "name": "stderr",
     "output_type": "stream",
     "text": [
      "INFO:numexpr.utils:NumExpr defaulting to 8 threads.INFO:numexpr.utils:NumExpr defaulting to 8 threads.\n",
      "\n",
      "/root/Thesis/src/code/code_files/engine.py:395: VisibleDeprecationWarning: Creating an ndarray from ragged nested sequences (which is a list-or-tuple of lists-or-tuples-or ndarrays with different lengths or shapes) is deprecated. If you meant to do this, you must specify 'dtype=object' when creating the ndarray\n",
      "  np_arr_labels = np.array(tar_labels)\n",
      "100%|██████████| 125/125 [00:14<00:00,  8.84it/s]\n",
      "/opt/conda/lib/python3.6/site-packages/sklearn/metrics/_classification.py:873: RuntimeWarning: invalid value encountered in double_scalars\n",
      "  mcc = cov_ytyp / np.sqrt(cov_ytyt * cov_ypyp)\n"
     ]
    },
    {
     "name": "stdout",
     "output_type": "stream",
     "text": [
      "Average F1 Validation score for whole sentence class 0 : 0.08646884878148262\n",
      "Average F1 Validation score for whole sentence class 1 : 0.9315244391791188\n",
      "Average Accuracy Validation score whole sentence  : 0.8725985125353735\n",
      "Average mcc Validation score whole sentence : 0.17139950473096663\n",
      "Average F1 Validation score for source sentence class 0 : 0.06726457399103138\n",
      "Average F1 Validation score for source sentence class 1 : 0.9215521937727864\n",
      "Average Accuracy Validation score source sentence  : 0.8552763819095477\n",
      "Average mcc Validation score source sentence : 0.14290784054049585\n",
      "Average F1 Validation score for target sentence class 0 : 0.1083005433764287\n",
      "Average F1 Validation score for target sentence class 1 : 0.9033607472839882\n",
      "Average Accuracy Validation score target sentence  : 0.8256201678208933\n",
      "Average mcc Validation score target sentence : 0.1876815329486112\n",
      "Average F1 Validation score for gaps in target sentence class 0 : 0.0\n",
      "Average F1 Validation score for gaps in target sentence class 1 : 0.9865343727852587\n",
      "Average Accuracy Validation score gaps in target sentence  : 0.9734265734265735\n",
      "Average mcc Validation score gaps in target sentence : 0.0\n",
      "Average F1 Validation score for whole target sentence class 0 : 0.0997755912307958\n",
      "Average F1 Validation score for whole target sentence class 1 : 0.93725107990711\n",
      "Average Accuracy Validation score whole target sentence  : 0.8826798047288025\n",
      "Average mcc Validation score whole target sentence : 0.1894172248319845\n",
      "              precision    recall  f1-score   support\n",
      "\n",
      "           0       0.80      0.05      0.09      9274\n",
      "           1       0.87      1.00      0.93     61047\n",
      "\n",
      "    accuracy                           0.87     70321\n",
      "   macro avg       0.83      0.52      0.51     70321\n",
      "weighted avg       0.86      0.87      0.82     70321\n",
      "\n",
      "For gaps :                precision    recall  f1-score   support\n",
      "\n",
      "         0.0       0.00      0.00      0.00       456\n",
      "         1.0       0.97      1.00      0.99     16704\n",
      "\n",
      "    accuracy                           0.97     17160\n",
      "   macro avg       0.49      0.50      0.49     17160\n",
      "weighted avg       0.95      0.97      0.96     17160\n",
      "\n",
      "For tar :               precision    recall  f1-score   support\n",
      "\n",
      "         0.0       0.81      0.06      0.11      4982\n",
      "         1.0       0.83      1.00      0.90     22309\n",
      "\n",
      "    accuracy                           0.83     27291\n",
      "   macro avg       0.82      0.53      0.51     27291\n",
      "weighted avg       0.82      0.83      0.76     27291\n",
      "\n"
     ]
    },
    {
     "name": "stderr",
     "output_type": "stream",
     "text": [
      "/opt/conda/lib/python3.6/site-packages/sklearn/metrics/_classification.py:1248: UndefinedMetricWarning: Precision and F-score are ill-defined and being set to 0.0 in labels with no predicted samples. Use `zero_division` parameter to control this behavior.\n",
      "  _warn_prf(average, modifier, msg_start, len(result))\n",
      "/opt/conda/lib/python3.6/site-packages/sklearn/metrics/_classification.py:1248: UndefinedMetricWarning: Precision and F-score are ill-defined and being set to 0.0 in labels with no predicted samples. Use `zero_division` parameter to control this behavior.\n",
      "  _warn_prf(average, modifier, msg_start, len(result))\n",
      "/opt/conda/lib/python3.6/site-packages/sklearn/metrics/_classification.py:1248: UndefinedMetricWarning: Precision and F-score are ill-defined and being set to 0.0 in labels with no predicted samples. Use `zero_division` parameter to control this behavior.\n",
      "  _warn_prf(average, modifier, msg_start, len(result))\n"
     ]
    },
    {
     "name": "stdout",
     "output_type": "stream",
     "text": [
      "For source :                precision    recall  f1-score   support\n",
      "\n",
      "         0.0       0.76      0.04      0.07      3836\n",
      "         1.0       0.86      1.00      0.92     22034\n",
      "\n",
      "    accuracy                           0.86     25870\n",
      "   macro avg       0.81      0.52      0.49     25870\n",
      "weighted avg       0.84      0.86      0.79     25870\n",
      "\n",
      "Train Loss = 0.3276445922170367 Valid Loss = 0.32197116458415986\n"
     ]
    },
    {
     "name": "stderr",
     "output_type": "stream",
     "text": [
      "  0%|          | 0/875 [00:00<?, ?it/s]"
     ]
    },
    {
     "name": "stdout",
     "output_type": "stream",
     "text": [
      "Epoch 2 of 20\n"
     ]
    },
    {
     "name": "stderr",
     "output_type": "stream",
     "text": [
      "INFO:numexpr.utils:NumExpr defaulting to 8 threads.INFO:numexpr.utils:NumExpr defaulting to 8 threads.\n",
      "\n",
      "/root/Thesis/src/code/code_files/engine.py:395: VisibleDeprecationWarning: Creating an ndarray from ragged nested sequences (which is a list-or-tuple of lists-or-tuples-or ndarrays with different lengths or shapes) is deprecated. If you meant to do this, you must specify 'dtype=object' when creating the ndarray\n",
      "  np_arr_labels = np.array(tar_labels)\n",
      "100%|██████████| 875/875 [06:14<00:00,  2.34it/s]\n"
     ]
    },
    {
     "name": "stdout",
     "output_type": "stream",
     "text": [
      "Average F1 Training score for class 0 : 0.32768012178587563\n",
      "Average F1 Training score for class 1 : 0.9368348835026526\n",
      "Average Accuracy Training score  : 0.8845192934288557\n",
      "Average mcc Training score  : 0.3243047942027456\n",
      "Average F1 Training score for source sentence class 0 : 0.2932774597178776\n",
      "Average F1 Training score for source sentence class 1 : 0.9267461565285484\n",
      "Average Accuracy Training score source sentence  : 0.8672520260307536\n",
      "Average mcc Training score source sentence : 0.2858935972092673\n",
      "Average F1 Training score for target sentence class 0 : 0.3747579838726836\n",
      "Average F1 Training score for target sentence class 1 : 0.9116310679027753\n",
      "Average Accuracy Training score target sentence  : 0.8451482018179423\n",
      "Average mcc Training score target sentence : 0.3418447445415455\n",
      "Average F1 Training score for gaps in target sentence class 0 : 0.0\n",
      "Average F1 Training score for gaps in target sentence class 1 : 0.9864324872924001\n",
      "Average Accuracy Training score gaps in target sentence  : 0.9732282013038159\n",
      "Average mcc Training score gaps in target sentence : -0.0015895773622586677\n",
      "Average F1 Training score for whole target sentence class 0 : 0.35090445453821023\n",
      "Average F1 Training score for whole target sentence class 1 : 0.942641161330756\n",
      "Average Accuracy Training score whole target sentence  : 0.894596544350521\n",
      "Average mcc Training score whole target sentence : 0.34929597711686217\n"
     ]
    },
    {
     "name": "stderr",
     "output_type": "stream",
     "text": [
      "  0%|          | 0/125 [00:00<?, ?it/s]"
     ]
    },
    {
     "name": "stdout",
     "output_type": "stream",
     "text": [
      "              precision    recall  f1-score   support\n",
      "\n",
      "           0       0.62      0.22      0.33     61913\n",
      "           1       0.90      0.98      0.94    427606\n",
      "\n",
      "    accuracy                           0.88    489519\n",
      "   macro avg       0.76      0.60      0.63    489519\n",
      "weighted avg       0.86      0.88      0.86    489519\n",
      "\n"
     ]
    },
    {
     "name": "stderr",
     "output_type": "stream",
     "text": [
      "INFO:numexpr.utils:NumExpr defaulting to 8 threads.INFO:numexpr.utils:NumExpr defaulting to 8 threads.\n",
      "\n",
      "/root/Thesis/src/code/code_files/engine.py:395: VisibleDeprecationWarning: Creating an ndarray from ragged nested sequences (which is a list-or-tuple of lists-or-tuples-or ndarrays with different lengths or shapes) is deprecated. If you meant to do this, you must specify 'dtype=object' when creating the ndarray\n",
      "  np_arr_labels = np.array(tar_labels)\n",
      "100%|██████████| 125/125 [00:13<00:00,  9.13it/s]\n",
      "/opt/conda/lib/python3.6/site-packages/sklearn/metrics/_classification.py:873: RuntimeWarning: invalid value encountered in double_scalars\n",
      "  mcc = cov_ytyp / np.sqrt(cov_ytyt * cov_ypyp)\n"
     ]
    },
    {
     "name": "stdout",
     "output_type": "stream",
     "text": [
      "Average F1 Validation score for whole sentence class 0 : 0.1800339686733346\n",
      "Average F1 Validation score for whole sentence class 1 : 0.9331764633508658\n",
      "Average Accuracy Validation score whole sentence  : 0.8764238278750303\n",
      "Average mcc Validation score whole sentence : 0.24099878560121066\n",
      "Average F1 Validation score for source sentence class 0 : 0.14468481042102815\n",
      "Average F1 Validation score for source sentence class 1 : 0.9224932020825868\n",
      "Average Accuracy Validation score source sentence  : 0.8578662543486664\n",
      "Average mcc Validation score source sentence : 0.19882907137458494\n",
      "Average F1 Validation score for target sentence class 0 : 0.2200924182782817\n",
      "Average F1 Validation score for target sentence class 1 : 0.9065019799339339\n",
      "Average Accuracy Validation score target sentence  : 0.8330218753435198\n",
      "Average mcc Validation score target sentence : 0.26363675546607046\n",
      "Average F1 Validation score for gaps in target sentence class 0 : 0.0\n",
      "Average F1 Validation score for gaps in target sentence class 1 : 0.9865343727852587\n",
      "Average Accuracy Validation score gaps in target sentence  : 0.9734265734265735\n",
      "Average mcc Validation score gaps in target sentence : 0.0\n",
      "Average F1 Validation score for whole target sentence class 0 : 0.20415939037942527\n",
      "Average F1 Validation score for whole target sentence class 1 : 0.939312131520647\n",
      "Average Accuracy Validation score whole target sentence  : 0.8872241344401701\n",
      "Average mcc Validation score whole target sentence : 0.2678405596700282\n",
      "              precision    recall  f1-score   support\n",
      "\n",
      "           0       0.72      0.10      0.18      9274\n",
      "           1       0.88      0.99      0.93     61047\n",
      "\n",
      "    accuracy                           0.88     70321\n",
      "   macro avg       0.80      0.55      0.56     70321\n",
      "weighted avg       0.86      0.88      0.83     70321\n",
      "\n",
      "For gaps :                precision    recall  f1-score   support\n",
      "\n",
      "         0.0       0.00      0.00      0.00       456\n",
      "         1.0       0.97      1.00      0.99     16704\n",
      "\n",
      "    accuracy                           0.97     17160\n",
      "   macro avg       0.49      0.50      0.49     17160\n",
      "weighted avg       0.95      0.97      0.96     17160\n",
      "\n",
      "For tar :               precision    recall  f1-score   support\n",
      "\n",
      "         0.0       0.75      0.13      0.22      4982\n",
      "         1.0       0.84      0.99      0.91     22309\n",
      "\n",
      "    accuracy                           0.83     27291\n",
      "   macro avg       0.79      0.56      0.56     27291\n",
      "weighted avg       0.82      0.83      0.78     27291\n",
      "\n"
     ]
    },
    {
     "name": "stderr",
     "output_type": "stream",
     "text": [
      "/opt/conda/lib/python3.6/site-packages/sklearn/metrics/_classification.py:1248: UndefinedMetricWarning: Precision and F-score are ill-defined and being set to 0.0 in labels with no predicted samples. Use `zero_division` parameter to control this behavior.\n",
      "  _warn_prf(average, modifier, msg_start, len(result))\n",
      "/opt/conda/lib/python3.6/site-packages/sklearn/metrics/_classification.py:1248: UndefinedMetricWarning: Precision and F-score are ill-defined and being set to 0.0 in labels with no predicted samples. Use `zero_division` parameter to control this behavior.\n",
      "  _warn_prf(average, modifier, msg_start, len(result))\n",
      "/opt/conda/lib/python3.6/site-packages/sklearn/metrics/_classification.py:1248: UndefinedMetricWarning: Precision and F-score are ill-defined and being set to 0.0 in labels with no predicted samples. Use `zero_division` parameter to control this behavior.\n",
      "  _warn_prf(average, modifier, msg_start, len(result))\n"
     ]
    },
    {
     "name": "stdout",
     "output_type": "stream",
     "text": [
      "For source :                precision    recall  f1-score   support\n",
      "\n",
      "         0.0       0.67      0.08      0.14      3836\n",
      "         1.0       0.86      0.99      0.92     22034\n",
      "\n",
      "    accuracy                           0.86     25870\n",
      "   macro avg       0.77      0.54      0.53     25870\n",
      "weighted avg       0.83      0.86      0.81     25870\n",
      "\n",
      "Train Loss = 0.2865374786768641 Valid Loss = 0.32980235922336576\n"
     ]
    },
    {
     "name": "stderr",
     "output_type": "stream",
     "text": [
      "  0%|          | 0/875 [00:00<?, ?it/s]"
     ]
    },
    {
     "name": "stdout",
     "output_type": "stream",
     "text": [
      "Epoch 3 of 20\n"
     ]
    },
    {
     "name": "stderr",
     "output_type": "stream",
     "text": [
      "INFO:numexpr.utils:NumExpr defaulting to 8 threads.INFO:numexpr.utils:NumExpr defaulting to 8 threads.\n",
      "\n",
      "/root/Thesis/src/code/code_files/engine.py:395: VisibleDeprecationWarning: Creating an ndarray from ragged nested sequences (which is a list-or-tuple of lists-or-tuples-or ndarrays with different lengths or shapes) is deprecated. If you meant to do this, you must specify 'dtype=object' when creating the ndarray\n",
      "  np_arr_labels = np.array(tar_labels)\n",
      "100%|██████████| 875/875 [06:22<00:00,  2.29it/s]\n"
     ]
    },
    {
     "name": "stdout",
     "output_type": "stream",
     "text": [
      "Average F1 Training score for class 0 : 0.49118683901292587\n",
      "Average F1 Training score for class 1 : 0.9440355364479879\n",
      "Average Accuracy Training score  : 0.8991622388507903\n",
      "Average mcc Training score  : 0.461816192773863\n",
      "Average F1 Training score for source sentence class 0 : 0.45757375717259935\n",
      "Average F1 Training score for source sentence class 1 : 0.933532036164745\n",
      "Average Accuracy Training score source sentence  : 0.8815755922883338\n",
      "Average mcc Training score source sentence : 0.42069840294619837\n",
      "Average F1 Training score for target sentence class 0 : 0.544198692042031\n",
      "Average F1 Training score for target sentence class 1 : 0.923682154567321\n",
      "Average Accuracy Training score target sentence  : 0.8692556975365564\n",
      "Average mcc Training score target sentence : 0.48845437299459615\n",
      "Average F1 Training score for gaps in target sentence class 0 : 0.0018796992481203009\n",
      "Average F1 Training score for gaps in target sentence class 1 : 0.9864708779916089\n",
      "Average Accuracy Training score gaps in target sentence  : 0.9733036148212699\n",
      "Average mcc Training score gaps in target sentence : 0.017697991857791952\n",
      "Average F1 Training score for whole target sentence class 0 : 0.5141597834386061\n",
      "Average F1 Training score for whole target sentence class 1 : 0.950057616222445\n",
      "Average Accuracy Training score whole target sentence  : 0.9094258808153547\n",
      "Average mcc Training score whole target sentence : 0.48886705805958874\n"
     ]
    },
    {
     "name": "stderr",
     "output_type": "stream",
     "text": [
      "  0%|          | 0/125 [00:00<?, ?it/s]"
     ]
    },
    {
     "name": "stdout",
     "output_type": "stream",
     "text": [
      "              precision    recall  f1-score   support\n",
      "\n",
      "           0       0.68      0.38      0.49     61913\n",
      "           1       0.92      0.97      0.94    427606\n",
      "\n",
      "    accuracy                           0.90    489519\n",
      "   macro avg       0.80      0.68      0.72    489519\n",
      "weighted avg       0.89      0.90      0.89    489519\n",
      "\n"
     ]
    },
    {
     "name": "stderr",
     "output_type": "stream",
     "text": [
      "INFO:numexpr.utils:NumExpr defaulting to 8 threads.INFO:numexpr.utils:NumExpr defaulting to 8 threads.\n",
      "\n",
      "/root/Thesis/src/code/code_files/engine.py:395: VisibleDeprecationWarning: Creating an ndarray from ragged nested sequences (which is a list-or-tuple of lists-or-tuples-or ndarrays with different lengths or shapes) is deprecated. If you meant to do this, you must specify 'dtype=object' when creating the ndarray\n",
      "  np_arr_labels = np.array(tar_labels)\n",
      "100%|██████████| 125/125 [00:14<00:00,  8.64it/s]\n",
      "/opt/conda/lib/python3.6/site-packages/sklearn/metrics/_classification.py:873: RuntimeWarning: invalid value encountered in double_scalars\n",
      "  mcc = cov_ytyp / np.sqrt(cov_ytyt * cov_ypyp)\n"
     ]
    },
    {
     "name": "stdout",
     "output_type": "stream",
     "text": [
      "Average F1 Validation score for whole sentence class 0 : 0.2653524075366364\n",
      "Average F1 Validation score for whole sentence class 1 : 0.9348031398535356\n",
      "Average Accuracy Validation score whole sentence  : 0.8802349227115656\n",
      "Average mcc Validation score whole sentence : 0.2981256215863504\n",
      "Average F1 Validation score for source sentence class 0 : 0.2345123258306538\n",
      "Average F1 Validation score for source sentence class 1 : 0.9241423260754117\n",
      "Average Accuracy Validation score source sentence  : 0.8619636644762273\n",
      "Average mcc Validation score source sentence : 0.26190937707418255\n",
      "Average F1 Validation score for target sentence class 0 : 0.3071102002207158\n",
      "Average F1 Validation score for target sentence class 1 : 0.9088911461680383\n",
      "Average Accuracy Validation score target sentence  : 0.8389578982082005\n",
      "Average mcc Validation score target sentence : 0.3161647138059673\n",
      "Average F1 Validation score for gaps in target sentence class 0 : 0.0\n",
      "Average F1 Validation score for gaps in target sentence class 1 : 0.9865343727852587\n",
      "Average Accuracy Validation score gaps in target sentence  : 0.9734265734265735\n",
      "Average mcc Validation score gaps in target sentence : 0.0\n",
      "Average F1 Validation score for whole target sentence class 0 : 0.2865127224591852\n",
      "Average F1 Validation score for whole target sentence class 1 : 0.9409156790860261\n",
      "Average Accuracy Validation score whole target sentence  : 0.89086859688196\n",
      "Average mcc Validation score whole target sentence : 0.3217971258362502\n",
      "              precision    recall  f1-score   support\n",
      "\n",
      "           0       0.69      0.16      0.27      9274\n",
      "           1       0.89      0.99      0.93     61047\n",
      "\n",
      "    accuracy                           0.88     70321\n",
      "   macro avg       0.79      0.58      0.60     70321\n",
      "weighted avg       0.86      0.88      0.85     70321\n",
      "\n",
      "For gaps :                precision    recall  f1-score   support\n",
      "\n",
      "         0.0       0.00      0.00      0.00       456\n",
      "         1.0       0.97      1.00      0.99     16704\n",
      "\n",
      "    accuracy                           0.97     17160\n",
      "   macro avg       0.49      0.50      0.49     17160\n",
      "weighted avg       0.95      0.97      0.96     17160\n",
      "\n",
      "For tar :               precision    recall  f1-score   support\n",
      "\n",
      "         0.0       0.72      0.20      0.31      4982\n",
      "         1.0       0.85      0.98      0.91     22309\n",
      "\n",
      "    accuracy                           0.84     27291\n",
      "   macro avg       0.78      0.59      0.61     27291\n",
      "weighted avg       0.82      0.84      0.80     27291\n",
      "\n"
     ]
    },
    {
     "name": "stderr",
     "output_type": "stream",
     "text": [
      "/opt/conda/lib/python3.6/site-packages/sklearn/metrics/_classification.py:1248: UndefinedMetricWarning: Precision and F-score are ill-defined and being set to 0.0 in labels with no predicted samples. Use `zero_division` parameter to control this behavior.\n",
      "  _warn_prf(average, modifier, msg_start, len(result))\n",
      "/opt/conda/lib/python3.6/site-packages/sklearn/metrics/_classification.py:1248: UndefinedMetricWarning: Precision and F-score are ill-defined and being set to 0.0 in labels with no predicted samples. Use `zero_division` parameter to control this behavior.\n",
      "  _warn_prf(average, modifier, msg_start, len(result))\n",
      "/opt/conda/lib/python3.6/site-packages/sklearn/metrics/_classification.py:1248: UndefinedMetricWarning: Precision and F-score are ill-defined and being set to 0.0 in labels with no predicted samples. Use `zero_division` parameter to control this behavior.\n",
      "  _warn_prf(average, modifier, msg_start, len(result))\n"
     ]
    },
    {
     "name": "stdout",
     "output_type": "stream",
     "text": [
      "For source :                precision    recall  f1-score   support\n",
      "\n",
      "         0.0       0.66      0.14      0.23      3836\n",
      "         1.0       0.87      0.99      0.92     22034\n",
      "\n",
      "    accuracy                           0.86     25870\n",
      "   macro avg       0.76      0.56      0.58     25870\n",
      "weighted avg       0.84      0.86      0.82     25870\n",
      "\n",
      "Train Loss = 0.24874138761418207 Valid Loss = 0.34504571747779844\n"
     ]
    },
    {
     "name": "stderr",
     "output_type": "stream",
     "text": [
      "  0%|          | 0/875 [00:00<?, ?it/s]"
     ]
    },
    {
     "name": "stdout",
     "output_type": "stream",
     "text": [
      "Epoch 4 of 20\n"
     ]
    },
    {
     "name": "stderr",
     "output_type": "stream",
     "text": [
      "INFO:numexpr.utils:NumExpr defaulting to 8 threads.INFO:numexpr.utils:NumExpr defaulting to 8 threads.\n",
      "\n",
      "/root/Thesis/src/code/code_files/engine.py:395: VisibleDeprecationWarning: Creating an ndarray from ragged nested sequences (which is a list-or-tuple of lists-or-tuples-or ndarrays with different lengths or shapes) is deprecated. If you meant to do this, you must specify 'dtype=object' when creating the ndarray\n",
      "  np_arr_labels = np.array(tar_labels)\n",
      "100%|██████████| 875/875 [06:23<00:00,  2.28it/s]\n"
     ]
    },
    {
     "name": "stdout",
     "output_type": "stream",
     "text": [
      "Average F1 Training score for class 0 : 0.6088903585431527\n",
      "Average F1 Training score for class 1 : 0.9525912369888443\n",
      "Average Accuracy Training score  : 0.9154333131093992\n",
      "Average mcc Training score  : 0.5734347017584963\n",
      "Average F1 Training score for source sentence class 0 : 0.5791020108346341\n",
      "Average F1 Training score for source sentence class 1 : 0.9422014878325558\n",
      "Average Accuracy Training score source sentence  : 0.8983603285994612\n",
      "Average mcc Training score source sentence : 0.5332551725155182\n",
      "Average F1 Training score for target sentence class 0 : 0.6635172203596464\n",
      "Average F1 Training score for target sentence class 1 : 0.9379953321767782\n",
      "Average Accuracy Training score target sentence  : 0.8952865235146884\n",
      "Average mcc Training score target sentence : 0.6093822801811265\n",
      "Average F1 Training score for gaps in target sentence class 0 : 0.010549177784672664\n",
      "Average F1 Training score for gaps in target sentence class 1 : 0.9864563558296279\n",
      "Average Accuracy Training score gaps in target sentence  : 0.9732784769821187\n",
      "Average mcc Training score gaps in target sentence : 0.04591381358272219\n",
      "Average F1 Training score for whole target sentence class 0 : 0.6297265618728022\n",
      "Average F1 Training score for whole target sentence class 1 : 0.9585198748815098\n",
      "Average Accuracy Training score whole target sentence  : 0.925397179708654\n",
      "Average mcc Training score whole target sentence : 0.6002441650672251\n"
     ]
    },
    {
     "name": "stderr",
     "output_type": "stream",
     "text": [
      "  0%|          | 0/125 [00:00<?, ?it/s]"
     ]
    },
    {
     "name": "stdout",
     "output_type": "stream",
     "text": [
      "              precision    recall  f1-score   support\n",
      "\n",
      "           0       0.73      0.52      0.61     61913\n",
      "           1       0.93      0.97      0.95    427606\n",
      "\n",
      "    accuracy                           0.92    489519\n",
      "   macro avg       0.83      0.75      0.78    489519\n",
      "weighted avg       0.91      0.92      0.91    489519\n",
      "\n"
     ]
    },
    {
     "name": "stderr",
     "output_type": "stream",
     "text": [
      "INFO:numexpr.utils:NumExpr defaulting to 8 threads.INFO:numexpr.utils:NumExpr defaulting to 8 threads.\n",
      "\n",
      "/root/Thesis/src/code/code_files/engine.py:395: VisibleDeprecationWarning: Creating an ndarray from ragged nested sequences (which is a list-or-tuple of lists-or-tuples-or ndarrays with different lengths or shapes) is deprecated. If you meant to do this, you must specify 'dtype=object' when creating the ndarray\n",
      "  np_arr_labels = np.array(tar_labels)\n",
      "100%|██████████| 125/125 [00:14<00:00,  8.67it/s]\n",
      "/opt/conda/lib/python3.6/site-packages/sklearn/metrics/_classification.py:873: RuntimeWarning: invalid value encountered in double_scalars\n",
      "  mcc = cov_ytyp / np.sqrt(cov_ytyt * cov_ypyp)\n"
     ]
    },
    {
     "name": "stdout",
     "output_type": "stream",
     "text": [
      "Average F1 Validation score for whole sentence class 0 : 0.28915058882485595\n",
      "Average F1 Validation score for whole sentence class 1 : 0.93385353115358\n",
      "Average Accuracy Validation score whole sentence  : 0.8789692979337609\n",
      "Average mcc Validation score whole sentence : 0.3008107982660422\n",
      "Average F1 Validation score for source sentence class 0 : 0.2650212421606312\n",
      "Average F1 Validation score for source sentence class 1 : 0.9223668183857939\n",
      "Average Accuracy Validation score source sentence  : 0.8595670660997294\n",
      "Average mcc Validation score source sentence : 0.263807734154369\n",
      "Average F1 Validation score for target sentence class 0 : 0.327350167325829\n",
      "Average F1 Validation score for target sentence class 1 : 0.9078903516080652\n",
      "Average Accuracy Validation score target sentence  : 0.837968561064087\n",
      "Average mcc Validation score target sentence : 0.31785353763717994\n",
      "Average F1 Validation score for gaps in target sentence class 0 : 0.0\n",
      "Average F1 Validation score for gaps in target sentence class 1 : 0.9865343727852587\n",
      "Average Accuracy Validation score gaps in target sentence  : 0.9734265734265735\n",
      "Average mcc Validation score gaps in target sentence : 0.0\n",
      "Average F1 Validation score for whole target sentence class 0 : 0.30611664295874824\n",
      "Average F1 Validation score for whole target sentence class 1 : 0.940419190932187\n",
      "Average Accuracy Validation score whole target sentence  : 0.890261186474995\n",
      "Average mcc Validation score whole target sentence : 0.32558073558946143\n",
      "              precision    recall  f1-score   support\n",
      "\n",
      "           0       0.64      0.19      0.29      9274\n",
      "           1       0.89      0.98      0.93     61047\n",
      "\n",
      "    accuracy                           0.88     70321\n",
      "   macro avg       0.76      0.59      0.61     70321\n",
      "weighted avg       0.86      0.88      0.85     70321\n",
      "\n",
      "For gaps :                precision    recall  f1-score   support\n",
      "\n",
      "         0.0       0.00      0.00      0.00       456\n",
      "         1.0       0.97      1.00      0.99     16704\n",
      "\n",
      "    accuracy                           0.97     17160\n",
      "   macro avg       0.49      0.50      0.49     17160\n",
      "weighted avg       0.95      0.97      0.96     17160\n",
      "\n"
     ]
    },
    {
     "name": "stderr",
     "output_type": "stream",
     "text": [
      "/opt/conda/lib/python3.6/site-packages/sklearn/metrics/_classification.py:1248: UndefinedMetricWarning: Precision and F-score are ill-defined and being set to 0.0 in labels with no predicted samples. Use `zero_division` parameter to control this behavior.\n",
      "  _warn_prf(average, modifier, msg_start, len(result))\n",
      "/opt/conda/lib/python3.6/site-packages/sklearn/metrics/_classification.py:1248: UndefinedMetricWarning: Precision and F-score are ill-defined and being set to 0.0 in labels with no predicted samples. Use `zero_division` parameter to control this behavior.\n",
      "  _warn_prf(average, modifier, msg_start, len(result))\n",
      "/opt/conda/lib/python3.6/site-packages/sklearn/metrics/_classification.py:1248: UndefinedMetricWarning: Precision and F-score are ill-defined and being set to 0.0 in labels with no predicted samples. Use `zero_division` parameter to control this behavior.\n",
      "  _warn_prf(average, modifier, msg_start, len(result))\n"
     ]
    },
    {
     "name": "stdout",
     "output_type": "stream",
     "text": [
      "For tar :               precision    recall  f1-score   support\n",
      "\n",
      "         0.0       0.68      0.22      0.33      4982\n",
      "         1.0       0.85      0.98      0.91     22309\n",
      "\n",
      "    accuracy                           0.84     27291\n",
      "   macro avg       0.76      0.60      0.62     27291\n",
      "weighted avg       0.82      0.84      0.80     27291\n",
      "\n",
      "For source :                precision    recall  f1-score   support\n",
      "\n",
      "         0.0       0.59      0.17      0.27      3836\n",
      "         1.0       0.87      0.98      0.92     22034\n",
      "\n",
      "    accuracy                           0.86     25870\n",
      "   macro avg       0.73      0.58      0.59     25870\n",
      "weighted avg       0.83      0.86      0.82     25870\n",
      "\n",
      "Train Loss = 0.2105251899063587 Valid Loss = 0.39568778151273726\n"
     ]
    },
    {
     "name": "stderr",
     "output_type": "stream",
     "text": [
      "  0%|          | 0/875 [00:00<?, ?it/s]"
     ]
    },
    {
     "name": "stdout",
     "output_type": "stream",
     "text": [
      "Epoch 5 of 20\n"
     ]
    },
    {
     "name": "stderr",
     "output_type": "stream",
     "text": [
      "INFO:numexpr.utils:NumExpr defaulting to 8 threads.INFO:numexpr.utils:NumExpr defaulting to 8 threads.\n",
      "\n",
      "/root/Thesis/src/code/code_files/engine.py:395: VisibleDeprecationWarning: Creating an ndarray from ragged nested sequences (which is a list-or-tuple of lists-or-tuples-or ndarrays with different lengths or shapes) is deprecated. If you meant to do this, you must specify 'dtype=object' when creating the ndarray\n",
      "  np_arr_labels = np.array(tar_labels)\n",
      "100%|██████████| 875/875 [06:12<00:00,  2.35it/s]\n"
     ]
    },
    {
     "name": "stdout",
     "output_type": "stream",
     "text": [
      "Average F1 Training score for class 0 : 0.6871210828385892\n",
      "Average F1 Training score for class 1 : 0.959853682316835\n",
      "Average Accuracy Training score  : 0.9288383086254057\n",
      "Average mcc Training score  : 0.6527763550555913\n",
      "Average F1 Training score for source sentence class 0 : 0.6602997227997228\n",
      "Average F1 Training score for source sentence class 1 : 0.9501442973924762\n",
      "Average Accuracy Training score source sentence  : 0.9130497444595957\n",
      "Average mcc Training score source sentence : 0.6154730247463753\n",
      "Average F1 Training score for target sentence class 0 : 0.7420157745021981\n",
      "Average F1 Training score for target sentence class 1 : 0.9497541535768923\n",
      "Average Accuracy Training score target sentence  : 0.9158898695824003\n",
      "Average mcc Training score target sentence : 0.6948314342643948\n",
      "Average F1 Training score for gaps in target sentence class 0 : 0.03101246579507449\n",
      "Average F1 Training score for gaps in target sentence class 1 : 0.9864610548227447\n",
      "Average Accuracy Training score gaps in target sentence  : 0.9732952355415528\n",
      "Average mcc Training score gaps in target sentence : 0.0845311595436741\n",
      "Average F1 Training score for whole target sentence class 0 : 0.7061278985896473\n",
      "Average F1 Training score for whole target sentence class 1 : 0.9653770840377311\n",
      "Average Accuracy Training score whole target sentence  : 0.9380525820320461\n",
      "Average mcc Training score whole target sentence : 0.6779165161072086\n"
     ]
    },
    {
     "name": "stderr",
     "output_type": "stream",
     "text": [
      "  0%|          | 0/125 [00:00<?, ?it/s]"
     ]
    },
    {
     "name": "stdout",
     "output_type": "stream",
     "text": [
      "              precision    recall  f1-score   support\n",
      "\n",
      "           0       0.77      0.62      0.69     61913\n",
      "           1       0.95      0.97      0.96    427606\n",
      "\n",
      "    accuracy                           0.93    489519\n",
      "   macro avg       0.86      0.80      0.82    489519\n",
      "weighted avg       0.92      0.93      0.93    489519\n",
      "\n"
     ]
    },
    {
     "name": "stderr",
     "output_type": "stream",
     "text": [
      "INFO:numexpr.utils:NumExpr defaulting to 8 threads.INFO:numexpr.utils:NumExpr defaulting to 8 threads.\n",
      "\n",
      "/root/Thesis/src/code/code_files/engine.py:395: VisibleDeprecationWarning: Creating an ndarray from ragged nested sequences (which is a list-or-tuple of lists-or-tuples-or ndarrays with different lengths or shapes) is deprecated. If you meant to do this, you must specify 'dtype=object' when creating the ndarray\n",
      "  np_arr_labels = np.array(tar_labels)\n",
      "100%|██████████| 125/125 [00:13<00:00,  9.32it/s]\n"
     ]
    },
    {
     "name": "stdout",
     "output_type": "stream",
     "text": [
      "Average F1 Validation score for whole sentence class 0 : 0.2943077305493413\n",
      "Average F1 Validation score for whole sentence class 1 : 0.933757476297512\n",
      "Average Accuracy Validation score whole sentence  : 0.8788839749150325\n",
      "Average mcc Validation score whole sentence : 0.30276677997610635\n",
      "Average F1 Validation score for source sentence class 0 : 0.2747362134182759\n",
      "Average F1 Validation score for source sentence class 1 : 0.9220198214782628\n",
      "Average Accuracy Validation score source sentence  : 0.8591805179744878\n",
      "Average mcc Validation score source sentence : 0.2672036096471795\n",
      "Average F1 Validation score for target sentence class 0 : 0.32933677341022916\n",
      "Average F1 Validation score for target sentence class 1 : 0.907924072260538\n",
      "Average Accuracy Validation score target sentence  : 0.838078487413433\n",
      "Average mcc Validation score target sentence : 0.3189820713120224\n",
      "Average F1 Validation score for gaps in target sentence class 0 : 0.00437636761487965\n",
      "Average F1 Validation score for gaps in target sentence class 1 : 0.9865635058913859\n",
      "Average Accuracy Validation score gaps in target sentence  : 0.9734848484848485\n",
      "Average mcc Validation score gaps in target sentence : 0.04620424012266791\n",
      "Average F1 Validation score for whole target sentence class 0 : 0.30826000567697986\n",
      "Average F1 Validation score for whole target sentence class 1 : 0.940456411258796\n",
      "Average Accuracy Validation score whole target sentence  : 0.8903511732019527\n",
      "Average mcc Validation score whole target sentence : 0.3269745032747127\n",
      "              precision    recall  f1-score   support\n",
      "\n",
      "           0       0.64      0.19      0.29      9274\n",
      "           1       0.89      0.98      0.93     61047\n",
      "\n",
      "    accuracy                           0.88     70321\n",
      "   macro avg       0.76      0.59      0.61     70321\n",
      "weighted avg       0.86      0.88      0.85     70321\n",
      "\n",
      "For gaps :                precision    recall  f1-score   support\n",
      "\n",
      "         0.0       1.00      0.00      0.00       456\n",
      "         1.0       0.97      1.00      0.99     16704\n",
      "\n",
      "    accuracy                           0.97     17160\n",
      "   macro avg       0.99      0.50      0.50     17160\n",
      "weighted avg       0.97      0.97      0.96     17160\n",
      "\n",
      "For tar :               precision    recall  f1-score   support\n",
      "\n",
      "         0.0       0.68      0.22      0.33      4982\n",
      "         1.0       0.85      0.98      0.91     22309\n",
      "\n",
      "    accuracy                           0.84     27291\n",
      "   macro avg       0.76      0.60      0.62     27291\n",
      "weighted avg       0.82      0.84      0.80     27291\n",
      "\n",
      "For source :                precision    recall  f1-score   support\n",
      "\n",
      "         0.0       0.58      0.18      0.27      3836\n",
      "         1.0       0.87      0.98      0.92     22034\n",
      "\n",
      "    accuracy                           0.86     25870\n",
      "   macro avg       0.73      0.58      0.60     25870\n",
      "weighted avg       0.83      0.86      0.83     25870\n",
      "\n",
      "Train Loss = 0.17849428471497128 Valid Loss = 0.477178324341774\n"
     ]
    },
    {
     "name": "stderr",
     "output_type": "stream",
     "text": [
      "  0%|          | 0/875 [00:00<?, ?it/s]"
     ]
    },
    {
     "name": "stdout",
     "output_type": "stream",
     "text": [
      "Epoch 6 of 20\n"
     ]
    },
    {
     "name": "stderr",
     "output_type": "stream",
     "text": [
      "INFO:numexpr.utils:NumExpr defaulting to 8 threads.INFO:numexpr.utils:NumExpr defaulting to 8 threads.\n",
      "\n",
      "/root/Thesis/src/code/code_files/engine.py:395: VisibleDeprecationWarning: Creating an ndarray from ragged nested sequences (which is a list-or-tuple of lists-or-tuples-or ndarrays with different lengths or shapes) is deprecated. If you meant to do this, you must specify 'dtype=object' when creating the ndarray\n",
      "  np_arr_labels = np.array(tar_labels)\n",
      "100%|██████████| 875/875 [06:08<00:00,  2.38it/s]\n"
     ]
    },
    {
     "name": "stdout",
     "output_type": "stream",
     "text": [
      "Average F1 Training score for class 0 : 0.7360469995803608\n",
      "Average F1 Training score for class 1 : 0.9650819865518462\n",
      "Average Accuracy Training score  : 0.9383231294393067\n",
      "Average mcc Training score  : 0.7044764807751751\n",
      "Average F1 Training score for source sentence class 0 : 0.7155963302752294\n",
      "Average F1 Training score for source sentence class 1 : 0.9565142369620998\n",
      "Average Accuracy Training score source sentence  : 0.9245629205884636\n",
      "Average mcc Training score source sentence : 0.6742601966006576\n",
      "Average F1 Training score for target sentence class 0 : 0.7880705640376553\n",
      "Average F1 Training score for target sentence class 1 : 0.9576569884145474\n",
      "Average Accuracy Training score target sentence  : 0.9294164141746806\n",
      "Average mcc Training score target sentence : 0.7472924208340194\n",
      "Average F1 Training score for gaps in target sentence class 0 : 0.042067307692307696\n",
      "Average F1 Training score for gaps in target sentence class 1 : 0.9864545624500757\n",
      "Average Accuracy Training score gaps in target sentence  : 0.9732868562618358\n",
      "Average mcc Training score gaps in target sentence : 0.09909454201739509\n",
      "Average F1 Training score for whole target sentence class 0 : 0.7507552643049313\n",
      "Average F1 Training score for whole target sentence class 1 : 0.9699420519448034\n",
      "Average Accuracy Training score whole target sentence  : 0.9463536460304675\n",
      "Average mcc Training score whole target sentence : 0.7250821944797401\n"
     ]
    },
    {
     "name": "stderr",
     "output_type": "stream",
     "text": [
      "  0%|          | 0/125 [00:00<?, ?it/s]"
     ]
    },
    {
     "name": "stdout",
     "output_type": "stream",
     "text": [
      "              precision    recall  f1-score   support\n",
      "\n",
      "           0       0.80      0.68      0.74     61913\n",
      "           1       0.95      0.98      0.97    427606\n",
      "\n",
      "    accuracy                           0.94    489519\n",
      "   macro avg       0.88      0.83      0.85    489519\n",
      "weighted avg       0.94      0.94      0.94    489519\n",
      "\n"
     ]
    },
    {
     "name": "stderr",
     "output_type": "stream",
     "text": [
      "INFO:numexpr.utils:NumExpr defaulting to 8 threads.INFO:numexpr.utils:NumExpr defaulting to 8 threads.\n",
      "\n",
      "/root/Thesis/src/code/code_files/engine.py:395: VisibleDeprecationWarning: Creating an ndarray from ragged nested sequences (which is a list-or-tuple of lists-or-tuples-or ndarrays with different lengths or shapes) is deprecated. If you meant to do this, you must specify 'dtype=object' when creating the ndarray\n",
      "  np_arr_labels = np.array(tar_labels)\n",
      "100%|██████████| 125/125 [00:14<00:00,  8.78it/s]\n"
     ]
    },
    {
     "name": "stdout",
     "output_type": "stream",
     "text": [
      "Average F1 Validation score for whole sentence class 0 : 0.36623963828183875\n",
      "Average F1 Validation score for whole sentence class 1 : 0.9339729296862731\n",
      "Average Accuracy Validation score whole sentence  : 0.8804055687490223\n",
      "Average mcc Validation score whole sentence : 0.3454678217466378\n",
      "Average F1 Validation score for source sentence class 0 : 0.3395542670773691\n",
      "Average F1 Validation score for source sentence class 1 : 0.9211397416758617\n",
      "Average Accuracy Validation score source sentence  : 0.8591032083494395\n",
      "Average mcc Validation score source sentence : 0.30319033334708223\n",
      "Average F1 Validation score for target sentence class 0 : 0.40910337263504254\n",
      "Average F1 Validation score for target sentence class 1 : 0.9088563694806293\n",
      "Average Accuracy Validation score target sentence  : 0.8420724781063355\n",
      "Average mcc Validation score target sentence : 0.3644654340999552\n",
      "Average F1 Validation score for gaps in target sentence class 0 : 0.00437636761487965\n",
      "Average F1 Validation score for gaps in target sentence class 1 : 0.9865635058913859\n",
      "Average Accuracy Validation score gaps in target sentence  : 0.9734848484848485\n",
      "Average mcc Validation score gaps in target sentence : 0.04620424012266791\n",
      "Average F1 Validation score for whole target sentence class 0 : 0.3852406141143078\n",
      "Average F1 Validation score for whole target sentence class 1 : 0.9412823008958608\n",
      "Average Accuracy Validation score whole target sentence  : 0.892803311511552\n",
      "Average mcc Validation score whole target sentence : 0.3740505357947184\n",
      "              precision    recall  f1-score   support\n",
      "\n",
      "           0       0.61      0.26      0.37      9274\n",
      "           1       0.90      0.97      0.93     61047\n",
      "\n",
      "    accuracy                           0.88     70321\n",
      "   macro avg       0.75      0.62      0.65     70321\n",
      "weighted avg       0.86      0.88      0.86     70321\n",
      "\n",
      "For gaps :                precision    recall  f1-score   support\n",
      "\n",
      "         0.0       1.00      0.00      0.00       456\n",
      "         1.0       0.97      1.00      0.99     16704\n",
      "\n",
      "    accuracy                           0.97     17160\n",
      "   macro avg       0.99      0.50      0.50     17160\n",
      "weighted avg       0.97      0.97      0.96     17160\n",
      "\n",
      "For tar :               precision    recall  f1-score   support\n",
      "\n",
      "         0.0       0.65      0.30      0.41      4982\n",
      "         1.0       0.86      0.96      0.91     22309\n",
      "\n",
      "    accuracy                           0.84     27291\n",
      "   macro avg       0.75      0.63      0.66     27291\n",
      "weighted avg       0.82      0.84      0.82     27291\n",
      "\n",
      "For source :                precision    recall  f1-score   support\n",
      "\n",
      "         0.0       0.56      0.24      0.34      3836\n",
      "         1.0       0.88      0.97      0.92     22034\n",
      "\n",
      "    accuracy                           0.86     25870\n",
      "   macro avg       0.72      0.61      0.63     25870\n",
      "weighted avg       0.83      0.86      0.83     25870\n",
      "\n",
      "Train Loss = 0.1559042877980641 Valid Loss = 0.4746714615821838\n"
     ]
    },
    {
     "name": "stderr",
     "output_type": "stream",
     "text": [
      "  0%|          | 0/875 [00:00<?, ?it/s]"
     ]
    },
    {
     "name": "stdout",
     "output_type": "stream",
     "text": [
      "Epoch 7 of 20\n"
     ]
    },
    {
     "name": "stderr",
     "output_type": "stream",
     "text": [
      "INFO:numexpr.utils:NumExpr defaulting to 8 threads.INFO:numexpr.utils:NumExpr defaulting to 8 threads.\n",
      "\n",
      "/root/Thesis/src/code/code_files/engine.py:395: VisibleDeprecationWarning: Creating an ndarray from ragged nested sequences (which is a list-or-tuple of lists-or-tuples-or ndarrays with different lengths or shapes) is deprecated. If you meant to do this, you must specify 'dtype=object' when creating the ndarray\n",
      "  np_arr_labels = np.array(tar_labels)\n",
      "100%|██████████| 875/875 [06:23<00:00,  2.28it/s]\n"
     ]
    },
    {
     "name": "stdout",
     "output_type": "stream",
     "text": [
      "Average F1 Training score for class 0 : 0.7778130278580432\n",
      "Average F1 Training score for class 1 : 0.9699528415106022\n",
      "Average Accuracy Training score  : 0.9470643631810002\n",
      "Average mcc Training score  : 0.7497368881823575\n",
      "Average F1 Training score for source sentence class 0 : 0.7572887042985453\n",
      "Average F1 Training score for source sentence class 1 : 0.9619686657455109\n",
      "Average Accuracy Training score source sentence  : 0.9342413055287635\n",
      "Average mcc Training score source sentence : 0.7202438051303562\n",
      "Average F1 Training score for target sentence class 0 : 0.8310493769615612\n",
      "Average F1 Training score for target sentence class 1 : 0.9654999555820653\n",
      "Average Accuracy Training score target sentence  : 0.9427005664602819\n",
      "Average mcc Training score target sentence : 0.7972101261119667\n",
      "Average F1 Training score for gaps in target sentence class 0 : 0.06257378984651712\n",
      "Average F1 Training score for gaps in target sentence class 1 : 0.9865021079831362\n",
      "Average Accuracy Training score gaps in target sentence  : 0.9733874076184411\n",
      "Average mcc Training score gaps in target sentence : 0.12657730054518446\n",
      "Average F1 Training score for whole target sentence class 0 : 0.7926199261992619\n",
      "Average F1 Training score for whole target sentence class 1 : 0.9744770056895387\n",
      "Average Accuracy Training score whole target sentence  : 0.954547954334443\n",
      "Average mcc Training score whole target sentence : 0.7699914413192488\n"
     ]
    },
    {
     "name": "stderr",
     "output_type": "stream",
     "text": [
      "  0%|          | 0/125 [00:00<?, ?it/s]"
     ]
    },
    {
     "name": "stdout",
     "output_type": "stream",
     "text": [
      "              precision    recall  f1-score   support\n",
      "\n",
      "           0       0.83      0.73      0.78     61913\n",
      "           1       0.96      0.98      0.97    427606\n",
      "\n",
      "    accuracy                           0.95    489519\n",
      "   macro avg       0.90      0.86      0.87    489519\n",
      "weighted avg       0.95      0.95      0.95    489519\n",
      "\n"
     ]
    },
    {
     "name": "stderr",
     "output_type": "stream",
     "text": [
      "INFO:numexpr.utils:NumExpr defaulting to 8 threads.INFO:numexpr.utils:NumExpr defaulting to 8 threads.\n",
      "\n",
      "/root/Thesis/src/code/code_files/engine.py:395: VisibleDeprecationWarning: Creating an ndarray from ragged nested sequences (which is a list-or-tuple of lists-or-tuples-or ndarrays with different lengths or shapes) is deprecated. If you meant to do this, you must specify 'dtype=object' when creating the ndarray\n",
      "  np_arr_labels = np.array(tar_labels)\n",
      "100%|██████████| 125/125 [00:14<00:00,  8.75it/s]\n"
     ]
    },
    {
     "name": "stdout",
     "output_type": "stream",
     "text": [
      "Average F1 Validation score for whole sentence class 0 : 0.3727338651196519\n",
      "Average F1 Validation score for whole sentence class 1 : 0.9318102986157096\n",
      "Average Accuracy Validation score whole sentence  : 0.8769926479998862\n",
      "Average mcc Validation score whole sentence : 0.33849612357430203\n",
      "Average F1 Validation score for source sentence class 0 : 0.3482638888888889\n",
      "Average F1 Validation score for source sentence class 1 : 0.9183558068725532\n",
      "Average Accuracy Validation score source sentence  : 0.8548898337843062\n",
      "Average mcc Validation score source sentence : 0.2975364367782303\n",
      "Average F1 Validation score for target sentence class 0 : 0.4128537423961915\n",
      "Average F1 Validation score for target sentence class 1 : 0.9055720969800086\n",
      "Average Accuracy Validation score target sentence  : 0.8373090029680115\n",
      "Average mcc Validation score target sentence : 0.3533916917290769\n",
      "Average F1 Validation score for gaps in target sentence class 0 : 0.025641025641025637\n",
      "Average F1 Validation score for gaps in target sentence class 1 : 0.9865295994328253\n",
      "Average Accuracy Validation score gaps in target sentence  : 0.9734265734265735\n",
      "Average mcc Validation score gaps in target sentence : 0.07786837977811832\n",
      "Average F1 Validation score for whole target sentence class 0 : 0.3902864259028643\n",
      "Average F1 Validation score for whole target sentence class 1 : 0.9394598872292017\n",
      "Average Accuracy Validation score whole target sentence  : 0.889856246203685\n",
      "Average mcc Validation score whole target sentence : 0.36620267521361083\n",
      "              precision    recall  f1-score   support\n",
      "\n",
      "           0       0.57      0.28      0.37      9274\n",
      "           1       0.90      0.97      0.93     61047\n",
      "\n",
      "    accuracy                           0.88     70321\n",
      "   macro avg       0.73      0.62      0.65     70321\n",
      "weighted avg       0.85      0.88      0.86     70321\n",
      "\n",
      "For gaps :                precision    recall  f1-score   support\n",
      "\n",
      "         0.0       0.50      0.01      0.03       456\n",
      "         1.0       0.97      1.00      0.99     16704\n",
      "\n",
      "    accuracy                           0.97     17160\n",
      "   macro avg       0.74      0.51      0.51     17160\n",
      "weighted avg       0.96      0.97      0.96     17160\n",
      "\n",
      "For tar :               precision    recall  f1-score   support\n",
      "\n",
      "         0.0       0.61      0.31      0.41      4982\n",
      "         1.0       0.86      0.95      0.91     22309\n",
      "\n",
      "    accuracy                           0.84     27291\n",
      "   macro avg       0.73      0.63      0.66     27291\n",
      "weighted avg       0.81      0.84      0.82     27291\n",
      "\n"
     ]
    },
    {
     "name": "stderr",
     "output_type": "stream",
     "text": [
      "  0%|          | 0/875 [00:00<?, ?it/s]"
     ]
    },
    {
     "name": "stdout",
     "output_type": "stream",
     "text": [
      "For source :                precision    recall  f1-score   support\n",
      "\n",
      "         0.0       0.52      0.26      0.35      3836\n",
      "         1.0       0.88      0.96      0.92     22034\n",
      "\n",
      "    accuracy                           0.85     25870\n",
      "   macro avg       0.70      0.61      0.63     25870\n",
      "weighted avg       0.83      0.85      0.83     25870\n",
      "\n",
      "Train Loss = 0.1351771927859102 Valid Loss = 0.5011887799501419\n",
      "Epoch 8 of 20\n"
     ]
    },
    {
     "name": "stderr",
     "output_type": "stream",
     "text": [
      "INFO:numexpr.utils:NumExpr defaulting to 8 threads.INFO:numexpr.utils:NumExpr defaulting to 8 threads.\n",
      "\n",
      "/root/Thesis/src/code/code_files/engine.py:395: VisibleDeprecationWarning: Creating an ndarray from ragged nested sequences (which is a list-or-tuple of lists-or-tuples-or ndarrays with different lengths or shapes) is deprecated. If you meant to do this, you must specify 'dtype=object' when creating the ndarray\n",
      "  np_arr_labels = np.array(tar_labels)\n",
      "100%|██████████| 875/875 [06:13<00:00,  2.35it/s]\n"
     ]
    },
    {
     "name": "stdout",
     "output_type": "stream",
     "text": [
      "Average F1 Training score for class 0 : 0.8050011412340545\n",
      "Average F1 Training score for class 1 : 0.9732011222836031\n",
      "Average Accuracy Training score  : 0.9528782335312828\n",
      "Average mcc Training score  : 0.7793720300234434\n",
      "Average F1 Training score for source sentence class 0 : 0.7853266331658291\n",
      "Average F1 Training score for source sentence class 1 : 0.9656651256694978\n",
      "Average Accuracy Training score source sentence  : 0.9407988824957595\n",
      "Average mcc Training score source sentence : 0.7513326908831385\n",
      "Average F1 Training score for target sentence class 0 : 0.8581307434612901\n",
      "Average F1 Training score for target sentence class 1 : 0.9706432287360561\n",
      "Average Accuracy Training score target sentence  : 0.9513529179291266\n",
      "Average mcc Training score target sentence : 0.8290656399433202\n",
      "Average F1 Training score for gaps in target sentence class 0 : 0.09051599884692994\n",
      "Average F1 Training score for gaps in target sentence class 1 : 0.9865867397912549\n",
      "Average Accuracy Training score gaps in target sentence  : 0.9735633724925006\n",
      "Average mcc Training score gaps in target sentence : 0.1591556945462356\n",
      "Average F1 Training score for whole target sentence class 0 : 0.819281327050173\n",
      "Average F1 Training score for whole target sentence class 1 : 0.9774655215384643\n",
      "Average Accuracy Training score whole target sentence  : 0.9599277943303021\n",
      "Average mcc Training score whole target sentence : 0.7988247823723462\n"
     ]
    },
    {
     "name": "stderr",
     "output_type": "stream",
     "text": [
      "  0%|          | 0/125 [00:00<?, ?it/s]"
     ]
    },
    {
     "name": "stdout",
     "output_type": "stream",
     "text": [
      "              precision    recall  f1-score   support\n",
      "\n",
      "           0       0.84      0.77      0.81     61913\n",
      "           1       0.97      0.98      0.97    427606\n",
      "\n",
      "    accuracy                           0.95    489519\n",
      "   macro avg       0.91      0.87      0.89    489519\n",
      "weighted avg       0.95      0.95      0.95    489519\n",
      "\n"
     ]
    },
    {
     "name": "stderr",
     "output_type": "stream",
     "text": [
      "INFO:numexpr.utils:NumExpr defaulting to 8 threads.INFO:numexpr.utils:NumExpr defaulting to 8 threads.\n",
      "\n",
      "/root/Thesis/src/code/code_files/engine.py:395: VisibleDeprecationWarning: Creating an ndarray from ragged nested sequences (which is a list-or-tuple of lists-or-tuples-or ndarrays with different lengths or shapes) is deprecated. If you meant to do this, you must specify 'dtype=object' when creating the ndarray\n",
      "  np_arr_labels = np.array(tar_labels)\n",
      "100%|██████████| 125/125 [00:14<00:00,  8.73it/s]\n"
     ]
    },
    {
     "name": "stdout",
     "output_type": "stream",
     "text": [
      "Average F1 Validation score for whole sentence class 0 : 0.3506643114968128\n",
      "Average F1 Validation score for whole sentence class 1 : 0.9337491478675141\n",
      "Average Accuracy Validation score whole sentence  : 0.8797656461085593\n",
      "Average mcc Validation score whole sentence : 0.33473194638842163\n",
      "Average F1 Validation score for source sentence class 0 : 0.3323572474377745\n",
      "Average F1 Validation score for source sentence class 1 : 0.9211686403319215\n",
      "Average Accuracy Validation score source sentence  : 0.858987243911867\n",
      "Average mcc Validation score source sentence : 0.29858266798613203\n",
      "Average F1 Validation score for target sentence class 0 : 0.3865783166502185\n",
      "Average F1 Validation score for target sentence class 1 : 0.9083787824548843\n",
      "Average Accuracy Validation score target sentence  : 0.8405701513319409\n",
      "Average mcc Validation score target sentence : 0.3499625562263087\n",
      "Average F1 Validation score for gaps in target sentence class 0 : 0.017241379310344827\n",
      "Average F1 Validation score for gaps in target sentence class 1 : 0.986531190926276\n",
      "Average Accuracy Validation score gaps in target sentence  : 0.9734265734265735\n",
      "Average mcc Validation score gaps in target sentence : 0.0635718517918523\n",
      "Average F1 Validation score for whole target sentence class 0 : 0.363901018922853\n",
      "Average F1 Validation score for whole target sentence class 1 : 0.9409060175794455\n",
      "Average Accuracy Validation score whole target sentence  : 0.8918584508784955\n",
      "Average mcc Validation score whole target sentence : 0.35952681431300093\n",
      "              precision    recall  f1-score   support\n",
      "\n",
      "           0       0.61      0.25      0.35      9274\n",
      "           1       0.89      0.98      0.93     61047\n",
      "\n",
      "    accuracy                           0.88     70321\n",
      "   macro avg       0.75      0.61      0.64     70321\n",
      "weighted avg       0.86      0.88      0.86     70321\n",
      "\n",
      "For gaps :                precision    recall  f1-score   support\n",
      "\n",
      "         0.0       0.50      0.01      0.02       456\n",
      "         1.0       0.97      1.00      0.99     16704\n",
      "\n",
      "    accuracy                           0.97     17160\n",
      "   macro avg       0.74      0.50      0.50     17160\n",
      "weighted avg       0.96      0.97      0.96     17160\n",
      "\n",
      "For tar :               precision    recall  f1-score   support\n",
      "\n",
      "         0.0       0.65      0.28      0.39      4982\n",
      "         1.0       0.86      0.97      0.91     22309\n",
      "\n",
      "    accuracy                           0.84     27291\n",
      "   macro avg       0.75      0.62      0.65     27291\n",
      "weighted avg       0.82      0.84      0.81     27291\n",
      "\n",
      "For source :                precision    recall  f1-score   support\n",
      "\n",
      "         0.0       0.56      0.24      0.33      3836\n",
      "         1.0       0.88      0.97      0.92     22034\n",
      "\n",
      "    accuracy                           0.86     25870\n",
      "   macro avg       0.72      0.60      0.63     25870\n",
      "weighted avg       0.83      0.86      0.83     25870\n",
      "\n",
      "Train Loss = 0.12022739962781115 Valid Loss = 0.5799464982151985\n"
     ]
    },
    {
     "name": "stderr",
     "output_type": "stream",
     "text": [
      "  0%|          | 0/875 [00:00<?, ?it/s]"
     ]
    },
    {
     "name": "stdout",
     "output_type": "stream",
     "text": [
      "Epoch 9 of 20\n"
     ]
    },
    {
     "name": "stderr",
     "output_type": "stream",
     "text": [
      "INFO:numexpr.utils:NumExpr defaulting to 8 threads.INFO:numexpr.utils:NumExpr defaulting to 8 threads.\n",
      "\n",
      "/root/Thesis/src/code/code_files/engine.py:395: VisibleDeprecationWarning: Creating an ndarray from ragged nested sequences (which is a list-or-tuple of lists-or-tuples-or ndarrays with different lengths or shapes) is deprecated. If you meant to do this, you must specify 'dtype=object' when creating the ndarray\n",
      "  np_arr_labels = np.array(tar_labels)\n",
      "100%|██████████| 875/875 [06:23<00:00,  2.28it/s]\n"
     ]
    },
    {
     "name": "stdout",
     "output_type": "stream",
     "text": [
      "Average F1 Training score for class 0 : 0.825795180621698\n",
      "Average F1 Training score for class 1 : 0.9758819131209323\n",
      "Average Accuracy Training score  : 0.9576298366355545\n",
      "Average mcc Training score  : 0.8025541478622772\n",
      "Average F1 Training score for source sentence class 0 : 0.8072834606409924\n",
      "Average F1 Training score for source sentence class 1 : 0.9688955556342403\n",
      "Average Accuracy Training score source sentence  : 0.9464362922805734\n",
      "Average mcc Training score source sentence : 0.776341001097997\n",
      "Average F1 Training score for target sentence class 0 : 0.8787665790599596\n",
      "Average F1 Training score for target sentence class 1 : 0.9747410109962878\n",
      "Average Accuracy Training score target sentence  : 0.9581925964958503\n",
      "Average mcc Training score target sentence : 0.8536663945781995\n",
      "Average F1 Training score for gaps in target sentence class 0 : 0.09551208285385501\n",
      "Average F1 Training score for gaps in target sentence class 1 : 0.9866331077174247\n",
      "Average Accuracy Training score gaps in target sentence  : 0.9736555445693889\n",
      "Average mcc Training score gaps in target sentence : 0.16651707988172829\n",
      "Average F1 Training score for whole target sentence class 0 : 0.8392629135229251\n",
      "Average F1 Training score for whole target sentence class 1 : 0.9798330281041444\n",
      "Average Accuracy Training score whole target sentence  : 0.9641624368766519\n",
      "Average mcc Training score whole target sentence : 0.8208443479210263\n"
     ]
    },
    {
     "name": "stderr",
     "output_type": "stream",
     "text": [
      "  0%|          | 0/125 [00:00<?, ?it/s]"
     ]
    },
    {
     "name": "stdout",
     "output_type": "stream",
     "text": [
      "              precision    recall  f1-score   support\n",
      "\n",
      "           0       0.86      0.79      0.83     61913\n",
      "           1       0.97      0.98      0.98    427606\n",
      "\n",
      "    accuracy                           0.96    489519\n",
      "   macro avg       0.92      0.89      0.90    489519\n",
      "weighted avg       0.96      0.96      0.96    489519\n",
      "\n"
     ]
    },
    {
     "name": "stderr",
     "output_type": "stream",
     "text": [
      "INFO:numexpr.utils:NumExpr defaulting to 8 threads.INFO:numexpr.utils:NumExpr defaulting to 8 threads.\n",
      "\n",
      "/root/Thesis/src/code/code_files/engine.py:395: VisibleDeprecationWarning: Creating an ndarray from ragged nested sequences (which is a list-or-tuple of lists-or-tuples-or ndarrays with different lengths or shapes) is deprecated. If you meant to do this, you must specify 'dtype=object' when creating the ndarray\n",
      "  np_arr_labels = np.array(tar_labels)\n",
      "100%|██████████| 125/125 [00:14<00:00,  8.69it/s]\n"
     ]
    },
    {
     "name": "stdout",
     "output_type": "stream",
     "text": [
      "Average F1 Validation score for whole sentence class 0 : 0.35738675165035283\n",
      "Average F1 Validation score for whole sentence class 1 : 0.9335571891450852\n",
      "Average Accuracy Validation score whole sentence  : 0.8795665590648597\n",
      "Average mcc Validation score whole sentence : 0.33766918749568364\n",
      "Average F1 Validation score for source sentence class 0 : 0.3353336970358247\n",
      "Average F1 Validation score for source sentence class 1 : 0.9209575917475833\n",
      "Average Accuracy Validation score source sentence  : 0.8587166602241979\n",
      "Average mcc Validation score source sentence : 0.29954475113679513\n",
      "Average F1 Validation score for target sentence class 0 : 0.3955617198335645\n",
      "Average F1 Validation score for target sentence class 1 : 0.908004728531622\n",
      "Average Accuracy Validation score target sentence  : 0.8403136565168005\n",
      "Average mcc Validation score target sentence : 0.3530980748647916\n",
      "Average F1 Validation score for gaps in target sentence class 0 : 0.02978723404255319\n",
      "Average F1 Validation score for gaps in target sentence class 1 : 0.9865288035450518\n",
      "Average Accuracy Validation score gaps in target sentence  : 0.9734265734265735\n",
      "Average mcc Validation score gaps in target sentence : 0.08411236821750658\n",
      "Average F1 Validation score for whole target sentence class 0 : 0.3731770833333334\n",
      "Average F1 Validation score for whole target sentence class 1 : 0.9407303439954691\n",
      "Average Accuracy Validation score whole target sentence  : 0.8917009741063193\n",
      "Average mcc Validation score whole target sentence : 0.363509388702708\n",
      "              precision    recall  f1-score   support\n",
      "\n",
      "           0       0.60      0.25      0.36      9274\n",
      "           1       0.90      0.97      0.93     61047\n",
      "\n",
      "    accuracy                           0.88     70321\n",
      "   macro avg       0.75      0.61      0.65     70321\n",
      "weighted avg       0.86      0.88      0.86     70321\n",
      "\n",
      "For gaps :                precision    recall  f1-score   support\n",
      "\n",
      "         0.0       0.50      0.02      0.03       456\n",
      "         1.0       0.97      1.00      0.99     16704\n",
      "\n",
      "    accuracy                           0.97     17160\n",
      "   macro avg       0.74      0.51      0.51     17160\n",
      "weighted avg       0.96      0.97      0.96     17160\n",
      "\n",
      "For tar :               precision    recall  f1-score   support\n",
      "\n",
      "         0.0       0.64      0.29      0.40      4982\n",
      "         1.0       0.86      0.96      0.91     22309\n",
      "\n",
      "    accuracy                           0.84     27291\n",
      "   macro avg       0.75      0.63      0.65     27291\n",
      "weighted avg       0.82      0.84      0.81     27291\n",
      "\n",
      "For source :                precision    recall  f1-score   support\n",
      "\n",
      "         0.0       0.55      0.24      0.34      3836\n",
      "         1.0       0.88      0.97      0.92     22034\n",
      "\n",
      "    accuracy                           0.86     25870\n",
      "   macro avg       0.72      0.60      0.63     25870\n",
      "weighted avg       0.83      0.86      0.83     25870\n",
      "\n",
      "Train Loss = 0.10846226697095802 Valid Loss = 0.5994307910203933\n"
     ]
    },
    {
     "name": "stderr",
     "output_type": "stream",
     "text": [
      "  0%|          | 0/875 [00:00<?, ?it/s]"
     ]
    },
    {
     "name": "stdout",
     "output_type": "stream",
     "text": [
      "Epoch 10 of 20\n"
     ]
    },
    {
     "name": "stderr",
     "output_type": "stream",
     "text": [
      "INFO:numexpr.utils:NumExpr defaulting to 8 threads.INFO:numexpr.utils:NumExpr defaulting to 8 threads.\n",
      "\n",
      "/root/Thesis/src/code/code_files/engine.py:395: VisibleDeprecationWarning: Creating an ndarray from ragged nested sequences (which is a list-or-tuple of lists-or-tuples-or ndarrays with different lengths or shapes) is deprecated. If you meant to do this, you must specify 'dtype=object' when creating the ndarray\n",
      "  np_arr_labels = np.array(tar_labels)\n",
      "100%|██████████| 875/875 [06:22<00:00,  2.29it/s]\n"
     ]
    },
    {
     "name": "stdout",
     "output_type": "stream",
     "text": [
      "Average F1 Training score for class 0 : 0.8440607273940607\n",
      "Average F1 Training score for class 1 : 0.9782414875959952\n",
      "Average Accuracy Training score  : 0.9618114925059089\n",
      "Average mcc Training score  : 0.8229079925270769\n",
      "Average F1 Training score for source sentence class 0 : 0.8280993370931038\n",
      "Average F1 Training score for source sentence class 1 : 0.9720017146411661\n",
      "Average Accuracy Training score source sentence  : 0.95184643185774\n",
      "Average mcc Training score source sentence : 0.8001483698339931\n",
      "Average F1 Training score for target sentence class 0 : 0.89445813932256\n",
      "Average F1 Training score for target sentence class 1 : 0.9778990032883835\n",
      "Average Accuracy Training score target sentence  : 0.9634514556711896\n",
      "Average mcc Training score target sentence : 0.8724428027844463\n",
      "Average F1 Training score for gaps in target sentence class 0 : 0.15329473393989523\n",
      "Average F1 Training score for gaps in target sentence class 1 : 0.9869350838307304\n",
      "Average Accuracy Training score gaps in target sentence  : 0.9742672319887382\n",
      "Average mcc Training score gaps in target sentence : 0.22759786603923896\n",
      "Average F1 Training score for whole target sentence class 0 : 0.8556925517340832\n",
      "Average F1 Training score for whole target sentence class 1 : 0.9817686271723427\n",
      "Average Accuracy Training score whole target sentence  : 0.9676271444145744\n",
      "Average mcc Training score whole target sentence : 0.8388587605870255\n"
     ]
    },
    {
     "name": "stderr",
     "output_type": "stream",
     "text": [
      "  0%|          | 0/125 [00:00<?, ?it/s]"
     ]
    },
    {
     "name": "stdout",
     "output_type": "stream",
     "text": [
      "              precision    recall  f1-score   support\n",
      "\n",
      "           0       0.87      0.82      0.84     61913\n",
      "           1       0.97      0.98      0.98    427606\n",
      "\n",
      "    accuracy                           0.96    489519\n",
      "   macro avg       0.92      0.90      0.91    489519\n",
      "weighted avg       0.96      0.96      0.96    489519\n",
      "\n"
     ]
    },
    {
     "name": "stderr",
     "output_type": "stream",
     "text": [
      "INFO:numexpr.utils:NumExpr defaulting to 8 threads.INFO:numexpr.utils:NumExpr defaulting to 8 threads.\n",
      "\n",
      "/root/Thesis/src/code/code_files/engine.py:395: VisibleDeprecationWarning: Creating an ndarray from ragged nested sequences (which is a list-or-tuple of lists-or-tuples-or ndarrays with different lengths or shapes) is deprecated. If you meant to do this, you must specify 'dtype=object' when creating the ndarray\n",
      "  np_arr_labels = np.array(tar_labels)\n",
      "100%|██████████| 125/125 [00:14<00:00,  8.74it/s]\n"
     ]
    },
    {
     "name": "stdout",
     "output_type": "stream",
     "text": [
      "Average F1 Validation score for whole sentence class 0 : 0.3710836234353011\n",
      "Average F1 Validation score for whole sentence class 1 : 0.9332158784341793\n",
      "Average Accuracy Validation score whole sentence  : 0.879253707996189\n",
      "Average mcc Validation score whole sentence : 0.34435659442885413\n",
      "Average F1 Validation score for source sentence class 0 : 0.35190097259062775\n",
      "Average F1 Validation score for source sentence class 1 : 0.9204730389497667\n",
      "Average Accuracy Validation score source sentence  : 0.8583301120989563\n",
      "Average mcc Validation score source sentence : 0.30855500905361094\n",
      "Average F1 Validation score for target sentence class 0 : 0.40774857762124084\n",
      "Average F1 Validation score for target sentence class 1 : 0.9073728813559323\n",
      "Average Accuracy Validation score target sentence  : 0.8398006668865193\n",
      "Average mcc Validation score target sentence : 0.35732657453640093\n",
      "Average F1 Validation score for gaps in target sentence class 0 : 0.021551724137931032\n",
      "Average F1 Validation score for gaps in target sentence class 1 : 0.9865902646502835\n",
      "Average Accuracy Validation score gaps in target sentence  : 0.9735431235431236\n",
      "Average mcc Validation score gaps in target sentence : 0.08035688651532882\n",
      "Average F1 Validation score for whole target sentence class 0 : 0.3849095080295692\n",
      "Average F1 Validation score for whole target sentence class 1 : 0.940460915909988\n",
      "Average Accuracy Validation score whole target sentence  : 0.891431013925446\n",
      "Average mcc Validation score whole target sentence : 0.36864292929320913\n",
      "              precision    recall  f1-score   support\n",
      "\n",
      "           0       0.59      0.27      0.37      9274\n",
      "           1       0.90      0.97      0.93     61047\n",
      "\n",
      "    accuracy                           0.88     70321\n",
      "   macro avg       0.75      0.62      0.65     70321\n",
      "weighted avg       0.86      0.88      0.86     70321\n",
      "\n",
      "For gaps :                precision    recall  f1-score   support\n",
      "\n",
      "         0.0       0.62      0.01      0.02       456\n",
      "         1.0       0.97      1.00      0.99     16704\n",
      "\n",
      "    accuracy                           0.97     17160\n",
      "   macro avg       0.80      0.51      0.50     17160\n",
      "weighted avg       0.96      0.97      0.96     17160\n",
      "\n",
      "For tar :               precision    recall  f1-score   support\n",
      "\n",
      "         0.0       0.63      0.30      0.41      4982\n",
      "         1.0       0.86      0.96      0.91     22309\n",
      "\n",
      "    accuracy                           0.84     27291\n",
      "   macro avg       0.74      0.63      0.66     27291\n",
      "weighted avg       0.82      0.84      0.82     27291\n",
      "\n",
      "For source :                precision    recall  f1-score   support\n",
      "\n",
      "         0.0       0.55      0.26      0.35      3836\n",
      "         1.0       0.88      0.96      0.92     22034\n",
      "\n",
      "    accuracy                           0.86     25870\n",
      "   macro avg       0.71      0.61      0.64     25870\n",
      "weighted avg       0.83      0.86      0.84     25870\n",
      "\n",
      "Train Loss = 0.09736011228071792 Valid Loss = 0.6746718794107437\n",
      "terminating because of early stopping!\n"
     ]
    }
   ],
   "source": [
    "best_accuracy = -1\n",
    "train_loss_lst = []\n",
    "val_loss_lst = []\n",
    "with open('metrics_xlmroberta_large_trainData.txt', 'w') as f:\n",
    "    f.write('With 2 synonyms and 2 sentences new created for each'+'\\n')\n",
    "    for epoch in range(config.EPOCHS):\n",
    "            print(f'Epoch {epoch+1} of {config.EPOCHS}')\n",
    "            train_metrics = engine.train_fn(train_dataloader, model, optimizer, scheduler)\n",
    "            print(classification_report(train_metrics[21],train_metrics[22]))\n",
    "            test_metrics = engine.eval_fn(val_dataloader, model)\n",
    "            print(classification_report(test_metrics[21],test_metrics[22]))\n",
    "            print('For gaps : ',classification_report(test_metrics[27],test_metrics[28]) )\n",
    "            print('For tar :',classification_report(test_metrics[25],test_metrics[26]) )\n",
    "            print('For source : ',classification_report(test_metrics[23],test_metrics[24]) )\n",
    "            print(f\"Train Loss = {train_metrics[0]} Valid Loss = {test_metrics[0]}\")\n",
    "            train_loss_lst.append(train_metrics[:-2])\n",
    "            val_loss_lst.append(test_metrics[:-14])\n",
    "            f.write(f\"Train_loss {epoch+1} : {str(train_loss_lst)}\" + '\\n')\n",
    "            f.write(f\"val_loss {epoch+1} : {str(val_loss_lst)}\" + '\\n')\n",
    "            if early_stopping.step(float(\"{:.2f}\".format(test_metrics[4]))): #mcc score for early stopping \"{:.2f}\".format(a_float)\n",
    "                  break  # early stop criterion is met, we can stop now\n",
    "            if float(\"{:.2f}\".format(test_metrics[4])) >  best_accuracy:\n",
    "                torch.save(model.state_dict(), '../models/training_data/model_xlmrobertatokenclassificationmodel_lar_trainData_earlystopping.bin')\n",
    "                best_accuracy = float(\"{:.2f}\".format(test_metrics[4]))"
   ]
  },
  {
   "cell_type": "code",
   "execution_count": 18,
   "metadata": {},
   "outputs": [
    {
     "name": "stdout",
     "output_type": "stream",
     "text": [
      "loss_train : [0.3276445922170367, 0.2865374786768641, 0.24874138761418207, 0.2105251899063587, 0.17849428471497128, 0.1559042877980641, 0.1351771927859102, 0.12022739962781115, 0.10846226697095802, 0.09736011228071792] \n",
      " loss_test :  [0.32197116458415986, 0.32980235922336576, 0.34504571747779844, 0.39568778151273726, 0.477178324341774, 0.4746714615821838, 0.5011887799501419, 0.5799464982151985, 0.5994307910203933, 0.6746718794107437] \n",
      " f1_class0_train : [0.08336679307011673, 0.32768012178587563, 0.49118683901292587, 0.6088903585431527, 0.6871210828385892, 0.7360469995803608, 0.7778130278580432, 0.8050011412340545, 0.825795180621698, 0.8440607273940607] \n",
      " f1_class0_test : [0.08646884878148262, 0.1800339686733346, 0.2653524075366364, 0.28915058882485595, 0.2943077305493413, 0.36623963828183875, 0.3727338651196519, 0.3506643114968128, 0.35738675165035283, 0.3710836234353011] \n",
      " f1_class1_train : [0.9323980333255465, 0.9368348835026526, 0.9440355364479879, 0.9525912369888443, 0.959853682316835, 0.9650819865518462, 0.9699528415106022, 0.9732011222836031, 0.9758819131209323, 0.9782414875959952] \n",
      " f1_class1_test : [0.9315244391791188, 0.9331764633508658, 0.9348031398535356, 0.93385353115358, 0.933757476297512, 0.9339729296862731, 0.9318102986157096, 0.9337491478675141, 0.9335571891450852, 0.9332158784341793] \n",
      " accuracy_score_train : [0.8740825177367988, 0.8845192934288557, 0.8991622388507903, 0.9154333131093992, 0.9288383086254057, 0.9383231294393067, 0.9470643631810002, 0.9528782335312828, 0.9576298366355545, 0.9618114925059089] \n",
      " accuracy_score_test : [0.8725985125353735, 0.8764238278750303, 0.8802349227115656, 0.8789692979337609, 0.8788839749150325, 0.8804055687490223, 0.8769926479998862, 0.8797656461085593, 0.8795665590648597, 0.879253707996189] \n",
      " mcc_score_train : [0.12603871035390565, 0.3243047942027456, 0.461816192773863, 0.5734347017584963, 0.6527763550555913, 0.7044764807751751, 0.7497368881823575, 0.7793720300234434, 0.8025541478622772, 0.8229079925270769] \n",
      " mcc_score_test : [0.17139950473096663, 0.24099878560121066, 0.2981256215863504, 0.3008107982660422, 0.30276677997610635, 0.3454678217466378, 0.33849612357430203, 0.33473194638842163, 0.33766918749568364, 0.34435659442885413] \n",
      " f1_class0_train_src : [0.06973612374886261, 0.2932774597178776, 0.45757375717259935, 0.5791020108346341, 0.6602997227997228, 0.7155963302752294, 0.7572887042985453, 0.7853266331658291, 0.8072834606409924, 0.8280993370931038] \n",
      " f1_class0_test_src : [0.06726457399103138, 0.14468481042102815, 0.2345123258306538, 0.2650212421606312, 0.2747362134182759, 0.3395542670773691, 0.3482638888888889, 0.3323572474377745, 0.3353336970358247, 0.35190097259062775] \n",
      " f1_class1_train : [0.9323980333255465, 0.9368348835026526, 0.9440355364479879, 0.9525912369888443, 0.959853682316835, 0.9650819865518462, 0.9699528415106022, 0.9732011222836031, 0.9758819131209323, 0.9782414875959952] \n",
      " f1_class1_test : [0.9315244391791188, 0.9331764633508658, 0.9348031398535356, 0.93385353115358, 0.933757476297512, 0.9339729296862731, 0.9318102986157096, 0.9337491478675141, 0.9335571891450852, 0.9332158784341793] \n",
      " accuracy_score_train : [0.8740825177367988, 0.8845192934288557, 0.8991622388507903, 0.9154333131093992, 0.9288383086254057, 0.9383231294393067, 0.9470643631810002, 0.9528782335312828, 0.9576298366355545, 0.9618114925059089] \n",
      " accuracy_score_test : [0.8725985125353735, 0.8764238278750303, 0.8802349227115656, 0.8789692979337609, 0.8788839749150325, 0.8804055687490223, 0.8769926479998862, 0.8797656461085593, 0.8795665590648597, 0.879253707996189] \n",
      " mcc_score_train : [0.12603871035390565, 0.3243047942027456, 0.461816192773863, 0.5734347017584963, 0.6527763550555913, 0.7044764807751751, 0.7497368881823575, 0.7793720300234434, 0.8025541478622772, 0.8229079925270769] \n",
      " mcc_score_test_src : [0.14290784054049585, 0.19882907137458494, 0.26190937707418255, 0.263807734154369, 0.2672036096471795, 0.30319033334708223, 0.2975364367782303, 0.29858266798613203, 0.29954475113679513, 0.30855500905361094] \n",
      " f1_class0_train_tar : [0.10085872121643055, 0.3747579838726836, 0.544198692042031, 0.6635172203596464, 0.7420157745021981, 0.7880705640376553, 0.8310493769615612, 0.8581307434612901, 0.8787665790599596, 0.89445813932256] \n",
      " f1_class0_test_tar : [0.1083005433764287, 0.2200924182782817, 0.3071102002207158, 0.327350167325829, 0.32933677341022916, 0.40910337263504254, 0.4128537423961915, 0.3865783166502185, 0.3955617198335645, 0.40774857762124084] \n",
      " f1_class1_train_tar : [0.904141301051944, 0.9116310679027753, 0.923682154567321, 0.9379953321767782, 0.9497541535768923, 0.9576569884145474, 0.9654999555820653, 0.9706432287360561, 0.9747410109962878, 0.9778990032883835] \n",
      " f1_class1_test_tar : [0.9033607472839882, 0.9065019799339339, 0.9088911461680383, 0.9078903516080652, 0.907924072260538, 0.9088563694806293, 0.9055720969800086, 0.9083787824548843, 0.908004728531622, 0.9073728813559323] \n",
      " accuracy_score_train_tar : [0.8267527335001976, 0.8451482018179423, 0.8692556975365564, 0.8952865235146884, 0.9158898695824003, 0.9294164141746806, 0.9427005664602819, 0.9513529179291266, 0.9581925964958503, 0.9634514556711896] \n",
      " accuracy_score_test_tar : [0.8256201678208933, 0.8330218753435198, 0.8389578982082005, 0.837968561064087, 0.838078487413433, 0.8420724781063355, 0.8373090029680115, 0.8405701513319409, 0.8403136565168005, 0.8398006668865193] \n",
      " mcc_score_train_tar : [0.13299064894666446, 0.3418447445415455, 0.48845437299459615, 0.6093822801811265, 0.6948314342643948, 0.7472924208340194, 0.7972101261119667, 0.8290656399433202, 0.8536663945781995, 0.8724428027844463] \n",
      " mcc_score_test_tar : [0.1876815329486112, 0.26363675546607046, 0.3161647138059673, 0.31785353763717994, 0.3189820713120224, 0.3644654340999552, 0.3533916917290769, 0.3499625562263087, 0.3530980748647916, 0.35732657453640093] \n",
      " f1_class0_train_gaps : [0.0006242197253433209, 0.0, 0.0018796992481203009, 0.010549177784672664, 0.03101246579507449, 0.042067307692307696, 0.06257378984651712, 0.09051599884692994, 0.09551208285385501, 0.15329473393989523] \n",
      " f1_class0_test_gaps : [0.0, 0.0, 0.0, 0.0, 0.00437636761487965, 0.00437636761487965, 0.025641025641025637, 0.017241379310344827, 0.02978723404255319, 0.021551724137931032] \n",
      " f1_class1_train_gaps : [0.9864022422286394, 0.9864324872924001, 0.9864708779916089, 0.9864563558296279, 0.9864610548227447, 0.9864545624500757, 0.9865021079831362, 0.9865867397912549, 0.9866331077174247, 0.9869350838307304] \n",
      " f1_class1_test_gaps : [0.9865343727852587, 0.9865343727852587, 0.9865343727852587, 0.9865343727852587, 0.9865635058913859, 0.9865635058913859, 0.9865295994328253, 0.986531190926276, 0.9865288035450518, 0.9865902646502835] \n",
      " accuracy_score_train_gaps : [0.9731695463457961, 0.9732282013038159, 0.9733036148212699, 0.9732784769821187, 0.9732952355415528, 0.9732868562618358, 0.9733874076184411, 0.9735633724925006, 0.9736555445693889, 0.9742672319887382] \n",
      " accuracy_score_test_gaps : [0.9734265734265735, 0.9734265734265735, 0.9734265734265735, 0.9734265734265735, 0.9734848484848485, 0.9734848484848485, 0.9734265734265735, 0.9734265734265735, 0.9734265734265735, 0.9735431235431236] \n",
      " mcc_score_train_gaps : [0.0018735809184825419, -0.0015895773622586677, 0.017697991857791952, 0.04591381358272219, 0.0845311595436741, 0.09909454201739509, 0.12657730054518446, 0.1591556945462356, 0.16651707988172829, 0.22759786603923896] \n",
      " mcc_score_test_gaps : [0.0, 0.0, 0.0, 0.0, 0.04620424012266791, 0.04620424012266791, 0.07786837977811832, 0.0635718517918523, 0.08411236821750658, 0.08035688651532882]\n"
     ]
    },
    {
     "name": "stderr",
     "output_type": "stream",
     "text": [
      "/opt/conda/lib/python3.6/site-packages/ipykernel_launcher.py:1: VisibleDeprecationWarning: Creating an ndarray from ragged nested sequences (which is a list-or-tuple of lists-or-tuples-or ndarrays with different lengths or shapes) is deprecated. If you meant to do this, you must specify 'dtype=object' when creating the ndarray\n",
      "  \"\"\"Entry point for launching an IPython kernel.\n"
     ]
    }
   ],
   "source": [
    "train_metrices = np.array(train_loss_lst)\n",
    "test_metrices = np.array(val_loss_lst)\n",
    "loss_train = train_metrices[:,0]\n",
    "loss_test = test_metrices[:,0]\n",
    "f1_class0_train = train_metrices[:,1]\n",
    "f1_class0_test= test_metrices[:,1]\n",
    "f1_class1_train = train_metrices[:,2]\n",
    "f1_class1_test = test_metrices[:,2]\n",
    "accuracy_score_train = train_metrices[:,3]\n",
    "accuracy_score_test = test_metrices[:,3]\n",
    "mcc_score_train = train_metrices[:,4]\n",
    "mcc_score_test = test_metrices[:,4]\n",
    "f1_class0_train_src = train_metrices[:,5]\n",
    "f1_class0_test_src= test_metrices[:,5]\n",
    "f1_class1_train_src = train_metrices[:,6]\n",
    "f1_class1_test_src = test_metrices[:,6]\n",
    "accuracy_score_train_src = train_metrices[:,7]\n",
    "accuracy_score_test_src = test_metrices[:,7]\n",
    "mcc_score_train_src = train_metrices[:,8]\n",
    "mcc_score_test_src = test_metrices[:,8]\n",
    "\n",
    "f1_class0_train_tar = train_metrices[:,9]\n",
    "f1_class0_test_tar= test_metrices[:,9]\n",
    "f1_class1_train_tar = train_metrices[:,10]\n",
    "f1_class1_test_tar = test_metrices[:,10]\n",
    "accuracy_score_train_tar = train_metrices[:,11]\n",
    "accuracy_score_test_tar = test_metrices[:,11]\n",
    "mcc_score_train_tar = train_metrices[:,12]\n",
    "mcc_score_test_tar = test_metrices[:,12]\n",
    "\n",
    "f1_class0_train_gaps = train_metrices[:,13]\n",
    "f1_class0_test_gaps= test_metrices[:,13]\n",
    "f1_class1_train_gaps = train_metrices[:,14]\n",
    "f1_class1_test_gaps = test_metrices[:,14]\n",
    "accuracy_score_train_gaps = train_metrices[:,15]\n",
    "accuracy_score_test_gaps = test_metrices[:,15]\n",
    "mcc_score_train_gaps = train_metrices[:,16]\n",
    "mcc_score_test_gaps = test_metrices[:,16]\n",
    "print('loss_train :',list(loss_train),'\\n','loss_test : ',list(loss_test),'\\n','f1_class0_train :',list(f1_class0_train),'\\n','f1_class0_test :',list(f1_class0_test),'\\n','f1_class1_train :',list(f1_class1_train),'\\n','f1_class1_test :',list(f1_class1_test),'\\n','accuracy_score_train :',list(accuracy_score_train),'\\n','accuracy_score_test :',list(accuracy_score_test),'\\n','mcc_score_train :',list(mcc_score_train),'\\n',\n",
    "    'mcc_score_test :', list(mcc_score_test),'\\n','f1_class0_train_src :',list(f1_class0_train_src),'\\n','f1_class0_test_src :',list(f1_class0_test_src),'\\n','f1_class1_train :',list(f1_class1_train),'\\n','f1_class1_test :',list(f1_class1_test),'\\n','accuracy_score_train :',list(accuracy_score_train),'\\n','accuracy_score_test :',list(accuracy_score_test),'\\n','mcc_score_train :',list(mcc_score_train),'\\n',\n",
    "    'mcc_score_test_src :', list(mcc_score_test_src), '\\n','f1_class0_train_tar :',list(f1_class0_train_tar),'\\n','f1_class0_test_tar :',list(f1_class0_test_tar),'\\n','f1_class1_train_tar :',list(f1_class1_train_tar),'\\n','f1_class1_test_tar :',list(f1_class1_test_tar),'\\n','accuracy_score_train_tar :',list(accuracy_score_train_tar),'\\n','accuracy_score_test_tar :',list(accuracy_score_test_tar),'\\n','mcc_score_train_tar :',list(mcc_score_train_tar),'\\n',\n",
    "    'mcc_score_test_tar :', list(mcc_score_test_tar),'\\n','f1_class0_train_gaps :',list(f1_class0_train_gaps),'\\n','f1_class0_test_gaps :',list(f1_class0_test_gaps),'\\n','f1_class1_train_gaps :',list(f1_class1_train_gaps),'\\n','f1_class1_test_gaps :',list(f1_class1_test_gaps),'\\n','accuracy_score_train_gaps :',list(accuracy_score_train_gaps),'\\n','accuracy_score_test_gaps :',list(accuracy_score_test_gaps),'\\n','mcc_score_train_gaps :',list(mcc_score_train_gaps),'\\n',\n",
    "    'mcc_score_test_gaps :', list(mcc_score_test_gaps))"
   ]
  },
  {
   "cell_type": "code",
   "execution_count": 21,
   "metadata": {},
   "outputs": [
    {
     "data": {
      "image/png": "[encoded data removed]",
      "text/plain": [
       "<Figure size 432x288 with 1 Axes>"
      ]
     },
     "metadata": {
      "needs_background": "light"
     },
     "output_type": "display_data"
    }
   ],
   "source": [
    "\n",
    "epochs = np.arange(1,epoch+1)\n",
    "plt.plot(epochs,loss_train[:-1],label='train_loss')\n",
    "plt.plot(epochs,loss_test[:-1],label='validation_loss')\n",
    "plt.xlabel('epochs')\n",
    "plt.ylabel('loss')\n",
    "# plt.ylim(0.2,0.4)\n",
    "plt.title('XMLRobertaForTokenClassification_earlyStopping')\n",
    "plt.legend()\n",
    "plt.grid()\n",
    "plt.show()"
   ]
  },
  {
   "cell_type": "code",
   "execution_count": 23,
   "metadata": {},
   "outputs": [
    {
     "data": {
      "image/png": "[encoded data removed]",
      "text/plain": [
       "<Figure size 432x288 with 1 Axes>"
      ]
     },
     "metadata": {
      "needs_background": "light"
     },
     "output_type": "display_data"
    }
   ],
   "source": [
    "epochs = np.arange(1,epoch+1)\n",
    "plt.plot(epochs,mcc_score_train[:-1],label='mcc_train')\n",
    "plt.plot(epochs,mcc_score_test[:-1],label='mcc_test')\n",
    "plt.xlabel('epochs')\n",
    "plt.ylabel('mcc_score')\n",
    "plt.title('XMLRobertaForTokenClassification_earlyStopping')\n",
    "plt.legend()\n",
    "plt.grid()\n",
    "plt.show()"
   ]
  },
  {
   "cell_type": "code",
   "execution_count": 53,
   "metadata": {},
   "outputs": [
    {
     "data": {
      "text/plain": [
       "2"
      ]
     },
     "execution_count": 53,
     "metadata": {},
     "output_type": "execute_result"
    }
   ],
   "source": [
    "# from transformers import AutoConfig\n",
    "# config = AutoConfig.from_pretrained('xlm-roberta-base')\n",
    "# config.num_labels"
   ]
  },
  {
   "cell_type": "code",
   "execution_count": 24,
   "metadata": {},
   "outputs": [
    {
     "name": "stdout",
     "output_type": "stream",
     "text": [
      "Max mcc achieved for dev data(whole sentence) is 0.3454678217466378 ,in the 6th epoch \n"
     ]
    }
   ],
   "source": [
    "print('Max mcc achieved for dev data(whole sentence) is', np.amax(mcc_score_test),f',in the {np.argmax(mcc_score_test)+1}th epoch ')"
   ]
  },
  {
   "cell_type": "code",
   "execution_count": 26,
   "metadata": {},
   "outputs": [
    {
     "data": {
      "image/png": "[encoded data removed]",
      "text/plain": [
       "<Figure size 432x288 with 1 Axes>"
      ]
     },
     "metadata": {
      "needs_background": "light"
     },
     "output_type": "display_data"
    }
   ],
   "source": [
    "plt.plot(epochs,mcc_score_train_gaps[:-1],label='mcc_train_gaps')\n",
    "plt.plot(epochs,mcc_score_test_gaps[:-1],label='mcc_test_gaps')\n",
    "plt.xlabel('epochs')\n",
    "plt.ylabel('mcc_score')\n",
    "plt.title('XMLRobertaForTokenClassification_earlyStopping')\n",
    "plt.grid()\n",
    "plt.legend()\n",
    "plt.show()"
   ]
  },
  {
   "cell_type": "code",
   "execution_count": 27,
   "metadata": {},
   "outputs": [
    {
     "name": "stdout",
     "output_type": "stream",
     "text": [
      "Max mcc achieved for gaps is 0.08411236821750658 ,in the 9th epoch \n"
     ]
    }
   ],
   "source": [
    "print('Max mcc achieved for gaps is', np.amax(mcc_score_test_gaps),f',in the {np.argmax(mcc_score_test_gaps)+1}th epoch ')"
   ]
  },
  {
   "cell_type": "code",
   "execution_count": 28,
   "metadata": {},
   "outputs": [
    {
     "data": {
      "image/png": "[encoded data removed]",
      "text/plain": [
       "<Figure size 432x288 with 1 Axes>"
      ]
     },
     "metadata": {
      "needs_background": "light"
     },
     "output_type": "display_data"
    }
   ],
   "source": [
    "plt.plot(epochs,mcc_score_train_tar[:-1],label='mcc_train_tar')\n",
    "plt.plot(epochs,mcc_score_test_tar[:-1],label='mcc_test_tar')\n",
    "plt.xlabel('epochs')\n",
    "plt.ylabel('mcc_score')\n",
    "plt.title('XMLRobertaForTokenClassification_earlyStopping')\n",
    "plt.grid()\n",
    "plt.legend()\n",
    "plt.show()"
   ]
  },
  {
   "cell_type": "code",
   "execution_count": 29,
   "metadata": {},
   "outputs": [
    {
     "name": "stdout",
     "output_type": "stream",
     "text": [
      "Max mcc achieved for target tokens is 0.3644654340999552 ,in the 6th epoch \n"
     ]
    }
   ],
   "source": [
    "print('Max mcc achieved for target tokens is', np.amax(mcc_score_test_tar),f',in the {np.argmax(mcc_score_test_tar)+1}th epoch ')"
   ]
  },
  {
   "cell_type": "code",
   "execution_count": 30,
   "metadata": {},
   "outputs": [
    {
     "data": {
      "image/png": "[encoded data removed]",
      "text/plain": [
       "<Figure size 432x288 with 1 Axes>"
      ]
     },
     "metadata": {
      "needs_background": "light"
     },
     "output_type": "display_data"
    }
   ],
   "source": [
    "plt.plot(epochs,mcc_score_train_src[:-1],label='mcc_train_src')\n",
    "plt.plot(epochs,mcc_score_test_src[:-1],label='mcc_test_src')\n",
    "plt.xlabel('epochs')\n",
    "plt.ylabel('mcc_score')\n",
    "plt.title('XMLRobertaForTokenClassification_earlyStopping')\n",
    "plt.grid()\n",
    "plt.legend()\n",
    "plt.show()"
   ]
  },
  {
   "cell_type": "code",
   "execution_count": 31,
   "metadata": {},
   "outputs": [
    {
     "name": "stdout",
     "output_type": "stream",
     "text": [
      "Max mcc achieved for source tokens is 0.30855500905361094 ,in the 10th epoch \n"
     ]
    }
   ],
   "source": [
    "print('Max mcc achieved for source tokens is', np.amax(mcc_score_test_src),f',in the {np.argmax(mcc_score_test_src)+1}th epoch ')"
   ]
  },
  {
   "cell_type": "markdown",
   "metadata": {},
   "source": [
    "<h3> Using weighted cross entropy for loss - all 7k data to train </h3>"
   ]
  },
  {
   "cell_type": "code",
   "execution_count": 12,
   "metadata": {},
   "outputs": [],
   "source": [
    "def ClassificationCost(output,target,mask):\n",
    "    \n",
    "    \n",
    "    active_loss = mask.view(-1) == 1 #loss calculation for non padded tokens only (mask =1)\n",
    "    active_logits = output.view(-1,2)\n",
    "    \n",
    "    active_labels = torch.where( # just append -100 for the padded tokens so its ignored when computing loss , no need now\n",
    "        active_loss,             # since its handled in preprocessing only\n",
    "        target.view(-1),\n",
    "        torch.tensor(-100).type_as(target)    \n",
    "    )\n",
    "    try:\n",
    "        class_0_weights =1/len(torch.where(active_labels==0)[0]) # trying to weight the labels as its unbalanced mostly\n",
    "    \n",
    "    except ZeroDivisionError:\n",
    "        class_0_weights = 1e-8\n",
    "\n",
    "    try:\n",
    "        class_1_weights =1/len(torch.where(active_labels==1)[0])\n",
    "    \n",
    "    except:\n",
    "        class_1_weights = 1e-8\n",
    "    \n",
    "    weights_tensor = torch.tensor([class_0_weights,class_1_weights]).cuda()\n",
    "    lfn = nn.CrossEntropyLoss(weight = weights_tensor)\n",
    "    loss = lfn(active_logits,active_labels)\n",
    "    \n",
    "    return loss"
   ]
  },
  {
   "cell_type": "code",
   "execution_count": 23,
   "metadata": {},
   "outputs": [],
   "source": [
    "class EntityModel(nn.Module):\n",
    "    \n",
    "    def __init__(self):\n",
    "        \n",
    "        super(EntityModel, self).__init__()\n",
    "        self.bert = XLMRobertaModel.from_pretrained(config.BASE_MODEL,output_attentions = False, output_hidden_states = False)\n",
    "#         self.bert_drop_1 = nn.Dropout(0.3)\n",
    "        self.out_tag = nn.Linear(768, 2)\n",
    "        self.softmax = nn.Softmax(dim=2)\n",
    "    \n",
    "    def forward(self, ids, attention_mask):\n",
    "        \n",
    "        outputs = self.bert(ids,\n",
    "                                attention_mask = attention_mask,\n",
    "                                return_dict=False)\n",
    "#         bo_tag = self.bert_drop_1(output_1)\n",
    "        \n",
    "        tag = self.out_tag(outputs[0])  \n",
    "        softmax_prob = self.softmax(tag)\n",
    "        \n",
    "#         loss_tag = ClassificationCost(outputs[0],labels,attention_mask)\n",
    "        \n",
    "#         return bo_tag,loss\n",
    "        return softmax_prob, tag\n",
    "        "
   ]
  },
  {
   "cell_type": "code",
   "execution_count": 27,
   "metadata": {},
   "outputs": [],
   "source": [
    "engine = reload(engine)"
   ]
  },
  {
   "cell_type": "code",
   "execution_count": 29,
   "metadata": {},
   "outputs": [],
   "source": [
    "# model = EntityModel()\n",
    "# model.cuda()"
   ]
  },
  {
   "cell_type": "code",
   "execution_count": 30,
   "metadata": {},
   "outputs": [
    {
     "name": "stderr",
     "output_type": "stream",
     "text": [
      "/opt/conda/lib/python3.6/site-packages/transformers/optimization.py:309: FutureWarning: This implementation of AdamW is deprecated and will be removed in a future version. Use thePyTorch implementation torch.optim.AdamW instead, or set `no_deprecation_warning=True` to disable this warning\n",
      "  FutureWarning,\n"
     ]
    }
   ],
   "source": [
    "param_optimizer = list(model.named_parameters())\n",
    "no_decay = [\"bias\", \"LayerNorm.bias\", \"LayerNorm.weight\"]\n",
    "optimizer_parameters = [\n",
    "    {\n",
    "        \"params\": [\n",
    "            p for n, p in param_optimizer if not any(nd in n for nd in no_decay)\n",
    "        ],\n",
    "        \"weight_decay\": 0.001,\n",
    "    },\n",
    "    {\n",
    "        \"params\": [\n",
    "            p for n, p in param_optimizer if any(nd in n for nd in no_decay)\n",
    "        ],\n",
    "        \"weight_decay\": 0.0,\n",
    "    },\n",
    "]\n",
    "num_train_steps = int(len(dataset_train) / config.TRAIN_BATCH_SIZE * config.EPOCHS) #10 is the batchsize\n",
    "optimizer = AdamW(optimizer_parameters, lr=2e-5) # used 3e-5\n",
    "scheduler = get_linear_schedule_with_warmup(\n",
    "    optimizer, num_warmup_steps=0, num_training_steps=num_train_steps\n",
    ")\n",
    "early_stopping = EarlyStopping(patience=4)"
   ]
  },
  {
   "cell_type": "code",
   "execution_count": 31,
   "metadata": {},
   "outputs": [
    {
     "name": "stderr",
     "output_type": "stream",
     "text": [
      "  0%|          | 0/875 [00:00<?, ?it/s]"
     ]
    },
    {
     "name": "stdout",
     "output_type": "stream",
     "text": [
      "Epoch 1 of 20\n"
     ]
    },
    {
     "name": "stderr",
     "output_type": "stream",
     "text": [
      "INFO:numexpr.utils:NumExpr defaulting to 8 threads.INFO:numexpr.utils:NumExpr defaulting to 8 threads.\n",
      "\n",
      "/root/Thesis/src/code/code_files/engine.py:395: VisibleDeprecationWarning: Creating an ndarray from ragged nested sequences (which is a list-or-tuple of lists-or-tuples-or ndarrays with different lengths or shapes) is deprecated. If you meant to do this, you must specify 'dtype=object' when creating the ndarray\n",
      "  np_arr_labels = np.array(tar_labels)\n",
      "100%|██████████| 875/875 [06:21<00:00,  2.30it/s]\n"
     ]
    },
    {
     "name": "stdout",
     "output_type": "stream",
     "text": [
      "Average F1 Training score for class 0 : 0.3732458036872518\n",
      "Average F1 Training score for class 1 : 0.779975933142712\n",
      "Average Accuracy Training score  : 0.6742925198000487\n",
      "Average mcc Training score  : 0.29104063998099905\n",
      "Average F1 Training score for source sentence class 0 : 0.3594466677630978\n",
      "Average F1 Training score for source sentence class 1 : 0.7210910335059955\n",
      "Average Accuracy Training score source sentence  : 0.6113901176261904\n",
      "Average mcc Training score source sentence : 0.24898785914325006\n",
      "Average F1 Training score for target sentence class 0 : 0.39348547157884267\n",
      "Average F1 Training score for target sentence class 1 : 0.6423434705579313\n",
      "Average Accuracy Training score target sentence  : 0.5500302990383349\n",
      "Average mcc Training score target sentence : 0.2480322563191732\n",
      "Average F1 Training score for gaps in target sentence class 0 : 0.0505902192242833\n",
      "Average F1 Training score for gaps in target sentence class 1 : 0.9831963945372293\n",
      "Average Accuracy Training score gaps in target sentence  : 0.9669772586348477\n",
      "Average mcc Training score gaps in target sentence : 0.045937627354756254\n",
      "Average F1 Training score for whole target sentence class 0 : 0.3836654156087868\n",
      "Average F1 Training score for whole target sentence class 1 : 0.8112489171543873\n",
      "Average Accuracy Training score whole target sentence  : 0.7110026300721086\n",
      "Average mcc Training score whole target sentence : 0.3157693788269853\n"
     ]
    },
    {
     "name": "stderr",
     "output_type": "stream",
     "text": [
      "  0%|          | 0/125 [00:00<?, ?it/s]"
     ]
    },
    {
     "name": "stdout",
     "output_type": "stream",
     "text": [
      "              precision    recall  f1-score   support\n",
      "\n",
      "           0       0.25      0.77      0.37     61913\n",
      "           1       0.95      0.66      0.78    427606\n",
      "\n",
      "    accuracy                           0.67    489519\n",
      "   macro avg       0.60      0.71      0.58    489519\n",
      "weighted avg       0.86      0.67      0.73    489519\n",
      "\n"
     ]
    },
    {
     "name": "stderr",
     "output_type": "stream",
     "text": [
      "INFO:numexpr.utils:NumExpr defaulting to 8 threads.INFO:numexpr.utils:NumExpr defaulting to 8 threads.\n",
      "\n",
      "/root/Thesis/src/code/code_files/engine.py:395: VisibleDeprecationWarning: Creating an ndarray from ragged nested sequences (which is a list-or-tuple of lists-or-tuples-or ndarrays with different lengths or shapes) is deprecated. If you meant to do this, you must specify 'dtype=object' when creating the ndarray\n",
      "  np_arr_labels = np.array(tar_labels)\n",
      "100%|██████████| 125/125 [00:14<00:00,  8.47it/s]\n"
     ]
    },
    {
     "name": "stdout",
     "output_type": "stream",
     "text": [
      "Average F1 Validation score for whole sentence class 0 : 0.45130975284889746\n",
      "Average F1 Validation score for whole sentence class 1 : 0.8694703117573539\n",
      "Average Accuracy Validation score whole sentence  : 0.7891099387096315\n",
      "Average mcc Validation score whole sentence : 0.3635159889340725\n",
      "Average F1 Validation score for source sentence class 0 : 0.4333803313359182\n",
      "Average F1 Validation score for source sentence class 1 : 0.8408100613982967\n",
      "Average Accuracy Validation score source sentence  : 0.751449555469656\n",
      "Average mcc Validation score source sentence : 0.32231577290293173\n",
      "Average F1 Validation score for target sentence class 0 : 0.4793663471778487\n",
      "Average F1 Validation score for target sentence class 1 : 0.8022650285656505\n",
      "Average Accuracy Validation score target sentence  : 0.7133853651386904\n",
      "Average mcc Validation score target sentence : 0.3477155812047792\n",
      "Average F1 Validation score for gaps in target sentence class 0 : 0.11890243902439027\n",
      "Average F1 Validation score for gaps in target sentence class 1 : 0.9828303231939164\n",
      "Average Accuracy Validation score gaps in target sentence  : 0.9663170163170163\n",
      "Average mcc Validation score gaps in target sentence : 0.11372011981161863\n",
      "Average F1 Validation score for whole target sentence class 0 : 0.4642857142857143\n",
      "Average F1 Validation score for whole target sentence class 1 : 0.885280380213597\n",
      "Average Accuracy Validation score whole target sentence  : 0.8110278733886752\n",
      "Average mcc Validation score whole target sentence : 0.3891810046692143\n",
      "              precision    recall  f1-score   support\n",
      "\n",
      "           0       0.34      0.66      0.45      9274\n",
      "           1       0.94      0.81      0.87     61047\n",
      "\n",
      "    accuracy                           0.79     70321\n",
      "   macro avg       0.64      0.73      0.66     70321\n",
      "weighted avg       0.86      0.79      0.81     70321\n",
      "\n",
      "For gaps :                precision    recall  f1-score   support\n",
      "\n",
      "         0.0       0.20      0.09      0.12       456\n",
      "         1.0       0.98      0.99      0.98     16704\n",
      "\n",
      "    accuracy                           0.97     17160\n",
      "   macro avg       0.59      0.54      0.55     17160\n",
      "weighted avg       0.95      0.97      0.96     17160\n",
      "\n",
      "For tar :               precision    recall  f1-score   support\n",
      "\n",
      "         0.0       0.36      0.72      0.48      4982\n",
      "         1.0       0.92      0.71      0.80     22309\n",
      "\n",
      "    accuracy                           0.71     27291\n",
      "   macro avg       0.64      0.72      0.64     27291\n",
      "weighted avg       0.82      0.71      0.74     27291\n",
      "\n",
      "For source :                precision    recall  f1-score   support\n",
      "\n",
      "         0.0       0.33      0.64      0.43      3836\n",
      "         1.0       0.92      0.77      0.84     22034\n",
      "\n",
      "    accuracy                           0.75     25870\n",
      "   macro avg       0.63      0.71      0.64     25870\n",
      "weighted avg       0.84      0.75      0.78     25870\n",
      "\n",
      "Train Loss = 0.562147330726896 Valid Loss = 0.5407350952625275\n"
     ]
    },
    {
     "name": "stderr",
     "output_type": "stream",
     "text": [
      "  0%|          | 0/875 [00:00<?, ?it/s]"
     ]
    },
    {
     "name": "stdout",
     "output_type": "stream",
     "text": [
      "Epoch 2 of 20\n"
     ]
    },
    {
     "name": "stderr",
     "output_type": "stream",
     "text": [
      "INFO:numexpr.utils:NumExpr defaulting to 8 threads.INFO:numexpr.utils:NumExpr defaulting to 8 threads.\n",
      "\n",
      "/root/Thesis/src/code/code_files/engine.py:395: VisibleDeprecationWarning: Creating an ndarray from ragged nested sequences (which is a list-or-tuple of lists-or-tuples-or ndarrays with different lengths or shapes) is deprecated. If you meant to do this, you must specify 'dtype=object' when creating the ndarray\n",
      "  np_arr_labels = np.array(tar_labels)\n",
      "100%|██████████| 875/875 [06:27<00:00,  2.26it/s]\n"
     ]
    },
    {
     "name": "stdout",
     "output_type": "stream",
     "text": [
      "Average F1 Training score for class 0 : 0.4379203078361564\n",
      "Average F1 Training score for class 1 : 0.8347330494249136\n",
      "Average Accuracy Training score  : 0.7445696694101761\n",
      "Average mcc Training score  : 0.3718415867538218\n",
      "Average F1 Training score for source sentence class 0 : 0.42182412128699914\n",
      "Average F1 Training score for source sentence class 1 : 0.7918505814282214\n",
      "Average Accuracy Training score source sentence  : 0.6939002893537766\n",
      "Average mcc Training score source sentence : 0.33464951773471235\n",
      "Average F1 Training score for target sentence class 0 : 0.466111258629846\n",
      "Average F1 Training score for target sentence class 1 : 0.7516194535164725\n",
      "Average Accuracy Training score target sentence  : 0.6609669345277303\n",
      "Average mcc Training score target sentence : 0.3561383922147235\n",
      "Average F1 Training score for gaps in target sentence class 0 : 0.14887334887334888\n",
      "Average F1 Training score for gaps in target sentence class 1 : 0.9764175518516763\n",
      "Average Accuracy Training score gaps in target sentence  : 0.9541066849893584\n",
      "Average mcc Training score gaps in target sentence : 0.1253007014192028\n",
      "Average F1 Training score for whole target sentence class 0 : 0.45003032761703704\n",
      "Average F1 Training score for whole target sentence class 1 : 0.8578895838888471\n",
      "Average Accuracy Training score whole target sentence  : 0.7741405357841853\n",
      "Average mcc Training score whole target sentence : 0.39470546953792307\n"
     ]
    },
    {
     "name": "stderr",
     "output_type": "stream",
     "text": [
      "  0%|          | 0/125 [00:00<?, ?it/s]"
     ]
    },
    {
     "name": "stdout",
     "output_type": "stream",
     "text": [
      "              precision    recall  f1-score   support\n",
      "\n",
      "           0       0.30      0.79      0.44     61913\n",
      "           1       0.96      0.74      0.83    427606\n",
      "\n",
      "    accuracy                           0.74    489519\n",
      "   macro avg       0.63      0.76      0.64    489519\n",
      "weighted avg       0.88      0.74      0.78    489519\n",
      "\n"
     ]
    },
    {
     "name": "stderr",
     "output_type": "stream",
     "text": [
      "INFO:numexpr.utils:NumExpr defaulting to 8 threads.INFO:numexpr.utils:NumExpr defaulting to 8 threads.\n",
      "\n",
      "/root/Thesis/src/code/code_files/engine.py:395: VisibleDeprecationWarning: Creating an ndarray from ragged nested sequences (which is a list-or-tuple of lists-or-tuples-or ndarrays with different lengths or shapes) is deprecated. If you meant to do this, you must specify 'dtype=object' when creating the ndarray\n",
      "  np_arr_labels = np.array(tar_labels)\n",
      "100%|██████████| 125/125 [00:14<00:00,  8.43it/s]\n"
     ]
    },
    {
     "name": "stdout",
     "output_type": "stream",
     "text": [
      "Average F1 Validation score for whole sentence class 0 : 0.469124267391489\n",
      "Average F1 Validation score for whole sentence class 1 : 0.8932499829199972\n",
      "Average Accuracy Validation score whole sentence  : 0.8222437109824946\n",
      "Average mcc Validation score whole sentence : 0.3804426681928096\n",
      "Average F1 Validation score for source sentence class 0 : 0.45006948580504264\n",
      "Average F1 Validation score for source sentence class 1 : 0.8670378726059618\n",
      "Average Accuracy Validation score source sentence  : 0.7858523386161577\n",
      "Average mcc Validation score source sentence : 0.34124617889755465\n",
      "Average F1 Validation score for target sentence class 0 : 0.5044719912129296\n",
      "Average F1 Validation score for target sentence class 1 : 0.8490295439334545\n",
      "Average Accuracy Validation score target sentence  : 0.7685683925103514\n",
      "Average mcc Validation score target sentence : 0.3779443960186679\n",
      "Average F1 Validation score for gaps in target sentence class 0 : 0.11294765840220386\n",
      "Average F1 Validation score for gaps in target sentence class 1 : 0.9808299101029946\n",
      "Average Accuracy Validation score gaps in target sentence  : 0.9624708624708624\n",
      "Average mcc Validation score gaps in target sentence : 0.0984845181900077\n",
      "Average F1 Validation score for whole target sentence class 0 : 0.48337292161520184\n",
      "Average F1 Validation score for whole target sentence class 1 : 0.9077290202837068\n",
      "Average Accuracy Validation score whole target sentence  : 0.8434230950934737\n",
      "Average mcc Validation score whole target sentence : 0.4055705240744673\n",
      "              precision    recall  f1-score   support\n",
      "\n",
      "           0       0.39      0.60      0.47      9274\n",
      "           1       0.93      0.86      0.89     61047\n",
      "\n",
      "    accuracy                           0.82     70321\n",
      "   macro avg       0.66      0.73      0.68     70321\n",
      "weighted avg       0.86      0.82      0.84     70321\n",
      "\n",
      "For gaps :                precision    recall  f1-score   support\n",
      "\n",
      "         0.0       0.15      0.09      0.11       456\n",
      "         1.0       0.98      0.99      0.98     16704\n",
      "\n",
      "    accuracy                           0.96     17160\n",
      "   macro avg       0.56      0.54      0.55     17160\n",
      "weighted avg       0.95      0.96      0.96     17160\n",
      "\n",
      "For tar :               precision    recall  f1-score   support\n",
      "\n",
      "         0.0       0.41      0.65      0.50      4982\n",
      "         1.0       0.91      0.80      0.85     22309\n",
      "\n",
      "    accuracy                           0.77     27291\n",
      "   macro avg       0.66      0.72      0.68     27291\n",
      "weighted avg       0.82      0.77      0.79     27291\n",
      "\n",
      "For source :                precision    recall  f1-score   support\n",
      "\n",
      "         0.0       0.36      0.59      0.45      3836\n",
      "         1.0       0.92      0.82      0.87     22034\n",
      "\n",
      "    accuracy                           0.79     25870\n",
      "   macro avg       0.64      0.71      0.66     25870\n",
      "weighted avg       0.84      0.79      0.81     25870\n",
      "\n",
      "Train Loss = 0.49290298666272847 Valid Loss = 0.5496867361068726\n"
     ]
    },
    {
     "name": "stderr",
     "output_type": "stream",
     "text": [
      "  0%|          | 0/875 [00:00<?, ?it/s]"
     ]
    },
    {
     "name": "stdout",
     "output_type": "stream",
     "text": [
      "Epoch 3 of 20\n"
     ]
    },
    {
     "name": "stderr",
     "output_type": "stream",
     "text": [
      "INFO:numexpr.utils:NumExpr defaulting to 8 threads.INFO:numexpr.utils:NumExpr defaulting to 8 threads.\n",
      "\n",
      "/root/Thesis/src/code/code_files/engine.py:395: VisibleDeprecationWarning: Creating an ndarray from ragged nested sequences (which is a list-or-tuple of lists-or-tuples-or ndarrays with different lengths or shapes) is deprecated. If you meant to do this, you must specify 'dtype=object' when creating the ndarray\n",
      "  np_arr_labels = np.array(tar_labels)\n",
      "100%|██████████| 875/875 [06:14<00:00,  2.34it/s]\n"
     ]
    },
    {
     "name": "stdout",
     "output_type": "stream",
     "text": [
      "Average F1 Training score for class 0 : 0.5013330436843353\n",
      "Average F1 Training score for class 1 : 0.8699255886072527\n",
      "Average Accuracy Training score  : 0.7936709300354021\n",
      "Average mcc Training score  : 0.4480036435720593\n",
      "Average F1 Training score for source sentence class 0 : 0.4861795734094993\n",
      "Average F1 Training score for source sentence class 1 : 0.8371609192046018\n",
      "Average Accuracy Training score source sentence  : 0.7526967550248889\n",
      "Average mcc Training score source sentence : 0.41783069837669407\n",
      "Average F1 Training score for target sentence class 0 : 0.5351512174324087\n",
      "Average F1 Training score for target sentence class 1 : 0.8153825199974969\n",
      "Average Accuracy Training score target sentence  : 0.7357238835463048\n",
      "Average mcc Training score target sentence : 0.44829298828002345\n",
      "Average F1 Training score for gaps in target sentence class 0 : 0.20319488817891374\n",
      "Average F1 Training score for gaps in target sentence class 1 : 0.9729921727114819\n",
      "Average Accuracy Training score gaps in target sentence  : 0.9477551909637848\n",
      "Average mcc Training score gaps in target sentence : 0.18052266845268994\n",
      "Average F1 Training score for whole target sentence class 0 : 0.5127035155034739\n",
      "Average F1 Training score for whole target sentence class 1 : 0.8877890941220016\n",
      "Average Accuracy Training score whole target sentence  : 0.8175836333815352\n",
      "Average mcc Training score whole target sentence : 0.46695061597178783\n"
     ]
    },
    {
     "name": "stderr",
     "output_type": "stream",
     "text": [
      "  0%|          | 0/125 [00:00<?, ?it/s]"
     ]
    },
    {
     "name": "stdout",
     "output_type": "stream",
     "text": [
      "              precision    recall  f1-score   support\n",
      "\n",
      "           0       0.36      0.82      0.50     61913\n",
      "           1       0.97      0.79      0.87    427606\n",
      "\n",
      "    accuracy                           0.79    489519\n",
      "   macro avg       0.66      0.80      0.69    489519\n",
      "weighted avg       0.89      0.79      0.82    489519\n",
      "\n"
     ]
    },
    {
     "name": "stderr",
     "output_type": "stream",
     "text": [
      "INFO:numexpr.utils:NumExpr defaulting to 8 threads.INFO:numexpr.utils:NumExpr defaulting to 8 threads.\n",
      "\n",
      "/root/Thesis/src/code/code_files/engine.py:395: VisibleDeprecationWarning: Creating an ndarray from ragged nested sequences (which is a list-or-tuple of lists-or-tuples-or ndarrays with different lengths or shapes) is deprecated. If you meant to do this, you must specify 'dtype=object' when creating the ndarray\n",
      "  np_arr_labels = np.array(tar_labels)\n",
      "100%|██████████| 125/125 [00:14<00:00,  8.80it/s]\n"
     ]
    },
    {
     "name": "stdout",
     "output_type": "stream",
     "text": [
      "Average F1 Validation score for whole sentence class 0 : 0.40207489878542507\n",
      "Average F1 Validation score for whole sentence class 1 : 0.924283448419501\n",
      "Average Accuracy Validation score whole sentence  : 0.8655878044965231\n",
      "Average mcc Validation score whole sentence : 0.33531778497942405\n",
      "Average F1 Validation score for source sentence class 0 : 0.3867042587921057\n",
      "Average F1 Validation score for source sentence class 1 : 0.9081575964978557\n",
      "Average Accuracy Validation score source sentence  : 0.8402396598376498\n",
      "Average mcc Validation score source sentence : 0.3006920342863136\n",
      "Average F1 Validation score for target sentence class 0 : 0.4356738925541941\n",
      "Average F1 Validation score for target sentence class 1 : 0.8960819195556905\n",
      "Average Accuracy Validation score target sentence  : 0.8244842622109853\n",
      "Average mcc Validation score target sentence : 0.34271863636545574\n",
      "Average F1 Validation score for gaps in target sentence class 0 : 0.08950086058519793\n",
      "Average F1 Validation score for gaps in target sentence class 1 : 0.9843208156732565\n",
      "Average Accuracy Validation score gaps in target sentence  : 0.9691724941724942\n",
      "Average mcc Validation score gaps in target sentence : 0.096629438800025\n",
      "Average F1 Validation score for whole target sentence class 0 : 0.41349652662917624\n",
      "Average F1 Validation score for whole target sentence class 1 : 0.9333734170080042\n",
      "Average Accuracy Validation score whole target sentence  : 0.8803401498279004\n",
      "Average mcc Validation score whole target sentence : 0.3586616170137266\n",
      "              precision    recall  f1-score   support\n",
      "\n",
      "           0       0.49      0.34      0.40      9274\n",
      "           1       0.90      0.95      0.92     61047\n",
      "\n",
      "    accuracy                           0.87     70321\n",
      "   macro avg       0.70      0.64      0.66     70321\n",
      "weighted avg       0.85      0.87      0.86     70321\n",
      "\n",
      "For gaps :                precision    recall  f1-score   support\n",
      "\n",
      "         0.0       0.21      0.06      0.09       456\n",
      "         1.0       0.97      0.99      0.98     16704\n",
      "\n",
      "    accuracy                           0.97     17160\n",
      "   macro avg       0.59      0.53      0.54     17160\n",
      "weighted avg       0.95      0.97      0.96     17160\n",
      "\n",
      "For tar :               precision    recall  f1-score   support\n",
      "\n",
      "         0.0       0.53      0.37      0.44      4982\n",
      "         1.0       0.87      0.93      0.90     22309\n",
      "\n",
      "    accuracy                           0.82     27291\n",
      "   macro avg       0.70      0.65      0.67     27291\n",
      "weighted avg       0.81      0.82      0.81     27291\n",
      "\n",
      "For source :                precision    recall  f1-score   support\n",
      "\n",
      "         0.0       0.45      0.34      0.39      3836\n",
      "         1.0       0.89      0.93      0.91     22034\n",
      "\n",
      "    accuracy                           0.84     25870\n",
      "   macro avg       0.67      0.63      0.65     25870\n",
      "weighted avg       0.82      0.84      0.83     25870\n",
      "\n",
      "Train Loss = 0.4304328956433705 Valid Loss = 0.9144285440444946\n"
     ]
    },
    {
     "name": "stderr",
     "output_type": "stream",
     "text": [
      "  0%|          | 0/875 [00:00<?, ?it/s]"
     ]
    },
    {
     "name": "stdout",
     "output_type": "stream",
     "text": [
      "Epoch 4 of 20\n"
     ]
    },
    {
     "name": "stderr",
     "output_type": "stream",
     "text": [
      "INFO:numexpr.utils:NumExpr defaulting to 8 threads.INFO:numexpr.utils:NumExpr defaulting to 8 threads.\n",
      "\n",
      "/root/Thesis/src/code/code_files/engine.py:395: VisibleDeprecationWarning: Creating an ndarray from ragged nested sequences (which is a list-or-tuple of lists-or-tuples-or ndarrays with different lengths or shapes) is deprecated. If you meant to do this, you must specify 'dtype=object' when creating the ndarray\n",
      "  np_arr_labels = np.array(tar_labels)\n",
      "100%|██████████| 875/875 [06:26<00:00,  2.27it/s]\n"
     ]
    },
    {
     "name": "stdout",
     "output_type": "stream",
     "text": [
      "Average F1 Training score for class 0 : 0.5676308776755781\n",
      "Average F1 Training score for class 1 : 0.8985055050384029\n",
      "Average Accuracy Training score  : 0.8356018867500546\n",
      "Average mcc Training score  : 0.5242028358691186\n",
      "Average F1 Training score for source sentence class 0 : 0.5529098535654183\n",
      "Average F1 Training score for source sentence class 1 : 0.8733898100135857\n",
      "Average Accuracy Training score source sentence  : 0.8026629416525316\n",
      "Average mcc Training score source sentence : 0.4986896017778837\n",
      "Average F1 Training score for target sentence class 0 : 0.6064971665191425\n",
      "Average F1 Training score for target sentence class 1 : 0.8624871560578964\n",
      "Average Accuracy Training score target sentence  : 0.7961954946647346\n",
      "Average mcc Training score target sentence : 0.5378650823633115\n",
      "Average F1 Training score for gaps in target sentence class 0 : 0.24522099111165227\n",
      "Average F1 Training score for gaps in target sentence class 1 : 0.9731029066563689\n",
      "Average Accuracy Training score gaps in target sentence  : 0.9480568450336009\n",
      "Average mcc Training score gaps in target sentence : 0.22590317694539525\n",
      "Average F1 Training score for whole target sentence class 0 : 0.5786370209010159\n",
      "Average F1 Training score for whole target sentence class 1 : 0.9123056599939031\n",
      "Average Accuracy Training score whole target sentence  : 0.8548251956378976\n",
      "Average mcc Training score whole target sentence : 0.5405808635327284\n"
     ]
    },
    {
     "name": "stderr",
     "output_type": "stream",
     "text": [
      "  0%|          | 0/125 [00:00<?, ?it/s]"
     ]
    },
    {
     "name": "stdout",
     "output_type": "stream",
     "text": [
      "              precision    recall  f1-score   support\n",
      "\n",
      "           0       0.43      0.85      0.57     61913\n",
      "           1       0.98      0.83      0.90    427606\n",
      "\n",
      "    accuracy                           0.84    489519\n",
      "   macro avg       0.70      0.84      0.73    489519\n",
      "weighted avg       0.91      0.84      0.86    489519\n",
      "\n"
     ]
    },
    {
     "name": "stderr",
     "output_type": "stream",
     "text": [
      "INFO:numexpr.utils:NumExpr defaulting to 8 threads.INFO:numexpr.utils:NumExpr defaulting to 8 threads.\n",
      "\n",
      "/root/Thesis/src/code/code_files/engine.py:395: VisibleDeprecationWarning: Creating an ndarray from ragged nested sequences (which is a list-or-tuple of lists-or-tuples-or ndarrays with different lengths or shapes) is deprecated. If you meant to do this, you must specify 'dtype=object' when creating the ndarray\n",
      "  np_arr_labels = np.array(tar_labels)\n",
      "100%|██████████| 125/125 [00:14<00:00,  8.40it/s]\n"
     ]
    },
    {
     "name": "stdout",
     "output_type": "stream",
     "text": [
      "Average F1 Validation score for whole sentence class 0 : 0.4226892822025565\n",
      "Average F1 Validation score for whole sentence class 1 : 0.9244673152689555\n",
      "Average Accuracy Validation score whole sentence  : 0.8664125936775643\n",
      "Average mcc Validation score whole sentence : 0.3532474399168729\n",
      "Average F1 Validation score for source sentence class 0 : 0.4050267225191391\n",
      "Average F1 Validation score for source sentence class 1 : 0.9080929111720998\n",
      "Average Accuracy Validation score source sentence  : 0.840780827212988\n",
      "Average mcc Validation score source sentence : 0.31683146970538933\n",
      "Average F1 Validation score for target sentence class 0 : 0.4589182968929804\n",
      "Average F1 Validation score for target sentence class 1 : 0.897542055260176\n",
      "Average Accuracy Validation score target sentence  : 0.8277087684584662\n",
      "Average mcc Validation score target sentence : 0.3646088133183212\n",
      "Average F1 Validation score for gaps in target sentence class 0 : 0.13050075872534145\n",
      "Average F1 Validation score for gaps in target sentence class 1 : 0.9829773328183952\n",
      "Average Accuracy Validation score gaps in target sentence  : 0.9666083916083916\n",
      "Average mcc Validation score gaps in target sentence : 0.1260243743748258\n",
      "Average F1 Validation score for whole target sentence class 0 : 0.4357685313937319\n",
      "Average F1 Validation score for whole target sentence class 1 : 0.9336920040727564\n",
      "Average Accuracy Validation score whole target sentence  : 0.8813300038244359\n",
      "Average mcc Validation score whole target sentence : 0.3777369589886687\n",
      "              precision    recall  f1-score   support\n",
      "\n",
      "           0       0.49      0.37      0.42      9274\n",
      "           1       0.91      0.94      0.92     61047\n",
      "\n",
      "    accuracy                           0.87     70321\n",
      "   macro avg       0.70      0.66      0.67     70321\n",
      "weighted avg       0.85      0.87      0.86     70321\n",
      "\n",
      "For gaps :                precision    recall  f1-score   support\n",
      "\n",
      "         0.0       0.21      0.09      0.13       456\n",
      "         1.0       0.98      0.99      0.98     16704\n",
      "\n",
      "    accuracy                           0.97     17160\n",
      "   macro avg       0.59      0.54      0.56     17160\n",
      "weighted avg       0.96      0.97      0.96     17160\n",
      "\n",
      "For tar :               precision    recall  f1-score   support\n",
      "\n",
      "         0.0       0.54      0.40      0.46      4982\n",
      "         1.0       0.87      0.92      0.90     22309\n",
      "\n",
      "    accuracy                           0.83     27291\n",
      "   macro avg       0.71      0.66      0.68     27291\n",
      "weighted avg       0.81      0.83      0.82     27291\n",
      "\n",
      "For source :                precision    recall  f1-score   support\n",
      "\n",
      "         0.0       0.45      0.37      0.41      3836\n",
      "         1.0       0.89      0.92      0.91     22034\n",
      "\n",
      "    accuracy                           0.84     25870\n",
      "   macro avg       0.67      0.64      0.66     25870\n",
      "weighted avg       0.83      0.84      0.83     25870\n",
      "\n",
      "Train Loss = 0.3653368263585227 Valid Loss = 1.0553407242298127\n",
      "Epoch 5 of 20\n"
     ]
    },
    {
     "name": "stderr",
     "output_type": "stream",
     "text": [
      "  0%|          | 0/875 [00:00<?, ?it/s]INFO:numexpr.utils:NumExpr defaulting to 8 threads.INFO:numexpr.utils:NumExpr defaulting to 8 threads.\n",
      "\n",
      "/root/Thesis/src/code/code_files/engine.py:395: VisibleDeprecationWarning: Creating an ndarray from ragged nested sequences (which is a list-or-tuple of lists-or-tuples-or ndarrays with different lengths or shapes) is deprecated. If you meant to do this, you must specify 'dtype=object' when creating the ndarray\n",
      "  np_arr_labels = np.array(tar_labels)\n",
      "100%|██████████| 875/875 [06:22<00:00,  2.29it/s]\n"
     ]
    },
    {
     "name": "stdout",
     "output_type": "stream",
     "text": [
      "Average F1 Training score for class 0 : 0.6227649417387684\n",
      "Average F1 Training score for class 1 : 0.9177050840667058\n",
      "Average Accuracy Training score  : 0.8648857347722969\n",
      "Average mcc Training score  : 0.5863158266357921\n",
      "Average F1 Training score for source sentence class 0 : 0.6088640735199828\n",
      "Average F1 Training score for source sentence class 1 : 0.8975939008183534\n",
      "Average Accuracy Training score source sentence  : 0.837684726333411\n",
      "Average mcc Training score source sentence : 0.5643997973848368\n",
      "Average F1 Training score for target sentence class 0 : 0.6708319125298369\n",
      "Average F1 Training score for target sentence class 1 : 0.8963237816095537\n",
      "Average Accuracy Training score target sentence  : 0.8423132657093927\n",
      "Average mcc Training score target sentence : 0.6147018361827451\n",
      "Average F1 Training score for gaps in target sentence class 0 : 0.2743825868564253\n",
      "Average F1 Training score for gaps in target sentence class 1 : 0.9697374393352188\n",
      "Average Accuracy Training score gaps in target sentence  : 0.941898074441521\n",
      "Average mcc Training score gaps in target sentence : 0.26390488753118146\n",
      "Average F1 Training score for whole target sentence class 0 : 0.6331233141230453\n",
      "Average F1 Training score for whole target sentence class 1 : 0.9288116083103016\n",
      "Average Accuracy Training score whole target sentence  : 0.8807603593461375\n",
      "Average mcc Training score whole target sentence : 0.600607300391347\n"
     ]
    },
    {
     "name": "stderr",
     "output_type": "stream",
     "text": [
      "  0%|          | 0/125 [00:00<?, ?it/s]"
     ]
    },
    {
     "name": "stdout",
     "output_type": "stream",
     "text": [
      "              precision    recall  f1-score   support\n",
      "\n",
      "           0       0.48      0.88      0.62     61913\n",
      "           1       0.98      0.86      0.92    427606\n",
      "\n",
      "    accuracy                           0.86    489519\n",
      "   macro avg       0.73      0.87      0.77    489519\n",
      "weighted avg       0.92      0.86      0.88    489519\n",
      "\n"
     ]
    },
    {
     "name": "stderr",
     "output_type": "stream",
     "text": [
      "INFO:numexpr.utils:NumExpr defaulting to 8 threads.INFO:numexpr.utils:NumExpr defaulting to 8 threads.\n",
      "\n",
      "/root/Thesis/src/code/code_files/engine.py:395: VisibleDeprecationWarning: Creating an ndarray from ragged nested sequences (which is a list-or-tuple of lists-or-tuples-or ndarrays with different lengths or shapes) is deprecated. If you meant to do this, you must specify 'dtype=object' when creating the ndarray\n",
      "  np_arr_labels = np.array(tar_labels)\n",
      "100%|██████████| 125/125 [00:13<00:00,  9.11it/s]\n"
     ]
    },
    {
     "name": "stdout",
     "output_type": "stream",
     "text": [
      "Average F1 Validation score for whole sentence class 0 : 0.44288556172128574\n",
      "Average F1 Validation score for whole sentence class 1 : 0.9124403488563435\n",
      "Average Accuracy Validation score whole sentence  : 0.8486654057820565\n",
      "Average mcc Validation score whole sentence : 0.3556113889803058\n",
      "Average F1 Validation score for source sentence class 0 : 0.43275582699738246\n",
      "Average F1 Validation score for source sentence class 1 : 0.8958986206738798\n",
      "Average Accuracy Validation score source sentence  : 0.8240819482025512\n",
      "Average mcc Validation score source sentence : 0.3293316316962936\n",
      "Average F1 Validation score for target sentence class 0 : 0.4828419039951696\n",
      "Average F1 Validation score for target sentence class 1 : 0.8848919251875909\n",
      "Average Accuracy Validation score target sentence  : 0.8116961635704079\n",
      "Average mcc Validation score target sentence : 0.367736897119519\n",
      "Average F1 Validation score for gaps in target sentence class 0 : 0.16637478108581435\n",
      "Average F1 Validation score for gaps in target sentence class 1 : 0.9713062872988124\n",
      "Average Accuracy Validation score gaps in target sentence  : 0.9445221445221446\n",
      "Average mcc Validation score gaps in target sentence : 0.1419901224897961\n",
      "Average F1 Validation score for whole target sentence class 0 : 0.4502211390919758\n",
      "Average F1 Validation score for whole target sentence class 1 : 0.9217326497307993\n",
      "Average Accuracy Validation score whole target sentence  : 0.8629727115250501\n",
      "Average mcc Validation score whole target sentence : 0.37206531163359174\n",
      "              precision    recall  f1-score   support\n",
      "\n",
      "           0       0.43      0.46      0.44      9274\n",
      "           1       0.92      0.91      0.91     61047\n",
      "\n",
      "    accuracy                           0.85     70321\n",
      "   macro avg       0.67      0.68      0.68     70321\n",
      "weighted avg       0.85      0.85      0.85     70321\n",
      "\n",
      "For gaps :                precision    recall  f1-score   support\n",
      "\n",
      "         0.0       0.14      0.21      0.17       456\n",
      "         1.0       0.98      0.96      0.97     16704\n",
      "\n",
      "    accuracy                           0.94     17160\n",
      "   macro avg       0.56      0.59      0.57     17160\n",
      "weighted avg       0.96      0.94      0.95     17160\n",
      "\n",
      "For tar :               precision    recall  f1-score   support\n",
      "\n",
      "         0.0       0.48      0.48      0.48      4982\n",
      "         1.0       0.88      0.89      0.88     22309\n",
      "\n",
      "    accuracy                           0.81     27291\n",
      "   macro avg       0.68      0.68      0.68     27291\n",
      "weighted avg       0.81      0.81      0.81     27291\n",
      "\n",
      "For source :                precision    recall  f1-score   support\n",
      "\n",
      "         0.0       0.41      0.45      0.43      3836\n",
      "         1.0       0.90      0.89      0.90     22034\n",
      "\n",
      "    accuracy                           0.82     25870\n",
      "   macro avg       0.66      0.67      0.66     25870\n",
      "weighted avg       0.83      0.82      0.83     25870\n",
      "\n",
      "Train Loss = 0.3085414180244718 Valid Loss = 1.0345049903392791\n"
     ]
    },
    {
     "name": "stderr",
     "output_type": "stream",
     "text": [
      "  0%|          | 0/875 [00:00<?, ?it/s]"
     ]
    },
    {
     "name": "stdout",
     "output_type": "stream",
     "text": [
      "Epoch 6 of 20\n"
     ]
    },
    {
     "name": "stderr",
     "output_type": "stream",
     "text": [
      "INFO:numexpr.utils:NumExpr defaulting to 8 threads.INFO:numexpr.utils:NumExpr defaulting to 8 threads.\n",
      "\n",
      "/root/Thesis/src/code/code_files/engine.py:395: VisibleDeprecationWarning: Creating an ndarray from ragged nested sequences (which is a list-or-tuple of lists-or-tuples-or ndarrays with different lengths or shapes) is deprecated. If you meant to do this, you must specify 'dtype=object' when creating the ndarray\n",
      "  np_arr_labels = np.array(tar_labels)\n",
      "100%|██████████| 875/875 [06:08<00:00,  2.38it/s]\n"
     ]
    },
    {
     "name": "stdout",
     "output_type": "stream",
     "text": [
      "Average F1 Training score for class 0 : 0.6676275446391348\n",
      "Average F1 Training score for class 1 : 0.9312001933091367\n",
      "Average Accuracy Training score  : 0.8859982962867631\n",
      "Average mcc Training score  : 0.636315415909413\n",
      "Average F1 Training score for source sentence class 0 : 0.6562131837307154\n",
      "Average F1 Training score for source sentence class 1 : 0.9153310489665082\n",
      "Average Accuracy Training score source sentence  : 0.8641256748816531\n",
      "Average mcc Training score source sentence : 0.6185979008143555\n",
      "Average F1 Training score for target sentence class 0 : 0.719971307587292\n",
      "Average F1 Training score for target sentence class 1 : 0.9174251832039192\n",
      "Average Accuracy Training score target sentence  : 0.8724594915030958\n",
      "Average mcc Training score target sentence : 0.6728639822618407\n",
      "Average F1 Training score for gaps in target sentence class 0 : 0.30271439811172307\n",
      "Average F1 Training score for gaps in target sentence class 1 : 0.9689737261285862\n",
      "Average Accuracy Training score gaps in target sentence  : 0.9405909068056509\n",
      "Average mcc Training score gaps in target sentence : 0.2996538056241786\n",
      "Average F1 Training score for whole target sentence class 0 : 0.6760522556468811\n",
      "Average F1 Training score for whole target sentence class 1 : 0.9400075148763879\n",
      "Average Accuracy Training score whole target sentence  : 0.8987632514549507\n",
      "Average mcc Training score whole target sentence : 0.6478430788804626\n"
     ]
    },
    {
     "name": "stderr",
     "output_type": "stream",
     "text": [
      "  0%|          | 0/125 [00:00<?, ?it/s]"
     ]
    },
    {
     "name": "stdout",
     "output_type": "stream",
     "text": [
      "              precision    recall  f1-score   support\n",
      "\n",
      "           0       0.53      0.91      0.67     61913\n",
      "           1       0.98      0.88      0.93    427606\n",
      "\n",
      "    accuracy                           0.89    489519\n",
      "   macro avg       0.76      0.89      0.80    489519\n",
      "weighted avg       0.93      0.89      0.90    489519\n",
      "\n"
     ]
    },
    {
     "name": "stderr",
     "output_type": "stream",
     "text": [
      "INFO:numexpr.utils:NumExpr defaulting to 8 threads.INFO:numexpr.utils:NumExpr defaulting to 8 threads.\n",
      "\n",
      "/root/Thesis/src/code/code_files/engine.py:395: VisibleDeprecationWarning: Creating an ndarray from ragged nested sequences (which is a list-or-tuple of lists-or-tuples-or ndarrays with different lengths or shapes) is deprecated. If you meant to do this, you must specify 'dtype=object' when creating the ndarray\n",
      "  np_arr_labels = np.array(tar_labels)\n",
      "100%|██████████| 125/125 [00:14<00:00,  8.67it/s]\n"
     ]
    },
    {
     "name": "stdout",
     "output_type": "stream",
     "text": [
      "Average F1 Validation score for whole sentence class 0 : 0.42645947987482463\n",
      "Average F1 Validation score for whole sentence class 1 : 0.9129459167294526\n",
      "Average Accuracy Validation score whole sentence  : 0.8488360518195134\n",
      "Average mcc Validation score whole sentence : 0.3394055822693248\n",
      "Average F1 Validation score for source sentence class 0 : 0.4103483606557377\n",
      "Average F1 Validation score for source sentence class 1 : 0.8952016753163982\n",
      "Average Accuracy Validation score source sentence  : 0.8220332431387708\n",
      "Average mcc Validation score source sentence : 0.3056517902601059\n",
      "Average F1 Validation score for target sentence class 0 : 0.4666322846828262\n",
      "Average F1 Validation score for target sentence class 1 : 0.884799607904293\n",
      "Average Accuracy Validation score target sentence  : 0.8105236158440512\n",
      "Average mcc Validation score target sentence : 0.3517399053565341\n",
      "Average F1 Validation score for gaps in target sentence class 0 : 0.17070805043646944\n",
      "Average F1 Validation score for gaps in target sentence class 1 : 0.9743158400672894\n",
      "Average Accuracy Validation score gaps in target sentence  : 0.9501748251748252\n",
      "Average mcc Validation score gaps in target sentence : 0.1464159878568089\n",
      "Average F1 Validation score for whole target sentence class 0 : 0.4381875815774753\n",
      "Average F1 Validation score for whole target sentence class 1 : 0.9229175194433075\n",
      "Average Accuracy Validation score whole target sentence  : 0.8644349958381139\n",
      "Average mcc Validation score whole target sentence : 0.36116791783317187\n",
      "              precision    recall  f1-score   support\n",
      "\n",
      "           0       0.43      0.43      0.43      9274\n",
      "           1       0.91      0.91      0.91     61047\n",
      "\n",
      "    accuracy                           0.85     70321\n",
      "   macro avg       0.67      0.67      0.67     70321\n",
      "weighted avg       0.85      0.85      0.85     70321\n",
      "\n",
      "For gaps :                precision    recall  f1-score   support\n",
      "\n",
      "         0.0       0.15      0.19      0.17       456\n",
      "         1.0       0.98      0.97      0.97     16704\n",
      "\n",
      "    accuracy                           0.95     17160\n",
      "   macro avg       0.57      0.58      0.57     17160\n",
      "weighted avg       0.96      0.95      0.95     17160\n",
      "\n",
      "For tar :               precision    recall  f1-score   support\n",
      "\n",
      "         0.0       0.48      0.45      0.47      4982\n",
      "         1.0       0.88      0.89      0.88     22309\n",
      "\n",
      "    accuracy                           0.81     27291\n",
      "   macro avg       0.68      0.67      0.68     27291\n",
      "weighted avg       0.81      0.81      0.81     27291\n",
      "\n",
      "For source :                precision    recall  f1-score   support\n",
      "\n",
      "         0.0       0.40      0.42      0.41      3836\n",
      "         1.0       0.90      0.89      0.90     22034\n",
      "\n",
      "    accuracy                           0.82     25870\n",
      "   macro avg       0.65      0.66      0.65     25870\n",
      "weighted avg       0.82      0.82      0.82     25870\n",
      "\n",
      "Train Loss = 0.2658589669423444 Valid Loss = 1.276888219833374\n",
      "terminating because of early stopping!\n"
     ]
    }
   ],
   "source": [
    "best_accuracy = -1\n",
    "train_loss_lst = []\n",
    "val_loss_lst = []\n",
    "with open('metrics_xlmroberta_trainData_wl.txt', 'w') as f:\n",
    "    f.write('metrics_xlmroberta_trainData_wl'+'\\n')\n",
    "    for epoch in range(config.EPOCHS):\n",
    "            print(f'Epoch {epoch+1} of {config.EPOCHS}')\n",
    "            train_metrics = engine.train_fn(train_dataloader, model, optimizer, scheduler)\n",
    "            print(classification_report(train_metrics[21],train_metrics[22]))\n",
    "            test_metrics = engine.eval_fn(val_dataloader, model)\n",
    "            print(classification_report(test_metrics[21],test_metrics[22]))\n",
    "            print('For gaps : ',classification_report(test_metrics[27],test_metrics[28]) )\n",
    "            print('For tar :',classification_report(test_metrics[25],test_metrics[26]) )\n",
    "            print('For source : ',classification_report(test_metrics[23],test_metrics[24]) )\n",
    "            print(f\"Train Loss = {train_metrics[0]} Valid Loss = {test_metrics[0]}\")\n",
    "            train_loss_lst.append(train_metrics[:-2])\n",
    "            val_loss_lst.append(test_metrics[:-14])\n",
    "            f.write(f\"Train_loss {epoch+1} : {str(train_loss_lst)}\" + '\\n')\n",
    "            f.write(f\"val_loss {epoch+1} : {str(val_loss_lst)}\" + '\\n')\n",
    "            if early_stopping.step(float(\"{:.3f}\".format(test_metrics[4]))): #mcc score for early stopping \"{:.2f}\".format(a_float)\n",
    "                  break  # early stop criterion is met, we can stop now\n",
    "            if float(\"{:.2f}\".format(test_metrics[4])) >  best_accuracy:\n",
    "                torch.save(model.state_dict(), '../models/training_data/model_xlmrobertatokenclassificationmodel_TrainData_weightedlss.bin')\n",
    "                best_accuracy = float(\"{:.3f}\".format(test_metrics[4]))"
   ]
  },
  {
   "cell_type": "code",
   "execution_count": 32,
   "metadata": {},
   "outputs": [
    {
     "name": "stdout",
     "output_type": "stream",
     "text": [
      "loss_train : [0.562147330726896, 0.49290298666272847, 0.4304328956433705, 0.3653368263585227, 0.3085414180244718, 0.2658589669423444] \n",
      " loss_test :  [0.5407350952625275, 0.5496867361068726, 0.9144285440444946, 1.0553407242298127, 1.0345049903392791, 1.276888219833374] \n",
      " f1_class0_train : [0.3732458036872518, 0.4379203078361564, 0.5013330436843353, 0.5676308776755781, 0.6227649417387684, 0.6676275446391348] \n",
      " f1_class0_test : [0.45130975284889746, 0.469124267391489, 0.40207489878542507, 0.4226892822025565, 0.44288556172128574, 0.42645947987482463] \n",
      " f1_class1_train : [0.779975933142712, 0.8347330494249136, 0.8699255886072527, 0.8985055050384029, 0.9177050840667058, 0.9312001933091367] \n",
      " f1_class1_test : [0.8694703117573539, 0.8932499829199972, 0.924283448419501, 0.9244673152689555, 0.9124403488563435, 0.9129459167294526] \n",
      " accuracy_score_train : [0.6742925198000487, 0.7445696694101761, 0.7936709300354021, 0.8356018867500546, 0.8648857347722969, 0.8859982962867631] \n",
      " accuracy_score_test : [0.7891099387096315, 0.8222437109824946, 0.8655878044965231, 0.8664125936775643, 0.8486654057820565, 0.8488360518195134] \n",
      " mcc_score_train : [0.29104063998099905, 0.3718415867538218, 0.4480036435720593, 0.5242028358691186, 0.5863158266357921, 0.636315415909413] \n",
      " mcc_score_test : [0.3635159889340725, 0.3804426681928096, 0.33531778497942405, 0.3532474399168729, 0.3556113889803058, 0.3394055822693248] \n",
      " f1_class0_train_src : [0.3594466677630978, 0.42182412128699914, 0.4861795734094993, 0.5529098535654183, 0.6088640735199828, 0.6562131837307154] \n",
      " f1_class0_test_src : [0.4333803313359182, 0.45006948580504264, 0.3867042587921057, 0.4050267225191391, 0.43275582699738246, 0.4103483606557377] \n",
      " f1_class1_train : [0.779975933142712, 0.8347330494249136, 0.8699255886072527, 0.8985055050384029, 0.9177050840667058, 0.9312001933091367] \n",
      " f1_class1_test : [0.8694703117573539, 0.8932499829199972, 0.924283448419501, 0.9244673152689555, 0.9124403488563435, 0.9129459167294526] \n",
      " accuracy_score_train : [0.6742925198000487, 0.7445696694101761, 0.7936709300354021, 0.8356018867500546, 0.8648857347722969, 0.8859982962867631] \n",
      " accuracy_score_test : [0.7891099387096315, 0.8222437109824946, 0.8655878044965231, 0.8664125936775643, 0.8486654057820565, 0.8488360518195134] \n",
      " mcc_score_train : [0.29104063998099905, 0.3718415867538218, 0.4480036435720593, 0.5242028358691186, 0.5863158266357921, 0.636315415909413] \n",
      " mcc_score_test_src : [0.32231577290293173, 0.34124617889755465, 0.3006920342863136, 0.31683146970538933, 0.3293316316962936, 0.3056517902601059] \n",
      " f1_class0_train_tar : [0.39348547157884267, 0.466111258629846, 0.5351512174324087, 0.6064971665191425, 0.6708319125298369, 0.719971307587292] \n",
      " f1_class0_test_tar : [0.4793663471778487, 0.5044719912129296, 0.4356738925541941, 0.4589182968929804, 0.4828419039951696, 0.4666322846828262] \n",
      " f1_class1_train_tar : [0.6423434705579313, 0.7516194535164725, 0.8153825199974969, 0.8624871560578964, 0.8963237816095537, 0.9174251832039192] \n",
      " f1_class1_test_tar : [0.8022650285656505, 0.8490295439334545, 0.8960819195556905, 0.897542055260176, 0.8848919251875909, 0.884799607904293] \n",
      " accuracy_score_train_tar : [0.5500302990383349, 0.6609669345277303, 0.7357238835463048, 0.7961954946647346, 0.8423132657093927, 0.8724594915030958] \n",
      " accuracy_score_test_tar : [0.7133853651386904, 0.7685683925103514, 0.8244842622109853, 0.8277087684584662, 0.8116961635704079, 0.8105236158440512] \n",
      " mcc_score_train_tar : [0.2480322563191732, 0.3561383922147235, 0.44829298828002345, 0.5378650823633115, 0.6147018361827451, 0.6728639822618407] \n",
      " mcc_score_test_tar : [0.3477155812047792, 0.3779443960186679, 0.34271863636545574, 0.3646088133183212, 0.367736897119519, 0.3517399053565341] \n",
      " f1_class0_train_gaps : [0.0505902192242833, 0.14887334887334888, 0.20319488817891374, 0.24522099111165227, 0.2743825868564253, 0.30271439811172307] \n",
      " f1_class0_test_gaps : [0.11890243902439027, 0.11294765840220386, 0.08950086058519793, 0.13050075872534145, 0.16637478108581435, 0.17070805043646944] \n",
      " f1_class1_train_gaps : [0.9831963945372293, 0.9764175518516763, 0.9729921727114819, 0.9731029066563689, 0.9697374393352188, 0.9689737261285862] \n",
      " f1_class1_test_gaps : [0.9828303231939164, 0.9808299101029946, 0.9843208156732565, 0.9829773328183952, 0.9713062872988124, 0.9743158400672894] \n",
      " accuracy_score_train_gaps : [0.9669772586348477, 0.9541066849893584, 0.9477551909637848, 0.9480568450336009, 0.941898074441521, 0.9405909068056509] \n",
      " accuracy_score_test_gaps : [0.9663170163170163, 0.9624708624708624, 0.9691724941724942, 0.9666083916083916, 0.9445221445221446, 0.9501748251748252] \n",
      " mcc_score_train_gaps : [0.045937627354756254, 0.1253007014192028, 0.18052266845268994, 0.22590317694539525, 0.26390488753118146, 0.2996538056241786] \n",
      " mcc_score_test_gaps : [0.11372011981161863, 0.0984845181900077, 0.096629438800025, 0.1260243743748258, 0.1419901224897961, 0.1464159878568089]\n"
     ]
    },
    {
     "name": "stderr",
     "output_type": "stream",
     "text": [
      "/opt/conda/lib/python3.6/site-packages/ipykernel_launcher.py:1: VisibleDeprecationWarning: Creating an ndarray from ragged nested sequences (which is a list-or-tuple of lists-or-tuples-or ndarrays with different lengths or shapes) is deprecated. If you meant to do this, you must specify 'dtype=object' when creating the ndarray\n",
      "  \"\"\"Entry point for launching an IPython kernel.\n"
     ]
    }
   ],
   "source": [
    "train_metrices = np.array(train_loss_lst)\n",
    "test_metrices = np.array(val_loss_lst)\n",
    "loss_train = train_metrices[:,0]\n",
    "loss_test = test_metrices[:,0]\n",
    "f1_class0_train = train_metrices[:,1]\n",
    "f1_class0_test= test_metrices[:,1]\n",
    "f1_class1_train = train_metrices[:,2]\n",
    "f1_class1_test = test_metrices[:,2]\n",
    "accuracy_score_train = train_metrices[:,3]\n",
    "accuracy_score_test = test_metrices[:,3]\n",
    "mcc_score_train = train_metrices[:,4]\n",
    "mcc_score_test = test_metrices[:,4]\n",
    "f1_class0_train_src = train_metrices[:,5]\n",
    "f1_class0_test_src= test_metrices[:,5]\n",
    "f1_class1_train_src = train_metrices[:,6]\n",
    "f1_class1_test_src = test_metrices[:,6]\n",
    "accuracy_score_train_src = train_metrices[:,7]\n",
    "accuracy_score_test_src = test_metrices[:,7]\n",
    "mcc_score_train_src = train_metrices[:,8]\n",
    "mcc_score_test_src = test_metrices[:,8]\n",
    "\n",
    "f1_class0_train_tar = train_metrices[:,9]\n",
    "f1_class0_test_tar= test_metrices[:,9]\n",
    "f1_class1_train_tar = train_metrices[:,10]\n",
    "f1_class1_test_tar = test_metrices[:,10]\n",
    "accuracy_score_train_tar = train_metrices[:,11]\n",
    "accuracy_score_test_tar = test_metrices[:,11]\n",
    "mcc_score_train_tar = train_metrices[:,12]\n",
    "mcc_score_test_tar = test_metrices[:,12]\n",
    "\n",
    "f1_class0_train_gaps = train_metrices[:,13]\n",
    "f1_class0_test_gaps= test_metrices[:,13]\n",
    "f1_class1_train_gaps = train_metrices[:,14]\n",
    "f1_class1_test_gaps = test_metrices[:,14]\n",
    "accuracy_score_train_gaps = train_metrices[:,15]\n",
    "accuracy_score_test_gaps = test_metrices[:,15]\n",
    "mcc_score_train_gaps = train_metrices[:,16]\n",
    "mcc_score_test_gaps = test_metrices[:,16]\n",
    "print('loss_train :',list(loss_train),'\\n','loss_test : ',list(loss_test),'\\n','f1_class0_train :',list(f1_class0_train),'\\n','f1_class0_test :',list(f1_class0_test),'\\n','f1_class1_train :',list(f1_class1_train),'\\n','f1_class1_test :',list(f1_class1_test),'\\n','accuracy_score_train :',list(accuracy_score_train),'\\n','accuracy_score_test :',list(accuracy_score_test),'\\n','mcc_score_train :',list(mcc_score_train),'\\n',\n",
    "    'mcc_score_test :', list(mcc_score_test),'\\n','f1_class0_train_src :',list(f1_class0_train_src),'\\n','f1_class0_test_src :',list(f1_class0_test_src),'\\n','f1_class1_train :',list(f1_class1_train),'\\n','f1_class1_test :',list(f1_class1_test),'\\n','accuracy_score_train :',list(accuracy_score_train),'\\n','accuracy_score_test :',list(accuracy_score_test),'\\n','mcc_score_train :',list(mcc_score_train),'\\n',\n",
    "    'mcc_score_test_src :', list(mcc_score_test_src), '\\n','f1_class0_train_tar :',list(f1_class0_train_tar),'\\n','f1_class0_test_tar :',list(f1_class0_test_tar),'\\n','f1_class1_train_tar :',list(f1_class1_train_tar),'\\n','f1_class1_test_tar :',list(f1_class1_test_tar),'\\n','accuracy_score_train_tar :',list(accuracy_score_train_tar),'\\n','accuracy_score_test_tar :',list(accuracy_score_test_tar),'\\n','mcc_score_train_tar :',list(mcc_score_train_tar),'\\n',\n",
    "    'mcc_score_test_tar :', list(mcc_score_test_tar),'\\n','f1_class0_train_gaps :',list(f1_class0_train_gaps),'\\n','f1_class0_test_gaps :',list(f1_class0_test_gaps),'\\n','f1_class1_train_gaps :',list(f1_class1_train_gaps),'\\n','f1_class1_test_gaps :',list(f1_class1_test_gaps),'\\n','accuracy_score_train_gaps :',list(accuracy_score_train_gaps),'\\n','accuracy_score_test_gaps :',list(accuracy_score_test_gaps),'\\n','mcc_score_train_gaps :',list(mcc_score_train_gaps),'\\n',\n",
    "    'mcc_score_test_gaps :', list(mcc_score_test_gaps))"
   ]
  },
  {
   "cell_type": "code",
   "execution_count": 19,
   "metadata": {},
   "outputs": [],
   "source": [
    "import matplotlib.pyplot as plt\n",
    "def plot_against_epochs(matrix1,matrix2,label1 , label2 ,y_label , title, epochs):\n",
    "    \n",
    "    epochs = np.arange(1,epoch+1)\n",
    "    plt.plot(epochs,matrix1,label=label1)\n",
    "    if matrix2 is not None :\n",
    "        plt.plot(epochs,matrix2,label=label2)\n",
    "    plt.xlabel('epochs')\n",
    "    plt.ylabel(y_label)\n",
    "    plt.title(title)\n",
    "    plt.grid()\n",
    "    plt.legend()\n",
    "    plt.show()"
   ]
  },
  {
   "cell_type": "code",
   "execution_count": 42,
   "metadata": {},
   "outputs": [
    {
     "data": {
      "image/png": "[encoded data removed]",
      "text/plain": [
       "<Figure size 432x288 with 1 Axes>"
      ]
     },
     "metadata": {
      "needs_background": "light"
     },
     "output_type": "display_data"
    },
    {
     "data": {
      "image/png": "[encoded data removed]",
      "text/plain": [
       "<Figure size 432x288 with 1 Axes>"
      ]
     },
     "metadata": {
      "needs_background": "light"
     },
     "output_type": "display_data"
    },
    {
     "data": {
      "image/png": "[encoded data removed]",
      "text/plain": [
       "<Figure size 432x288 with 1 Axes>"
      ]
     },
     "metadata": {
      "needs_background": "light"
     },
     "output_type": "display_data"
    },
    {
     "data": {
      "image/png": "[encoded data removed]",
      "text/plain": [
       "<Figure size 432x288 with 1 Axes>"
      ]
     },
     "metadata": {
      "needs_background": "light"
     },
     "output_type": "display_data"
    },
    {
     "data": {
      "image/png": "[encoded data removed]",
      "text/plain": [
       "<Figure size 432x288 with 1 Axes>"
      ]
     },
     "metadata": {
      "needs_background": "light"
     },
     "output_type": "display_data"
    }
   ],
   "source": [
    "plot_against_epochs(loss_train[:-1],loss_test[:-1],label1 = 'train_loss', \n",
    "                    label2 = 'validation_loss', y_label = 'loss', title ='XMLRobertaForTokenClassification_earlyStopping-trainData', epochs = epoch )\n",
    "plot_against_epochs(mcc_score_train[:-1],mcc_score_test[:-1],label1 = 'mcc_train', \n",
    "                    label2 = 'mcc_test', y_label = 'mcc_score', title ='XMLRobertaForTokenClassification_earlyStopping-trainData', epochs = epoch )\n",
    "plot_against_epochs(mcc_score_train_gaps[:-1],mcc_score_test_gaps[:-1],label1 = 'mcc_train_gaps', \n",
    "                    label2 = 'mcc_test_gaps', y_label = 'mcc_score', title ='XMLRobertaForTokenClassification_earlyStopping-trainData', epochs = epoch )\n",
    "plot_against_epochs(mcc_score_train_src[:-1],mcc_score_test_src[:-1],label1 = 'mcc_train_src', \n",
    "                    label2 = 'mcc_test_src', y_label = 'mcc_score', title ='XMLRobertaForTokenClassification_earlyStopping-trainData', epochs = epoch )\n",
    "\n",
    "plot_against_epochs(mcc_score_train_tar[:-1],mcc_score_test_tar[:-1],label1 = 'mcc_train_tar', \n",
    "                    label2 = 'mcc_test_tar', y_label = 'mcc_score', title ='XMLRobertaForTokenClassification_earlyStopping-trainData', epochs = epoch )\n"
   ]
  },
  {
   "cell_type": "code",
   "execution_count": 43,
   "metadata": {},
   "outputs": [
    {
     "name": "stdout",
     "output_type": "stream",
     "text": [
      "Max mcc achieved for dev data(whole sentence) is 0.3804426681928096 ,in the 2th epoch \n",
      "Max mcc achieved for gaps is 0.1464159878568089 ,in the 6th epoch \n",
      "Max mcc achieved for target tokens is 0.3779443960186679 ,in the 2th epoch \n",
      "Max mcc achieved for source tokens is 0.34124617889755465 ,in the 2th epoch \n"
     ]
    }
   ],
   "source": [
    "print('Max mcc achieved for dev data(whole sentence) is', np.amax(mcc_score_test),f',in the {np.argmax(mcc_score_test)+1}th epoch ')\n",
    "print('Max mcc achieved for gaps is', np.amax(mcc_score_test_gaps),f',in the {np.argmax(mcc_score_test_gaps)+1}th epoch ')\n",
    "print('Max mcc achieved for target tokens is', np.amax(mcc_score_test_tar),f',in the {np.argmax(mcc_score_test_tar)+1}th epoch ')\n",
    "print('Max mcc achieved for source tokens is', np.amax(mcc_score_test_src),f',in the {np.argmax(mcc_score_test_src)+1}th epoch ')"
   ]
  },
  {
   "cell_type": "markdown",
   "metadata": {},
   "source": [
    "<h3> With weighted loss function and Dropout </h3>\n"
   ]
  },
  {
   "cell_type": "code",
   "execution_count": 12,
   "metadata": {},
   "outputs": [],
   "source": [
    "class EntityModel(nn.Module):\n",
    "    \n",
    "    def __init__(self,dropout=0.5):\n",
    "        \n",
    "        super(EntityModel, self).__init__()\n",
    "        self.bert = XLMRobertaModel.from_pretrained(config.BASE_MODEL,output_attentions = False, output_hidden_states = False)\n",
    "        self.bert_drop_1 = nn.Dropout(0.5)\n",
    "        self.out_tag = nn.Linear(768, 2)\n",
    "        self.softmax = nn.Softmax(dim=2)\n",
    "    \n",
    "    def forward(self, ids, attention_mask):\n",
    "        \n",
    "        outputs = self.bert(ids,\n",
    "                                attention_mask = attention_mask,\n",
    "                                return_dict=False)\n",
    "        bo_tag = self.bert_drop_1(outputs[0])\n",
    "        \n",
    "        tag = self.out_tag(bo_tag)  \n",
    "        softmax_prob = self.softmax(tag)\n",
    "        \n",
    "#         loss_tag = ClassificationCost(outputs[0],labels,attention_mask)\n",
    "        \n",
    "#         return bo_tag,loss\n",
    "        return softmax_prob, tag\n",
    "        "
   ]
  },
  {
   "cell_type": "code",
   "execution_count": 14,
   "metadata": {},
   "outputs": [],
   "source": [
    "model = EntityModel(dropout=0.5)\n",
    "model.cuda()"
   ]
  },
  {
   "cell_type": "code",
   "execution_count": 15,
   "metadata": {},
   "outputs": [
    {
     "name": "stderr",
     "output_type": "stream",
     "text": [
      "/opt/conda/lib/python3.6/site-packages/transformers/optimization.py:309: FutureWarning: This implementation of AdamW is deprecated and will be removed in a future version. Use thePyTorch implementation torch.optim.AdamW instead, or set `no_deprecation_warning=True` to disable this warning\n",
      "  FutureWarning,\n"
     ]
    }
   ],
   "source": [
    "param_optimizer = list(model.named_parameters())\n",
    "no_decay = [\"bias\", \"LayerNorm.bias\", \"LayerNorm.weight\"]\n",
    "optimizer_parameters = [\n",
    "    {\n",
    "        \"params\": [\n",
    "            p for n, p in param_optimizer if not any(nd in n for nd in no_decay)\n",
    "        ],\n",
    "        \"weight_decay\": 0.001,\n",
    "    },\n",
    "    {\n",
    "        \"params\": [\n",
    "            p for n, p in param_optimizer if any(nd in n for nd in no_decay)\n",
    "        ],\n",
    "        \"weight_decay\": 0.0,\n",
    "    },\n",
    "]\n",
    "num_train_steps = int(len(dataset_train) / config.TRAIN_BATCH_SIZE * config.EPOCHS) #10 is the batchsize\n",
    "optimizer = AdamW(optimizer_parameters, lr=2e-5) # used 3e-5\n",
    "scheduler = get_linear_schedule_with_warmup(\n",
    "    optimizer, num_warmup_steps=0, num_training_steps=num_train_steps\n",
    ")\n",
    "early_stopping = EarlyStopping(patience=4)"
   ]
  },
  {
   "cell_type": "code",
   "execution_count": 16,
   "metadata": {},
   "outputs": [
    {
     "name": "stderr",
     "output_type": "stream",
     "text": [
      "  0%|          | 0/875 [00:00<?, ?it/s]"
     ]
    },
    {
     "name": "stdout",
     "output_type": "stream",
     "text": [
      "Epoch 1 of 20\n"
     ]
    },
    {
     "name": "stderr",
     "output_type": "stream",
     "text": [
      "INFO:numexpr.utils:Note: NumExpr detected 16 cores but \"NUMEXPR_MAX_THREADS\" not set, so enforcing safe limit of 8.INFO:numexpr.utils:Note: NumExpr detected 16 cores but \"NUMEXPR_MAX_THREADS\" not set, so enforcing safe limit of 8.\n",
      "\n",
      "INFO:numexpr.utils:NumExpr defaulting to 8 threads.INFO:numexpr.utils:NumExpr defaulting to 8 threads.\n",
      "\n",
      "/root/Thesis/src/code/code_files/engine.py:395: VisibleDeprecationWarning: Creating an ndarray from ragged nested sequences (which is a list-or-tuple of lists-or-tuples-or ndarrays with different lengths or shapes) is deprecated. If you meant to do this, you must specify 'dtype=object' when creating the ndarray\n",
      "  np_arr_labels = np.array(tar_labels)\n",
      "100%|██████████| 875/875 [06:20<00:00,  2.30it/s]\n"
     ]
    },
    {
     "name": "stdout",
     "output_type": "stream",
     "text": [
      "Average F1 Training score for class 0 : 0.37702026796295923\n",
      "Average F1 Training score for class 1 : 0.787612498168117\n",
      "Average Accuracy Training score  : 0.6832216931314209\n",
      "Average mcc Training score  : 0.29436301176777724\n",
      "Average F1 Training score for source sentence class 0 : 0.3605080874296644\n",
      "Average F1 Training score for source sentence class 1 : 0.7278926615726218\n",
      "Average Accuracy Training score source sentence  : 0.6182303965587964\n",
      "Average mcc Training score source sentence : 0.2490539546332273\n",
      "Average F1 Training score for target sentence class 0 : 0.40072122784643127\n",
      "Average F1 Training score for target sentence class 1 : 0.6636914065713486\n",
      "Average Accuracy Training score target sentence  : 0.569163483072059\n",
      "Average mcc Training score target sentence : 0.257874506265835\n",
      "Average F1 Training score for gaps in target sentence class 0 : 0.07275768346226218\n",
      "Average F1 Training score for gaps in target sentence class 1 : 0.9810389865797923\n",
      "Average Accuracy Training score gaps in target sentence  : 0.9628378944545927\n",
      "Average mcc Training score gaps in target sentence : 0.05939981060396274\n",
      "Average F1 Training score for whole target sentence class 0 : 0.3896131485586013\n",
      "Average F1 Training score for whole target sentence class 1 : 0.8192999410922461\n",
      "Average Accuracy Training score whole target sentence  : 0.7211508910865465\n",
      "Average mcc Training score whole target sentence : 0.32144476247245324\n"
     ]
    },
    {
     "name": "stderr",
     "output_type": "stream",
     "text": [
      "  0%|          | 0/125 [00:00<?, ?it/s]"
     ]
    },
    {
     "name": "stdout",
     "output_type": "stream",
     "text": [
      "              precision    recall  f1-score   support\n",
      "\n",
      "           0       0.25      0.76      0.38     61913\n",
      "           1       0.95      0.67      0.79    427606\n",
      "\n",
      "    accuracy                           0.68    489519\n",
      "   macro avg       0.60      0.72      0.58    489519\n",
      "weighted avg       0.86      0.68      0.74    489519\n",
      "\n"
     ]
    },
    {
     "name": "stderr",
     "output_type": "stream",
     "text": [
      "INFO:numexpr.utils:Note: NumExpr detected 16 cores but \"NUMEXPR_MAX_THREADS\" not set, so enforcing safe limit of 8.INFO:numexpr.utils:Note: NumExpr detected 16 cores but \"NUMEXPR_MAX_THREADS\" not set, so enforcing safe limit of 8.\n",
      "\n",
      "INFO:numexpr.utils:NumExpr defaulting to 8 threads.INFO:numexpr.utils:NumExpr defaulting to 8 threads.\n",
      "\n",
      "/root/Thesis/src/code/code_files/engine.py:395: VisibleDeprecationWarning: Creating an ndarray from ragged nested sequences (which is a list-or-tuple of lists-or-tuples-or ndarrays with different lengths or shapes) is deprecated. If you meant to do this, you must specify 'dtype=object' when creating the ndarray\n",
      "  np_arr_labels = np.array(tar_labels)\n",
      "100%|██████████| 125/125 [00:14<00:00,  8.89it/s]\n"
     ]
    },
    {
     "name": "stdout",
     "output_type": "stream",
     "text": [
      "Average F1 Validation score for whole sentence class 0 : 0.45362443455830126\n",
      "Average F1 Validation score for whole sentence class 1 : 0.8716778028500434\n",
      "Average Accuracy Validation score whole sentence  : 0.7921673468807326\n",
      "Average mcc Validation score whole sentence : 0.3659041943914234\n",
      "Average F1 Validation score for source sentence class 0 : 0.43543596016075486\n",
      "Average F1 Validation score for source sentence class 1 : 0.8396287288430039\n",
      "Average Accuracy Validation score source sentence  : 0.7502126014688829\n",
      "Average mcc Validation score source sentence : 0.3255004790380368\n",
      "Average F1 Validation score for target sentence class 0 : 0.48187719772788745\n",
      "Average F1 Validation score for target sentence class 1 : 0.8074584108157008\n",
      "Average Accuracy Validation score target sentence  : 0.7192481037704738\n",
      "Average mcc Validation score target sentence : 0.3504968782108821\n",
      "Average F1 Validation score for gaps in target sentence class 0 : 0.04660194174757282\n",
      "Average F1 Validation score for gaps in target sentence class 1 : 0.9854755213725781\n",
      "Average Accuracy Validation score gaps in target sentence  : 0.9713869463869463\n",
      "Average mcc Validation score gaps in target sentence : 0.06457470451164811\n",
      "Average F1 Validation score for whole target sentence class 0 : 0.46722864797752073\n",
      "Average F1 Validation score for whole target sentence class 1 : 0.8892240383700866\n",
      "Average Accuracy Validation score whole target sentence  : 0.8165845537783177\n",
      "Average mcc Validation score whole target sentence : 0.3912614038355327\n",
      "              precision    recall  f1-score   support\n",
      "\n",
      "           0       0.35      0.65      0.45      9274\n",
      "           1       0.94      0.81      0.87     61047\n",
      "\n",
      "    accuracy                           0.79     70321\n",
      "   macro avg       0.64      0.73      0.66     70321\n",
      "weighted avg       0.86      0.79      0.82     70321\n",
      "\n",
      "For gaps :                precision    recall  f1-score   support\n",
      "\n",
      "         0.0       0.20      0.03      0.05       456\n",
      "         1.0       0.97      1.00      0.99     16704\n",
      "\n",
      "    accuracy                           0.97     17160\n",
      "   macro avg       0.59      0.51      0.52     17160\n",
      "weighted avg       0.95      0.97      0.96     17160\n",
      "\n",
      "For tar :               precision    recall  f1-score   support\n",
      "\n",
      "         0.0       0.36      0.72      0.48      4982\n",
      "         1.0       0.92      0.72      0.81     22309\n",
      "\n",
      "    accuracy                           0.72     27291\n",
      "   macro avg       0.64      0.72      0.64     27291\n",
      "weighted avg       0.82      0.72      0.75     27291\n",
      "\n",
      "For source :                precision    recall  f1-score   support\n",
      "\n",
      "         0.0       0.33      0.65      0.44      3836\n",
      "         1.0       0.93      0.77      0.84     22034\n",
      "\n",
      "    accuracy                           0.75     25870\n",
      "   macro avg       0.63      0.71      0.64     25870\n",
      "weighted avg       0.84      0.75      0.78     25870\n",
      "\n",
      "Train Loss = 0.5633650638375963 Valid Loss = 0.5268946177959443\n"
     ]
    },
    {
     "name": "stderr",
     "output_type": "stream",
     "text": [
      "  0%|          | 0/875 [00:00<?, ?it/s]"
     ]
    },
    {
     "name": "stdout",
     "output_type": "stream",
     "text": [
      "Epoch 2 of 20\n"
     ]
    },
    {
     "name": "stderr",
     "output_type": "stream",
     "text": [
      "INFO:numexpr.utils:Note: NumExpr detected 16 cores but \"NUMEXPR_MAX_THREADS\" not set, so enforcing safe limit of 8.INFO:numexpr.utils:Note: NumExpr detected 16 cores but \"NUMEXPR_MAX_THREADS\" not set, so enforcing safe limit of 8.\n",
      "\n",
      "INFO:numexpr.utils:NumExpr defaulting to 8 threads.INFO:numexpr.utils:NumExpr defaulting to 8 threads.\n",
      "\n",
      "/root/Thesis/src/code/code_files/engine.py:395: VisibleDeprecationWarning: Creating an ndarray from ragged nested sequences (which is a list-or-tuple of lists-or-tuples-or ndarrays with different lengths or shapes) is deprecated. If you meant to do this, you must specify 'dtype=object' when creating the ndarray\n",
      "  np_arr_labels = np.array(tar_labels)\n",
      "100%|██████████| 875/875 [06:37<00:00,  2.20it/s]\n"
     ]
    },
    {
     "name": "stdout",
     "output_type": "stream",
     "text": [
      "Average F1 Training score for class 0 : 0.4469428419700526\n",
      "Average F1 Training score for class 1 : 0.8394016757192055\n",
      "Average Accuracy Training score  : 0.7510842275785006\n",
      "Average mcc Training score  : 0.3835918548075642\n",
      "Average F1 Training score for source sentence class 0 : 0.4319464330834667\n",
      "Average F1 Training score for source sentence class 1 : 0.7970205402151833\n",
      "Average Accuracy Training score source sentence  : 0.7009124067360673\n",
      "Average mcc Training score source sentence : 0.34963973714984986\n",
      "Average F1 Training score for target sentence class 0 : 0.47553025511279773\n",
      "Average F1 Training score for target sentence class 1 : 0.7617051441708975\n",
      "Average Accuracy Training score target sentence  : 0.6723014095639573\n",
      "Average mcc Training score target sentence : 0.3692371478966561\n",
      "Average F1 Training score for gaps in target sentence class 0 : 0.15621301775147928\n",
      "Average F1 Training score for gaps in target sentence class 1 : 0.9754057363619116\n",
      "Average Accuracy Training score gaps in target sentence  : 0.9522045884935731\n",
      "Average mcc Training score gaps in target sentence : 0.13193897196611518\n",
      "Average F1 Training score for whole target sentence class 0 : 0.4583077352694777\n",
      "Average F1 Training score for whole target sentence class 1 : 0.8622577850634715\n",
      "Average Accuracy Training score whole target sentence  : 0.7803647162724794\n",
      "Average mcc Training score whole target sentence : 0.4044747616796536\n"
     ]
    },
    {
     "name": "stderr",
     "output_type": "stream",
     "text": [
      "  0%|          | 0/125 [00:00<?, ?it/s]"
     ]
    },
    {
     "name": "stdout",
     "output_type": "stream",
     "text": [
      "              precision    recall  f1-score   support\n",
      "\n",
      "           0       0.31      0.80      0.45     61913\n",
      "           1       0.96      0.74      0.84    427606\n",
      "\n",
      "    accuracy                           0.75    489519\n",
      "   macro avg       0.64      0.77      0.64    489519\n",
      "weighted avg       0.88      0.75      0.79    489519\n",
      "\n"
     ]
    },
    {
     "name": "stderr",
     "output_type": "stream",
     "text": [
      "INFO:numexpr.utils:Note: NumExpr detected 16 cores but \"NUMEXPR_MAX_THREADS\" not set, so enforcing safe limit of 8.INFO:numexpr.utils:Note: NumExpr detected 16 cores but \"NUMEXPR_MAX_THREADS\" not set, so enforcing safe limit of 8.\n",
      "\n",
      "INFO:numexpr.utils:NumExpr defaulting to 8 threads.INFO:numexpr.utils:NumExpr defaulting to 8 threads.\n",
      "\n",
      "/root/Thesis/src/code/code_files/engine.py:395: VisibleDeprecationWarning: Creating an ndarray from ragged nested sequences (which is a list-or-tuple of lists-or-tuples-or ndarrays with different lengths or shapes) is deprecated. If you meant to do this, you must specify 'dtype=object' when creating the ndarray\n",
      "  np_arr_labels = np.array(tar_labels)\n",
      "100%|██████████| 125/125 [00:15<00:00,  8.18it/s]\n"
     ]
    },
    {
     "name": "stdout",
     "output_type": "stream",
     "text": [
      "Average F1 Validation score for whole sentence class 0 : 0.4613742305091983\n",
      "Average F1 Validation score for whole sentence class 1 : 0.8654955171096242\n",
      "Average Accuracy Validation score whole sentence  : 0.7847442442513616\n",
      "Average mcc Validation score whole sentence : 0.37964316132563963\n",
      "Average F1 Validation score for source sentence class 0 : 0.44511894995898277\n",
      "Average F1 Validation score for source sentence class 1 : 0.8289759797724399\n",
      "Average Accuracy Validation score source sentence  : 0.7385388480865868\n",
      "Average mcc Validation score source sentence : 0.34294367215976973\n",
      "Average F1 Validation score for target sentence class 0 : 0.49273236431524203\n",
      "Average F1 Validation score for target sentence class 1 : 0.8078011317704124\n",
      "Average Accuracy Validation score target sentence  : 0.7212267780587007\n",
      "Average mcc Validation score target sentence : 0.36733760105630203\n",
      "Average F1 Validation score for gaps in target sentence class 0 : 0.1639344262295082\n",
      "Average F1 Validation score for gaps in target sentence class 1 : 0.9770992366412214\n",
      "Average Accuracy Validation score gaps in target sentence  : 0.9554195804195804\n",
      "Average mcc Validation score gaps in target sentence : 0.14103471593779296\n",
      "Average F1 Validation score for whole target sentence class 0 : 0.4738264312197574\n",
      "Average F1 Validation score for whole target sentence class 1 : 0.8852840839030538\n",
      "Average Accuracy Validation score whole target sentence  : 0.8116352837956401\n",
      "Average mcc Validation score whole target sentence : 0.4025643612004084\n",
      "              precision    recall  f1-score   support\n",
      "\n",
      "           0       0.34      0.70      0.46      9274\n",
      "           1       0.95      0.80      0.87     61047\n",
      "\n",
      "    accuracy                           0.78     70321\n",
      "   macro avg       0.65      0.75      0.66     70321\n",
      "weighted avg       0.87      0.78      0.81     70321\n",
      "\n",
      "For gaps :                precision    recall  f1-score   support\n",
      "\n",
      "         0.0       0.16      0.16      0.16       456\n",
      "         1.0       0.98      0.98      0.98     16704\n",
      "\n",
      "    accuracy                           0.96     17160\n",
      "   macro avg       0.57      0.57      0.57     17160\n",
      "weighted avg       0.96      0.96      0.96     17160\n",
      "\n",
      "For tar :               precision    recall  f1-score   support\n",
      "\n",
      "         0.0       0.37      0.74      0.49      4982\n",
      "         1.0       0.93      0.72      0.81     22309\n",
      "\n",
      "    accuracy                           0.72     27291\n",
      "   macro avg       0.65      0.73      0.65     27291\n",
      "weighted avg       0.82      0.72      0.75     27291\n",
      "\n",
      "For source :                precision    recall  f1-score   support\n",
      "\n",
      "         0.0       0.32      0.71      0.45      3836\n",
      "         1.0       0.94      0.74      0.83     22034\n",
      "\n",
      "    accuracy                           0.74     25870\n",
      "   macro avg       0.63      0.73      0.64     25870\n",
      "weighted avg       0.85      0.74      0.77     25870\n",
      "\n",
      "Train Loss = 0.48806753952162607 Valid Loss = 0.5149601140022277\n"
     ]
    },
    {
     "name": "stderr",
     "output_type": "stream",
     "text": [
      "  0%|          | 0/875 [00:00<?, ?it/s]"
     ]
    },
    {
     "name": "stdout",
     "output_type": "stream",
     "text": [
      "Epoch 3 of 20\n"
     ]
    },
    {
     "name": "stderr",
     "output_type": "stream",
     "text": [
      "INFO:numexpr.utils:Note: NumExpr detected 16 cores but \"NUMEXPR_MAX_THREADS\" not set, so enforcing safe limit of 8.INFO:numexpr.utils:Note: NumExpr detected 16 cores but \"NUMEXPR_MAX_THREADS\" not set, so enforcing safe limit of 8.\n",
      "\n",
      "INFO:numexpr.utils:NumExpr defaulting to 8 threads.INFO:numexpr.utils:NumExpr defaulting to 8 threads.\n",
      "\n",
      "/root/Thesis/src/code/code_files/engine.py:395: VisibleDeprecationWarning: Creating an ndarray from ragged nested sequences (which is a list-or-tuple of lists-or-tuples-or ndarrays with different lengths or shapes) is deprecated. If you meant to do this, you must specify 'dtype=object' when creating the ndarray\n",
      "  np_arr_labels = np.array(tar_labels)\n",
      "100%|██████████| 875/875 [06:28<00:00,  2.25it/s]\n"
     ]
    },
    {
     "name": "stdout",
     "output_type": "stream",
     "text": [
      "Average F1 Training score for class 0 : 0.5129847958384381\n",
      "Average F1 Training score for class 1 : 0.8756324674758488\n",
      "Average Accuracy Training score  : 0.8018626447594476\n",
      "Average mcc Training score  : 0.4614320287199055\n",
      "Average F1 Training score for source sentence class 0 : 0.4975103443439232\n",
      "Average F1 Training score for source sentence class 1 : 0.8438147138964577\n",
      "Average Accuracy Training score source sentence  : 0.761698872518043\n",
      "Average mcc Training score source sentence : 0.43198693409179395\n",
      "Average F1 Training score for target sentence class 0 : 0.5487611769056446\n",
      "Average F1 Training score for target sentence class 1 : 0.8263726481007855\n",
      "Average Accuracy Training score target sentence  : 0.7492346199446713\n",
      "Average mcc Training score target sentence : 0.46511609006698396\n",
      "Average F1 Training score for gaps in target sentence class 0 : 0.212065364295368\n",
      "Average F1 Training score for gaps in target sentence class 1 : 0.9721833047778091\n",
      "Average Accuracy Training score gaps in target sentence  : 0.9462636791741382\n",
      "Average mcc Training score gaps in target sentence : 0.1904899420105387\n",
      "Average F1 Training score for whole target sentence class 0 : 0.5246386507279802\n",
      "Average F1 Training score for whole target sentence class 1 : 0.8929873650501752\n",
      "Average Accuracy Training score whole target sentence  : 0.8253023935920704\n",
      "Average mcc Training score whole target sentence : 0.480066736625647\n"
     ]
    },
    {
     "name": "stderr",
     "output_type": "stream",
     "text": [
      "  0%|          | 0/125 [00:00<?, ?it/s]"
     ]
    },
    {
     "name": "stdout",
     "output_type": "stream",
     "text": [
      "              precision    recall  f1-score   support\n",
      "\n",
      "           0       0.37      0.83      0.51     61913\n",
      "           1       0.97      0.80      0.88    427606\n",
      "\n",
      "    accuracy                           0.80    489519\n",
      "   macro avg       0.67      0.81      0.69    489519\n",
      "weighted avg       0.89      0.80      0.83    489519\n",
      "\n"
     ]
    },
    {
     "name": "stderr",
     "output_type": "stream",
     "text": [
      "INFO:numexpr.utils:Note: NumExpr detected 16 cores but \"NUMEXPR_MAX_THREADS\" not set, so enforcing safe limit of 8.INFO:numexpr.utils:Note: NumExpr detected 16 cores but \"NUMEXPR_MAX_THREADS\" not set, so enforcing safe limit of 8.\n",
      "\n",
      "INFO:numexpr.utils:NumExpr defaulting to 8 threads.INFO:numexpr.utils:NumExpr defaulting to 8 threads.\n",
      "\n",
      "/root/Thesis/src/code/code_files/engine.py:395: VisibleDeprecationWarning: Creating an ndarray from ragged nested sequences (which is a list-or-tuple of lists-or-tuples-or ndarrays with different lengths or shapes) is deprecated. If you meant to do this, you must specify 'dtype=object' when creating the ndarray\n",
      "  np_arr_labels = np.array(tar_labels)\n",
      "100%|██████████| 125/125 [00:13<00:00,  8.93it/s]\n"
     ]
    },
    {
     "name": "stdout",
     "output_type": "stream",
     "text": [
      "Average F1 Validation score for whole sentence class 0 : 0.44280571362211124\n",
      "Average F1 Validation score for whole sentence class 1 : 0.9222492302706206\n",
      "Average Accuracy Validation score whole sentence  : 0.8635400520470414\n",
      "Average mcc Validation score whole sentence : 0.3669926891098536\n",
      "Average F1 Validation score for source sentence class 0 : 0.42427556041552766\n",
      "Average F1 Validation score for source sentence class 1 : 0.9051863857374393\n",
      "Average Accuracy Validation score source sentence  : 0.8371859296482412\n",
      "Average mcc Validation score source sentence : 0.3302537137423774\n",
      "Average F1 Validation score for target sentence class 0 : 0.4804662205914095\n",
      "Average F1 Validation score for target sentence class 1 : 0.8937682054903345\n",
      "Average Accuracy Validation score target sentence  : 0.8236048514162178\n",
      "Average mcc Validation score target sentence : 0.3765090231773302\n",
      "Average F1 Validation score for gaps in target sentence class 0 : 0.109375\n",
      "Average F1 Validation score for gaps in target sentence class 1 : 0.9830760095011877\n",
      "Average Accuracy Validation score gaps in target sentence  : 0.9667832167832168\n",
      "Average mcc Validation score gaps in target sentence : 0.10592923665562581\n",
      "Average F1 Validation score for whole target sentence class 0 : 0.4564910155461336\n",
      "Average F1 Validation score for whole target sentence class 1 : 0.9318446503620437\n",
      "Average Accuracy Validation score whole target sentence  : 0.8788778655148366\n",
      "Average mcc Validation score whole target sentence : 0.3914486172866469\n",
      "              precision    recall  f1-score   support\n",
      "\n",
      "           0       0.48      0.41      0.44      9274\n",
      "           1       0.91      0.93      0.92     61047\n",
      "\n",
      "    accuracy                           0.86     70321\n",
      "   macro avg       0.70      0.67      0.68     70321\n",
      "weighted avg       0.86      0.86      0.86     70321\n",
      "\n",
      "For gaps :                precision    recall  f1-score   support\n",
      "\n",
      "         0.0       0.19      0.08      0.11       456\n",
      "         1.0       0.98      0.99      0.98     16704\n",
      "\n",
      "    accuracy                           0.97     17160\n",
      "   macro avg       0.58      0.53      0.55     17160\n",
      "weighted avg       0.95      0.97      0.96     17160\n",
      "\n"
     ]
    },
    {
     "name": "stderr",
     "output_type": "stream",
     "text": [
      "  0%|          | 0/875 [00:00<?, ?it/s]"
     ]
    },
    {
     "name": "stdout",
     "output_type": "stream",
     "text": [
      "For tar :               precision    recall  f1-score   support\n",
      "\n",
      "         0.0       0.52      0.45      0.48      4982\n",
      "         1.0       0.88      0.91      0.89     22309\n",
      "\n",
      "    accuracy                           0.82     27291\n",
      "   macro avg       0.70      0.68      0.69     27291\n",
      "weighted avg       0.81      0.82      0.82     27291\n",
      "\n",
      "For source :                precision    recall  f1-score   support\n",
      "\n",
      "         0.0       0.45      0.40      0.42      3836\n",
      "         1.0       0.90      0.91      0.91     22034\n",
      "\n",
      "    accuracy                           0.84     25870\n",
      "   macro avg       0.67      0.66      0.66     25870\n",
      "weighted avg       0.83      0.84      0.83     25870\n",
      "\n",
      "Train Loss = 0.42049374060971395 Valid Loss = 0.8076155297756195\n",
      "Epoch 4 of 20\n"
     ]
    },
    {
     "name": "stderr",
     "output_type": "stream",
     "text": [
      "INFO:numexpr.utils:Note: NumExpr detected 16 cores but \"NUMEXPR_MAX_THREADS\" not set, so enforcing safe limit of 8.INFO:numexpr.utils:Note: NumExpr detected 16 cores but \"NUMEXPR_MAX_THREADS\" not set, so enforcing safe limit of 8.\n",
      "\n",
      "INFO:numexpr.utils:NumExpr defaulting to 8 threads.INFO:numexpr.utils:NumExpr defaulting to 8 threads.\n",
      "\n",
      "/root/Thesis/src/code/code_files/engine.py:395: VisibleDeprecationWarning: Creating an ndarray from ragged nested sequences (which is a list-or-tuple of lists-or-tuples-or ndarrays with different lengths or shapes) is deprecated. If you meant to do this, you must specify 'dtype=object' when creating the ndarray\n",
      "  np_arr_labels = np.array(tar_labels)\n",
      "100%|██████████| 875/875 [06:17<00:00,  2.32it/s]\n"
     ]
    },
    {
     "name": "stdout",
     "output_type": "stream",
     "text": [
      "Average F1 Training score for class 0 : 0.5779671888759635\n",
      "Average F1 Training score for class 1 : 0.9023514733182739\n",
      "Average Accuracy Training score  : 0.8413994145273217\n",
      "Average mcc Training score  : 0.5359380954788955\n",
      "Average F1 Training score for source sentence class 0 : 0.5634956990889194\n",
      "Average F1 Training score for source sentence class 1 : 0.8784477138078635\n",
      "Average Accuracy Training score source sentence  : 0.8098468974845068\n",
      "Average mcc Training score source sentence : 0.511110508573142\n",
      "Average F1 Training score for target sentence class 0 : 0.6204875615686763\n",
      "Average F1 Training score for target sentence class 1 : 0.8710909373279306\n",
      "Average Accuracy Training score target sentence  : 0.8075510472928468\n",
      "Average mcc Training score target sentence : 0.5541853022567279\n",
      "Average F1 Training score for gaps in target sentence class 0 : 0.25470459518599564\n",
      "Average F1 Training score for gaps in target sentence class 1 : 0.9703237723486564\n",
      "Average Accuracy Training score gaps in target sentence  : 0.9429203465670091\n",
      "Average mcc Training score gaps in target sentence : 0.24001189407202586\n",
      "Average F1 Training score for whole target sentence class 0 : 0.5887600356824264\n",
      "Average F1 Training score for whole target sentence class 1 : 0.9155052060991304\n",
      "Average Accuracy Training score whole target sentence  : 0.8598135980874556\n",
      "Average mcc Training score whole target sentence : 0.551895563745738\n"
     ]
    },
    {
     "name": "stderr",
     "output_type": "stream",
     "text": [
      "  0%|          | 0/125 [00:00<?, ?it/s]"
     ]
    },
    {
     "name": "stdout",
     "output_type": "stream",
     "text": [
      "              precision    recall  f1-score   support\n",
      "\n",
      "           0       0.44      0.86      0.58     61913\n",
      "           1       0.98      0.84      0.90    427606\n",
      "\n",
      "    accuracy                           0.84    489519\n",
      "   macro avg       0.71      0.85      0.74    489519\n",
      "weighted avg       0.91      0.84      0.86    489519\n",
      "\n"
     ]
    },
    {
     "name": "stderr",
     "output_type": "stream",
     "text": [
      "INFO:numexpr.utils:Note: NumExpr detected 16 cores but \"NUMEXPR_MAX_THREADS\" not set, so enforcing safe limit of 8.INFO:numexpr.utils:Note: NumExpr detected 16 cores but \"NUMEXPR_MAX_THREADS\" not set, so enforcing safe limit of 8.\n",
      "\n",
      "INFO:numexpr.utils:NumExpr defaulting to 8 threads.INFO:numexpr.utils:NumExpr defaulting to 8 threads.\n",
      "\n",
      "/root/Thesis/src/code/code_files/engine.py:395: VisibleDeprecationWarning: Creating an ndarray from ragged nested sequences (which is a list-or-tuple of lists-or-tuples-or ndarrays with different lengths or shapes) is deprecated. If you meant to do this, you must specify 'dtype=object' when creating the ndarray\n",
      "  np_arr_labels = np.array(tar_labels)\n",
      "100%|██████████| 125/125 [00:14<00:00,  8.48it/s]\n"
     ]
    },
    {
     "name": "stdout",
     "output_type": "stream",
     "text": [
      "Average F1 Validation score for whole sentence class 0 : 0.46644518272425256\n",
      "Average F1 Validation score for whole sentence class 1 : 0.9059813334225404\n",
      "Average Accuracy Validation score whole sentence  : 0.8401331039092164\n",
      "Average mcc Validation score whole sentence : 0.3777503803283856\n",
      "Average F1 Validation score for source sentence class 0 : 0.4517206815903776\n",
      "Average F1 Validation score for source sentence class 1 : 0.884871728911859\n",
      "Average Accuracy Validation score source sentence  : 0.8097023579435639\n",
      "Average mcc Validation score source sentence : 0.3448741636208917\n",
      "Average F1 Validation score for target sentence class 0 : 0.5029093187718199\n",
      "Average F1 Validation score for target sentence class 1 : 0.8720831125751538\n",
      "Average Accuracy Validation score target sentence  : 0.7965263273606683\n",
      "Average mcc Validation score target sentence : 0.3803695714909161\n",
      "Average F1 Validation score for gaps in target sentence class 0 : 0.1673913043478261\n",
      "Average F1 Validation score for gaps in target sentence class 1 : 0.9770658682634731\n",
      "Average Accuracy Validation score gaps in target sentence  : 0.9553613053613054\n",
      "Average mcc Validation score gaps in target sentence : 0.1444647214535392\n",
      "Average F1 Validation score for whole target sentence class 0 : 0.4773798693242908\n",
      "Average F1 Validation score for whole target sentence class 1 : 0.9177331371808726\n",
      "Average Accuracy Validation score whole target sentence  : 0.8578434680884569\n",
      "Average mcc Validation score whole target sentence : 0.39877063655930234\n",
      "              precision    recall  f1-score   support\n",
      "\n",
      "           0       0.42      0.53      0.47      9274\n",
      "           1       0.93      0.89      0.91     61047\n",
      "\n",
      "    accuracy                           0.84     70321\n",
      "   macro avg       0.67      0.71      0.69     70321\n",
      "weighted avg       0.86      0.84      0.85     70321\n",
      "\n",
      "For gaps :                precision    recall  f1-score   support\n",
      "\n",
      "         0.0       0.17      0.17      0.17       456\n",
      "         1.0       0.98      0.98      0.98     16704\n",
      "\n",
      "    accuracy                           0.96     17160\n",
      "   macro avg       0.57      0.57      0.57     17160\n",
      "weighted avg       0.96      0.96      0.96     17160\n",
      "\n"
     ]
    },
    {
     "name": "stderr",
     "output_type": "stream",
     "text": [
      "  0%|          | 0/875 [00:00<?, ?it/s]"
     ]
    },
    {
     "name": "stdout",
     "output_type": "stream",
     "text": [
      "For tar :               precision    recall  f1-score   support\n",
      "\n",
      "         0.0       0.45      0.56      0.50      4982\n",
      "         1.0       0.90      0.85      0.87     22309\n",
      "\n",
      "    accuracy                           0.80     27291\n",
      "   macro avg       0.68      0.71      0.69     27291\n",
      "weighted avg       0.82      0.80      0.80     27291\n",
      "\n",
      "For source :                precision    recall  f1-score   support\n",
      "\n",
      "         0.0       0.39      0.53      0.45      3836\n",
      "         1.0       0.91      0.86      0.88     22034\n",
      "\n",
      "    accuracy                           0.81     25870\n",
      "   macro avg       0.65      0.69      0.67     25870\n",
      "weighted avg       0.84      0.81      0.82     25870\n",
      "\n",
      "Train Loss = 0.3545700069325311 Valid Loss = 0.8025541509389877\n",
      "Epoch 5 of 20\n"
     ]
    },
    {
     "name": "stderr",
     "output_type": "stream",
     "text": [
      "INFO:numexpr.utils:Note: NumExpr detected 16 cores but \"NUMEXPR_MAX_THREADS\" not set, so enforcing safe limit of 8.INFO:numexpr.utils:Note: NumExpr detected 16 cores but \"NUMEXPR_MAX_THREADS\" not set, so enforcing safe limit of 8.\n",
      "\n",
      "INFO:numexpr.utils:NumExpr defaulting to 8 threads.INFO:numexpr.utils:NumExpr defaulting to 8 threads.\n",
      "\n",
      "/root/Thesis/src/code/code_files/engine.py:395: VisibleDeprecationWarning: Creating an ndarray from ragged nested sequences (which is a list-or-tuple of lists-or-tuples-or ndarrays with different lengths or shapes) is deprecated. If you meant to do this, you must specify 'dtype=object' when creating the ndarray\n",
      "  np_arr_labels = np.array(tar_labels)\n",
      "100%|██████████| 875/875 [06:16<00:00,  2.32it/s]\n"
     ]
    },
    {
     "name": "stdout",
     "output_type": "stream",
     "text": [
      "Average F1 Training score for class 0 : 0.6284790457474522\n",
      "Average F1 Training score for class 1 : 0.9191109342155999\n",
      "Average Accuracy Training score  : 0.8671471383133239\n",
      "Average mcc Training score  : 0.5933565438103942\n",
      "Average F1 Training score for source sentence class 0 : 0.6148316408337787\n",
      "Average F1 Training score for source sentence class 1 : 0.8991971017330853\n",
      "Average Accuracy Training score source sentence  : 0.8402124144965133\n",
      "Average mcc Training score source sentence : 0.5723167355148027\n",
      "Average F1 Training score for target sentence class 0 : 0.6764117692554168\n",
      "Average F1 Training score for target sentence class 1 : 0.8986759755468909\n",
      "Average Accuracy Training score target sentence  : 0.8456751416150705\n",
      "Average mcc Training score target sentence : 0.6215953579408712\n",
      "Average F1 Training score for gaps in target sentence class 0 : 0.2865683950108236\n",
      "Average F1 Training score for gaps in target sentence class 1 : 0.9697750488027497\n",
      "Average Accuracy Training score gaps in target sentence  : 0.9420070050778435\n",
      "Average mcc Training score gaps in target sentence : 0.2783141500644045\n",
      "Average F1 Training score for whole target sentence class 0 : 0.6386715631486508\n",
      "Average F1 Training score for whole target sentence class 1 : 0.9301038943991229\n",
      "Average Accuracy Training score whole target sentence  : 0.882866358045659\n",
      "Average mcc Training score whole target sentence : 0.6071241090147029\n"
     ]
    },
    {
     "name": "stderr",
     "output_type": "stream",
     "text": [
      "  0%|          | 0/125 [00:00<?, ?it/s]"
     ]
    },
    {
     "name": "stdout",
     "output_type": "stream",
     "text": [
      "              precision    recall  f1-score   support\n",
      "\n",
      "           0       0.49      0.89      0.63     61913\n",
      "           1       0.98      0.86      0.92    427606\n",
      "\n",
      "    accuracy                           0.87    489519\n",
      "   macro avg       0.73      0.88      0.77    489519\n",
      "weighted avg       0.92      0.87      0.88    489519\n",
      "\n"
     ]
    },
    {
     "name": "stderr",
     "output_type": "stream",
     "text": [
      "INFO:numexpr.utils:Note: NumExpr detected 16 cores but \"NUMEXPR_MAX_THREADS\" not set, so enforcing safe limit of 8.INFO:numexpr.utils:Note: NumExpr detected 16 cores but \"NUMEXPR_MAX_THREADS\" not set, so enforcing safe limit of 8.\n",
      "\n",
      "INFO:numexpr.utils:NumExpr defaulting to 8 threads.INFO:numexpr.utils:NumExpr defaulting to 8 threads.\n",
      "\n",
      "/root/Thesis/src/code/code_files/engine.py:395: VisibleDeprecationWarning: Creating an ndarray from ragged nested sequences (which is a list-or-tuple of lists-or-tuples-or ndarrays with different lengths or shapes) is deprecated. If you meant to do this, you must specify 'dtype=object' when creating the ndarray\n",
      "  np_arr_labels = np.array(tar_labels)\n",
      "100%|██████████| 125/125 [00:13<00:00,  9.12it/s]\n"
     ]
    },
    {
     "name": "stdout",
     "output_type": "stream",
     "text": [
      "Average F1 Validation score for whole sentence class 0 : 0.4650880388585307\n",
      "Average F1 Validation score for whole sentence class 1 : 0.9039427665623873\n",
      "Average Accuracy Validation score whole sentence  : 0.8371325777506008\n",
      "Average mcc Validation score whole sentence : 0.37572311594601393\n",
      "Average F1 Validation score for source sentence class 0 : 0.45183811497763715\n",
      "Average F1 Validation score for source sentence class 1 : 0.8819674441547459\n",
      "Average Accuracy Validation score source sentence  : 0.8057595670660997\n",
      "Average mcc Validation score source sentence : 0.3443521945912085\n",
      "Average F1 Validation score for target sentence class 0 : 0.5046258870026049\n",
      "Average F1 Validation score for target sentence class 1 : 0.8730695758245299\n",
      "Average Accuracy Validation score target sentence  : 0.7979187277857169\n",
      "Average mcc Validation score target sentence : 0.3827744040622879\n",
      "Average F1 Validation score for gaps in target sentence class 0 : 0.1782178217821782\n",
      "Average F1 Validation score for gaps in target sentence class 1 : 0.9725074527989401\n",
      "Average Accuracy Validation score gaps in target sentence  : 0.9467948717948718\n",
      "Average mcc Validation score gaps in target sentence : 0.1542966830983951\n",
      "Average F1 Validation score for whole target sentence class 0 : 0.47500816726559947\n",
      "Average F1 Validation score for whole target sentence class 1 : 0.9161470427091758\n",
      "Average Accuracy Validation score whole target sentence  : 0.8553913297788576\n",
      "Average mcc Validation score whole target sentence : 0.39568915870588467\n",
      "              precision    recall  f1-score   support\n",
      "\n",
      "           0       0.41      0.54      0.47      9274\n",
      "           1       0.93      0.88      0.90     61047\n",
      "\n",
      "    accuracy                           0.84     70321\n",
      "   macro avg       0.67      0.71      0.68     70321\n",
      "weighted avg       0.86      0.84      0.85     70321\n",
      "\n",
      "For gaps :                precision    recall  f1-score   support\n",
      "\n",
      "         0.0       0.15      0.22      0.18       456\n",
      "         1.0       0.98      0.97      0.97     16704\n",
      "\n",
      "    accuracy                           0.95     17160\n",
      "   macro avg       0.56      0.59      0.58     17160\n",
      "weighted avg       0.96      0.95      0.95     17160\n",
      "\n"
     ]
    },
    {
     "name": "stderr",
     "output_type": "stream",
     "text": [
      "  0%|          | 0/875 [00:00<?, ?it/s]"
     ]
    },
    {
     "name": "stdout",
     "output_type": "stream",
     "text": [
      "For tar :               precision    recall  f1-score   support\n",
      "\n",
      "         0.0       0.46      0.56      0.50      4982\n",
      "         1.0       0.90      0.85      0.87     22309\n",
      "\n",
      "    accuracy                           0.80     27291\n",
      "   macro avg       0.68      0.71      0.69     27291\n",
      "weighted avg       0.82      0.80      0.81     27291\n",
      "\n",
      "For source :                precision    recall  f1-score   support\n",
      "\n",
      "         0.0       0.39      0.54      0.45      3836\n",
      "         1.0       0.91      0.85      0.88     22034\n",
      "\n",
      "    accuracy                           0.81     25870\n",
      "   macro avg       0.65      0.70      0.67     25870\n",
      "weighted avg       0.84      0.81      0.82     25870\n",
      "\n",
      "Train Loss = 0.3049503469126565 Valid Loss = 0.9200717902183533\n",
      "Epoch 6 of 20\n"
     ]
    },
    {
     "name": "stderr",
     "output_type": "stream",
     "text": [
      "INFO:numexpr.utils:Note: NumExpr detected 16 cores but \"NUMEXPR_MAX_THREADS\" not set, so enforcing safe limit of 8.INFO:numexpr.utils:Note: NumExpr detected 16 cores but \"NUMEXPR_MAX_THREADS\" not set, so enforcing safe limit of 8.\n",
      "\n",
      "INFO:numexpr.utils:NumExpr defaulting to 8 threads.INFO:numexpr.utils:NumExpr defaulting to 8 threads.\n",
      "\n",
      "/root/Thesis/src/code/code_files/engine.py:395: VisibleDeprecationWarning: Creating an ndarray from ragged nested sequences (which is a list-or-tuple of lists-or-tuples-or ndarrays with different lengths or shapes) is deprecated. If you meant to do this, you must specify 'dtype=object' when creating the ndarray\n",
      "  np_arr_labels = np.array(tar_labels)\n",
      "100%|██████████| 875/875 [06:10<00:00,  2.36it/s]\n"
     ]
    },
    {
     "name": "stdout",
     "output_type": "stream",
     "text": [
      "Average F1 Training score for class 0 : 0.6711178117596382\n",
      "Average F1 Training score for class 1 : 0.9322913202527435\n",
      "Average Accuracy Training score  : 0.8877020095236344\n",
      "Average mcc Training score  : 0.6399892572907188\n",
      "Average F1 Training score for source sentence class 0 : 0.6583982092830093\n",
      "Average F1 Training score for source sentence class 1 : 0.9162614616369478\n",
      "Average Accuracy Training score source sentence  : 0.8654948393033337\n",
      "Average mcc Training score source sentence : 0.6208103691328786\n",
      "Average F1 Training score for target sentence class 0 : 0.7250655938429246\n",
      "Average F1 Training score for target sentence class 1 : 0.9197501659320274\n",
      "Average Accuracy Training score target sentence  : 0.8757634040310894\n",
      "Average mcc Training score target sentence : 0.678401071779922\n",
      "Average F1 Training score for gaps in target sentence class 0 : 0.31177606177606176\n",
      "Average F1 Training score for gaps in target sentence class 1 : 0.9687724461729823\n",
      "Average Accuracy Training score gaps in target sentence  : 0.9402557356169664\n",
      "Average mcc Training score gaps in target sentence : 0.31137389421925354\n",
      "Average F1 Training score for whole target sentence class 0 : 0.680518129324247\n",
      "Average F1 Training score for whole target sentence class 1 : 0.9411877368952288\n",
      "Average Accuracy Training score whole target sentence  : 0.9006622088076683\n",
      "Average mcc Training score whole target sentence : 0.6525742309559289\n"
     ]
    },
    {
     "name": "stderr",
     "output_type": "stream",
     "text": [
      "  0%|          | 0/125 [00:00<?, ?it/s]"
     ]
    },
    {
     "name": "stdout",
     "output_type": "stream",
     "text": [
      "              precision    recall  f1-score   support\n",
      "\n",
      "           0       0.53      0.91      0.67     61913\n",
      "           1       0.98      0.89      0.93    427606\n",
      "\n",
      "    accuracy                           0.89    489519\n",
      "   macro avg       0.76      0.90      0.80    489519\n",
      "weighted avg       0.93      0.89      0.90    489519\n",
      "\n"
     ]
    },
    {
     "name": "stderr",
     "output_type": "stream",
     "text": [
      "INFO:numexpr.utils:Note: NumExpr detected 16 cores but \"NUMEXPR_MAX_THREADS\" not set, so enforcing safe limit of 8.INFO:numexpr.utils:Note: NumExpr detected 16 cores but \"NUMEXPR_MAX_THREADS\" not set, so enforcing safe limit of 8.\n",
      "\n",
      "INFO:numexpr.utils:NumExpr defaulting to 8 threads.INFO:numexpr.utils:NumExpr defaulting to 8 threads.\n",
      "\n",
      "/root/Thesis/src/code/code_files/engine.py:395: VisibleDeprecationWarning: Creating an ndarray from ragged nested sequences (which is a list-or-tuple of lists-or-tuples-or ndarrays with different lengths or shapes) is deprecated. If you meant to do this, you must specify 'dtype=object' when creating the ndarray\n",
      "  np_arr_labels = np.array(tar_labels)\n",
      "100%|██████████| 125/125 [00:13<00:00,  8.99it/s]\n"
     ]
    },
    {
     "name": "stdout",
     "output_type": "stream",
     "text": [
      "Average F1 Validation score for whole sentence class 0 : 0.4193510043979556\n",
      "Average F1 Validation score for whole sentence class 1 : 0.9210925890030367\n",
      "Average Accuracy Validation score whole sentence  : 0.8610656845039177\n",
      "Average mcc Validation score whole sentence : 0.34370468699446993\n",
      "Average F1 Validation score for source sentence class 0 : 0.41256106071179344\n",
      "Average F1 Validation score for source sentence class 1 : 0.9055748738081885\n",
      "Average Accuracy Validation score source sentence  : 0.8373018940858137\n",
      "Average mcc Validation score source sentence : 0.3197629470874685\n",
      "Average F1 Validation score for target sentence class 0 : 0.45018701122067317\n",
      "Average F1 Validation score for target sentence class 1 : 0.8939880679210647\n",
      "Average Accuracy Validation score target sentence  : 0.8222490931076178\n",
      "Average mcc Validation score target sentence : 0.35045056127809426\n",
      "Average F1 Validation score for gaps in target sentence class 0 : 0.15274463007159905\n",
      "Average F1 Validation score for gaps in target sentence class 1 : 0.9787945761901916\n",
      "Average Accuracy Validation score gaps in target sentence  : 0.9586247086247086\n",
      "Average mcc Validation score gaps in target sentence : 0.13225134359613233\n",
      "Average F1 Validation score for whole target sentence class 0 : 0.42438670945036744\n",
      "Average F1 Validation score for whole target sentence class 1 : 0.9298216832195454\n",
      "Average Accuracy Validation score whole target sentence  : 0.8748959528469551\n",
      "Average mcc Validation score whole target sentence : 0.3590291862465677\n",
      "              precision    recall  f1-score   support\n",
      "\n",
      "           0       0.47      0.38      0.42      9274\n",
      "           1       0.91      0.93      0.92     61047\n",
      "\n",
      "    accuracy                           0.86     70321\n",
      "   macro avg       0.69      0.66      0.67     70321\n",
      "weighted avg       0.85      0.86      0.85     70321\n",
      "\n",
      "For gaps :                precision    recall  f1-score   support\n",
      "\n",
      "         0.0       0.17      0.14      0.15       456\n",
      "         1.0       0.98      0.98      0.98     16704\n",
      "\n",
      "    accuracy                           0.96     17160\n",
      "   macro avg       0.57      0.56      0.57     17160\n",
      "weighted avg       0.96      0.96      0.96     17160\n",
      "\n",
      "For tar :               precision    recall  f1-score   support\n",
      "\n",
      "         0.0       0.52      0.40      0.45      4982\n",
      "         1.0       0.87      0.92      0.89     22309\n",
      "\n",
      "    accuracy                           0.82     27291\n",
      "   macro avg       0.69      0.66      0.67     27291\n",
      "weighted avg       0.81      0.82      0.81     27291\n",
      "\n",
      "For source :                precision    recall  f1-score   support\n",
      "\n",
      "         0.0       0.44      0.39      0.41      3836\n",
      "         1.0       0.90      0.92      0.91     22034\n",
      "\n",
      "    accuracy                           0.84     25870\n",
      "   macro avg       0.67      0.65      0.66     25870\n",
      "weighted avg       0.83      0.84      0.83     25870\n",
      "\n",
      "Train Loss = 0.2616177035868168 Valid Loss = 1.285486651778221\n",
      "terminating because of early stopping!\n"
     ]
    }
   ],
   "source": [
    "best_accuracy = -1\n",
    "train_loss_lst = []\n",
    "val_loss_lst = []\n",
    "with open('metrics_xlmroberta_trainData_wl_dropout.txt', 'w') as f:\n",
    "    f.write('metrics_xlmroberta_lessData_wl_dropout'+'\\n')\n",
    "    for epoch in range(config.EPOCHS):\n",
    "            print(f'Epoch {epoch+1} of {config.EPOCHS}')\n",
    "            train_metrics = engine.train_fn(train_dataloader, model, optimizer, scheduler)\n",
    "            print(classification_report(train_metrics[21],train_metrics[22]))\n",
    "            test_metrics = engine.eval_fn(val_dataloader, model)\n",
    "            print(classification_report(test_metrics[21],test_metrics[22]))\n",
    "            print('For gaps : ',classification_report(test_metrics[27],test_metrics[28]) )\n",
    "            print('For tar :',classification_report(test_metrics[25],test_metrics[26]) )\n",
    "            print('For source : ',classification_report(test_metrics[23],test_metrics[24]) )\n",
    "            print(f\"Train Loss = {train_metrics[0]} Valid Loss = {test_metrics[0]}\")\n",
    "            train_loss_lst.append(train_metrics[:-14])\n",
    "            val_loss_lst.append(test_metrics[:-14])\n",
    "            f.write(f\"Train_loss {epoch+1} : {str(train_loss_lst)}\" + '\\n')\n",
    "            f.write(f\"val_loss {epoch+1} : {str(val_loss_lst)}\" + '\\n')\n",
    "            if early_stopping.step(float(\"{:.3f}\".format(test_metrics[4]))): #mcc score for early stopping \"{:.2f}\".format(a_float)\n",
    "                  break  # early stop criterion is met, we can stop now\n",
    "            if float(\"{:.2f}\".format(test_metrics[4])) >  best_accuracy:\n",
    "                torch.save(model.state_dict(), '../models/training_data/model_xlmrobertatokenclassificationmodel_trainData_weightedlss_dropout.bin')\n",
    "                best_accuracy = float(\"{:.3f}\".format(test_metrics[4]))"
   ]
  },
  {
   "cell_type": "code",
   "execution_count": 17,
   "metadata": {},
   "outputs": [
    {
     "name": "stdout",
     "output_type": "stream",
     "text": [
      "loss_train : [0.5633650638375963, 0.48806753952162607, 0.42049374060971395, 0.3545700069325311, 0.3049503469126565, 0.2616177035868168] \n",
      " loss_test :  [0.5268946177959443, 0.5149601140022277, 0.8076155297756195, 0.8025541509389877, 0.9200717902183533, 1.285486651778221] \n",
      " f1_class0_train : [0.37702026796295923, 0.4469428419700526, 0.5129847958384381, 0.5779671888759635, 0.6284790457474522, 0.6711178117596382] \n",
      " f1_class0_test : [0.45362443455830126, 0.4613742305091983, 0.44280571362211124, 0.46644518272425256, 0.4650880388585307, 0.4193510043979556] \n",
      " f1_class1_train : [0.787612498168117, 0.8394016757192055, 0.8756324674758488, 0.9023514733182739, 0.9191109342155999, 0.9322913202527435] \n",
      " f1_class1_test : [0.8716778028500434, 0.8654955171096242, 0.9222492302706206, 0.9059813334225404, 0.9039427665623873, 0.9210925890030367] \n",
      " accuracy_score_train : [0.6832216931314209, 0.7510842275785006, 0.8018626447594476, 0.8413994145273217, 0.8671471383133239, 0.8877020095236344] \n",
      " accuracy_score_test : [0.7921673468807326, 0.7847442442513616, 0.8635400520470414, 0.8401331039092164, 0.8371325777506008, 0.8610656845039177] \n",
      " mcc_score_train : [0.29436301176777724, 0.3835918548075642, 0.4614320287199055, 0.5359380954788955, 0.5933565438103942, 0.6399892572907188] \n",
      " mcc_score_test : [0.3659041943914234, 0.37964316132563963, 0.3669926891098536, 0.3777503803283856, 0.37572311594601393, 0.34370468699446993] \n",
      " f1_class0_train_src : [0.3605080874296644, 0.4319464330834667, 0.4975103443439232, 0.5634956990889194, 0.6148316408337787, 0.6583982092830093] \n",
      " f1_class0_test_src : [0.43543596016075486, 0.44511894995898277, 0.42427556041552766, 0.4517206815903776, 0.45183811497763715, 0.41256106071179344] \n",
      " f1_class1_train : [0.787612498168117, 0.8394016757192055, 0.8756324674758488, 0.9023514733182739, 0.9191109342155999, 0.9322913202527435] \n",
      " f1_class1_test : [0.8716778028500434, 0.8654955171096242, 0.9222492302706206, 0.9059813334225404, 0.9039427665623873, 0.9210925890030367] \n",
      " accuracy_score_train : [0.6832216931314209, 0.7510842275785006, 0.8018626447594476, 0.8413994145273217, 0.8671471383133239, 0.8877020095236344] \n",
      " accuracy_score_test : [0.7921673468807326, 0.7847442442513616, 0.8635400520470414, 0.8401331039092164, 0.8371325777506008, 0.8610656845039177] \n",
      " mcc_score_train : [0.29436301176777724, 0.3835918548075642, 0.4614320287199055, 0.5359380954788955, 0.5933565438103942, 0.6399892572907188] \n",
      " mcc_score_test_src : [0.3255004790380368, 0.34294367215976973, 0.3302537137423774, 0.3448741636208917, 0.3443521945912085, 0.3197629470874685] \n",
      " f1_class0_train_tar : [0.40072122784643127, 0.47553025511279773, 0.5487611769056446, 0.6204875615686763, 0.6764117692554168, 0.7250655938429246] \n",
      " f1_class0_test_tar : [0.48187719772788745, 0.49273236431524203, 0.4804662205914095, 0.5029093187718199, 0.5046258870026049, 0.45018701122067317] \n",
      " f1_class1_train_tar : [0.6636914065713486, 0.7617051441708975, 0.8263726481007855, 0.8710909373279306, 0.8986759755468909, 0.9197501659320274] \n",
      " f1_class1_test_tar : [0.8074584108157008, 0.8078011317704124, 0.8937682054903345, 0.8720831125751538, 0.8730695758245299, 0.8939880679210647] \n",
      " accuracy_score_train_tar : [0.569163483072059, 0.6723014095639573, 0.7492346199446713, 0.8075510472928468, 0.8456751416150705, 0.8757634040310894] \n",
      " accuracy_score_test_tar : [0.7192481037704738, 0.7212267780587007, 0.8236048514162178, 0.7965263273606683, 0.7979187277857169, 0.8222490931076178] \n",
      " mcc_score_train_tar : [0.257874506265835, 0.3692371478966561, 0.46511609006698396, 0.5541853022567279, 0.6215953579408712, 0.678401071779922] \n",
      " mcc_score_test_tar : [0.3504968782108821, 0.36733760105630203, 0.3765090231773302, 0.3803695714909161, 0.3827744040622879, 0.35045056127809426] \n",
      " f1_class0_train_gaps : [0.07275768346226218, 0.15621301775147928, 0.212065364295368, 0.25470459518599564, 0.2865683950108236, 0.31177606177606176] \n",
      " f1_class0_test_gaps : [0.04660194174757282, 0.1639344262295082, 0.109375, 0.1673913043478261, 0.1782178217821782, 0.15274463007159905] \n",
      " f1_class1_train_gaps : [0.9810389865797923, 0.9754057363619116, 0.9721833047778091, 0.9703237723486564, 0.9697750488027497, 0.9687724461729823] \n",
      " f1_class1_test_gaps : [0.9854755213725781, 0.9770992366412214, 0.9830760095011877, 0.9770658682634731, 0.9725074527989401, 0.9787945761901916] \n",
      " accuracy_score_train_gaps : [0.9628378944545927, 0.9522045884935731, 0.9462636791741382, 0.9429203465670091, 0.9420070050778435, 0.9402557356169664] \n",
      " accuracy_score_test_gaps : [0.9713869463869463, 0.9554195804195804, 0.9667832167832168, 0.9553613053613054, 0.9467948717948718, 0.9586247086247086] \n",
      " mcc_score_train_gaps : [0.05939981060396274, 0.13193897196611518, 0.1904899420105387, 0.24001189407202586, 0.2783141500644045, 0.31137389421925354] \n",
      " mcc_score_test_gaps : [0.06457470451164811, 0.14103471593779296, 0.10592923665562581, 0.1444647214535392, 0.1542966830983951, 0.13225134359613233]\n"
     ]
    }
   ],
   "source": [
    "train_metrices = np.array(train_loss_lst)\n",
    "test_metrices = np.array(val_loss_lst)\n",
    "loss_train = train_metrices[:,0]\n",
    "loss_test = test_metrices[:,0]\n",
    "f1_class0_train = train_metrices[:,1]\n",
    "f1_class0_test= test_metrices[:,1]\n",
    "f1_class1_train = train_metrices[:,2]\n",
    "f1_class1_test = test_metrices[:,2]\n",
    "accuracy_score_train = train_metrices[:,3]\n",
    "accuracy_score_test = test_metrices[:,3]\n",
    "mcc_score_train = train_metrices[:,4]\n",
    "mcc_score_test = test_metrices[:,4]\n",
    "f1_class0_train_src = train_metrices[:,5]\n",
    "f1_class0_test_src= test_metrices[:,5]\n",
    "f1_class1_train_src = train_metrices[:,6]\n",
    "f1_class1_test_src = test_metrices[:,6]\n",
    "accuracy_score_train_src = train_metrices[:,7]\n",
    "accuracy_score_test_src = test_metrices[:,7]\n",
    "mcc_score_train_src = train_metrices[:,8]\n",
    "mcc_score_test_src = test_metrices[:,8]\n",
    "\n",
    "f1_class0_train_tar = train_metrices[:,9]\n",
    "f1_class0_test_tar= test_metrices[:,9]\n",
    "f1_class1_train_tar = train_metrices[:,10]\n",
    "f1_class1_test_tar = test_metrices[:,10]\n",
    "accuracy_score_train_tar = train_metrices[:,11]\n",
    "accuracy_score_test_tar = test_metrices[:,11]\n",
    "mcc_score_train_tar = train_metrices[:,12]\n",
    "mcc_score_test_tar = test_metrices[:,12]\n",
    "\n",
    "f1_class0_train_gaps = train_metrices[:,13]\n",
    "f1_class0_test_gaps= test_metrices[:,13]\n",
    "f1_class1_train_gaps = train_metrices[:,14]\n",
    "f1_class1_test_gaps = test_metrices[:,14]\n",
    "accuracy_score_train_gaps = train_metrices[:,15]\n",
    "accuracy_score_test_gaps = test_metrices[:,15]\n",
    "mcc_score_train_gaps = train_metrices[:,16]\n",
    "mcc_score_test_gaps = test_metrices[:,16]\n",
    "print('loss_train :',list(loss_train),'\\n','loss_test : ',list(loss_test),'\\n','f1_class0_train :',list(f1_class0_train),'\\n','f1_class0_test :',list(f1_class0_test),'\\n','f1_class1_train :',list(f1_class1_train),'\\n','f1_class1_test :',list(f1_class1_test),'\\n','accuracy_score_train :',list(accuracy_score_train),'\\n','accuracy_score_test :',list(accuracy_score_test),'\\n','mcc_score_train :',list(mcc_score_train),'\\n',\n",
    "    'mcc_score_test :', list(mcc_score_test),'\\n','f1_class0_train_src :',list(f1_class0_train_src),'\\n','f1_class0_test_src :',list(f1_class0_test_src),'\\n','f1_class1_train :',list(f1_class1_train),'\\n','f1_class1_test :',list(f1_class1_test),'\\n','accuracy_score_train :',list(accuracy_score_train),'\\n','accuracy_score_test :',list(accuracy_score_test),'\\n','mcc_score_train :',list(mcc_score_train),'\\n',\n",
    "    'mcc_score_test_src :', list(mcc_score_test_src), '\\n','f1_class0_train_tar :',list(f1_class0_train_tar),'\\n','f1_class0_test_tar :',list(f1_class0_test_tar),'\\n','f1_class1_train_tar :',list(f1_class1_train_tar),'\\n','f1_class1_test_tar :',list(f1_class1_test_tar),'\\n','accuracy_score_train_tar :',list(accuracy_score_train_tar),'\\n','accuracy_score_test_tar :',list(accuracy_score_test_tar),'\\n','mcc_score_train_tar :',list(mcc_score_train_tar),'\\n',\n",
    "    'mcc_score_test_tar :', list(mcc_score_test_tar),'\\n','f1_class0_train_gaps :',list(f1_class0_train_gaps),'\\n','f1_class0_test_gaps :',list(f1_class0_test_gaps),'\\n','f1_class1_train_gaps :',list(f1_class1_train_gaps),'\\n','f1_class1_test_gaps :',list(f1_class1_test_gaps),'\\n','accuracy_score_train_gaps :',list(accuracy_score_train_gaps),'\\n','accuracy_score_test_gaps :',list(accuracy_score_test_gaps),'\\n','mcc_score_train_gaps :',list(mcc_score_train_gaps),'\\n',\n",
    "    'mcc_score_test_gaps :', list(mcc_score_test_gaps))"
   ]
  },
  {
   "cell_type": "code",
   "execution_count": 20,
   "metadata": {},
   "outputs": [
    {
     "data": {
      "image/png": "[encoded data removed]",
      "text/plain": [
       "<Figure size 432x288 with 1 Axes>"
      ]
     },
     "metadata": {
      "needs_background": "light"
     },
     "output_type": "display_data"
    },
    {
     "data": {
      "image/png": "[encoded data removed]",
      "text/plain": [
       "<Figure size 432x288 with 1 Axes>"
      ]
     },
     "metadata": {
      "needs_background": "light"
     },
     "output_type": "display_data"
    },
    {
     "data": {
      "image/png": "[encoded data removed]",
      "text/plain": [
       "<Figure size 432x288 with 1 Axes>"
      ]
     },
     "metadata": {
      "needs_background": "light"
     },
     "output_type": "display_data"
    },
    {
     "data": {
      "image/png": "[encoded data removed]",
      "text/plain": [
       "<Figure size 432x288 with 1 Axes>"
      ]
     },
     "metadata": {
      "needs_background": "light"
     },
     "output_type": "display_data"
    },
    {
     "data": {
      "image/png": "[encoded data removed]",
      "text/plain": [
       "<Figure size 432x288 with 1 Axes>"
      ]
     },
     "metadata": {
      "needs_background": "light"
     },
     "output_type": "display_data"
    }
   ],
   "source": [
    "plot_against_epochs(loss_train[:-1],loss_test[:-1],label1 = 'train_loss', \n",
    "                    label2 = 'validation_loss', y_label = 'loss', title ='XMLRobertaForTokenClassification_earlyStopping-trainData', epochs = epoch )\n",
    "plot_against_epochs(mcc_score_train[:-1],mcc_score_test[:-1],label1 = 'mcc_train', \n",
    "                    label2 = 'mcc_test', y_label = 'mcc_score', title ='XMLRobertaForTokenClassification_earlyStopping-trainData', epochs = epoch )\n",
    "plot_against_epochs(mcc_score_train_gaps[:-1],mcc_score_test_gaps[:-1],label1 = 'mcc_train_gaps', \n",
    "                    label2 = 'mcc_test_gaps', y_label = 'mcc_score', title ='XMLRobertaForTokenClassification_earlyStopping-trainData', epochs = epoch )\n",
    "plot_against_epochs(mcc_score_train_src[:-1],mcc_score_test_src[:-1],label1 = 'mcc_train_src', \n",
    "                    label2 = 'mcc_test_src', y_label = 'mcc_score', title ='XMLRobertaForTokenClassification_earlyStopping-trainData', epochs = epoch )\n",
    "\n",
    "plot_against_epochs(mcc_score_train_tar[:-1],mcc_score_test_tar[:-1],label1 = 'mcc_train_tar', \n",
    "                    label2 = 'mcc_test_tar', y_label = 'mcc_score', title ='XMLRobertaForTokenClassification_earlyStopping-trainData', epochs = epoch )\n"
   ]
  },
  {
   "cell_type": "code",
   "execution_count": 21,
   "metadata": {},
   "outputs": [
    {
     "name": "stdout",
     "output_type": "stream",
     "text": [
      "Max mcc achieved for dev data(whole sentence) is 0.37964316132563963 ,in the 2th epoch \n",
      "Max mcc achieved for gaps is 0.1542966830983951 ,in the 5th epoch \n",
      "Max mcc achieved for target tokens is 0.3827744040622879 ,in the 5th epoch \n",
      "Max mcc achieved for source tokens is 0.3448741636208917 ,in the 4th epoch \n"
     ]
    }
   ],
   "source": [
    "print('Max mcc achieved for dev data(whole sentence) is', np.amax(mcc_score_test),f',in the {np.argmax(mcc_score_test)+1}th epoch ')\n",
    "print('Max mcc achieved for gaps is', np.amax(mcc_score_test_gaps),f',in the {np.argmax(mcc_score_test_gaps)+1}th epoch ')\n",
    "print('Max mcc achieved for target tokens is', np.amax(mcc_score_test_tar),f',in the {np.argmax(mcc_score_test_tar)+1}th epoch ')\n",
    "print('Max mcc achieved for source tokens is', np.amax(mcc_score_test_src),f',in the {np.argmax(mcc_score_test_src)+1}th epoch ')"
   ]
  },
  {
   "cell_type": "markdown",
   "metadata": {},
   "source": [
    "<h3> Large model with weighted loss function and Dropout </h3>"
   ]
  },
  {
   "cell_type": "code",
   "execution_count": 13,
   "metadata": {},
   "outputs": [],
   "source": [
    "class EntityModel(nn.Module):\n",
    "    \n",
    "    def __init__(self,dropout=0.5):\n",
    "        \n",
    "        super(EntityModel, self).__init__()\n",
    "        self.bert = XLMRobertaModel.from_pretrained(config.BASE_MODEL_LARGE,output_attentions = False, output_hidden_states = False)\n",
    "        self.bert_drop_1 = nn.Dropout(0.5)\n",
    "        self.out_tag = nn.Linear(1024, 2)\n",
    "        self.softmax = nn.Softmax(dim=2)\n",
    "    \n",
    "    def forward(self, ids, attention_mask):\n",
    "        \n",
    "        outputs = self.bert(ids,\n",
    "                                attention_mask = attention_mask,\n",
    "                                return_dict=False)\n",
    "        bo_tag = self.bert_drop_1(outputs[0])\n",
    "        \n",
    "        tag = self.out_tag(bo_tag)  \n",
    "        softmax_prob = self.softmax(tag)\n",
    "        \n",
    "#         loss_tag = ClassificationCost(outputs[0],labels,attention_mask)\n",
    "        \n",
    "#         return bo_tag,loss\n",
    "        return softmax_prob, tag\n",
    "        "
   ]
  },
  {
   "cell_type": "code",
   "execution_count": 14,
   "metadata": {},
   "outputs": [
    {
     "name": "stderr",
     "output_type": "stream",
     "text": [
      "Some weights of the model checkpoint at xlm-roberta-large were not used when initializing XLMRobertaModel: ['lm_head.decoder.weight', 'lm_head.dense.bias', 'lm_head.bias', 'lm_head.dense.weight', 'lm_head.layer_norm.weight', 'lm_head.layer_norm.bias']\n",
      "- This IS expected if you are initializing XLMRobertaModel from the checkpoint of a model trained on another task or with another architecture (e.g. initializing a BertForSequenceClassification model from a BertForPreTraining model).\n",
      "- This IS NOT expected if you are initializing XLMRobertaModel from the checkpoint of a model that you expect to be exactly identical (initializing a BertForSequenceClassification model from a BertForSequenceClassification model).\n"
     ]
    }
   ],
   "source": [
    "model = EntityModel(dropout = 0.5)\n",
    "model.cuda()\n",
    "model = nn.DataParallel(model)"
   ]
  },
  {
   "cell_type": "code",
   "execution_count": 15,
   "metadata": {},
   "outputs": [],
   "source": [
    "for name,param in model.named_parameters():\n",
    "    if 'classifier' not in name:\n",
    "        param.requires_grad = True"
   ]
  },
  {
   "cell_type": "code",
   "execution_count": 16,
   "metadata": {},
   "outputs": [
    {
     "name": "stderr",
     "output_type": "stream",
     "text": [
      "/opt/conda/lib/python3.6/site-packages/transformers/optimization.py:309: FutureWarning: This implementation of AdamW is deprecated and will be removed in a future version. Use thePyTorch implementation torch.optim.AdamW instead, or set `no_deprecation_warning=True` to disable this warning\n",
      "  FutureWarning,\n"
     ]
    }
   ],
   "source": [
    "param_optimizer = list(model.named_parameters())\n",
    "no_decay = [\"bias\", \"LayerNorm.bias\", \"LayerNorm.weight\"]\n",
    "optimizer_parameters = [\n",
    "    {\n",
    "        \"params\": [\n",
    "            p for n, p in param_optimizer if not any(nd in n for nd in no_decay)\n",
    "        ],\n",
    "        \"weight_decay\": 0.001,\n",
    "    },\n",
    "    {\n",
    "        \"params\": [\n",
    "            p for n, p in param_optimizer if any(nd in n for nd in no_decay)\n",
    "        ],\n",
    "        \"weight_decay\": 0.0,\n",
    "    },\n",
    "]\n",
    "num_train_steps = int(len(dataset_train) / config.TRAIN_BATCH_SIZE * config.EPOCHS) #10 is the batchsize\n",
    "optimizer = AdamW(optimizer_parameters, lr=2e-5) # used 3e-5\n",
    "scheduler = get_linear_schedule_with_warmup(\n",
    "    optimizer, num_warmup_steps=0, num_training_steps=num_train_steps\n",
    ")\n",
    "early_stopping = EarlyStopping(patience=4)"
   ]
  },
  {
   "cell_type": "code",
   "execution_count": 26,
   "metadata": {},
   "outputs": [],
   "source": [
    "engine = reload(engine)"
   ]
  },
  {
   "cell_type": "code",
   "execution_count": 17,
   "metadata": {},
   "outputs": [
    {
     "name": "stderr",
     "output_type": "stream",
     "text": [
      "  0%|          | 0/1750 [00:00<?, ?it/s]"
     ]
    },
    {
     "name": "stdout",
     "output_type": "stream",
     "text": [
      "Epoch 1 of 20\n"
     ]
    },
    {
     "name": "stderr",
     "output_type": "stream",
     "text": [
      "INFO:numexpr.utils:Note: NumExpr detected 48 cores but \"NUMEXPR_MAX_THREADS\" not set, so enforcing safe limit of 8.INFO:numexpr.utils:Note: NumExpr detected 48 cores but \"NUMEXPR_MAX_THREADS\" not set, so enforcing safe limit of 8.\n",
      "\n",
      "INFO:numexpr.utils:NumExpr defaulting to 8 threads.INFO:numexpr.utils:NumExpr defaulting to 8 threads.\n",
      "\n",
      "/root/Thesis/src/code/code_files/engine.py:405: VisibleDeprecationWarning: Creating an ndarray from ragged nested sequences (which is a list-or-tuple of lists-or-tuples-or ndarrays with different lengths or shapes) is deprecated. If you meant to do this, you must specify 'dtype=object' when creating the ndarray\n",
      "  np_arr_labels = np.array(tar_labels)\n",
      "100%|██████████| 1750/1750 [39:47<00:00,  1.36s/it]\n"
     ]
    },
    {
     "name": "stdout",
     "output_type": "stream",
     "text": [
      "Average F1 Training score for class 0 : 0.37446393261600885\n",
      "Average F1 Training score for class 1 : 0.8039233047845966\n",
      "Average Accuracy Training score  : 0.7014334479356266\n",
      "Average mcc Training score  : 0.2836559941169746\n",
      "Average F1 Training score for source sentence class 0 : 0.35912249354774667\n",
      "Average F1 Training score for source sentence class 1 : 0.7517457241294451\n",
      "Average Accuracy Training score source sentence  : 0.6421214842407512\n",
      "Average mcc Training score source sentence : 0.2405641732529432\n",
      "Average F1 Training score for target sentence class 0 : 0.4002046921744607\n",
      "Average F1 Training score for target sentence class 1 : 0.6983091117886983\n",
      "Average Accuracy Training score target sentence  : 0.5985456461599262\n",
      "Average mcc Training score target sentence : 0.2493989275408621\n",
      "Average F1 Training score for gaps in target sentence class 0 : 0.08154943934760447\n",
      "Average F1 Training score for gaps in target sentence class 1 : 0.9767781510150431\n",
      "Average Accuracy Training score gaps in target sentence  : 0.9547016138492735\n",
      "Average mcc Training score gaps in target sentence : 0.058694393298650636\n",
      "Average F1 Training score for whole target sentence class 0 : 0.38609242622605455\n",
      "Average F1 Training score for whole target sentence class 1 : 0.8318827679425048\n",
      "Average Accuracy Training score whole target sentence  : 0.7360481629933002\n",
      "Average mcc Training score whole target sentence : 0.30946437642664393\n"
     ]
    },
    {
     "name": "stderr",
     "output_type": "stream",
     "text": [
      "  0%|          | 0/250 [00:00<?, ?it/s]"
     ]
    },
    {
     "name": "stdout",
     "output_type": "stream",
     "text": [
      "              precision    recall  f1-score   support\n",
      "\n",
      "           0       0.25      0.71      0.37     61913\n",
      "           1       0.94      0.70      0.80    427606\n",
      "\n",
      "    accuracy                           0.70    489519\n",
      "   macro avg       0.60      0.70      0.59    489519\n",
      "weighted avg       0.86      0.70      0.75    489519\n",
      "\n"
     ]
    },
    {
     "name": "stderr",
     "output_type": "stream",
     "text": [
      "INFO:numexpr.utils:Note: NumExpr detected 48 cores but \"NUMEXPR_MAX_THREADS\" not set, so enforcing safe limit of 8.INFO:numexpr.utils:Note: NumExpr detected 48 cores but \"NUMEXPR_MAX_THREADS\" not set, so enforcing safe limit of 8.\n",
      "\n",
      "INFO:numexpr.utils:NumExpr defaulting to 8 threads.INFO:numexpr.utils:NumExpr defaulting to 8 threads.\n",
      "\n",
      "/root/Thesis/src/code/code_files/engine.py:405: VisibleDeprecationWarning: Creating an ndarray from ragged nested sequences (which is a list-or-tuple of lists-or-tuples-or ndarrays with different lengths or shapes) is deprecated. If you meant to do this, you must specify 'dtype=object' when creating the ndarray\n",
      "  np_arr_labels = np.array(tar_labels)\n",
      "100%|██████████| 250/250 [02:20<00:00,  1.78it/s]\n"
     ]
    },
    {
     "name": "stdout",
     "output_type": "stream",
     "text": [
      "Average F1 Validation score for whole sentence class 0 : 0.4374486377141412\n",
      "Average F1 Validation score for whole sentence class 1 : 0.8367215881985982\n",
      "Average Accuracy Validation score whole sentence  : 0.746903485445315\n",
      "Average mcc Validation score whole sentence : 0.3583243405986378\n",
      "Average F1 Validation score for source sentence class 0 : 0.42183258748441055\n",
      "Average F1 Validation score for source sentence class 1 : 0.793198457057388\n",
      "Average Accuracy Validation score source sentence  : 0.6953614224971009\n",
      "Average mcc Validation score source sentence : 0.319017988751362\n",
      "Average F1 Validation score for target sentence class 0 : 0.4654806786050896\n",
      "Average F1 Validation score for target sentence class 1 : 0.7587087166941445\n",
      "Average Accuracy Validation score target sentence  : 0.6675094353449855\n",
      "Average mcc Validation score target sentence : 0.33664397074513186\n",
      "Average F1 Validation score for gaps in target sentence class 0 : 0.18234723569350147\n",
      "Average F1 Validation score for gaps in target sentence class 1 : 0.9746763195049417\n",
      "Average Accuracy Validation score gaps in target sentence  : 0.9508741258741259\n",
      "Average mcc Validation score gaps in target sentence : 0.15849646843966705\n",
      "Average F1 Validation score for whole target sentence class 0 : 0.4492697284389404\n",
      "Average F1 Validation score for whole target sentence class 1 : 0.8601170745468649\n",
      "Average Accuracy Validation score whole target sentence  : 0.7769004071899395\n",
      "Average mcc Validation score whole target sentence : 0.38225090888878804\n",
      "              precision    recall  f1-score   support\n",
      "\n",
      "           0       0.31      0.75      0.44      9274\n",
      "           1       0.95      0.75      0.84     61047\n",
      "\n",
      "    accuracy                           0.75     70321\n",
      "   macro avg       0.63      0.75      0.64     70321\n",
      "weighted avg       0.87      0.75      0.78     70321\n",
      "\n",
      "For gaps :                precision    recall  f1-score   support\n",
      "\n",
      "         0.0       0.16      0.21      0.18       456\n",
      "         1.0       0.98      0.97      0.97     16704\n",
      "\n",
      "    accuracy                           0.95     17160\n",
      "   macro avg       0.57      0.59      0.58     17160\n",
      "weighted avg       0.96      0.95      0.95     17160\n",
      "\n",
      "For tar :               precision    recall  f1-score   support\n",
      "\n",
      "         0.0       0.33      0.79      0.47      4982\n",
      "         1.0       0.93      0.64      0.76     22309\n",
      "\n",
      "    accuracy                           0.67     27291\n",
      "   macro avg       0.63      0.72      0.61     27291\n",
      "weighted avg       0.82      0.67      0.71     27291\n",
      "\n",
      "For source :                precision    recall  f1-score   support\n",
      "\n",
      "         0.0       0.29      0.75      0.42      3836\n",
      "         1.0       0.94      0.69      0.79     22034\n",
      "\n",
      "    accuracy                           0.70     25870\n",
      "   macro avg       0.62      0.72      0.61     25870\n",
      "weighted avg       0.84      0.70      0.74     25870\n",
      "\n",
      "Train Loss = 0.58366492413623 Valid Loss = 0.5130610898733139\n"
     ]
    },
    {
     "name": "stderr",
     "output_type": "stream",
     "text": [
      "  0%|          | 0/1750 [00:00<?, ?it/s]"
     ]
    },
    {
     "name": "stdout",
     "output_type": "stream",
     "text": [
      "Epoch 2 of 20\n"
     ]
    },
    {
     "name": "stderr",
     "output_type": "stream",
     "text": [
      "INFO:numexpr.utils:Note: NumExpr detected 48 cores but \"NUMEXPR_MAX_THREADS\" not set, so enforcing safe limit of 8.INFO:numexpr.utils:Note: NumExpr detected 48 cores but \"NUMEXPR_MAX_THREADS\" not set, so enforcing safe limit of 8.\n",
      "\n",
      "INFO:numexpr.utils:NumExpr defaulting to 8 threads.INFO:numexpr.utils:NumExpr defaulting to 8 threads.\n",
      "\n",
      "/root/Thesis/src/code/code_files/engine.py:405: VisibleDeprecationWarning: Creating an ndarray from ragged nested sequences (which is a list-or-tuple of lists-or-tuples-or ndarrays with different lengths or shapes) is deprecated. If you meant to do this, you must specify 'dtype=object' when creating the ndarray\n",
      "  np_arr_labels = np.array(tar_labels)\n",
      "100%|██████████| 1750/1750 [39:33<00:00,  1.36s/it]\n"
     ]
    },
    {
     "name": "stdout",
     "output_type": "stream",
     "text": [
      "Average F1 Training score for class 0 : 0.47697462612338803\n",
      "Average F1 Training score for class 1 : 0.8665149524023207\n",
      "Average Accuracy Training score  : 0.7873116263107254\n",
      "Average mcc Training score  : 0.41231129937571276\n",
      "Average F1 Training score for source sentence class 0 : 0.462399718920185\n",
      "Average F1 Training score for source sentence class 1 : 0.8333339384719283\n",
      "Average Accuracy Training score source sentence  : 0.7455516014234875\n",
      "Average mcc Training score source sentence : 0.38103080448242393\n",
      "Average F1 Training score for target sentence class 0 : 0.5104311675521085\n",
      "Average F1 Training score for target sentence class 1 : 0.8112924479746526\n",
      "Average Accuracy Training score target sentence  : 0.7275879330786458\n",
      "Average mcc Training score target sentence : 0.4075620166583255\n",
      "Average F1 Training score for gaps in target sentence class 0 : 0.19378789753743347\n",
      "Average F1 Training score for gaps in target sentence class 1 : 0.9717479824633678\n",
      "Average Accuracy Training score gaps in target sentence  : 0.9454089926429924\n",
      "Average mcc Training score gaps in target sentence : 0.17100126954598396\n",
      "Average F1 Training score for whole target sentence class 0 : 0.4879220253699045\n",
      "Average F1 Training score for whole target sentence class 1 : 0.8846272762587305\n",
      "Average Accuracy Training score whole target sentence  : 0.8116829549976222\n",
      "Average mcc Training score whole target sentence : 0.43179649623916677\n"
     ]
    },
    {
     "name": "stderr",
     "output_type": "stream",
     "text": [
      "  0%|          | 0/250 [00:00<?, ?it/s]"
     ]
    },
    {
     "name": "stdout",
     "output_type": "stream",
     "text": [
      "              precision    recall  f1-score   support\n",
      "\n",
      "           0       0.35      0.77      0.48     61913\n",
      "           1       0.96      0.79      0.87    427606\n",
      "\n",
      "    accuracy                           0.79    489519\n",
      "   macro avg       0.65      0.78      0.67    489519\n",
      "weighted avg       0.88      0.79      0.82    489519\n",
      "\n"
     ]
    },
    {
     "name": "stderr",
     "output_type": "stream",
     "text": [
      "INFO:numexpr.utils:Note: NumExpr detected 48 cores but \"NUMEXPR_MAX_THREADS\" not set, so enforcing safe limit of 8.INFO:numexpr.utils:Note: NumExpr detected 48 cores but \"NUMEXPR_MAX_THREADS\" not set, so enforcing safe limit of 8.\n",
      "\n",
      "INFO:numexpr.utils:NumExpr defaulting to 8 threads.INFO:numexpr.utils:NumExpr defaulting to 8 threads.\n",
      "\n",
      "/root/Thesis/src/code/code_files/engine.py:405: VisibleDeprecationWarning: Creating an ndarray from ragged nested sequences (which is a list-or-tuple of lists-or-tuples-or ndarrays with different lengths or shapes) is deprecated. If you meant to do this, you must specify 'dtype=object' when creating the ndarray\n",
      "  np_arr_labels = np.array(tar_labels)\n",
      "100%|██████████| 250/250 [02:20<00:00,  1.78it/s]\n"
     ]
    },
    {
     "name": "stdout",
     "output_type": "stream",
     "text": [
      "Average F1 Validation score for whole sentence class 0 : 0.47410970118706514\n",
      "Average F1 Validation score for whole sentence class 1 : 0.9151265916860724\n",
      "Average Accuracy Validation score whole sentence  : 0.8538416689182463\n",
      "Average mcc Validation score whole sentence : 0.3901756173179189\n",
      "Average F1 Validation score for source sentence class 0 : 0.4527984626471295\n",
      "Average F1 Validation score for source sentence class 1 : 0.8950568940894643\n",
      "Average Accuracy Validation score source sentence  : 0.8238886741399304\n",
      "Average mcc Validation score source sentence : 0.350160161664035\n",
      "Average F1 Validation score for target sentence class 0 : 0.5145435346068926\n",
      "Average F1 Validation score for target sentence class 1 : 0.8854975659458848\n",
      "Average Accuracy Validation score target sentence  : 0.8147008171191968\n",
      "Average mcc Validation score target sentence : 0.40088744627359324\n",
      "Average F1 Validation score for gaps in target sentence class 0 : 0.16978776529338327\n",
      "Average F1 Validation score for gaps in target sentence class 1 : 0.980160505981682\n",
      "Average Accuracy Validation score gaps in target sentence  : 0.9612470862470862\n",
      "Average mcc Validation score gaps in target sentence : 0.1518733209580958\n",
      "Average F1 Validation score for whole target sentence class 0 : 0.4899269031912997\n",
      "Average F1 Validation score for whole target sentence class 1 : 0.9263426188146852\n",
      "Average Accuracy Validation score whole target sentence  : 0.8712739870869047\n",
      "Average mcc Validation score whole target sentence : 0.41660142163543573\n",
      "              precision    recall  f1-score   support\n",
      "\n",
      "           0       0.45      0.50      0.47      9274\n",
      "           1       0.92      0.91      0.92     61047\n",
      "\n",
      "    accuracy                           0.85     70321\n",
      "   macro avg       0.69      0.70      0.69     70321\n",
      "weighted avg       0.86      0.85      0.86     70321\n",
      "\n",
      "For gaps :                precision    recall  f1-score   support\n",
      "\n",
      "         0.0       0.20      0.15      0.17       456\n",
      "         1.0       0.98      0.98      0.98     16704\n",
      "\n",
      "    accuracy                           0.96     17160\n",
      "   macro avg       0.59      0.57      0.57     17160\n",
      "weighted avg       0.96      0.96      0.96     17160\n",
      "\n",
      "For tar :               precision    recall  f1-score   support\n",
      "\n",
      "         0.0       0.49      0.54      0.51      4982\n",
      "         1.0       0.89      0.88      0.89     22309\n",
      "\n",
      "    accuracy                           0.81     27291\n",
      "   macro avg       0.69      0.71      0.70     27291\n",
      "weighted avg       0.82      0.81      0.82     27291\n",
      "\n",
      "For source :                precision    recall  f1-score   support\n",
      "\n",
      "         0.0       0.42      0.49      0.45      3836\n",
      "         1.0       0.91      0.88      0.90     22034\n",
      "\n",
      "    accuracy                           0.82     25870\n",
      "   macro avg       0.66      0.69      0.67     25870\n",
      "weighted avg       0.84      0.82      0.83     25870\n",
      "\n",
      "Train Loss = 0.4772883388740676 Valid Loss = 0.6630874518752098\n"
     ]
    },
    {
     "name": "stderr",
     "output_type": "stream",
     "text": [
      "  0%|          | 0/1750 [00:00<?, ?it/s]"
     ]
    },
    {
     "name": "stdout",
     "output_type": "stream",
     "text": [
      "Epoch 3 of 20\n"
     ]
    },
    {
     "name": "stderr",
     "output_type": "stream",
     "text": [
      "INFO:numexpr.utils:Note: NumExpr detected 48 cores but \"NUMEXPR_MAX_THREADS\" not set, so enforcing safe limit of 8.INFO:numexpr.utils:Note: NumExpr detected 48 cores but \"NUMEXPR_MAX_THREADS\" not set, so enforcing safe limit of 8.\n",
      "\n",
      "INFO:numexpr.utils:NumExpr defaulting to 8 threads.INFO:numexpr.utils:NumExpr defaulting to 8 threads.\n",
      "\n",
      "/root/Thesis/src/code/code_files/engine.py:405: VisibleDeprecationWarning: Creating an ndarray from ragged nested sequences (which is a list-or-tuple of lists-or-tuples-or ndarrays with different lengths or shapes) is deprecated. If you meant to do this, you must specify 'dtype=object' when creating the ndarray\n",
      "  np_arr_labels = np.array(tar_labels)\n",
      "100%|██████████| 1750/1750 [39:33<00:00,  1.36s/it]\n"
     ]
    },
    {
     "name": "stdout",
     "output_type": "stream",
     "text": [
      "Average F1 Training score for class 0 : 0.5817127534006394\n",
      "Average F1 Training score for class 1 : 0.909259277673919\n",
      "Average Accuracy Training score  : 0.8508699355898341\n",
      "Average mcc Training score  : 0.5332920070636643\n",
      "Average F1 Training score for source sentence class 0 : 0.5672578115574858\n",
      "Average F1 Training score for source sentence class 1 : 0.8872024402259934\n",
      "Average Accuracy Training score source sentence  : 0.8210496557687831\n",
      "Average mcc Training score source sentence : 0.5083269603361465\n",
      "Average F1 Training score for target sentence class 0 : 0.6261858744270805\n",
      "Average F1 Training score for target sentence class 1 : 0.8828843791629902\n",
      "Average Accuracy Training score target sentence  : 0.8216466868660256\n",
      "Average mcc Training score target sentence : 0.5530007773666035\n",
      "Average F1 Training score for gaps in target sentence class 0 : 0.26737739872068234\n",
      "Average F1 Training score for gaps in target sentence class 1 : 0.9700310504832014\n",
      "Average Accuracy Training score gaps in target sentence  : 0.9424175897839822\n",
      "Average mcc Training score gaps in target sentence : 0.2551598605161807\n",
      "Average F1 Training score for whole target sentence class 0 : 0.5925043782837128\n",
      "Average F1 Training score for whole target sentence class 1 : 0.9214387556457635\n",
      "Average Accuracy Training score whole target sentence  : 0.8682731781170236\n",
      "Average mcc Training score whole target sentence : 0.5494190229473235\n"
     ]
    },
    {
     "name": "stderr",
     "output_type": "stream",
     "text": [
      "  0%|          | 0/250 [00:00<?, ?it/s]"
     ]
    },
    {
     "name": "stdout",
     "output_type": "stream",
     "text": [
      "              precision    recall  f1-score   support\n",
      "\n",
      "           0       0.45      0.82      0.58     61913\n",
      "           1       0.97      0.86      0.91    427606\n",
      "\n",
      "    accuracy                           0.85    489519\n",
      "   macro avg       0.71      0.84      0.75    489519\n",
      "weighted avg       0.90      0.85      0.87    489519\n",
      "\n"
     ]
    },
    {
     "name": "stderr",
     "output_type": "stream",
     "text": [
      "INFO:numexpr.utils:Note: NumExpr detected 48 cores but \"NUMEXPR_MAX_THREADS\" not set, so enforcing safe limit of 8.INFO:numexpr.utils:Note: NumExpr detected 48 cores but \"NUMEXPR_MAX_THREADS\" not set, so enforcing safe limit of 8.\n",
      "\n",
      "INFO:numexpr.utils:NumExpr defaulting to 8 threads.INFO:numexpr.utils:NumExpr defaulting to 8 threads.\n",
      "\n",
      "/root/Thesis/src/code/code_files/engine.py:405: VisibleDeprecationWarning: Creating an ndarray from ragged nested sequences (which is a list-or-tuple of lists-or-tuples-or ndarrays with different lengths or shapes) is deprecated. If you meant to do this, you must specify 'dtype=object' when creating the ndarray\n",
      "  np_arr_labels = np.array(tar_labels)\n",
      "100%|██████████| 250/250 [02:20<00:00,  1.78it/s]\n"
     ]
    },
    {
     "name": "stdout",
     "output_type": "stream",
     "text": [
      "Average F1 Validation score for whole sentence class 0 : 0.4627131053237109\n",
      "Average F1 Validation score for whole sentence class 1 : 0.9154542462146148\n",
      "Average Accuracy Validation score whole sentence  : 0.853898550930732\n",
      "Average mcc Validation score whole sentence : 0.3784839191248396\n",
      "Average F1 Validation score for source sentence class 0 : 0.4481009526166027\n",
      "Average F1 Validation score for source sentence class 1 : 0.89781707400875\n",
      "Average Accuracy Validation score source sentence  : 0.8275608813297256\n",
      "Average mcc Validation score source sentence : 0.34686075935189137\n",
      "Average F1 Validation score for target sentence class 0 : 0.5033617661816356\n",
      "Average F1 Validation score for target sentence class 1 : 0.8890781540668355\n",
      "Average Accuracy Validation score target sentence  : 0.8186581656956505\n",
      "Average mcc Validation score target sentence : 0.39243992457221843\n",
      "Average F1 Validation score for gaps in target sentence class 0 : 0.19553072625698323\n",
      "Average F1 Validation score for gaps in target sentence class 1 : 0.9740119112073632\n",
      "Average Accuracy Validation score gaps in target sentence  : 0.9496503496503497\n",
      "Average mcc Validation score gaps in target sentence : 0.172250461593746\n",
      "Average F1 Validation score for whole target sentence class 0 : 0.4734124467795996\n",
      "Average F1 Validation score for whole target sentence class 1 : 0.9253432310596816\n",
      "Average Accuracy Validation score whole target sentence  : 0.8692267890486153\n",
      "Average mcc Validation score whole target sentence : 0.3988309436309967\n",
      "              precision    recall  f1-score   support\n",
      "\n",
      "           0       0.45      0.48      0.46      9274\n",
      "           1       0.92      0.91      0.92     61047\n",
      "\n",
      "    accuracy                           0.85     70321\n",
      "   macro avg       0.68      0.69      0.69     70321\n",
      "weighted avg       0.86      0.85      0.86     70321\n",
      "\n",
      "For gaps :                precision    recall  f1-score   support\n",
      "\n",
      "         0.0       0.17      0.23      0.20       456\n",
      "         1.0       0.98      0.97      0.97     16704\n",
      "\n",
      "    accuracy                           0.95     17160\n",
      "   macro avg       0.57      0.60      0.58     17160\n",
      "weighted avg       0.96      0.95      0.95     17160\n",
      "\n",
      "For tar :               precision    recall  f1-score   support\n",
      "\n",
      "         0.0       0.50      0.50      0.50      4982\n",
      "         1.0       0.89      0.89      0.89     22309\n",
      "\n",
      "    accuracy                           0.82     27291\n",
      "   macro avg       0.70      0.70      0.70     27291\n",
      "weighted avg       0.82      0.82      0.82     27291\n",
      "\n"
     ]
    },
    {
     "name": "stderr",
     "output_type": "stream",
     "text": [
      "  0%|          | 0/1750 [00:00<?, ?it/s]"
     ]
    },
    {
     "name": "stdout",
     "output_type": "stream",
     "text": [
      "For source :                precision    recall  f1-score   support\n",
      "\n",
      "         0.0       0.43      0.47      0.45      3836\n",
      "         1.0       0.91      0.89      0.90     22034\n",
      "\n",
      "    accuracy                           0.83     25870\n",
      "   macro avg       0.67      0.68      0.67     25870\n",
      "weighted avg       0.84      0.83      0.83     25870\n",
      "\n",
      "Train Loss = 0.38347769301916873 Valid Loss = 0.8968404987752437\n",
      "Epoch 4 of 20\n"
     ]
    },
    {
     "name": "stderr",
     "output_type": "stream",
     "text": [
      "INFO:numexpr.utils:Note: NumExpr detected 48 cores but \"NUMEXPR_MAX_THREADS\" not set, so enforcing safe limit of 8.INFO:numexpr.utils:Note: NumExpr detected 48 cores but \"NUMEXPR_MAX_THREADS\" not set, so enforcing safe limit of 8.\n",
      "\n",
      "INFO:numexpr.utils:NumExpr defaulting to 8 threads.INFO:numexpr.utils:NumExpr defaulting to 8 threads.\n",
      "\n",
      "/root/Thesis/src/code/code_files/engine.py:405: VisibleDeprecationWarning: Creating an ndarray from ragged nested sequences (which is a list-or-tuple of lists-or-tuples-or ndarrays with different lengths or shapes) is deprecated. If you meant to do this, you must specify 'dtype=object' when creating the ndarray\n",
      "  np_arr_labels = np.array(tar_labels)\n",
      "100%|██████████| 1750/1750 [39:33<00:00,  1.36s/it]\n"
     ]
    },
    {
     "name": "stdout",
     "output_type": "stream",
     "text": [
      "Average F1 Training score for class 0 : 0.659928232605009\n",
      "Average F1 Training score for class 1 : 0.932198115865685\n",
      "Average Accuracy Training score  : 0.8869379942351574\n",
      "Average mcc Training score  : 0.6222744148024977\n",
      "Average F1 Training score for source sentence class 0 : 0.6505136091927339\n",
      "Average F1 Training score for source sentence class 1 : 0.9174729340824997\n",
      "Average Accuracy Training score source sentence  : 0.8664759814192747\n",
      "Average mcc Training score source sentence : 0.6059338341431645\n",
      "Average F1 Training score for target sentence class 0 : 0.7083711596349563\n",
      "Average F1 Training score for target sentence class 1 : 0.9174739887910112\n",
      "Average Accuracy Training score target sentence  : 0.8713529179291266\n",
      "Average mcc Training score target sentence : 0.6529657730877163\n",
      "Average F1 Training score for gaps in target sentence class 0 : 0.3229125445191927\n",
      "Average F1 Training score for gaps in target sentence class 1 : 0.9700580988380233\n",
      "Average Accuracy Training score gaps in target sentence  : 0.9426522096160614\n",
      "Average mcc Training score gaps in target sentence : 0.3219106921431329\n",
      "Average F1 Training score for whole target sentence class 0 : 0.666844304229195\n",
      "Average F1 Training score for whole target sentence class 1 : 0.940393966552888\n",
      "Average Accuracy Training score whole target sentence  : 0.8988797122125279\n",
      "Average mcc Training score whole target sentence : 0.6327288443431538\n"
     ]
    },
    {
     "name": "stderr",
     "output_type": "stream",
     "text": [
      "  0%|          | 0/250 [00:00<?, ?it/s]"
     ]
    },
    {
     "name": "stdout",
     "output_type": "stream",
     "text": [
      "              precision    recall  f1-score   support\n",
      "\n",
      "           0       0.53      0.87      0.66     61913\n",
      "           1       0.98      0.89      0.93    427606\n",
      "\n",
      "    accuracy                           0.89    489519\n",
      "   macro avg       0.76      0.88      0.80    489519\n",
      "weighted avg       0.92      0.89      0.90    489519\n",
      "\n"
     ]
    },
    {
     "name": "stderr",
     "output_type": "stream",
     "text": [
      "INFO:numexpr.utils:Note: NumExpr detected 48 cores but \"NUMEXPR_MAX_THREADS\" not set, so enforcing safe limit of 8.INFO:numexpr.utils:Note: NumExpr detected 48 cores but \"NUMEXPR_MAX_THREADS\" not set, so enforcing safe limit of 8.\n",
      "\n",
      "INFO:numexpr.utils:NumExpr defaulting to 8 threads.INFO:numexpr.utils:NumExpr defaulting to 8 threads.\n",
      "\n",
      "/root/Thesis/src/code/code_files/engine.py:405: VisibleDeprecationWarning: Creating an ndarray from ragged nested sequences (which is a list-or-tuple of lists-or-tuples-or ndarrays with different lengths or shapes) is deprecated. If you meant to do this, you must specify 'dtype=object' when creating the ndarray\n",
      "  np_arr_labels = np.array(tar_labels)\n",
      "100%|██████████| 250/250 [02:20<00:00,  1.78it/s]\n"
     ]
    },
    {
     "name": "stdout",
     "output_type": "stream",
     "text": [
      "Average F1 Validation score for whole sentence class 0 : 0.4599765318096016\n",
      "Average F1 Validation score for whole sentence class 1 : 0.9125502928759676\n",
      "Average Accuracy Validation score whole sentence  : 0.8494759744599764\n",
      "Average mcc Validation score whole sentence : 0.37354771773009\n",
      "Average F1 Validation score for source sentence class 0 : 0.4472460220318238\n",
      "Average F1 Validation score for source sentence class 1 : 0.8963507000229516\n",
      "Average Accuracy Validation score source sentence  : 0.8254348666408968\n",
      "Average mcc Validation score source sentence : 0.3449573560351178\n",
      "Average F1 Validation score for target sentence class 0 : 0.509560516568225\n",
      "Average F1 Validation score for target sentence class 1 : 0.8901397080259233\n",
      "Average Accuracy Validation score target sentence  : 0.8204902715180828\n",
      "Average mcc Validation score target sentence : 0.3997029423424414\n",
      "Average F1 Validation score for gaps in target sentence class 0 : 0.18862690707350901\n",
      "Average F1 Validation score for gaps in target sentence class 1 : 0.9644138937891599\n",
      "Average Accuracy Validation score gaps in target sentence  : 0.9318181818181818\n",
      "Average mcc Validation score gaps in target sentence : 0.17095202628028203\n",
      "Average F1 Validation score for whole target sentence class 0 : 0.46907532149418246\n",
      "Average F1 Validation score for whole target sentence class 1 : 0.9216610086354894\n",
      "Average Accuracy Validation score whole target sentence  : 0.8634676385233178\n",
      "Average mcc Validation score whole target sentence : 0.3915559752305365\n",
      "              precision    recall  f1-score   support\n",
      "\n",
      "           0       0.44      0.49      0.46      9274\n",
      "           1       0.92      0.90      0.91     61047\n",
      "\n",
      "    accuracy                           0.85     70321\n",
      "   macro avg       0.68      0.70      0.69     70321\n",
      "weighted avg       0.86      0.85      0.85     70321\n",
      "\n",
      "For gaps :                precision    recall  f1-score   support\n",
      "\n",
      "         0.0       0.14      0.30      0.19       456\n",
      "         1.0       0.98      0.95      0.96     16704\n",
      "\n",
      "    accuracy                           0.93     17160\n",
      "   macro avg       0.56      0.62      0.58     17160\n",
      "weighted avg       0.96      0.93      0.94     17160\n",
      "\n",
      "For tar :               precision    recall  f1-score   support\n",
      "\n",
      "         0.0       0.51      0.51      0.51      4982\n",
      "         1.0       0.89      0.89      0.89     22309\n",
      "\n",
      "    accuracy                           0.82     27291\n",
      "   macro avg       0.70      0.70      0.70     27291\n",
      "weighted avg       0.82      0.82      0.82     27291\n",
      "\n"
     ]
    },
    {
     "name": "stderr",
     "output_type": "stream",
     "text": [
      "  0%|          | 0/1750 [00:00<?, ?it/s]"
     ]
    },
    {
     "name": "stdout",
     "output_type": "stream",
     "text": [
      "For source :                precision    recall  f1-score   support\n",
      "\n",
      "         0.0       0.42      0.48      0.45      3836\n",
      "         1.0       0.91      0.89      0.90     22034\n",
      "\n",
      "    accuracy                           0.83     25870\n",
      "   macro avg       0.66      0.68      0.67     25870\n",
      "weighted avg       0.83      0.83      0.83     25870\n",
      "\n",
      "Train Loss = 0.3110601469866399 Valid Loss = 1.118706422355026\n",
      "Epoch 5 of 20\n"
     ]
    },
    {
     "name": "stderr",
     "output_type": "stream",
     "text": [
      "INFO:numexpr.utils:Note: NumExpr detected 48 cores but \"NUMEXPR_MAX_THREADS\" not set, so enforcing safe limit of 8.INFO:numexpr.utils:Note: NumExpr detected 48 cores but \"NUMEXPR_MAX_THREADS\" not set, so enforcing safe limit of 8.\n",
      "\n",
      "INFO:numexpr.utils:NumExpr defaulting to 8 threads.INFO:numexpr.utils:NumExpr defaulting to 8 threads.\n",
      "\n",
      "/root/Thesis/src/code/code_files/engine.py:405: VisibleDeprecationWarning: Creating an ndarray from ragged nested sequences (which is a list-or-tuple of lists-or-tuples-or ndarrays with different lengths or shapes) is deprecated. If you meant to do this, you must specify 'dtype=object' when creating the ndarray\n",
      "  np_arr_labels = np.array(tar_labels)\n",
      "100%|██████████| 1750/1750 [39:33<00:00,  1.36s/it]\n"
     ]
    },
    {
     "name": "stdout",
     "output_type": "stream",
     "text": [
      "Average F1 Training score for class 0 : 0.71233263041848\n",
      "Average F1 Training score for class 1 : 0.9454679771233055\n",
      "Average Accuracy Training score  : 0.9083161225611264\n",
      "Average mcc Training score  : 0.6810349716881441\n",
      "Average F1 Training score for source sentence class 0 : 0.6999076079548037\n",
      "Average F1 Training score for source sentence class 1 : 0.9327873913176222\n",
      "Average Accuracy Training score source sentence  : 0.8901730579483598\n",
      "Average mcc Training score source sentence : 0.6625329996326278\n",
      "Average F1 Training score for target sentence class 0 : 0.7670339046854218\n",
      "Average F1 Training score for target sentence class 1 : 0.9380836134677979\n",
      "Average Accuracy Training score target sentence  : 0.9021683572651824\n",
      "Average mcc Training score target sentence : 0.7231712084838168\n",
      "Average F1 Training score for gaps in target sentence class 0 : 0.36873786407766984\n",
      "Average F1 Training score for gaps in target sentence class 1 : 0.9715304049320442\n",
      "Average Accuracy Training score gaps in target sentence  : 0.9455179232793149\n",
      "Average mcc Training score gaps in target sentence : 0.37531603717102413\n",
      "Average F1 Training score for whole target sentence class 0 : 0.7214480965397694\n",
      "Average F1 Training score for whole target sentence class 1 : 0.9525442980463427\n",
      "Average Accuracy Training score whole target sentence  : 0.9189044924737235\n",
      "Average mcc Training score whole target sentence : 0.6932702277460525\n"
     ]
    },
    {
     "name": "stderr",
     "output_type": "stream",
     "text": [
      "  0%|          | 0/250 [00:00<?, ?it/s]"
     ]
    },
    {
     "name": "stdout",
     "output_type": "stream",
     "text": [
      "              precision    recall  f1-score   support\n",
      "\n",
      "           0       0.59      0.90      0.71     61913\n",
      "           1       0.98      0.91      0.95    427606\n",
      "\n",
      "    accuracy                           0.91    489519\n",
      "   macro avg       0.79      0.90      0.83    489519\n",
      "weighted avg       0.93      0.91      0.92    489519\n",
      "\n"
     ]
    },
    {
     "name": "stderr",
     "output_type": "stream",
     "text": [
      "INFO:numexpr.utils:Note: NumExpr detected 48 cores but \"NUMEXPR_MAX_THREADS\" not set, so enforcing safe limit of 8.INFO:numexpr.utils:Note: NumExpr detected 48 cores but \"NUMEXPR_MAX_THREADS\" not set, so enforcing safe limit of 8.\n",
      "\n",
      "INFO:numexpr.utils:NumExpr defaulting to 8 threads.INFO:numexpr.utils:NumExpr defaulting to 8 threads.\n",
      "\n",
      "/root/Thesis/src/code/code_files/engine.py:405: VisibleDeprecationWarning: Creating an ndarray from ragged nested sequences (which is a list-or-tuple of lists-or-tuples-or ndarrays with different lengths or shapes) is deprecated. If you meant to do this, you must specify 'dtype=object' when creating the ndarray\n",
      "  np_arr_labels = np.array(tar_labels)\n",
      "100%|██████████| 250/250 [02:20<00:00,  1.78it/s]\n"
     ]
    },
    {
     "name": "stdout",
     "output_type": "stream",
     "text": [
      "Average F1 Validation score for whole sentence class 0 : 0.43735763097949887\n",
      "Average F1 Validation score for whole sentence class 1 : 0.9242820264601485\n",
      "Average Accuracy Validation score whole sentence  : 0.8665263577025355\n",
      "Average mcc Validation score whole sentence : 0.3656594085074288\n",
      "Average F1 Validation score for source sentence class 0 : 0.4215894602634935\n",
      "Average F1 Validation score for source sentence class 1 : 0.9086188760323181\n",
      "Average Accuracy Validation score source sentence  : 0.8421724004638578\n",
      "Average mcc Validation score source sentence : 0.33268771115569645\n",
      "Average F1 Validation score for target sentence class 0 : 0.47510017172295366\n",
      "Average F1 Validation score for target sentence class 1 : 0.8999934564966082\n",
      "Average Accuracy Validation score target sentence  : 0.8319958960829578\n",
      "Average mcc Validation score target sentence : 0.3828094560117368\n",
      "Average F1 Validation score for gaps in target sentence class 0 : 0.19144144144144143\n",
      "Average F1 Validation score for gaps in target sentence class 1 : 0.9785235702321129\n",
      "Average Accuracy Validation score gaps in target sentence  : 0.9581585081585081\n",
      "Average mcc Validation score gaps in target sentence : 0.17004657497568562\n",
      "Average F1 Validation score for whole target sentence class 0 : 0.44892445183414736\n",
      "Average F1 Validation score for whole target sentence class 1 : 0.9331096507271788\n",
      "Average Accuracy Validation score whole target sentence  : 0.8807000967357315\n",
      "Average mcc Validation score whole target sentence : 0.38743845181294845\n",
      "              precision    recall  f1-score   support\n",
      "\n",
      "           0       0.49      0.39      0.44      9274\n",
      "           1       0.91      0.94      0.92     61047\n",
      "\n",
      "    accuracy                           0.87     70321\n",
      "   macro avg       0.70      0.67      0.68     70321\n",
      "weighted avg       0.86      0.87      0.86     70321\n",
      "\n",
      "For gaps :                precision    recall  f1-score   support\n",
      "\n",
      "         0.0       0.20      0.19      0.19       456\n",
      "         1.0       0.98      0.98      0.98     16704\n",
      "\n",
      "    accuracy                           0.96     17160\n",
      "   macro avg       0.59      0.58      0.58     17160\n",
      "weighted avg       0.96      0.96      0.96     17160\n",
      "\n",
      "For tar :               precision    recall  f1-score   support\n",
      "\n",
      "         0.0       0.55      0.42      0.48      4982\n",
      "         1.0       0.88      0.92      0.90     22309\n",
      "\n",
      "    accuracy                           0.83     27291\n",
      "   macro avg       0.71      0.67      0.69     27291\n",
      "weighted avg       0.82      0.83      0.82     27291\n",
      "\n"
     ]
    },
    {
     "name": "stderr",
     "output_type": "stream",
     "text": [
      "  0%|          | 0/1750 [00:00<?, ?it/s]"
     ]
    },
    {
     "name": "stdout",
     "output_type": "stream",
     "text": [
      "For source :                precision    recall  f1-score   support\n",
      "\n",
      "         0.0       0.46      0.39      0.42      3836\n",
      "         1.0       0.90      0.92      0.91     22034\n",
      "\n",
      "    accuracy                           0.84     25870\n",
      "   macro avg       0.68      0.65      0.67     25870\n",
      "weighted avg       0.83      0.84      0.84     25870\n",
      "\n",
      "Train Loss = 0.25059688177864464 Valid Loss = 1.5691945418771356\n",
      "Epoch 6 of 20\n"
     ]
    },
    {
     "name": "stderr",
     "output_type": "stream",
     "text": [
      "INFO:numexpr.utils:Note: NumExpr detected 48 cores but \"NUMEXPR_MAX_THREADS\" not set, so enforcing safe limit of 8.INFO:numexpr.utils:Note: NumExpr detected 48 cores but \"NUMEXPR_MAX_THREADS\" not set, so enforcing safe limit of 8.\n",
      "\n",
      "INFO:numexpr.utils:NumExpr defaulting to 8 threads.INFO:numexpr.utils:NumExpr defaulting to 8 threads.\n",
      "\n",
      "/root/Thesis/src/code/code_files/engine.py:405: VisibleDeprecationWarning: Creating an ndarray from ragged nested sequences (which is a list-or-tuple of lists-or-tuples-or ndarrays with different lengths or shapes) is deprecated. If you meant to do this, you must specify 'dtype=object' when creating the ndarray\n",
      "  np_arr_labels = np.array(tar_labels)\n",
      "100%|██████████| 1750/1750 [39:32<00:00,  1.36s/it]\n"
     ]
    },
    {
     "name": "stdout",
     "output_type": "stream",
     "text": [
      "Average F1 Training score for class 0 : 0.7581466191029701\n",
      "Average F1 Training score for class 1 : 0.9563462206273875\n",
      "Average Accuracy Training score  : 0.9260416858181194\n",
      "Average mcc Training score  : 0.731233999436706\n",
      "Average F1 Training score for source sentence class 0 : 0.7468266278370422\n",
      "Average F1 Training score for source sentence class 1 : 0.9462539731605863\n",
      "Average Accuracy Training score source sentence  : 0.9113313599627498\n",
      "Average mcc Training score source sentence : 0.7149979590466413\n",
      "Average F1 Training score for target sentence class 0 : 0.8104638267336421\n",
      "Average F1 Training score for target sentence class 1 : 0.952041068982024\n",
      "Average Accuracy Training score target sentence  : 0.9234514556711896\n",
      "Average mcc Training score target sentence : 0.7742643888827414\n",
      "Average F1 Training score for gaps in target sentence class 0 : 0.4242424242424242\n",
      "Average F1 Training score for gaps in target sentence class 1 : 0.9751722992609815\n",
      "Average Accuracy Training score gaps in target sentence  : 0.9523973119270668\n",
      "Average mcc Training score gaps in target sentence : 0.4330263183529956\n",
      "Average F1 Training score for whole target sentence class 0 : 0.7664139078971703\n",
      "Average F1 Training score for whole target sentence class 1 : 0.961995177931325\n",
      "Average Accuracy Training score whole target sentence  : 0.9346266947466493\n",
      "Average mcc Training score whole target sentence : 0.7420560382071814\n"
     ]
    },
    {
     "name": "stderr",
     "output_type": "stream",
     "text": [
      "  0%|          | 0/250 [00:00<?, ?it/s]"
     ]
    },
    {
     "name": "stdout",
     "output_type": "stream",
     "text": [
      "              precision    recall  f1-score   support\n",
      "\n",
      "           0       0.65      0.92      0.76     61913\n",
      "           1       0.99      0.93      0.96    427606\n",
      "\n",
      "    accuracy                           0.93    489519\n",
      "   macro avg       0.82      0.92      0.86    489519\n",
      "weighted avg       0.94      0.93      0.93    489519\n",
      "\n"
     ]
    },
    {
     "name": "stderr",
     "output_type": "stream",
     "text": [
      "INFO:numexpr.utils:Note: NumExpr detected 48 cores but \"NUMEXPR_MAX_THREADS\" not set, so enforcing safe limit of 8.INFO:numexpr.utils:Note: NumExpr detected 48 cores but \"NUMEXPR_MAX_THREADS\" not set, so enforcing safe limit of 8.\n",
      "\n",
      "INFO:numexpr.utils:NumExpr defaulting to 8 threads.INFO:numexpr.utils:NumExpr defaulting to 8 threads.\n",
      "\n",
      "/root/Thesis/src/code/code_files/engine.py:405: VisibleDeprecationWarning: Creating an ndarray from ragged nested sequences (which is a list-or-tuple of lists-or-tuples-or ndarrays with different lengths or shapes) is deprecated. If you meant to do this, you must specify 'dtype=object' when creating the ndarray\n",
      "  np_arr_labels = np.array(tar_labels)\n",
      "100%|██████████| 250/250 [02:20<00:00,  1.78it/s]\n"
     ]
    },
    {
     "name": "stdout",
     "output_type": "stream",
     "text": [
      "Average F1 Validation score for whole sentence class 0 : 0.4472266071525775\n",
      "Average F1 Validation score for whole sentence class 1 : 0.916946782147852\n",
      "Average Accuracy Validation score whole sentence  : 0.8555907908021786\n",
      "Average mcc Validation score whole sentence : 0.3642046228543234\n",
      "Average F1 Validation score for source sentence class 0 : 0.43736120182887\n",
      "Average F1 Validation score for source sentence class 1 : 0.902302370420778\n",
      "Average Accuracy Validation score source sentence  : 0.8335137224584461\n",
      "Average mcc Validation score source sentence : 0.3396652914602332\n",
      "Average F1 Validation score for target sentence class 0 : 0.49095773140716964\n",
      "Average F1 Validation score for target sentence class 1 : 0.8948427172447333\n",
      "Average Accuracy Validation score target sentence  : 0.8256934520537906\n",
      "Average mcc Validation score target sentence : 0.3875942629258704\n",
      "Average F1 Validation score for gaps in target sentence class 0 : 0.20423048869438365\n",
      "Average F1 Validation score for gaps in target sentence class 1 : 0.9668882211903245\n",
      "Average Accuracy Validation score gaps in target sentence  : 0.9364219114219114\n",
      "Average mcc Validation score gaps in target sentence : 0.18656597792989738\n",
      "Average F1 Validation score for whole target sentence class 0 : 0.45427398282941395\n",
      "Average F1 Validation score for whole target sentence class 1 : 0.9252040007162408\n",
      "Average Accuracy Validation score whole target sentence  : 0.8684394051877348\n",
      "Average mcc Validation score whole target sentence : 0.37955164258117013\n",
      "              precision    recall  f1-score   support\n",
      "\n",
      "           0       0.45      0.44      0.45      9274\n",
      "           1       0.92      0.92      0.92     61047\n",
      "\n",
      "    accuracy                           0.86     70321\n",
      "   macro avg       0.68      0.68      0.68     70321\n",
      "weighted avg       0.85      0.86      0.85     70321\n",
      "\n",
      "For gaps :                precision    recall  f1-score   support\n",
      "\n",
      "         0.0       0.15      0.31      0.20       456\n",
      "         1.0       0.98      0.95      0.97     16704\n",
      "\n",
      "    accuracy                           0.94     17160\n",
      "   macro avg       0.57      0.63      0.59     17160\n",
      "weighted avg       0.96      0.94      0.95     17160\n",
      "\n",
      "For tar :               precision    recall  f1-score   support\n",
      "\n",
      "         0.0       0.53      0.46      0.49      4982\n",
      "         1.0       0.88      0.91      0.89     22309\n",
      "\n",
      "    accuracy                           0.83     27291\n",
      "   macro avg       0.70      0.68      0.69     27291\n",
      "weighted avg       0.82      0.83      0.82     27291\n",
      "\n",
      "For source :                precision    recall  f1-score   support\n",
      "\n",
      "         0.0       0.44      0.44      0.44      3836\n",
      "         1.0       0.90      0.90      0.90     22034\n",
      "\n",
      "    accuracy                           0.83     25870\n",
      "   macro avg       0.67      0.67      0.67     25870\n",
      "weighted avg       0.83      0.83      0.83     25870\n",
      "\n",
      "Train Loss = 0.21072702273936011 Valid Loss = 1.5257049862742424\n",
      "terminating because of early stopping!\n"
     ]
    }
   ],
   "source": [
    "best_accuracy = -1\n",
    "train_loss_lst = []\n",
    "val_loss_lst = []\n",
    "with open('metrics_xlmroberta_large_TrainData_wl_dropout.txt', 'w') as f:\n",
    "    f.write('metrics_xlmroberta_large_TrainData_wl_dropout'+'\\n')\n",
    "    for epoch in range(config.EPOCHS):\n",
    "            print(f'Epoch {epoch+1} of {config.EPOCHS}')\n",
    "            train_metrics = engine.train_fn(train_dataloader, model, optimizer, scheduler, large_model = True)\n",
    "            print(classification_report(train_metrics[21],train_metrics[22]))\n",
    "            test_metrics = engine.eval_fn(val_dataloader, model, large_model=True)\n",
    "            print(classification_report(test_metrics[21],test_metrics[22]))\n",
    "            print('For gaps : ',classification_report(test_metrics[27],test_metrics[28]) )\n",
    "            print('For tar :',classification_report(test_metrics[25],test_metrics[26]) )\n",
    "            print('For source : ',classification_report(test_metrics[23],test_metrics[24]) )\n",
    "            print(f\"Train Loss = {train_metrics[0]} Valid Loss = {test_metrics[0]}\")\n",
    "            train_loss_lst.append(train_metrics[:-14])\n",
    "            val_loss_lst.append(test_metrics[:-14])\n",
    "            f.write(f\"Train_loss {epoch+1} : {str(train_loss_lst)}\" + '\\n')\n",
    "            f.write(f\"val_loss {epoch+1} : {str(val_loss_lst)}\" + '\\n')\n",
    "            if early_stopping.step(float(\"{:.3f}\".format(test_metrics[4]))): #mcc score for early stopping \"{:.2f}\".format(a_float)\n",
    "                  break  # early stop criterion is met, we can stop now\n",
    "            if float(\"{:.2f}\".format(test_metrics[4])) >  best_accuracy:\n",
    "                torch.save(model.state_dict(), '../models/training_data/model_xlmroberta_large_TrainData_wl_dropout.bin')\n",
    "                best_accuracy = float(\"{:.3f}\".format(test_metrics[4]))"
   ]
  },
  {
   "cell_type": "markdown",
   "metadata": {},
   "source": [
    "<h3> Testing the models on unseen data </h3>"
   ]
  },
  {
   "cell_type": "code",
   "execution_count": 18,
   "metadata": {},
   "outputs": [
    {
     "name": "stdout",
     "output_type": "stream",
     "text": [
      "loss_train : [0.58366492413623, 0.4772883388740676, 0.38347769301916873, 0.3110601469866399, 0.25059688177864464, 0.21072702273936011] \n",
      " loss_test :  [0.5130610898733139, 0.6630874518752098, 0.8968404987752437, 1.118706422355026, 1.5691945418771356, 1.5257049862742424] \n",
      " f1_class0_train : [0.37446393261600885, 0.47697462612338803, 0.5817127534006394, 0.659928232605009, 0.71233263041848, 0.7581466191029701] \n",
      " f1_class0_test : [0.4374486377141412, 0.47410970118706514, 0.4627131053237109, 0.4599765318096016, 0.43735763097949887, 0.4472266071525775] \n",
      " f1_class1_train : [0.8039233047845966, 0.8665149524023207, 0.909259277673919, 0.932198115865685, 0.9454679771233055, 0.9563462206273875] \n",
      " f1_class1_test : [0.8367215881985982, 0.9151265916860724, 0.9154542462146148, 0.9125502928759676, 0.9242820264601485, 0.916946782147852] \n",
      " accuracy_score_train : [0.7014334479356266, 0.7873116263107254, 0.8508699355898341, 0.8869379942351574, 0.9083161225611264, 0.9260416858181194] \n",
      " accuracy_score_test : [0.746903485445315, 0.8538416689182463, 0.853898550930732, 0.8494759744599764, 0.8665263577025355, 0.8555907908021786] \n",
      " mcc_score_train : [0.2836559941169746, 0.41231129937571276, 0.5332920070636643, 0.6222744148024977, 0.6810349716881441, 0.731233999436706] \n",
      " mcc_score_test : [0.3583243405986378, 0.3901756173179189, 0.3784839191248396, 0.37354771773009, 0.3656594085074288, 0.3642046228543234] \n",
      " f1_class0_train_src : [0.35912249354774667, 0.462399718920185, 0.5672578115574858, 0.6505136091927339, 0.6999076079548037, 0.7468266278370422] \n",
      " f1_class0_test_src : [0.42183258748441055, 0.4527984626471295, 0.4481009526166027, 0.4472460220318238, 0.4215894602634935, 0.43736120182887] \n",
      " f1_class1_train : [0.8039233047845966, 0.8665149524023207, 0.909259277673919, 0.932198115865685, 0.9454679771233055, 0.9563462206273875] \n",
      " f1_class1_test : [0.8367215881985982, 0.9151265916860724, 0.9154542462146148, 0.9125502928759676, 0.9242820264601485, 0.916946782147852] \n",
      " accuracy_score_train : [0.7014334479356266, 0.7873116263107254, 0.8508699355898341, 0.8869379942351574, 0.9083161225611264, 0.9260416858181194] \n",
      " accuracy_score_test : [0.746903485445315, 0.8538416689182463, 0.853898550930732, 0.8494759744599764, 0.8665263577025355, 0.8555907908021786] \n",
      " mcc_score_train : [0.2836559941169746, 0.41231129937571276, 0.5332920070636643, 0.6222744148024977, 0.6810349716881441, 0.731233999436706] \n",
      " mcc_score_test_src : [0.319017988751362, 0.350160161664035, 0.34686075935189137, 0.3449573560351178, 0.33268771115569645, 0.3396652914602332] \n",
      " f1_class0_train_tar : [0.4002046921744607, 0.5104311675521085, 0.6261858744270805, 0.7083711596349563, 0.7670339046854218, 0.8104638267336421] \n",
      " f1_class0_test_tar : [0.4654806786050896, 0.5145435346068926, 0.5033617661816356, 0.509560516568225, 0.47510017172295366, 0.49095773140716964] \n",
      " f1_class1_train_tar : [0.6983091117886983, 0.8112924479746526, 0.8828843791629902, 0.9174739887910112, 0.9380836134677979, 0.952041068982024] \n",
      " f1_class1_test_tar : [0.7587087166941445, 0.8854975659458848, 0.8890781540668355, 0.8901397080259233, 0.8999934564966082, 0.8948427172447333] \n",
      " accuracy_score_train_tar : [0.5985456461599262, 0.7275879330786458, 0.8216466868660256, 0.8713529179291266, 0.9021683572651824, 0.9234514556711896] \n",
      " accuracy_score_test_tar : [0.6675094353449855, 0.8147008171191968, 0.8186581656956505, 0.8204902715180828, 0.8319958960829578, 0.8256934520537906] \n",
      " mcc_score_train_tar : [0.2493989275408621, 0.4075620166583255, 0.5530007773666035, 0.6529657730877163, 0.7231712084838168, 0.7742643888827414] \n",
      " mcc_score_test_tar : [0.33664397074513186, 0.40088744627359324, 0.39243992457221843, 0.3997029423424414, 0.3828094560117368, 0.3875942629258704] \n",
      " f1_class0_train_gaps : [0.08154943934760447, 0.19378789753743347, 0.26737739872068234, 0.3229125445191927, 0.36873786407766984, 0.4242424242424242] \n",
      " f1_class0_test_gaps : [0.18234723569350147, 0.16978776529338327, 0.19553072625698323, 0.18862690707350901, 0.19144144144144143, 0.20423048869438365] \n",
      " f1_class1_train_gaps : [0.9767781510150431, 0.9717479824633678, 0.9700310504832014, 0.9700580988380233, 0.9715304049320442, 0.9751722992609815] \n",
      " f1_class1_test_gaps : [0.9746763195049417, 0.980160505981682, 0.9740119112073632, 0.9644138937891599, 0.9785235702321129, 0.9668882211903245] \n",
      " accuracy_score_train_gaps : [0.9547016138492735, 0.9454089926429924, 0.9424175897839822, 0.9426522096160614, 0.9455179232793149, 0.9523973119270668] \n",
      " accuracy_score_test_gaps : [0.9508741258741259, 0.9612470862470862, 0.9496503496503497, 0.9318181818181818, 0.9581585081585081, 0.9364219114219114] \n",
      " mcc_score_train_gaps : [0.058694393298650636, 0.17100126954598396, 0.2551598605161807, 0.3219106921431329, 0.37531603717102413, 0.4330263183529956] \n",
      " mcc_score_test_gaps : [0.15849646843966705, 0.1518733209580958, 0.172250461593746, 0.17095202628028203, 0.17004657497568562, 0.18656597792989738]\n"
     ]
    }
   ],
   "source": [
    "train_metrices = np.array(train_loss_lst)\n",
    "test_metrices = np.array(val_loss_lst)\n",
    "loss_train = train_metrices[:,0]\n",
    "loss_test = test_metrices[:,0]\n",
    "f1_class0_train = train_metrices[:,1]\n",
    "f1_class0_test= test_metrices[:,1]\n",
    "f1_class1_train = train_metrices[:,2]\n",
    "f1_class1_test = test_metrices[:,2]\n",
    "accuracy_score_train = train_metrices[:,3]\n",
    "accuracy_score_test = test_metrices[:,3]\n",
    "mcc_score_train = train_metrices[:,4]\n",
    "mcc_score_test = test_metrices[:,4]\n",
    "f1_class0_train_src = train_metrices[:,5]\n",
    "f1_class0_test_src= test_metrices[:,5]\n",
    "f1_class1_train_src = train_metrices[:,6]\n",
    "f1_class1_test_src = test_metrices[:,6]\n",
    "accuracy_score_train_src = train_metrices[:,7]\n",
    "accuracy_score_test_src = test_metrices[:,7]\n",
    "mcc_score_train_src = train_metrices[:,8]\n",
    "mcc_score_test_src = test_metrices[:,8]\n",
    "\n",
    "f1_class0_train_tar = train_metrices[:,9]\n",
    "f1_class0_test_tar= test_metrices[:,9]\n",
    "f1_class1_train_tar = train_metrices[:,10]\n",
    "f1_class1_test_tar = test_metrices[:,10]\n",
    "accuracy_score_train_tar = train_metrices[:,11]\n",
    "accuracy_score_test_tar = test_metrices[:,11]\n",
    "mcc_score_train_tar = train_metrices[:,12]\n",
    "mcc_score_test_tar = test_metrices[:,12]\n",
    "\n",
    "f1_class0_train_gaps = train_metrices[:,13]\n",
    "f1_class0_test_gaps= test_metrices[:,13]\n",
    "f1_class1_train_gaps = train_metrices[:,14]\n",
    "f1_class1_test_gaps = test_metrices[:,14]\n",
    "accuracy_score_train_gaps = train_metrices[:,15]\n",
    "accuracy_score_test_gaps = test_metrices[:,15]\n",
    "mcc_score_train_gaps = train_metrices[:,16]\n",
    "mcc_score_test_gaps = test_metrices[:,16]\n",
    "print('loss_train :',list(loss_train),'\\n','loss_test : ',list(loss_test),'\\n','f1_class0_train :',list(f1_class0_train),'\\n','f1_class0_test :',list(f1_class0_test),'\\n','f1_class1_train :',list(f1_class1_train),'\\n','f1_class1_test :',list(f1_class1_test),'\\n','accuracy_score_train :',list(accuracy_score_train),'\\n','accuracy_score_test :',list(accuracy_score_test),'\\n','mcc_score_train :',list(mcc_score_train),'\\n',\n",
    "    'mcc_score_test :', list(mcc_score_test),'\\n','f1_class0_train_src :',list(f1_class0_train_src),'\\n','f1_class0_test_src :',list(f1_class0_test_src),'\\n','f1_class1_train :',list(f1_class1_train),'\\n','f1_class1_test :',list(f1_class1_test),'\\n','accuracy_score_train :',list(accuracy_score_train),'\\n','accuracy_score_test :',list(accuracy_score_test),'\\n','mcc_score_train :',list(mcc_score_train),'\\n',\n",
    "    'mcc_score_test_src :', list(mcc_score_test_src), '\\n','f1_class0_train_tar :',list(f1_class0_train_tar),'\\n','f1_class0_test_tar :',list(f1_class0_test_tar),'\\n','f1_class1_train_tar :',list(f1_class1_train_tar),'\\n','f1_class1_test_tar :',list(f1_class1_test_tar),'\\n','accuracy_score_train_tar :',list(accuracy_score_train_tar),'\\n','accuracy_score_test_tar :',list(accuracy_score_test_tar),'\\n','mcc_score_train_tar :',list(mcc_score_train_tar),'\\n',\n",
    "    'mcc_score_test_tar :', list(mcc_score_test_tar),'\\n','f1_class0_train_gaps :',list(f1_class0_train_gaps),'\\n','f1_class0_test_gaps :',list(f1_class0_test_gaps),'\\n','f1_class1_train_gaps :',list(f1_class1_train_gaps),'\\n','f1_class1_test_gaps :',list(f1_class1_test_gaps),'\\n','accuracy_score_train_gaps :',list(accuracy_score_train_gaps),'\\n','accuracy_score_test_gaps :',list(accuracy_score_test_gaps),'\\n','mcc_score_train_gaps :',list(mcc_score_train_gaps),'\\n',\n",
    "    'mcc_score_test_gaps :', list(mcc_score_test_gaps))"
   ]
  },
  {
   "cell_type": "code",
   "execution_count": null,
   "metadata": {},
   "outputs": [],
   "source": []
  },
  {
   "cell_type": "code",
   "execution_count": 20,
   "metadata": {},
   "outputs": [
    {
     "data": {
      "image/png": "[encoded data removed]",
      "text/plain": [
       "<Figure size 432x288 with 1 Axes>"
      ]
     },
     "metadata": {
      "needs_background": "light"
     },
     "output_type": "display_data"
    },
    {
     "data": {
      "image/png": "[encoded data removed]",
      "text/plain": [
       "<Figure size 432x288 with 1 Axes>"
      ]
     },
     "metadata": {
      "needs_background": "light"
     },
     "output_type": "display_data"
    },
    {
     "data": {
      "image/png": "[encoded data removed]",
      "text/plain": [
       "<Figure size 432x288 with 1 Axes>"
      ]
     },
     "metadata": {
      "needs_background": "light"
     },
     "output_type": "display_data"
    },
    {
     "data": {
      "image/png": "[encoded data removed]",
      "text/plain": [
       "<Figure size 432x288 with 1 Axes>"
      ]
     },
     "metadata": {
      "needs_background": "light"
     },
     "output_type": "display_data"
    },
    {
     "data": {
      "image/png": "[encoded data removed]",
      "text/plain": [
       "<Figure size 432x288 with 1 Axes>"
      ]
     },
     "metadata": {
      "needs_background": "light"
     },
     "output_type": "display_data"
    }
   ],
   "source": [
    "plot_against_epochs(loss_train[:-1],loss_test[:-1],label1 = 'train_loss', \n",
    "                    label2 = 'validation_loss', y_label = 'loss', title ='XMLRobertaForTokenClassification_earlyStopping-trainData', epochs = epoch )\n",
    "plot_against_epochs(mcc_score_train[:-1],mcc_score_test[:-1],label1 = 'mcc_train', \n",
    "                    label2 = 'mcc_test', y_label = 'mcc_score', title ='XMLRobertaForTokenClassification_earlyStopping-trainData', epochs = epoch )\n",
    "plot_against_epochs(mcc_score_train_gaps[:-1],mcc_score_test_gaps[:-1],label1 = 'mcc_train_gaps', \n",
    "                    label2 = 'mcc_test_gaps', y_label = 'mcc_score', title ='XMLRobertaForTokenClassification_earlyStopping-trainData', epochs = epoch )\n",
    "plot_against_epochs(mcc_score_train_src[:-1],mcc_score_test_src[:-1],label1 = 'mcc_train_src', \n",
    "                    label2 = 'mcc_test_src', y_label = 'mcc_score', title ='XMLRobertaForTokenClassification_earlyStopping-trainData', epochs = epoch )\n",
    "\n",
    "plot_against_epochs(mcc_score_train_tar[:-1],mcc_score_test_tar[:-1],label1 = 'mcc_train_tar', \n",
    "                    label2 = 'mcc_test_tar', y_label = 'mcc_score', title ='XMLRobertaForTokenClassification_earlyStopping-trainData', epochs = epoch )\n"
   ]
  },
  {
   "cell_type": "code",
   "execution_count": 21,
   "metadata": {},
   "outputs": [
    {
     "name": "stdout",
     "output_type": "stream",
     "text": [
      "Max mcc achieved for dev data(whole sentence) is 0.3901756173179189 ,in the 2th epoch \n",
      "Max mcc achieved for gaps is 0.18656597792989738 ,in the 6th epoch \n",
      "Max mcc achieved for target tokens is 0.40088744627359324 ,in the 2th epoch \n",
      "Max mcc achieved for source tokens is 0.350160161664035 ,in the 2th epoch \n"
     ]
    }
   ],
   "source": [
    "print('Max mcc achieved for dev data(whole sentence) is', np.amax(mcc_score_test),f',in the {np.argmax(mcc_score_test)+1}th epoch ')\n",
    "print('Max mcc achieved for gaps is', np.amax(mcc_score_test_gaps),f',in the {np.argmax(mcc_score_test_gaps)+1}th epoch ')\n",
    "print('Max mcc achieved for target tokens is', np.amax(mcc_score_test_tar),f',in the {np.argmax(mcc_score_test_tar)+1}th epoch ')\n",
    "print('Max mcc achieved for source tokens is', np.amax(mcc_score_test_src),f',in the {np.argmax(mcc_score_test_src)+1}th epoch ')"
   ]
  },
  {
   "cell_type": "code",
   "execution_count": 34,
   "metadata": {},
   "outputs": [
    {
     "data": {
      "text/plain": [
       "DataParallel(\n",
       "  (module): EntityModel(\n",
       "    (bert): XLMRobertaForTokenClassification(\n",
       "      (roberta): RobertaModel(\n",
       "        (embeddings): RobertaEmbeddings(\n",
       "          (word_embeddings): Embedding(250002, 1024, padding_idx=1)\n",
       "          (position_embeddings): Embedding(514, 1024, padding_idx=1)\n",
       "          (token_type_embeddings): Embedding(1, 1024)\n",
       "          (LayerNorm): LayerNorm((1024,), eps=1e-05, elementwise_affine=True)\n",
       "          (dropout): Dropout(p=0.1, inplace=False)\n",
       "        )\n",
       "        (encoder): RobertaEncoder(\n",
       "          (layer): ModuleList(\n",
       "            (0): RobertaLayer(\n",
       "              (attention): RobertaAttention(\n",
       "                (self): RobertaSelfAttention(\n",
       "                  (query): Linear(in_features=1024, out_features=1024, bias=True)\n",
       "                  (key): Linear(in_features=1024, out_features=1024, bias=True)\n",
       "                  (value): Linear(in_features=1024, out_features=1024, bias=True)\n",
       "                  (dropout): Dropout(p=0.1, inplace=False)\n",
       "                )\n",
       "                (output): RobertaSelfOutput(\n",
       "                  (dense): Linear(in_features=1024, out_features=1024, bias=True)\n",
       "                  (LayerNorm): LayerNorm((1024,), eps=1e-05, elementwise_affine=True)\n",
       "                  (dropout): Dropout(p=0.1, inplace=False)\n",
       "                )\n",
       "              )\n",
       "              (intermediate): RobertaIntermediate(\n",
       "                (dense): Linear(in_features=1024, out_features=4096, bias=True)\n",
       "              )\n",
       "              (output): RobertaOutput(\n",
       "                (dense): Linear(in_features=4096, out_features=1024, bias=True)\n",
       "                (LayerNorm): LayerNorm((1024,), eps=1e-05, elementwise_affine=True)\n",
       "                (dropout): Dropout(p=0.1, inplace=False)\n",
       "              )\n",
       "            )\n",
       "            (1): RobertaLayer(\n",
       "              (attention): RobertaAttention(\n",
       "                (self): RobertaSelfAttention(\n",
       "                  (query): Linear(in_features=1024, out_features=1024, bias=True)\n",
       "                  (key): Linear(in_features=1024, out_features=1024, bias=True)\n",
       "                  (value): Linear(in_features=1024, out_features=1024, bias=True)\n",
       "                  (dropout): Dropout(p=0.1, inplace=False)\n",
       "                )\n",
       "                (output): RobertaSelfOutput(\n",
       "                  (dense): Linear(in_features=1024, out_features=1024, bias=True)\n",
       "                  (LayerNorm): LayerNorm((1024,), eps=1e-05, elementwise_affine=True)\n",
       "                  (dropout): Dropout(p=0.1, inplace=False)\n",
       "                )\n",
       "              )\n",
       "              (intermediate): RobertaIntermediate(\n",
       "                (dense): Linear(in_features=1024, out_features=4096, bias=True)\n",
       "              )\n",
       "              (output): RobertaOutput(\n",
       "                (dense): Linear(in_features=4096, out_features=1024, bias=True)\n",
       "                (LayerNorm): LayerNorm((1024,), eps=1e-05, elementwise_affine=True)\n",
       "                (dropout): Dropout(p=0.1, inplace=False)\n",
       "              )\n",
       "            )\n",
       "            (2): RobertaLayer(\n",
       "              (attention): RobertaAttention(\n",
       "                (self): RobertaSelfAttention(\n",
       "                  (query): Linear(in_features=1024, out_features=1024, bias=True)\n",
       "                  (key): Linear(in_features=1024, out_features=1024, bias=True)\n",
       "                  (value): Linear(in_features=1024, out_features=1024, bias=True)\n",
       "                  (dropout): Dropout(p=0.1, inplace=False)\n",
       "                )\n",
       "                (output): RobertaSelfOutput(\n",
       "                  (dense): Linear(in_features=1024, out_features=1024, bias=True)\n",
       "                  (LayerNorm): LayerNorm((1024,), eps=1e-05, elementwise_affine=True)\n",
       "                  (dropout): Dropout(p=0.1, inplace=False)\n",
       "                )\n",
       "              )\n",
       "              (intermediate): RobertaIntermediate(\n",
       "                (dense): Linear(in_features=1024, out_features=4096, bias=True)\n",
       "              )\n",
       "              (output): RobertaOutput(\n",
       "                (dense): Linear(in_features=4096, out_features=1024, bias=True)\n",
       "                (LayerNorm): LayerNorm((1024,), eps=1e-05, elementwise_affine=True)\n",
       "                (dropout): Dropout(p=0.1, inplace=False)\n",
       "              )\n",
       "            )\n",
       "            (3): RobertaLayer(\n",
       "              (attention): RobertaAttention(\n",
       "                (self): RobertaSelfAttention(\n",
       "                  (query): Linear(in_features=1024, out_features=1024, bias=True)\n",
       "                  (key): Linear(in_features=1024, out_features=1024, bias=True)\n",
       "                  (value): Linear(in_features=1024, out_features=1024, bias=True)\n",
       "                  (dropout): Dropout(p=0.1, inplace=False)\n",
       "                )\n",
       "                (output): RobertaSelfOutput(\n",
       "                  (dense): Linear(in_features=1024, out_features=1024, bias=True)\n",
       "                  (LayerNorm): LayerNorm((1024,), eps=1e-05, elementwise_affine=True)\n",
       "                  (dropout): Dropout(p=0.1, inplace=False)\n",
       "                )\n",
       "              )\n",
       "              (intermediate): RobertaIntermediate(\n",
       "                (dense): Linear(in_features=1024, out_features=4096, bias=True)\n",
       "              )\n",
       "              (output): RobertaOutput(\n",
       "                (dense): Linear(in_features=4096, out_features=1024, bias=True)\n",
       "                (LayerNorm): LayerNorm((1024,), eps=1e-05, elementwise_affine=True)\n",
       "                (dropout): Dropout(p=0.1, inplace=False)\n",
       "              )\n",
       "            )\n",
       "            (4): RobertaLayer(\n",
       "              (attention): RobertaAttention(\n",
       "                (self): RobertaSelfAttention(\n",
       "                  (query): Linear(in_features=1024, out_features=1024, bias=True)\n",
       "                  (key): Linear(in_features=1024, out_features=1024, bias=True)\n",
       "                  (value): Linear(in_features=1024, out_features=1024, bias=True)\n",
       "                  (dropout): Dropout(p=0.1, inplace=False)\n",
       "                )\n",
       "                (output): RobertaSelfOutput(\n",
       "                  (dense): Linear(in_features=1024, out_features=1024, bias=True)\n",
       "                  (LayerNorm): LayerNorm((1024,), eps=1e-05, elementwise_affine=True)\n",
       "                  (dropout): Dropout(p=0.1, inplace=False)\n",
       "                )\n",
       "              )\n",
       "              (intermediate): RobertaIntermediate(\n",
       "                (dense): Linear(in_features=1024, out_features=4096, bias=True)\n",
       "              )\n",
       "              (output): RobertaOutput(\n",
       "                (dense): Linear(in_features=4096, out_features=1024, bias=True)\n",
       "                (LayerNorm): LayerNorm((1024,), eps=1e-05, elementwise_affine=True)\n",
       "                (dropout): Dropout(p=0.1, inplace=False)\n",
       "              )\n",
       "            )\n",
       "            (5): RobertaLayer(\n",
       "              (attention): RobertaAttention(\n",
       "                (self): RobertaSelfAttention(\n",
       "                  (query): Linear(in_features=1024, out_features=1024, bias=True)\n",
       "                  (key): Linear(in_features=1024, out_features=1024, bias=True)\n",
       "                  (value): Linear(in_features=1024, out_features=1024, bias=True)\n",
       "                  (dropout): Dropout(p=0.1, inplace=False)\n",
       "                )\n",
       "                (output): RobertaSelfOutput(\n",
       "                  (dense): Linear(in_features=1024, out_features=1024, bias=True)\n",
       "                  (LayerNorm): LayerNorm((1024,), eps=1e-05, elementwise_affine=True)\n",
       "                  (dropout): Dropout(p=0.1, inplace=False)\n",
       "                )\n",
       "              )\n",
       "              (intermediate): RobertaIntermediate(\n",
       "                (dense): Linear(in_features=1024, out_features=4096, bias=True)\n",
       "              )\n",
       "              (output): RobertaOutput(\n",
       "                (dense): Linear(in_features=4096, out_features=1024, bias=True)\n",
       "                (LayerNorm): LayerNorm((1024,), eps=1e-05, elementwise_affine=True)\n",
       "                (dropout): Dropout(p=0.1, inplace=False)\n",
       "              )\n",
       "            )\n",
       "            (6): RobertaLayer(\n",
       "              (attention): RobertaAttention(\n",
       "                (self): RobertaSelfAttention(\n",
       "                  (query): Linear(in_features=1024, out_features=1024, bias=True)\n",
       "                  (key): Linear(in_features=1024, out_features=1024, bias=True)\n",
       "                  (value): Linear(in_features=1024, out_features=1024, bias=True)\n",
       "                  (dropout): Dropout(p=0.1, inplace=False)\n",
       "                )\n",
       "                (output): RobertaSelfOutput(\n",
       "                  (dense): Linear(in_features=1024, out_features=1024, bias=True)\n",
       "                  (LayerNorm): LayerNorm((1024,), eps=1e-05, elementwise_affine=True)\n",
       "                  (dropout): Dropout(p=0.1, inplace=False)\n",
       "                )\n",
       "              )\n",
       "              (intermediate): RobertaIntermediate(\n",
       "                (dense): Linear(in_features=1024, out_features=4096, bias=True)\n",
       "              )\n",
       "              (output): RobertaOutput(\n",
       "                (dense): Linear(in_features=4096, out_features=1024, bias=True)\n",
       "                (LayerNorm): LayerNorm((1024,), eps=1e-05, elementwise_affine=True)\n",
       "                (dropout): Dropout(p=0.1, inplace=False)\n",
       "              )\n",
       "            )\n",
       "            (7): RobertaLayer(\n",
       "              (attention): RobertaAttention(\n",
       "                (self): RobertaSelfAttention(\n",
       "                  (query): Linear(in_features=1024, out_features=1024, bias=True)\n",
       "                  (key): Linear(in_features=1024, out_features=1024, bias=True)\n",
       "                  (value): Linear(in_features=1024, out_features=1024, bias=True)\n",
       "                  (dropout): Dropout(p=0.1, inplace=False)\n",
       "                )\n",
       "                (output): RobertaSelfOutput(\n",
       "                  (dense): Linear(in_features=1024, out_features=1024, bias=True)\n",
       "                  (LayerNorm): LayerNorm((1024,), eps=1e-05, elementwise_affine=True)\n",
       "                  (dropout): Dropout(p=0.1, inplace=False)\n",
       "                )\n",
       "              )\n",
       "              (intermediate): RobertaIntermediate(\n",
       "                (dense): Linear(in_features=1024, out_features=4096, bias=True)\n",
       "              )\n",
       "              (output): RobertaOutput(\n",
       "                (dense): Linear(in_features=4096, out_features=1024, bias=True)\n",
       "                (LayerNorm): LayerNorm((1024,), eps=1e-05, elementwise_affine=True)\n",
       "                (dropout): Dropout(p=0.1, inplace=False)\n",
       "              )\n",
       "            )\n",
       "            (8): RobertaLayer(\n",
       "              (attention): RobertaAttention(\n",
       "                (self): RobertaSelfAttention(\n",
       "                  (query): Linear(in_features=1024, out_features=1024, bias=True)\n",
       "                  (key): Linear(in_features=1024, out_features=1024, bias=True)\n",
       "                  (value): Linear(in_features=1024, out_features=1024, bias=True)\n",
       "                  (dropout): Dropout(p=0.1, inplace=False)\n",
       "                )\n",
       "                (output): RobertaSelfOutput(\n",
       "                  (dense): Linear(in_features=1024, out_features=1024, bias=True)\n",
       "                  (LayerNorm): LayerNorm((1024,), eps=1e-05, elementwise_affine=True)\n",
       "                  (dropout): Dropout(p=0.1, inplace=False)\n",
       "                )\n",
       "              )\n",
       "              (intermediate): RobertaIntermediate(\n",
       "                (dense): Linear(in_features=1024, out_features=4096, bias=True)\n",
       "              )\n",
       "              (output): RobertaOutput(\n",
       "                (dense): Linear(in_features=4096, out_features=1024, bias=True)\n",
       "                (LayerNorm): LayerNorm((1024,), eps=1e-05, elementwise_affine=True)\n",
       "                (dropout): Dropout(p=0.1, inplace=False)\n",
       "              )\n",
       "            )\n",
       "            (9): RobertaLayer(\n",
       "              (attention): RobertaAttention(\n",
       "                (self): RobertaSelfAttention(\n",
       "                  (query): Linear(in_features=1024, out_features=1024, bias=True)\n",
       "                  (key): Linear(in_features=1024, out_features=1024, bias=True)\n",
       "                  (value): Linear(in_features=1024, out_features=1024, bias=True)\n",
       "                  (dropout): Dropout(p=0.1, inplace=False)\n",
       "                )\n",
       "                (output): RobertaSelfOutput(\n",
       "                  (dense): Linear(in_features=1024, out_features=1024, bias=True)\n",
       "                  (LayerNorm): LayerNorm((1024,), eps=1e-05, elementwise_affine=True)\n",
       "                  (dropout): Dropout(p=0.1, inplace=False)\n",
       "                )\n",
       "              )\n",
       "              (intermediate): RobertaIntermediate(\n",
       "                (dense): Linear(in_features=1024, out_features=4096, bias=True)\n",
       "              )\n",
       "              (output): RobertaOutput(\n",
       "                (dense): Linear(in_features=4096, out_features=1024, bias=True)\n",
       "                (LayerNorm): LayerNorm((1024,), eps=1e-05, elementwise_affine=True)\n",
       "                (dropout): Dropout(p=0.1, inplace=False)\n",
       "              )\n",
       "            )\n",
       "            (10): RobertaLayer(\n",
       "              (attention): RobertaAttention(\n",
       "                (self): RobertaSelfAttention(\n",
       "                  (query): Linear(in_features=1024, out_features=1024, bias=True)\n",
       "                  (key): Linear(in_features=1024, out_features=1024, bias=True)\n",
       "                  (value): Linear(in_features=1024, out_features=1024, bias=True)\n",
       "                  (dropout): Dropout(p=0.1, inplace=False)\n",
       "                )\n",
       "                (output): RobertaSelfOutput(\n",
       "                  (dense): Linear(in_features=1024, out_features=1024, bias=True)\n",
       "                  (LayerNorm): LayerNorm((1024,), eps=1e-05, elementwise_affine=True)\n",
       "                  (dropout): Dropout(p=0.1, inplace=False)\n",
       "                )\n",
       "              )\n",
       "              (intermediate): RobertaIntermediate(\n",
       "                (dense): Linear(in_features=1024, out_features=4096, bias=True)\n",
       "              )\n",
       "              (output): RobertaOutput(\n",
       "                (dense): Linear(in_features=4096, out_features=1024, bias=True)\n",
       "                (LayerNorm): LayerNorm((1024,), eps=1e-05, elementwise_affine=True)\n",
       "                (dropout): Dropout(p=0.1, inplace=False)\n",
       "              )\n",
       "            )\n",
       "            (11): RobertaLayer(\n",
       "              (attention): RobertaAttention(\n",
       "                (self): RobertaSelfAttention(\n",
       "                  (query): Linear(in_features=1024, out_features=1024, bias=True)\n",
       "                  (key): Linear(in_features=1024, out_features=1024, bias=True)\n",
       "                  (value): Linear(in_features=1024, out_features=1024, bias=True)\n",
       "                  (dropout): Dropout(p=0.1, inplace=False)\n",
       "                )\n",
       "                (output): RobertaSelfOutput(\n",
       "                  (dense): Linear(in_features=1024, out_features=1024, bias=True)\n",
       "                  (LayerNorm): LayerNorm((1024,), eps=1e-05, elementwise_affine=True)\n",
       "                  (dropout): Dropout(p=0.1, inplace=False)\n",
       "                )\n",
       "              )\n",
       "              (intermediate): RobertaIntermediate(\n",
       "                (dense): Linear(in_features=1024, out_features=4096, bias=True)\n",
       "              )\n",
       "              (output): RobertaOutput(\n",
       "                (dense): Linear(in_features=4096, out_features=1024, bias=True)\n",
       "                (LayerNorm): LayerNorm((1024,), eps=1e-05, elementwise_affine=True)\n",
       "                (dropout): Dropout(p=0.1, inplace=False)\n",
       "              )\n",
       "            )\n",
       "            (12): RobertaLayer(\n",
       "              (attention): RobertaAttention(\n",
       "                (self): RobertaSelfAttention(\n",
       "                  (query): Linear(in_features=1024, out_features=1024, bias=True)\n",
       "                  (key): Linear(in_features=1024, out_features=1024, bias=True)\n",
       "                  (value): Linear(in_features=1024, out_features=1024, bias=True)\n",
       "                  (dropout): Dropout(p=0.1, inplace=False)\n",
       "                )\n",
       "                (output): RobertaSelfOutput(\n",
       "                  (dense): Linear(in_features=1024, out_features=1024, bias=True)\n",
       "                  (LayerNorm): LayerNorm((1024,), eps=1e-05, elementwise_affine=True)\n",
       "                  (dropout): Dropout(p=0.1, inplace=False)\n",
       "                )\n",
       "              )\n",
       "              (intermediate): RobertaIntermediate(\n",
       "                (dense): Linear(in_features=1024, out_features=4096, bias=True)\n",
       "              )\n",
       "              (output): RobertaOutput(\n",
       "                (dense): Linear(in_features=4096, out_features=1024, bias=True)\n",
       "                (LayerNorm): LayerNorm((1024,), eps=1e-05, elementwise_affine=True)\n",
       "                (dropout): Dropout(p=0.1, inplace=False)\n",
       "              )\n",
       "            )\n",
       "            (13): RobertaLayer(\n",
       "              (attention): RobertaAttention(\n",
       "                (self): RobertaSelfAttention(\n",
       "                  (query): Linear(in_features=1024, out_features=1024, bias=True)\n",
       "                  (key): Linear(in_features=1024, out_features=1024, bias=True)\n",
       "                  (value): Linear(in_features=1024, out_features=1024, bias=True)\n",
       "                  (dropout): Dropout(p=0.1, inplace=False)\n",
       "                )\n",
       "                (output): RobertaSelfOutput(\n",
       "                  (dense): Linear(in_features=1024, out_features=1024, bias=True)\n",
       "                  (LayerNorm): LayerNorm((1024,), eps=1e-05, elementwise_affine=True)\n",
       "                  (dropout): Dropout(p=0.1, inplace=False)\n",
       "                )\n",
       "              )\n",
       "              (intermediate): RobertaIntermediate(\n",
       "                (dense): Linear(in_features=1024, out_features=4096, bias=True)\n",
       "              )\n",
       "              (output): RobertaOutput(\n",
       "                (dense): Linear(in_features=4096, out_features=1024, bias=True)\n",
       "                (LayerNorm): LayerNorm((1024,), eps=1e-05, elementwise_affine=True)\n",
       "                (dropout): Dropout(p=0.1, inplace=False)\n",
       "              )\n",
       "            )\n",
       "            (14): RobertaLayer(\n",
       "              (attention): RobertaAttention(\n",
       "                (self): RobertaSelfAttention(\n",
       "                  (query): Linear(in_features=1024, out_features=1024, bias=True)\n",
       "                  (key): Linear(in_features=1024, out_features=1024, bias=True)\n",
       "                  (value): Linear(in_features=1024, out_features=1024, bias=True)\n",
       "                  (dropout): Dropout(p=0.1, inplace=False)\n",
       "                )\n",
       "                (output): RobertaSelfOutput(\n",
       "                  (dense): Linear(in_features=1024, out_features=1024, bias=True)\n",
       "                  (LayerNorm): LayerNorm((1024,), eps=1e-05, elementwise_affine=True)\n",
       "                  (dropout): Dropout(p=0.1, inplace=False)\n",
       "                )\n",
       "              )\n",
       "              (intermediate): RobertaIntermediate(\n",
       "                (dense): Linear(in_features=1024, out_features=4096, bias=True)\n",
       "              )\n",
       "              (output): RobertaOutput(\n",
       "                (dense): Linear(in_features=4096, out_features=1024, bias=True)\n",
       "                (LayerNorm): LayerNorm((1024,), eps=1e-05, elementwise_affine=True)\n",
       "                (dropout): Dropout(p=0.1, inplace=False)\n",
       "              )\n",
       "            )\n",
       "            (15): RobertaLayer(\n",
       "              (attention): RobertaAttention(\n",
       "                (self): RobertaSelfAttention(\n",
       "                  (query): Linear(in_features=1024, out_features=1024, bias=True)\n",
       "                  (key): Linear(in_features=1024, out_features=1024, bias=True)\n",
       "                  (value): Linear(in_features=1024, out_features=1024, bias=True)\n",
       "                  (dropout): Dropout(p=0.1, inplace=False)\n",
       "                )\n",
       "                (output): RobertaSelfOutput(\n",
       "                  (dense): Linear(in_features=1024, out_features=1024, bias=True)\n",
       "                  (LayerNorm): LayerNorm((1024,), eps=1e-05, elementwise_affine=True)\n",
       "                  (dropout): Dropout(p=0.1, inplace=False)\n",
       "                )\n",
       "              )\n",
       "              (intermediate): RobertaIntermediate(\n",
       "                (dense): Linear(in_features=1024, out_features=4096, bias=True)\n",
       "              )\n",
       "              (output): RobertaOutput(\n",
       "                (dense): Linear(in_features=4096, out_features=1024, bias=True)\n",
       "                (LayerNorm): LayerNorm((1024,), eps=1e-05, elementwise_affine=True)\n",
       "                (dropout): Dropout(p=0.1, inplace=False)\n",
       "              )\n",
       "            )\n",
       "            (16): RobertaLayer(\n",
       "              (attention): RobertaAttention(\n",
       "                (self): RobertaSelfAttention(\n",
       "                  (query): Linear(in_features=1024, out_features=1024, bias=True)\n",
       "                  (key): Linear(in_features=1024, out_features=1024, bias=True)\n",
       "                  (value): Linear(in_features=1024, out_features=1024, bias=True)\n",
       "                  (dropout): Dropout(p=0.1, inplace=False)\n",
       "                )\n",
       "                (output): RobertaSelfOutput(\n",
       "                  (dense): Linear(in_features=1024, out_features=1024, bias=True)\n",
       "                  (LayerNorm): LayerNorm((1024,), eps=1e-05, elementwise_affine=True)\n",
       "                  (dropout): Dropout(p=0.1, inplace=False)\n",
       "                )\n",
       "              )\n",
       "              (intermediate): RobertaIntermediate(\n",
       "                (dense): Linear(in_features=1024, out_features=4096, bias=True)\n",
       "              )\n",
       "              (output): RobertaOutput(\n",
       "                (dense): Linear(in_features=4096, out_features=1024, bias=True)\n",
       "                (LayerNorm): LayerNorm((1024,), eps=1e-05, elementwise_affine=True)\n",
       "                (dropout): Dropout(p=0.1, inplace=False)\n",
       "              )\n",
       "            )\n",
       "            (17): RobertaLayer(\n",
       "              (attention): RobertaAttention(\n",
       "                (self): RobertaSelfAttention(\n",
       "                  (query): Linear(in_features=1024, out_features=1024, bias=True)\n",
       "                  (key): Linear(in_features=1024, out_features=1024, bias=True)\n",
       "                  (value): Linear(in_features=1024, out_features=1024, bias=True)\n",
       "                  (dropout): Dropout(p=0.1, inplace=False)\n",
       "                )\n",
       "                (output): RobertaSelfOutput(\n",
       "                  (dense): Linear(in_features=1024, out_features=1024, bias=True)\n",
       "                  (LayerNorm): LayerNorm((1024,), eps=1e-05, elementwise_affine=True)\n",
       "                  (dropout): Dropout(p=0.1, inplace=False)\n",
       "                )\n",
       "              )\n",
       "              (intermediate): RobertaIntermediate(\n",
       "                (dense): Linear(in_features=1024, out_features=4096, bias=True)\n",
       "              )\n",
       "              (output): RobertaOutput(\n",
       "                (dense): Linear(in_features=4096, out_features=1024, bias=True)\n",
       "                (LayerNorm): LayerNorm((1024,), eps=1e-05, elementwise_affine=True)\n",
       "                (dropout): Dropout(p=0.1, inplace=False)\n",
       "              )\n",
       "            )\n",
       "            (18): RobertaLayer(\n",
       "              (attention): RobertaAttention(\n",
       "                (self): RobertaSelfAttention(\n",
       "                  (query): Linear(in_features=1024, out_features=1024, bias=True)\n",
       "                  (key): Linear(in_features=1024, out_features=1024, bias=True)\n",
       "                  (value): Linear(in_features=1024, out_features=1024, bias=True)\n",
       "                  (dropout): Dropout(p=0.1, inplace=False)\n",
       "                )\n",
       "                (output): RobertaSelfOutput(\n",
       "                  (dense): Linear(in_features=1024, out_features=1024, bias=True)\n",
       "                  (LayerNorm): LayerNorm((1024,), eps=1e-05, elementwise_affine=True)\n",
       "                  (dropout): Dropout(p=0.1, inplace=False)\n",
       "                )\n",
       "              )\n",
       "              (intermediate): RobertaIntermediate(\n",
       "                (dense): Linear(in_features=1024, out_features=4096, bias=True)\n",
       "              )\n",
       "              (output): RobertaOutput(\n",
       "                (dense): Linear(in_features=4096, out_features=1024, bias=True)\n",
       "                (LayerNorm): LayerNorm((1024,), eps=1e-05, elementwise_affine=True)\n",
       "                (dropout): Dropout(p=0.1, inplace=False)\n",
       "              )\n",
       "            )\n",
       "            (19): RobertaLayer(\n",
       "              (attention): RobertaAttention(\n",
       "                (self): RobertaSelfAttention(\n",
       "                  (query): Linear(in_features=1024, out_features=1024, bias=True)\n",
       "                  (key): Linear(in_features=1024, out_features=1024, bias=True)\n",
       "                  (value): Linear(in_features=1024, out_features=1024, bias=True)\n",
       "                  (dropout): Dropout(p=0.1, inplace=False)\n",
       "                )\n",
       "                (output): RobertaSelfOutput(\n",
       "                  (dense): Linear(in_features=1024, out_features=1024, bias=True)\n",
       "                  (LayerNorm): LayerNorm((1024,), eps=1e-05, elementwise_affine=True)\n",
       "                  (dropout): Dropout(p=0.1, inplace=False)\n",
       "                )\n",
       "              )\n",
       "              (intermediate): RobertaIntermediate(\n",
       "                (dense): Linear(in_features=1024, out_features=4096, bias=True)\n",
       "              )\n",
       "              (output): RobertaOutput(\n",
       "                (dense): Linear(in_features=4096, out_features=1024, bias=True)\n",
       "                (LayerNorm): LayerNorm((1024,), eps=1e-05, elementwise_affine=True)\n",
       "                (dropout): Dropout(p=0.1, inplace=False)\n",
       "              )\n",
       "            )\n",
       "            (20): RobertaLayer(\n",
       "              (attention): RobertaAttention(\n",
       "                (self): RobertaSelfAttention(\n",
       "                  (query): Linear(in_features=1024, out_features=1024, bias=True)\n",
       "                  (key): Linear(in_features=1024, out_features=1024, bias=True)\n",
       "                  (value): Linear(in_features=1024, out_features=1024, bias=True)\n",
       "                  (dropout): Dropout(p=0.1, inplace=False)\n",
       "                )\n",
       "                (output): RobertaSelfOutput(\n",
       "                  (dense): Linear(in_features=1024, out_features=1024, bias=True)\n",
       "                  (LayerNorm): LayerNorm((1024,), eps=1e-05, elementwise_affine=True)\n",
       "                  (dropout): Dropout(p=0.1, inplace=False)\n",
       "                )\n",
       "              )\n",
       "              (intermediate): RobertaIntermediate(\n",
       "                (dense): Linear(in_features=1024, out_features=4096, bias=True)\n",
       "              )\n",
       "              (output): RobertaOutput(\n",
       "                (dense): Linear(in_features=4096, out_features=1024, bias=True)\n",
       "                (LayerNorm): LayerNorm((1024,), eps=1e-05, elementwise_affine=True)\n",
       "                (dropout): Dropout(p=0.1, inplace=False)\n",
       "              )\n",
       "            )\n",
       "            (21): RobertaLayer(\n",
       "              (attention): RobertaAttention(\n",
       "                (self): RobertaSelfAttention(\n",
       "                  (query): Linear(in_features=1024, out_features=1024, bias=True)\n",
       "                  (key): Linear(in_features=1024, out_features=1024, bias=True)\n",
       "                  (value): Linear(in_features=1024, out_features=1024, bias=True)\n",
       "                  (dropout): Dropout(p=0.1, inplace=False)\n",
       "                )\n",
       "                (output): RobertaSelfOutput(\n",
       "                  (dense): Linear(in_features=1024, out_features=1024, bias=True)\n",
       "                  (LayerNorm): LayerNorm((1024,), eps=1e-05, elementwise_affine=True)\n",
       "                  (dropout): Dropout(p=0.1, inplace=False)\n",
       "                )\n",
       "              )\n",
       "              (intermediate): RobertaIntermediate(\n",
       "                (dense): Linear(in_features=1024, out_features=4096, bias=True)\n",
       "              )\n",
       "              (output): RobertaOutput(\n",
       "                (dense): Linear(in_features=4096, out_features=1024, bias=True)\n",
       "                (LayerNorm): LayerNorm((1024,), eps=1e-05, elementwise_affine=True)\n",
       "                (dropout): Dropout(p=0.1, inplace=False)\n",
       "              )\n",
       "            )\n",
       "            (22): RobertaLayer(\n",
       "              (attention): RobertaAttention(\n",
       "                (self): RobertaSelfAttention(\n",
       "                  (query): Linear(in_features=1024, out_features=1024, bias=True)\n",
       "                  (key): Linear(in_features=1024, out_features=1024, bias=True)\n",
       "                  (value): Linear(in_features=1024, out_features=1024, bias=True)\n",
       "                  (dropout): Dropout(p=0.1, inplace=False)\n",
       "                )\n",
       "                (output): RobertaSelfOutput(\n",
       "                  (dense): Linear(in_features=1024, out_features=1024, bias=True)\n",
       "                  (LayerNorm): LayerNorm((1024,), eps=1e-05, elementwise_affine=True)\n",
       "                  (dropout): Dropout(p=0.1, inplace=False)\n",
       "                )\n",
       "              )\n",
       "              (intermediate): RobertaIntermediate(\n",
       "                (dense): Linear(in_features=1024, out_features=4096, bias=True)\n",
       "              )\n",
       "              (output): RobertaOutput(\n",
       "                (dense): Linear(in_features=4096, out_features=1024, bias=True)\n",
       "                (LayerNorm): LayerNorm((1024,), eps=1e-05, elementwise_affine=True)\n",
       "                (dropout): Dropout(p=0.1, inplace=False)\n",
       "              )\n",
       "            )\n",
       "            (23): RobertaLayer(\n",
       "              (attention): RobertaAttention(\n",
       "                (self): RobertaSelfAttention(\n",
       "                  (query): Linear(in_features=1024, out_features=1024, bias=True)\n",
       "                  (key): Linear(in_features=1024, out_features=1024, bias=True)\n",
       "                  (value): Linear(in_features=1024, out_features=1024, bias=True)\n",
       "                  (dropout): Dropout(p=0.1, inplace=False)\n",
       "                )\n",
       "                (output): RobertaSelfOutput(\n",
       "                  (dense): Linear(in_features=1024, out_features=1024, bias=True)\n",
       "                  (LayerNorm): LayerNorm((1024,), eps=1e-05, elementwise_affine=True)\n",
       "                  (dropout): Dropout(p=0.1, inplace=False)\n",
       "                )\n",
       "              )\n",
       "              (intermediate): RobertaIntermediate(\n",
       "                (dense): Linear(in_features=1024, out_features=4096, bias=True)\n",
       "              )\n",
       "              (output): RobertaOutput(\n",
       "                (dense): Linear(in_features=4096, out_features=1024, bias=True)\n",
       "                (LayerNorm): LayerNorm((1024,), eps=1e-05, elementwise_affine=True)\n",
       "                (dropout): Dropout(p=0.1, inplace=False)\n",
       "              )\n",
       "            )\n",
       "          )\n",
       "        )\n",
       "      )\n",
       "      (dropout): Dropout(p=0.1, inplace=False)\n",
       "      (classifier): Linear(in_features=1024, out_features=2, bias=True)\n",
       "    )\n",
       "  )\n",
       ")"
      ]
     },
     "execution_count": 34,
     "metadata": {},
     "output_type": "execute_result"
    }
   ],
   "source": [
    "model.load_state_dict(torch.load('../models/training_data/model_xlmrobertatokenclassificationmodel_lar_trainData_earlystopping.bin'))\n",
    "model.eval()"
   ]
  },
  {
   "cell_type": "code",
   "execution_count": 35,
   "metadata": {},
   "outputs": [
    {
     "name": "stderr",
     "output_type": "stream",
     "text": [
      "INFO:numexpr.utils:Note: NumExpr detected 48 cores but \"NUMEXPR_MAX_THREADS\" not set, so enforcing safe limit of 8.INFO:numexpr.utils:Note: NumExpr detected 48 cores but \"NUMEXPR_MAX_THREADS\" not set, so enforcing safe limit of 8.\n",
      "\n",
      "INFO:numexpr.utils:NumExpr defaulting to 8 threads.INFO:numexpr.utils:NumExpr defaulting to 8 threads.\n",
      "\n"
     ]
    }
   ],
   "source": [
    "batch = next(iter(val_dataloader))\n",
    "input_ids_b = batch[0].cuda()\n",
    "attention_mask_b = batch[1].cuda()\n",
    "labels_b = batch[2].cuda()"
   ]
  },
  {
   "cell_type": "code",
   "execution_count": 36,
   "metadata": {},
   "outputs": [
    {
     "name": "stdout",
     "output_type": "stream",
     "text": [
      "f1 score for class 0 : 0.2795698924731183\n",
      "f1 score for class 1 : 0.9409691629955949\n",
      "accuracy score : 0.8908794788273615\n",
      "mcc score : 0.3011012174665758\n",
      "              precision    recall  f1-score   support\n",
      "\n",
      "           0       0.65      0.18      0.28        73\n",
      "           1       0.90      0.99      0.94       541\n",
      "\n",
      "    accuracy                           0.89       614\n",
      "   macro avg       0.77      0.58      0.61       614\n",
      "weighted avg       0.87      0.89      0.86       614\n",
      "\n"
     ]
    },
    {
     "name": "stderr",
     "output_type": "stream",
     "text": [
      "/opt/conda/lib/python3.6/site-packages/torch/nn/parallel/_functions.py:61: UserWarning: Was asked to gather along dimension 0, but all input tensors were scalars; will instead unsqueeze and return a vector.\n",
      "  warnings.warn('Was asked to gather along dimension 0, but all '\n"
     ]
    }
   ],
   "source": [
    "outputs_pred = model(input_ids_b, attention_mask = attention_mask_b, labels = labels_b )\n",
    "labels = labels_b.view(-1) \n",
    "active_logits = outputs_pred[1].view(-1, 2)\n",
    "flattened_predictions = torch.argmax(active_logits, axis=1)\n",
    "active_accuracy = labels.view(-1) != -100\n",
    "labels_tmp = torch.masked_select(labels, active_accuracy) \n",
    "pred_tmp = torch.masked_select(flattened_predictions, active_accuracy)\n",
    "print('f1 score for class 0 :',f1_score(labels_tmp.tolist(),pred_tmp.tolist(),average='binary',pos_label = 0))\n",
    "print('f1 score for class 1 :',f1_score(labels_tmp.tolist(),pred_tmp.tolist(),average='binary',pos_label = 1) )    \n",
    "print('accuracy score :',accuracy_score(labels_tmp.tolist(),pred_tmp.tolist()))\n",
    "print('mcc score :',matthews_corrcoef(labels_tmp.tolist(),pred_tmp.tolist()))\n",
    "print(classification_report(labels_tmp.tolist(),pred_tmp.tolist()))"
   ]
  },
  {
   "cell_type": "code",
   "execution_count": 37,
   "metadata": {},
   "outputs": [
    {
     "name": "stdout",
     "output_type": "stream",
     "text": [
      "f1 score overall : 0.9409691629955949\n"
     ]
    }
   ],
   "source": [
    "print('f1 score overall :',f1_score(labels_tmp.tolist(),pred_tmp.tolist()) )    \n"
   ]
  },
  {
   "cell_type": "code",
   "execution_count": 36,
   "metadata": {},
   "outputs": [
    {
     "name": "stdout",
     "output_type": "stream",
     "text": [
      "tensor([     0,    241,    147,    538,  12610,      6, 101287,      7,     47,\n",
      "         64372, 176016,     71,    604, 102917,    538,    237,     10,   1926,\n",
      "         87463,    136,  32926,    111,   1926,  23962,      6,      5,      2,\n",
      "             2,    656, 180702,     13,    656,  45445,     39,   4986,    656,\n",
      "           360,  37738,     33,    656,    142,    656,  64372,    656,   3820,\n",
      "         42001,    656,   1329,    656,   1248,    656,  18341,    656,    737,\n",
      "           656,  25357,   1505,     73,    656,    165,    656,  60150,  38982,\n",
      "         45118,    656,    542,    656,  25357,   1505,     19,    656,      6,\n",
      "             5,    656,      2,      1,      1,      1,      1,      1,      1,\n",
      "             1,      1,      1,      1,      1,      1,      1,      1,      1,\n",
      "             1,      1,      1,      1,      1,      1,      1,      1,      1,\n",
      "             1,      1,      1,      1,      1,      1,      1,      1,      1,\n",
      "             1,      1,      1,      1,      1,      1,      1,      1,      1,\n",
      "             1,      1,      1,      1,      1,      1,      1,      1,      1,\n",
      "             1,      1,      1,      1,      1,      1,      1,      1,      1,\n",
      "             1,      1,      1,      1,      1,      1,      1,      1,      1,\n",
      "             1,      1,      1,      1,      1,      1,      1,      1,      1,\n",
      "             1,      1,      1,      1,      1,      1,      1,      1,      1,\n",
      "             1,      1,      1,      1,      1,      1,      1,      1,      1,\n",
      "             1,      1,      1,      1,      1,      1,      1,      1,      1,\n",
      "             1,      1,      1,      1,      1,      1,      1,      1,      1,\n",
      "             1,      1,      1,      1,      1,      1,      1,      1,      1,\n",
      "             1,      1,      1,      1,      1,      1,      1,      1,      1,\n",
      "             1,      1,      1,      1,      1,      1,      1,      1,      1,\n",
      "             1,      1,      1,      1,      1,      1,      1,      1,      1,\n",
      "             1,      1,      1,      1,      1,      1,      1,      1,      1,\n",
      "             1,      1,      1,      1,      1,      1,      1,      1,      1,\n",
      "             1,      1,      1,      1,      1,      1,      1,      1,      1,\n",
      "             1,      1,      1,      1], device='cuda:0')\n",
      "tensor([1, 1, 1, 1, 1, 1, 1, 1, 1, 1, 1, 1, 1, 1, 1, 1, 1, 1, 1, 1, 1, 1, 1, 1,\n",
      "        1, 1, 1, 1, 1, 1, 1, 1, 1, 1, 1, 1, 1, 1, 1, 1, 1, 1, 1, 1, 1, 1, 1, 1,\n",
      "        1, 1, 1, 1, 1, 1, 1, 1, 1, 1, 1, 1, 1, 1, 1, 1, 1, 1, 1, 1, 1, 1, 1, 1,\n",
      "        1, 1, 1, 0, 0, 0, 0, 0, 0, 0, 0, 0, 0, 0, 0, 0, 0, 0, 0, 0, 0, 0, 0, 0,\n",
      "        0, 0, 0, 0, 0, 0, 0, 0, 0, 0, 0, 0, 0, 0, 0, 0, 0, 0, 0, 0, 0, 0, 0, 0,\n",
      "        0, 0, 0, 0, 0, 0, 0, 0, 0, 0, 0, 0, 0, 0, 0, 0, 0, 0, 0, 0, 0, 0, 0, 0,\n",
      "        0, 0, 0, 0, 0, 0, 0, 0, 0, 0, 0, 0, 0, 0, 0, 0, 0, 0, 0, 0, 0, 0, 0, 0,\n",
      "        0, 0, 0, 0, 0, 0, 0, 0, 0, 0, 0, 0, 0, 0, 0, 0, 0, 0, 0, 0, 0, 0, 0, 0,\n",
      "        0, 0, 0, 0, 0, 0, 0, 0, 0, 0, 0, 0, 0, 0, 0, 0, 0, 0, 0, 0, 0, 0, 0, 0,\n",
      "        0, 0, 0, 0, 0, 0, 0, 0, 0, 0, 0, 0, 0, 0, 0, 0, 0, 0, 0, 0, 0, 0, 0, 0,\n",
      "        0, 0, 0, 0, 0, 0, 0, 0, 0, 0, 0, 0, 0, 0, 0, 0], device='cuda:0')\n",
      "tensor([-100,    1,    1,    1,    1,    1,    1,    1,    1,    1,    1,    1,\n",
      "           1,    1,    1,    1,    1,    1,    1,    1,    1,    1,    1,    1,\n",
      "           1,    1, -100, -100,    1,    1,    1,    1,    1,    1,    1,    1,\n",
      "           1,    1,    1,    1,    1,    1,    1,    1,    1,    1,    1,    1,\n",
      "           1,    1,    1,    1,    1,    1,    1,    1,    1,    1,    1,    1,\n",
      "           1,    1,    1,    1,    1,    1,    1,    1,    1,    1,    1,    1,\n",
      "           1,    1, -100, -100, -100, -100, -100, -100, -100, -100, -100, -100,\n",
      "        -100, -100, -100, -100, -100, -100, -100, -100, -100, -100, -100, -100,\n",
      "        -100, -100, -100, -100, -100, -100, -100, -100, -100, -100, -100, -100,\n",
      "        -100, -100, -100, -100, -100, -100, -100, -100, -100, -100, -100, -100,\n",
      "        -100, -100, -100, -100, -100, -100, -100, -100, -100, -100, -100, -100,\n",
      "        -100, -100, -100, -100, -100, -100, -100, -100, -100, -100, -100, -100,\n",
      "        -100, -100, -100, -100, -100, -100, -100, -100, -100, -100, -100, -100,\n",
      "        -100, -100, -100, -100, -100, -100, -100, -100, -100, -100, -100, -100,\n",
      "        -100, -100, -100, -100, -100, -100, -100, -100, -100, -100, -100, -100,\n",
      "        -100, -100, -100, -100, -100, -100, -100, -100, -100, -100, -100, -100,\n",
      "        -100, -100, -100, -100, -100, -100, -100, -100, -100, -100, -100, -100,\n",
      "        -100, -100, -100, -100, -100, -100, -100, -100, -100, -100, -100, -100,\n",
      "        -100, -100, -100, -100, -100, -100, -100, -100, -100, -100, -100, -100,\n",
      "        -100, -100, -100, -100, -100, -100, -100, -100, -100, -100, -100, -100,\n",
      "        -100, -100, -100, -100, -100, -100, -100, -100, -100, -100, -100, -100,\n",
      "        -100, -100, -100, -100], device='cuda:0')\n"
     ]
    }
   ],
   "source": [
    "print(input_ids_b[0])\n",
    "print(attention_mask_b[0])\n",
    "print(labels_b[0])"
   ]
  },
  {
   "cell_type": "code",
   "execution_count": 46,
   "metadata": {},
   "outputs": [
    {
     "data": {
      "text/plain": [
       "tensor([-3.0275e-22,  3.0688e-41])"
      ]
     },
     "execution_count": 46,
     "metadata": {},
     "output_type": "execute_result"
    }
   ],
   "source": [
    "print(input_ids_b.tolist())\n"
   ]
  },
  {
   "cell_type": "code",
   "execution_count": 49,
   "metadata": {},
   "outputs": [
    {
     "data": {
      "text/plain": [
       "tensor([[[-1.5755,  2.1431],\n",
       "         [-2.0731,  2.5395],\n",
       "         [-2.0786,  2.6243],\n",
       "         ...,\n",
       "         [-1.2857,  2.2847],\n",
       "         [-1.2857,  2.2847],\n",
       "         [-1.2857,  2.2847]],\n",
       "\n",
       "        [[-0.8680,  1.7539],\n",
       "         [-0.2165,  0.4778],\n",
       "         [-0.6057,  0.5730],\n",
       "         ...,\n",
       "         [-0.8171,  2.1133],\n",
       "         [-0.8171,  2.1133],\n",
       "         [-0.8171,  2.1133]],\n",
       "\n",
       "        [[-2.3140,  3.1032],\n",
       "         [-1.3967,  1.9284],\n",
       "         [-2.1930,  2.8714],\n",
       "         ...,\n",
       "         [-0.7345,  1.8473],\n",
       "         [-0.7345,  1.8473],\n",
       "         [-0.7345,  1.8473]],\n",
       "\n",
       "        ...,\n",
       "\n",
       "        [[-1.8779,  2.5788],\n",
       "         [-1.1160,  1.6957],\n",
       "         [-1.4398,  1.4903],\n",
       "         ...,\n",
       "         [-0.5970,  0.9176],\n",
       "         [-0.5970,  0.9176],\n",
       "         [-0.5970,  0.9176]],\n",
       "\n",
       "        [[-3.4575,  4.1277],\n",
       "         [-4.0676,  4.2741],\n",
       "         [-4.1043,  4.3594],\n",
       "         ...,\n",
       "         [-2.8568,  3.8547],\n",
       "         [-2.8568,  3.8547],\n",
       "         [-2.8568,  3.8547]],\n",
       "\n",
       "        [[-3.2421,  4.1605],\n",
       "         [-4.0004,  4.1854],\n",
       "         [-2.3899,  2.1156],\n",
       "         ...,\n",
       "         [-2.8725,  4.1783],\n",
       "         [-2.8725,  4.1783],\n",
       "         [-2.8725,  4.1783]]], device='cuda:0', grad_fn=<GatherBackward>)"
      ]
     },
     "execution_count": 49,
     "metadata": {},
     "output_type": "execute_result"
    }
   ],
   "source": [
    "outputs_pred[1]"
   ]
  },
  {
   "cell_type": "code",
   "execution_count": 51,
   "metadata": {},
   "outputs": [
    {
     "data": {
      "text/plain": [
       "torch.Size([2048])"
      ]
     },
     "execution_count": 51,
     "metadata": {},
     "output_type": "execute_result"
    }
   ],
   "source": [
    "flattened_predictions.shape"
   ]
  },
  {
   "cell_type": "code",
   "execution_count": 53,
   "metadata": {},
   "outputs": [
    {
     "data": {
      "text/plain": [
       "tensor([1, 1, 1, 1, 1, 1, 1, 1, 1, 0, 0, 1, 1, 1, 1, 1, 1, 1, 1, 1, 1, 1, 1, 1,\n",
       "        1, 1, 1, 1, 1, 1, 1, 1, 1, 1, 1, 1, 1, 1, 1, 1, 1, 0, 0, 1, 1, 1, 1, 1,\n",
       "        1, 1, 1, 1, 1, 1, 1, 1, 1, 1, 1, 1, 1, 1, 1, 1, 1, 1, 1, 1, 1, 1, 1, 1,\n",
       "        1, 1, 1, 1, 1, 1, 1, 1, 1, 1, 1, 1, 1, 1, 1, 1, 1, 1, 1, 1, 1, 1, 1, 1,\n",
       "        1, 1, 1, 1, 1, 1, 1, 1, 1, 1, 1, 1, 1, 1, 1, 1, 1, 1, 1, 1, 1, 1, 1, 1,\n",
       "        1, 1, 1, 0, 1, 1, 1, 1, 1, 1, 1, 1, 1, 1, 1, 1, 1, 1, 1, 1, 1, 1, 1, 1,\n",
       "        1, 1, 1, 1, 1, 1, 1, 1, 1, 1, 1, 1, 1, 1, 1, 1, 1, 1, 1, 1, 1, 1, 1, 1,\n",
       "        1, 1, 1, 1, 1, 1, 1, 1, 1, 1, 1, 1, 1, 1, 1, 1, 1, 1, 1, 1, 1, 1, 1, 1,\n",
       "        1, 1, 1, 1, 1, 1, 1, 1, 1, 1, 1, 1, 1, 1, 1, 1, 1, 1, 1, 1, 1, 1, 1, 1,\n",
       "        1, 1, 1, 1, 1, 1, 1, 1, 1, 1, 1, 1, 1, 1, 1, 1, 1, 1, 1, 1, 1, 1, 1, 1,\n",
       "        1, 1, 1, 1, 1, 1, 1, 1, 1, 1, 1, 1, 1, 1, 1, 1, 1, 1, 1, 1, 1, 1, 1, 1,\n",
       "        1, 1, 1, 1, 1, 1, 0, 0, 1, 1, 0, 0, 1, 1, 1, 1, 1, 1, 1, 1, 1, 1, 1, 1,\n",
       "        1, 1, 1, 1, 1, 1, 1, 1, 1, 1, 1, 1, 1, 0, 0, 0, 0, 0, 1, 1, 1, 1, 1, 1,\n",
       "        1, 1, 1, 1, 1, 1, 1, 1, 1, 1, 1, 1, 1, 1, 1, 1, 1, 1, 1, 1, 1, 1, 1, 1,\n",
       "        1, 1, 1, 1, 1, 1, 1, 1, 1, 1, 1, 1, 1, 1, 1, 1, 1, 1, 1, 1, 1, 1, 1, 1,\n",
       "        1, 1, 1, 1, 1, 1, 1, 1, 1, 1, 1, 1, 1, 1, 1, 1, 1, 1, 1, 1, 1, 1, 1, 1,\n",
       "        1, 1, 1, 1, 1, 1, 1, 1, 1, 1, 1, 1, 1, 1, 1, 1, 1, 1, 1, 1, 1, 1, 1, 1,\n",
       "        1, 1, 1, 1, 1, 1, 1, 1, 1, 1, 1, 1, 1, 1, 1, 1, 1, 1, 1, 1, 1, 1, 1, 1,\n",
       "        1, 1, 1, 1, 1, 1, 1, 1, 1, 1, 1, 1, 1, 1, 1, 1, 1, 1, 1, 1, 1, 1, 1, 1,\n",
       "        1, 1, 1, 1, 1, 1, 1, 1, 1, 1, 1, 1, 1, 1, 1, 1, 1, 1, 1, 1, 1, 1, 1, 1,\n",
       "        1, 1, 1, 1, 1, 1, 1, 1, 1, 1, 1, 1, 1, 1, 1, 1, 1, 1, 1, 1, 1, 1],\n",
       "       device='cuda:0')"
      ]
     },
     "execution_count": 53,
     "metadata": {},
     "output_type": "execute_result"
    }
   ],
   "source": [
    "pred_tmp"
   ]
  },
  {
   "cell_type": "code",
   "execution_count": 92,
   "metadata": {},
   "outputs": [
    {
     "data": {
      "text/plain": [
       "tensor([1, 1, 1, 1, 1, 1, 1, 1, 1, 1, 0, 0, 0, 0, 0, 1, 1, 1, 1, 1, 1, 1, 1, 1,\n",
       "        1, 1, 1, 1, 1, 1, 1, 1, 1, 1, 1, 1, 1, 1, 1, 1, 1, 1, 1, 1, 1, 1, 1, 1,\n",
       "        1, 1, 1, 1, 1, 1, 1, 1, 1, 1, 1, 1, 0, 1, 0, 1, 0, 1, 0, 0, 1, 1, 1, 1,\n",
       "        1, 1, 1, 1, 1, 1, 1, 1, 1, 1, 1, 1, 1, 1, 1, 1, 1, 1, 1, 1, 1, 1, 1, 1,\n",
       "        1, 1, 1, 1, 1, 1, 1, 1, 1, 1, 1, 1, 1, 1, 1, 1, 1, 1, 1, 1, 1, 1, 1, 1,\n",
       "        1, 1, 1, 1, 1, 1, 1, 1, 1, 1, 1, 1, 1, 1, 1, 1, 1, 1, 1, 1, 1, 1, 1, 1,\n",
       "        1, 1, 1, 0, 1, 0, 1, 0, 0, 1, 1, 1, 1, 1, 1, 1, 1, 1, 1, 1, 1, 1, 1, 1,\n",
       "        1, 1, 1, 1, 1, 1, 1, 1, 1, 1, 1, 1, 1, 1, 1, 1, 1, 1, 1, 1, 1, 1, 1, 1,\n",
       "        1, 1, 1, 1, 1, 1, 1, 1, 1, 1, 1, 1, 1, 1, 1, 1, 1, 1, 1, 1, 1, 1, 1, 1,\n",
       "        1, 1, 1, 0, 0, 1, 1, 1, 1, 1, 1, 1, 1, 1, 1, 1, 1, 1, 1, 1, 1, 1, 1, 1,\n",
       "        1, 1, 1, 1, 1, 1, 1, 0, 0, 0, 1, 1, 1, 1, 1, 1, 1, 1, 1, 1, 1, 1, 1, 1,\n",
       "        1, 1, 1, 1, 1, 1, 1, 1, 1, 1, 1, 1, 1, 1, 0, 0, 0, 1, 1, 1, 1, 1, 1, 1,\n",
       "        1, 1, 1, 1, 1, 1, 1, 1, 1, 1, 1, 1, 1, 1, 1, 1, 1, 1, 1, 1, 1, 1, 1, 1,\n",
       "        1, 1, 1, 1, 1, 1, 1, 1, 1, 1, 1, 1, 1, 1, 1, 1, 1, 1, 1, 1, 1, 1, 1, 1,\n",
       "        1, 1, 1, 1, 1, 1, 1, 1, 1, 1, 1, 1, 1, 1, 1, 1, 1, 1, 1, 1, 1, 1, 1, 1,\n",
       "        1, 1, 1, 1, 1, 1, 1, 1, 1, 0, 1, 0, 0, 1, 1, 1, 1, 1, 1, 1, 1, 1, 1, 1,\n",
       "        1, 1, 1, 1, 1, 1, 1, 1, 1, 1, 1, 1, 1, 1, 1, 1, 1, 1, 1, 1, 1, 1, 1, 1,\n",
       "        1, 1, 1, 1, 1, 1, 1, 1, 1, 1, 1, 1, 1, 1, 1, 1, 1, 1, 1, 1, 1, 1, 1, 1,\n",
       "        1, 1, 1, 1, 1, 1, 1, 1, 1, 1, 1, 1, 1, 1, 1, 1, 1, 1, 1, 1, 1, 1, 1, 1,\n",
       "        1, 1, 1, 1, 1, 1, 1, 1, 1, 1, 1, 1, 0, 0, 0, 0, 1, 1, 1, 1, 1, 1, 1, 1,\n",
       "        1, 1, 1, 1, 1, 1, 1, 1, 1, 1, 1, 1, 1, 1, 1, 1, 1, 1, 1, 1, 1, 1, 1, 1,\n",
       "        1, 1, 1, 1, 0, 0, 1, 0, 0, 1, 1, 1, 1, 1, 1, 1, 1, 1, 1, 1, 1, 1, 1, 1,\n",
       "        1, 1, 1, 1, 1, 1, 1, 1, 1, 1, 1, 1, 1, 1, 1, 1, 1, 1, 1, 1, 1, 1, 1, 1,\n",
       "        1, 1, 1, 1, 1, 1, 1, 1, 1, 1, 1, 1, 1, 1, 1, 1, 1, 1, 1, 1, 1, 1, 1, 1,\n",
       "        1, 1, 1, 1, 1, 1, 1, 1, 1], device='cuda:0')"
      ]
     },
     "execution_count": 92,
     "metadata": {},
     "output_type": "execute_result"
    }
   ],
   "source": [
    "pred_tmp"
   ]
  },
  {
   "cell_type": "code",
   "execution_count": 55,
   "metadata": {},
   "outputs": [
    {
     "data": {
      "text/plain": [
       "tensor([1, 1, 1, 1, 1, 1, 1, 1, 1, 1, 1, 1, 1, 1, 1, 1, 1, 1, 1, 1, 1, 1, 1, 1,\n",
       "        1, 1, 1, 1, 1, 1, 1, 1, 1, 1, 1, 1, 1, 1, 1, 1, 1, 1, 1, 1, 1, 1, 1, 1,\n",
       "        1, 1, 1, 1, 1, 1, 1, 1, 1, 1, 1, 1, 1, 1, 1, 1, 1, 1, 1, 1, 1, 1, 1, 0,\n",
       "        1, 1, 1, 1, 1, 1, 1, 1, 1, 1, 1, 1, 1, 1, 1, 1, 1, 1, 1, 1, 1, 1, 1, 1,\n",
       "        1, 1, 1, 1, 1, 1, 1, 0, 1, 0, 1, 1, 1, 1, 1, 1, 1, 1, 1, 1, 1, 1, 1, 1,\n",
       "        1, 1, 0, 0, 1, 1, 1, 1, 1, 1, 1, 1, 1, 1, 1, 1, 1, 1, 1, 1, 1, 1, 1, 1,\n",
       "        1, 1, 1, 1, 1, 1, 1, 1, 1, 1, 1, 1, 1, 0, 0, 1, 1, 1, 1, 1, 0, 0, 0, 1,\n",
       "        1, 1, 1, 1, 1, 1, 1, 1, 1, 1, 1, 1, 1, 1, 1, 0, 0, 1, 1, 1, 1, 1, 1, 1,\n",
       "        1, 1, 1, 1, 0, 0, 0, 0, 0, 1, 1, 1, 1, 1, 1, 1, 1, 1, 1, 1, 1, 1, 1, 1,\n",
       "        0, 1, 1, 1, 0, 1, 1, 1, 1, 1, 1, 1, 1, 1, 1, 1, 1, 1, 0, 1, 1, 1, 1, 1,\n",
       "        0, 1, 1, 1, 1, 1, 1, 1, 1, 1, 1, 1, 1, 1, 1, 1, 1, 1, 1, 1, 1, 1, 1, 1,\n",
       "        1, 1, 1, 1, 1, 1, 0, 0, 1, 1, 0, 0, 1, 1, 1, 1, 1, 1, 1, 1, 1, 1, 1, 1,\n",
       "        1, 1, 1, 1, 1, 1, 1, 1, 1, 1, 1, 1, 0, 0, 0, 0, 0, 0, 1, 1, 1, 1, 1, 1,\n",
       "        0, 1, 1, 0, 0, 0, 0, 0, 0, 0, 0, 0, 0, 0, 0, 1, 0, 1, 1, 1, 1, 1, 1, 1,\n",
       "        1, 1, 0, 0, 1, 0, 1, 0, 0, 0, 0, 0, 0, 0, 0, 1, 0, 1, 0, 0, 1, 1, 1, 0,\n",
       "        1, 1, 0, 1, 1, 1, 1, 1, 1, 1, 0, 1, 1, 1, 1, 1, 1, 1, 1, 1, 1, 1, 1, 1,\n",
       "        1, 1, 1, 1, 1, 1, 1, 1, 1, 1, 1, 1, 1, 1, 1, 1, 1, 1, 1, 1, 1, 1, 1, 1,\n",
       "        1, 1, 1, 1, 1, 0, 0, 0, 0, 0, 1, 1, 1, 1, 1, 1, 1, 1, 1, 1, 1, 1, 1, 1,\n",
       "        1, 1, 1, 1, 1, 1, 1, 1, 1, 1, 1, 1, 1, 1, 1, 1, 1, 1, 1, 1, 0, 0, 0, 0,\n",
       "        1, 1, 1, 1, 1, 1, 1, 1, 1, 1, 1, 1, 1, 1, 1, 1, 1, 1, 1, 1, 1, 1, 1, 1,\n",
       "        1, 1, 1, 1, 1, 1, 1, 1, 1, 1, 1, 1, 1, 1, 1, 1, 1, 1, 1, 1, 1, 1],\n",
       "       device='cuda:0')"
      ]
     },
     "execution_count": 55,
     "metadata": {},
     "output_type": "execute_result"
    }
   ],
   "source": [
    "labels_tmp"
   ]
  },
  {
   "cell_type": "code",
   "execution_count": 56,
   "metadata": {},
   "outputs": [
    {
     "data": {
      "text/plain": [
       "tensor([1, 1, 1, 1, 1, 1, 1, 1, 1, 0, 0, 1, 1, 1, 1, 1, 1, 1, 1, 1, 1, 1, 1, 1,\n",
       "        1, 1, 1, 1, 1, 1, 1, 1, 1, 1, 1, 1, 1, 1, 1, 1, 1, 0, 0, 1, 1, 1, 1, 1,\n",
       "        1, 1, 1, 1, 1, 1, 1, 1, 1, 1, 1, 1, 1, 1, 1, 1, 1, 1, 1, 1, 1, 1, 1, 1,\n",
       "        1, 1, 1, 1, 1, 1, 1, 1, 1, 1, 1, 1, 1, 1, 1, 1, 1, 1, 1, 1, 1, 1, 1, 1,\n",
       "        1, 1, 1, 1, 1, 1, 1, 1, 1, 1, 1, 1, 1, 1, 1, 1, 1, 1, 1, 1, 1, 1, 1, 1,\n",
       "        1, 1, 1, 0, 1, 1, 1, 1, 1, 1, 1, 1, 1, 1, 1, 1, 1, 1, 1, 1, 1, 1, 1, 1,\n",
       "        1, 1, 1, 1, 1, 1, 1, 1, 1, 1, 1, 1, 1, 1, 1, 1, 1, 1, 1, 1, 1, 1, 1, 1,\n",
       "        1, 1, 1, 1, 1, 1, 1, 1, 1, 1, 1, 1, 1, 1, 1, 1, 1, 1, 1, 1, 1, 1, 1, 1,\n",
       "        1, 1, 1, 1, 1, 1, 1, 1, 1, 1, 1, 1, 1, 1, 1, 1, 1, 1, 1, 1, 1, 1, 1, 1,\n",
       "        1, 1, 1, 1, 1, 1, 1, 1, 1, 1, 1, 1, 1, 1, 1, 1, 1, 1, 1, 1, 1, 1, 1, 1,\n",
       "        1, 1, 1, 1, 1, 1, 1, 1, 1, 1, 1, 1, 1, 1, 1, 1, 1, 1, 1, 1, 1, 1, 1, 1,\n",
       "        1, 1, 1, 1, 1, 1, 0, 0, 1, 1, 0, 0, 1, 1, 1, 1, 1, 1, 1, 1, 1, 1, 1, 1,\n",
       "        1, 1, 1, 1, 1, 1, 1, 1, 1, 1, 1, 1, 1, 0, 0, 0, 0, 0, 1, 1, 1, 1, 1, 1,\n",
       "        1, 1, 1, 1, 1, 1, 1, 1, 1, 1, 1, 1, 1, 1, 1, 1, 1, 1, 1, 1, 1, 1, 1, 1,\n",
       "        1, 1, 1, 1, 1, 1, 1, 1, 1, 1, 1, 1, 1, 1, 1, 1, 1, 1, 1, 1, 1, 1, 1, 1,\n",
       "        1, 1, 1, 1, 1, 1, 1, 1, 1, 1, 1, 1, 1, 1, 1, 1, 1, 1, 1, 1, 1, 1, 1, 1,\n",
       "        1, 1, 1, 1, 1, 1, 1, 1, 1, 1, 1, 1, 1, 1, 1, 1, 1, 1, 1, 1, 1, 1, 1, 1,\n",
       "        1, 1, 1, 1, 1, 1, 1, 1, 1, 1, 1, 1, 1, 1, 1, 1, 1, 1, 1, 1, 1, 1, 1, 1,\n",
       "        1, 1, 1, 1, 1, 1, 1, 1, 1, 1, 1, 1, 1, 1, 1, 1, 1, 1, 1, 1, 1, 1, 1, 1,\n",
       "        1, 1, 1, 1, 1, 1, 1, 1, 1, 1, 1, 1, 1, 1, 1, 1, 1, 1, 1, 1, 1, 1, 1, 1,\n",
       "        1, 1, 1, 1, 1, 1, 1, 1, 1, 1, 1, 1, 1, 1, 1, 1, 1, 1, 1, 1, 1, 1],\n",
       "       device='cuda:0')"
      ]
     },
     "execution_count": 56,
     "metadata": {},
     "output_type": "execute_result"
    }
   ],
   "source": [
    "pred_tmp"
   ]
  },
  {
   "cell_type": "code",
   "execution_count": 16,
   "metadata": {},
   "outputs": [
    {
     "data": {
      "text/plain": [
       "tensor([[     0,  10257,  48461,  ...,      1,      1,      1],\n",
       "        [     0, 136820,     13,  ...,      1,      1,      1],\n",
       "        [     0, 106073,  81887,  ...,      1,      1,      1],\n",
       "        ...,\n",
       "        [     0,    360,    903,  ...,      1,      1,      1],\n",
       "        [     0,   1840,  16145,  ...,      1,      1,      1],\n",
       "        [     0,    360, 159261,  ...,      1,      1,      1]],\n",
       "       device='cuda:0')"
      ]
     },
     "execution_count": 16,
     "metadata": {},
     "output_type": "execute_result"
    }
   ],
   "source": [
    "input_ids_b"
   ]
  },
  {
   "cell_type": "code",
   "execution_count": 21,
   "metadata": {},
   "outputs": [],
   "source": [
    "np_arr = input_ids_b.cpu().numpy()"
   ]
  },
  {
   "cell_type": "code",
   "execution_count": 68,
   "metadata": {},
   "outputs": [
    {
     "data": {
      "text/plain": [
       "[array([17, 18, 44]),\n",
       " array([14, 15, 41]),\n",
       " array([23, 24, 59]),\n",
       " array([21, 22, 59]),\n",
       " array([36, 37, 95]),\n",
       " array([ 51,  52, 140]),\n",
       " array([ 56,  57, 147]),\n",
       " array([27, 28, 64])]"
      ]
     },
     "execution_count": 68,
     "metadata": {},
     "output_type": "execute_result"
    }
   ],
   "source": [
    "src_labels=[]\n",
    "tar_lables=[]\n",
    "index_labels = []\n",
    "for items in np_arr:\n",
    "#     print(np.where(items==2))\n",
    "    index_labels_tmp=np.where(items==2)\n",
    "    index_labels.append(index_labels_tmp[0])\n",
    "index_labels"
   ]
  },
  {
   "cell_type": "code",
   "execution_count": 69,
   "metadata": {},
   "outputs": [],
   "source": [
    "np_arr_labels = labels_b.cpu().numpy()"
   ]
  },
  {
   "cell_type": "code",
   "execution_count": 251,
   "metadata": {},
   "outputs": [],
   "source": [
    "def div_src_tar(input_id, labels):\n",
    "    \n",
    "    src_labels=[]\n",
    "    tar_labels=[]\n",
    "    src_labels_example = []\n",
    "    tar_labels_example = []\n",
    "    index_labels=[]\n",
    "    input_id_np = input_id.cpu().numpy()\n",
    "    np_arr_labels = labels.cpu().numpy()\n",
    "    \n",
    "    for items in input_id_np:\n",
    "        \n",
    "        index_labels_tmp=np.where(items==2)\n",
    "        index_labels.append(index_labels_tmp[0])\n",
    "    \n",
    "    for i,items in enumerate(index_labels):\n",
    "\n",
    "        src_labels.extend(np_arr_labels[i][:items[1]])\n",
    "        tar_labels.extend(np_arr_labels[i][items[1]:])\n",
    "        src_labels_example.append(np_arr_labels[i][:items[0]])\n",
    "        tar_labels_example.append(np_arr_labels[i][items[1]+1:])\n",
    "    #     (src_labels_tmp)\n",
    "    \n",
    "    #     print(src_labels_tmp,f'{i}th sentence')\n",
    "    # print(src_labels)\n",
    "    # print(tar_labels)\n",
    "    return src_labels, tar_labels,src_labels_example,tar_labels_example"
   ]
  },
  {
   "cell_type": "code",
   "execution_count": 290,
   "metadata": {},
   "outputs": [
    {
     "data": {
      "text/plain": [
       "torch.Size([2048, 2])"
      ]
     },
     "execution_count": 290,
     "metadata": {},
     "output_type": "execute_result"
    }
   ],
   "source": [
    "active_logits.shape"
   ]
  },
  {
   "cell_type": "code",
   "execution_count": 206,
   "metadata": {},
   "outputs": [
    {
     "name": "stdout",
     "output_type": "stream",
     "text": [
      "torch.Size([1822])\n"
     ]
    }
   ],
   "source": [
    "print(torch.Tensor(tar_labels).view(-1).shape)"
   ]
  },
  {
   "cell_type": "code",
   "execution_count": 252,
   "metadata": {},
   "outputs": [],
   "source": [
    "src_labels , tar_labels, src_labels_example, tar_labels_example = div_src_tar(input_ids_b,labels_b)"
   ]
  },
  {
   "cell_type": "code",
   "execution_count": 253,
   "metadata": {},
   "outputs": [],
   "source": [
    "labels_pred=[]\n",
    "for i in range(config.VALID_BATCH_SIZE):\n",
    "        labels_pred.append(flattened_predictions[i*config.MAX_LEN:(i+1)*config.MAX_LEN])\n",
    "#         labels_pred.append(flattened_predictions[])\n",
    "labels_pred_torch = torch.stack(labels_pred)"
   ]
  },
  {
   "cell_type": "code",
   "execution_count": 254,
   "metadata": {},
   "outputs": [],
   "source": [
    "src_labels_pred, tar_labels_pred , src_labels_pred_example, tar_labels_pred_example = div_src_tar(input_ids_b, labels_pred_torch)"
   ]
  },
  {
   "cell_type": "code",
   "execution_count": 247,
   "metadata": {},
   "outputs": [],
   "source": [
    "def get_gaps_labels(labels):\n",
    "    gap_labels = []\n",
    "    tar_labels = []\n",
    "    for item in labels:\n",
    "        for j,label in enumerate(item):\n",
    "            if j%2==0:\n",
    "                gap_labels.append(label)\n",
    "            else:\n",
    "                tar_labels.append(label)\n",
    "    return gap_labels, tar_labels "
   ]
  },
  {
   "cell_type": "code",
   "execution_count": 248,
   "metadata": {},
   "outputs": [],
   "source": [
    "gap_labels, tr_labels = get_gaps_labels(tar_labels_example)\n",
    "gap_labels_pred, tr_labels_pred = get_gaps_labels(tar_labels_pred_example) "
   ]
  },
  {
   "cell_type": "code",
   "execution_count": 2,
   "metadata": {},
   "outputs": [
    {
     "ename": "NameError",
     "evalue": "name 'src_labels' is not defined",
     "output_type": "error",
     "traceback": [
      "\u001b[0;31m---------------------------------------------------------------------------\u001b[0m",
      "\u001b[0;31mNameError\u001b[0m                                 Traceback (most recent call last)",
      "\u001b[0;32m<ipython-input-2-00be5d22ba72>\u001b[0m in \u001b[0;36m<module>\u001b[0;34m\u001b[0m\n\u001b[0;32m----> 1\u001b[0;31m \u001b[0mprint\u001b[0m\u001b[0;34m(\u001b[0m\u001b[0mlen\u001b[0m\u001b[0;34m(\u001b[0m\u001b[0msrc_labels\u001b[0m\u001b[0;34m)\u001b[0m\u001b[0;34m)\u001b[0m\u001b[0;34m\u001b[0m\u001b[0;34m\u001b[0m\u001b[0m\n\u001b[0m\u001b[1;32m      2\u001b[0m \u001b[0mprint\u001b[0m\u001b[0;34m(\u001b[0m\u001b[0mlen\u001b[0m\u001b[0;34m(\u001b[0m\u001b[0msrc_labels_pred\u001b[0m\u001b[0;34m)\u001b[0m\u001b[0;34m)\u001b[0m\u001b[0;34m\u001b[0m\u001b[0;34m\u001b[0m\u001b[0m\n\u001b[1;32m      3\u001b[0m \u001b[0mprint\u001b[0m\u001b[0;34m(\u001b[0m\u001b[0mlen\u001b[0m\u001b[0;34m(\u001b[0m\u001b[0mtar_labels\u001b[0m\u001b[0;34m)\u001b[0m\u001b[0;34m)\u001b[0m\u001b[0;34m\u001b[0m\u001b[0;34m\u001b[0m\u001b[0m\n\u001b[1;32m      4\u001b[0m \u001b[0mprint\u001b[0m\u001b[0;34m(\u001b[0m\u001b[0mlen\u001b[0m\u001b[0;34m(\u001b[0m\u001b[0mtar_labels_pred\u001b[0m\u001b[0;34m)\u001b[0m\u001b[0;34m)\u001b[0m\u001b[0;34m\u001b[0m\u001b[0;34m\u001b[0m\u001b[0m\n\u001b[1;32m      5\u001b[0m \u001b[0mprint\u001b[0m\u001b[0;34m(\u001b[0m\u001b[0mlen\u001b[0m\u001b[0;34m(\u001b[0m\u001b[0mgap_labels\u001b[0m\u001b[0;34m)\u001b[0m\u001b[0;34m)\u001b[0m\u001b[0;34m\u001b[0m\u001b[0;34m\u001b[0m\u001b[0m\n",
      "\u001b[0;31mNameError\u001b[0m: name 'src_labels' is not defined"
     ]
    }
   ],
   "source": [
    "print(len(src_labels))\n",
    "print(len(src_labels_pred))\n",
    "print(len(tar_labels))\n",
    "print(len(tar_labels_pred))\n",
    "print(len(gap_labels))\n",
    "print(len(gap_labels_pred))\n",
    "print(len(tr_labels))\n",
    "print(len(tr_labels_pred))"
   ]
  },
  {
   "cell_type": "code",
   "execution_count": 261,
   "metadata": {},
   "outputs": [],
   "source": [
    "tensor_src_labels = torch.Tensor(src_labels)\n",
    "tensor_tar_labels = torch.Tensor(tar_labels)\n",
    "tensor_src_labels_pred = torch.Tensor(src_labels_pred)\n",
    "tensor_tar_labels_pred = torch.Tensor(tar_labels_pred)\n",
    "tensor_gap_labels = torch.Tensor(gap_labels)\n",
    "tensor_gap_labels_pred = torch.Tensor(gap_labels_pred)\n",
    "tensor_target_labels = torch.Tensor(tr_labels)\n",
    "tensor_target_labels_pred = torch.Tensor(tr_labels_pred)"
   ]
  },
  {
   "cell_type": "code",
   "execution_count": 265,
   "metadata": {},
   "outputs": [
    {
     "name": "stdout",
     "output_type": "stream",
     "text": [
      "210\n",
      "210\n"
     ]
    }
   ],
   "source": [
    "active_accuracy = tensor_src_labels.view(-1) != -100\n",
    "src_labels_active = torch.masked_select(tensor_src_labels, active_accuracy) \n",
    "src_labels_active_pred = torch.masked_select(tensor_src_labels_pred, active_accuracy)\n",
    "print(len(src_labels_active))\n",
    "print(len(src_labels_active_pred))"
   ]
  },
  {
   "cell_type": "code",
   "execution_count": 291,
   "metadata": {},
   "outputs": [
    {
     "name": "stdout",
     "output_type": "stream",
     "text": [
      "MCC Score for source : 0.4167846642725389\n",
      "F1 Score for source : 0.9100817438692098\n",
      "              precision    recall  f1-score   support\n",
      "\n",
      "         0.0       0.91      0.24      0.38        42\n",
      "         1.0       0.84      0.99      0.91       168\n",
      "\n",
      "    accuracy                           0.84       210\n",
      "   macro avg       0.87      0.62      0.64       210\n",
      "weighted avg       0.85      0.84      0.80       210\n",
      "\n"
     ]
    }
   ],
   "source": [
    "print('MCC Score for source :',matthews_corrcoef(src_labels_active.tolist(),src_labels_active_pred.tolist()) )\n",
    "print('F1 Score for source :',f1_score(src_labels_active,src_labels_active_pred))\n",
    "print(classification_report(src_labels_active,src_labels_active_pred))"
   ]
  },
  {
   "cell_type": "code",
   "execution_count": 272,
   "metadata": {},
   "outputs": [
    {
     "name": "stdout",
     "output_type": "stream",
     "text": [
      "189\n",
      "189\n"
     ]
    }
   ],
   "source": [
    "active_accuracy = tensor_gap_labels.view(-1) != -100\n",
    "gap_labels_active = torch.masked_select(tensor_gap_labels, active_accuracy) \n",
    "gap_labels_active_pred = torch.masked_select(tensor_gap_labels_pred, active_accuracy)\n",
    "print(len(gap_labels_active))\n",
    "print(len(gap_labels_active_pred))"
   ]
  },
  {
   "cell_type": "code",
   "execution_count": 279,
   "metadata": {},
   "outputs": [
    {
     "name": "stdout",
     "output_type": "stream",
     "text": [
      "MCC Score for gap : 0.6264982043070835\n",
      "F1 Score for gap : 0.9457831325301205\n",
      "              precision    recall  f1-score   support\n",
      "\n",
      "         0.0       1.00      0.44      0.61        32\n",
      "         1.0       0.90      1.00      0.95       157\n",
      "\n",
      "    accuracy                           0.90       189\n",
      "   macro avg       0.95      0.72      0.78       189\n",
      "weighted avg       0.91      0.90      0.89       189\n",
      "\n"
     ]
    }
   ],
   "source": [
    "print('MCC Score for gap :',matthews_corrcoef(gap_labels_active,gap_labels_active_pred) )\n",
    "print('F1 Score for gap :',f1_score(gap_labels_active,gap_labels_active_pred))\n",
    "print(classification_report(gap_labels_active,gap_labels_active_pred))"
   ]
  },
  {
   "cell_type": "code",
   "execution_count": null,
   "metadata": {},
   "outputs": [],
   "source": []
  },
  {
   "cell_type": "code",
   "execution_count": 280,
   "metadata": {},
   "outputs": [
    {
     "name": "stdout",
     "output_type": "stream",
     "text": [
      "375\n",
      "375\n"
     ]
    }
   ],
   "source": [
    "active_accuracy = tensor_tar_labels.view(-1) != -100\n",
    "tar_labels_active = torch.masked_select(tensor_tar_labels, active_accuracy) \n",
    "tar_labels_active_pred = torch.masked_select(tensor_tar_labels_pred, active_accuracy)\n",
    "print(len(tar_labels_active))\n",
    "print(len(tar_labels_active_pred))"
   ]
  },
  {
   "cell_type": "code",
   "execution_count": 282,
   "metadata": {},
   "outputs": [
    {
     "name": "stdout",
     "output_type": "stream",
     "text": [
      "MCC Score for tar : 0.5609192074675643\n",
      "F1 Score for tar : 0.93993993993994\n",
      "              precision    recall  f1-score   support\n",
      "\n",
      "         0.0       1.00      0.35      0.52        62\n",
      "         1.0       0.89      1.00      0.94       313\n",
      "\n",
      "    accuracy                           0.89       375\n",
      "   macro avg       0.94      0.68      0.73       375\n",
      "weighted avg       0.91      0.89      0.87       375\n",
      "\n"
     ]
    }
   ],
   "source": [
    "print('MCC Score for tar :',matthews_corrcoef(tar_labels_active,tar_labels_active_pred) )\n",
    "print('F1 Score for tar :',f1_score(tar_labels_active,tar_labels_active_pred))\n",
    "print(classification_report(tar_labels_active,tar_labels_active_pred))"
   ]
  },
  {
   "cell_type": "code",
   "execution_count": 283,
   "metadata": {},
   "outputs": [
    {
     "name": "stdout",
     "output_type": "stream",
     "text": [
      "186\n",
      "186\n"
     ]
    }
   ],
   "source": [
    "active_accuracy = tensor_target_labels.view(-1) != -100\n",
    "target_labels_active = torch.masked_select(tensor_target_labels, active_accuracy) \n",
    "target_labels_active_pred = torch.masked_select(tensor_target_labels_pred, active_accuracy)\n",
    "print(len(target_labels_active))\n",
    "print(len(target_labels_active_pred))"
   ]
  },
  {
   "cell_type": "code",
   "execution_count": 285,
   "metadata": {},
   "outputs": [
    {
     "name": "stdout",
     "output_type": "stream",
     "text": [
      "MCC Score for tar : 0.4834334133761747\n",
      "F1 Score for tar : 0.9341317365269461\n",
      "              precision    recall  f1-score   support\n",
      "\n",
      "         0.0       1.00      0.27      0.42        30\n",
      "         1.0       0.88      1.00      0.93       156\n",
      "\n",
      "    accuracy                           0.88       186\n",
      "   macro avg       0.94      0.63      0.68       186\n",
      "weighted avg       0.90      0.88      0.85       186\n",
      "\n"
     ]
    }
   ],
   "source": [
    "print('MCC Score for tar :',matthews_corrcoef(target_labels_active,target_labels_active_pred) )\n",
    "print('F1 Score for tar :',f1_score(target_labels_active,target_labels_active_pred))\n",
    "print(classification_report(target_labels_active,target_labels_active_pred))"
   ]
  },
  {
   "cell_type": "code",
   "execution_count": 183,
   "metadata": {},
   "outputs": [
    {
     "name": "stdout",
     "output_type": "stream",
     "text": [
      "226\n",
      "[0, 41, 42, 62, 63, 80, 81, 109, 110, 147, 148, 170, 171, 197, 198, 225]\n"
     ]
    },
    {
     "ename": "IndexError",
     "evalue": "pop index out of range",
     "output_type": "error",
     "traceback": [
      "\u001b[0;31m---------------------------------------------------------------------------\u001b[0m",
      "\u001b[0;31mIndexError\u001b[0m                                Traceback (most recent call last)",
      "\u001b[0;32m<ipython-input-183-96edd45bbbba>\u001b[0m in \u001b[0;36m<module>\u001b[0;34m\u001b[0m\n\u001b[1;32m      3\u001b[0m \u001b[0mprint\u001b[0m\u001b[0;34m(\u001b[0m\u001b[0msrc_labels_rem_ind\u001b[0m\u001b[0;34m)\u001b[0m\u001b[0;34m\u001b[0m\u001b[0;34m\u001b[0m\u001b[0m\n\u001b[1;32m      4\u001b[0m \u001b[0;32mfor\u001b[0m \u001b[0mitem\u001b[0m \u001b[0;32min\u001b[0m \u001b[0msrc_labels_rem_ind\u001b[0m\u001b[0;34m:\u001b[0m\u001b[0;34m\u001b[0m\u001b[0;34m\u001b[0m\u001b[0m\n\u001b[0;32m----> 5\u001b[0;31m     \u001b[0msrc_labels_pred\u001b[0m\u001b[0;34m.\u001b[0m\u001b[0mpop\u001b[0m\u001b[0;34m(\u001b[0m\u001b[0mitem\u001b[0m\u001b[0;34m)\u001b[0m\u001b[0;34m\u001b[0m\u001b[0;34m\u001b[0m\u001b[0m\n\u001b[0m\u001b[1;32m      6\u001b[0m \u001b[0mprint\u001b[0m\u001b[0;34m(\u001b[0m\u001b[0mlen\u001b[0m\u001b[0;34m(\u001b[0m\u001b[0msrc_labels_pred\u001b[0m\u001b[0;34m)\u001b[0m\u001b[0;34m)\u001b[0m\u001b[0;34m\u001b[0m\u001b[0;34m\u001b[0m\u001b[0m\n\u001b[1;32m      7\u001b[0m \u001b[0msrc_labels_rem\u001b[0m \u001b[0;34m=\u001b[0m \u001b[0;34m[\u001b[0m\u001b[0mitem\u001b[0m \u001b[0;32mfor\u001b[0m \u001b[0mitem\u001b[0m \u001b[0;32min\u001b[0m \u001b[0msrc_labels\u001b[0m \u001b[0;32mif\u001b[0m \u001b[0mitem\u001b[0m\u001b[0;34m!=\u001b[0m\u001b[0;34m-\u001b[0m\u001b[0;36m100\u001b[0m\u001b[0;34m]\u001b[0m\u001b[0;34m\u001b[0m\u001b[0;34m\u001b[0m\u001b[0m\n",
      "\u001b[0;31mIndexError\u001b[0m: pop index out of range"
     ]
    }
   ],
   "source": [
    "# print(len(src_labels_pred))\n",
    "# src_labels_rem_ind = [i for i,item in enumerate(src_labels) if item==-100]\n",
    "# print(src_labels_rem_ind)\n",
    "# for item in src_labels_rem_ind:\n",
    "#     src_labels_pred.pop(item)\n",
    "# print(len(src_labels_pred))\n",
    "# src_labels_rem = [item for item in src_labels if item!=-100]\n",
    "# print(len(src_labels_rem))"
   ]
  },
  {
   "cell_type": "code",
   "execution_count": null,
   "metadata": {},
   "outputs": [],
   "source": []
  },
  {
   "cell_type": "code",
   "execution_count": 12,
   "metadata": {},
   "outputs": [],
   "source": [
    "class EntityModel(nn.Module):\n",
    "    \n",
    "    def __init__(self):\n",
    "        \n",
    "        super(EntityModel, self).__init__()\n",
    "        self.bert = XLMRobertaModel.from_pretrained(config.BASE_MODEL,output_attentions = False, output_hidden_states = False)\n",
    "        self.out_tag = nn.Linear(768, 2)\n",
    "    \n",
    "    def forward(self, ids, attention_mask):\n",
    "        \n",
    "        outputs = self.bert(ids,\n",
    "                                attention_mask = attention_mask,\n",
    "                                return_dict=False)\n",
    "        \n",
    "        logits = self.out_tag(outputs[0])  \n",
    "        \n",
    "        \n",
    "        return logits\n",
    "        "
   ]
  },
  {
   "cell_type": "code",
   "execution_count": 20,
   "metadata": {},
   "outputs": [],
   "source": [
    "class GaussianNoise(nn.Module):\n",
    "    \n",
    "    def __init__(self, stddev):\n",
    "        \n",
    "        super().__init__()\n",
    "        \n",
    "        self.stddev = stddev\n",
    "\n",
    "    def forward(self, din):\n",
    "        \n",
    "        if self.training:\n",
    "            return din + torch.autograd.Variable(torch.randn(din.size()).cuda() * self.stddev)\n",
    "        \n",
    "        return din"
   ]
  },
  {
   "cell_type": "code",
   "execution_count": 14,
   "metadata": {},
   "outputs": [],
   "source": [
    "class EntityModel(nn.Module):\n",
    "    \n",
    "    def __init__(self,std_gaussian=0.1,with_noise_layer = True, dropout_layer=False, dropout_prob = 0.3):\n",
    "        \n",
    "        super(EntityModel, self).__init__()\n",
    "        \n",
    "        self.std_gaussian = std_gaussian\n",
    "        self.with_noise_layer = with_noise_layer\n",
    "        self.bert = XLMRobertaModel.from_pretrained(config.BASE_MODEL,output_attentions = False, output_hidden_states = False)\n",
    "        self.dropout_layer = dropout_layer\n",
    "        self.dropout_prob = dropout_prob\n",
    "        if self.with_noise_layer:\n",
    "            self.noise = GaussianNoise(stddev=self.std_gaussian)\n",
    "        if self.dropout_layer:\n",
    "            self.bert_drop_1 = nn.Dropout(self.dropout_prob) # remove this or noise \n",
    "        self.out_tag = nn.Linear(768, 2)\n",
    "        self.softmax = nn.Softmax(dim=2)\n",
    "    \n",
    "    def forward(self, ids, attention_mask):\n",
    "        \n",
    "        outputs = self.bert(ids,\n",
    "                            attention_mask = attention_mask,\n",
    "                            return_dict=False)\n",
    "        \n",
    "        if (self.with_noise_layer):\n",
    "            \n",
    "            noise = self.noise(outputs[0]) # 256*768\n",
    "            \n",
    "            if self.dropout_layer:\n",
    "                bo_tag = self.bert_drop_1(noise)\n",
    "                tag = self.out_tag(bo_tag)\n",
    "            else:\n",
    "                tag = self.out_tag(noise)\n",
    "        \n",
    "        else:\n",
    "            \n",
    "            if self.dropout_layer:\n",
    "                bo_tag = self.bert_drop_1(outputs[0])\n",
    "                tag = self.out_tag(bo_tag)\n",
    "            \n",
    "            else :\n",
    "                tag = self.out_tag(outputs[0])\n",
    "#         tag = self.out_tag(bo_tag) # 256 * 2 \n",
    "       \n",
    "        softmax_prob = self.softmax(tag)\n",
    "        \n",
    "#         loss_tag = loss_fn(tag,labels,attention_mask)\n",
    "        \n",
    "        return softmax_prob,tag\n",
    "#         return outputs[0], outputs[1]"
   ]
  },
  {
   "cell_type": "code",
   "execution_count": 14,
   "metadata": {},
   "outputs": [
    {
     "name": "stderr",
     "output_type": "stream",
     "text": [
      "Some weights of the model checkpoint at xlm-roberta-base were not used when initializing XLMRobertaModel: ['lm_head.dense.weight', 'lm_head.layer_norm.weight', 'lm_head.decoder.weight', 'lm_head.dense.bias', 'lm_head.bias', 'lm_head.layer_norm.bias']\n",
      "- This IS expected if you are initializing XLMRobertaModel from the checkpoint of a model trained on another task or with another architecture (e.g. initializing a BertForSequenceClassification model from a BertForPreTraining model).\n",
      "- This IS NOT expected if you are initializing XLMRobertaModel from the checkpoint of a model that you expect to be exactly identical (initializing a BertForSequenceClassification model from a BertForSequenceClassification model).\n"
     ]
    },
    {
     "data": {
      "text/plain": [
       "EntityModel(\n",
       "  (bert): XLMRobertaModel(\n",
       "    (embeddings): RobertaEmbeddings(\n",
       "      (word_embeddings): Embedding(250002, 768, padding_idx=1)\n",
       "      (position_embeddings): Embedding(514, 768, padding_idx=1)\n",
       "      (token_type_embeddings): Embedding(1, 768)\n",
       "      (LayerNorm): LayerNorm((768,), eps=1e-05, elementwise_affine=True)\n",
       "      (dropout): Dropout(p=0.1, inplace=False)\n",
       "    )\n",
       "    (encoder): RobertaEncoder(\n",
       "      (layer): ModuleList(\n",
       "        (0): RobertaLayer(\n",
       "          (attention): RobertaAttention(\n",
       "            (self): RobertaSelfAttention(\n",
       "              (query): Linear(in_features=768, out_features=768, bias=True)\n",
       "              (key): Linear(in_features=768, out_features=768, bias=True)\n",
       "              (value): Linear(in_features=768, out_features=768, bias=True)\n",
       "              (dropout): Dropout(p=0.1, inplace=False)\n",
       "            )\n",
       "            (output): RobertaSelfOutput(\n",
       "              (dense): Linear(in_features=768, out_features=768, bias=True)\n",
       "              (LayerNorm): LayerNorm((768,), eps=1e-05, elementwise_affine=True)\n",
       "              (dropout): Dropout(p=0.1, inplace=False)\n",
       "            )\n",
       "          )\n",
       "          (intermediate): RobertaIntermediate(\n",
       "            (dense): Linear(in_features=768, out_features=3072, bias=True)\n",
       "          )\n",
       "          (output): RobertaOutput(\n",
       "            (dense): Linear(in_features=3072, out_features=768, bias=True)\n",
       "            (LayerNorm): LayerNorm((768,), eps=1e-05, elementwise_affine=True)\n",
       "            (dropout): Dropout(p=0.1, inplace=False)\n",
       "          )\n",
       "        )\n",
       "        (1): RobertaLayer(\n",
       "          (attention): RobertaAttention(\n",
       "            (self): RobertaSelfAttention(\n",
       "              (query): Linear(in_features=768, out_features=768, bias=True)\n",
       "              (key): Linear(in_features=768, out_features=768, bias=True)\n",
       "              (value): Linear(in_features=768, out_features=768, bias=True)\n",
       "              (dropout): Dropout(p=0.1, inplace=False)\n",
       "            )\n",
       "            (output): RobertaSelfOutput(\n",
       "              (dense): Linear(in_features=768, out_features=768, bias=True)\n",
       "              (LayerNorm): LayerNorm((768,), eps=1e-05, elementwise_affine=True)\n",
       "              (dropout): Dropout(p=0.1, inplace=False)\n",
       "            )\n",
       "          )\n",
       "          (intermediate): RobertaIntermediate(\n",
       "            (dense): Linear(in_features=768, out_features=3072, bias=True)\n",
       "          )\n",
       "          (output): RobertaOutput(\n",
       "            (dense): Linear(in_features=3072, out_features=768, bias=True)\n",
       "            (LayerNorm): LayerNorm((768,), eps=1e-05, elementwise_affine=True)\n",
       "            (dropout): Dropout(p=0.1, inplace=False)\n",
       "          )\n",
       "        )\n",
       "        (2): RobertaLayer(\n",
       "          (attention): RobertaAttention(\n",
       "            (self): RobertaSelfAttention(\n",
       "              (query): Linear(in_features=768, out_features=768, bias=True)\n",
       "              (key): Linear(in_features=768, out_features=768, bias=True)\n",
       "              (value): Linear(in_features=768, out_features=768, bias=True)\n",
       "              (dropout): Dropout(p=0.1, inplace=False)\n",
       "            )\n",
       "            (output): RobertaSelfOutput(\n",
       "              (dense): Linear(in_features=768, out_features=768, bias=True)\n",
       "              (LayerNorm): LayerNorm((768,), eps=1e-05, elementwise_affine=True)\n",
       "              (dropout): Dropout(p=0.1, inplace=False)\n",
       "            )\n",
       "          )\n",
       "          (intermediate): RobertaIntermediate(\n",
       "            (dense): Linear(in_features=768, out_features=3072, bias=True)\n",
       "          )\n",
       "          (output): RobertaOutput(\n",
       "            (dense): Linear(in_features=3072, out_features=768, bias=True)\n",
       "            (LayerNorm): LayerNorm((768,), eps=1e-05, elementwise_affine=True)\n",
       "            (dropout): Dropout(p=0.1, inplace=False)\n",
       "          )\n",
       "        )\n",
       "        (3): RobertaLayer(\n",
       "          (attention): RobertaAttention(\n",
       "            (self): RobertaSelfAttention(\n",
       "              (query): Linear(in_features=768, out_features=768, bias=True)\n",
       "              (key): Linear(in_features=768, out_features=768, bias=True)\n",
       "              (value): Linear(in_features=768, out_features=768, bias=True)\n",
       "              (dropout): Dropout(p=0.1, inplace=False)\n",
       "            )\n",
       "            (output): RobertaSelfOutput(\n",
       "              (dense): Linear(in_features=768, out_features=768, bias=True)\n",
       "              (LayerNorm): LayerNorm((768,), eps=1e-05, elementwise_affine=True)\n",
       "              (dropout): Dropout(p=0.1, inplace=False)\n",
       "            )\n",
       "          )\n",
       "          (intermediate): RobertaIntermediate(\n",
       "            (dense): Linear(in_features=768, out_features=3072, bias=True)\n",
       "          )\n",
       "          (output): RobertaOutput(\n",
       "            (dense): Linear(in_features=3072, out_features=768, bias=True)\n",
       "            (LayerNorm): LayerNorm((768,), eps=1e-05, elementwise_affine=True)\n",
       "            (dropout): Dropout(p=0.1, inplace=False)\n",
       "          )\n",
       "        )\n",
       "        (4): RobertaLayer(\n",
       "          (attention): RobertaAttention(\n",
       "            (self): RobertaSelfAttention(\n",
       "              (query): Linear(in_features=768, out_features=768, bias=True)\n",
       "              (key): Linear(in_features=768, out_features=768, bias=True)\n",
       "              (value): Linear(in_features=768, out_features=768, bias=True)\n",
       "              (dropout): Dropout(p=0.1, inplace=False)\n",
       "            )\n",
       "            (output): RobertaSelfOutput(\n",
       "              (dense): Linear(in_features=768, out_features=768, bias=True)\n",
       "              (LayerNorm): LayerNorm((768,), eps=1e-05, elementwise_affine=True)\n",
       "              (dropout): Dropout(p=0.1, inplace=False)\n",
       "            )\n",
       "          )\n",
       "          (intermediate): RobertaIntermediate(\n",
       "            (dense): Linear(in_features=768, out_features=3072, bias=True)\n",
       "          )\n",
       "          (output): RobertaOutput(\n",
       "            (dense): Linear(in_features=3072, out_features=768, bias=True)\n",
       "            (LayerNorm): LayerNorm((768,), eps=1e-05, elementwise_affine=True)\n",
       "            (dropout): Dropout(p=0.1, inplace=False)\n",
       "          )\n",
       "        )\n",
       "        (5): RobertaLayer(\n",
       "          (attention): RobertaAttention(\n",
       "            (self): RobertaSelfAttention(\n",
       "              (query): Linear(in_features=768, out_features=768, bias=True)\n",
       "              (key): Linear(in_features=768, out_features=768, bias=True)\n",
       "              (value): Linear(in_features=768, out_features=768, bias=True)\n",
       "              (dropout): Dropout(p=0.1, inplace=False)\n",
       "            )\n",
       "            (output): RobertaSelfOutput(\n",
       "              (dense): Linear(in_features=768, out_features=768, bias=True)\n",
       "              (LayerNorm): LayerNorm((768,), eps=1e-05, elementwise_affine=True)\n",
       "              (dropout): Dropout(p=0.1, inplace=False)\n",
       "            )\n",
       "          )\n",
       "          (intermediate): RobertaIntermediate(\n",
       "            (dense): Linear(in_features=768, out_features=3072, bias=True)\n",
       "          )\n",
       "          (output): RobertaOutput(\n",
       "            (dense): Linear(in_features=3072, out_features=768, bias=True)\n",
       "            (LayerNorm): LayerNorm((768,), eps=1e-05, elementwise_affine=True)\n",
       "            (dropout): Dropout(p=0.1, inplace=False)\n",
       "          )\n",
       "        )\n",
       "        (6): RobertaLayer(\n",
       "          (attention): RobertaAttention(\n",
       "            (self): RobertaSelfAttention(\n",
       "              (query): Linear(in_features=768, out_features=768, bias=True)\n",
       "              (key): Linear(in_features=768, out_features=768, bias=True)\n",
       "              (value): Linear(in_features=768, out_features=768, bias=True)\n",
       "              (dropout): Dropout(p=0.1, inplace=False)\n",
       "            )\n",
       "            (output): RobertaSelfOutput(\n",
       "              (dense): Linear(in_features=768, out_features=768, bias=True)\n",
       "              (LayerNorm): LayerNorm((768,), eps=1e-05, elementwise_affine=True)\n",
       "              (dropout): Dropout(p=0.1, inplace=False)\n",
       "            )\n",
       "          )\n",
       "          (intermediate): RobertaIntermediate(\n",
       "            (dense): Linear(in_features=768, out_features=3072, bias=True)\n",
       "          )\n",
       "          (output): RobertaOutput(\n",
       "            (dense): Linear(in_features=3072, out_features=768, bias=True)\n",
       "            (LayerNorm): LayerNorm((768,), eps=1e-05, elementwise_affine=True)\n",
       "            (dropout): Dropout(p=0.1, inplace=False)\n",
       "          )\n",
       "        )\n",
       "        (7): RobertaLayer(\n",
       "          (attention): RobertaAttention(\n",
       "            (self): RobertaSelfAttention(\n",
       "              (query): Linear(in_features=768, out_features=768, bias=True)\n",
       "              (key): Linear(in_features=768, out_features=768, bias=True)\n",
       "              (value): Linear(in_features=768, out_features=768, bias=True)\n",
       "              (dropout): Dropout(p=0.1, inplace=False)\n",
       "            )\n",
       "            (output): RobertaSelfOutput(\n",
       "              (dense): Linear(in_features=768, out_features=768, bias=True)\n",
       "              (LayerNorm): LayerNorm((768,), eps=1e-05, elementwise_affine=True)\n",
       "              (dropout): Dropout(p=0.1, inplace=False)\n",
       "            )\n",
       "          )\n",
       "          (intermediate): RobertaIntermediate(\n",
       "            (dense): Linear(in_features=768, out_features=3072, bias=True)\n",
       "          )\n",
       "          (output): RobertaOutput(\n",
       "            (dense): Linear(in_features=3072, out_features=768, bias=True)\n",
       "            (LayerNorm): LayerNorm((768,), eps=1e-05, elementwise_affine=True)\n",
       "            (dropout): Dropout(p=0.1, inplace=False)\n",
       "          )\n",
       "        )\n",
       "        (8): RobertaLayer(\n",
       "          (attention): RobertaAttention(\n",
       "            (self): RobertaSelfAttention(\n",
       "              (query): Linear(in_features=768, out_features=768, bias=True)\n",
       "              (key): Linear(in_features=768, out_features=768, bias=True)\n",
       "              (value): Linear(in_features=768, out_features=768, bias=True)\n",
       "              (dropout): Dropout(p=0.1, inplace=False)\n",
       "            )\n",
       "            (output): RobertaSelfOutput(\n",
       "              (dense): Linear(in_features=768, out_features=768, bias=True)\n",
       "              (LayerNorm): LayerNorm((768,), eps=1e-05, elementwise_affine=True)\n",
       "              (dropout): Dropout(p=0.1, inplace=False)\n",
       "            )\n",
       "          )\n",
       "          (intermediate): RobertaIntermediate(\n",
       "            (dense): Linear(in_features=768, out_features=3072, bias=True)\n",
       "          )\n",
       "          (output): RobertaOutput(\n",
       "            (dense): Linear(in_features=3072, out_features=768, bias=True)\n",
       "            (LayerNorm): LayerNorm((768,), eps=1e-05, elementwise_affine=True)\n",
       "            (dropout): Dropout(p=0.1, inplace=False)\n",
       "          )\n",
       "        )\n",
       "        (9): RobertaLayer(\n",
       "          (attention): RobertaAttention(\n",
       "            (self): RobertaSelfAttention(\n",
       "              (query): Linear(in_features=768, out_features=768, bias=True)\n",
       "              (key): Linear(in_features=768, out_features=768, bias=True)\n",
       "              (value): Linear(in_features=768, out_features=768, bias=True)\n",
       "              (dropout): Dropout(p=0.1, inplace=False)\n",
       "            )\n",
       "            (output): RobertaSelfOutput(\n",
       "              (dense): Linear(in_features=768, out_features=768, bias=True)\n",
       "              (LayerNorm): LayerNorm((768,), eps=1e-05, elementwise_affine=True)\n",
       "              (dropout): Dropout(p=0.1, inplace=False)\n",
       "            )\n",
       "          )\n",
       "          (intermediate): RobertaIntermediate(\n",
       "            (dense): Linear(in_features=768, out_features=3072, bias=True)\n",
       "          )\n",
       "          (output): RobertaOutput(\n",
       "            (dense): Linear(in_features=3072, out_features=768, bias=True)\n",
       "            (LayerNorm): LayerNorm((768,), eps=1e-05, elementwise_affine=True)\n",
       "            (dropout): Dropout(p=0.1, inplace=False)\n",
       "          )\n",
       "        )\n",
       "        (10): RobertaLayer(\n",
       "          (attention): RobertaAttention(\n",
       "            (self): RobertaSelfAttention(\n",
       "              (query): Linear(in_features=768, out_features=768, bias=True)\n",
       "              (key): Linear(in_features=768, out_features=768, bias=True)\n",
       "              (value): Linear(in_features=768, out_features=768, bias=True)\n",
       "              (dropout): Dropout(p=0.1, inplace=False)\n",
       "            )\n",
       "            (output): RobertaSelfOutput(\n",
       "              (dense): Linear(in_features=768, out_features=768, bias=True)\n",
       "              (LayerNorm): LayerNorm((768,), eps=1e-05, elementwise_affine=True)\n",
       "              (dropout): Dropout(p=0.1, inplace=False)\n",
       "            )\n",
       "          )\n",
       "          (intermediate): RobertaIntermediate(\n",
       "            (dense): Linear(in_features=768, out_features=3072, bias=True)\n",
       "          )\n",
       "          (output): RobertaOutput(\n",
       "            (dense): Linear(in_features=3072, out_features=768, bias=True)\n",
       "            (LayerNorm): LayerNorm((768,), eps=1e-05, elementwise_affine=True)\n",
       "            (dropout): Dropout(p=0.1, inplace=False)\n",
       "          )\n",
       "        )\n",
       "        (11): RobertaLayer(\n",
       "          (attention): RobertaAttention(\n",
       "            (self): RobertaSelfAttention(\n",
       "              (query): Linear(in_features=768, out_features=768, bias=True)\n",
       "              (key): Linear(in_features=768, out_features=768, bias=True)\n",
       "              (value): Linear(in_features=768, out_features=768, bias=True)\n",
       "              (dropout): Dropout(p=0.1, inplace=False)\n",
       "            )\n",
       "            (output): RobertaSelfOutput(\n",
       "              (dense): Linear(in_features=768, out_features=768, bias=True)\n",
       "              (LayerNorm): LayerNorm((768,), eps=1e-05, elementwise_affine=True)\n",
       "              (dropout): Dropout(p=0.1, inplace=False)\n",
       "            )\n",
       "          )\n",
       "          (intermediate): RobertaIntermediate(\n",
       "            (dense): Linear(in_features=768, out_features=3072, bias=True)\n",
       "          )\n",
       "          (output): RobertaOutput(\n",
       "            (dense): Linear(in_features=3072, out_features=768, bias=True)\n",
       "            (LayerNorm): LayerNorm((768,), eps=1e-05, elementwise_affine=True)\n",
       "            (dropout): Dropout(p=0.1, inplace=False)\n",
       "          )\n",
       "        )\n",
       "      )\n",
       "    )\n",
       "    (pooler): RobertaPooler(\n",
       "      (dense): Linear(in_features=768, out_features=768, bias=True)\n",
       "      (activation): Tanh()\n",
       "    )\n",
       "  )\n",
       "  (out_tag): Linear(in_features=768, out_features=2, bias=True)\n",
       ")"
      ]
     },
     "execution_count": 14,
     "metadata": {},
     "output_type": "execute_result"
    }
   ],
   "source": [
    "engine = reload(engine)\n",
    "model = EntityModel()\n",
    "model.cuda()"
   ]
  },
  {
   "cell_type": "code",
   "execution_count": 22,
   "metadata": {},
   "outputs": [],
   "source": [
    "model = EntityModel()\n",
    "model.cuda()"
   ]
  },
  {
   "cell_type": "code",
   "execution_count": 15,
   "metadata": {},
   "outputs": [
    {
     "name": "stderr",
     "output_type": "stream",
     "text": [
      "/opt/conda/lib/python3.6/site-packages/transformers/optimization.py:309: FutureWarning: This implementation of AdamW is deprecated and will be removed in a future version. Use thePyTorch implementation torch.optim.AdamW instead, or set `no_deprecation_warning=True` to disable this warning\n",
      "  FutureWarning,\n"
     ]
    }
   ],
   "source": [
    "param_optimizer = list(model.named_parameters())\n",
    "no_decay = [\"bias\", \"LayerNorm.bias\", \"LayerNorm.weight\"]\n",
    "optimizer_parameters = [\n",
    "    {\n",
    "        \"params\": [\n",
    "            p for n, p in param_optimizer if not any(nd in n for nd in no_decay)\n",
    "        ],\n",
    "        \"weight_decay\": 0.001,\n",
    "    },\n",
    "    {\n",
    "        \"params\": [\n",
    "            p for n, p in param_optimizer if any(nd in n for nd in no_decay)\n",
    "        ],\n",
    "        \"weight_decay\": 0.0,\n",
    "    },\n",
    "]\n",
    "num_train_steps = int(len(dataset_train) / config.TRAIN_BATCH_SIZE * config.EPOCHS) #10 is the batchsize\n",
    "optimizer = AdamW(optimizer_parameters, lr=2e-5) # used 3e-5\n",
    "scheduler = get_linear_schedule_with_warmup(\n",
    "    optimizer, num_warmup_steps=0, num_training_steps=num_train_steps\n",
    ")\n",
    "early_stopping = EarlyStopping(patience=4)"
   ]
  },
  {
   "cell_type": "code",
   "execution_count": 16,
   "metadata": {},
   "outputs": [],
   "source": [
    "engine = reload(engine)"
   ]
  },
  {
   "cell_type": "code",
   "execution_count": 17,
   "metadata": {},
   "outputs": [
    {
     "name": "stderr",
     "output_type": "stream",
     "text": [
      "  0%|          | 0/1750 [00:00<?, ?it/s]"
     ]
    },
    {
     "name": "stdout",
     "output_type": "stream",
     "text": [
      "Epoch 1 of 2\n",
      "[2022-03-02 16:02:10.430 pytorch-1-6-gpu-py-ml-g4dn-8xlarge-d01940f40012030c1b9f0e178db4:31 INFO utils.py:27] RULE_JOB_STOP_SIGNAL_FILENAME: None\n",
      "[2022-03-02 16:02:10.463 pytorch-1-6-gpu-py-ml-g4dn-8xlarge-d01940f40012030c1b9f0e178db4:31 INFO profiler_config_parser.py:102] Unable to find config at /opt/ml/input/config/profilerconfig.json. Profiler is disabled.\n"
     ]
    },
    {
     "name": "stderr",
     "output_type": "stream",
     "text": [
      "INFO:numexpr.utils:Note: NumExpr detected 32 cores but \"NUMEXPR_MAX_THREADS\" not set, so enforcing safe limit of 8.INFO:numexpr.utils:Note: NumExpr detected 32 cores but \"NUMEXPR_MAX_THREADS\" not set, so enforcing safe limit of 8.\n",
      "\n",
      "INFO:numexpr.utils:NumExpr defaulting to 8 threads.INFO:numexpr.utils:NumExpr defaulting to 8 threads.\n",
      "\n",
      "/root/Thesis/src/code/code_files/engine.py:411: VisibleDeprecationWarning: Creating an ndarray from ragged nested sequences (which is a list-or-tuple of lists-or-tuples-or ndarrays with different lengths or shapes) is deprecated. If you meant to do this, you must specify 'dtype=object' when creating the ndarray\n",
      "  np_arr_labels = np.array(tar_labels)\n",
      "  1%|          | 20/1750 [00:07<10:08,  2.84it/s]\n",
      "  0%|          | 0/250 [00:00<?, ?it/s]"
     ]
    },
    {
     "name": "stdout",
     "output_type": "stream",
     "text": [
      "bert.pooler.dense.weight None\n",
      "bert.pooler.dense.bias None\n",
      "Average F1 Training score for class 0 : 0.24324881467738607\n",
      "Average F1 Training score for class 1 : 0.45036682138044615\n",
      "Average Accuracy Training score  : 0.3632263660017346\n",
      "Average mcc Training score  : 0.10887773645196733\n",
      "Average F1 Training score for source sentence class 0 : 0.21931871208586096\n",
      "Average F1 Training score for source sentence class 1 : 0.20295378751786566\n",
      "Average Accuracy Training score source sentence  : 0.21122112211221122\n",
      "Average mcc Training score source sentence : -0.0017817369458477603\n",
      "Average F1 Training score for target sentence class 0 : 0.2969619169875909\n",
      "Average F1 Training score for target sentence class 1 : 0.23616922361692236\n",
      "Average Accuracy Training score target sentence  : 0.267825311942959\n",
      "Average mcc Training score target sentence : 0.03489881039818173\n",
      "Average F1 Training score for gaps in target sentence class 0 : 0.04312668463611861\n",
      "Average F1 Training score for gaps in target sentence class 1 : 0.8538493207081103\n",
      "Average Accuracy Training score gaps in target sentence  : 0.7464285714285714\n",
      "Average mcc Training score gaps in target sentence : -0.0086418740747379\n",
      "Average F1 Training score for whole target sentence class 0 : 0.26218611521418017\n",
      "Average F1 Training score for whole target sentence class 1 : 0.5637554585152839\n",
      "Average Accuracy Training score whole target sentence  : 0.4517014270032931\n",
      "Average mcc Training score whole target sentence : 0.1568300128237209\n",
      "              precision    recall  f1-score   support\n",
      "\n",
      "           0       0.14      0.85      0.24       691\n",
      "           1       0.94      0.30      0.45      5074\n",
      "\n",
      "    accuracy                           0.36      5765\n",
      "   macro avg       0.54      0.58      0.35      5765\n",
      "weighted avg       0.84      0.36      0.43      5765\n",
      "\n"
     ]
    },
    {
     "name": "stderr",
     "output_type": "stream",
     "text": [
      "INFO:numexpr.utils:Note: NumExpr detected 32 cores but \"NUMEXPR_MAX_THREADS\" not set, so enforcing safe limit of 8.INFO:numexpr.utils:Note: NumExpr detected 32 cores but \"NUMEXPR_MAX_THREADS\" not set, so enforcing safe limit of 8.\n",
      "\n",
      "INFO:numexpr.utils:NumExpr defaulting to 8 threads.INFO:numexpr.utils:NumExpr defaulting to 8 threads.\n",
      "\n",
      "  0%|          | 0/250 [00:00<?, ?it/s]\n"
     ]
    },
    {
     "ename": "TypeError",
     "evalue": "forward() got an unexpected keyword argument 'labels'",
     "output_type": "error",
     "traceback": [
      "\u001b[0;31m---------------------------------------------------------------------------\u001b[0m",
      "\u001b[0;31mTypeError\u001b[0m                                 Traceback (most recent call last)",
      "\u001b[0;32m<ipython-input-17-736236ef198c>\u001b[0m in \u001b[0;36m<module>\u001b[0;34m\u001b[0m\n\u001b[1;32m      6\u001b[0m     \u001b[0mtrain_metrics\u001b[0m \u001b[0;34m=\u001b[0m \u001b[0mengine\u001b[0m\u001b[0;34m.\u001b[0m\u001b[0mtrain_fn\u001b[0m\u001b[0;34m(\u001b[0m\u001b[0mtrain_dataloader\u001b[0m\u001b[0;34m,\u001b[0m \u001b[0mmodel\u001b[0m\u001b[0;34m,\u001b[0m \u001b[0moptimizer\u001b[0m\u001b[0;34m,\u001b[0m \u001b[0mscheduler\u001b[0m\u001b[0;34m)\u001b[0m\u001b[0;34m\u001b[0m\u001b[0;34m\u001b[0m\u001b[0m\n\u001b[1;32m      7\u001b[0m     \u001b[0mprint\u001b[0m\u001b[0;34m(\u001b[0m\u001b[0mclassification_report\u001b[0m\u001b[0;34m(\u001b[0m\u001b[0mtrain_metrics\u001b[0m\u001b[0;34m[\u001b[0m\u001b[0;36m21\u001b[0m\u001b[0;34m]\u001b[0m\u001b[0;34m,\u001b[0m\u001b[0mtrain_metrics\u001b[0m\u001b[0;34m[\u001b[0m\u001b[0;36m22\u001b[0m\u001b[0;34m]\u001b[0m\u001b[0;34m)\u001b[0m\u001b[0;34m)\u001b[0m\u001b[0;34m\u001b[0m\u001b[0;34m\u001b[0m\u001b[0m\n\u001b[0;32m----> 8\u001b[0;31m     \u001b[0mtest_metrics\u001b[0m \u001b[0;34m=\u001b[0m \u001b[0mengine\u001b[0m\u001b[0;34m.\u001b[0m\u001b[0meval_fn\u001b[0m\u001b[0;34m(\u001b[0m\u001b[0mval_dataloader\u001b[0m\u001b[0;34m,\u001b[0m \u001b[0mmodel\u001b[0m\u001b[0;34m)\u001b[0m\u001b[0;34m\u001b[0m\u001b[0;34m\u001b[0m\u001b[0m\n\u001b[0m\u001b[1;32m      9\u001b[0m     \u001b[0mprint\u001b[0m\u001b[0;34m(\u001b[0m\u001b[0mclassification_report\u001b[0m\u001b[0;34m(\u001b[0m\u001b[0mtest_metrics\u001b[0m\u001b[0;34m[\u001b[0m\u001b[0;36m21\u001b[0m\u001b[0;34m]\u001b[0m\u001b[0;34m,\u001b[0m\u001b[0mtest_metrics\u001b[0m\u001b[0;34m[\u001b[0m\u001b[0;36m22\u001b[0m\u001b[0;34m]\u001b[0m\u001b[0;34m)\u001b[0m\u001b[0;34m)\u001b[0m\u001b[0;34m\u001b[0m\u001b[0;34m\u001b[0m\u001b[0m\n\u001b[1;32m     10\u001b[0m     \u001b[0mprint\u001b[0m\u001b[0;34m(\u001b[0m\u001b[0;34m'For gaps : '\u001b[0m\u001b[0;34m,\u001b[0m\u001b[0mclassification_report\u001b[0m\u001b[0;34m(\u001b[0m\u001b[0mtest_metrics\u001b[0m\u001b[0;34m[\u001b[0m\u001b[0;36m27\u001b[0m\u001b[0;34m]\u001b[0m\u001b[0;34m,\u001b[0m\u001b[0mtest_metrics\u001b[0m\u001b[0;34m[\u001b[0m\u001b[0;36m28\u001b[0m\u001b[0;34m]\u001b[0m\u001b[0;34m)\u001b[0m \u001b[0;34m)\u001b[0m\u001b[0;34m\u001b[0m\u001b[0;34m\u001b[0m\u001b[0m\n",
      "\u001b[0;32m~/Thesis/src/code/code_files/engine.py\u001b[0m in \u001b[0;36meval_fn\u001b[0;34m(data_loader, model, large_model)\u001b[0m\n\u001b[1;32m    216\u001b[0m     \u001b[0;31m#         torch.set_grad_enabled(False)\u001b[0m\u001b[0;34m\u001b[0m\u001b[0;34m\u001b[0m\u001b[0;34m\u001b[0m\u001b[0m\n\u001b[1;32m    217\u001b[0m             _ , outputs = model(b_input_ids, \n\u001b[0;32m--> 218\u001b[0;31m                             attention_mask=b_input_mask,labels=b_labels)\n\u001b[0m\u001b[1;32m    219\u001b[0m \u001b[0;34m\u001b[0m\u001b[0m\n\u001b[1;32m    220\u001b[0m                 \u001b[0;31m# Get the loss from the outputs tuple: (loss, logits)\u001b[0m\u001b[0;34m\u001b[0m\u001b[0;34m\u001b[0m\u001b[0;34m\u001b[0m\u001b[0m\n",
      "\u001b[0;32m/opt/conda/lib/python3.6/site-packages/torch/nn/modules/module.py\u001b[0m in \u001b[0;36m_call_impl\u001b[0;34m(self, *input, **kwargs)\u001b[0m\n\u001b[1;32m    748\u001b[0m             \u001b[0mresult\u001b[0m \u001b[0;34m=\u001b[0m \u001b[0mself\u001b[0m\u001b[0;34m.\u001b[0m\u001b[0m_slow_forward\u001b[0m\u001b[0;34m(\u001b[0m\u001b[0;34m*\u001b[0m\u001b[0minput\u001b[0m\u001b[0;34m,\u001b[0m \u001b[0;34m**\u001b[0m\u001b[0mkwargs\u001b[0m\u001b[0;34m)\u001b[0m\u001b[0;34m\u001b[0m\u001b[0;34m\u001b[0m\u001b[0m\n\u001b[1;32m    749\u001b[0m         \u001b[0;32melse\u001b[0m\u001b[0;34m:\u001b[0m\u001b[0;34m\u001b[0m\u001b[0;34m\u001b[0m\u001b[0m\n\u001b[0;32m--> 750\u001b[0;31m             \u001b[0mresult\u001b[0m \u001b[0;34m=\u001b[0m \u001b[0mself\u001b[0m\u001b[0;34m.\u001b[0m\u001b[0mforward\u001b[0m\u001b[0;34m(\u001b[0m\u001b[0;34m*\u001b[0m\u001b[0minput\u001b[0m\u001b[0;34m,\u001b[0m \u001b[0;34m**\u001b[0m\u001b[0mkwargs\u001b[0m\u001b[0;34m)\u001b[0m\u001b[0;34m\u001b[0m\u001b[0;34m\u001b[0m\u001b[0m\n\u001b[0m\u001b[1;32m    751\u001b[0m         for hook in itertools.chain(\n\u001b[1;32m    752\u001b[0m                 \u001b[0m_global_forward_hooks\u001b[0m\u001b[0;34m.\u001b[0m\u001b[0mvalues\u001b[0m\u001b[0;34m(\u001b[0m\u001b[0;34m)\u001b[0m\u001b[0;34m,\u001b[0m\u001b[0;34m\u001b[0m\u001b[0;34m\u001b[0m\u001b[0m\n",
      "\u001b[0;31mTypeError\u001b[0m: forward() got an unexpected keyword argument 'labels'"
     ]
    }
   ],
   "source": [
    "best_accuracy = -1\n",
    "train_loss_lst = []\n",
    "val_loss_lst = []\n",
    "for epoch in range(config.EPOCHS):\n",
    "    print(f'Epoch {epoch+1} of {config.EPOCHS}')\n",
    "    train_metrics = engine.train_fn(train_dataloader, model, optimizer, scheduler)\n",
    "    print(classification_report(train_metrics[21],train_metrics[22]))\n",
    "    test_metrics = engine.eval_fn(val_dataloader, model)\n",
    "    print(classification_report(test_metrics[21],test_metrics[22]))\n",
    "    print('For gaps : ',classification_report(test_metrics[27],test_metrics[28]) )\n",
    "    print('For tar :',classification_report(test_metrics[25],test_metrics[26]) )\n",
    "    print('For source : ',classification_report(test_metrics[23],test_metrics[24]) )\n",
    "    print(f\"Train Loss = {train_metrics[0]} Valid Loss = {test_metrics[0]}\")\n",
    "    train_loss_lst.append(train_metrics[:-2])\n",
    "    val_loss_lst.append(test_metrics[:-14])\n",
    "    break\n",
    "            "
   ]
  },
  {
   "cell_type": "code",
   "execution_count": 25,
   "metadata": {},
   "outputs": [],
   "source": [
    "engine = reload(engine)"
   ]
  },
  {
   "cell_type": "code",
   "execution_count": 32,
   "metadata": {},
   "outputs": [
    {
     "name": "stdout",
     "output_type": "stream",
     "text": [
      "tensor([[-7.2774e-05, -2.2187e-05, -1.0297e-05,  ..., -4.3232e-05,\n",
      "         -3.3814e-04, -6.6004e-05],\n",
      "        [ 0.0000e+00,  0.0000e+00,  0.0000e+00,  ...,  0.0000e+00,\n",
      "          0.0000e+00,  0.0000e+00],\n",
      "        [ 1.8025e-04, -3.9493e-05, -1.3698e-04,  ..., -2.3963e-05,\n",
      "         -7.5404e-05, -1.3387e-04],\n",
      "        ...,\n",
      "        [ 0.0000e+00,  0.0000e+00,  0.0000e+00,  ...,  0.0000e+00,\n",
      "          0.0000e+00,  0.0000e+00],\n",
      "        [ 0.0000e+00,  0.0000e+00,  0.0000e+00,  ...,  0.0000e+00,\n",
      "          0.0000e+00,  0.0000e+00],\n",
      "        [ 0.0000e+00,  0.0000e+00,  0.0000e+00,  ...,  0.0000e+00,\n",
      "          0.0000e+00,  0.0000e+00]], device='cuda:0')\n"
     ]
    }
   ],
   "source": [
    "for n,p in model.named_parameters():\n",
    "    print (p.grad)\n",
    "    break"
   ]
  },
  {
   "cell_type": "code",
   "execution_count": 28,
   "metadata": {},
   "outputs": [
    {
     "name": "stderr",
     "output_type": "stream",
     "text": [
      "Some weights of the model checkpoint at xlm-roberta-base were not used when initializing XLMRobertaForTokenClassification: ['lm_head.bias', 'lm_head.layer_norm.weight', 'lm_head.dense.weight', 'lm_head.layer_norm.bias', 'lm_head.dense.bias', 'lm_head.decoder.weight']\n",
      "- This IS expected if you are initializing XLMRobertaForTokenClassification from the checkpoint of a model trained on another task or with another architecture (e.g. initializing a BertForSequenceClassification model from a BertForPreTraining model).\n",
      "- This IS NOT expected if you are initializing XLMRobertaForTokenClassification from the checkpoint of a model that you expect to be exactly identical (initializing a BertForSequenceClassification model from a BertForSequenceClassification model).\n",
      "Some weights of XLMRobertaForTokenClassification were not initialized from the model checkpoint at xlm-roberta-base and are newly initialized: ['classifier.bias', 'classifier.weight']\n",
      "You should probably TRAIN this model on a down-stream task to be able to use it for predictions and inference.\n"
     ]
    }
   ],
   "source": [
    "model_new = EntityModel()"
   ]
  },
  {
   "cell_type": "code",
   "execution_count": 30,
   "metadata": {},
   "outputs": [],
   "source": [
    "for n,p in model_new.named_parameters():\n",
    "    if p.grad==None:\n",
    "        break"
   ]
  },
  {
   "cell_type": "code",
   "execution_count": null,
   "metadata": {},
   "outputs": [],
   "source": []
  }
 ],
 "metadata": {
  "instance_type": "ml.g4dn.xlarge",
  "kernelspec": {
   "display_name": "Python 3 (PyTorch 1.6 Python 3.6 GPU Optimized)",
   "language": "python",
   "name": "python3__SAGEMAKER_INTERNAL__arn:aws:sagemaker:eu-west-1:470317259841:image/pytorch-1.6-gpu-py36-cu110-ubuntu18.04-v3"
  },
  "language_info": {
   "codemirror_mode": {
    "name": "ipython",
    "version": 3
   },
   "file_extension": ".py",
   "mimetype": "text/x-python",
   "name": "python",
   "nbconvert_exporter": "python",
   "pygments_lexer": "ipython3",
   "version": "3.6.13"
  }
 },
 "nbformat": 4,
 "nbformat_minor": 4
}
